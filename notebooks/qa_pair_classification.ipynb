{
 "cells": [
  {
   "cell_type": "code",
   "execution_count": 1,
   "metadata": {},
   "outputs": [],
   "source": [
    "import os\n",
    "import sys\n",
    "import pandas as pd\n",
    "import numpy as np\n",
    "import matplotlib.pyplot as plt\n",
    "\n",
    "qa_pairs_train_path = './vqa_train_df.tsv'\n",
    "qa_pairs_val_path = './vqa_val_df.tsv'"
   ]
  },
  {
   "cell_type": "code",
   "execution_count": 2,
   "metadata": {},
   "outputs": [],
   "source": [
    "qa_pairs_df = pd.read_csv(qa_pairs_train_path, sep='\\t')"
   ]
  },
  {
   "cell_type": "code",
   "execution_count": 3,
   "metadata": {},
   "outputs": [
    {
     "data": {
      "text/plain": [
       "yes              253109\n",
       "no               243915\n",
       "wall               5691\n",
       "sky                5682\n",
       "tree               4545\n",
       "right              3499\n",
       "building           3257\n",
       "table              3117\n",
       "floor              3079\n",
       "light              2616\n",
       "window             2544\n",
       "road               2472\n",
       "chair              2248\n",
       "frame              2107\n",
       "plant              1955\n",
       "grass              1744\n",
       "middle             1743\n",
       "people             1701\n",
       "vehicle            1573\n",
       "wooden             1529\n",
       "glass              1521\n",
       "person             1404\n",
       "two                1398\n",
       "front              1388\n",
       "door               1365\n",
       "ceiling            1324\n",
       "lamp               1302\n",
       "board              1270\n",
       "pole               1266\n",
       "bed                1232\n",
       "                  ...  \n",
       "machinery             5\n",
       "pen holder            5\n",
       "water surface         5\n",
       "picket fence          5\n",
       "scarf                 5\n",
       "moss                  5\n",
       "direction             5\n",
       "dust bin              5\n",
       "hand railing          5\n",
       "wave                  5\n",
       "scrap                 5\n",
       "light house           5\n",
       "flight                5\n",
       "clay                  5\n",
       "seashore              5\n",
       "roofing               5\n",
       "fire hydrant          5\n",
       "closet                5\n",
       "metal railing         5\n",
       "chess board           5\n",
       "waste                 5\n",
       "exhaust fan           5\n",
       "fire place            5\n",
       "tyre                  5\n",
       "model                 5\n",
       "induction             5\n",
       "scenery               5\n",
       "self                  5\n",
       "lid                   5\n",
       "blackboard            5\n",
       "Name: answer, Length: 756, dtype: int64"
      ]
     },
     "execution_count": 3,
     "metadata": {},
     "output_type": "execute_result"
    }
   ],
   "source": [
    "qa_pairs_df['answer'].value_counts()"
   ]
  },
  {
   "cell_type": "code",
   "execution_count": 4,
   "metadata": {},
   "outputs": [],
   "source": [
    "qa_pairs_df.head(50)\n",
    "df = qa_pairs_df"
   ]
  },
  {
   "cell_type": "code",
   "execution_count": 5,
   "metadata": {},
   "outputs": [],
   "source": [
    "# 'where' question\n",
    "where_q = df[\n",
    "    (\n",
    "        df['question'].str.contains('where', case=False)\n",
    "        & ~df['question'].str.contains('what', case=False)\n",
    "    )\n",
    "    | (df['answer'] == 'right')\n",
    "    | (df['answer'] == 'left')\n",
    "]\n",
    "\n",
    "# 'what color' question\n",
    "what_color_q = df[df['question'].str.contains('what color', case=False)]\n",
    "\n",
    "# 'how many' question\n",
    "how_many_q = df[df['question'].str.contains('how many', case=False)]\n",
    "\n",
    "# 'yes/no' question\n",
    "binary_q = df[(df['answer'] == 'yes') | (df['answer'] == 'no')]\n",
    "\n",
    "# object question\n",
    "object_q = df[\n",
    "    (~df.index.isin(where_q.index))\n",
    "    & (~df.index.isin(what_color_q.index))\n",
    "    & (~df.index.isin(how_many_q.index))\n",
    "    & (~df.index.isin(binary_q.index))\n",
    "]\n"
   ]
  },
  {
   "cell_type": "code",
   "execution_count": 6,
   "metadata": {},
   "outputs": [
    {
     "name": "stdout",
     "output_type": "stream",
     "text": [
      "7478\n",
      "3876\n",
      "2507\n",
      "497024\n",
      "111075\n"
     ]
    }
   ],
   "source": [
    "print(len(where_q.index))\n",
    "print(len(what_color_q.index))\n",
    "print(len(how_many_q.index))\n",
    "print(len(binary_q.index))\n",
    "print(len(object_q.index))\n",
    "q_stats = {\n",
    "    'where': len(where_q.index),\n",
    "    'what_color': len(what_color_q.index),\n",
    "    'how_many': len(how_many_q.index),\n",
    "    'binary': len(binary_q.index),\n",
    "    'object': len(object_q.index)\n",
    "}"
   ]
  },
  {
   "cell_type": "code",
   "execution_count": 7,
   "metadata": {},
   "outputs": [],
   "source": [
    "import matplotlib.pyplot as plt\n",
    "\n",
    "def draw_question_distribution(qs):\n",
    "    scene_names = qs.keys()\n",
    "    scene_counts = qs.values()\n",
    "    x_pos = [i for i, _ in enumerate(scene_names)]\n",
    "\n",
    "    plt.barh(x_pos, scene_counts, color='green')\n",
    "    plt.ylabel(\"Scene name\")\n",
    "    plt.xlabel(\"Number of images\")\n",
    "    plt.title(\"Distribution of scenes from ADE20K\")\n",
    "\n",
    "    plt.yticks(x_pos, scene_names)\n",
    "\n",
    "    plt.show()"
   ]
  },
  {
   "cell_type": "code",
   "execution_count": 8,
   "metadata": {},
   "outputs": [
    {
     "data": {
      "image/png": "[encoded data removed]",
      "text/plain": [
       "<Figure size 432x288 with 1 Axes>"
      ]
     },
     "metadata": {
      "needs_background": "light"
     },
     "output_type": "display_data"
    }
   ],
   "source": [
    "draw_question_distribution(q_stats)"
   ]
  },
  {
   "cell_type": "code",
   "execution_count": 9,
   "metadata": {},
   "outputs": [
    {
     "data": {
      "text/html": [
       "<div>\n",
       "<style scoped>\n",
       "    .dataframe tbody tr th:only-of-type {\n",
       "        vertical-align: middle;\n",
       "    }\n",
       "\n",
       "    .dataframe tbody tr th {\n",
       "        vertical-align: top;\n",
       "    }\n",
       "\n",
       "    .dataframe thead th {\n",
       "        text-align: right;\n",
       "    }\n",
       "</style>\n",
       "<table border=\"1\" class=\"dataframe\">\n",
       "  <thead>\n",
       "    <tr style=\"text-align: right;\">\n",
       "      <th></th>\n",
       "      <th>img_id</th>\n",
       "      <th>question</th>\n",
       "      <th>answer</th>\n",
       "    </tr>\n",
       "  </thead>\n",
       "  <tbody>\n",
       "  </tbody>\n",
       "</table>\n",
       "</div>"
      ],
      "text/plain": [
       "Empty DataFrame\n",
       "Columns: [img_id, question, answer]\n",
       "Index: []"
      ]
     },
     "execution_count": 9,
     "metadata": {},
     "output_type": "execute_result"
    }
   ],
   "source": [
    "object_q[object_q['answer'] == 'blue']"
   ]
  },
  {
   "cell_type": "code",
   "execution_count": 10,
   "metadata": {},
   "outputs": [
    {
     "data": {
      "text/plain": [
       "array(['black', 'clear', 'blue', 'green', 'white', 'brown', 'yellow',\n",
       "       'cloudy', 'red', 'pink', 'different', 'orange', 'light', 'grey',\n",
       "       'dark', 'maroon', 'gray', 'sky', 'flag', 'color', 'cream',\n",
       "       'wooden', 'silver', 'colorful', 'snow', 'dress', 'tree', 'blur',\n",
       "       'blurry', 'flush', 'wall', 'paint', 'flower', 'bush', 'sheet',\n",
       "       'road', 'sand', 'cap', 'pant', 'curtain'], dtype=object)"
      ]
     },
     "execution_count": 10,
     "metadata": {},
     "output_type": "execute_result"
    }
   ],
   "source": [
    "what_color_q['answer'].unique()"
   ]
  },
  {
   "cell_type": "code",
   "execution_count": 12,
   "metadata": {},
   "outputs": [],
   "source": [
    "where_q.to_csv('./where_q_val.csv')\n",
    "what_color_q.to_csv('./what_color_q_val.csv')\n",
    "how_many_q.to_csv('./how_many_q_val.csv')\n",
    "binary_q.to_csv('./binary_q_val.csv')\n",
    "object_q.to_csv('./object_q_val.csv')"
   ]
  },
  {
   "cell_type": "code",
   "execution_count": 13,
   "metadata": {},
   "outputs": [],
   "source": [
    "sample = object_q.sample(n=1)"
   ]
  },
  {
   "cell_type": "code",
   "execution_count": 64,
   "metadata": {},
   "outputs": [
    {
     "data": {
      "text/html": [
       "<div>\n",
       "<style scoped>\n",
       "    .dataframe tbody tr th:only-of-type {\n",
       "        vertical-align: middle;\n",
       "    }\n",
       "\n",
       "    .dataframe tbody tr th {\n",
       "        vertical-align: top;\n",
       "    }\n",
       "\n",
       "    .dataframe thead th {\n",
       "        text-align: right;\n",
       "    }\n",
       "</style>\n",
       "<table border=\"1\" class=\"dataframe\">\n",
       "  <thead>\n",
       "    <tr style=\"text-align: right;\">\n",
       "      <th></th>\n",
       "      <th>img_id</th>\n",
       "      <th>question</th>\n",
       "      <th>answer</th>\n",
       "    </tr>\n",
       "  </thead>\n",
       "  <tbody>\n",
       "    <tr>\n",
       "      <th>18772</th>\n",
       "      <td>ADE_val_00000886</td>\n",
       "      <td>What is at the top of the hall?</td>\n",
       "      <td>roof</td>\n",
       "    </tr>\n",
       "  </tbody>\n",
       "</table>\n",
       "</div>"
      ],
      "text/plain": [
       "                 img_id                         question answer\n",
       "18772  ADE_val_00000886  What is at the top of the hall?   roof"
      ]
     },
     "execution_count": 64,
     "metadata": {},
     "output_type": "execute_result"
    }
   ],
   "source": [
    "sample"
   ]
  },
  {
   "cell_type": "code",
   "execution_count": 66,
   "metadata": {},
   "outputs": [
    {
     "data": {
      "text/html": [
       "<div>\n",
       "<style scoped>\n",
       "    .dataframe tbody tr th:only-of-type {\n",
       "        vertical-align: middle;\n",
       "    }\n",
       "\n",
       "    .dataframe tbody tr th {\n",
       "        vertical-align: top;\n",
       "    }\n",
       "\n",
       "    .dataframe thead th {\n",
       "        text-align: right;\n",
       "    }\n",
       "</style>\n",
       "<table border=\"1\" class=\"dataframe\">\n",
       "  <thead>\n",
       "    <tr style=\"text-align: right;\">\n",
       "      <th></th>\n",
       "      <th>img_id</th>\n",
       "      <th>question</th>\n",
       "      <th>answer</th>\n",
       "    </tr>\n",
       "  </thead>\n",
       "  <tbody>\n",
       "    <tr>\n",
       "      <th>19261</th>\n",
       "      <td>ADE_val_00001513</td>\n",
       "      <td>Is there a showcase?</td>\n",
       "      <td>no</td>\n",
       "    </tr>\n",
       "  </tbody>\n",
       "</table>\n",
       "</div>"
      ],
      "text/plain": [
       "                 img_id              question answer\n",
       "19261  ADE_val_00001513  Is there a showcase?     no"
      ]
     },
     "execution_count": 66,
     "metadata": {},
     "output_type": "execute_result"
    }
   ],
   "source": [
    "sample2 = binary_q.sample(n=1)\n",
    "sample2"
   ]
  },
  {
   "cell_type": "code",
   "execution_count": 67,
   "metadata": {},
   "outputs": [
    {
     "data": {
      "text/html": [
       "<div>\n",
       "<style scoped>\n",
       "    .dataframe tbody tr th:only-of-type {\n",
       "        vertical-align: middle;\n",
       "    }\n",
       "\n",
       "    .dataframe tbody tr th {\n",
       "        vertical-align: top;\n",
       "    }\n",
       "\n",
       "    .dataframe thead th {\n",
       "        text-align: right;\n",
       "    }\n",
       "</style>\n",
       "<table border=\"1\" class=\"dataframe\">\n",
       "  <thead>\n",
       "    <tr style=\"text-align: right;\">\n",
       "      <th></th>\n",
       "      <th>img_id</th>\n",
       "      <th>question</th>\n",
       "      <th>answer</th>\n",
       "    </tr>\n",
       "  </thead>\n",
       "  <tbody>\n",
       "    <tr>\n",
       "      <th>10966</th>\n",
       "      <td>ADE_val_00000253</td>\n",
       "      <td>How many people sit on the chairs holding a de...</td>\n",
       "      <td>two</td>\n",
       "    </tr>\n",
       "  </tbody>\n",
       "</table>\n",
       "</div>"
      ],
      "text/plain": [
       "                 img_id                                           question  \\\n",
       "10966  ADE_val_00000253  How many people sit on the chairs holding a de...   \n",
       "\n",
       "      answer  \n",
       "10966    two  "
      ]
     },
     "execution_count": 67,
     "metadata": {},
     "output_type": "execute_result"
    }
   ],
   "source": [
    "sample3 = how_many_q.sample(n=1)\n",
    "sample3"
   ]
  },
  {
   "cell_type": "code",
   "execution_count": 70,
   "metadata": {},
   "outputs": [
    {
     "data": {
      "text/plain": [
       "['How many people sit on the chairs holding a device?']"
      ]
     },
     "execution_count": 70,
     "metadata": {},
     "output_type": "execute_result"
    }
   ],
   "source": [
    "list(sample3['question'])"
   ]
  },
  {
   "cell_type": "code",
   "execution_count": 71,
   "metadata": {},
   "outputs": [],
   "source": [
    "sample4 = what_color_q.sample(n=1)"
   ]
  },
  {
   "cell_type": "code",
   "execution_count": 72,
   "metadata": {},
   "outputs": [
    {
     "data": {
      "text/html": [
       "<div>\n",
       "<style scoped>\n",
       "    .dataframe tbody tr th:only-of-type {\n",
       "        vertical-align: middle;\n",
       "    }\n",
       "\n",
       "    .dataframe tbody tr th {\n",
       "        vertical-align: top;\n",
       "    }\n",
       "\n",
       "    .dataframe thead th {\n",
       "        text-align: right;\n",
       "    }\n",
       "</style>\n",
       "<table border=\"1\" class=\"dataframe\">\n",
       "  <thead>\n",
       "    <tr style=\"text-align: right;\">\n",
       "      <th></th>\n",
       "      <th>img_id</th>\n",
       "      <th>question</th>\n",
       "      <th>answer</th>\n",
       "    </tr>\n",
       "  </thead>\n",
       "  <tbody>\n",
       "    <tr>\n",
       "      <th>47097</th>\n",
       "      <td>ADE_val_00000378</td>\n",
       "      <td>What color is the wall in the gate?</td>\n",
       "      <td>white</td>\n",
       "    </tr>\n",
       "  </tbody>\n",
       "</table>\n",
       "</div>"
      ],
      "text/plain": [
       "                 img_id                             question answer\n",
       "47097  ADE_val_00000378  What color is the wall in the gate?  white"
      ]
     },
     "execution_count": 72,
     "metadata": {},
     "output_type": "execute_result"
    }
   ],
   "source": [
    "sample4"
   ]
  },
  {
   "cell_type": "code",
   "execution_count": 73,
   "metadata": {},
   "outputs": [],
   "source": [
    "sample5 = where_q.sample()"
   ]
  },
  {
   "cell_type": "code",
   "execution_count": 74,
   "metadata": {},
   "outputs": [
    {
     "data": {
      "text/html": [
       "<div>\n",
       "<style scoped>\n",
       "    .dataframe tbody tr th:only-of-type {\n",
       "        vertical-align: middle;\n",
       "    }\n",
       "\n",
       "    .dataframe tbody tr th {\n",
       "        vertical-align: top;\n",
       "    }\n",
       "\n",
       "    .dataframe thead th {\n",
       "        text-align: right;\n",
       "    }\n",
       "</style>\n",
       "<table border=\"1\" class=\"dataframe\">\n",
       "  <thead>\n",
       "    <tr style=\"text-align: right;\">\n",
       "      <th></th>\n",
       "      <th>img_id</th>\n",
       "      <th>question</th>\n",
       "      <th>answer</th>\n",
       "    </tr>\n",
       "  </thead>\n",
       "  <tbody>\n",
       "    <tr>\n",
       "      <th>64416</th>\n",
       "      <td>ADE_val_00000308</td>\n",
       "      <td>Where are so many things and objects placed?</td>\n",
       "      <td>table</td>\n",
       "    </tr>\n",
       "  </tbody>\n",
       "</table>\n",
       "</div>"
      ],
      "text/plain": [
       "                 img_id                                      question answer\n",
       "64416  ADE_val_00000308  Where are so many things and objects placed?  table"
      ]
     },
     "execution_count": 74,
     "metadata": {},
     "output_type": "execute_result"
    }
   ],
   "source": [
    "sample5"
   ]
  },
  {
   "cell_type": "code",
   "execution_count": 58,
   "metadata": {},
   "outputs": [],
   "source": [
    "import plotly.graph_objects as go\n",
    "\n",
    "def draw_qa_bar(starts_with):\n",
    "    new_df = df[df['question'].str.startswith(starts_with)]\n",
    "    data=[starts_with]\n",
    "    bars = []\n",
    "    row_count = len(new_df)\n",
    "    v_counts = new_df['answer'].value_counts(normalize=True)\n",
    "\n",
    "    for i, value in enumerate(v_counts):\n",
    "        bars.append(\n",
    "            go.Bar(x=data, y=[value], text=v_counts.index[i], textposition='auto', width=0.1)\n",
    "        )\n",
    "\n",
    "    fig = go.Figure(data=bars)\n",
    "    # Change the bar mode\n",
    "    fig.update_layout(barmode='stack')\n",
    "    fig.show()"
   ]
  },
  {
   "cell_type": "code",
   "execution_count": 59,
   "metadata": {},
   "outputs": [
    {
     "data": {
      "application/vnd.plotly.v1+json": {
       "config": {
        "plotlyServerURL": "https://plot.ly"
       },
       "data": [
        {
         "text": "white",
         "textposition": "auto",
         "type": "bar",
         "width": 0.1,
         "x": [
          "What color"
         ],
         "y": [
          0.2538805577479611
         ]
        },
        {
         "text": "blue",
         "textposition": "auto",
         "type": "bar",
         "width": 0.1,
         "x": [
          "What color"
         ],
         "y": [
          0.16548276769271245
         ]
        },
        {
         "text": "green",
         "textposition": "auto",
         "type": "bar",
         "width": 0.1,
         "x": [
          "What color"
         ],
         "y": [
          0.13075506445672191
         ]
        },
        {
         "text": "black",
         "textposition": "auto",
         "type": "bar",
         "width": 0.1,
         "x": [
          "What color"
         ],
         "y": [
          0.10497237569060773
         ]
        },
        {
         "text": "red",
         "textposition": "auto",
         "type": "bar",
         "width": 0.1,
         "x": [
          "What color"
         ],
         "y": [
          0.07261247040252565
         ]
        },
        {
         "text": "brown",
         "textposition": "auto",
         "type": "bar",
         "width": 0.1,
         "x": [
          "What color"
         ],
         "y": [
          0.04840831360168377
         ]
        },
        {
         "text": "cloudy",
         "textposition": "auto",
         "type": "bar",
         "width": 0.1,
         "x": [
          "What color"
         ],
         "y": [
          0.0473559589581689
         ]
        },
        {
         "text": "yellow",
         "textposition": "auto",
         "type": "bar",
         "width": 0.1,
         "x": [
          "What color"
         ],
         "y": [
          0.039200210470928705
         ]
        },
        {
         "text": "clear",
         "textposition": "auto",
         "type": "bar",
         "width": 0.1,
         "x": [
          "What color"
         ],
         "y": [
          0.02999210734017364
         ]
        },
        {
         "text": "pink",
         "textposition": "auto",
         "type": "bar",
         "width": 0.1,
         "x": [
          "What color"
         ],
         "y": [
          0.016837674296237833
         ]
        },
        {
         "text": "grey",
         "textposition": "auto",
         "type": "bar",
         "width": 0.1,
         "x": [
          "What color"
         ],
         "y": [
          0.013417521704814523
         ]
        },
        {
         "text": "dark",
         "textposition": "auto",
         "type": "bar",
         "width": 0.1,
         "x": [
          "What color"
         ],
         "y": [
          0.012102078400420942
         ]
        },
        {
         "text": "different",
         "textposition": "auto",
         "type": "bar",
         "width": 0.1,
         "x": [
          "What color"
         ],
         "y": [
          0.009997369113391212
         ]
        },
        {
         "text": "orange",
         "textposition": "auto",
         "type": "bar",
         "width": 0.1,
         "x": [
          "What color"
         ],
         "y": [
          0.009471191791633781
         ]
        },
        {
         "text": "color",
         "textposition": "auto",
         "type": "bar",
         "width": 0.1,
         "x": [
          "What color"
         ],
         "y": [
          0.0081557484872402
         ]
        },
        {
         "text": "gray",
         "textposition": "auto",
         "type": "bar",
         "width": 0.1,
         "x": [
          "What color"
         ],
         "y": [
          0.007892659826361484
         ]
        },
        {
         "text": "cream",
         "textposition": "auto",
         "type": "bar",
         "width": 0.1,
         "x": [
          "What color"
         ],
         "y": [
          0.006314127861089187
         ]
        },
        {
         "text": "sky",
         "textposition": "auto",
         "type": "bar",
         "width": 0.1,
         "x": [
          "What color"
         ],
         "y": [
          0.004998684556695606
         ]
        },
        {
         "text": "maroon",
         "textposition": "auto",
         "type": "bar",
         "width": 0.1,
         "x": [
          "What color"
         ],
         "y": [
          0.003946329913180742
         ]
        },
        {
         "text": "dress",
         "textposition": "auto",
         "type": "bar",
         "width": 0.1,
         "x": [
          "What color"
         ],
         "y": [
          0.002630886608787161
         ]
        },
        {
         "text": "silver",
         "textposition": "auto",
         "type": "bar",
         "width": 0.1,
         "x": [
          "What color"
         ],
         "y": [
          0.002104709287029729
         ]
        },
        {
         "text": "blurry",
         "textposition": "auto",
         "type": "bar",
         "width": 0.1,
         "x": [
          "What color"
         ],
         "y": [
          0.001841620626151013
         ]
        },
        {
         "text": "colorful",
         "textposition": "auto",
         "type": "bar",
         "width": 0.1,
         "x": [
          "What color"
         ],
         "y": [
          0.0013154433043935806
         ]
        },
        {
         "text": "flower",
         "textposition": "auto",
         "type": "bar",
         "width": 0.1,
         "x": [
          "What color"
         ],
         "y": [
          0.0010523546435148646
         ]
        },
        {
         "text": "blur",
         "textposition": "auto",
         "type": "bar",
         "width": 0.1,
         "x": [
          "What color"
         ],
         "y": [
          0.0007892659826361484
         ]
        },
        {
         "text": "snow",
         "textposition": "auto",
         "type": "bar",
         "width": 0.1,
         "x": [
          "What color"
         ],
         "y": [
          0.0007892659826361484
         ]
        },
        {
         "text": "wooden",
         "textposition": "auto",
         "type": "bar",
         "width": 0.1,
         "x": [
          "What color"
         ],
         "y": [
          0.0007892659826361484
         ]
        },
        {
         "text": "light",
         "textposition": "auto",
         "type": "bar",
         "width": 0.1,
         "x": [
          "What color"
         ],
         "y": [
          0.0005261773217574323
         ]
        },
        {
         "text": "tree",
         "textposition": "auto",
         "type": "bar",
         "width": 0.1,
         "x": [
          "What color"
         ],
         "y": [
          0.0005261773217574323
         ]
        },
        {
         "text": "flag",
         "textposition": "auto",
         "type": "bar",
         "width": 0.1,
         "x": [
          "What color"
         ],
         "y": [
          0.00026308866087871614
         ]
        },
        {
         "text": "pant",
         "textposition": "auto",
         "type": "bar",
         "width": 0.1,
         "x": [
          "What color"
         ],
         "y": [
          0.00026308866087871614
         ]
        },
        {
         "text": "sheet",
         "textposition": "auto",
         "type": "bar",
         "width": 0.1,
         "x": [
          "What color"
         ],
         "y": [
          0.00026308866087871614
         ]
        },
        {
         "text": "flush",
         "textposition": "auto",
         "type": "bar",
         "width": 0.1,
         "x": [
          "What color"
         ],
         "y": [
          0.00026308866087871614
         ]
        },
        {
         "text": "curtain",
         "textposition": "auto",
         "type": "bar",
         "width": 0.1,
         "x": [
          "What color"
         ],
         "y": [
          0.00026308866087871614
         ]
        },
        {
         "text": "paint",
         "textposition": "auto",
         "type": "bar",
         "width": 0.1,
         "x": [
          "What color"
         ],
         "y": [
          0.00026308866087871614
         ]
        },
        {
         "text": "cap",
         "textposition": "auto",
         "type": "bar",
         "width": 0.1,
         "x": [
          "What color"
         ],
         "y": [
          0.00026308866087871614
         ]
        }
       ],
       "layout": {
        "barmode": "stack",
        "template": {
         "data": {
          "bar": [
           {
            "error_x": {
             "color": "#2a3f5f"
            },
            "error_y": {
             "color": "#2a3f5f"
            },
            "marker": {
             "line": {
              "color": "#E5ECF6",
              "width": 0.5
             },
             "pattern": {
              "fillmode": "overlay",
              "size": 10,
              "solidity": 0.2
             }
            },
            "type": "bar"
           }
          ],
          "barpolar": [
           {
            "marker": {
             "line": {
              "color": "#E5ECF6",
              "width": 0.5
             },
             "pattern": {
              "fillmode": "overlay",
              "size": 10,
              "solidity": 0.2
             }
            },
            "type": "barpolar"
           }
          ],
          "carpet": [
           {
            "aaxis": {
             "endlinecolor": "#2a3f5f",
             "gridcolor": "white",
             "linecolor": "white",
             "minorgridcolor": "white",
             "startlinecolor": "#2a3f5f"
            },
            "baxis": {
             "endlinecolor": "#2a3f5f",
             "gridcolor": "white",
             "linecolor": "white",
             "minorgridcolor": "white",
             "startlinecolor": "#2a3f5f"
            },
            "type": "carpet"
           }
          ],
          "choropleth": [
           {
            "colorbar": {
             "outlinewidth": 0,
             "ticks": ""
            },
            "type": "choropleth"
           }
          ],
          "contour": [
           {
            "colorbar": {
             "outlinewidth": 0,
             "ticks": ""
            },
            "colorscale": [
             [
              0,
              "#0d0887"
             ],
             [
              0.1111111111111111,
              "#46039f"
             ],
             [
              0.2222222222222222,
              "#7201a8"
             ],
             [
              0.3333333333333333,
              "#9c179e"
             ],
             [
              0.4444444444444444,
              "#bd3786"
             ],
             [
              0.5555555555555556,
              "#d8576b"
             ],
             [
              0.6666666666666666,
              "#ed7953"
             ],
             [
              0.7777777777777778,
              "#fb9f3a"
             ],
             [
              0.8888888888888888,
              "#fdca26"
             ],
             [
              1,
              "#f0f921"
             ]
            ],
            "type": "contour"
           }
          ],
          "contourcarpet": [
           {
            "colorbar": {
             "outlinewidth": 0,
             "ticks": ""
            },
            "type": "contourcarpet"
           }
          ],
          "heatmap": [
           {
            "colorbar": {
             "outlinewidth": 0,
             "ticks": ""
            },
            "colorscale": [
             [
              0,
              "#0d0887"
             ],
             [
              0.1111111111111111,
              "#46039f"
             ],
             [
              0.2222222222222222,
              "#7201a8"
             ],
             [
              0.3333333333333333,
              "#9c179e"
             ],
             [
              0.4444444444444444,
              "#bd3786"
             ],
             [
              0.5555555555555556,
              "#d8576b"
             ],
             [
              0.6666666666666666,
              "#ed7953"
             ],
             [
              0.7777777777777778,
              "#fb9f3a"
             ],
             [
              0.8888888888888888,
              "#fdca26"
             ],
             [
              1,
              "#f0f921"
             ]
            ],
            "type": "heatmap"
           }
          ],
          "heatmapgl": [
           {
            "colorbar": {
             "outlinewidth": 0,
             "ticks": ""
            },
            "colorscale": [
             [
              0,
              "#0d0887"
             ],
             [
              0.1111111111111111,
              "#46039f"
             ],
             [
              0.2222222222222222,
              "#7201a8"
             ],
             [
              0.3333333333333333,
              "#9c179e"
             ],
             [
              0.4444444444444444,
              "#bd3786"
             ],
             [
              0.5555555555555556,
              "#d8576b"
             ],
             [
              0.6666666666666666,
              "#ed7953"
             ],
             [
              0.7777777777777778,
              "#fb9f3a"
             ],
             [
              0.8888888888888888,
              "#fdca26"
             ],
             [
              1,
              "#f0f921"
             ]
            ],
            "type": "heatmapgl"
           }
          ],
          "histogram": [
           {
            "marker": {
             "pattern": {
              "fillmode": "overlay",
              "size": 10,
              "solidity": 0.2
             }
            },
            "type": "histogram"
           }
          ],
          "histogram2d": [
           {
            "colorbar": {
             "outlinewidth": 0,
             "ticks": ""
            },
            "colorscale": [
             [
              0,
              "#0d0887"
             ],
             [
              0.1111111111111111,
              "#46039f"
             ],
             [
              0.2222222222222222,
              "#7201a8"
             ],
             [
              0.3333333333333333,
              "#9c179e"
             ],
             [
              0.4444444444444444,
              "#bd3786"
             ],
             [
              0.5555555555555556,
              "#d8576b"
             ],
             [
              0.6666666666666666,
              "#ed7953"
             ],
             [
              0.7777777777777778,
              "#fb9f3a"
             ],
             [
              0.8888888888888888,
              "#fdca26"
             ],
             [
              1,
              "#f0f921"
             ]
            ],
            "type": "histogram2d"
           }
          ],
          "histogram2dcontour": [
           {
            "colorbar": {
             "outlinewidth": 0,
             "ticks": ""
            },
            "colorscale": [
             [
              0,
              "#0d0887"
             ],
             [
              0.1111111111111111,
              "#46039f"
             ],
             [
              0.2222222222222222,
              "#7201a8"
             ],
             [
              0.3333333333333333,
              "#9c179e"
             ],
             [
              0.4444444444444444,
              "#bd3786"
             ],
             [
              0.5555555555555556,
              "#d8576b"
             ],
             [
              0.6666666666666666,
              "#ed7953"
             ],
             [
              0.7777777777777778,
              "#fb9f3a"
             ],
             [
              0.8888888888888888,
              "#fdca26"
             ],
             [
              1,
              "#f0f921"
             ]
            ],
            "type": "histogram2dcontour"
           }
          ],
          "mesh3d": [
           {
            "colorbar": {
             "outlinewidth": 0,
             "ticks": ""
            },
            "type": "mesh3d"
           }
          ],
          "parcoords": [
           {
            "line": {
             "colorbar": {
              "outlinewidth": 0,
              "ticks": ""
             }
            },
            "type": "parcoords"
           }
          ],
          "pie": [
           {
            "automargin": true,
            "type": "pie"
           }
          ],
          "scatter": [
           {
            "marker": {
             "colorbar": {
              "outlinewidth": 0,
              "ticks": ""
             }
            },
            "type": "scatter"
           }
          ],
          "scatter3d": [
           {
            "line": {
             "colorbar": {
              "outlinewidth": 0,
              "ticks": ""
             }
            },
            "marker": {
             "colorbar": {
              "outlinewidth": 0,
              "ticks": ""
             }
            },
            "type": "scatter3d"
           }
          ],
          "scattercarpet": [
           {
            "marker": {
             "colorbar": {
              "outlinewidth": 0,
              "ticks": ""
             }
            },
            "type": "scattercarpet"
           }
          ],
          "scattergeo": [
           {
            "marker": {
             "colorbar": {
              "outlinewidth": 0,
              "ticks": ""
             }
            },
            "type": "scattergeo"
           }
          ],
          "scattergl": [
           {
            "marker": {
             "colorbar": {
              "outlinewidth": 0,
              "ticks": ""
             }
            },
            "type": "scattergl"
           }
          ],
          "scattermapbox": [
           {
            "marker": {
             "colorbar": {
              "outlinewidth": 0,
              "ticks": ""
             }
            },
            "type": "scattermapbox"
           }
          ],
          "scatterpolar": [
           {
            "marker": {
             "colorbar": {
              "outlinewidth": 0,
              "ticks": ""
             }
            },
            "type": "scatterpolar"
           }
          ],
          "scatterpolargl": [
           {
            "marker": {
             "colorbar": {
              "outlinewidth": 0,
              "ticks": ""
             }
            },
            "type": "scatterpolargl"
           }
          ],
          "scatterternary": [
           {
            "marker": {
             "colorbar": {
              "outlinewidth": 0,
              "ticks": ""
             }
            },
            "type": "scatterternary"
           }
          ],
          "surface": [
           {
            "colorbar": {
             "outlinewidth": 0,
             "ticks": ""
            },
            "colorscale": [
             [
              0,
              "#0d0887"
             ],
             [
              0.1111111111111111,
              "#46039f"
             ],
             [
              0.2222222222222222,
              "#7201a8"
             ],
             [
              0.3333333333333333,
              "#9c179e"
             ],
             [
              0.4444444444444444,
              "#bd3786"
             ],
             [
              0.5555555555555556,
              "#d8576b"
             ],
             [
              0.6666666666666666,
              "#ed7953"
             ],
             [
              0.7777777777777778,
              "#fb9f3a"
             ],
             [
              0.8888888888888888,
              "#fdca26"
             ],
             [
              1,
              "#f0f921"
             ]
            ],
            "type": "surface"
           }
          ],
          "table": [
           {
            "cells": {
             "fill": {
              "color": "#EBF0F8"
             },
             "line": {
              "color": "white"
             }
            },
            "header": {
             "fill": {
              "color": "#C8D4E3"
             },
             "line": {
              "color": "white"
             }
            },
            "type": "table"
           }
          ]
         },
         "layout": {
          "annotationdefaults": {
           "arrowcolor": "#2a3f5f",
           "arrowhead": 0,
           "arrowwidth": 1
          },
          "autotypenumbers": "strict",
          "coloraxis": {
           "colorbar": {
            "outlinewidth": 0,
            "ticks": ""
           }
          },
          "colorscale": {
           "diverging": [
            [
             0,
             "#8e0152"
            ],
            [
             0.1,
             "#c51b7d"
            ],
            [
             0.2,
             "#de77ae"
            ],
            [
             0.3,
             "#f1b6da"
            ],
            [
             0.4,
             "#fde0ef"
            ],
            [
             0.5,
             "#f7f7f7"
            ],
            [
             0.6,
             "#e6f5d0"
            ],
            [
             0.7,
             "#b8e186"
            ],
            [
             0.8,
             "#7fbc41"
            ],
            [
             0.9,
             "#4d9221"
            ],
            [
             1,
             "#276419"
            ]
           ],
           "sequential": [
            [
             0,
             "#0d0887"
            ],
            [
             0.1111111111111111,
             "#46039f"
            ],
            [
             0.2222222222222222,
             "#7201a8"
            ],
            [
             0.3333333333333333,
             "#9c179e"
            ],
            [
             0.4444444444444444,
             "#bd3786"
            ],
            [
             0.5555555555555556,
             "#d8576b"
            ],
            [
             0.6666666666666666,
             "#ed7953"
            ],
            [
             0.7777777777777778,
             "#fb9f3a"
            ],
            [
             0.8888888888888888,
             "#fdca26"
            ],
            [
             1,
             "#f0f921"
            ]
           ],
           "sequentialminus": [
            [
             0,
             "#0d0887"
            ],
            [
             0.1111111111111111,
             "#46039f"
            ],
            [
             0.2222222222222222,
             "#7201a8"
            ],
            [
             0.3333333333333333,
             "#9c179e"
            ],
            [
             0.4444444444444444,
             "#bd3786"
            ],
            [
             0.5555555555555556,
             "#d8576b"
            ],
            [
             0.6666666666666666,
             "#ed7953"
            ],
            [
             0.7777777777777778,
             "#fb9f3a"
            ],
            [
             0.8888888888888888,
             "#fdca26"
            ],
            [
             1,
             "#f0f921"
            ]
           ]
          },
          "colorway": [
           "#636efa",
           "#EF553B",
           "#00cc96",
           "#ab63fa",
           "#FFA15A",
           "#19d3f3",
           "#FF6692",
           "#B6E880",
           "#FF97FF",
           "#FECB52"
          ],
          "font": {
           "color": "#2a3f5f"
          },
          "geo": {
           "bgcolor": "white",
           "lakecolor": "white",
           "landcolor": "#E5ECF6",
           "showlakes": true,
           "showland": true,
           "subunitcolor": "white"
          },
          "hoverlabel": {
           "align": "left"
          },
          "hovermode": "closest",
          "mapbox": {
           "style": "light"
          },
          "paper_bgcolor": "white",
          "plot_bgcolor": "#E5ECF6",
          "polar": {
           "angularaxis": {
            "gridcolor": "white",
            "linecolor": "white",
            "ticks": ""
           },
           "bgcolor": "#E5ECF6",
           "radialaxis": {
            "gridcolor": "white",
            "linecolor": "white",
            "ticks": ""
           }
          },
          "scene": {
           "xaxis": {
            "backgroundcolor": "#E5ECF6",
            "gridcolor": "white",
            "gridwidth": 2,
            "linecolor": "white",
            "showbackground": true,
            "ticks": "",
            "zerolinecolor": "white"
           },
           "yaxis": {
            "backgroundcolor": "#E5ECF6",
            "gridcolor": "white",
            "gridwidth": 2,
            "linecolor": "white",
            "showbackground": true,
            "ticks": "",
            "zerolinecolor": "white"
           },
           "zaxis": {
            "backgroundcolor": "#E5ECF6",
            "gridcolor": "white",
            "gridwidth": 2,
            "linecolor": "white",
            "showbackground": true,
            "ticks": "",
            "zerolinecolor": "white"
           }
          },
          "shapedefaults": {
           "line": {
            "color": "#2a3f5f"
           }
          },
          "ternary": {
           "aaxis": {
            "gridcolor": "white",
            "linecolor": "white",
            "ticks": ""
           },
           "baxis": {
            "gridcolor": "white",
            "linecolor": "white",
            "ticks": ""
           },
           "bgcolor": "#E5ECF6",
           "caxis": {
            "gridcolor": "white",
            "linecolor": "white",
            "ticks": ""
           }
          },
          "title": {
           "x": 0.05
          },
          "xaxis": {
           "automargin": true,
           "gridcolor": "white",
           "linecolor": "white",
           "ticks": "",
           "title": {
            "standoff": 15
           },
           "zerolinecolor": "white",
           "zerolinewidth": 2
          },
          "yaxis": {
           "automargin": true,
           "gridcolor": "white",
           "linecolor": "white",
           "ticks": "",
           "title": {
            "standoff": 15
           },
           "zerolinecolor": "white",
           "zerolinewidth": 2
          }
         }
        }
       }
      },
      "text/html": [
       "<div>                            <div id=\"7b644f15-480b-4c44-8040-5d1c0d16bb17\" class=\"plotly-graph-div\" style=\"height:525px; width:100%;\"></div>            <script type=\"text/javascript\">                require([\"plotly\"], function(Plotly) {                    window.PLOTLYENV=window.PLOTLYENV || {};                                    if (document.getElementById(\"7b644f15-480b-4c44-8040-5d1c0d16bb17\")) {                    Plotly.newPlot(                        \"7b644f15-480b-4c44-8040-5d1c0d16bb17\",                        [{\"text\":\"white\",\"textposition\":\"auto\",\"type\":\"bar\",\"width\":0.1,\"x\":[\"What color\"],\"y\":[0.2538805577479611]},{\"text\":\"blue\",\"textposition\":\"auto\",\"type\":\"bar\",\"width\":0.1,\"x\":[\"What color\"],\"y\":[0.16548276769271245]},{\"text\":\"green\",\"textposition\":\"auto\",\"type\":\"bar\",\"width\":0.1,\"x\":[\"What color\"],\"y\":[0.13075506445672191]},{\"text\":\"black\",\"textposition\":\"auto\",\"type\":\"bar\",\"width\":0.1,\"x\":[\"What color\"],\"y\":[0.10497237569060773]},{\"text\":\"red\",\"textposition\":\"auto\",\"type\":\"bar\",\"width\":0.1,\"x\":[\"What color\"],\"y\":[0.07261247040252565]},{\"text\":\"brown\",\"textposition\":\"auto\",\"type\":\"bar\",\"width\":0.1,\"x\":[\"What color\"],\"y\":[0.04840831360168377]},{\"text\":\"cloudy\",\"textposition\":\"auto\",\"type\":\"bar\",\"width\":0.1,\"x\":[\"What color\"],\"y\":[0.0473559589581689]},{\"text\":\"yellow\",\"textposition\":\"auto\",\"type\":\"bar\",\"width\":0.1,\"x\":[\"What color\"],\"y\":[0.039200210470928705]},{\"text\":\"clear\",\"textposition\":\"auto\",\"type\":\"bar\",\"width\":0.1,\"x\":[\"What color\"],\"y\":[0.02999210734017364]},{\"text\":\"pink\",\"textposition\":\"auto\",\"type\":\"bar\",\"width\":0.1,\"x\":[\"What color\"],\"y\":[0.016837674296237833]},{\"text\":\"grey\",\"textposition\":\"auto\",\"type\":\"bar\",\"width\":0.1,\"x\":[\"What color\"],\"y\":[0.013417521704814523]},{\"text\":\"dark\",\"textposition\":\"auto\",\"type\":\"bar\",\"width\":0.1,\"x\":[\"What color\"],\"y\":[0.012102078400420942]},{\"text\":\"different\",\"textposition\":\"auto\",\"type\":\"bar\",\"width\":0.1,\"x\":[\"What color\"],\"y\":[0.009997369113391212]},{\"text\":\"orange\",\"textposition\":\"auto\",\"type\":\"bar\",\"width\":0.1,\"x\":[\"What color\"],\"y\":[0.009471191791633781]},{\"text\":\"color\",\"textposition\":\"auto\",\"type\":\"bar\",\"width\":0.1,\"x\":[\"What color\"],\"y\":[0.0081557484872402]},{\"text\":\"gray\",\"textposition\":\"auto\",\"type\":\"bar\",\"width\":0.1,\"x\":[\"What color\"],\"y\":[0.007892659826361484]},{\"text\":\"cream\",\"textposition\":\"auto\",\"type\":\"bar\",\"width\":0.1,\"x\":[\"What color\"],\"y\":[0.006314127861089187]},{\"text\":\"sky\",\"textposition\":\"auto\",\"type\":\"bar\",\"width\":0.1,\"x\":[\"What color\"],\"y\":[0.004998684556695606]},{\"text\":\"maroon\",\"textposition\":\"auto\",\"type\":\"bar\",\"width\":0.1,\"x\":[\"What color\"],\"y\":[0.003946329913180742]},{\"text\":\"dress\",\"textposition\":\"auto\",\"type\":\"bar\",\"width\":0.1,\"x\":[\"What color\"],\"y\":[0.002630886608787161]},{\"text\":\"silver\",\"textposition\":\"auto\",\"type\":\"bar\",\"width\":0.1,\"x\":[\"What color\"],\"y\":[0.002104709287029729]},{\"text\":\"blurry\",\"textposition\":\"auto\",\"type\":\"bar\",\"width\":0.1,\"x\":[\"What color\"],\"y\":[0.001841620626151013]},{\"text\":\"colorful\",\"textposition\":\"auto\",\"type\":\"bar\",\"width\":0.1,\"x\":[\"What color\"],\"y\":[0.0013154433043935806]},{\"text\":\"flower\",\"textposition\":\"auto\",\"type\":\"bar\",\"width\":0.1,\"x\":[\"What color\"],\"y\":[0.0010523546435148646]},{\"text\":\"blur\",\"textposition\":\"auto\",\"type\":\"bar\",\"width\":0.1,\"x\":[\"What color\"],\"y\":[0.0007892659826361484]},{\"text\":\"snow\",\"textposition\":\"auto\",\"type\":\"bar\",\"width\":0.1,\"x\":[\"What color\"],\"y\":[0.0007892659826361484]},{\"text\":\"wooden\",\"textposition\":\"auto\",\"type\":\"bar\",\"width\":0.1,\"x\":[\"What color\"],\"y\":[0.0007892659826361484]},{\"text\":\"light\",\"textposition\":\"auto\",\"type\":\"bar\",\"width\":0.1,\"x\":[\"What color\"],\"y\":[0.0005261773217574323]},{\"text\":\"tree\",\"textposition\":\"auto\",\"type\":\"bar\",\"width\":0.1,\"x\":[\"What color\"],\"y\":[0.0005261773217574323]},{\"text\":\"flag\",\"textposition\":\"auto\",\"type\":\"bar\",\"width\":0.1,\"x\":[\"What color\"],\"y\":[0.00026308866087871614]},{\"text\":\"pant\",\"textposition\":\"auto\",\"type\":\"bar\",\"width\":0.1,\"x\":[\"What color\"],\"y\":[0.00026308866087871614]},{\"text\":\"sheet\",\"textposition\":\"auto\",\"type\":\"bar\",\"width\":0.1,\"x\":[\"What color\"],\"y\":[0.00026308866087871614]},{\"text\":\"flush\",\"textposition\":\"auto\",\"type\":\"bar\",\"width\":0.1,\"x\":[\"What color\"],\"y\":[0.00026308866087871614]},{\"text\":\"curtain\",\"textposition\":\"auto\",\"type\":\"bar\",\"width\":0.1,\"x\":[\"What color\"],\"y\":[0.00026308866087871614]},{\"text\":\"paint\",\"textposition\":\"auto\",\"type\":\"bar\",\"width\":0.1,\"x\":[\"What color\"],\"y\":[0.00026308866087871614]},{\"text\":\"cap\",\"textposition\":\"auto\",\"type\":\"bar\",\"width\":0.1,\"x\":[\"What color\"],\"y\":[0.00026308866087871614]}],                        {\"barmode\":\"stack\",\"template\":{\"data\":{\"bar\":[{\"error_x\":{\"color\":\"#2a3f5f\"},\"error_y\":{\"color\":\"#2a3f5f\"},\"marker\":{\"line\":{\"color\":\"#E5ECF6\",\"width\":0.5},\"pattern\":{\"fillmode\":\"overlay\",\"size\":10,\"solidity\":0.2}},\"type\":\"bar\"}],\"barpolar\":[{\"marker\":{\"line\":{\"color\":\"#E5ECF6\",\"width\":0.5},\"pattern\":{\"fillmode\":\"overlay\",\"size\":10,\"solidity\":0.2}},\"type\":\"barpolar\"}],\"carpet\":[{\"aaxis\":{\"endlinecolor\":\"#2a3f5f\",\"gridcolor\":\"white\",\"linecolor\":\"white\",\"minorgridcolor\":\"white\",\"startlinecolor\":\"#2a3f5f\"},\"baxis\":{\"endlinecolor\":\"#2a3f5f\",\"gridcolor\":\"white\",\"linecolor\":\"white\",\"minorgridcolor\":\"white\",\"startlinecolor\":\"#2a3f5f\"},\"type\":\"carpet\"}],\"choropleth\":[{\"colorbar\":{\"outlinewidth\":0,\"ticks\":\"\"},\"type\":\"choropleth\"}],\"contour\":[{\"colorbar\":{\"outlinewidth\":0,\"ticks\":\"\"},\"colorscale\":[[0.0,\"#0d0887\"],[0.1111111111111111,\"#46039f\"],[0.2222222222222222,\"#7201a8\"],[0.3333333333333333,\"#9c179e\"],[0.4444444444444444,\"#bd3786\"],[0.5555555555555556,\"#d8576b\"],[0.6666666666666666,\"#ed7953\"],[0.7777777777777778,\"#fb9f3a\"],[0.8888888888888888,\"#fdca26\"],[1.0,\"#f0f921\"]],\"type\":\"contour\"}],\"contourcarpet\":[{\"colorbar\":{\"outlinewidth\":0,\"ticks\":\"\"},\"type\":\"contourcarpet\"}],\"heatmap\":[{\"colorbar\":{\"outlinewidth\":0,\"ticks\":\"\"},\"colorscale\":[[0.0,\"#0d0887\"],[0.1111111111111111,\"#46039f\"],[0.2222222222222222,\"#7201a8\"],[0.3333333333333333,\"#9c179e\"],[0.4444444444444444,\"#bd3786\"],[0.5555555555555556,\"#d8576b\"],[0.6666666666666666,\"#ed7953\"],[0.7777777777777778,\"#fb9f3a\"],[0.8888888888888888,\"#fdca26\"],[1.0,\"#f0f921\"]],\"type\":\"heatmap\"}],\"heatmapgl\":[{\"colorbar\":{\"outlinewidth\":0,\"ticks\":\"\"},\"colorscale\":[[0.0,\"#0d0887\"],[0.1111111111111111,\"#46039f\"],[0.2222222222222222,\"#7201a8\"],[0.3333333333333333,\"#9c179e\"],[0.4444444444444444,\"#bd3786\"],[0.5555555555555556,\"#d8576b\"],[0.6666666666666666,\"#ed7953\"],[0.7777777777777778,\"#fb9f3a\"],[0.8888888888888888,\"#fdca26\"],[1.0,\"#f0f921\"]],\"type\":\"heatmapgl\"}],\"histogram\":[{\"marker\":{\"pattern\":{\"fillmode\":\"overlay\",\"size\":10,\"solidity\":0.2}},\"type\":\"histogram\"}],\"histogram2d\":[{\"colorbar\":{\"outlinewidth\":0,\"ticks\":\"\"},\"colorscale\":[[0.0,\"#0d0887\"],[0.1111111111111111,\"#46039f\"],[0.2222222222222222,\"#7201a8\"],[0.3333333333333333,\"#9c179e\"],[0.4444444444444444,\"#bd3786\"],[0.5555555555555556,\"#d8576b\"],[0.6666666666666666,\"#ed7953\"],[0.7777777777777778,\"#fb9f3a\"],[0.8888888888888888,\"#fdca26\"],[1.0,\"#f0f921\"]],\"type\":\"histogram2d\"}],\"histogram2dcontour\":[{\"colorbar\":{\"outlinewidth\":0,\"ticks\":\"\"},\"colorscale\":[[0.0,\"#0d0887\"],[0.1111111111111111,\"#46039f\"],[0.2222222222222222,\"#7201a8\"],[0.3333333333333333,\"#9c179e\"],[0.4444444444444444,\"#bd3786\"],[0.5555555555555556,\"#d8576b\"],[0.6666666666666666,\"#ed7953\"],[0.7777777777777778,\"#fb9f3a\"],[0.8888888888888888,\"#fdca26\"],[1.0,\"#f0f921\"]],\"type\":\"histogram2dcontour\"}],\"mesh3d\":[{\"colorbar\":{\"outlinewidth\":0,\"ticks\":\"\"},\"type\":\"mesh3d\"}],\"parcoords\":[{\"line\":{\"colorbar\":{\"outlinewidth\":0,\"ticks\":\"\"}},\"type\":\"parcoords\"}],\"pie\":[{\"automargin\":true,\"type\":\"pie\"}],\"scatter\":[{\"marker\":{\"colorbar\":{\"outlinewidth\":0,\"ticks\":\"\"}},\"type\":\"scatter\"}],\"scatter3d\":[{\"line\":{\"colorbar\":{\"outlinewidth\":0,\"ticks\":\"\"}},\"marker\":{\"colorbar\":{\"outlinewidth\":0,\"ticks\":\"\"}},\"type\":\"scatter3d\"}],\"scattercarpet\":[{\"marker\":{\"colorbar\":{\"outlinewidth\":0,\"ticks\":\"\"}},\"type\":\"scattercarpet\"}],\"scattergeo\":[{\"marker\":{\"colorbar\":{\"outlinewidth\":0,\"ticks\":\"\"}},\"type\":\"scattergeo\"}],\"scattergl\":[{\"marker\":{\"colorbar\":{\"outlinewidth\":0,\"ticks\":\"\"}},\"type\":\"scattergl\"}],\"scattermapbox\":[{\"marker\":{\"colorbar\":{\"outlinewidth\":0,\"ticks\":\"\"}},\"type\":\"scattermapbox\"}],\"scatterpolar\":[{\"marker\":{\"colorbar\":{\"outlinewidth\":0,\"ticks\":\"\"}},\"type\":\"scatterpolar\"}],\"scatterpolargl\":[{\"marker\":{\"colorbar\":{\"outlinewidth\":0,\"ticks\":\"\"}},\"type\":\"scatterpolargl\"}],\"scatterternary\":[{\"marker\":{\"colorbar\":{\"outlinewidth\":0,\"ticks\":\"\"}},\"type\":\"scatterternary\"}],\"surface\":[{\"colorbar\":{\"outlinewidth\":0,\"ticks\":\"\"},\"colorscale\":[[0.0,\"#0d0887\"],[0.1111111111111111,\"#46039f\"],[0.2222222222222222,\"#7201a8\"],[0.3333333333333333,\"#9c179e\"],[0.4444444444444444,\"#bd3786\"],[0.5555555555555556,\"#d8576b\"],[0.6666666666666666,\"#ed7953\"],[0.7777777777777778,\"#fb9f3a\"],[0.8888888888888888,\"#fdca26\"],[1.0,\"#f0f921\"]],\"type\":\"surface\"}],\"table\":[{\"cells\":{\"fill\":{\"color\":\"#EBF0F8\"},\"line\":{\"color\":\"white\"}},\"header\":{\"fill\":{\"color\":\"#C8D4E3\"},\"line\":{\"color\":\"white\"}},\"type\":\"table\"}]},\"layout\":{\"annotationdefaults\":{\"arrowcolor\":\"#2a3f5f\",\"arrowhead\":0,\"arrowwidth\":1},\"autotypenumbers\":\"strict\",\"coloraxis\":{\"colorbar\":{\"outlinewidth\":0,\"ticks\":\"\"}},\"colorscale\":{\"diverging\":[[0,\"#8e0152\"],[0.1,\"#c51b7d\"],[0.2,\"#de77ae\"],[0.3,\"#f1b6da\"],[0.4,\"#fde0ef\"],[0.5,\"#f7f7f7\"],[0.6,\"#e6f5d0\"],[0.7,\"#b8e186\"],[0.8,\"#7fbc41\"],[0.9,\"#4d9221\"],[1,\"#276419\"]],\"sequential\":[[0.0,\"#0d0887\"],[0.1111111111111111,\"#46039f\"],[0.2222222222222222,\"#7201a8\"],[0.3333333333333333,\"#9c179e\"],[0.4444444444444444,\"#bd3786\"],[0.5555555555555556,\"#d8576b\"],[0.6666666666666666,\"#ed7953\"],[0.7777777777777778,\"#fb9f3a\"],[0.8888888888888888,\"#fdca26\"],[1.0,\"#f0f921\"]],\"sequentialminus\":[[0.0,\"#0d0887\"],[0.1111111111111111,\"#46039f\"],[0.2222222222222222,\"#7201a8\"],[0.3333333333333333,\"#9c179e\"],[0.4444444444444444,\"#bd3786\"],[0.5555555555555556,\"#d8576b\"],[0.6666666666666666,\"#ed7953\"],[0.7777777777777778,\"#fb9f3a\"],[0.8888888888888888,\"#fdca26\"],[1.0,\"#f0f921\"]]},\"colorway\":[\"#636efa\",\"#EF553B\",\"#00cc96\",\"#ab63fa\",\"#FFA15A\",\"#19d3f3\",\"#FF6692\",\"#B6E880\",\"#FF97FF\",\"#FECB52\"],\"font\":{\"color\":\"#2a3f5f\"},\"geo\":{\"bgcolor\":\"white\",\"lakecolor\":\"white\",\"landcolor\":\"#E5ECF6\",\"showlakes\":true,\"showland\":true,\"subunitcolor\":\"white\"},\"hoverlabel\":{\"align\":\"left\"},\"hovermode\":\"closest\",\"mapbox\":{\"style\":\"light\"},\"paper_bgcolor\":\"white\",\"plot_bgcolor\":\"#E5ECF6\",\"polar\":{\"angularaxis\":{\"gridcolor\":\"white\",\"linecolor\":\"white\",\"ticks\":\"\"},\"bgcolor\":\"#E5ECF6\",\"radialaxis\":{\"gridcolor\":\"white\",\"linecolor\":\"white\",\"ticks\":\"\"}},\"scene\":{\"xaxis\":{\"backgroundcolor\":\"#E5ECF6\",\"gridcolor\":\"white\",\"gridwidth\":2,\"linecolor\":\"white\",\"showbackground\":true,\"ticks\":\"\",\"zerolinecolor\":\"white\"},\"yaxis\":{\"backgroundcolor\":\"#E5ECF6\",\"gridcolor\":\"white\",\"gridwidth\":2,\"linecolor\":\"white\",\"showbackground\":true,\"ticks\":\"\",\"zerolinecolor\":\"white\"},\"zaxis\":{\"backgroundcolor\":\"#E5ECF6\",\"gridcolor\":\"white\",\"gridwidth\":2,\"linecolor\":\"white\",\"showbackground\":true,\"ticks\":\"\",\"zerolinecolor\":\"white\"}},\"shapedefaults\":{\"line\":{\"color\":\"#2a3f5f\"}},\"ternary\":{\"aaxis\":{\"gridcolor\":\"white\",\"linecolor\":\"white\",\"ticks\":\"\"},\"baxis\":{\"gridcolor\":\"white\",\"linecolor\":\"white\",\"ticks\":\"\"},\"bgcolor\":\"#E5ECF6\",\"caxis\":{\"gridcolor\":\"white\",\"linecolor\":\"white\",\"ticks\":\"\"}},\"title\":{\"x\":0.05},\"xaxis\":{\"automargin\":true,\"gridcolor\":\"white\",\"linecolor\":\"white\",\"ticks\":\"\",\"title\":{\"standoff\":15},\"zerolinecolor\":\"white\",\"zerolinewidth\":2},\"yaxis\":{\"automargin\":true,\"gridcolor\":\"white\",\"linecolor\":\"white\",\"ticks\":\"\",\"title\":{\"standoff\":15},\"zerolinecolor\":\"white\",\"zerolinewidth\":2}}}},                        {\"responsive\": true}                    ).then(function(){\n",
       "                            \n",
       "var gd = document.getElementById('7b644f15-480b-4c44-8040-5d1c0d16bb17');\n",
       "var x = new MutationObserver(function (mutations, observer) {{\n",
       "        var display = window.getComputedStyle(gd).display;\n",
       "        if (!display || display === 'none') {{\n",
       "            console.log([gd, 'removed!']);\n",
       "            Plotly.purge(gd);\n",
       "            observer.disconnect();\n",
       "        }}\n",
       "}});\n",
       "\n",
       "// Listen for the removal of the full notebook cells\n",
       "var notebookContainer = gd.closest('#notebook-container');\n",
       "if (notebookContainer) {{\n",
       "    x.observe(notebookContainer, {childList: true});\n",
       "}}\n",
       "\n",
       "// Listen for the clearing of the current output cell\n",
       "var outputEl = gd.closest('.output');\n",
       "if (outputEl) {{\n",
       "    x.observe(outputEl, {childList: true});\n",
       "}}\n",
       "\n",
       "                        })                };                });            </script>        </div>"
      ]
     },
     "metadata": {},
     "output_type": "display_data"
    }
   ],
   "source": [
    "draw_qa_bar('What color')"
   ]
  },
  {
   "cell_type": "code",
   "execution_count": 60,
   "metadata": {},
   "outputs": [
    {
     "data": {
      "application/vnd.plotly.v1+json": {
       "config": {
        "plotlyServerURL": "https://plot.ly"
       },
       "data": [
        {
         "text": "no",
         "textposition": "auto",
         "type": "bar",
         "width": 0.1,
         "x": [
          "Are"
         ],
         "y": [
          0.6474868844136064
         ]
        },
        {
         "text": "yes",
         "textposition": "auto",
         "type": "bar",
         "width": 0.1,
         "x": [
          "Are"
         ],
         "y": [
          0.3444745303773904
         ]
        },
        {
         "text": "visible",
         "textposition": "auto",
         "type": "bar",
         "width": 0.1,
         "x": [
          "Are"
         ],
         "y": [
          0.007361651717718734
         ]
        },
        {
         "text": "small",
         "textposition": "auto",
         "type": "bar",
         "width": 0.1,
         "x": [
          "Are"
         ],
         "y": [
          0.00033846674564224065
         ]
        },
        {
         "text": "different",
         "textposition": "auto",
         "type": "bar",
         "width": 0.1,
         "x": [
          "Are"
         ],
         "y": [
          8.461668641056016e-05
         ]
        },
        {
         "text": "present",
         "textposition": "auto",
         "type": "bar",
         "width": 0.1,
         "x": [
          "Are"
         ],
         "y": [
          8.461668641056016e-05
         ]
        },
        {
         "text": "empty",
         "textposition": "auto",
         "type": "bar",
         "width": 0.1,
         "x": [
          "Are"
         ],
         "y": [
          8.461668641056016e-05
         ]
        },
        {
         "text": "full",
         "textposition": "auto",
         "type": "bar",
         "width": 0.1,
         "x": [
          "Are"
         ],
         "y": [
          8.461668641056016e-05
         ]
        }
       ],
       "layout": {
        "barmode": "stack",
        "template": {
         "data": {
          "bar": [
           {
            "error_x": {
             "color": "#2a3f5f"
            },
            "error_y": {
             "color": "#2a3f5f"
            },
            "marker": {
             "line": {
              "color": "#E5ECF6",
              "width": 0.5
             },
             "pattern": {
              "fillmode": "overlay",
              "size": 10,
              "solidity": 0.2
             }
            },
            "type": "bar"
           }
          ],
          "barpolar": [
           {
            "marker": {
             "line": {
              "color": "#E5ECF6",
              "width": 0.5
             },
             "pattern": {
              "fillmode": "overlay",
              "size": 10,
              "solidity": 0.2
             }
            },
            "type": "barpolar"
           }
          ],
          "carpet": [
           {
            "aaxis": {
             "endlinecolor": "#2a3f5f",
             "gridcolor": "white",
             "linecolor": "white",
             "minorgridcolor": "white",
             "startlinecolor": "#2a3f5f"
            },
            "baxis": {
             "endlinecolor": "#2a3f5f",
             "gridcolor": "white",
             "linecolor": "white",
             "minorgridcolor": "white",
             "startlinecolor": "#2a3f5f"
            },
            "type": "carpet"
           }
          ],
          "choropleth": [
           {
            "colorbar": {
             "outlinewidth": 0,
             "ticks": ""
            },
            "type": "choropleth"
           }
          ],
          "contour": [
           {
            "colorbar": {
             "outlinewidth": 0,
             "ticks": ""
            },
            "colorscale": [
             [
              0,
              "#0d0887"
             ],
             [
              0.1111111111111111,
              "#46039f"
             ],
             [
              0.2222222222222222,
              "#7201a8"
             ],
             [
              0.3333333333333333,
              "#9c179e"
             ],
             [
              0.4444444444444444,
              "#bd3786"
             ],
             [
              0.5555555555555556,
              "#d8576b"
             ],
             [
              0.6666666666666666,
              "#ed7953"
             ],
             [
              0.7777777777777778,
              "#fb9f3a"
             ],
             [
              0.8888888888888888,
              "#fdca26"
             ],
             [
              1,
              "#f0f921"
             ]
            ],
            "type": "contour"
           }
          ],
          "contourcarpet": [
           {
            "colorbar": {
             "outlinewidth": 0,
             "ticks": ""
            },
            "type": "contourcarpet"
           }
          ],
          "heatmap": [
           {
            "colorbar": {
             "outlinewidth": 0,
             "ticks": ""
            },
            "colorscale": [
             [
              0,
              "#0d0887"
             ],
             [
              0.1111111111111111,
              "#46039f"
             ],
             [
              0.2222222222222222,
              "#7201a8"
             ],
             [
              0.3333333333333333,
              "#9c179e"
             ],
             [
              0.4444444444444444,
              "#bd3786"
             ],
             [
              0.5555555555555556,
              "#d8576b"
             ],
             [
              0.6666666666666666,
              "#ed7953"
             ],
             [
              0.7777777777777778,
              "#fb9f3a"
             ],
             [
              0.8888888888888888,
              "#fdca26"
             ],
             [
              1,
              "#f0f921"
             ]
            ],
            "type": "heatmap"
           }
          ],
          "heatmapgl": [
           {
            "colorbar": {
             "outlinewidth": 0,
             "ticks": ""
            },
            "colorscale": [
             [
              0,
              "#0d0887"
             ],
             [
              0.1111111111111111,
              "#46039f"
             ],
             [
              0.2222222222222222,
              "#7201a8"
             ],
             [
              0.3333333333333333,
              "#9c179e"
             ],
             [
              0.4444444444444444,
              "#bd3786"
             ],
             [
              0.5555555555555556,
              "#d8576b"
             ],
             [
              0.6666666666666666,
              "#ed7953"
             ],
             [
              0.7777777777777778,
              "#fb9f3a"
             ],
             [
              0.8888888888888888,
              "#fdca26"
             ],
             [
              1,
              "#f0f921"
             ]
            ],
            "type": "heatmapgl"
           }
          ],
          "histogram": [
           {
            "marker": {
             "pattern": {
              "fillmode": "overlay",
              "size": 10,
              "solidity": 0.2
             }
            },
            "type": "histogram"
           }
          ],
          "histogram2d": [
           {
            "colorbar": {
             "outlinewidth": 0,
             "ticks": ""
            },
            "colorscale": [
             [
              0,
              "#0d0887"
             ],
             [
              0.1111111111111111,
              "#46039f"
             ],
             [
              0.2222222222222222,
              "#7201a8"
             ],
             [
              0.3333333333333333,
              "#9c179e"
             ],
             [
              0.4444444444444444,
              "#bd3786"
             ],
             [
              0.5555555555555556,
              "#d8576b"
             ],
             [
              0.6666666666666666,
              "#ed7953"
             ],
             [
              0.7777777777777778,
              "#fb9f3a"
             ],
             [
              0.8888888888888888,
              "#fdca26"
             ],
             [
              1,
              "#f0f921"
             ]
            ],
            "type": "histogram2d"
           }
          ],
          "histogram2dcontour": [
           {
            "colorbar": {
             "outlinewidth": 0,
             "ticks": ""
            },
            "colorscale": [
             [
              0,
              "#0d0887"
             ],
             [
              0.1111111111111111,
              "#46039f"
             ],
             [
              0.2222222222222222,
              "#7201a8"
             ],
             [
              0.3333333333333333,
              "#9c179e"
             ],
             [
              0.4444444444444444,
              "#bd3786"
             ],
             [
              0.5555555555555556,
              "#d8576b"
             ],
             [
              0.6666666666666666,
              "#ed7953"
             ],
             [
              0.7777777777777778,
              "#fb9f3a"
             ],
             [
              0.8888888888888888,
              "#fdca26"
             ],
             [
              1,
              "#f0f921"
             ]
            ],
            "type": "histogram2dcontour"
           }
          ],
          "mesh3d": [
           {
            "colorbar": {
             "outlinewidth": 0,
             "ticks": ""
            },
            "type": "mesh3d"
           }
          ],
          "parcoords": [
           {
            "line": {
             "colorbar": {
              "outlinewidth": 0,
              "ticks": ""
             }
            },
            "type": "parcoords"
           }
          ],
          "pie": [
           {
            "automargin": true,
            "type": "pie"
           }
          ],
          "scatter": [
           {
            "marker": {
             "colorbar": {
              "outlinewidth": 0,
              "ticks": ""
             }
            },
            "type": "scatter"
           }
          ],
          "scatter3d": [
           {
            "line": {
             "colorbar": {
              "outlinewidth": 0,
              "ticks": ""
             }
            },
            "marker": {
             "colorbar": {
              "outlinewidth": 0,
              "ticks": ""
             }
            },
            "type": "scatter3d"
           }
          ],
          "scattercarpet": [
           {
            "marker": {
             "colorbar": {
              "outlinewidth": 0,
              "ticks": ""
             }
            },
            "type": "scattercarpet"
           }
          ],
          "scattergeo": [
           {
            "marker": {
             "colorbar": {
              "outlinewidth": 0,
              "ticks": ""
             }
            },
            "type": "scattergeo"
           }
          ],
          "scattergl": [
           {
            "marker": {
             "colorbar": {
              "outlinewidth": 0,
              "ticks": ""
             }
            },
            "type": "scattergl"
           }
          ],
          "scattermapbox": [
           {
            "marker": {
             "colorbar": {
              "outlinewidth": 0,
              "ticks": ""
             }
            },
            "type": "scattermapbox"
           }
          ],
          "scatterpolar": [
           {
            "marker": {
             "colorbar": {
              "outlinewidth": 0,
              "ticks": ""
             }
            },
            "type": "scatterpolar"
           }
          ],
          "scatterpolargl": [
           {
            "marker": {
             "colorbar": {
              "outlinewidth": 0,
              "ticks": ""
             }
            },
            "type": "scatterpolargl"
           }
          ],
          "scatterternary": [
           {
            "marker": {
             "colorbar": {
              "outlinewidth": 0,
              "ticks": ""
             }
            },
            "type": "scatterternary"
           }
          ],
          "surface": [
           {
            "colorbar": {
             "outlinewidth": 0,
             "ticks": ""
            },
            "colorscale": [
             [
              0,
              "#0d0887"
             ],
             [
              0.1111111111111111,
              "#46039f"
             ],
             [
              0.2222222222222222,
              "#7201a8"
             ],
             [
              0.3333333333333333,
              "#9c179e"
             ],
             [
              0.4444444444444444,
              "#bd3786"
             ],
             [
              0.5555555555555556,
              "#d8576b"
             ],
             [
              0.6666666666666666,
              "#ed7953"
             ],
             [
              0.7777777777777778,
              "#fb9f3a"
             ],
             [
              0.8888888888888888,
              "#fdca26"
             ],
             [
              1,
              "#f0f921"
             ]
            ],
            "type": "surface"
           }
          ],
          "table": [
           {
            "cells": {
             "fill": {
              "color": "#EBF0F8"
             },
             "line": {
              "color": "white"
             }
            },
            "header": {
             "fill": {
              "color": "#C8D4E3"
             },
             "line": {
              "color": "white"
             }
            },
            "type": "table"
           }
          ]
         },
         "layout": {
          "annotationdefaults": {
           "arrowcolor": "#2a3f5f",
           "arrowhead": 0,
           "arrowwidth": 1
          },
          "autotypenumbers": "strict",
          "coloraxis": {
           "colorbar": {
            "outlinewidth": 0,
            "ticks": ""
           }
          },
          "colorscale": {
           "diverging": [
            [
             0,
             "#8e0152"
            ],
            [
             0.1,
             "#c51b7d"
            ],
            [
             0.2,
             "#de77ae"
            ],
            [
             0.3,
             "#f1b6da"
            ],
            [
             0.4,
             "#fde0ef"
            ],
            [
             0.5,
             "#f7f7f7"
            ],
            [
             0.6,
             "#e6f5d0"
            ],
            [
             0.7,
             "#b8e186"
            ],
            [
             0.8,
             "#7fbc41"
            ],
            [
             0.9,
             "#4d9221"
            ],
            [
             1,
             "#276419"
            ]
           ],
           "sequential": [
            [
             0,
             "#0d0887"
            ],
            [
             0.1111111111111111,
             "#46039f"
            ],
            [
             0.2222222222222222,
             "#7201a8"
            ],
            [
             0.3333333333333333,
             "#9c179e"
            ],
            [
             0.4444444444444444,
             "#bd3786"
            ],
            [
             0.5555555555555556,
             "#d8576b"
            ],
            [
             0.6666666666666666,
             "#ed7953"
            ],
            [
             0.7777777777777778,
             "#fb9f3a"
            ],
            [
             0.8888888888888888,
             "#fdca26"
            ],
            [
             1,
             "#f0f921"
            ]
           ],
           "sequentialminus": [
            [
             0,
             "#0d0887"
            ],
            [
             0.1111111111111111,
             "#46039f"
            ],
            [
             0.2222222222222222,
             "#7201a8"
            ],
            [
             0.3333333333333333,
             "#9c179e"
            ],
            [
             0.4444444444444444,
             "#bd3786"
            ],
            [
             0.5555555555555556,
             "#d8576b"
            ],
            [
             0.6666666666666666,
             "#ed7953"
            ],
            [
             0.7777777777777778,
             "#fb9f3a"
            ],
            [
             0.8888888888888888,
             "#fdca26"
            ],
            [
             1,
             "#f0f921"
            ]
           ]
          },
          "colorway": [
           "#636efa",
           "#EF553B",
           "#00cc96",
           "#ab63fa",
           "#FFA15A",
           "#19d3f3",
           "#FF6692",
           "#B6E880",
           "#FF97FF",
           "#FECB52"
          ],
          "font": {
           "color": "#2a3f5f"
          },
          "geo": {
           "bgcolor": "white",
           "lakecolor": "white",
           "landcolor": "#E5ECF6",
           "showlakes": true,
           "showland": true,
           "subunitcolor": "white"
          },
          "hoverlabel": {
           "align": "left"
          },
          "hovermode": "closest",
          "mapbox": {
           "style": "light"
          },
          "paper_bgcolor": "white",
          "plot_bgcolor": "#E5ECF6",
          "polar": {
           "angularaxis": {
            "gridcolor": "white",
            "linecolor": "white",
            "ticks": ""
           },
           "bgcolor": "#E5ECF6",
           "radialaxis": {
            "gridcolor": "white",
            "linecolor": "white",
            "ticks": ""
           }
          },
          "scene": {
           "xaxis": {
            "backgroundcolor": "#E5ECF6",
            "gridcolor": "white",
            "gridwidth": 2,
            "linecolor": "white",
            "showbackground": true,
            "ticks": "",
            "zerolinecolor": "white"
           },
           "yaxis": {
            "backgroundcolor": "#E5ECF6",
            "gridcolor": "white",
            "gridwidth": 2,
            "linecolor": "white",
            "showbackground": true,
            "ticks": "",
            "zerolinecolor": "white"
           },
           "zaxis": {
            "backgroundcolor": "#E5ECF6",
            "gridcolor": "white",
            "gridwidth": 2,
            "linecolor": "white",
            "showbackground": true,
            "ticks": "",
            "zerolinecolor": "white"
           }
          },
          "shapedefaults": {
           "line": {
            "color": "#2a3f5f"
           }
          },
          "ternary": {
           "aaxis": {
            "gridcolor": "white",
            "linecolor": "white",
            "ticks": ""
           },
           "baxis": {
            "gridcolor": "white",
            "linecolor": "white",
            "ticks": ""
           },
           "bgcolor": "#E5ECF6",
           "caxis": {
            "gridcolor": "white",
            "linecolor": "white",
            "ticks": ""
           }
          },
          "title": {
           "x": 0.05
          },
          "xaxis": {
           "automargin": true,
           "gridcolor": "white",
           "linecolor": "white",
           "ticks": "",
           "title": {
            "standoff": 15
           },
           "zerolinecolor": "white",
           "zerolinewidth": 2
          },
          "yaxis": {
           "automargin": true,
           "gridcolor": "white",
           "linecolor": "white",
           "ticks": "",
           "title": {
            "standoff": 15
           },
           "zerolinecolor": "white",
           "zerolinewidth": 2
          }
         }
        }
       }
      },
      "text/html": [
       "<div>                            <div id=\"254033b9-5104-4822-a1db-31ed7d0d333a\" class=\"plotly-graph-div\" style=\"height:525px; width:100%;\"></div>            <script type=\"text/javascript\">                require([\"plotly\"], function(Plotly) {                    window.PLOTLYENV=window.PLOTLYENV || {};                                    if (document.getElementById(\"254033b9-5104-4822-a1db-31ed7d0d333a\")) {                    Plotly.newPlot(                        \"254033b9-5104-4822-a1db-31ed7d0d333a\",                        [{\"text\":\"no\",\"textposition\":\"auto\",\"type\":\"bar\",\"width\":0.1,\"x\":[\"Are\"],\"y\":[0.6474868844136064]},{\"text\":\"yes\",\"textposition\":\"auto\",\"type\":\"bar\",\"width\":0.1,\"x\":[\"Are\"],\"y\":[0.3444745303773904]},{\"text\":\"visible\",\"textposition\":\"auto\",\"type\":\"bar\",\"width\":0.1,\"x\":[\"Are\"],\"y\":[0.007361651717718734]},{\"text\":\"small\",\"textposition\":\"auto\",\"type\":\"bar\",\"width\":0.1,\"x\":[\"Are\"],\"y\":[0.00033846674564224065]},{\"text\":\"different\",\"textposition\":\"auto\",\"type\":\"bar\",\"width\":0.1,\"x\":[\"Are\"],\"y\":[8.461668641056016e-05]},{\"text\":\"present\",\"textposition\":\"auto\",\"type\":\"bar\",\"width\":0.1,\"x\":[\"Are\"],\"y\":[8.461668641056016e-05]},{\"text\":\"empty\",\"textposition\":\"auto\",\"type\":\"bar\",\"width\":0.1,\"x\":[\"Are\"],\"y\":[8.461668641056016e-05]},{\"text\":\"full\",\"textposition\":\"auto\",\"type\":\"bar\",\"width\":0.1,\"x\":[\"Are\"],\"y\":[8.461668641056016e-05]}],                        {\"barmode\":\"stack\",\"template\":{\"data\":{\"bar\":[{\"error_x\":{\"color\":\"#2a3f5f\"},\"error_y\":{\"color\":\"#2a3f5f\"},\"marker\":{\"line\":{\"color\":\"#E5ECF6\",\"width\":0.5},\"pattern\":{\"fillmode\":\"overlay\",\"size\":10,\"solidity\":0.2}},\"type\":\"bar\"}],\"barpolar\":[{\"marker\":{\"line\":{\"color\":\"#E5ECF6\",\"width\":0.5},\"pattern\":{\"fillmode\":\"overlay\",\"size\":10,\"solidity\":0.2}},\"type\":\"barpolar\"}],\"carpet\":[{\"aaxis\":{\"endlinecolor\":\"#2a3f5f\",\"gridcolor\":\"white\",\"linecolor\":\"white\",\"minorgridcolor\":\"white\",\"startlinecolor\":\"#2a3f5f\"},\"baxis\":{\"endlinecolor\":\"#2a3f5f\",\"gridcolor\":\"white\",\"linecolor\":\"white\",\"minorgridcolor\":\"white\",\"startlinecolor\":\"#2a3f5f\"},\"type\":\"carpet\"}],\"choropleth\":[{\"colorbar\":{\"outlinewidth\":0,\"ticks\":\"\"},\"type\":\"choropleth\"}],\"contour\":[{\"colorbar\":{\"outlinewidth\":0,\"ticks\":\"\"},\"colorscale\":[[0.0,\"#0d0887\"],[0.1111111111111111,\"#46039f\"],[0.2222222222222222,\"#7201a8\"],[0.3333333333333333,\"#9c179e\"],[0.4444444444444444,\"#bd3786\"],[0.5555555555555556,\"#d8576b\"],[0.6666666666666666,\"#ed7953\"],[0.7777777777777778,\"#fb9f3a\"],[0.8888888888888888,\"#fdca26\"],[1.0,\"#f0f921\"]],\"type\":\"contour\"}],\"contourcarpet\":[{\"colorbar\":{\"outlinewidth\":0,\"ticks\":\"\"},\"type\":\"contourcarpet\"}],\"heatmap\":[{\"colorbar\":{\"outlinewidth\":0,\"ticks\":\"\"},\"colorscale\":[[0.0,\"#0d0887\"],[0.1111111111111111,\"#46039f\"],[0.2222222222222222,\"#7201a8\"],[0.3333333333333333,\"#9c179e\"],[0.4444444444444444,\"#bd3786\"],[0.5555555555555556,\"#d8576b\"],[0.6666666666666666,\"#ed7953\"],[0.7777777777777778,\"#fb9f3a\"],[0.8888888888888888,\"#fdca26\"],[1.0,\"#f0f921\"]],\"type\":\"heatmap\"}],\"heatmapgl\":[{\"colorbar\":{\"outlinewidth\":0,\"ticks\":\"\"},\"colorscale\":[[0.0,\"#0d0887\"],[0.1111111111111111,\"#46039f\"],[0.2222222222222222,\"#7201a8\"],[0.3333333333333333,\"#9c179e\"],[0.4444444444444444,\"#bd3786\"],[0.5555555555555556,\"#d8576b\"],[0.6666666666666666,\"#ed7953\"],[0.7777777777777778,\"#fb9f3a\"],[0.8888888888888888,\"#fdca26\"],[1.0,\"#f0f921\"]],\"type\":\"heatmapgl\"}],\"histogram\":[{\"marker\":{\"pattern\":{\"fillmode\":\"overlay\",\"size\":10,\"solidity\":0.2}},\"type\":\"histogram\"}],\"histogram2d\":[{\"colorbar\":{\"outlinewidth\":0,\"ticks\":\"\"},\"colorscale\":[[0.0,\"#0d0887\"],[0.1111111111111111,\"#46039f\"],[0.2222222222222222,\"#7201a8\"],[0.3333333333333333,\"#9c179e\"],[0.4444444444444444,\"#bd3786\"],[0.5555555555555556,\"#d8576b\"],[0.6666666666666666,\"#ed7953\"],[0.7777777777777778,\"#fb9f3a\"],[0.8888888888888888,\"#fdca26\"],[1.0,\"#f0f921\"]],\"type\":\"histogram2d\"}],\"histogram2dcontour\":[{\"colorbar\":{\"outlinewidth\":0,\"ticks\":\"\"},\"colorscale\":[[0.0,\"#0d0887\"],[0.1111111111111111,\"#46039f\"],[0.2222222222222222,\"#7201a8\"],[0.3333333333333333,\"#9c179e\"],[0.4444444444444444,\"#bd3786\"],[0.5555555555555556,\"#d8576b\"],[0.6666666666666666,\"#ed7953\"],[0.7777777777777778,\"#fb9f3a\"],[0.8888888888888888,\"#fdca26\"],[1.0,\"#f0f921\"]],\"type\":\"histogram2dcontour\"}],\"mesh3d\":[{\"colorbar\":{\"outlinewidth\":0,\"ticks\":\"\"},\"type\":\"mesh3d\"}],\"parcoords\":[{\"line\":{\"colorbar\":{\"outlinewidth\":0,\"ticks\":\"\"}},\"type\":\"parcoords\"}],\"pie\":[{\"automargin\":true,\"type\":\"pie\"}],\"scatter\":[{\"marker\":{\"colorbar\":{\"outlinewidth\":0,\"ticks\":\"\"}},\"type\":\"scatter\"}],\"scatter3d\":[{\"line\":{\"colorbar\":{\"outlinewidth\":0,\"ticks\":\"\"}},\"marker\":{\"colorbar\":{\"outlinewidth\":0,\"ticks\":\"\"}},\"type\":\"scatter3d\"}],\"scattercarpet\":[{\"marker\":{\"colorbar\":{\"outlinewidth\":0,\"ticks\":\"\"}},\"type\":\"scattercarpet\"}],\"scattergeo\":[{\"marker\":{\"colorbar\":{\"outlinewidth\":0,\"ticks\":\"\"}},\"type\":\"scattergeo\"}],\"scattergl\":[{\"marker\":{\"colorbar\":{\"outlinewidth\":0,\"ticks\":\"\"}},\"type\":\"scattergl\"}],\"scattermapbox\":[{\"marker\":{\"colorbar\":{\"outlinewidth\":0,\"ticks\":\"\"}},\"type\":\"scattermapbox\"}],\"scatterpolar\":[{\"marker\":{\"colorbar\":{\"outlinewidth\":0,\"ticks\":\"\"}},\"type\":\"scatterpolar\"}],\"scatterpolargl\":[{\"marker\":{\"colorbar\":{\"outlinewidth\":0,\"ticks\":\"\"}},\"type\":\"scatterpolargl\"}],\"scatterternary\":[{\"marker\":{\"colorbar\":{\"outlinewidth\":0,\"ticks\":\"\"}},\"type\":\"scatterternary\"}],\"surface\":[{\"colorbar\":{\"outlinewidth\":0,\"ticks\":\"\"},\"colorscale\":[[0.0,\"#0d0887\"],[0.1111111111111111,\"#46039f\"],[0.2222222222222222,\"#7201a8\"],[0.3333333333333333,\"#9c179e\"],[0.4444444444444444,\"#bd3786\"],[0.5555555555555556,\"#d8576b\"],[0.6666666666666666,\"#ed7953\"],[0.7777777777777778,\"#fb9f3a\"],[0.8888888888888888,\"#fdca26\"],[1.0,\"#f0f921\"]],\"type\":\"surface\"}],\"table\":[{\"cells\":{\"fill\":{\"color\":\"#EBF0F8\"},\"line\":{\"color\":\"white\"}},\"header\":{\"fill\":{\"color\":\"#C8D4E3\"},\"line\":{\"color\":\"white\"}},\"type\":\"table\"}]},\"layout\":{\"annotationdefaults\":{\"arrowcolor\":\"#2a3f5f\",\"arrowhead\":0,\"arrowwidth\":1},\"autotypenumbers\":\"strict\",\"coloraxis\":{\"colorbar\":{\"outlinewidth\":0,\"ticks\":\"\"}},\"colorscale\":{\"diverging\":[[0,\"#8e0152\"],[0.1,\"#c51b7d\"],[0.2,\"#de77ae\"],[0.3,\"#f1b6da\"],[0.4,\"#fde0ef\"],[0.5,\"#f7f7f7\"],[0.6,\"#e6f5d0\"],[0.7,\"#b8e186\"],[0.8,\"#7fbc41\"],[0.9,\"#4d9221\"],[1,\"#276419\"]],\"sequential\":[[0.0,\"#0d0887\"],[0.1111111111111111,\"#46039f\"],[0.2222222222222222,\"#7201a8\"],[0.3333333333333333,\"#9c179e\"],[0.4444444444444444,\"#bd3786\"],[0.5555555555555556,\"#d8576b\"],[0.6666666666666666,\"#ed7953\"],[0.7777777777777778,\"#fb9f3a\"],[0.8888888888888888,\"#fdca26\"],[1.0,\"#f0f921\"]],\"sequentialminus\":[[0.0,\"#0d0887\"],[0.1111111111111111,\"#46039f\"],[0.2222222222222222,\"#7201a8\"],[0.3333333333333333,\"#9c179e\"],[0.4444444444444444,\"#bd3786\"],[0.5555555555555556,\"#d8576b\"],[0.6666666666666666,\"#ed7953\"],[0.7777777777777778,\"#fb9f3a\"],[0.8888888888888888,\"#fdca26\"],[1.0,\"#f0f921\"]]},\"colorway\":[\"#636efa\",\"#EF553B\",\"#00cc96\",\"#ab63fa\",\"#FFA15A\",\"#19d3f3\",\"#FF6692\",\"#B6E880\",\"#FF97FF\",\"#FECB52\"],\"font\":{\"color\":\"#2a3f5f\"},\"geo\":{\"bgcolor\":\"white\",\"lakecolor\":\"white\",\"landcolor\":\"#E5ECF6\",\"showlakes\":true,\"showland\":true,\"subunitcolor\":\"white\"},\"hoverlabel\":{\"align\":\"left\"},\"hovermode\":\"closest\",\"mapbox\":{\"style\":\"light\"},\"paper_bgcolor\":\"white\",\"plot_bgcolor\":\"#E5ECF6\",\"polar\":{\"angularaxis\":{\"gridcolor\":\"white\",\"linecolor\":\"white\",\"ticks\":\"\"},\"bgcolor\":\"#E5ECF6\",\"radialaxis\":{\"gridcolor\":\"white\",\"linecolor\":\"white\",\"ticks\":\"\"}},\"scene\":{\"xaxis\":{\"backgroundcolor\":\"#E5ECF6\",\"gridcolor\":\"white\",\"gridwidth\":2,\"linecolor\":\"white\",\"showbackground\":true,\"ticks\":\"\",\"zerolinecolor\":\"white\"},\"yaxis\":{\"backgroundcolor\":\"#E5ECF6\",\"gridcolor\":\"white\",\"gridwidth\":2,\"linecolor\":\"white\",\"showbackground\":true,\"ticks\":\"\",\"zerolinecolor\":\"white\"},\"zaxis\":{\"backgroundcolor\":\"#E5ECF6\",\"gridcolor\":\"white\",\"gridwidth\":2,\"linecolor\":\"white\",\"showbackground\":true,\"ticks\":\"\",\"zerolinecolor\":\"white\"}},\"shapedefaults\":{\"line\":{\"color\":\"#2a3f5f\"}},\"ternary\":{\"aaxis\":{\"gridcolor\":\"white\",\"linecolor\":\"white\",\"ticks\":\"\"},\"baxis\":{\"gridcolor\":\"white\",\"linecolor\":\"white\",\"ticks\":\"\"},\"bgcolor\":\"#E5ECF6\",\"caxis\":{\"gridcolor\":\"white\",\"linecolor\":\"white\",\"ticks\":\"\"}},\"title\":{\"x\":0.05},\"xaxis\":{\"automargin\":true,\"gridcolor\":\"white\",\"linecolor\":\"white\",\"ticks\":\"\",\"title\":{\"standoff\":15},\"zerolinecolor\":\"white\",\"zerolinewidth\":2},\"yaxis\":{\"automargin\":true,\"gridcolor\":\"white\",\"linecolor\":\"white\",\"ticks\":\"\",\"title\":{\"standoff\":15},\"zerolinecolor\":\"white\",\"zerolinewidth\":2}}}},                        {\"responsive\": true}                    ).then(function(){\n",
       "                            \n",
       "var gd = document.getElementById('254033b9-5104-4822-a1db-31ed7d0d333a');\n",
       "var x = new MutationObserver(function (mutations, observer) {{\n",
       "        var display = window.getComputedStyle(gd).display;\n",
       "        if (!display || display === 'none') {{\n",
       "            console.log([gd, 'removed!']);\n",
       "            Plotly.purge(gd);\n",
       "            observer.disconnect();\n",
       "        }}\n",
       "}});\n",
       "\n",
       "// Listen for the removal of the full notebook cells\n",
       "var notebookContainer = gd.closest('#notebook-container');\n",
       "if (notebookContainer) {{\n",
       "    x.observe(notebookContainer, {childList: true});\n",
       "}}\n",
       "\n",
       "// Listen for the clearing of the current output cell\n",
       "var outputEl = gd.closest('.output');\n",
       "if (outputEl) {{\n",
       "    x.observe(outputEl, {childList: true});\n",
       "}}\n",
       "\n",
       "                        })                };                });            </script>        </div>"
      ]
     },
     "metadata": {},
     "output_type": "display_data"
    }
   ],
   "source": [
    "draw_qa_bar('Are')"
   ]
  },
  {
   "cell_type": "code",
   "execution_count": 61,
   "metadata": {},
   "outputs": [
    {
     "data": {
      "application/vnd.plotly.v1+json": {
       "config": {
        "plotlyServerURL": "https://plot.ly"
       },
       "data": [
        {
         "text": "two",
         "textposition": "auto",
         "type": "bar",
         "width": 0.1,
         "x": [
          "How many"
         ],
         "y": [
          0.568986568986569
         ]
        },
        {
         "text": "one",
         "textposition": "auto",
         "type": "bar",
         "width": 0.1,
         "x": [
          "How many"
         ],
         "y": [
          0.1326821326821327
         ]
        },
        {
         "text": "three",
         "textposition": "auto",
         "type": "bar",
         "width": 0.1,
         "x": [
          "How many"
         ],
         "y": [
          0.08017908017908018
         ]
        },
        {
         "text": "couple",
         "textposition": "auto",
         "type": "bar",
         "width": 0.1,
         "x": [
          "How many"
         ],
         "y": [
          0.05453805453805454
         ]
        },
        {
         "text": "number",
         "textposition": "auto",
         "type": "bar",
         "width": 0.1,
         "x": [
          "How many"
         ],
         "y": [
          0.027676027676027677
         ]
        },
        {
         "text": "four",
         "textposition": "auto",
         "type": "bar",
         "width": 0.1,
         "x": [
          "How many"
         ],
         "y": [
          0.025234025234025233
         ]
        },
        {
         "text": "2",
         "textposition": "auto",
         "type": "bar",
         "width": 0.1,
         "x": [
          "How many"
         ],
         "y": [
          0.024013024013024013
         ]
        },
        {
         "text": "3",
         "textposition": "auto",
         "type": "bar",
         "width": 0.1,
         "x": [
          "How many"
         ],
         "y": [
          0.009768009768009768
         ]
        },
        {
         "text": "person",
         "textposition": "auto",
         "type": "bar",
         "width": 0.1,
         "x": [
          "How many"
         ],
         "y": [
          0.008954008954008955
         ]
        },
        {
         "text": "lamp",
         "textposition": "auto",
         "type": "bar",
         "width": 0.1,
         "x": [
          "How many"
         ],
         "y": [
          0.006919006919006919
         ]
        },
        {
         "text": "lot",
         "textposition": "auto",
         "type": "bar",
         "width": 0.1,
         "x": [
          "How many"
         ],
         "y": [
          0.006105006105006105
         ]
        },
        {
         "text": "bed",
         "textposition": "auto",
         "type": "bar",
         "width": 0.1,
         "x": [
          "How many"
         ],
         "y": [
          0.006105006105006105
         ]
        },
        {
         "text": "frame",
         "textposition": "auto",
         "type": "bar",
         "width": 0.1,
         "x": [
          "How many"
         ],
         "y": [
          0.005698005698005698
         ]
        },
        {
         "text": "building",
         "textposition": "auto",
         "type": "bar",
         "width": 0.1,
         "x": [
          "How many"
         ],
         "y": [
          0.003663003663003663
         ]
        },
        {
         "text": "pair",
         "textposition": "auto",
         "type": "bar",
         "width": 0.1,
         "x": [
          "How many"
         ],
         "y": [
          0.002849002849002849
         ]
        },
        {
         "text": "plant",
         "textposition": "auto",
         "type": "bar",
         "width": 0.1,
         "x": [
          "How many"
         ],
         "y": [
          0.002849002849002849
         ]
        },
        {
         "text": "large",
         "textposition": "auto",
         "type": "bar",
         "width": 0.1,
         "x": [
          "How many"
         ],
         "y": [
          0.002849002849002849
         ]
        },
        {
         "text": "small",
         "textposition": "auto",
         "type": "bar",
         "width": 0.1,
         "x": [
          "How many"
         ],
         "y": [
          0.002442002442002442
         ]
        },
        {
         "text": "full",
         "textposition": "auto",
         "type": "bar",
         "width": 0.1,
         "x": [
          "How many"
         ],
         "y": [
          0.002442002442002442
         ]
        },
        {
         "text": "empty",
         "textposition": "auto",
         "type": "bar",
         "width": 0.1,
         "x": [
          "How many"
         ],
         "y": [
          0.002442002442002442
         ]
        },
        {
         "text": "chair",
         "textposition": "auto",
         "type": "bar",
         "width": 0.1,
         "x": [
          "How many"
         ],
         "y": [
          0.002035002035002035
         ]
        },
        {
         "text": "bottle",
         "textposition": "auto",
         "type": "bar",
         "width": 0.1,
         "x": [
          "How many"
         ],
         "y": [
          0.002035002035002035
         ]
        },
        {
         "text": "man",
         "textposition": "auto",
         "type": "bar",
         "width": 0.1,
         "x": [
          "How many"
         ],
         "y": [
          0.002035002035002035
         ]
        },
        {
         "text": "pipe",
         "textposition": "auto",
         "type": "bar",
         "width": 0.1,
         "x": [
          "How many"
         ],
         "y": [
          0.001221001221001221
         ]
        },
        {
         "text": "various",
         "textposition": "auto",
         "type": "bar",
         "width": 0.1,
         "x": [
          "How many"
         ],
         "y": [
          0.001221001221001221
         ]
        },
        {
         "text": "sculpture",
         "textposition": "auto",
         "type": "bar",
         "width": 0.1,
         "x": [
          "How many"
         ],
         "y": [
          0.001221001221001221
         ]
        },
        {
         "text": "people",
         "textposition": "auto",
         "type": "bar",
         "width": 0.1,
         "x": [
          "How many"
         ],
         "y": [
          0.000814000814000814
         ]
        },
        {
         "text": "box",
         "textposition": "auto",
         "type": "bar",
         "width": 0.1,
         "x": [
          "How many"
         ],
         "y": [
          0.000814000814000814
         ]
        },
        {
         "text": "bird",
         "textposition": "auto",
         "type": "bar",
         "width": 0.1,
         "x": [
          "How many"
         ],
         "y": [
          0.000814000814000814
         ]
        },
        {
         "text": "shelf",
         "textposition": "auto",
         "type": "bar",
         "width": 0.1,
         "x": [
          "How many"
         ],
         "y": [
          0.000814000814000814
         ]
        },
        {
         "text": "huge",
         "textposition": "auto",
         "type": "bar",
         "width": 0.1,
         "x": [
          "How many"
         ],
         "y": [
          0.000814000814000814
         ]
        },
        {
         "text": "fleet",
         "textposition": "auto",
         "type": "bar",
         "width": 0.1,
         "x": [
          "How many"
         ],
         "y": [
          0.000814000814000814
         ]
        },
        {
         "text": "machine",
         "textposition": "auto",
         "type": "bar",
         "width": 0.1,
         "x": [
          "How many"
         ],
         "y": [
          0.000407000407000407
         ]
        },
        {
         "text": "woman",
         "textposition": "auto",
         "type": "bar",
         "width": 0.1,
         "x": [
          "How many"
         ],
         "y": [
          0.000407000407000407
         ]
        },
        {
         "text": "bag",
         "textposition": "auto",
         "type": "bar",
         "width": 0.1,
         "x": [
          "How many"
         ],
         "y": [
          0.000407000407000407
         ]
        },
        {
         "text": "speaker",
         "textposition": "auto",
         "type": "bar",
         "width": 0.1,
         "x": [
          "How many"
         ],
         "y": [
          0.000407000407000407
         ]
        },
        {
         "text": "pot",
         "textposition": "auto",
         "type": "bar",
         "width": 0.1,
         "x": [
          "How many"
         ],
         "y": [
          0.000407000407000407
         ]
        },
        {
         "text": "horse",
         "textposition": "auto",
         "type": "bar",
         "width": 0.1,
         "x": [
          "How many"
         ],
         "y": [
          0.000407000407000407
         ]
        },
        {
         "text": "cushion",
         "textposition": "auto",
         "type": "bar",
         "width": 0.1,
         "x": [
          "How many"
         ],
         "y": [
          0.000407000407000407
         ]
        },
        {
         "text": "dog",
         "textposition": "auto",
         "type": "bar",
         "width": 0.1,
         "x": [
          "How many"
         ],
         "y": [
          0.000407000407000407
         ]
        },
        {
         "text": "animal",
         "textposition": "auto",
         "type": "bar",
         "width": 0.1,
         "x": [
          "How many"
         ],
         "y": [
          0.000407000407000407
         ]
        },
        {
         "text": "chandelier",
         "textposition": "auto",
         "type": "bar",
         "width": 0.1,
         "x": [
          "How many"
         ],
         "y": [
          0.000407000407000407
         ]
        },
        {
         "text": "room",
         "textposition": "auto",
         "type": "bar",
         "width": 0.1,
         "x": [
          "How many"
         ],
         "y": [
          0.000407000407000407
         ]
        },
        {
         "text": "sink",
         "textposition": "auto",
         "type": "bar",
         "width": 0.1,
         "x": [
          "How many"
         ],
         "y": [
          0.000407000407000407
         ]
        },
        {
         "text": "boat",
         "textposition": "auto",
         "type": "bar",
         "width": 0.1,
         "x": [
          "How many"
         ],
         "y": [
          0.000407000407000407
         ]
        },
        {
         "text": "little",
         "textposition": "auto",
         "type": "bar",
         "width": 0.1,
         "x": [
          "How many"
         ],
         "y": [
          0.000407000407000407
         ]
        },
        {
         "text": "color",
         "textposition": "auto",
         "type": "bar",
         "width": 0.1,
         "x": [
          "How many"
         ],
         "y": [
          0.000407000407000407
         ]
        },
        {
         "text": "lady",
         "textposition": "auto",
         "type": "bar",
         "width": 0.1,
         "x": [
          "How many"
         ],
         "y": [
          0.000407000407000407
         ]
        },
        {
         "text": "basket",
         "textposition": "auto",
         "type": "bar",
         "width": 0.1,
         "x": [
          "How many"
         ],
         "y": [
          0.000407000407000407
         ]
        },
        {
         "text": "doll",
         "textposition": "auto",
         "type": "bar",
         "width": 0.1,
         "x": [
          "How many"
         ],
         "y": [
          0.000407000407000407
         ]
        },
        {
         "text": "screen",
         "textposition": "auto",
         "type": "bar",
         "width": 0.1,
         "x": [
          "How many"
         ],
         "y": [
          0.000407000407000407
         ]
        },
        {
         "text": "piece",
         "textposition": "auto",
         "type": "bar",
         "width": 0.1,
         "x": [
          "How many"
         ],
         "y": [
          0.000407000407000407
         ]
        },
        {
         "text": "table",
         "textposition": "auto",
         "type": "bar",
         "width": 0.1,
         "x": [
          "How many"
         ],
         "y": [
          0.000407000407000407
         ]
        },
        {
         "text": "bucket",
         "textposition": "auto",
         "type": "bar",
         "width": 0.1,
         "x": [
          "How many"
         ],
         "y": [
          0.000407000407000407
         ]
        }
       ],
       "layout": {
        "barmode": "stack",
        "template": {
         "data": {
          "bar": [
           {
            "error_x": {
             "color": "#2a3f5f"
            },
            "error_y": {
             "color": "#2a3f5f"
            },
            "marker": {
             "line": {
              "color": "#E5ECF6",
              "width": 0.5
             },
             "pattern": {
              "fillmode": "overlay",
              "size": 10,
              "solidity": 0.2
             }
            },
            "type": "bar"
           }
          ],
          "barpolar": [
           {
            "marker": {
             "line": {
              "color": "#E5ECF6",
              "width": 0.5
             },
             "pattern": {
              "fillmode": "overlay",
              "size": 10,
              "solidity": 0.2
             }
            },
            "type": "barpolar"
           }
          ],
          "carpet": [
           {
            "aaxis": {
             "endlinecolor": "#2a3f5f",
             "gridcolor": "white",
             "linecolor": "white",
             "minorgridcolor": "white",
             "startlinecolor": "#2a3f5f"
            },
            "baxis": {
             "endlinecolor": "#2a3f5f",
             "gridcolor": "white",
             "linecolor": "white",
             "minorgridcolor": "white",
             "startlinecolor": "#2a3f5f"
            },
            "type": "carpet"
           }
          ],
          "choropleth": [
           {
            "colorbar": {
             "outlinewidth": 0,
             "ticks": ""
            },
            "type": "choropleth"
           }
          ],
          "contour": [
           {
            "colorbar": {
             "outlinewidth": 0,
             "ticks": ""
            },
            "colorscale": [
             [
              0,
              "#0d0887"
             ],
             [
              0.1111111111111111,
              "#46039f"
             ],
             [
              0.2222222222222222,
              "#7201a8"
             ],
             [
              0.3333333333333333,
              "#9c179e"
             ],
             [
              0.4444444444444444,
              "#bd3786"
             ],
             [
              0.5555555555555556,
              "#d8576b"
             ],
             [
              0.6666666666666666,
              "#ed7953"
             ],
             [
              0.7777777777777778,
              "#fb9f3a"
             ],
             [
              0.8888888888888888,
              "#fdca26"
             ],
             [
              1,
              "#f0f921"
             ]
            ],
            "type": "contour"
           }
          ],
          "contourcarpet": [
           {
            "colorbar": {
             "outlinewidth": 0,
             "ticks": ""
            },
            "type": "contourcarpet"
           }
          ],
          "heatmap": [
           {
            "colorbar": {
             "outlinewidth": 0,
             "ticks": ""
            },
            "colorscale": [
             [
              0,
              "#0d0887"
             ],
             [
              0.1111111111111111,
              "#46039f"
             ],
             [
              0.2222222222222222,
              "#7201a8"
             ],
             [
              0.3333333333333333,
              "#9c179e"
             ],
             [
              0.4444444444444444,
              "#bd3786"
             ],
             [
              0.5555555555555556,
              "#d8576b"
             ],
             [
              0.6666666666666666,
              "#ed7953"
             ],
             [
              0.7777777777777778,
              "#fb9f3a"
             ],
             [
              0.8888888888888888,
              "#fdca26"
             ],
             [
              1,
              "#f0f921"
             ]
            ],
            "type": "heatmap"
           }
          ],
          "heatmapgl": [
           {
            "colorbar": {
             "outlinewidth": 0,
             "ticks": ""
            },
            "colorscale": [
             [
              0,
              "#0d0887"
             ],
             [
              0.1111111111111111,
              "#46039f"
             ],
             [
              0.2222222222222222,
              "#7201a8"
             ],
             [
              0.3333333333333333,
              "#9c179e"
             ],
             [
              0.4444444444444444,
              "#bd3786"
             ],
             [
              0.5555555555555556,
              "#d8576b"
             ],
             [
              0.6666666666666666,
              "#ed7953"
             ],
             [
              0.7777777777777778,
              "#fb9f3a"
             ],
             [
              0.8888888888888888,
              "#fdca26"
             ],
             [
              1,
              "#f0f921"
             ]
            ],
            "type": "heatmapgl"
           }
          ],
          "histogram": [
           {
            "marker": {
             "pattern": {
              "fillmode": "overlay",
              "size": 10,
              "solidity": 0.2
             }
            },
            "type": "histogram"
           }
          ],
          "histogram2d": [
           {
            "colorbar": {
             "outlinewidth": 0,
             "ticks": ""
            },
            "colorscale": [
             [
              0,
              "#0d0887"
             ],
             [
              0.1111111111111111,
              "#46039f"
             ],
             [
              0.2222222222222222,
              "#7201a8"
             ],
             [
              0.3333333333333333,
              "#9c179e"
             ],
             [
              0.4444444444444444,
              "#bd3786"
             ],
             [
              0.5555555555555556,
              "#d8576b"
             ],
             [
              0.6666666666666666,
              "#ed7953"
             ],
             [
              0.7777777777777778,
              "#fb9f3a"
             ],
             [
              0.8888888888888888,
              "#fdca26"
             ],
             [
              1,
              "#f0f921"
             ]
            ],
            "type": "histogram2d"
           }
          ],
          "histogram2dcontour": [
           {
            "colorbar": {
             "outlinewidth": 0,
             "ticks": ""
            },
            "colorscale": [
             [
              0,
              "#0d0887"
             ],
             [
              0.1111111111111111,
              "#46039f"
             ],
             [
              0.2222222222222222,
              "#7201a8"
             ],
             [
              0.3333333333333333,
              "#9c179e"
             ],
             [
              0.4444444444444444,
              "#bd3786"
             ],
             [
              0.5555555555555556,
              "#d8576b"
             ],
             [
              0.6666666666666666,
              "#ed7953"
             ],
             [
              0.7777777777777778,
              "#fb9f3a"
             ],
             [
              0.8888888888888888,
              "#fdca26"
             ],
             [
              1,
              "#f0f921"
             ]
            ],
            "type": "histogram2dcontour"
           }
          ],
          "mesh3d": [
           {
            "colorbar": {
             "outlinewidth": 0,
             "ticks": ""
            },
            "type": "mesh3d"
           }
          ],
          "parcoords": [
           {
            "line": {
             "colorbar": {
              "outlinewidth": 0,
              "ticks": ""
             }
            },
            "type": "parcoords"
           }
          ],
          "pie": [
           {
            "automargin": true,
            "type": "pie"
           }
          ],
          "scatter": [
           {
            "marker": {
             "colorbar": {
              "outlinewidth": 0,
              "ticks": ""
             }
            },
            "type": "scatter"
           }
          ],
          "scatter3d": [
           {
            "line": {
             "colorbar": {
              "outlinewidth": 0,
              "ticks": ""
             }
            },
            "marker": {
             "colorbar": {
              "outlinewidth": 0,
              "ticks": ""
             }
            },
            "type": "scatter3d"
           }
          ],
          "scattercarpet": [
           {
            "marker": {
             "colorbar": {
              "outlinewidth": 0,
              "ticks": ""
             }
            },
            "type": "scattercarpet"
           }
          ],
          "scattergeo": [
           {
            "marker": {
             "colorbar": {
              "outlinewidth": 0,
              "ticks": ""
             }
            },
            "type": "scattergeo"
           }
          ],
          "scattergl": [
           {
            "marker": {
             "colorbar": {
              "outlinewidth": 0,
              "ticks": ""
             }
            },
            "type": "scattergl"
           }
          ],
          "scattermapbox": [
           {
            "marker": {
             "colorbar": {
              "outlinewidth": 0,
              "ticks": ""
             }
            },
            "type": "scattermapbox"
           }
          ],
          "scatterpolar": [
           {
            "marker": {
             "colorbar": {
              "outlinewidth": 0,
              "ticks": ""
             }
            },
            "type": "scatterpolar"
           }
          ],
          "scatterpolargl": [
           {
            "marker": {
             "colorbar": {
              "outlinewidth": 0,
              "ticks": ""
             }
            },
            "type": "scatterpolargl"
           }
          ],
          "scatterternary": [
           {
            "marker": {
             "colorbar": {
              "outlinewidth": 0,
              "ticks": ""
             }
            },
            "type": "scatterternary"
           }
          ],
          "surface": [
           {
            "colorbar": {
             "outlinewidth": 0,
             "ticks": ""
            },
            "colorscale": [
             [
              0,
              "#0d0887"
             ],
             [
              0.1111111111111111,
              "#46039f"
             ],
             [
              0.2222222222222222,
              "#7201a8"
             ],
             [
              0.3333333333333333,
              "#9c179e"
             ],
             [
              0.4444444444444444,
              "#bd3786"
             ],
             [
              0.5555555555555556,
              "#d8576b"
             ],
             [
              0.6666666666666666,
              "#ed7953"
             ],
             [
              0.7777777777777778,
              "#fb9f3a"
             ],
             [
              0.8888888888888888,
              "#fdca26"
             ],
             [
              1,
              "#f0f921"
             ]
            ],
            "type": "surface"
           }
          ],
          "table": [
           {
            "cells": {
             "fill": {
              "color": "#EBF0F8"
             },
             "line": {
              "color": "white"
             }
            },
            "header": {
             "fill": {
              "color": "#C8D4E3"
             },
             "line": {
              "color": "white"
             }
            },
            "type": "table"
           }
          ]
         },
         "layout": {
          "annotationdefaults": {
           "arrowcolor": "#2a3f5f",
           "arrowhead": 0,
           "arrowwidth": 1
          },
          "autotypenumbers": "strict",
          "coloraxis": {
           "colorbar": {
            "outlinewidth": 0,
            "ticks": ""
           }
          },
          "colorscale": {
           "diverging": [
            [
             0,
             "#8e0152"
            ],
            [
             0.1,
             "#c51b7d"
            ],
            [
             0.2,
             "#de77ae"
            ],
            [
             0.3,
             "#f1b6da"
            ],
            [
             0.4,
             "#fde0ef"
            ],
            [
             0.5,
             "#f7f7f7"
            ],
            [
             0.6,
             "#e6f5d0"
            ],
            [
             0.7,
             "#b8e186"
            ],
            [
             0.8,
             "#7fbc41"
            ],
            [
             0.9,
             "#4d9221"
            ],
            [
             1,
             "#276419"
            ]
           ],
           "sequential": [
            [
             0,
             "#0d0887"
            ],
            [
             0.1111111111111111,
             "#46039f"
            ],
            [
             0.2222222222222222,
             "#7201a8"
            ],
            [
             0.3333333333333333,
             "#9c179e"
            ],
            [
             0.4444444444444444,
             "#bd3786"
            ],
            [
             0.5555555555555556,
             "#d8576b"
            ],
            [
             0.6666666666666666,
             "#ed7953"
            ],
            [
             0.7777777777777778,
             "#fb9f3a"
            ],
            [
             0.8888888888888888,
             "#fdca26"
            ],
            [
             1,
             "#f0f921"
            ]
           ],
           "sequentialminus": [
            [
             0,
             "#0d0887"
            ],
            [
             0.1111111111111111,
             "#46039f"
            ],
            [
             0.2222222222222222,
             "#7201a8"
            ],
            [
             0.3333333333333333,
             "#9c179e"
            ],
            [
             0.4444444444444444,
             "#bd3786"
            ],
            [
             0.5555555555555556,
             "#d8576b"
            ],
            [
             0.6666666666666666,
             "#ed7953"
            ],
            [
             0.7777777777777778,
             "#fb9f3a"
            ],
            [
             0.8888888888888888,
             "#fdca26"
            ],
            [
             1,
             "#f0f921"
            ]
           ]
          },
          "colorway": [
           "#636efa",
           "#EF553B",
           "#00cc96",
           "#ab63fa",
           "#FFA15A",
           "#19d3f3",
           "#FF6692",
           "#B6E880",
           "#FF97FF",
           "#FECB52"
          ],
          "font": {
           "color": "#2a3f5f"
          },
          "geo": {
           "bgcolor": "white",
           "lakecolor": "white",
           "landcolor": "#E5ECF6",
           "showlakes": true,
           "showland": true,
           "subunitcolor": "white"
          },
          "hoverlabel": {
           "align": "left"
          },
          "hovermode": "closest",
          "mapbox": {
           "style": "light"
          },
          "paper_bgcolor": "white",
          "plot_bgcolor": "#E5ECF6",
          "polar": {
           "angularaxis": {
            "gridcolor": "white",
            "linecolor": "white",
            "ticks": ""
           },
           "bgcolor": "#E5ECF6",
           "radialaxis": {
            "gridcolor": "white",
            "linecolor": "white",
            "ticks": ""
           }
          },
          "scene": {
           "xaxis": {
            "backgroundcolor": "#E5ECF6",
            "gridcolor": "white",
            "gridwidth": 2,
            "linecolor": "white",
            "showbackground": true,
            "ticks": "",
            "zerolinecolor": "white"
           },
           "yaxis": {
            "backgroundcolor": "#E5ECF6",
            "gridcolor": "white",
            "gridwidth": 2,
            "linecolor": "white",
            "showbackground": true,
            "ticks": "",
            "zerolinecolor": "white"
           },
           "zaxis": {
            "backgroundcolor": "#E5ECF6",
            "gridcolor": "white",
            "gridwidth": 2,
            "linecolor": "white",
            "showbackground": true,
            "ticks": "",
            "zerolinecolor": "white"
           }
          },
          "shapedefaults": {
           "line": {
            "color": "#2a3f5f"
           }
          },
          "ternary": {
           "aaxis": {
            "gridcolor": "white",
            "linecolor": "white",
            "ticks": ""
           },
           "baxis": {
            "gridcolor": "white",
            "linecolor": "white",
            "ticks": ""
           },
           "bgcolor": "#E5ECF6",
           "caxis": {
            "gridcolor": "white",
            "linecolor": "white",
            "ticks": ""
           }
          },
          "title": {
           "x": 0.05
          },
          "xaxis": {
           "automargin": true,
           "gridcolor": "white",
           "linecolor": "white",
           "ticks": "",
           "title": {
            "standoff": 15
           },
           "zerolinecolor": "white",
           "zerolinewidth": 2
          },
          "yaxis": {
           "automargin": true,
           "gridcolor": "white",
           "linecolor": "white",
           "ticks": "",
           "title": {
            "standoff": 15
           },
           "zerolinecolor": "white",
           "zerolinewidth": 2
          }
         }
        }
       }
      },
      "text/html": [
       "<div>                            <div id=\"ec6f1d43-dc2d-47d4-9917-712d37e640bb\" class=\"plotly-graph-div\" style=\"height:525px; width:100%;\"></div>            <script type=\"text/javascript\">                require([\"plotly\"], function(Plotly) {                    window.PLOTLYENV=window.PLOTLYENV || {};                                    if (document.getElementById(\"ec6f1d43-dc2d-47d4-9917-712d37e640bb\")) {                    Plotly.newPlot(                        \"ec6f1d43-dc2d-47d4-9917-712d37e640bb\",                        [{\"text\":\"two\",\"textposition\":\"auto\",\"type\":\"bar\",\"width\":0.1,\"x\":[\"How many\"],\"y\":[0.568986568986569]},{\"text\":\"one\",\"textposition\":\"auto\",\"type\":\"bar\",\"width\":0.1,\"x\":[\"How many\"],\"y\":[0.1326821326821327]},{\"text\":\"three\",\"textposition\":\"auto\",\"type\":\"bar\",\"width\":0.1,\"x\":[\"How many\"],\"y\":[0.08017908017908018]},{\"text\":\"couple\",\"textposition\":\"auto\",\"type\":\"bar\",\"width\":0.1,\"x\":[\"How many\"],\"y\":[0.05453805453805454]},{\"text\":\"number\",\"textposition\":\"auto\",\"type\":\"bar\",\"width\":0.1,\"x\":[\"How many\"],\"y\":[0.027676027676027677]},{\"text\":\"four\",\"textposition\":\"auto\",\"type\":\"bar\",\"width\":0.1,\"x\":[\"How many\"],\"y\":[0.025234025234025233]},{\"text\":\"2\",\"textposition\":\"auto\",\"type\":\"bar\",\"width\":0.1,\"x\":[\"How many\"],\"y\":[0.024013024013024013]},{\"text\":\"3\",\"textposition\":\"auto\",\"type\":\"bar\",\"width\":0.1,\"x\":[\"How many\"],\"y\":[0.009768009768009768]},{\"text\":\"person\",\"textposition\":\"auto\",\"type\":\"bar\",\"width\":0.1,\"x\":[\"How many\"],\"y\":[0.008954008954008955]},{\"text\":\"lamp\",\"textposition\":\"auto\",\"type\":\"bar\",\"width\":0.1,\"x\":[\"How many\"],\"y\":[0.006919006919006919]},{\"text\":\"lot\",\"textposition\":\"auto\",\"type\":\"bar\",\"width\":0.1,\"x\":[\"How many\"],\"y\":[0.006105006105006105]},{\"text\":\"bed\",\"textposition\":\"auto\",\"type\":\"bar\",\"width\":0.1,\"x\":[\"How many\"],\"y\":[0.006105006105006105]},{\"text\":\"frame\",\"textposition\":\"auto\",\"type\":\"bar\",\"width\":0.1,\"x\":[\"How many\"],\"y\":[0.005698005698005698]},{\"text\":\"building\",\"textposition\":\"auto\",\"type\":\"bar\",\"width\":0.1,\"x\":[\"How many\"],\"y\":[0.003663003663003663]},{\"text\":\"pair\",\"textposition\":\"auto\",\"type\":\"bar\",\"width\":0.1,\"x\":[\"How many\"],\"y\":[0.002849002849002849]},{\"text\":\"plant\",\"textposition\":\"auto\",\"type\":\"bar\",\"width\":0.1,\"x\":[\"How many\"],\"y\":[0.002849002849002849]},{\"text\":\"large\",\"textposition\":\"auto\",\"type\":\"bar\",\"width\":0.1,\"x\":[\"How many\"],\"y\":[0.002849002849002849]},{\"text\":\"small\",\"textposition\":\"auto\",\"type\":\"bar\",\"width\":0.1,\"x\":[\"How many\"],\"y\":[0.002442002442002442]},{\"text\":\"full\",\"textposition\":\"auto\",\"type\":\"bar\",\"width\":0.1,\"x\":[\"How many\"],\"y\":[0.002442002442002442]},{\"text\":\"empty\",\"textposition\":\"auto\",\"type\":\"bar\",\"width\":0.1,\"x\":[\"How many\"],\"y\":[0.002442002442002442]},{\"text\":\"chair\",\"textposition\":\"auto\",\"type\":\"bar\",\"width\":0.1,\"x\":[\"How many\"],\"y\":[0.002035002035002035]},{\"text\":\"bottle\",\"textposition\":\"auto\",\"type\":\"bar\",\"width\":0.1,\"x\":[\"How many\"],\"y\":[0.002035002035002035]},{\"text\":\"man\",\"textposition\":\"auto\",\"type\":\"bar\",\"width\":0.1,\"x\":[\"How many\"],\"y\":[0.002035002035002035]},{\"text\":\"pipe\",\"textposition\":\"auto\",\"type\":\"bar\",\"width\":0.1,\"x\":[\"How many\"],\"y\":[0.001221001221001221]},{\"text\":\"various\",\"textposition\":\"auto\",\"type\":\"bar\",\"width\":0.1,\"x\":[\"How many\"],\"y\":[0.001221001221001221]},{\"text\":\"sculpture\",\"textposition\":\"auto\",\"type\":\"bar\",\"width\":0.1,\"x\":[\"How many\"],\"y\":[0.001221001221001221]},{\"text\":\"people\",\"textposition\":\"auto\",\"type\":\"bar\",\"width\":0.1,\"x\":[\"How many\"],\"y\":[0.000814000814000814]},{\"text\":\"box\",\"textposition\":\"auto\",\"type\":\"bar\",\"width\":0.1,\"x\":[\"How many\"],\"y\":[0.000814000814000814]},{\"text\":\"bird\",\"textposition\":\"auto\",\"type\":\"bar\",\"width\":0.1,\"x\":[\"How many\"],\"y\":[0.000814000814000814]},{\"text\":\"shelf\",\"textposition\":\"auto\",\"type\":\"bar\",\"width\":0.1,\"x\":[\"How many\"],\"y\":[0.000814000814000814]},{\"text\":\"huge\",\"textposition\":\"auto\",\"type\":\"bar\",\"width\":0.1,\"x\":[\"How many\"],\"y\":[0.000814000814000814]},{\"text\":\"fleet\",\"textposition\":\"auto\",\"type\":\"bar\",\"width\":0.1,\"x\":[\"How many\"],\"y\":[0.000814000814000814]},{\"text\":\"machine\",\"textposition\":\"auto\",\"type\":\"bar\",\"width\":0.1,\"x\":[\"How many\"],\"y\":[0.000407000407000407]},{\"text\":\"woman\",\"textposition\":\"auto\",\"type\":\"bar\",\"width\":0.1,\"x\":[\"How many\"],\"y\":[0.000407000407000407]},{\"text\":\"bag\",\"textposition\":\"auto\",\"type\":\"bar\",\"width\":0.1,\"x\":[\"How many\"],\"y\":[0.000407000407000407]},{\"text\":\"speaker\",\"textposition\":\"auto\",\"type\":\"bar\",\"width\":0.1,\"x\":[\"How many\"],\"y\":[0.000407000407000407]},{\"text\":\"pot\",\"textposition\":\"auto\",\"type\":\"bar\",\"width\":0.1,\"x\":[\"How many\"],\"y\":[0.000407000407000407]},{\"text\":\"horse\",\"textposition\":\"auto\",\"type\":\"bar\",\"width\":0.1,\"x\":[\"How many\"],\"y\":[0.000407000407000407]},{\"text\":\"cushion\",\"textposition\":\"auto\",\"type\":\"bar\",\"width\":0.1,\"x\":[\"How many\"],\"y\":[0.000407000407000407]},{\"text\":\"dog\",\"textposition\":\"auto\",\"type\":\"bar\",\"width\":0.1,\"x\":[\"How many\"],\"y\":[0.000407000407000407]},{\"text\":\"animal\",\"textposition\":\"auto\",\"type\":\"bar\",\"width\":0.1,\"x\":[\"How many\"],\"y\":[0.000407000407000407]},{\"text\":\"chandelier\",\"textposition\":\"auto\",\"type\":\"bar\",\"width\":0.1,\"x\":[\"How many\"],\"y\":[0.000407000407000407]},{\"text\":\"room\",\"textposition\":\"auto\",\"type\":\"bar\",\"width\":0.1,\"x\":[\"How many\"],\"y\":[0.000407000407000407]},{\"text\":\"sink\",\"textposition\":\"auto\",\"type\":\"bar\",\"width\":0.1,\"x\":[\"How many\"],\"y\":[0.000407000407000407]},{\"text\":\"boat\",\"textposition\":\"auto\",\"type\":\"bar\",\"width\":0.1,\"x\":[\"How many\"],\"y\":[0.000407000407000407]},{\"text\":\"little\",\"textposition\":\"auto\",\"type\":\"bar\",\"width\":0.1,\"x\":[\"How many\"],\"y\":[0.000407000407000407]},{\"text\":\"color\",\"textposition\":\"auto\",\"type\":\"bar\",\"width\":0.1,\"x\":[\"How many\"],\"y\":[0.000407000407000407]},{\"text\":\"lady\",\"textposition\":\"auto\",\"type\":\"bar\",\"width\":0.1,\"x\":[\"How many\"],\"y\":[0.000407000407000407]},{\"text\":\"basket\",\"textposition\":\"auto\",\"type\":\"bar\",\"width\":0.1,\"x\":[\"How many\"],\"y\":[0.000407000407000407]},{\"text\":\"doll\",\"textposition\":\"auto\",\"type\":\"bar\",\"width\":0.1,\"x\":[\"How many\"],\"y\":[0.000407000407000407]},{\"text\":\"screen\",\"textposition\":\"auto\",\"type\":\"bar\",\"width\":0.1,\"x\":[\"How many\"],\"y\":[0.000407000407000407]},{\"text\":\"piece\",\"textposition\":\"auto\",\"type\":\"bar\",\"width\":0.1,\"x\":[\"How many\"],\"y\":[0.000407000407000407]},{\"text\":\"table\",\"textposition\":\"auto\",\"type\":\"bar\",\"width\":0.1,\"x\":[\"How many\"],\"y\":[0.000407000407000407]},{\"text\":\"bucket\",\"textposition\":\"auto\",\"type\":\"bar\",\"width\":0.1,\"x\":[\"How many\"],\"y\":[0.000407000407000407]}],                        {\"barmode\":\"stack\",\"template\":{\"data\":{\"bar\":[{\"error_x\":{\"color\":\"#2a3f5f\"},\"error_y\":{\"color\":\"#2a3f5f\"},\"marker\":{\"line\":{\"color\":\"#E5ECF6\",\"width\":0.5},\"pattern\":{\"fillmode\":\"overlay\",\"size\":10,\"solidity\":0.2}},\"type\":\"bar\"}],\"barpolar\":[{\"marker\":{\"line\":{\"color\":\"#E5ECF6\",\"width\":0.5},\"pattern\":{\"fillmode\":\"overlay\",\"size\":10,\"solidity\":0.2}},\"type\":\"barpolar\"}],\"carpet\":[{\"aaxis\":{\"endlinecolor\":\"#2a3f5f\",\"gridcolor\":\"white\",\"linecolor\":\"white\",\"minorgridcolor\":\"white\",\"startlinecolor\":\"#2a3f5f\"},\"baxis\":{\"endlinecolor\":\"#2a3f5f\",\"gridcolor\":\"white\",\"linecolor\":\"white\",\"minorgridcolor\":\"white\",\"startlinecolor\":\"#2a3f5f\"},\"type\":\"carpet\"}],\"choropleth\":[{\"colorbar\":{\"outlinewidth\":0,\"ticks\":\"\"},\"type\":\"choropleth\"}],\"contour\":[{\"colorbar\":{\"outlinewidth\":0,\"ticks\":\"\"},\"colorscale\":[[0.0,\"#0d0887\"],[0.1111111111111111,\"#46039f\"],[0.2222222222222222,\"#7201a8\"],[0.3333333333333333,\"#9c179e\"],[0.4444444444444444,\"#bd3786\"],[0.5555555555555556,\"#d8576b\"],[0.6666666666666666,\"#ed7953\"],[0.7777777777777778,\"#fb9f3a\"],[0.8888888888888888,\"#fdca26\"],[1.0,\"#f0f921\"]],\"type\":\"contour\"}],\"contourcarpet\":[{\"colorbar\":{\"outlinewidth\":0,\"ticks\":\"\"},\"type\":\"contourcarpet\"}],\"heatmap\":[{\"colorbar\":{\"outlinewidth\":0,\"ticks\":\"\"},\"colorscale\":[[0.0,\"#0d0887\"],[0.1111111111111111,\"#46039f\"],[0.2222222222222222,\"#7201a8\"],[0.3333333333333333,\"#9c179e\"],[0.4444444444444444,\"#bd3786\"],[0.5555555555555556,\"#d8576b\"],[0.6666666666666666,\"#ed7953\"],[0.7777777777777778,\"#fb9f3a\"],[0.8888888888888888,\"#fdca26\"],[1.0,\"#f0f921\"]],\"type\":\"heatmap\"}],\"heatmapgl\":[{\"colorbar\":{\"outlinewidth\":0,\"ticks\":\"\"},\"colorscale\":[[0.0,\"#0d0887\"],[0.1111111111111111,\"#46039f\"],[0.2222222222222222,\"#7201a8\"],[0.3333333333333333,\"#9c179e\"],[0.4444444444444444,\"#bd3786\"],[0.5555555555555556,\"#d8576b\"],[0.6666666666666666,\"#ed7953\"],[0.7777777777777778,\"#fb9f3a\"],[0.8888888888888888,\"#fdca26\"],[1.0,\"#f0f921\"]],\"type\":\"heatmapgl\"}],\"histogram\":[{\"marker\":{\"pattern\":{\"fillmode\":\"overlay\",\"size\":10,\"solidity\":0.2}},\"type\":\"histogram\"}],\"histogram2d\":[{\"colorbar\":{\"outlinewidth\":0,\"ticks\":\"\"},\"colorscale\":[[0.0,\"#0d0887\"],[0.1111111111111111,\"#46039f\"],[0.2222222222222222,\"#7201a8\"],[0.3333333333333333,\"#9c179e\"],[0.4444444444444444,\"#bd3786\"],[0.5555555555555556,\"#d8576b\"],[0.6666666666666666,\"#ed7953\"],[0.7777777777777778,\"#fb9f3a\"],[0.8888888888888888,\"#fdca26\"],[1.0,\"#f0f921\"]],\"type\":\"histogram2d\"}],\"histogram2dcontour\":[{\"colorbar\":{\"outlinewidth\":0,\"ticks\":\"\"},\"colorscale\":[[0.0,\"#0d0887\"],[0.1111111111111111,\"#46039f\"],[0.2222222222222222,\"#7201a8\"],[0.3333333333333333,\"#9c179e\"],[0.4444444444444444,\"#bd3786\"],[0.5555555555555556,\"#d8576b\"],[0.6666666666666666,\"#ed7953\"],[0.7777777777777778,\"#fb9f3a\"],[0.8888888888888888,\"#fdca26\"],[1.0,\"#f0f921\"]],\"type\":\"histogram2dcontour\"}],\"mesh3d\":[{\"colorbar\":{\"outlinewidth\":0,\"ticks\":\"\"},\"type\":\"mesh3d\"}],\"parcoords\":[{\"line\":{\"colorbar\":{\"outlinewidth\":0,\"ticks\":\"\"}},\"type\":\"parcoords\"}],\"pie\":[{\"automargin\":true,\"type\":\"pie\"}],\"scatter\":[{\"marker\":{\"colorbar\":{\"outlinewidth\":0,\"ticks\":\"\"}},\"type\":\"scatter\"}],\"scatter3d\":[{\"line\":{\"colorbar\":{\"outlinewidth\":0,\"ticks\":\"\"}},\"marker\":{\"colorbar\":{\"outlinewidth\":0,\"ticks\":\"\"}},\"type\":\"scatter3d\"}],\"scattercarpet\":[{\"marker\":{\"colorbar\":{\"outlinewidth\":0,\"ticks\":\"\"}},\"type\":\"scattercarpet\"}],\"scattergeo\":[{\"marker\":{\"colorbar\":{\"outlinewidth\":0,\"ticks\":\"\"}},\"type\":\"scattergeo\"}],\"scattergl\":[{\"marker\":{\"colorbar\":{\"outlinewidth\":0,\"ticks\":\"\"}},\"type\":\"scattergl\"}],\"scattermapbox\":[{\"marker\":{\"colorbar\":{\"outlinewidth\":0,\"ticks\":\"\"}},\"type\":\"scattermapbox\"}],\"scatterpolar\":[{\"marker\":{\"colorbar\":{\"outlinewidth\":0,\"ticks\":\"\"}},\"type\":\"scatterpolar\"}],\"scatterpolargl\":[{\"marker\":{\"colorbar\":{\"outlinewidth\":0,\"ticks\":\"\"}},\"type\":\"scatterpolargl\"}],\"scatterternary\":[{\"marker\":{\"colorbar\":{\"outlinewidth\":0,\"ticks\":\"\"}},\"type\":\"scatterternary\"}],\"surface\":[{\"colorbar\":{\"outlinewidth\":0,\"ticks\":\"\"},\"colorscale\":[[0.0,\"#0d0887\"],[0.1111111111111111,\"#46039f\"],[0.2222222222222222,\"#7201a8\"],[0.3333333333333333,\"#9c179e\"],[0.4444444444444444,\"#bd3786\"],[0.5555555555555556,\"#d8576b\"],[0.6666666666666666,\"#ed7953\"],[0.7777777777777778,\"#fb9f3a\"],[0.8888888888888888,\"#fdca26\"],[1.0,\"#f0f921\"]],\"type\":\"surface\"}],\"table\":[{\"cells\":{\"fill\":{\"color\":\"#EBF0F8\"},\"line\":{\"color\":\"white\"}},\"header\":{\"fill\":{\"color\":\"#C8D4E3\"},\"line\":{\"color\":\"white\"}},\"type\":\"table\"}]},\"layout\":{\"annotationdefaults\":{\"arrowcolor\":\"#2a3f5f\",\"arrowhead\":0,\"arrowwidth\":1},\"autotypenumbers\":\"strict\",\"coloraxis\":{\"colorbar\":{\"outlinewidth\":0,\"ticks\":\"\"}},\"colorscale\":{\"diverging\":[[0,\"#8e0152\"],[0.1,\"#c51b7d\"],[0.2,\"#de77ae\"],[0.3,\"#f1b6da\"],[0.4,\"#fde0ef\"],[0.5,\"#f7f7f7\"],[0.6,\"#e6f5d0\"],[0.7,\"#b8e186\"],[0.8,\"#7fbc41\"],[0.9,\"#4d9221\"],[1,\"#276419\"]],\"sequential\":[[0.0,\"#0d0887\"],[0.1111111111111111,\"#46039f\"],[0.2222222222222222,\"#7201a8\"],[0.3333333333333333,\"#9c179e\"],[0.4444444444444444,\"#bd3786\"],[0.5555555555555556,\"#d8576b\"],[0.6666666666666666,\"#ed7953\"],[0.7777777777777778,\"#fb9f3a\"],[0.8888888888888888,\"#fdca26\"],[1.0,\"#f0f921\"]],\"sequentialminus\":[[0.0,\"#0d0887\"],[0.1111111111111111,\"#46039f\"],[0.2222222222222222,\"#7201a8\"],[0.3333333333333333,\"#9c179e\"],[0.4444444444444444,\"#bd3786\"],[0.5555555555555556,\"#d8576b\"],[0.6666666666666666,\"#ed7953\"],[0.7777777777777778,\"#fb9f3a\"],[0.8888888888888888,\"#fdca26\"],[1.0,\"#f0f921\"]]},\"colorway\":[\"#636efa\",\"#EF553B\",\"#00cc96\",\"#ab63fa\",\"#FFA15A\",\"#19d3f3\",\"#FF6692\",\"#B6E880\",\"#FF97FF\",\"#FECB52\"],\"font\":{\"color\":\"#2a3f5f\"},\"geo\":{\"bgcolor\":\"white\",\"lakecolor\":\"white\",\"landcolor\":\"#E5ECF6\",\"showlakes\":true,\"showland\":true,\"subunitcolor\":\"white\"},\"hoverlabel\":{\"align\":\"left\"},\"hovermode\":\"closest\",\"mapbox\":{\"style\":\"light\"},\"paper_bgcolor\":\"white\",\"plot_bgcolor\":\"#E5ECF6\",\"polar\":{\"angularaxis\":{\"gridcolor\":\"white\",\"linecolor\":\"white\",\"ticks\":\"\"},\"bgcolor\":\"#E5ECF6\",\"radialaxis\":{\"gridcolor\":\"white\",\"linecolor\":\"white\",\"ticks\":\"\"}},\"scene\":{\"xaxis\":{\"backgroundcolor\":\"#E5ECF6\",\"gridcolor\":\"white\",\"gridwidth\":2,\"linecolor\":\"white\",\"showbackground\":true,\"ticks\":\"\",\"zerolinecolor\":\"white\"},\"yaxis\":{\"backgroundcolor\":\"#E5ECF6\",\"gridcolor\":\"white\",\"gridwidth\":2,\"linecolor\":\"white\",\"showbackground\":true,\"ticks\":\"\",\"zerolinecolor\":\"white\"},\"zaxis\":{\"backgroundcolor\":\"#E5ECF6\",\"gridcolor\":\"white\",\"gridwidth\":2,\"linecolor\":\"white\",\"showbackground\":true,\"ticks\":\"\",\"zerolinecolor\":\"white\"}},\"shapedefaults\":{\"line\":{\"color\":\"#2a3f5f\"}},\"ternary\":{\"aaxis\":{\"gridcolor\":\"white\",\"linecolor\":\"white\",\"ticks\":\"\"},\"baxis\":{\"gridcolor\":\"white\",\"linecolor\":\"white\",\"ticks\":\"\"},\"bgcolor\":\"#E5ECF6\",\"caxis\":{\"gridcolor\":\"white\",\"linecolor\":\"white\",\"ticks\":\"\"}},\"title\":{\"x\":0.05},\"xaxis\":{\"automargin\":true,\"gridcolor\":\"white\",\"linecolor\":\"white\",\"ticks\":\"\",\"title\":{\"standoff\":15},\"zerolinecolor\":\"white\",\"zerolinewidth\":2},\"yaxis\":{\"automargin\":true,\"gridcolor\":\"white\",\"linecolor\":\"white\",\"ticks\":\"\",\"title\":{\"standoff\":15},\"zerolinecolor\":\"white\",\"zerolinewidth\":2}}}},                        {\"responsive\": true}                    ).then(function(){\n",
       "                            \n",
       "var gd = document.getElementById('ec6f1d43-dc2d-47d4-9917-712d37e640bb');\n",
       "var x = new MutationObserver(function (mutations, observer) {{\n",
       "        var display = window.getComputedStyle(gd).display;\n",
       "        if (!display || display === 'none') {{\n",
       "            console.log([gd, 'removed!']);\n",
       "            Plotly.purge(gd);\n",
       "            observer.disconnect();\n",
       "        }}\n",
       "}});\n",
       "\n",
       "// Listen for the removal of the full notebook cells\n",
       "var notebookContainer = gd.closest('#notebook-container');\n",
       "if (notebookContainer) {{\n",
       "    x.observe(notebookContainer, {childList: true});\n",
       "}}\n",
       "\n",
       "// Listen for the clearing of the current output cell\n",
       "var outputEl = gd.closest('.output');\n",
       "if (outputEl) {{\n",
       "    x.observe(outputEl, {childList: true});\n",
       "}}\n",
       "\n",
       "                        })                };                });            </script>        </div>"
      ]
     },
     "metadata": {},
     "output_type": "display_data"
    }
   ],
   "source": [
    "draw_qa_bar('How many')"
   ]
  },
  {
   "cell_type": "code",
   "execution_count": 62,
   "metadata": {},
   "outputs": [
    {
     "data": {
      "application/vnd.plotly.v1+json": {
       "config": {
        "plotlyServerURL": "https://plot.ly"
       },
       "data": [
        {
         "text": "sky",
         "textposition": "auto",
         "type": "bar",
         "width": 0.1,
         "x": [
          "What"
         ],
         "y": [
          0.06140628657184949
         ]
        },
        {
         "text": "wall",
         "textposition": "auto",
         "type": "bar",
         "width": 0.1,
         "x": [
          "What"
         ],
         "y": [
          0.03506767082926023
         ]
        },
        {
         "text": "tree",
         "textposition": "auto",
         "type": "bar",
         "width": 0.1,
         "x": [
          "What"
         ],
         "y": [
          0.034792306315485126
         ]
        },
        {
         "text": "building",
         "textposition": "auto",
         "type": "bar",
         "width": 0.1,
         "x": [
          "What"
         ],
         "y": [
          0.027206013960980848
         ]
        },
        {
         "text": "floor",
         "textposition": "auto",
         "type": "bar",
         "width": 0.1,
         "x": [
          "What"
         ],
         "y": [
          0.02653137090223183
         ]
        },
        {
         "text": "table",
         "textposition": "auto",
         "type": "bar",
         "width": 0.1,
         "x": [
          "What"
         ],
         "y": [
          0.024135699632388374
         ]
        },
        {
         "text": "frame",
         "textposition": "auto",
         "type": "bar",
         "width": 0.1,
         "x": [
          "What"
         ],
         "y": [
          0.0235712023791494
         ]
        },
        {
         "text": "light",
         "textposition": "auto",
         "type": "bar",
         "width": 0.1,
         "x": [
          "What"
         ],
         "y": [
          0.0235712023791494
         ]
        },
        {
         "text": "wooden",
         "textposition": "auto",
         "type": "bar",
         "width": 0.1,
         "x": [
          "What"
         ],
         "y": [
          0.020831325467087058
         ]
        },
        {
         "text": "window",
         "textposition": "auto",
         "type": "bar",
         "width": 0.1,
         "x": [
          "What"
         ],
         "y": [
          0.01944073467252275
         ]
        },
        {
         "text": "glass",
         "textposition": "auto",
         "type": "bar",
         "width": 0.1,
         "x": [
          "What"
         ],
         "y": [
          0.018118985006402227
         ]
        },
        {
         "text": "vehicle",
         "textposition": "auto",
         "type": "bar",
         "width": 0.1,
         "x": [
          "What"
         ],
         "y": [
          0.01700375872561303
         ]
        },
        {
         "text": "chair",
         "textposition": "auto",
         "type": "bar",
         "width": 0.1,
         "x": [
          "What"
         ],
         "y": [
          0.016962454048546762
         ]
        },
        {
         "text": "road",
         "textposition": "auto",
         "type": "bar",
         "width": 0.1,
         "x": [
          "What"
         ],
         "y": [
          0.01334141069240407
         ]
        },
        {
         "text": "white",
         "textposition": "auto",
         "type": "bar",
         "width": 0.1,
         "x": [
          "What"
         ],
         "y": [
          0.013286337789649048
         ]
        },
        {
         "text": "grass",
         "textposition": "auto",
         "type": "bar",
         "width": 0.1,
         "x": [
          "What"
         ],
         "y": [
          0.013258801338271536
         ]
        },
        {
         "text": "lamp",
         "textposition": "auto",
         "type": "bar",
         "width": 0.1,
         "x": [
          "What"
         ],
         "y": [
          0.01273560876209883
         ]
        },
        {
         "text": "bed",
         "textposition": "auto",
         "type": "bar",
         "width": 0.1,
         "x": [
          "What"
         ],
         "y": [
          0.01248778069970123
         ]
        },
        {
         "text": "plant",
         "textposition": "auto",
         "type": "bar",
         "width": 0.1,
         "x": [
          "What"
         ],
         "y": [
          0.011950819897839766
         ]
        },
        {
         "text": "door",
         "textposition": "auto",
         "type": "bar",
         "width": 0.1,
         "x": [
          "What"
         ],
         "y": [
          0.011758064738197188
         ]
        },
        {
         "text": "text",
         "textposition": "auto",
         "type": "bar",
         "width": 0.1,
         "x": [
          "What"
         ],
         "y": [
          0.011730528286819678
         ]
        },
        {
         "text": "board",
         "textposition": "auto",
         "type": "bar",
         "width": 0.1,
         "x": [
          "What"
         ],
         "y": [
          0.011427627321667057
         ]
        },
        {
         "text": "cloud",
         "textposition": "auto",
         "type": "bar",
         "width": 0.1,
         "x": [
          "What"
         ],
         "y": [
          0.011331249741845769
         ]
        },
        {
         "text": "water",
         "textposition": "auto",
         "type": "bar",
         "width": 0.1,
         "x": [
          "What"
         ],
         "y": [
          0.010546460877586705
         ]
        },
        {
         "text": "car",
         "textposition": "auto",
         "type": "bar",
         "width": 0.1,
         "x": [
          "What"
         ],
         "y": [
          0.010353705717944129
         ]
        },
        {
         "text": "ceiling",
         "textposition": "auto",
         "type": "bar",
         "width": 0.1,
         "x": [
          "What"
         ],
         "y": [
          0.010037036527102753
         ]
        },
        {
         "text": "pole",
         "textposition": "auto",
         "type": "bar",
         "width": 0.1,
         "x": [
          "What"
         ],
         "y": [
          0.009899354270215197
         ]
        },
        {
         "text": "roof",
         "textposition": "auto",
         "type": "bar",
         "width": 0.1,
         "x": [
          "What"
         ],
         "y": [
          0.00967906265919511
         ]
        },
        {
         "text": "curtain",
         "textposition": "auto",
         "type": "bar",
         "width": 0.1,
         "x": [
          "What"
         ],
         "y": [
          0.009087028954578623
         ]
        },
        {
         "text": "people",
         "textposition": "auto",
         "type": "bar",
         "width": 0.1,
         "x": [
          "What"
         ],
         "y": [
          0.009031956051823602
         ]
        },
        {
         "text": "blue",
         "textposition": "auto",
         "type": "bar",
         "width": 0.1,
         "x": [
          "What"
         ],
         "y": [
          0.008660213958227204
         ]
        },
        {
         "text": "pillow",
         "textposition": "auto",
         "type": "bar",
         "width": 0.1,
         "x": [
          "What"
         ],
         "y": [
          0.00815078960774325
         ]
        },
        {
         "text": "flower",
         "textposition": "auto",
         "type": "bar",
         "width": 0.1,
         "x": [
          "What"
         ],
         "y": [
          0.007118172681086588
         ]
        },
        {
         "text": "green",
         "textposition": "auto",
         "type": "bar",
         "width": 0.1,
         "x": [
          "What"
         ],
         "y": [
          0.006939185747132767
         ]
        },
        {
         "text": "ground",
         "textposition": "auto",
         "type": "bar",
         "width": 0.1,
         "x": [
          "What"
         ],
         "y": [
          0.006195701559939971
         ]
        },
        {
         "text": "cupboard",
         "textposition": "auto",
         "type": "bar",
         "width": 0.1,
         "x": [
          "What"
         ],
         "y": [
          0.006002946400297394
         ]
        },
        {
         "text": "house",
         "textposition": "auto",
         "type": "bar",
         "width": 0.1,
         "x": [
          "What"
         ],
         "y": [
          0.005961641723231127
         ]
        },
        {
         "text": "metal",
         "textposition": "auto",
         "type": "bar",
         "width": 0.1,
         "x": [
          "What"
         ],
         "y": [
          0.0059065688204761055
         ]
        },
        {
         "text": "black",
         "textposition": "auto",
         "type": "bar",
         "width": 0.1,
         "x": [
          "What"
         ],
         "y": [
          0.0054935220498134405
         ]
        },
        {
         "text": "mirror",
         "textposition": "auto",
         "type": "bar",
         "width": 0.1,
         "x": [
          "What"
         ],
         "y": [
          0.005438449147058419
         ]
        },
        {
         "text": "book",
         "textposition": "auto",
         "type": "bar",
         "width": 0.1,
         "x": [
          "What"
         ],
         "y": [
          0.0051768528589720645
         ]
        },
        {
         "text": "sofa",
         "textposition": "auto",
         "type": "bar",
         "width": 0.1,
         "x": [
          "What"
         ],
         "y": [
          0.004846415442441933
         ]
        },
        {
         "text": "mat",
         "textposition": "auto",
         "type": "bar",
         "width": 0.1,
         "x": [
          "What"
         ],
         "y": [
          0.004750037862620644
         ]
        },
        {
         "text": "carpet",
         "textposition": "auto",
         "type": "bar",
         "width": 0.1,
         "x": [
          "What"
         ],
         "y": [
          0.0046398920571106
         ]
        },
        {
         "text": "glass window",
         "textposition": "auto",
         "type": "bar",
         "width": 0.1,
         "x": [
          "What"
         ],
         "y": [
          0.004226845286447936
         ]
        },
        {
         "text": "person",
         "textposition": "auto",
         "type": "bar",
         "width": 0.1,
         "x": [
          "What"
         ],
         "y": [
          0.00421307706075918
         ]
        },
        {
         "text": "cloudy",
         "textposition": "auto",
         "type": "bar",
         "width": 0.1,
         "x": [
          "What"
         ],
         "y": [
          0.003951480772672825
         ]
        },
        {
         "text": "light pole",
         "textposition": "auto",
         "type": "bar",
         "width": 0.1,
         "x": [
          "What"
         ],
         "y": [
          0.0038275667414740264
         ]
        },
        {
         "text": "red",
         "textposition": "auto",
         "type": "bar",
         "width": 0.1,
         "x": [
          "What"
         ],
         "y": [
          0.003800030290096515
         ]
        },
        {
         "text": "mountain",
         "textposition": "auto",
         "type": "bar",
         "width": 0.1,
         "x": [
          "What"
         ],
         "y": [
          0.00378626206440776
         ]
        },
        {
         "text": "hill",
         "textposition": "auto",
         "type": "bar",
         "width": 0.1,
         "x": [
          "What"
         ],
         "y": [
          0.0037724938387190044
         ]
        },
        {
         "text": "flower vase",
         "textposition": "auto",
         "type": "bar",
         "width": 0.1,
         "x": [
          "What"
         ],
         "y": [
          0.0036072751304539385
         ]
        },
        {
         "text": "pillar",
         "textposition": "auto",
         "type": "bar",
         "width": 0.1,
         "x": [
          "What"
         ],
         "y": [
          0.0035797386790764273
         ]
        },
        {
         "text": "bag",
         "textposition": "auto",
         "type": "bar",
         "width": 0.1,
         "x": [
          "What"
         ],
         "y": [
          0.003538434002010161
         ]
        },
        {
         "text": "clothe",
         "textposition": "auto",
         "type": "bar",
         "width": 0.1,
         "x": [
          "What"
         ],
         "y": [
          0.003400751745122606
         ]
        },
        {
         "text": "room",
         "textposition": "auto",
         "type": "bar",
         "width": 0.1,
         "x": [
          "What"
         ],
         "y": [
          0.0033043741653013175
         ]
        },
        {
         "text": "chandelier",
         "textposition": "auto",
         "type": "bar",
         "width": 0.1,
         "x": [
          "What"
         ],
         "y": [
          0.0032630694882350513
         ]
        },
        {
         "text": "vase",
         "textposition": "auto",
         "type": "bar",
         "width": 0.1,
         "x": [
          "What"
         ],
         "y": [
          0.0031116190056587408
         ]
        },
        {
         "text": "flower pot",
         "textposition": "auto",
         "type": "bar",
         "width": 0.1,
         "x": [
          "What"
         ],
         "y": [
          0.0030427778772149634
         ]
        },
        {
         "text": "poster",
         "textposition": "auto",
         "type": "bar",
         "width": 0.1,
         "x": [
          "What"
         ],
         "y": [
          0.002863790943261142
         ]
        },
        {
         "text": "snow",
         "textposition": "auto",
         "type": "bar",
         "width": 0.1,
         "x": [
          "What"
         ],
         "y": [
          0.002863790943261142
         ]
        },
        {
         "text": "tap",
         "textposition": "auto",
         "type": "bar",
         "width": 0.1,
         "x": [
          "What"
         ],
         "y": [
          0.002836254491883631
         ]
        },
        {
         "text": "pot",
         "textposition": "auto",
         "type": "bar",
         "width": 0.1,
         "x": [
          "What"
         ],
         "y": [
          0.00280871804050612
         ]
        },
        {
         "text": "bench",
         "textposition": "auto",
         "type": "bar",
         "width": 0.1,
         "x": [
          "What"
         ],
         "y": [
          0.002753645137751098
         ]
        },
        {
         "text": "rock",
         "textposition": "auto",
         "type": "bar",
         "width": 0.1,
         "x": [
          "What"
         ],
         "y": [
          0.0027123404606848316
         ]
        },
        {
         "text": "bottle",
         "textposition": "auto",
         "type": "bar",
         "width": 0.1,
         "x": [
          "What"
         ],
         "y": [
          0.0026434993322410542
         ]
        },
        {
         "text": "railing",
         "textposition": "auto",
         "type": "bar",
         "width": 0.1,
         "x": [
          "What"
         ],
         "y": [
          0.0025471217524197657
         ]
        },
        {
         "text": "photo",
         "textposition": "auto",
         "type": "bar",
         "width": 0.1,
         "x": [
          "What"
         ],
         "y": [
          0.0025471217524197657
         ]
        },
        {
         "text": "brown",
         "textposition": "auto",
         "type": "bar",
         "width": 0.1,
         "x": [
          "What"
         ],
         "y": [
          0.0025333535267310103
         ]
        },
        {
         "text": "fence",
         "textposition": "auto",
         "type": "bar",
         "width": 0.1,
         "x": [
          "What"
         ],
         "y": [
          0.0025333535267310103
         ]
        },
        {
         "text": "cushion",
         "textposition": "auto",
         "type": "bar",
         "width": 0.1,
         "x": [
          "What"
         ],
         "y": [
          0.0024369759469097217
         ]
        },
        {
         "text": "television",
         "textposition": "auto",
         "type": "bar",
         "width": 0.1,
         "x": [
          "What"
         ],
         "y": [
          0.002409439495532211
         ]
        },
        {
         "text": "stand",
         "textposition": "auto",
         "type": "bar",
         "width": 0.1,
         "x": [
          "What"
         ],
         "y": [
          0.002285525464333411
         ]
        },
        {
         "text": "fan",
         "textposition": "auto",
         "type": "bar",
         "width": 0.1,
         "x": [
          "What"
         ],
         "y": [
          0.002285525464333411
         ]
        },
        {
         "text": "dining table",
         "textposition": "auto",
         "type": "bar",
         "width": 0.1,
         "x": [
          "What"
         ],
         "y": [
          0.002285525464333411
         ]
        },
        {
         "text": "reflection",
         "textposition": "auto",
         "type": "bar",
         "width": 0.1,
         "x": [
          "What"
         ],
         "y": [
          0.002216684335889634
         ]
        },
        {
         "text": "rack",
         "textposition": "auto",
         "type": "bar",
         "width": 0.1,
         "x": [
          "What"
         ],
         "y": [
          0.002189147884512123
         ]
        },
        {
         "text": "painting",
         "textposition": "auto",
         "type": "bar",
         "width": 0.1,
         "x": [
          "What"
         ],
         "y": [
          0.0021753796588233672
         ]
        },
        {
         "text": "paper",
         "textposition": "auto",
         "type": "bar",
         "width": 0.1,
         "x": [
          "What"
         ],
         "y": [
          0.0021478432074458565
         ]
        },
        {
         "text": "surface",
         "textposition": "auto",
         "type": "bar",
         "width": 0.1,
         "x": [
          "What"
         ],
         "y": [
          0.002134074981757101
         ]
        },
        {
         "text": "sink",
         "textposition": "auto",
         "type": "bar",
         "width": 0.1,
         "x": [
          "What"
         ],
         "y": [
          0.0021203067560683453
         ]
        },
        {
         "text": "clear",
         "textposition": "auto",
         "type": "bar",
         "width": 0.1,
         "x": [
          "What"
         ],
         "y": [
          0.00210653853037959
         ]
        },
        {
         "text": "couch",
         "textposition": "auto",
         "type": "bar",
         "width": 0.1,
         "x": [
          "What"
         ],
         "y": [
          0.00210653853037959
         ]
        },
        {
         "text": "bicycle",
         "textposition": "auto",
         "type": "bar",
         "width": 0.1,
         "x": [
          "What"
         ],
         "y": [
          0.00210653853037959
         ]
        },
        {
         "text": "rod",
         "textposition": "auto",
         "type": "bar",
         "width": 0.1,
         "x": [
          "What"
         ],
         "y": [
          0.0020652338533133233
         ]
        },
        {
         "text": "yellow",
         "textposition": "auto",
         "type": "bar",
         "width": 0.1,
         "x": [
          "What"
         ],
         "y": [
          0.002051465627624568
         ]
        },
        {
         "text": "electric",
         "textposition": "auto",
         "type": "bar",
         "width": 0.1,
         "x": [
          "What"
         ],
         "y": [
          0.002051465627624568
         ]
        },
        {
         "text": "bridge",
         "textposition": "auto",
         "type": "bar",
         "width": 0.1,
         "x": [
          "What"
         ],
         "y": [
          0.0019826244991807906
         ]
        },
        {
         "text": "sign board",
         "textposition": "auto",
         "type": "bar",
         "width": 0.1,
         "x": [
          "What"
         ],
         "y": [
          0.0019826244991807906
         ]
        },
        {
         "text": "leave",
         "textposition": "auto",
         "type": "bar",
         "width": 0.1,
         "x": [
          "What"
         ],
         "y": [
          0.0019826244991807906
         ]
        },
        {
         "text": "stone",
         "textposition": "auto",
         "type": "bar",
         "width": 0.1,
         "x": [
          "What"
         ],
         "y": [
          0.0019826244991807906
         ]
        },
        {
         "text": "box",
         "textposition": "auto",
         "type": "bar",
         "width": 0.1,
         "x": [
          "What"
         ],
         "y": [
          0.0019413198221145242
         ]
        },
        {
         "text": "clock",
         "textposition": "auto",
         "type": "bar",
         "width": 0.1,
         "x": [
          "What"
         ],
         "y": [
          0.0019413198221145242
         ]
        },
        {
         "text": "hand",
         "textposition": "auto",
         "type": "bar",
         "width": 0.1,
         "x": [
          "What"
         ],
         "y": [
          0.0019275515964257686
         ]
        },
        {
         "text": "boat",
         "textposition": "auto",
         "type": "bar",
         "width": 0.1,
         "x": [
          "What"
         ],
         "y": [
          0.0019275515964257686
         ]
        },
        {
         "text": "cloudy sky",
         "textposition": "auto",
         "type": "bar",
         "width": 0.1,
         "x": [
          "What"
         ],
         "y": [
          0.0019275515964257686
         ]
        },
        {
         "text": "towel",
         "textposition": "auto",
         "type": "bar",
         "width": 0.1,
         "x": [
          "What"
         ],
         "y": [
          0.0019137833707370132
         ]
        },
        {
         "text": "platform",
         "textposition": "auto",
         "type": "bar",
         "width": 0.1,
         "x": [
          "What"
         ],
         "y": [
          0.0019137833707370132
         ]
        },
        {
         "text": "food",
         "textposition": "auto",
         "type": "bar",
         "width": 0.1,
         "x": [
          "What"
         ],
         "y": [
          0.0019000151450482576
         ]
        },
        {
         "text": "metal rod",
         "textposition": "auto",
         "type": "bar",
         "width": 0.1,
         "x": [
          "What"
         ],
         "y": [
          0.0018449422422932356
         ]
        },
        {
         "text": "flag",
         "textposition": "auto",
         "type": "bar",
         "width": 0.1,
         "x": [
          "What"
         ],
         "y": [
          0.0018311740166044802
         ]
        },
        {
         "text": "cloth",
         "textposition": "auto",
         "type": "bar",
         "width": 0.1,
         "x": [
          "What"
         ],
         "y": [
          0.0018311740166044802
         ]
        },
        {
         "text": "iron",
         "textposition": "auto",
         "type": "bar",
         "width": 0.1,
         "x": [
          "What"
         ],
         "y": [
          0.0018311740166044802
         ]
        },
        {
         "text": "shelf",
         "textposition": "auto",
         "type": "bar",
         "width": 0.1,
         "x": [
          "What"
         ],
         "y": [
          0.0018036375652269693
         ]
        },
        {
         "text": "something",
         "textposition": "auto",
         "type": "bar",
         "width": 0.1,
         "x": [
          "What"
         ],
         "y": [
          0.0018036375652269693
         ]
        },
        {
         "text": "stool",
         "textposition": "auto",
         "type": "bar",
         "width": 0.1,
         "x": [
          "What"
         ],
         "y": [
          0.0016797235340281697
         ]
        },
        {
         "text": "small",
         "textposition": "auto",
         "type": "bar",
         "width": 0.1,
         "x": [
          "What"
         ],
         "y": [
          0.0016659553083394143
         ]
        },
        {
         "text": "window blind",
         "textposition": "auto",
         "type": "bar",
         "width": 0.1,
         "x": [
          "What"
         ],
         "y": [
          0.0016384188569619033
         ]
        },
        {
         "text": "green grass",
         "textposition": "auto",
         "type": "bar",
         "width": 0.1,
         "x": [
          "What"
         ],
         "y": [
          0.0015833459542068814
         ]
        },
        {
         "text": "wire",
         "textposition": "auto",
         "type": "bar",
         "width": 0.1,
         "x": [
          "What"
         ],
         "y": [
          0.0015558095028293704
         ]
        },
        {
         "text": "footpath",
         "textposition": "auto",
         "type": "bar",
         "width": 0.1,
         "x": [
          "What"
         ],
         "y": [
          0.0015282730514518594
         ]
        },
        {
         "text": "screen",
         "textposition": "auto",
         "type": "bar",
         "width": 0.1,
         "x": [
          "What"
         ],
         "y": [
          0.0015282730514518594
         ]
        },
        {
         "text": "path",
         "textposition": "auto",
         "type": "bar",
         "width": 0.1,
         "x": [
          "What"
         ],
         "y": [
          0.001459431923008082
         ]
        },
        {
         "text": "toy",
         "textposition": "auto",
         "type": "bar",
         "width": 0.1,
         "x": [
          "What"
         ],
         "y": [
          0.001459431923008082
         ]
        },
        {
         "text": "glass door",
         "textposition": "auto",
         "type": "bar",
         "width": 0.1,
         "x": [
          "What"
         ],
         "y": [
          0.001431895471630571
         ]
        },
        {
         "text": "bathtub",
         "textposition": "auto",
         "type": "bar",
         "width": 0.1,
         "x": [
          "What"
         ],
         "y": [
          0.001431895471630571
         ]
        },
        {
         "text": "basket",
         "textposition": "auto",
         "type": "bar",
         "width": 0.1,
         "x": [
          "What"
         ],
         "y": [
          0.0014181272459418155
         ]
        },
        {
         "text": "area",
         "textposition": "auto",
         "type": "bar",
         "width": 0.1,
         "x": [
          "What"
         ],
         "y": [
          0.00140435902025306
         ]
        },
        {
         "text": "stove",
         "textposition": "auto",
         "type": "bar",
         "width": 0.1,
         "x": [
          "What"
         ],
         "y": [
          0.0013905907945643045
         ]
        },
        {
         "text": "sheet",
         "textposition": "auto",
         "type": "bar",
         "width": 0.1,
         "x": [
          "What"
         ],
         "y": [
          0.0013905907945643045
         ]
        },
        {
         "text": "sand",
         "textposition": "auto",
         "type": "bar",
         "width": 0.1,
         "x": [
          "What"
         ],
         "y": [
          0.0013630543431867935
         ]
        },
        {
         "text": "stair",
         "textposition": "auto",
         "type": "bar",
         "width": 0.1,
         "x": [
          "What"
         ],
         "y": [
          0.0013630543431867935
         ]
        },
        {
         "text": "cabinet",
         "textposition": "auto",
         "type": "bar",
         "width": 0.1,
         "x": [
          "What"
         ],
         "y": [
          0.0013355178918092825
         ]
        },
        {
         "text": "plate",
         "textposition": "auto",
         "type": "bar",
         "width": 0.1,
         "x": [
          "What"
         ],
         "y": [
          0.0013217496661205271
         ]
        },
        {
         "text": "fruit",
         "textposition": "auto",
         "type": "bar",
         "width": 0.1,
         "x": [
          "What"
         ],
         "y": [
          0.0013079814404317715
         ]
        },
        {
         "text": "pavement",
         "textposition": "auto",
         "type": "bar",
         "width": 0.1,
         "x": [
          "What"
         ],
         "y": [
          0.0013079814404317715
         ]
        },
        {
         "text": "house plant",
         "textposition": "auto",
         "type": "bar",
         "width": 0.1,
         "x": [
          "What"
         ],
         "y": [
          0.0013079814404317715
         ]
        },
        {
         "text": "wash basin",
         "textposition": "auto",
         "type": "bar",
         "width": 0.1,
         "x": [
          "What"
         ],
         "y": [
          0.0012942132147430161
         ]
        },
        {
         "text": "blind",
         "textposition": "auto",
         "type": "bar",
         "width": 0.1,
         "x": [
          "What"
         ],
         "y": [
          0.0012942132147430161
         ]
        },
        {
         "text": "seat",
         "textposition": "auto",
         "type": "bar",
         "width": 0.1,
         "x": [
          "What"
         ],
         "y": [
          0.0012666767633655051
         ]
        },
        {
         "text": "machine",
         "textposition": "auto",
         "type": "bar",
         "width": 0.1,
         "x": [
          "What"
         ],
         "y": [
          0.0012529085376767495
         ]
        },
        {
         "text": "desk",
         "textposition": "auto",
         "type": "bar",
         "width": 0.1,
         "x": [
          "What"
         ],
         "y": [
          0.0012529085376767495
         ]
        },
        {
         "text": "watermark",
         "textposition": "auto",
         "type": "bar",
         "width": 0.1,
         "x": [
          "What"
         ],
         "y": [
          0.0012391403119879942
         ]
        },
        {
         "text": "ball",
         "textposition": "auto",
         "type": "bar",
         "width": 0.1,
         "x": [
          "What"
         ],
         "y": [
          0.0012253720862992386
         ]
        },
        {
         "text": "blanket",
         "textposition": "auto",
         "type": "bar",
         "width": 0.1,
         "x": [
          "What"
         ],
         "y": [
          0.0012116038606104832
         ]
        },
        {
         "text": "inner",
         "textposition": "auto",
         "type": "bar",
         "width": 0.1,
         "x": [
          "What"
         ],
         "y": [
          0.0011978356349217276
         ]
        },
        {
         "text": "candle",
         "textposition": "auto",
         "type": "bar",
         "width": 0.1,
         "x": [
          "What"
         ],
         "y": [
          0.0011840674092329722
         ]
        },
        {
         "text": "statue",
         "textposition": "auto",
         "type": "bar",
         "width": 0.1,
         "x": [
          "What"
         ],
         "y": [
          0.0011840674092329722
         ]
        },
        {
         "text": "dry",
         "textposition": "auto",
         "type": "bar",
         "width": 0.1,
         "x": [
          "What"
         ],
         "y": [
          0.0011702991835442166
         ]
        },
        {
         "text": "blurry",
         "textposition": "auto",
         "type": "bar",
         "width": 0.1,
         "x": [
          "What"
         ],
         "y": [
          0.0011565309578554612
         ]
        },
        {
         "text": "drawer",
         "textposition": "auto",
         "type": "bar",
         "width": 0.1,
         "x": [
          "What"
         ],
         "y": [
          0.0011014580551004392
         ]
        },
        {
         "text": "bowl",
         "textposition": "auto",
         "type": "bar",
         "width": 0.1,
         "x": [
          "What"
         ],
         "y": [
          0.0010876898294116836
         ]
        },
        {
         "text": "number",
         "textposition": "auto",
         "type": "bar",
         "width": 0.1,
         "x": [
          "What"
         ],
         "y": [
          0.0010876898294116836
         ]
        },
        {
         "text": "potted plant",
         "textposition": "auto",
         "type": "bar",
         "width": 0.1,
         "x": [
          "What"
         ],
         "y": [
          0.0010876898294116836
         ]
        },
        {
         "text": "blur",
         "textposition": "auto",
         "type": "bar",
         "width": 0.1,
         "x": [
          "What"
         ],
         "y": [
          0.0010876898294116836
         ]
        },
        {
         "text": "tile",
         "textposition": "auto",
         "type": "bar",
         "width": 0.1,
         "x": [
          "What"
         ],
         "y": [
          0.0010739216037229282
         ]
        },
        {
         "text": "stick",
         "textposition": "auto",
         "type": "bar",
         "width": 0.1,
         "x": [
          "What"
         ],
         "y": [
          0.0010601533780341726
         ]
        },
        {
         "text": "houseplant",
         "textposition": "auto",
         "type": "bar",
         "width": 0.1,
         "x": [
          "What"
         ],
         "y": [
          0.0010326169266566616
         ]
        },
        {
         "text": "hanger",
         "textposition": "auto",
         "type": "bar",
         "width": 0.1,
         "x": [
          "What"
         ],
         "y": [
          0.0010050804752791509
         ]
        },
        {
         "text": "kitchen",
         "textposition": "auto",
         "type": "bar",
         "width": 0.1,
         "x": [
          "What"
         ],
         "y": [
          0.0010050804752791509
         ]
        },
        {
         "text": "shed",
         "textposition": "auto",
         "type": "bar",
         "width": 0.1,
         "x": [
          "What"
         ],
         "y": [
          0.0010050804752791509
         ]
        },
        {
         "text": "telephone",
         "textposition": "auto",
         "type": "bar",
         "width": 0.1,
         "x": [
          "What"
         ],
         "y": [
          0.0010050804752791509
         ]
        },
        {
         "text": "toilet seat",
         "textposition": "auto",
         "type": "bar",
         "width": 0.1,
         "x": [
          "What"
         ],
         "y": [
          0.0009913122495903953
         ]
        },
        {
         "text": "open",
         "textposition": "auto",
         "type": "bar",
         "width": 0.1,
         "x": [
          "What"
         ],
         "y": [
          0.0009913122495903953
         ]
        },
        {
         "text": "brick",
         "textposition": "auto",
         "type": "bar",
         "width": 0.1,
         "x": [
          "What"
         ],
         "y": [
          0.0009913122495903953
         ]
        },
        {
         "text": "decorative",
         "textposition": "auto",
         "type": "bar",
         "width": 0.1,
         "x": [
          "What"
         ],
         "y": [
          0.00097754402390164
         ]
        },
        {
         "text": "plant pot",
         "textposition": "auto",
         "type": "bar",
         "width": 0.1,
         "x": [
          "What"
         ],
         "y": [
          0.00097754402390164
         ]
        },
        {
         "text": "tower",
         "textposition": "auto",
         "type": "bar",
         "width": 0.1,
         "x": [
          "What"
         ],
         "y": [
          0.00097754402390164
         ]
        },
        {
         "text": "big",
         "textposition": "auto",
         "type": "bar",
         "width": 0.1,
         "x": [
          "What"
         ],
         "y": [
          0.00097754402390164
         ]
        },
        {
         "text": "tent",
         "textposition": "auto",
         "type": "bar",
         "width": 0.1,
         "x": [
          "What"
         ],
         "y": [
          0.0009637757982128843
         ]
        },
        {
         "text": "ceiling light",
         "textposition": "auto",
         "type": "bar",
         "width": 0.1,
         "x": [
          "What"
         ],
         "y": [
          0.0009637757982128843
         ]
        },
        {
         "text": "pipe",
         "textposition": "auto",
         "type": "bar",
         "width": 0.1,
         "x": [
          "What"
         ],
         "y": [
          0.0009500075725241288
         ]
        },
        {
         "text": "refrigerator",
         "textposition": "auto",
         "type": "bar",
         "width": 0.1,
         "x": [
          "What"
         ],
         "y": [
          0.0009224711211466178
         ]
        },
        {
         "text": "item",
         "textposition": "auto",
         "type": "bar",
         "width": 0.1,
         "x": [
          "What"
         ],
         "y": [
          0.0009087028954578623
         ]
        },
        {
         "text": "plastic",
         "textposition": "auto",
         "type": "bar",
         "width": 0.1,
         "x": [
          "What"
         ],
         "y": [
          0.0009087028954578623
         ]
        },
        {
         "text": "cap",
         "textposition": "auto",
         "type": "bar",
         "width": 0.1,
         "x": [
          "What"
         ],
         "y": [
          0.0008949346697691068
         ]
        },
        {
         "text": "oven",
         "textposition": "auto",
         "type": "bar",
         "width": 0.1,
         "x": [
          "What"
         ],
         "y": [
          0.0008949346697691068
         ]
        },
        {
         "text": "empty",
         "textposition": "auto",
         "type": "bar",
         "width": 0.1,
         "x": [
          "What"
         ],
         "y": [
          0.0008949346697691068
         ]
        },
        {
         "text": "walkway",
         "textposition": "auto",
         "type": "bar",
         "width": 0.1,
         "x": [
          "What"
         ],
         "y": [
          0.0008811664440803513
         ]
        },
        {
         "text": "pink",
         "textposition": "auto",
         "type": "bar",
         "width": 0.1,
         "x": [
          "What"
         ],
         "y": [
          0.0008811664440803513
         ]
        },
        {
         "text": "ship",
         "textposition": "auto",
         "type": "bar",
         "width": 0.1,
         "x": [
          "What"
         ],
         "y": [
          0.0008811664440803513
         ]
        },
        {
         "text": "animal",
         "textposition": "auto",
         "type": "bar",
         "width": 0.1,
         "x": [
          "What"
         ],
         "y": [
          0.0008673982183915958
         ]
        },
        {
         "text": "dress",
         "textposition": "auto",
         "type": "bar",
         "width": 0.1,
         "x": [
          "What"
         ],
         "y": [
          0.0008673982183915958
         ]
        },
        {
         "text": "banner",
         "textposition": "auto",
         "type": "bar",
         "width": 0.1,
         "x": [
          "What"
         ],
         "y": [
          0.0008536299927028403
         ]
        },
        {
         "text": "fire",
         "textposition": "auto",
         "type": "bar",
         "width": 0.1,
         "x": [
          "What"
         ],
         "y": [
          0.0008536299927028403
         ]
        },
        {
         "text": "electronic",
         "textposition": "auto",
         "type": "bar",
         "width": 0.1,
         "x": [
          "What"
         ],
         "y": [
          0.0008536299927028403
         ]
        },
        {
         "text": "dustbin",
         "textposition": "auto",
         "type": "bar",
         "width": 0.1,
         "x": [
          "What"
         ],
         "y": [
          0.0008398617670140849
         ]
        },
        {
         "text": "wood",
         "textposition": "auto",
         "type": "bar",
         "width": 0.1,
         "x": [
          "What"
         ],
         "y": [
          0.0008398617670140849
         ]
        },
        {
         "text": "steel",
         "textposition": "auto",
         "type": "bar",
         "width": 0.1,
         "x": [
          "What"
         ],
         "y": [
          0.0008260935413253294
         ]
        },
        {
         "text": "step",
         "textposition": "auto",
         "type": "bar",
         "width": 0.1,
         "x": [
          "What"
         ],
         "y": [
          0.0008260935413253294
         ]
        },
        {
         "text": "different",
         "textposition": "auto",
         "type": "bar",
         "width": 0.1,
         "x": [
          "What"
         ],
         "y": [
          0.0008123253156365739
         ]
        },
        {
         "text": "monitor",
         "textposition": "auto",
         "type": "bar",
         "width": 0.1,
         "x": [
          "What"
         ],
         "y": [
          0.0008123253156365739
         ]
        },
        {
         "text": "cable",
         "textposition": "auto",
         "type": "bar",
         "width": 0.1,
         "x": [
          "What"
         ],
         "y": [
          0.0007985570899478184
         ]
        },
        {
         "text": "dark",
         "textposition": "auto",
         "type": "bar",
         "width": 0.1,
         "x": [
          "What"
         ],
         "y": [
          0.0007985570899478184
         ]
        },
        {
         "text": "staircase",
         "textposition": "auto",
         "type": "bar",
         "width": 0.1,
         "x": [
          "What"
         ],
         "y": [
          0.0007985570899478184
         ]
        },
        {
         "text": "basin",
         "textposition": "auto",
         "type": "bar",
         "width": 0.1,
         "x": [
          "What"
         ],
         "y": [
          0.0007847888642590629
         ]
        },
        {
         "text": "arch",
         "textposition": "auto",
         "type": "bar",
         "width": 0.1,
         "x": [
          "What"
         ],
         "y": [
          0.0007710206385703074
         ]
        },
        {
         "text": "concrete",
         "textposition": "auto",
         "type": "bar",
         "width": 0.1,
         "x": [
          "What"
         ],
         "y": [
          0.0007710206385703074
         ]
        },
        {
         "text": "micro oven",
         "textposition": "auto",
         "type": "bar",
         "width": 0.1,
         "x": [
          "What"
         ],
         "y": [
          0.0007434841871927965
         ]
        },
        {
         "text": "tv",
         "textposition": "auto",
         "type": "bar",
         "width": 0.1,
         "x": [
          "What"
         ],
         "y": [
          0.0007434841871927965
         ]
        },
        {
         "text": "computer",
         "textposition": "auto",
         "type": "bar",
         "width": 0.1,
         "x": [
          "What"
         ],
         "y": [
          0.000729715961504041
         ]
        },
        {
         "text": "fireplace",
         "textposition": "auto",
         "type": "bar",
         "width": 0.1,
         "x": [
          "What"
         ],
         "y": [
          0.000729715961504041
         ]
        },
        {
         "text": "toilet",
         "textposition": "auto",
         "type": "bar",
         "width": 0.1,
         "x": [
          "What"
         ],
         "y": [
          0.000729715961504041
         ]
        },
        {
         "text": "electronic device",
         "textposition": "auto",
         "type": "bar",
         "width": 0.1,
         "x": [
          "What"
         ],
         "y": [
          0.000729715961504041
         ]
        },
        {
         "text": "swimming pool",
         "textposition": "auto",
         "type": "bar",
         "width": 0.1,
         "x": [
          "What"
         ],
         "y": [
          0.0007159477358152855
         ]
        },
        {
         "text": "light arrangement",
         "textposition": "auto",
         "type": "bar",
         "width": 0.1,
         "x": [
          "What"
         ],
         "y": [
          0.0007159477358152855
         ]
        },
        {
         "text": "microwave",
         "textposition": "auto",
         "type": "bar",
         "width": 0.1,
         "x": [
          "What"
         ],
         "y": [
          0.0007159477358152855
         ]
        },
        {
         "text": "land",
         "textposition": "auto",
         "type": "bar",
         "width": 0.1,
         "x": [
          "What"
         ],
         "y": [
          0.0007159477358152855
         ]
        },
        {
         "text": "grey",
         "textposition": "auto",
         "type": "bar",
         "width": 0.1,
         "x": [
          "What"
         ],
         "y": [
          0.00070217951012653
         ]
        },
        {
         "text": "microwave oven",
         "textposition": "auto",
         "type": "bar",
         "width": 0.1,
         "x": [
          "What"
         ],
         "y": [
          0.00070217951012653
         ]
        },
        {
         "text": "dog",
         "textposition": "auto",
         "type": "bar",
         "width": 0.1,
         "x": [
          "What"
         ],
         "y": [
          0.00070217951012653
         ]
        },
        {
         "text": "visible",
         "textposition": "auto",
         "type": "bar",
         "width": 0.1,
         "x": [
          "What"
         ],
         "y": [
          0.00070217951012653
         ]
        },
        {
         "text": "traffic",
         "textposition": "auto",
         "type": "bar",
         "width": 0.1,
         "x": [
          "What"
         ],
         "y": [
          0.0006884112844377745
         ]
        },
        {
         "text": "handle",
         "textposition": "auto",
         "type": "bar",
         "width": 0.1,
         "x": [
          "What"
         ],
         "y": [
          0.000674643058749019
         ]
        },
        {
         "text": "lamp post",
         "textposition": "auto",
         "type": "bar",
         "width": 0.1,
         "x": [
          "What"
         ],
         "y": [
          0.0006608748330602636
         ]
        },
        {
         "text": "cup",
         "textposition": "auto",
         "type": "bar",
         "width": 0.1,
         "x": [
          "What"
         ],
         "y": [
          0.0006608748330602636
         ]
        },
        {
         "text": "sofa set",
         "textposition": "auto",
         "type": "bar",
         "width": 0.1,
         "x": [
          "What"
         ],
         "y": [
          0.0006471066073715081
         ]
        },
        {
         "text": "body",
         "textposition": "auto",
         "type": "bar",
         "width": 0.1,
         "x": [
          "What"
         ],
         "y": [
          0.0006471066073715081
         ]
        },
        {
         "text": "river",
         "textposition": "auto",
         "type": "bar",
         "width": 0.1,
         "x": [
          "What"
         ],
         "y": [
          0.0006471066073715081
         ]
        },
        {
         "text": "container",
         "textposition": "auto",
         "type": "bar",
         "width": 0.1,
         "x": [
          "What"
         ],
         "y": [
          0.0006333383816827526
         ]
        },
        {
         "text": "umbrella",
         "textposition": "auto",
         "type": "bar",
         "width": 0.1,
         "x": [
          "What"
         ],
         "y": [
          0.0006333383816827526
         ]
        },
        {
         "text": "color",
         "textposition": "auto",
         "type": "bar",
         "width": 0.1,
         "x": [
          "What"
         ],
         "y": [
          0.0006333383816827526
         ]
        },
        {
         "text": "snooker",
         "textposition": "auto",
         "type": "bar",
         "width": 0.1,
         "x": [
          "What"
         ],
         "y": [
          0.0006195701559939971
         ]
        },
        {
         "text": "rope",
         "textposition": "auto",
         "type": "bar",
         "width": 0.1,
         "x": [
          "What"
         ],
         "y": [
          0.0006195701559939971
         ]
        },
        {
         "text": "street light",
         "textposition": "auto",
         "type": "bar",
         "width": 0.1,
         "x": [
          "What"
         ],
         "y": [
          0.0006058019303052416
         ]
        },
        {
         "text": "huge",
         "textposition": "auto",
         "type": "bar",
         "width": 0.1,
         "x": [
          "What"
         ],
         "y": [
          0.0006058019303052416
         ]
        },
        {
         "text": "grassland",
         "textposition": "auto",
         "type": "bar",
         "width": 0.1,
         "x": [
          "What"
         ],
         "y": [
          0.0006058019303052416
         ]
        },
        {
         "text": "laptop",
         "textposition": "auto",
         "type": "bar",
         "width": 0.1,
         "x": [
          "What"
         ],
         "y": [
          0.0006058019303052416
         ]
        },
        {
         "text": "traffic light",
         "textposition": "auto",
         "type": "bar",
         "width": 0.1,
         "x": [
          "What"
         ],
         "y": [
          0.0006058019303052416
         ]
        },
        {
         "text": "pool",
         "textposition": "auto",
         "type": "bar",
         "width": 0.1,
         "x": [
          "What"
         ],
         "y": [
          0.0005920337046164861
         ]
        },
        {
         "text": "sculpture",
         "textposition": "auto",
         "type": "bar",
         "width": 0.1,
         "x": [
          "What"
         ],
         "y": [
          0.0005920337046164861
         ]
        },
        {
         "text": "architecture",
         "textposition": "auto",
         "type": "bar",
         "width": 0.1,
         "x": [
          "What"
         ],
         "y": [
          0.0005920337046164861
         ]
        },
        {
         "text": "train",
         "textposition": "auto",
         "type": "bar",
         "width": 0.1,
         "x": [
          "What"
         ],
         "y": [
          0.0005920337046164861
         ]
        },
        {
         "text": "table lamp",
         "textposition": "auto",
         "type": "bar",
         "width": 0.1,
         "x": [
          "What"
         ],
         "y": [
          0.0005920337046164861
         ]
        },
        {
         "text": "trunk",
         "textposition": "auto",
         "type": "bar",
         "width": 0.1,
         "x": [
          "What"
         ],
         "y": [
          0.0005782654789277306
         ]
        },
        {
         "text": "net",
         "textposition": "auto",
         "type": "bar",
         "width": 0.1,
         "x": [
          "What"
         ],
         "y": [
          0.0005782654789277306
         ]
        },
        {
         "text": "floor mat",
         "textposition": "auto",
         "type": "bar",
         "width": 0.1,
         "x": [
          "What"
         ],
         "y": [
          0.0005782654789277306
         ]
        },
        {
         "text": "counter",
         "textposition": "auto",
         "type": "bar",
         "width": 0.1,
         "x": [
          "What"
         ],
         "y": [
          0.0005782654789277306
         ]
        },
        {
         "text": "lamp light",
         "textposition": "auto",
         "type": "bar",
         "width": 0.1,
         "x": [
          "What"
         ],
         "y": [
          0.0005644972532389751
         ]
        },
        {
         "text": "jar",
         "textposition": "auto",
         "type": "bar",
         "width": 0.1,
         "x": [
          "What"
         ],
         "y": [
          0.0005644972532389751
         ]
        },
        {
         "text": "camera",
         "textposition": "auto",
         "type": "bar",
         "width": 0.1,
         "x": [
          "What"
         ],
         "y": [
          0.0005644972532389751
         ]
        },
        {
         "text": "design",
         "textposition": "auto",
         "type": "bar",
         "width": 0.1,
         "x": [
          "What"
         ],
         "y": [
          0.0005644972532389751
         ]
        },
        {
         "text": "shop",
         "textposition": "auto",
         "type": "bar",
         "width": 0.1,
         "x": [
          "What"
         ],
         "y": [
          0.0005644972532389751
         ]
        },
        {
         "text": "greenery",
         "textposition": "auto",
         "type": "bar",
         "width": 0.1,
         "x": [
          "What"
         ],
         "y": [
          0.0005507290275502196
         ]
        },
        {
         "text": "waterfall",
         "textposition": "auto",
         "type": "bar",
         "width": 0.1,
         "x": [
          "What"
         ],
         "y": [
          0.0005507290275502196
         ]
        },
        {
         "text": "motor vehicle",
         "textposition": "auto",
         "type": "bar",
         "width": 0.1,
         "x": [
          "What"
         ],
         "y": [
          0.0005369608018614641
         ]
        },
        {
         "text": "flush tank",
         "textposition": "auto",
         "type": "bar",
         "width": 0.1,
         "x": [
          "What"
         ],
         "y": [
          0.0005369608018614641
         ]
        },
        {
         "text": "dry grass",
         "textposition": "auto",
         "type": "bar",
         "width": 0.1,
         "x": [
          "What"
         ],
         "y": [
          0.0005231925761727086
         ]
        },
        {
         "text": "signal",
         "textposition": "auto",
         "type": "bar",
         "width": 0.1,
         "x": [
          "What"
         ],
         "y": [
          0.0005231925761727086
         ]
        },
        {
         "text": "light lamp",
         "textposition": "auto",
         "type": "bar",
         "width": 0.1,
         "x": [
          "What"
         ],
         "y": [
          0.0005231925761727086
         ]
        },
        {
         "text": "store",
         "textposition": "auto",
         "type": "bar",
         "width": 0.1,
         "x": [
          "What"
         ],
         "y": [
          0.0005231925761727086
         ]
        },
        {
         "text": "bird",
         "textposition": "auto",
         "type": "bar",
         "width": 0.1,
         "x": [
          "What"
         ],
         "y": [
          0.0005094243504839531
         ]
        },
        {
         "text": "gate",
         "textposition": "auto",
         "type": "bar",
         "width": 0.1,
         "x": [
          "What"
         ],
         "y": [
          0.0005094243504839531
         ]
        },
        {
         "text": "airplane",
         "textposition": "auto",
         "type": "bar",
         "width": 0.1,
         "x": [
          "What"
         ],
         "y": [
          0.0005094243504839531
         ]
        },
        {
         "text": "decor",
         "textposition": "auto",
         "type": "bar",
         "width": 0.1,
         "x": [
          "What"
         ],
         "y": [
          0.0005094243504839531
         ]
        },
        {
         "text": "orange",
         "textposition": "auto",
         "type": "bar",
         "width": 0.1,
         "x": [
          "What"
         ],
         "y": [
          0.0004956561247951976
         ]
        },
        {
         "text": "gas stove",
         "textposition": "auto",
         "type": "bar",
         "width": 0.1,
         "x": [
          "What"
         ],
         "y": [
          0.0004956561247951976
         ]
        },
        {
         "text": "tray",
         "textposition": "auto",
         "type": "bar",
         "width": 0.1,
         "x": [
          "What"
         ],
         "y": [
          0.0004956561247951976
         ]
        },
        {
         "text": "device",
         "textposition": "auto",
         "type": "bar",
         "width": 0.1,
         "x": [
          "What"
         ],
         "y": [
          0.0004956561247951976
         ]
        },
        {
         "text": "helmet",
         "textposition": "auto",
         "type": "bar",
         "width": 0.1,
         "x": [
          "What"
         ],
         "y": [
          0.00048188789910644215
         ]
        },
        {
         "text": "washroom",
         "textposition": "auto",
         "type": "bar",
         "width": 0.1,
         "x": [
          "What"
         ],
         "y": [
          0.00048188789910644215
         ]
        },
        {
         "text": "fountain",
         "textposition": "auto",
         "type": "bar",
         "width": 0.1,
         "x": [
          "What"
         ],
         "y": [
          0.00048188789910644215
         ]
        },
        {
         "text": "cardboard box",
         "textposition": "auto",
         "type": "bar",
         "width": 0.1,
         "x": [
          "What"
         ],
         "y": [
          0.00048188789910644215
         ]
        },
        {
         "text": "bus",
         "textposition": "auto",
         "type": "bar",
         "width": 0.1,
         "x": [
          "What"
         ],
         "y": [
          0.00048188789910644215
         ]
        },
        {
         "text": "grill",
         "textposition": "auto",
         "type": "bar",
         "width": 0.1,
         "x": [
          "What"
         ],
         "y": [
          0.00048188789910644215
         ]
        },
        {
         "text": "washing machine",
         "textposition": "auto",
         "type": "bar",
         "width": 0.1,
         "x": [
          "What"
         ],
         "y": [
          0.00046811967341768665
         ]
        },
        {
         "text": "bedroom",
         "textposition": "auto",
         "type": "bar",
         "width": 0.1,
         "x": [
          "What"
         ],
         "y": [
          0.00046811967341768665
         ]
        },
        {
         "text": "pathway",
         "textposition": "auto",
         "type": "bar",
         "width": 0.1,
         "x": [
          "What"
         ],
         "y": [
          0.00046811967341768665
         ]
        },
        {
         "text": "branch",
         "textposition": "auto",
         "type": "bar",
         "width": 0.1,
         "x": [
          "What"
         ],
         "y": [
          0.00046811967341768665
         ]
        },
        {
         "text": "sign",
         "textposition": "auto",
         "type": "bar",
         "width": 0.1,
         "x": [
          "What"
         ],
         "y": [
          0.00045435144772893116
         ]
        },
        {
         "text": "cardboard",
         "textposition": "auto",
         "type": "bar",
         "width": 0.1,
         "x": [
          "What"
         ],
         "y": [
          0.00045435144772893116
         ]
        },
        {
         "text": "doll",
         "textposition": "auto",
         "type": "bar",
         "width": 0.1,
         "x": [
          "What"
         ],
         "y": [
          0.00045435144772893116
         ]
        },
        {
         "text": "grassy land",
         "textposition": "auto",
         "type": "bar",
         "width": 0.1,
         "x": [
          "What"
         ],
         "y": [
          0.00045435144772893116
         ]
        },
        {
         "text": "horse",
         "textposition": "auto",
         "type": "bar",
         "width": 0.1,
         "x": [
          "What"
         ],
         "y": [
          0.00045435144772893116
         ]
        },
        {
         "text": "shirt",
         "textposition": "auto",
         "type": "bar",
         "width": 0.1,
         "x": [
          "What"
         ],
         "y": [
          0.00044058322204017567
         ]
        },
        {
         "text": "group",
         "textposition": "auto",
         "type": "bar",
         "width": 0.1,
         "x": [
          "What"
         ],
         "y": [
          0.00044058322204017567
         ]
        },
        {
         "text": "wash",
         "textposition": "auto",
         "type": "bar",
         "width": 0.1,
         "x": [
          "What"
         ],
         "y": [
          0.00044058322204017567
         ]
        },
        {
         "text": "iron rod",
         "textposition": "auto",
         "type": "bar",
         "width": 0.1,
         "x": [
          "What"
         ],
         "y": [
          0.00044058322204017567
         ]
        },
        {
         "text": "cover",
         "textposition": "auto",
         "type": "bar",
         "width": 0.1,
         "x": [
          "What"
         ],
         "y": [
          0.0004268149963514202
         ]
        },
        {
         "text": "colorful",
         "textposition": "auto",
         "type": "bar",
         "width": 0.1,
         "x": [
          "What"
         ],
         "y": [
          0.0004268149963514202
         ]
        },
        {
         "text": "washbasin",
         "textposition": "auto",
         "type": "bar",
         "width": 0.1,
         "x": [
          "What"
         ],
         "y": [
          0.0004268149963514202
         ]
        },
        {
         "text": "pen",
         "textposition": "auto",
         "type": "bar",
         "width": 0.1,
         "x": [
          "What"
         ],
         "y": [
          0.0004268149963514202
         ]
        },
        {
         "text": "air conditioner",
         "textposition": "auto",
         "type": "bar",
         "width": 0.1,
         "x": [
          "What"
         ],
         "y": [
          0.0004268149963514202
         ]
        },
        {
         "text": "utensil",
         "textposition": "auto",
         "type": "bar",
         "width": 0.1,
         "x": [
          "What"
         ],
         "y": [
          0.0004130467706626647
         ]
        },
        {
         "text": "gray",
         "textposition": "auto",
         "type": "bar",
         "width": 0.1,
         "x": [
          "What"
         ],
         "y": [
          0.0004130467706626647
         ]
        },
        {
         "text": "wooden cabinet",
         "textposition": "auto",
         "type": "bar",
         "width": 0.1,
         "x": [
          "What"
         ],
         "y": [
          0.0004130467706626647
         ]
        },
        {
         "text": "round",
         "textposition": "auto",
         "type": "bar",
         "width": 0.1,
         "x": [
          "What"
         ],
         "y": [
          0.0004130467706626647
         ]
        },
        {
         "text": "fort",
         "textposition": "auto",
         "type": "bar",
         "width": 0.1,
         "x": [
          "What"
         ],
         "y": [
          0.0003992785449739092
         ]
        },
        {
         "text": "wooden floor",
         "textposition": "auto",
         "type": "bar",
         "width": 0.1,
         "x": [
          "What"
         ],
         "y": [
          0.0003992785449739092
         ]
        },
        {
         "text": "marble",
         "textposition": "auto",
         "type": "bar",
         "width": 0.1,
         "x": [
          "What"
         ],
         "y": [
          0.0003992785449739092
         ]
        },
        {
         "text": "structure",
         "textposition": "auto",
         "type": "bar",
         "width": 0.1,
         "x": [
          "What"
         ],
         "y": [
          0.0003992785449739092
         ]
        },
        {
         "text": "keyboard",
         "textposition": "auto",
         "type": "bar",
         "width": 0.1,
         "x": [
          "What"
         ],
         "y": [
          0.0003992785449739092
         ]
        },
        {
         "text": "street",
         "textposition": "auto",
         "type": "bar",
         "width": 0.1,
         "x": [
          "What"
         ],
         "y": [
          0.0003855103192851537
         ]
        },
        {
         "text": "blurred",
         "textposition": "auto",
         "type": "bar",
         "width": 0.1,
         "x": [
          "What"
         ],
         "y": [
          0.0003855103192851537
         ]
        },
        {
         "text": "pole light",
         "textposition": "auto",
         "type": "bar",
         "width": 0.1,
         "x": [
          "What"
         ],
         "y": [
          0.0003855103192851537
         ]
        },
        {
         "text": "clear sky",
         "textposition": "auto",
         "type": "bar",
         "width": 0.1,
         "x": [
          "What"
         ],
         "y": [
          0.0003855103192851537
         ]
        },
        {
         "text": "chimney",
         "textposition": "auto",
         "type": "bar",
         "width": 0.1,
         "x": [
          "What"
         ],
         "y": [
          0.0003855103192851537
         ]
        },
        {
         "text": "tissue roll",
         "textposition": "auto",
         "type": "bar",
         "width": 0.1,
         "x": [
          "What"
         ],
         "y": [
          0.0003855103192851537
         ]
        },
        {
         "text": "back",
         "textposition": "auto",
         "type": "bar",
         "width": 0.1,
         "x": [
          "What"
         ],
         "y": [
          0.0003855103192851537
         ]
        },
        {
         "text": "barrel",
         "textposition": "auto",
         "type": "bar",
         "width": 0.1,
         "x": [
          "What"
         ],
         "y": [
          0.0003855103192851537
         ]
        },
        {
         "text": "bucket",
         "textposition": "auto",
         "type": "bar",
         "width": 0.1,
         "x": [
          "What"
         ],
         "y": [
          0.00037174209359639826
         ]
        },
        {
         "text": "ladder",
         "textposition": "auto",
         "type": "bar",
         "width": 0.1,
         "x": [
          "What"
         ],
         "y": [
          0.00037174209359639826
         ]
        },
        {
         "text": "hat",
         "textposition": "auto",
         "type": "bar",
         "width": 0.1,
         "x": [
          "What"
         ],
         "y": [
          0.00037174209359639826
         ]
        },
        {
         "text": "picture",
         "textposition": "auto",
         "type": "bar",
         "width": 0.1,
         "x": [
          "What"
         ],
         "y": [
          0.00037174209359639826
         ]
        },
        {
         "text": "traffic signal",
         "textposition": "auto",
         "type": "bar",
         "width": 0.1,
         "x": [
          "What"
         ],
         "y": [
          0.00037174209359639826
         ]
        },
        {
         "text": "trolley",
         "textposition": "auto",
         "type": "bar",
         "width": 0.1,
         "x": [
          "What"
         ],
         "y": [
          0.00035797386790764276
         ]
        },
        {
         "text": "mannequin",
         "textposition": "auto",
         "type": "bar",
         "width": 0.1,
         "x": [
          "What"
         ],
         "y": [
          0.00035797386790764276
         ]
        },
        {
         "text": "traffic cone",
         "textposition": "auto",
         "type": "bar",
         "width": 0.1,
         "x": [
          "What"
         ],
         "y": [
          0.00035797386790764276
         ]
        },
        {
         "text": "musical",
         "textposition": "auto",
         "type": "bar",
         "width": 0.1,
         "x": [
          "What"
         ],
         "y": [
          0.00035797386790764276
         ]
        },
        {
         "text": "flooring",
         "textposition": "auto",
         "type": "bar",
         "width": 0.1,
         "x": [
          "What"
         ],
         "y": [
          0.00035797386790764276
         ]
        },
        {
         "text": "commode",
         "textposition": "auto",
         "type": "bar",
         "width": 0.1,
         "x": [
          "What"
         ],
         "y": [
          0.00035797386790764276
         ]
        },
        {
         "text": "bed sheet",
         "textposition": "auto",
         "type": "bar",
         "width": 0.1,
         "x": [
          "What"
         ],
         "y": [
          0.00035797386790764276
         ]
        },
        {
         "text": "cream",
         "textposition": "auto",
         "type": "bar",
         "width": 0.1,
         "x": [
          "What"
         ],
         "y": [
          0.00034420564221888727
         ]
        },
        {
         "text": "sofa chair",
         "textposition": "auto",
         "type": "bar",
         "width": 0.1,
         "x": [
          "What"
         ],
         "y": [
          0.00034420564221888727
         ]
        },
        {
         "text": "flower bouquet",
         "textposition": "auto",
         "type": "bar",
         "width": 0.1,
         "x": [
          "What"
         ],
         "y": [
          0.00034420564221888727
         ]
        },
        {
         "text": "shoe",
         "textposition": "auto",
         "type": "bar",
         "width": 0.1,
         "x": [
          "What"
         ],
         "y": [
          0.00034420564221888727
         ]
        },
        {
         "text": "church",
         "textposition": "auto",
         "type": "bar",
         "width": 0.1,
         "x": [
          "What"
         ],
         "y": [
          0.00034420564221888727
         ]
        },
        {
         "text": "wall painting",
         "textposition": "auto",
         "type": "bar",
         "width": 0.1,
         "x": [
          "What"
         ],
         "y": [
          0.00034420564221888727
         ]
        },
        {
         "text": "kind",
         "textposition": "auto",
         "type": "bar",
         "width": 0.1,
         "x": [
          "What"
         ],
         "y": [
          0.00034420564221888727
         ]
        },
        {
         "text": "flower plant",
         "textposition": "auto",
         "type": "bar",
         "width": 0.1,
         "x": [
          "What"
         ],
         "y": [
          0.00034420564221888727
         ]
        },
        {
         "text": "wooden table",
         "textposition": "auto",
         "type": "bar",
         "width": 0.1,
         "x": [
          "What"
         ],
         "y": [
          0.0003304374165301318
         ]
        },
        {
         "text": "fleet",
         "textposition": "auto",
         "type": "bar",
         "width": 0.1,
         "x": [
          "What"
         ],
         "y": [
          0.0003304374165301318
         ]
        },
        {
         "text": "jacket",
         "textposition": "auto",
         "type": "bar",
         "width": 0.1,
         "x": [
          "What"
         ],
         "y": [
          0.0003304374165301318
         ]
        },
        {
         "text": "right",
         "textposition": "auto",
         "type": "bar",
         "width": 0.1,
         "x": [
          "What"
         ],
         "y": [
          0.0003304374165301318
         ]
        },
        {
         "text": "stall",
         "textposition": "auto",
         "type": "bar",
         "width": 0.1,
         "x": [
          "What"
         ],
         "y": [
          0.0003304374165301318
         ]
        },
        {
         "text": "type",
         "textposition": "auto",
         "type": "bar",
         "width": 0.1,
         "x": [
          "What"
         ],
         "y": [
          0.0003304374165301318
         ]
        },
        {
         "text": "human",
         "textposition": "auto",
         "type": "bar",
         "width": 0.1,
         "x": [
          "What"
         ],
         "y": [
          0.0003304374165301318
         ]
        },
        {
         "text": "trash bin",
         "textposition": "auto",
         "type": "bar",
         "width": 0.1,
         "x": [
          "What"
         ],
         "y": [
          0.0003304374165301318
         ]
        },
        {
         "text": "shelter",
         "textposition": "auto",
         "type": "bar",
         "width": 0.1,
         "x": [
          "What"
         ],
         "y": [
          0.0003304374165301318
         ]
        },
        {
         "text": "tissue",
         "textposition": "auto",
         "type": "bar",
         "width": 0.1,
         "x": [
          "What"
         ],
         "y": [
          0.0003304374165301318
         ]
        },
        {
         "text": "track",
         "textposition": "auto",
         "type": "bar",
         "width": 0.1,
         "x": [
          "What"
         ],
         "y": [
          0.0003166691908413763
         ]
        },
        {
         "text": "garden",
         "textposition": "auto",
         "type": "bar",
         "width": 0.1,
         "x": [
          "What"
         ],
         "y": [
          0.0003166691908413763
         ]
        },
        {
         "text": "footwear",
         "textposition": "auto",
         "type": "bar",
         "width": 0.1,
         "x": [
          "What"
         ],
         "y": [
          0.0003166691908413763
         ]
        },
        {
         "text": "wooden house",
         "textposition": "auto",
         "type": "bar",
         "width": 0.1,
         "x": [
          "What"
         ],
         "y": [
          0.0003166691908413763
         ]
        },
        {
         "text": "electrical",
         "textposition": "auto",
         "type": "bar",
         "width": 0.1,
         "x": [
          "What"
         ],
         "y": [
          0.0003166691908413763
         ]
        },
        {
         "text": "bike",
         "textposition": "auto",
         "type": "bar",
         "width": 0.1,
         "x": [
          "What"
         ],
         "y": [
          0.0003166691908413763
         ]
        },
        {
         "text": "bath tub",
         "textposition": "auto",
         "type": "bar",
         "width": 0.1,
         "x": [
          "What"
         ],
         "y": [
          0.0003166691908413763
         ]
        },
        {
         "text": "ocean",
         "textposition": "auto",
         "type": "bar",
         "width": 0.1,
         "x": [
          "What"
         ],
         "y": [
          0.0003166691908413763
         ]
        },
        {
         "text": "cabin",
         "textposition": "auto",
         "type": "bar",
         "width": 0.1,
         "x": [
          "What"
         ],
         "y": [
          0.0003166691908413763
         ]
        },
        {
         "text": "pond",
         "textposition": "auto",
         "type": "bar",
         "width": 0.1,
         "x": [
          "What"
         ],
         "y": [
          0.0003029009651526208
         ]
        },
        {
         "text": "aircraft",
         "textposition": "auto",
         "type": "bar",
         "width": 0.1,
         "x": [
          "What"
         ],
         "y": [
          0.0003029009651526208
         ]
        },
        {
         "text": "tissue paper",
         "textposition": "auto",
         "type": "bar",
         "width": 0.1,
         "x": [
          "What"
         ],
         "y": [
          0.0003029009651526208
         ]
        },
        {
         "text": "current pole",
         "textposition": "auto",
         "type": "bar",
         "width": 0.1,
         "x": [
          "What"
         ],
         "y": [
          0.0003029009651526208
         ]
        },
        {
         "text": "shower",
         "textposition": "auto",
         "type": "bar",
         "width": 0.1,
         "x": [
          "What"
         ],
         "y": [
          0.0003029009651526208
         ]
        },
        {
         "text": "mud",
         "textposition": "auto",
         "type": "bar",
         "width": 0.1,
         "x": [
          "What"
         ],
         "y": [
          0.0003029009651526208
         ]
        },
        {
         "text": "speaker",
         "textposition": "auto",
         "type": "bar",
         "width": 0.1,
         "x": [
          "What"
         ],
         "y": [
          0.0003029009651526208
         ]
        },
        {
         "text": "equipment",
         "textposition": "auto",
         "type": "bar",
         "width": 0.1,
         "x": [
          "What"
         ],
         "y": [
          0.0003029009651526208
         ]
        },
        {
         "text": "wooden cupboard",
         "textposition": "auto",
         "type": "bar",
         "width": 0.1,
         "x": [
          "What"
         ],
         "y": [
          0.0002891327394638653
         ]
        },
        {
         "text": "small plant",
         "textposition": "auto",
         "type": "bar",
         "width": 0.1,
         "x": [
          "What"
         ],
         "y": [
          0.0002891327394638653
         ]
        },
        {
         "text": "crane",
         "textposition": "auto",
         "type": "bar",
         "width": 0.1,
         "x": [
          "What"
         ],
         "y": [
          0.0002891327394638653
         ]
        },
        {
         "text": "air",
         "textposition": "auto",
         "type": "bar",
         "width": 0.1,
         "x": [
          "What"
         ],
         "y": [
          0.0002891327394638653
         ]
        },
        {
         "text": "bush",
         "textposition": "auto",
         "type": "bar",
         "width": 0.1,
         "x": [
          "What"
         ],
         "y": [
          0.0002891327394638653
         ]
        },
        {
         "text": "wine glass",
         "textposition": "auto",
         "type": "bar",
         "width": 0.1,
         "x": [
          "What"
         ],
         "y": [
          0.0002891327394638653
         ]
        },
        {
         "text": "tub",
         "textposition": "auto",
         "type": "bar",
         "width": 0.1,
         "x": [
          "What"
         ],
         "y": [
          0.0002891327394638653
         ]
        },
        {
         "text": "old",
         "textposition": "auto",
         "type": "bar",
         "width": 0.1,
         "x": [
          "What"
         ],
         "y": [
          0.0002891327394638653
         ]
        },
        {
         "text": "gun",
         "textposition": "auto",
         "type": "bar",
         "width": 0.1,
         "x": [
          "What"
         ],
         "y": [
          0.0002891327394638653
         ]
        },
        {
         "text": "low",
         "textposition": "auto",
         "type": "bar",
         "width": 0.1,
         "x": [
          "What"
         ],
         "y": [
          0.0002891327394638653
         ]
        },
        {
         "text": "hut",
         "textposition": "auto",
         "type": "bar",
         "width": 0.1,
         "x": [
          "What"
         ],
         "y": [
          0.0002891327394638653
         ]
        },
        {
         "text": "stage",
         "textposition": "auto",
         "type": "bar",
         "width": 0.1,
         "x": [
          "What"
         ],
         "y": [
          0.0002891327394638653
         ]
        },
        {
         "text": "piano",
         "textposition": "auto",
         "type": "bar",
         "width": 0.1,
         "x": [
          "What"
         ],
         "y": [
          0.0002891327394638653
         ]
        },
        {
         "text": "tank",
         "textposition": "auto",
         "type": "bar",
         "width": 0.1,
         "x": [
          "What"
         ],
         "y": [
          0.0002891327394638653
         ]
        },
        {
         "text": "interior",
         "textposition": "auto",
         "type": "bar",
         "width": 0.1,
         "x": [
          "What"
         ],
         "y": [
          0.0002891327394638653
         ]
        },
        {
         "text": "ceiling fan",
         "textposition": "auto",
         "type": "bar",
         "width": 0.1,
         "x": [
          "What"
         ],
         "y": [
          0.0002891327394638653
         ]
        },
        {
         "text": "middle",
         "textposition": "auto",
         "type": "bar",
         "width": 0.1,
         "x": [
          "What"
         ],
         "y": [
          0.0002753645137751098
         ]
        },
        {
         "text": "cycle",
         "textposition": "auto",
         "type": "bar",
         "width": 0.1,
         "x": [
          "What"
         ],
         "y": [
          0.0002753645137751098
         ]
        },
        {
         "text": "window pane",
         "textposition": "auto",
         "type": "bar",
         "width": 0.1,
         "x": [
          "What"
         ],
         "y": [
          0.0002753645137751098
         ]
        },
        {
         "text": "wardrobe",
         "textposition": "auto",
         "type": "bar",
         "width": 0.1,
         "x": [
          "What"
         ],
         "y": [
          0.0002753645137751098
         ]
        },
        {
         "text": "shutter",
         "textposition": "auto",
         "type": "bar",
         "width": 0.1,
         "x": [
          "What"
         ],
         "y": [
          0.0002753645137751098
         ]
        },
        {
         "text": "tunnel",
         "textposition": "auto",
         "type": "bar",
         "width": 0.1,
         "x": [
          "What"
         ],
         "y": [
          0.0002753645137751098
         ]
        },
        {
         "text": "bouquet",
         "textposition": "auto",
         "type": "bar",
         "width": 0.1,
         "x": [
          "What"
         ],
         "y": [
          0.0002753645137751098
         ]
        },
        {
         "text": "musical instrument",
         "textposition": "auto",
         "type": "bar",
         "width": 0.1,
         "x": [
          "What"
         ],
         "y": [
          0.0002753645137751098
         ]
        },
        {
         "text": "bin",
         "textposition": "auto",
         "type": "bar",
         "width": 0.1,
         "x": [
          "What"
         ],
         "y": [
          0.0002753645137751098
         ]
        },
        {
         "text": "fridge",
         "textposition": "auto",
         "type": "bar",
         "width": 0.1,
         "x": [
          "What"
         ],
         "y": [
          0.0002753645137751098
         ]
        },
        {
         "text": "chain",
         "textposition": "auto",
         "type": "bar",
         "width": 0.1,
         "x": [
          "What"
         ],
         "y": [
          0.0002753645137751098
         ]
        },
        {
         "text": "sun",
         "textposition": "auto",
         "type": "bar",
         "width": 0.1,
         "x": [
          "What"
         ],
         "y": [
          0.0002753645137751098
         ]
        },
        {
         "text": "center",
         "textposition": "auto",
         "type": "bar",
         "width": 0.1,
         "x": [
          "What"
         ],
         "y": [
          0.0002615962880863543
         ]
        },
        {
         "text": "lump",
         "textposition": "auto",
         "type": "bar",
         "width": 0.1,
         "x": [
          "What"
         ],
         "y": [
          0.0002615962880863543
         ]
        },
        {
         "text": "dining",
         "textposition": "auto",
         "type": "bar",
         "width": 0.1,
         "x": [
          "What"
         ],
         "y": [
          0.0002615962880863543
         ]
        },
        {
         "text": "wooden wall",
         "textposition": "auto",
         "type": "bar",
         "width": 0.1,
         "x": [
          "What"
         ],
         "y": [
          0.0002615962880863543
         ]
        },
        {
         "text": "mouse",
         "textposition": "auto",
         "type": "bar",
         "width": 0.1,
         "x": [
          "What"
         ],
         "y": [
          0.0002615962880863543
         ]
        },
        {
         "text": "electric light",
         "textposition": "auto",
         "type": "bar",
         "width": 0.1,
         "x": [
          "What"
         ],
         "y": [
          0.0002615962880863543
         ]
        },
        {
         "text": "mesh",
         "textposition": "auto",
         "type": "bar",
         "width": 0.1,
         "x": [
          "What"
         ],
         "y": [
          0.0002615962880863543
         ]
        },
        {
         "text": "shadow",
         "textposition": "auto",
         "type": "bar",
         "width": 0.1,
         "x": [
          "What"
         ],
         "y": [
          0.0002615962880863543
         ]
        },
        {
         "text": "name",
         "textposition": "auto",
         "type": "bar",
         "width": 0.1,
         "x": [
          "What"
         ],
         "y": [
          0.0002615962880863543
         ]
        },
        {
         "text": "guitar",
         "textposition": "auto",
         "type": "bar",
         "width": 0.1,
         "x": [
          "What"
         ],
         "y": [
          0.0002615962880863543
         ]
        },
        {
         "text": "fencing",
         "textposition": "auto",
         "type": "bar",
         "width": 0.1,
         "x": [
          "What"
         ],
         "y": [
          0.0002478280623975988
         ]
        },
        {
         "text": "sidewalk",
         "textposition": "auto",
         "type": "bar",
         "width": 0.1,
         "x": [
          "What"
         ],
         "y": [
          0.0002478280623975988
         ]
        },
        {
         "text": "escalator",
         "textposition": "auto",
         "type": "bar",
         "width": 0.1,
         "x": [
          "What"
         ],
         "y": [
          0.0002478280623975988
         ]
        },
        {
         "text": "hydrant",
         "textposition": "auto",
         "type": "bar",
         "width": 0.1,
         "x": [
          "What"
         ],
         "y": [
          0.0002478280623975988
         ]
        },
        {
         "text": "bat",
         "textposition": "auto",
         "type": "bar",
         "width": 0.1,
         "x": [
          "What"
         ],
         "y": [
          0.0002478280623975988
         ]
        },
        {
         "text": "street pole",
         "textposition": "auto",
         "type": "bar",
         "width": 0.1,
         "x": [
          "What"
         ],
         "y": [
          0.0002478280623975988
         ]
        },
        {
         "text": "game",
         "textposition": "auto",
         "type": "bar",
         "width": 0.1,
         "x": [
          "What"
         ],
         "y": [
          0.0002478280623975988
         ]
        },
        {
         "text": "spectacle",
         "textposition": "auto",
         "type": "bar",
         "width": 0.1,
         "x": [
          "What"
         ],
         "y": [
          0.0002478280623975988
         ]
        },
        {
         "text": "stadium",
         "textposition": "auto",
         "type": "bar",
         "width": 0.1,
         "x": [
          "What"
         ],
         "y": [
          0.0002478280623975988
         ]
        },
        {
         "text": "corridor",
         "textposition": "auto",
         "type": "bar",
         "width": 0.1,
         "x": [
          "What"
         ],
         "y": [
          0.00023405983670884333
         ]
        },
        {
         "text": "brush",
         "textposition": "auto",
         "type": "bar",
         "width": 0.1,
         "x": [
          "What"
         ],
         "y": [
          0.00023405983670884333
         ]
        },
        {
         "text": "vegetable",
         "textposition": "auto",
         "type": "bar",
         "width": 0.1,
         "x": [
          "What"
         ],
         "y": [
          0.00023405983670884333
         ]
        },
        {
         "text": "wall hanging",
         "textposition": "auto",
         "type": "bar",
         "width": 0.1,
         "x": [
          "What"
         ],
         "y": [
          0.00023405983670884333
         ]
        },
        {
         "text": "wooden flooring",
         "textposition": "auto",
         "type": "bar",
         "width": 0.1,
         "x": [
          "What"
         ],
         "y": [
          0.00023405983670884333
         ]
        },
        {
         "text": "metal pole",
         "textposition": "auto",
         "type": "bar",
         "width": 0.1,
         "x": [
          "What"
         ],
         "y": [
          0.00023405983670884333
         ]
        },
        {
         "text": "projector screen",
         "textposition": "auto",
         "type": "bar",
         "width": 0.1,
         "x": [
          "What"
         ],
         "y": [
          0.00023405983670884333
         ]
        },
        {
         "text": "roll",
         "textposition": "auto",
         "type": "bar",
         "width": 0.1,
         "x": [
          "What"
         ],
         "y": [
          0.00023405983670884333
         ]
        },
        {
         "text": "gaming machine",
         "textposition": "auto",
         "type": "bar",
         "width": 0.1,
         "x": [
          "What"
         ],
         "y": [
          0.00023405983670884333
         ]
        },
        {
         "text": "water body",
         "textposition": "auto",
         "type": "bar",
         "width": 0.1,
         "x": [
          "What"
         ],
         "y": [
          0.00023405983670884333
         ]
        },
        {
         "text": "electric pole",
         "textposition": "auto",
         "type": "bar",
         "width": 0.1,
         "x": [
          "What"
         ],
         "y": [
          0.00023405983670884333
         ]
        },
        {
         "text": "rooftop",
         "textposition": "auto",
         "type": "bar",
         "width": 0.1,
         "x": [
          "What"
         ],
         "y": [
          0.00023405983670884333
         ]
        },
        {
         "text": "grille",
         "textposition": "auto",
         "type": "bar",
         "width": 0.1,
         "x": [
          "What"
         ],
         "y": [
          0.00023405983670884333
         ]
        },
        {
         "text": "dry leave",
         "textposition": "auto",
         "type": "bar",
         "width": 0.1,
         "x": [
          "What"
         ],
         "y": [
          0.00023405983670884333
         ]
        },
        {
         "text": "cpu",
         "textposition": "auto",
         "type": "bar",
         "width": 0.1,
         "x": [
          "What"
         ],
         "y": [
          0.00023405983670884333
         ]
        },
        {
         "text": "napkin",
         "textposition": "auto",
         "type": "bar",
         "width": 0.1,
         "x": [
          "What"
         ],
         "y": [
          0.00023405983670884333
         ]
        },
        {
         "text": "date",
         "textposition": "auto",
         "type": "bar",
         "width": 0.1,
         "x": [
          "What"
         ],
         "y": [
          0.00023405983670884333
         ]
        },
        {
         "text": "countertop",
         "textposition": "auto",
         "type": "bar",
         "width": 0.1,
         "x": [
          "What"
         ],
         "y": [
          0.00022029161102008783
         ]
        },
        {
         "text": "field",
         "textposition": "auto",
         "type": "bar",
         "width": 0.1,
         "x": [
          "What"
         ],
         "y": [
          0.00022029161102008783
         ]
        },
        {
         "text": "symbol",
         "textposition": "auto",
         "type": "bar",
         "width": 0.1,
         "x": [
          "What"
         ],
         "y": [
          0.00022029161102008783
         ]
        },
        {
         "text": "image",
         "textposition": "auto",
         "type": "bar",
         "width": 0.1,
         "x": [
          "What"
         ],
         "y": [
          0.00022029161102008783
         ]
        },
        {
         "text": "podium",
         "textposition": "auto",
         "type": "bar",
         "width": 0.1,
         "x": [
          "What"
         ],
         "y": [
          0.00022029161102008783
         ]
        },
        {
         "text": "castle",
         "textposition": "auto",
         "type": "bar",
         "width": 0.1,
         "x": [
          "What"
         ],
         "y": [
          0.00022029161102008783
         ]
        },
        {
         "text": "socket",
         "textposition": "auto",
         "type": "bar",
         "width": 0.1,
         "x": [
          "What"
         ],
         "y": [
          0.00022029161102008783
         ]
        },
        {
         "text": "entrance",
         "textposition": "auto",
         "type": "bar",
         "width": 0.1,
         "x": [
          "What"
         ],
         "y": [
          0.00022029161102008783
         ]
        },
        {
         "text": "wooden frame",
         "textposition": "auto",
         "type": "bar",
         "width": 0.1,
         "x": [
          "What"
         ],
         "y": [
          0.00022029161102008783
         ]
        },
        {
         "text": "chandelier light",
         "textposition": "auto",
         "type": "bar",
         "width": 0.1,
         "x": [
          "What"
         ],
         "y": [
          0.00022029161102008783
         ]
        },
        {
         "text": "holder",
         "textposition": "auto",
         "type": "bar",
         "width": 0.1,
         "x": [
          "What"
         ],
         "y": [
          0.00022029161102008783
         ]
        },
        {
         "text": "word",
         "textposition": "auto",
         "type": "bar",
         "width": 0.1,
         "x": [
          "What"
         ],
         "y": [
          0.00022029161102008783
         ]
        },
        {
         "text": "cot",
         "textposition": "auto",
         "type": "bar",
         "width": 0.1,
         "x": [
          "What"
         ],
         "y": [
          0.00022029161102008783
         ]
        },
        {
         "text": "log",
         "textposition": "auto",
         "type": "bar",
         "width": 0.1,
         "x": [
          "What"
         ],
         "y": [
          0.00022029161102008783
         ]
        },
        {
         "text": "projector",
         "textposition": "auto",
         "type": "bar",
         "width": 0.1,
         "x": [
          "What"
         ],
         "y": [
          0.00020652338533133234
         ]
        },
        {
         "text": "tower building",
         "textposition": "auto",
         "type": "bar",
         "width": 0.1,
         "x": [
          "What"
         ],
         "y": [
          0.00020652338533133234
         ]
        },
        {
         "text": "pixel",
         "textposition": "auto",
         "type": "bar",
         "width": 0.1,
         "x": [
          "What"
         ],
         "y": [
          0.00020652338533133234
         ]
        },
        {
         "text": "block",
         "textposition": "auto",
         "type": "bar",
         "width": 0.1,
         "x": [
          "What"
         ],
         "y": [
          0.00020652338533133234
         ]
        },
        {
         "text": "face",
         "textposition": "auto",
         "type": "bar",
         "width": 0.1,
         "x": [
          "What"
         ],
         "y": [
          0.00020652338533133234
         ]
        },
        {
         "text": "knife",
         "textposition": "auto",
         "type": "bar",
         "width": 0.1,
         "x": [
          "What"
         ],
         "y": [
          0.00020652338533133234
         ]
        },
        {
         "text": "maroon",
         "textposition": "auto",
         "type": "bar",
         "width": 0.1,
         "x": [
          "What"
         ],
         "y": [
          0.00020652338533133234
         ]
        },
        {
         "text": "wooden rack",
         "textposition": "auto",
         "type": "bar",
         "width": 0.1,
         "x": [
          "What"
         ],
         "y": [
          0.00020652338533133234
         ]
        },
        {
         "text": "man",
         "textposition": "auto",
         "type": "bar",
         "width": 0.1,
         "x": [
          "What"
         ],
         "y": [
          0.00020652338533133234
         ]
        },
        {
         "text": "extinguisher",
         "textposition": "auto",
         "type": "bar",
         "width": 0.1,
         "x": [
          "What"
         ],
         "y": [
          0.00020652338533133234
         ]
        },
        {
         "text": "sea",
         "textposition": "auto",
         "type": "bar",
         "width": 0.1,
         "x": [
          "What"
         ],
         "y": [
          0.00020652338533133234
         ]
        },
        {
         "text": "signal light",
         "textposition": "auto",
         "type": "bar",
         "width": 0.1,
         "x": [
          "What"
         ],
         "y": [
          0.00020652338533133234
         ]
        },
        {
         "text": "card",
         "textposition": "auto",
         "type": "bar",
         "width": 0.1,
         "x": [
          "What"
         ],
         "y": [
          0.00020652338533133234
         ]
        },
        {
         "text": "balcony",
         "textposition": "auto",
         "type": "bar",
         "width": 0.1,
         "x": [
          "What"
         ],
         "y": [
          0.00019275515964257685
         ]
        },
        {
         "text": "sit chair",
         "textposition": "auto",
         "type": "bar",
         "width": 0.1,
         "x": [
          "What"
         ],
         "y": [
          0.00019275515964257685
         ]
        },
        {
         "text": "large",
         "textposition": "auto",
         "type": "bar",
         "width": 0.1,
         "x": [
          "What"
         ],
         "y": [
          0.00019275515964257685
         ]
        },
        {
         "text": "railway track",
         "textposition": "auto",
         "type": "bar",
         "width": 0.1,
         "x": [
          "What"
         ],
         "y": [
          0.00019275515964257685
         ]
        },
        {
         "text": "vessel",
         "textposition": "auto",
         "type": "bar",
         "width": 0.1,
         "x": [
          "What"
         ],
         "y": [
          0.00019275515964257685
         ]
        },
        {
         "text": "wine bottle",
         "textposition": "auto",
         "type": "bar",
         "width": 0.1,
         "x": [
          "What"
         ],
         "y": [
          0.00019275515964257685
         ]
        },
        {
         "text": "elephant",
         "textposition": "auto",
         "type": "bar",
         "width": 0.1,
         "x": [
          "What"
         ],
         "y": [
          0.00019275515964257685
         ]
        },
        {
         "text": "cross",
         "textposition": "auto",
         "type": "bar",
         "width": 0.1,
         "x": [
          "What"
         ],
         "y": [
          0.00019275515964257685
         ]
        },
        {
         "text": "signboard",
         "textposition": "auto",
         "type": "bar",
         "width": 0.1,
         "x": [
          "What"
         ],
         "y": [
          0.00019275515964257685
         ]
        },
        {
         "text": "venetian",
         "textposition": "auto",
         "type": "bar",
         "width": 0.1,
         "x": [
          "What"
         ],
         "y": [
          0.00019275515964257685
         ]
        },
        {
         "text": "bathroom",
         "textposition": "auto",
         "type": "bar",
         "width": 0.1,
         "x": [
          "What"
         ],
         "y": [
          0.00019275515964257685
         ]
        },
        {
         "text": "furniture",
         "textposition": "auto",
         "type": "bar",
         "width": 0.1,
         "x": [
          "What"
         ],
         "y": [
          0.00019275515964257685
         ]
        },
        {
         "text": "street lamp",
         "textposition": "auto",
         "type": "bar",
         "width": 0.1,
         "x": [
          "What"
         ],
         "y": [
          0.00019275515964257685
         ]
        },
        {
         "text": "woman",
         "textposition": "auto",
         "type": "bar",
         "width": 0.1,
         "x": [
          "What"
         ],
         "y": [
          0.00019275515964257685
         ]
        },
        {
         "text": "wheel",
         "textposition": "auto",
         "type": "bar",
         "width": 0.1,
         "x": [
          "What"
         ],
         "y": [
          0.00019275515964257685
         ]
        },
        {
         "text": "hoarding",
         "textposition": "auto",
         "type": "bar",
         "width": 0.1,
         "x": [
          "What"
         ],
         "y": [
          0.00019275515964257685
         ]
        },
        {
         "text": "city",
         "textposition": "auto",
         "type": "bar",
         "width": 0.1,
         "x": [
          "What"
         ],
         "y": [
          0.00019275515964257685
         ]
        },
        {
         "text": "fish",
         "textposition": "auto",
         "type": "bar",
         "width": 0.1,
         "x": [
          "What"
         ],
         "y": [
          0.00019275515964257685
         ]
        },
        {
         "text": "mobile",
         "textposition": "auto",
         "type": "bar",
         "width": 0.1,
         "x": [
          "What"
         ],
         "y": [
          0.00019275515964257685
         ]
        },
        {
         "text": "switchboard",
         "textposition": "auto",
         "type": "bar",
         "width": 0.1,
         "x": [
          "What"
         ],
         "y": [
          0.00019275515964257685
         ]
        },
        {
         "text": "lake",
         "textposition": "auto",
         "type": "bar",
         "width": 0.1,
         "x": [
          "What"
         ],
         "y": [
          0.00019275515964257685
         ]
        },
        {
         "text": "corner",
         "textposition": "auto",
         "type": "bar",
         "width": 0.1,
         "x": [
          "What"
         ],
         "y": [
          0.00019275515964257685
         ]
        },
        {
         "text": "railway",
         "textposition": "auto",
         "type": "bar",
         "width": 0.1,
         "x": [
          "What"
         ],
         "y": [
          0.00017898693395382138
         ]
        },
        {
         "text": "western toilet",
         "textposition": "auto",
         "type": "bar",
         "width": 0.1,
         "x": [
          "What"
         ],
         "y": [
          0.00017898693395382138
         ]
        },
        {
         "text": "smile",
         "textposition": "auto",
         "type": "bar",
         "width": 0.1,
         "x": [
          "What"
         ],
         "y": [
          0.00017898693395382138
         ]
        },
        {
         "text": "metal frame",
         "textposition": "auto",
         "type": "bar",
         "width": 0.1,
         "x": [
          "What"
         ],
         "y": [
          0.00017898693395382138
         ]
        },
        {
         "text": "carving",
         "textposition": "auto",
         "type": "bar",
         "width": 0.1,
         "x": [
          "What"
         ],
         "y": [
          0.00017898693395382138
         ]
        },
        {
         "text": "snowy mountain",
         "textposition": "auto",
         "type": "bar",
         "width": 0.1,
         "x": [
          "What"
         ],
         "y": [
          0.00017898693395382138
         ]
        },
        {
         "text": "fire extinguisher",
         "textposition": "auto",
         "type": "bar",
         "width": 0.1,
         "x": [
          "What"
         ],
         "y": [
          0.00017898693395382138
         ]
        },
        {
         "text": "saucer",
         "textposition": "auto",
         "type": "bar",
         "width": 0.1,
         "x": [
          "What"
         ],
         "y": [
          0.00017898693395382138
         ]
        },
        {
         "text": "file",
         "textposition": "auto",
         "type": "bar",
         "width": 0.1,
         "x": [
          "What"
         ],
         "y": [
          0.00017898693395382138
         ]
        },
        {
         "text": "transparent",
         "textposition": "auto",
         "type": "bar",
         "width": 0.1,
         "x": [
          "What"
         ],
         "y": [
          0.00017898693395382138
         ]
        },
        {
         "text": "hall",
         "textposition": "auto",
         "type": "bar",
         "width": 0.1,
         "x": [
          "What"
         ],
         "y": [
          0.00017898693395382138
         ]
        },
        {
         "text": "logo",
         "textposition": "auto",
         "type": "bar",
         "width": 0.1,
         "x": [
          "What"
         ],
         "y": [
          0.00017898693395382138
         ]
        },
        {
         "text": "tree trunk",
         "textposition": "auto",
         "type": "bar",
         "width": 0.1,
         "x": [
          "What"
         ],
         "y": [
          0.00017898693395382138
         ]
        },
        {
         "text": "microphone",
         "textposition": "auto",
         "type": "bar",
         "width": 0.1,
         "x": [
          "What"
         ],
         "y": [
          0.00017898693395382138
         ]
        },
        {
         "text": "auditorium",
         "textposition": "auto",
         "type": "bar",
         "width": 0.1,
         "x": [
          "What"
         ],
         "y": [
          0.0001652187082650659
         ]
        },
        {
         "text": "garbage bin",
         "textposition": "auto",
         "type": "bar",
         "width": 0.1,
         "x": [
          "What"
         ],
         "y": [
          0.0001652187082650659
         ]
        },
        {
         "text": "front",
         "textposition": "auto",
         "type": "bar",
         "width": 0.1,
         "x": [
          "What"
         ],
         "y": [
          0.0001652187082650659
         ]
        },
        {
         "text": "antenna",
         "textposition": "auto",
         "type": "bar",
         "width": 0.1,
         "x": [
          "What"
         ],
         "y": [
          0.0001652187082650659
         ]
        },
        {
         "text": "smoke",
         "textposition": "auto",
         "type": "bar",
         "width": 0.1,
         "x": [
          "What"
         ],
         "y": [
          0.0001652187082650659
         ]
        },
        {
         "text": "lighthouse",
         "textposition": "auto",
         "type": "bar",
         "width": 0.1,
         "x": [
          "What"
         ],
         "y": [
          0.0001652187082650659
         ]
        },
        {
         "text": "switch board",
         "textposition": "auto",
         "type": "bar",
         "width": 0.1,
         "x": [
          "What"
         ],
         "y": [
          0.0001652187082650659
         ]
        },
        {
         "text": "plant vase",
         "textposition": "auto",
         "type": "bar",
         "width": 0.1,
         "x": [
          "What"
         ],
         "y": [
          0.0001652187082650659
         ]
        },
        {
         "text": "kettle",
         "textposition": "auto",
         "type": "bar",
         "width": 0.1,
         "x": [
          "What"
         ],
         "y": [
          0.0001652187082650659
         ]
        },
        {
         "text": "head",
         "textposition": "auto",
         "type": "bar",
         "width": 0.1,
         "x": [
          "What"
         ],
         "y": [
          0.0001652187082650659
         ]
        },
        {
         "text": "colour",
         "textposition": "auto",
         "type": "bar",
         "width": 0.1,
         "x": [
          "What"
         ],
         "y": [
          0.0001652187082650659
         ]
        },
        {
         "text": "gas",
         "textposition": "auto",
         "type": "bar",
         "width": 0.1,
         "x": [
          "What"
         ],
         "y": [
          0.0001652187082650659
         ]
        },
        {
         "text": "child",
         "textposition": "auto",
         "type": "bar",
         "width": 0.1,
         "x": [
          "What"
         ],
         "y": [
          0.0001652187082650659
         ]
        },
        {
         "text": "drink",
         "textposition": "auto",
         "type": "bar",
         "width": 0.1,
         "x": [
          "What"
         ],
         "y": [
          0.0001652187082650659
         ]
        },
        {
         "text": "restaurant",
         "textposition": "auto",
         "type": "bar",
         "width": 0.1,
         "x": [
          "What"
         ],
         "y": [
          0.0001652187082650659
         ]
        },
        {
         "text": "candle stand",
         "textposition": "auto",
         "type": "bar",
         "width": 0.1,
         "x": [
          "What"
         ],
         "y": [
          0.0001652187082650659
         ]
        },
        {
         "text": "plane",
         "textposition": "auto",
         "type": "bar",
         "width": 0.1,
         "x": [
          "What"
         ],
         "y": [
          0.0001652187082650659
         ]
        },
        {
         "text": "display",
         "textposition": "auto",
         "type": "bar",
         "width": 0.1,
         "x": [
          "What"
         ],
         "y": [
          0.0001652187082650659
         ]
        },
        {
         "text": "switch",
         "textposition": "auto",
         "type": "bar",
         "width": 0.1,
         "x": [
          "What"
         ],
         "y": [
          0.0001652187082650659
         ]
        },
        {
         "text": "toilet paper",
         "textposition": "auto",
         "type": "bar",
         "width": 0.1,
         "x": [
          "What"
         ],
         "y": [
          0.0001514504825763104
         ]
        },
        {
         "text": "garbage",
         "textposition": "auto",
         "type": "bar",
         "width": 0.1,
         "x": [
          "What"
         ],
         "y": [
          0.0001514504825763104
         ]
        },
        {
         "text": "skyscraper",
         "textposition": "auto",
         "type": "bar",
         "width": 0.1,
         "x": [
          "What"
         ],
         "y": [
          0.0001514504825763104
         ]
        },
        {
         "text": "aeroplane",
         "textposition": "auto",
         "type": "bar",
         "width": 0.1,
         "x": [
          "What"
         ],
         "y": [
          0.0001514504825763104
         ]
        },
        {
         "text": "barricade",
         "textposition": "auto",
         "type": "bar",
         "width": 0.1,
         "x": [
          "What"
         ],
         "y": [
          0.0001514504825763104
         ]
        },
        {
         "text": "kid",
         "textposition": "auto",
         "type": "bar",
         "width": 0.1,
         "x": [
          "What"
         ],
         "y": [
          0.0001514504825763104
         ]
        },
        {
         "text": "cradle",
         "textposition": "auto",
         "type": "bar",
         "width": 0.1,
         "x": [
          "What"
         ],
         "y": [
          0.0001514504825763104
         ]
        },
        {
         "text": "lamb",
         "textposition": "auto",
         "type": "bar",
         "width": 0.1,
         "x": [
          "What"
         ],
         "y": [
          0.0001514504825763104
         ]
        },
        {
         "text": "headset",
         "textposition": "auto",
         "type": "bar",
         "width": 0.1,
         "x": [
          "What"
         ],
         "y": [
          0.0001514504825763104
         ]
        },
        {
         "text": "bookshelf",
         "textposition": "auto",
         "type": "bar",
         "width": 0.1,
         "x": [
          "What"
         ],
         "y": [
          0.0001514504825763104
         ]
        },
        {
         "text": "liquid",
         "textposition": "auto",
         "type": "bar",
         "width": 0.1,
         "x": [
          "What"
         ],
         "y": [
          0.0001514504825763104
         ]
        },
        {
         "text": "bath",
         "textposition": "auto",
         "type": "bar",
         "width": 0.1,
         "x": [
          "What"
         ],
         "y": [
          0.0001514504825763104
         ]
        },
        {
         "text": "inflatable",
         "textposition": "auto",
         "type": "bar",
         "width": 0.1,
         "x": [
          "What"
         ],
         "y": [
          0.0001514504825763104
         ]
        },
        {
         "text": "indoor",
         "textposition": "auto",
         "type": "bar",
         "width": 0.1,
         "x": [
          "What"
         ],
         "y": [
          0.0001514504825763104
         ]
        },
        {
         "text": "dry tree",
         "textposition": "auto",
         "type": "bar",
         "width": 0.1,
         "x": [
          "What"
         ],
         "y": [
          0.0001514504825763104
         ]
        },
        {
         "text": "big building",
         "textposition": "auto",
         "type": "bar",
         "width": 0.1,
         "x": [
          "What"
         ],
         "y": [
          0.0001514504825763104
         ]
        },
        {
         "text": "depiction",
         "textposition": "auto",
         "type": "bar",
         "width": 0.1,
         "x": [
          "What"
         ],
         "y": [
          0.0001514504825763104
         ]
        },
        {
         "text": "cave",
         "textposition": "auto",
         "type": "bar",
         "width": 0.1,
         "x": [
          "What"
         ],
         "y": [
          0.0001514504825763104
         ]
        },
        {
         "text": "glass jar",
         "textposition": "auto",
         "type": "bar",
         "width": 0.1,
         "x": [
          "What"
         ],
         "y": [
          0.0001514504825763104
         ]
        },
        {
         "text": "cone",
         "textposition": "auto",
         "type": "bar",
         "width": 0.1,
         "x": [
          "What"
         ],
         "y": [
          0.0001514504825763104
         ]
        },
        {
         "text": "barrier pole",
         "textposition": "auto",
         "type": "bar",
         "width": 0.1,
         "x": [
          "What"
         ],
         "y": [
          0.0001514504825763104
         ]
        },
        {
         "text": "hen",
         "textposition": "auto",
         "type": "bar",
         "width": 0.1,
         "x": [
          "What"
         ],
         "y": [
          0.0001514504825763104
         ]
        },
        {
         "text": "wooden door",
         "textposition": "auto",
         "type": "bar",
         "width": 0.1,
         "x": [
          "What"
         ],
         "y": [
          0.0001514504825763104
         ]
        },
        {
         "text": "cow",
         "textposition": "auto",
         "type": "bar",
         "width": 0.1,
         "x": [
          "What"
         ],
         "y": [
          0.0001514504825763104
         ]
        },
        {
         "text": "goggle",
         "textposition": "auto",
         "type": "bar",
         "width": 0.1,
         "x": [
          "What"
         ],
         "y": [
          0.0001514504825763104
         ]
        },
        {
         "text": "tree branch",
         "textposition": "auto",
         "type": "bar",
         "width": 0.1,
         "x": [
          "What"
         ],
         "y": [
          0.0001376822568875549
         ]
        },
        {
         "text": "glove",
         "textposition": "auto",
         "type": "bar",
         "width": 0.1,
         "x": [
          "What"
         ],
         "y": [
          0.0001376822568875549
         ]
        },
        {
         "text": "cart",
         "textposition": "auto",
         "type": "bar",
         "width": 0.1,
         "x": [
          "What"
         ],
         "y": [
          0.0001376822568875549
         ]
        },
        {
         "text": "cup board",
         "textposition": "auto",
         "type": "bar",
         "width": 0.1,
         "x": [
          "What"
         ],
         "y": [
          0.0001376822568875549
         ]
        },
        {
         "text": "full",
         "textposition": "auto",
         "type": "bar",
         "width": 0.1,
         "x": [
          "What"
         ],
         "y": [
          0.0001376822568875549
         ]
        },
        {
         "text": "line",
         "textposition": "auto",
         "type": "bar",
         "width": 0.1,
         "x": [
          "What"
         ],
         "y": [
          0.0001376822568875549
         ]
        },
        {
         "text": "soil",
         "textposition": "auto",
         "type": "bar",
         "width": 0.1,
         "x": [
          "What"
         ],
         "y": [
          0.0001376822568875549
         ]
        },
        {
         "text": "wine",
         "textposition": "auto",
         "type": "bar",
         "width": 0.1,
         "x": [
          "What"
         ],
         "y": [
          0.0001376822568875549
         ]
        },
        {
         "text": "tin",
         "textposition": "auto",
         "type": "bar",
         "width": 0.1,
         "x": [
          "What"
         ],
         "y": [
          0.0001376822568875549
         ]
        },
        {
         "text": "cat",
         "textposition": "auto",
         "type": "bar",
         "width": 0.1,
         "x": [
          "What"
         ],
         "y": [
          0.0001376822568875549
         ]
        },
        {
         "text": "shrub",
         "textposition": "auto",
         "type": "bar",
         "width": 0.1,
         "x": [
          "What"
         ],
         "y": [
          0.0001376822568875549
         ]
        },
        {
         "text": "crowd",
         "textposition": "auto",
         "type": "bar",
         "width": 0.1,
         "x": [
          "What"
         ],
         "y": [
          0.0001376822568875549
         ]
        },
        {
         "text": "packet",
         "textposition": "auto",
         "type": "bar",
         "width": 0.1,
         "x": [
          "What"
         ],
         "y": [
          0.0001376822568875549
         ]
        },
        {
         "text": "art",
         "textposition": "auto",
         "type": "bar",
         "width": 0.1,
         "x": [
          "What"
         ],
         "y": [
          0.0001376822568875549
         ]
        },
        {
         "text": "stroller",
         "textposition": "auto",
         "type": "bar",
         "width": 0.1,
         "x": [
          "What"
         ],
         "y": [
          0.0001376822568875549
         ]
        },
        {
         "text": "bowling",
         "textposition": "auto",
         "type": "bar",
         "width": 0.1,
         "x": [
          "What"
         ],
         "y": [
          0.0001376822568875549
         ]
        },
        {
         "text": "spec",
         "textposition": "auto",
         "type": "bar",
         "width": 0.1,
         "x": [
          "What"
         ],
         "y": [
          0.0001376822568875549
         ]
        },
        {
         "text": "snooker table",
         "textposition": "auto",
         "type": "bar",
         "width": 0.1,
         "x": [
          "What"
         ],
         "y": [
          0.0001376822568875549
         ]
        },
        {
         "text": "beach",
         "textposition": "auto",
         "type": "bar",
         "width": 0.1,
         "x": [
          "What"
         ],
         "y": [
          0.0001376822568875549
         ]
        },
        {
         "text": "ceramic",
         "textposition": "auto",
         "type": "bar",
         "width": 0.1,
         "x": [
          "What"
         ],
         "y": [
          0.0001376822568875549
         ]
        },
        {
         "text": "planet",
         "textposition": "auto",
         "type": "bar",
         "width": 0.1,
         "x": [
          "What"
         ],
         "y": [
          0.0001376822568875549
         ]
        },
        {
         "text": "photograph",
         "textposition": "auto",
         "type": "bar",
         "width": 0.1,
         "x": [
          "What"
         ],
         "y": [
          0.0001376822568875549
         ]
        },
        {
         "text": "dome",
         "textposition": "auto",
         "type": "bar",
         "width": 0.1,
         "x": [
          "What"
         ],
         "y": [
          0.0001376822568875549
         ]
        },
        {
         "text": "carton box",
         "textposition": "auto",
         "type": "bar",
         "width": 0.1,
         "x": [
          "What"
         ],
         "y": [
          0.0001376822568875549
         ]
        },
        {
         "text": "silver",
         "textposition": "auto",
         "type": "bar",
         "width": 0.1,
         "x": [
          "What"
         ],
         "y": [
          0.0001239140311987994
         ]
        },
        {
         "text": "golf",
         "textposition": "auto",
         "type": "bar",
         "width": 0.1,
         "x": [
          "What"
         ],
         "y": [
          0.0001239140311987994
         ]
        },
        {
         "text": "mattress",
         "textposition": "auto",
         "type": "bar",
         "width": 0.1,
         "x": [
          "What"
         ],
         "y": [
          0.0001239140311987994
         ]
        },
        {
         "text": "cake",
         "textposition": "auto",
         "type": "bar",
         "width": 0.1,
         "x": [
          "What"
         ],
         "y": [
          0.0001239140311987994
         ]
        },
        {
         "text": "button",
         "textposition": "auto",
         "type": "bar",
         "width": 0.1,
         "x": [
          "What"
         ],
         "y": [
          0.0001239140311987994
         ]
        },
        {
         "text": "way",
         "textposition": "auto",
         "type": "bar",
         "width": 0.1,
         "x": [
          "What"
         ],
         "y": [
          0.0001239140311987994
         ]
        },
        {
         "text": "arrangement",
         "textposition": "auto",
         "type": "bar",
         "width": 0.1,
         "x": [
          "What"
         ],
         "y": [
          0.0001239140311987994
         ]
        },
        {
         "text": "brick wall",
         "textposition": "auto",
         "type": "bar",
         "width": 0.1,
         "x": [
          "What"
         ],
         "y": [
          0.0001239140311987994
         ]
        },
        {
         "text": "beautiful",
         "textposition": "auto",
         "type": "bar",
         "width": 0.1,
         "x": [
          "What"
         ],
         "y": [
          0.0001239140311987994
         ]
        },
        {
         "text": "bulb",
         "textposition": "auto",
         "type": "bar",
         "width": 0.1,
         "x": [
          "What"
         ],
         "y": [
          0.0001239140311987994
         ]
        },
        {
         "text": "meter",
         "textposition": "auto",
         "type": "bar",
         "width": 0.1,
         "x": [
          "What"
         ],
         "y": [
          0.0001239140311987994
         ]
        },
        {
         "text": "directional board",
         "textposition": "auto",
         "type": "bar",
         "width": 0.1,
         "x": [
          "What"
         ],
         "y": [
          0.0001239140311987994
         ]
        },
        {
         "text": "remote",
         "textposition": "auto",
         "type": "bar",
         "width": 0.1,
         "x": [
          "What"
         ],
         "y": [
          0.0001239140311987994
         ]
        },
        {
         "text": "bed lamp",
         "textposition": "auto",
         "type": "bar",
         "width": 0.1,
         "x": [
          "What"
         ],
         "y": [
          0.0001239140311987994
         ]
        },
        {
         "text": "balloon",
         "textposition": "auto",
         "type": "bar",
         "width": 0.1,
         "x": [
          "What"
         ],
         "y": [
          0.0001239140311987994
         ]
        },
        {
         "text": "baby bed",
         "textposition": "auto",
         "type": "bar",
         "width": 0.1,
         "x": [
          "What"
         ],
         "y": [
          0.0001239140311987994
         ]
        },
        {
         "text": "cylinder",
         "textposition": "auto",
         "type": "bar",
         "width": 0.1,
         "x": [
          "What"
         ],
         "y": [
          0.0001239140311987994
         ]
        },
        {
         "text": "aquarium",
         "textposition": "auto",
         "type": "bar",
         "width": 0.1,
         "x": [
          "What"
         ],
         "y": [
          0.0001239140311987994
         ]
        },
        {
         "text": "chess",
         "textposition": "auto",
         "type": "bar",
         "width": 0.1,
         "x": [
          "What"
         ],
         "y": [
          0.0001239140311987994
         ]
        },
        {
         "text": "monument",
         "textposition": "auto",
         "type": "bar",
         "width": 0.1,
         "x": [
          "What"
         ],
         "y": [
          0.0001239140311987994
         ]
        },
        {
         "text": "iceberg",
         "textposition": "auto",
         "type": "bar",
         "width": 0.1,
         "x": [
          "What"
         ],
         "y": [
          0.0001239140311987994
         ]
        },
        {
         "text": "water fountain",
         "textposition": "auto",
         "type": "bar",
         "width": 0.1,
         "x": [
          "What"
         ],
         "y": [
          0.0001239140311987994
         ]
        },
        {
         "text": "display board",
         "textposition": "auto",
         "type": "bar",
         "width": 0.1,
         "x": [
          "What"
         ],
         "y": [
          0.0001239140311987994
         ]
        },
        {
         "text": "stained glass",
         "textposition": "auto",
         "type": "bar",
         "width": 0.1,
         "x": [
          "What"
         ],
         "y": [
          0.0001239140311987994
         ]
        },
        {
         "text": "present",
         "textposition": "auto",
         "type": "bar",
         "width": 0.1,
         "x": [
          "What"
         ],
         "y": [
          0.0001239140311987994
         ]
        },
        {
         "text": "sound box",
         "textposition": "auto",
         "type": "bar",
         "width": 0.1,
         "x": [
          "What"
         ],
         "y": [
          0.00011014580551004392
         ]
        },
        {
         "text": "paper roll",
         "textposition": "auto",
         "type": "bar",
         "width": 0.1,
         "x": [
          "What"
         ],
         "y": [
          0.00011014580551004392
         ]
        },
        {
         "text": "runway",
         "textposition": "auto",
         "type": "bar",
         "width": 0.1,
         "x": [
          "What"
         ],
         "y": [
          0.00011014580551004392
         ]
        },
        {
         "text": "pant",
         "textposition": "auto",
         "type": "bar",
         "width": 0.1,
         "x": [
          "What"
         ],
         "y": [
          0.00011014580551004392
         ]
        },
        {
         "text": "flag pole",
         "textposition": "auto",
         "type": "bar",
         "width": 0.1,
         "x": [
          "What"
         ],
         "y": [
          0.00011014580551004392
         ]
        },
        {
         "text": "star",
         "textposition": "auto",
         "type": "bar",
         "width": 0.1,
         "x": [
          "What"
         ],
         "y": [
          0.00011014580551004392
         ]
        },
        {
         "text": "instrument",
         "textposition": "auto",
         "type": "bar",
         "width": 0.1,
         "x": [
          "What"
         ],
         "y": [
          0.00011014580551004392
         ]
        },
        {
         "text": "pool table",
         "textposition": "auto",
         "type": "bar",
         "width": 0.1,
         "x": [
          "What"
         ],
         "y": [
          0.00011014580551004392
         ]
        },
        {
         "text": "tennis",
         "textposition": "auto",
         "type": "bar",
         "width": 0.1,
         "x": [
          "What"
         ],
         "y": [
          0.00011014580551004392
         ]
        },
        {
         "text": "flush",
         "textposition": "auto",
         "type": "bar",
         "width": 0.1,
         "x": [
          "What"
         ],
         "y": [
          0.00011014580551004392
         ]
        },
        {
         "text": "crop",
         "textposition": "auto",
         "type": "bar",
         "width": 0.1,
         "x": [
          "What"
         ],
         "y": [
          0.00011014580551004392
         ]
        },
        {
         "text": "petrol",
         "textposition": "auto",
         "type": "bar",
         "width": 0.1,
         "x": [
          "What"
         ],
         "y": [
          0.00011014580551004392
         ]
        },
        {
         "text": "doormat",
         "textposition": "auto",
         "type": "bar",
         "width": 0.1,
         "x": [
          "What"
         ],
         "y": [
          0.00011014580551004392
         ]
        },
        {
         "text": "motorbike",
         "textposition": "auto",
         "type": "bar",
         "width": 0.1,
         "x": [
          "What"
         ],
         "y": [
          0.00011014580551004392
         ]
        },
        {
         "text": "mic",
         "textposition": "auto",
         "type": "bar",
         "width": 0.1,
         "x": [
          "What"
         ],
         "y": [
          0.00011014580551004392
         ]
        },
        {
         "text": "library",
         "textposition": "auto",
         "type": "bar",
         "width": 0.1,
         "x": [
          "What"
         ],
         "y": [
          0.00011014580551004392
         ]
        },
        {
         "text": "wooden platform",
         "textposition": "auto",
         "type": "bar",
         "width": 0.1,
         "x": [
          "What"
         ],
         "y": [
          0.00011014580551004392
         ]
        },
        {
         "text": "door mat",
         "textposition": "auto",
         "type": "bar",
         "width": 0.1,
         "x": [
          "What"
         ],
         "y": [
          0.00011014580551004392
         ]
        },
        {
         "text": "panel",
         "textposition": "auto",
         "type": "bar",
         "width": 0.1,
         "x": [
          "What"
         ],
         "y": [
          0.00011014580551004392
         ]
        },
        {
         "text": "jug",
         "textposition": "auto",
         "type": "bar",
         "width": 0.1,
         "x": [
          "What"
         ],
         "y": [
          0.00011014580551004392
         ]
        },
        {
         "text": "costume",
         "textposition": "auto",
         "type": "bar",
         "width": 0.1,
         "x": [
          "What"
         ],
         "y": [
          0.00011014580551004392
         ]
        },
        {
         "text": "canal",
         "textposition": "auto",
         "type": "bar",
         "width": 0.1,
         "x": [
          "What"
         ],
         "y": [
          0.00011014580551004392
         ]
        },
        {
         "text": "wall clock",
         "textposition": "auto",
         "type": "bar",
         "width": 0.1,
         "x": [
          "What"
         ],
         "y": [
          0.00011014580551004392
         ]
        },
        {
         "text": "crockery",
         "textposition": "auto",
         "type": "bar",
         "width": 0.1,
         "x": [
          "What"
         ],
         "y": [
          0.00011014580551004392
         ]
        },
        {
         "text": "water bottle",
         "textposition": "auto",
         "type": "bar",
         "width": 0.1,
         "x": [
          "What"
         ],
         "y": [
          0.00011014580551004392
         ]
        },
        {
         "text": "glass bottle",
         "textposition": "auto",
         "type": "bar",
         "width": 0.1,
         "x": [
          "What"
         ],
         "y": [
          0.00011014580551004392
         ]
        },
        {
         "text": "iron railing",
         "textposition": "auto",
         "type": "bar",
         "width": 0.1,
         "x": [
          "What"
         ],
         "y": [
          0.00011014580551004392
         ]
        },
        {
         "text": "television screen",
         "textposition": "auto",
         "type": "bar",
         "width": 0.1,
         "x": [
          "What"
         ],
         "y": [
          0.00011014580551004392
         ]
        },
        {
         "text": "cross symbol",
         "textposition": "auto",
         "type": "bar",
         "width": 0.1,
         "x": [
          "What"
         ],
         "y": [
          0.00011014580551004392
         ]
        },
        {
         "text": "windmill",
         "textposition": "auto",
         "type": "bar",
         "width": 0.1,
         "x": [
          "What"
         ],
         "y": [
          0.00011014580551004392
         ]
        },
        {
         "text": "lift",
         "textposition": "auto",
         "type": "bar",
         "width": 0.1,
         "x": [
          "What"
         ],
         "y": [
          9.637757982128842e-05
         ]
        },
        {
         "text": "wooden bench",
         "textposition": "auto",
         "type": "bar",
         "width": 0.1,
         "x": [
          "What"
         ],
         "y": [
          9.637757982128842e-05
         ]
        },
        {
         "text": "meat",
         "textposition": "auto",
         "type": "bar",
         "width": 0.1,
         "x": [
          "What"
         ],
         "y": [
          9.637757982128842e-05
         ]
        },
        {
         "text": "counter table",
         "textposition": "auto",
         "type": "bar",
         "width": 0.1,
         "x": [
          "What"
         ],
         "y": [
          9.637757982128842e-05
         ]
        },
        {
         "text": "glass tumbler",
         "textposition": "auto",
         "type": "bar",
         "width": 0.1,
         "x": [
          "What"
         ],
         "y": [
          9.637757982128842e-05
         ]
        },
        {
         "text": "board game",
         "textposition": "auto",
         "type": "bar",
         "width": 0.1,
         "x": [
          "What"
         ],
         "y": [
          9.637757982128842e-05
         ]
        },
        {
         "text": "pane",
         "textposition": "auto",
         "type": "bar",
         "width": 0.1,
         "x": [
          "What"
         ],
         "y": [
          9.637757982128842e-05
         ]
        },
        {
         "text": "label",
         "textposition": "auto",
         "type": "bar",
         "width": 0.1,
         "x": [
          "What"
         ],
         "y": [
          9.637757982128842e-05
         ]
        },
        {
         "text": "baby",
         "textposition": "auto",
         "type": "bar",
         "width": 0.1,
         "x": [
          "What"
         ],
         "y": [
          9.637757982128842e-05
         ]
        },
        {
         "text": "wooden drawer",
         "textposition": "auto",
         "type": "bar",
         "width": 0.1,
         "x": [
          "What"
         ],
         "y": [
          9.637757982128842e-05
         ]
        },
        {
         "text": "paint",
         "textposition": "auto",
         "type": "bar",
         "width": 0.1,
         "x": [
          "What"
         ],
         "y": [
          9.637757982128842e-05
         ]
        },
        {
         "text": "iron grille",
         "textposition": "auto",
         "type": "bar",
         "width": 0.1,
         "x": [
          "What"
         ],
         "y": [
          9.637757982128842e-05
         ]
        },
        {
         "text": "ring",
         "textposition": "auto",
         "type": "bar",
         "width": 0.1,
         "x": [
          "What"
         ],
         "y": [
          9.637757982128842e-05
         ]
        },
        {
         "text": "helicopter",
         "textposition": "auto",
         "type": "bar",
         "width": 0.1,
         "x": [
          "What"
         ],
         "y": [
          9.637757982128842e-05
         ]
        },
        {
         "text": "metal rack",
         "textposition": "auto",
         "type": "bar",
         "width": 0.1,
         "x": [
          "What"
         ],
         "y": [
          9.637757982128842e-05
         ]
        },
        {
         "text": "table fan",
         "textposition": "auto",
         "type": "bar",
         "width": 0.1,
         "x": [
          "What"
         ],
         "y": [
          9.637757982128842e-05
         ]
        },
        {
         "text": "hanging",
         "textposition": "auto",
         "type": "bar",
         "width": 0.1,
         "x": [
          "What"
         ],
         "y": [
          9.637757982128842e-05
         ]
        },
        {
         "text": "white wall",
         "textposition": "auto",
         "type": "bar",
         "width": 0.1,
         "x": [
          "What"
         ],
         "y": [
          9.637757982128842e-05
         ]
        },
        {
         "text": "stem",
         "textposition": "auto",
         "type": "bar",
         "width": 0.1,
         "x": [
          "What"
         ],
         "y": [
          9.637757982128842e-05
         ]
        },
        {
         "text": "toilet bowl",
         "textposition": "auto",
         "type": "bar",
         "width": 0.1,
         "x": [
          "What"
         ],
         "y": [
          9.637757982128842e-05
         ]
        },
        {
         "text": "showpiece",
         "textposition": "auto",
         "type": "bar",
         "width": 0.1,
         "x": [
          "What"
         ],
         "y": [
          9.637757982128842e-05
         ]
        },
        {
         "text": "pair",
         "textposition": "auto",
         "type": "bar",
         "width": 0.1,
         "x": [
          "What"
         ],
         "y": [
          9.637757982128842e-05
         ]
        },
        {
         "text": "wooden pole",
         "textposition": "auto",
         "type": "bar",
         "width": 0.1,
         "x": [
          "What"
         ],
         "y": [
          9.637757982128842e-05
         ]
        },
        {
         "text": "scooter",
         "textposition": "auto",
         "type": "bar",
         "width": 0.1,
         "x": [
          "What"
         ],
         "y": [
          9.637757982128842e-05
         ]
        },
        {
         "text": "tall building",
         "textposition": "auto",
         "type": "bar",
         "width": 0.1,
         "x": [
          "What"
         ],
         "y": [
          9.637757982128842e-05
         ]
        },
        {
         "text": "book rack",
         "textposition": "auto",
         "type": "bar",
         "width": 0.1,
         "x": [
          "What"
         ],
         "y": [
          8.260935413253294e-05
         ]
        },
        {
         "text": "dishwasher",
         "textposition": "auto",
         "type": "bar",
         "width": 0.1,
         "x": [
          "What"
         ],
         "y": [
          8.260935413253294e-05
         ]
        },
        {
         "text": "flush toilet",
         "textposition": "auto",
         "type": "bar",
         "width": 0.1,
         "x": [
          "What"
         ],
         "y": [
          8.260935413253294e-05
         ]
        },
        {
         "text": "painting frame",
         "textposition": "auto",
         "type": "bar",
         "width": 0.1,
         "x": [
          "What"
         ],
         "y": [
          8.260935413253294e-05
         ]
        },
        {
         "text": "dry stem",
         "textposition": "auto",
         "type": "bar",
         "width": 0.1,
         "x": [
          "What"
         ],
         "y": [
          8.260935413253294e-05
         ]
        },
        {
         "text": "teapoy",
         "textposition": "auto",
         "type": "bar",
         "width": 0.1,
         "x": [
          "What"
         ],
         "y": [
          8.260935413253294e-05
         ]
        },
        {
         "text": "water tap",
         "textposition": "auto",
         "type": "bar",
         "width": 0.1,
         "x": [
          "What"
         ],
         "y": [
          8.260935413253294e-05
         ]
        },
        {
         "text": "wooden board",
         "textposition": "auto",
         "type": "bar",
         "width": 0.1,
         "x": [
          "What"
         ],
         "y": [
          8.260935413253294e-05
         ]
        },
        {
         "text": "factory",
         "textposition": "auto",
         "type": "bar",
         "width": 0.1,
         "x": [
          "What"
         ],
         "y": [
          8.260935413253294e-05
         ]
        },
        {
         "text": "conference room",
         "textposition": "auto",
         "type": "bar",
         "width": 0.1,
         "x": [
          "What"
         ],
         "y": [
          8.260935413253294e-05
         ]
        },
        {
         "text": "kitchen cabinet",
         "textposition": "auto",
         "type": "bar",
         "width": 0.1,
         "x": [
          "What"
         ],
         "y": [
          8.260935413253294e-05
         ]
        },
        {
         "text": "airport",
         "textposition": "auto",
         "type": "bar",
         "width": 0.1,
         "x": [
          "What"
         ],
         "y": [
          8.260935413253294e-05
         ]
        },
        {
         "text": "advertisement",
         "textposition": "auto",
         "type": "bar",
         "width": 0.1,
         "x": [
          "What"
         ],
         "y": [
          8.260935413253294e-05
         ]
        },
        {
         "text": "safety cone",
         "textposition": "auto",
         "type": "bar",
         "width": 0.1,
         "x": [
          "What"
         ],
         "y": [
          8.260935413253294e-05
         ]
        },
        {
         "text": "shade",
         "textposition": "auto",
         "type": "bar",
         "width": 0.1,
         "x": [
          "What"
         ],
         "y": [
          8.260935413253294e-05
         ]
        },
        {
         "text": "bed room",
         "textposition": "auto",
         "type": "bar",
         "width": 0.1,
         "x": [
          "What"
         ],
         "y": [
          8.260935413253294e-05
         ]
        },
        {
         "text": "designer",
         "textposition": "auto",
         "type": "bar",
         "width": 0.1,
         "x": [
          "What"
         ],
         "y": [
          8.260935413253294e-05
         ]
        },
        {
         "text": "speaker box",
         "textposition": "auto",
         "type": "bar",
         "width": 0.1,
         "x": [
          "What"
         ],
         "y": [
          8.260935413253294e-05
         ]
        },
        {
         "text": "creeper",
         "textposition": "auto",
         "type": "bar",
         "width": 0.1,
         "x": [
          "What"
         ],
         "y": [
          8.260935413253294e-05
         ]
        },
        {
         "text": "boundary wall",
         "textposition": "auto",
         "type": "bar",
         "width": 0.1,
         "x": [
          "What"
         ],
         "y": [
          8.260935413253294e-05
         ]
        },
        {
         "text": "graveyard",
         "textposition": "auto",
         "type": "bar",
         "width": 0.1,
         "x": [
          "What"
         ],
         "y": [
          8.260935413253294e-05
         ]
        },
        {
         "text": "dolphin",
         "textposition": "auto",
         "type": "bar",
         "width": 0.1,
         "x": [
          "What"
         ],
         "y": [
          8.260935413253294e-05
         ]
        },
        {
         "text": "ancient",
         "textposition": "auto",
         "type": "bar",
         "width": 0.1,
         "x": [
          "What"
         ],
         "y": [
          8.260935413253294e-05
         ]
        },
        {
         "text": "coffee table",
         "textposition": "auto",
         "type": "bar",
         "width": 0.1,
         "x": [
          "What"
         ],
         "y": [
          8.260935413253294e-05
         ]
        },
        {
         "text": "white colour",
         "textposition": "auto",
         "type": "bar",
         "width": 0.1,
         "x": [
          "What"
         ],
         "y": [
          8.260935413253294e-05
         ]
        },
        {
         "text": "piece",
         "textposition": "auto",
         "type": "bar",
         "width": 0.1,
         "x": [
          "What"
         ],
         "y": [
          8.260935413253294e-05
         ]
        },
        {
         "text": "duck",
         "textposition": "auto",
         "type": "bar",
         "width": 0.1,
         "x": [
          "What"
         ],
         "y": [
          8.260935413253294e-05
         ]
        },
        {
         "text": "gym equipment",
         "textposition": "auto",
         "type": "bar",
         "width": 0.1,
         "x": [
          "What"
         ],
         "y": [
          8.260935413253294e-05
         ]
        },
        {
         "text": "rug",
         "textposition": "auto",
         "type": "bar",
         "width": 0.1,
         "x": [
          "What"
         ],
         "y": [
          8.260935413253294e-05
         ]
        },
        {
         "text": "clay",
         "textposition": "auto",
         "type": "bar",
         "width": 0.1,
         "x": [
          "What"
         ],
         "y": [
          6.884112844377745e-05
         ]
        },
        {
         "text": "cage",
         "textposition": "auto",
         "type": "bar",
         "width": 0.1,
         "x": [
          "What"
         ],
         "y": [
          6.884112844377745e-05
         ]
        },
        {
         "text": "painting board",
         "textposition": "auto",
         "type": "bar",
         "width": 0.1,
         "x": [
          "What"
         ],
         "y": [
          6.884112844377745e-05
         ]
        },
        {
         "text": "stair railing",
         "textposition": "auto",
         "type": "bar",
         "width": 0.1,
         "x": [
          "What"
         ],
         "y": [
          6.884112844377745e-05
         ]
        },
        {
         "text": "tape",
         "textposition": "auto",
         "type": "bar",
         "width": 0.1,
         "x": [
          "What"
         ],
         "y": [
          6.884112844377745e-05
         ]
        },
        {
         "text": "park",
         "textposition": "auto",
         "type": "bar",
         "width": 0.1,
         "x": [
          "What"
         ],
         "y": [
          6.884112844377745e-05
         ]
        },
        {
         "text": "wave",
         "textposition": "auto",
         "type": "bar",
         "width": 0.1,
         "x": [
          "What"
         ],
         "y": [
          6.884112844377745e-05
         ]
        },
        {
         "text": "glass shelf",
         "textposition": "auto",
         "type": "bar",
         "width": 0.1,
         "x": [
          "What"
         ],
         "y": [
          6.884112844377745e-05
         ]
        },
        {
         "text": "handrail",
         "textposition": "auto",
         "type": "bar",
         "width": 0.1,
         "x": [
          "What"
         ],
         "y": [
          6.884112844377745e-05
         ]
        },
        {
         "text": "kitchen platform",
         "textposition": "auto",
         "type": "bar",
         "width": 0.1,
         "x": [
          "What"
         ],
         "y": [
          6.884112844377745e-05
         ]
        },
        {
         "text": "shampoo bottle",
         "textposition": "auto",
         "type": "bar",
         "width": 0.1,
         "x": [
          "What"
         ],
         "y": [
          6.884112844377745e-05
         ]
        },
        {
         "text": "exhaust fan",
         "textposition": "auto",
         "type": "bar",
         "width": 0.1,
         "x": [
          "What"
         ],
         "y": [
          6.884112844377745e-05
         ]
        },
        {
         "text": "ramp",
         "textposition": "auto",
         "type": "bar",
         "width": 0.1,
         "x": [
          "What"
         ],
         "y": [
          6.884112844377745e-05
         ]
        },
        {
         "text": "dish antenna",
         "textposition": "auto",
         "type": "bar",
         "width": 0.1,
         "x": [
          "What"
         ],
         "y": [
          6.884112844377745e-05
         ]
        },
        {
         "text": "leg",
         "textposition": "auto",
         "type": "bar",
         "width": 0.1,
         "x": [
          "What"
         ],
         "y": [
          6.884112844377745e-05
         ]
        },
        {
         "text": "newspaper",
         "textposition": "auto",
         "type": "bar",
         "width": 0.1,
         "x": [
          "What"
         ],
         "y": [
          6.884112844377745e-05
         ]
        },
        {
         "text": "restroom",
         "textposition": "auto",
         "type": "bar",
         "width": 0.1,
         "x": [
          "What"
         ],
         "y": [
          6.884112844377745e-05
         ]
        },
        {
         "text": "various",
         "textposition": "auto",
         "type": "bar",
         "width": 0.1,
         "x": [
          "What"
         ],
         "y": [
          6.884112844377745e-05
         ]
        },
        {
         "text": "card box",
         "textposition": "auto",
         "type": "bar",
         "width": 0.1,
         "x": [
          "What"
         ],
         "y": [
          6.884112844377745e-05
         ]
        },
        {
         "text": "table tennis",
         "textposition": "auto",
         "type": "bar",
         "width": 0.1,
         "x": [
          "What"
         ],
         "y": [
          6.884112844377745e-05
         ]
        },
        {
         "text": "bell",
         "textposition": "auto",
         "type": "bar",
         "width": 0.1,
         "x": [
          "What"
         ],
         "y": [
          6.884112844377745e-05
         ]
        },
        {
         "text": "playground",
         "textposition": "auto",
         "type": "bar",
         "width": 0.1,
         "x": [
          "What"
         ],
         "y": [
          6.884112844377745e-05
         ]
        },
        {
         "text": "platter",
         "textposition": "auto",
         "type": "bar",
         "width": 0.1,
         "x": [
          "What"
         ],
         "y": [
          6.884112844377745e-05
         ]
        },
        {
         "text": "pedestrian",
         "textposition": "auto",
         "type": "bar",
         "width": 0.1,
         "x": [
          "What"
         ],
         "y": [
          6.884112844377745e-05
         ]
        },
        {
         "text": "model",
         "textposition": "auto",
         "type": "bar",
         "width": 0.1,
         "x": [
          "What"
         ],
         "y": [
          6.884112844377745e-05
         ]
        },
        {
         "text": "belt",
         "textposition": "auto",
         "type": "bar",
         "width": 0.1,
         "x": [
          "What"
         ],
         "y": [
          6.884112844377745e-05
         ]
        },
        {
         "text": "chest",
         "textposition": "auto",
         "type": "bar",
         "width": 0.1,
         "x": [
          "What"
         ],
         "y": [
          6.884112844377745e-05
         ]
        },
        {
         "text": "steering",
         "textposition": "auto",
         "type": "bar",
         "width": 0.1,
         "x": [
          "What"
         ],
         "y": [
          6.884112844377745e-05
         ]
        },
        {
         "text": "metal railing",
         "textposition": "auto",
         "type": "bar",
         "width": 0.1,
         "x": [
          "What"
         ],
         "y": [
          6.884112844377745e-05
         ]
        },
        {
         "text": "bunk bed",
         "textposition": "auto",
         "type": "bar",
         "width": 0.1,
         "x": [
          "What"
         ],
         "y": [
          6.884112844377745e-05
         ]
        },
        {
         "text": "court",
         "textposition": "auto",
         "type": "bar",
         "width": 0.1,
         "x": [
          "What"
         ],
         "y": [
          6.884112844377745e-05
         ]
        },
        {
         "text": "kitchen room",
         "textposition": "auto",
         "type": "bar",
         "width": 0.1,
         "x": [
          "What"
         ],
         "y": [
          6.884112844377745e-05
         ]
        },
        {
         "text": "aerial",
         "textposition": "auto",
         "type": "bar",
         "width": 0.1,
         "x": [
          "What"
         ],
         "y": [
          6.884112844377745e-05
         ]
        },
        {
         "text": "scenery",
         "textposition": "auto",
         "type": "bar",
         "width": 0.1,
         "x": [
          "What"
         ],
         "y": [
          5.507290275502196e-05
         ]
        },
        {
         "text": "swing",
         "textposition": "auto",
         "type": "bar",
         "width": 0.1,
         "x": [
          "What"
         ],
         "y": [
          5.507290275502196e-05
         ]
        },
        {
         "text": "light house",
         "textposition": "auto",
         "type": "bar",
         "width": 0.1,
         "x": [
          "What"
         ],
         "y": [
          5.507290275502196e-05
         ]
        },
        {
         "text": "windshield",
         "textposition": "auto",
         "type": "bar",
         "width": 0.1,
         "x": [
          "What"
         ],
         "y": [
          5.507290275502196e-05
         ]
        },
        {
         "text": "magazine",
         "textposition": "auto",
         "type": "bar",
         "width": 0.1,
         "x": [
          "What"
         ],
         "y": [
          5.507290275502196e-05
         ]
        },
        {
         "text": "theater",
         "textposition": "auto",
         "type": "bar",
         "width": 0.1,
         "x": [
          "What"
         ],
         "y": [
          5.507290275502196e-05
         ]
        },
        {
         "text": "mall",
         "textposition": "auto",
         "type": "bar",
         "width": 0.1,
         "x": [
          "What"
         ],
         "y": [
          5.507290275502196e-05
         ]
        },
        {
         "text": "scrap",
         "textposition": "auto",
         "type": "bar",
         "width": 0.1,
         "x": [
          "What"
         ],
         "y": [
          5.507290275502196e-05
         ]
        },
        {
         "text": "scarf",
         "textposition": "auto",
         "type": "bar",
         "width": 0.1,
         "x": [
          "What"
         ],
         "y": [
          5.507290275502196e-05
         ]
        },
        {
         "text": "direction",
         "textposition": "auto",
         "type": "bar",
         "width": 0.1,
         "x": [
          "What"
         ],
         "y": [
          5.507290275502196e-05
         ]
        },
        {
         "text": "picket fence",
         "textposition": "auto",
         "type": "bar",
         "width": 0.1,
         "x": [
          "What"
         ],
         "y": [
          5.507290275502196e-05
         ]
        },
        {
         "text": "stuff",
         "textposition": "auto",
         "type": "bar",
         "width": 0.1,
         "x": [
          "What"
         ],
         "y": [
          5.507290275502196e-05
         ]
        },
        {
         "text": "elevator",
         "textposition": "auto",
         "type": "bar",
         "width": 0.1,
         "x": [
          "What"
         ],
         "y": [
          5.507290275502196e-05
         ]
        },
        {
         "text": "teapot",
         "textposition": "auto",
         "type": "bar",
         "width": 0.1,
         "x": [
          "What"
         ],
         "y": [
          5.507290275502196e-05
         ]
        },
        {
         "text": "shower room",
         "textposition": "auto",
         "type": "bar",
         "width": 0.1,
         "x": [
          "What"
         ],
         "y": [
          5.507290275502196e-05
         ]
        },
        {
         "text": "parking",
         "textposition": "auto",
         "type": "bar",
         "width": 0.1,
         "x": [
          "What"
         ],
         "y": [
          5.507290275502196e-05
         ]
        },
        {
         "text": "draw",
         "textposition": "auto",
         "type": "bar",
         "width": 0.1,
         "x": [
          "What"
         ],
         "y": [
          5.507290275502196e-05
         ]
        },
        {
         "text": "closet",
         "textposition": "auto",
         "type": "bar",
         "width": 0.1,
         "x": [
          "What"
         ],
         "y": [
          5.507290275502196e-05
         ]
        },
        {
         "text": "water surface",
         "textposition": "auto",
         "type": "bar",
         "width": 0.1,
         "x": [
          "What"
         ],
         "y": [
          5.507290275502196e-05
         ]
        },
        {
         "text": "bedside table",
         "textposition": "auto",
         "type": "bar",
         "width": 0.1,
         "x": [
          "What"
         ],
         "y": [
          5.507290275502196e-05
         ]
        },
        {
         "text": "dais",
         "textposition": "auto",
         "type": "bar",
         "width": 0.1,
         "x": [
          "What"
         ],
         "y": [
          5.507290275502196e-05
         ]
        },
        {
         "text": "induction",
         "textposition": "auto",
         "type": "bar",
         "width": 0.1,
         "x": [
          "What"
         ],
         "y": [
          5.507290275502196e-05
         ]
        },
        {
         "text": "hand railing",
         "textposition": "auto",
         "type": "bar",
         "width": 0.1,
         "x": [
          "What"
         ],
         "y": [
          5.507290275502196e-05
         ]
        },
        {
         "text": "fire place",
         "textposition": "auto",
         "type": "bar",
         "width": 0.1,
         "x": [
          "What"
         ],
         "y": [
          5.507290275502196e-05
         ]
        },
        {
         "text": "dust bin",
         "textposition": "auto",
         "type": "bar",
         "width": 0.1,
         "x": [
          "What"
         ],
         "y": [
          5.507290275502196e-05
         ]
        },
        {
         "text": "luggage bag",
         "textposition": "auto",
         "type": "bar",
         "width": 0.1,
         "x": [
          "What"
         ],
         "y": [
          5.507290275502196e-05
         ]
        },
        {
         "text": "people stand",
         "textposition": "auto",
         "type": "bar",
         "width": 0.1,
         "x": [
          "What"
         ],
         "y": [
          5.507290275502196e-05
         ]
        },
        {
         "text": "pen holder",
         "textposition": "auto",
         "type": "bar",
         "width": 0.1,
         "x": [
          "What"
         ],
         "y": [
          5.507290275502196e-05
         ]
        },
        {
         "text": "blackboard",
         "textposition": "auto",
         "type": "bar",
         "width": 0.1,
         "x": [
          "What"
         ],
         "y": [
          5.507290275502196e-05
         ]
        },
        {
         "text": "fork",
         "textposition": "auto",
         "type": "bar",
         "width": 0.1,
         "x": [
          "What"
         ],
         "y": [
          5.507290275502196e-05
         ]
        },
        {
         "text": "slope",
         "textposition": "auto",
         "type": "bar",
         "width": 0.1,
         "x": [
          "What"
         ],
         "y": [
          5.507290275502196e-05
         ]
        },
        {
         "text": "left",
         "textposition": "auto",
         "type": "bar",
         "width": 0.1,
         "x": [
          "What"
         ],
         "y": [
          5.507290275502196e-05
         ]
        },
        {
         "text": "fire hydrant",
         "textposition": "auto",
         "type": "bar",
         "width": 0.1,
         "x": [
          "What"
         ],
         "y": [
          5.507290275502196e-05
         ]
        },
        {
         "text": "drum",
         "textposition": "auto",
         "type": "bar",
         "width": 0.1,
         "x": [
          "What"
         ],
         "y": [
          5.507290275502196e-05
         ]
        },
        {
         "text": "chess board",
         "textposition": "auto",
         "type": "bar",
         "width": 0.1,
         "x": [
          "What"
         ],
         "y": [
          5.507290275502196e-05
         ]
        },
        {
         "text": "machinery",
         "textposition": "auto",
         "type": "bar",
         "width": 0.1,
         "x": [
          "What"
         ],
         "y": [
          4.130467706626647e-05
         ]
        },
        {
         "text": "indoor stadium",
         "textposition": "auto",
         "type": "bar",
         "width": 0.1,
         "x": [
          "What"
         ],
         "y": [
          4.130467706626647e-05
         ]
        },
        {
         "text": "ribbon",
         "textposition": "auto",
         "type": "bar",
         "width": 0.1,
         "x": [
          "What"
         ],
         "y": [
          4.130467706626647e-05
         ]
        },
        {
         "text": "lid",
         "textposition": "auto",
         "type": "bar",
         "width": 0.1,
         "x": [
          "What"
         ],
         "y": [
          4.130467706626647e-05
         ]
        },
        {
         "text": "sea shore",
         "textposition": "auto",
         "type": "bar",
         "width": 0.1,
         "x": [
          "What"
         ],
         "y": [
          4.130467706626647e-05
         ]
        },
        {
         "text": "roofing",
         "textposition": "auto",
         "type": "bar",
         "width": 0.1,
         "x": [
          "What"
         ],
         "y": [
          4.130467706626647e-05
         ]
        },
        {
         "text": "flight",
         "textposition": "auto",
         "type": "bar",
         "width": 0.1,
         "x": [
          "What"
         ],
         "y": [
          4.130467706626647e-05
         ]
        },
        {
         "text": "suitcase",
         "textposition": "auto",
         "type": "bar",
         "width": 0.1,
         "x": [
          "What"
         ],
         "y": [
          4.130467706626647e-05
         ]
        },
        {
         "text": "girl",
         "textposition": "auto",
         "type": "bar",
         "width": 0.1,
         "x": [
          "What"
         ],
         "y": [
          4.130467706626647e-05
         ]
        },
        {
         "text": "quilt",
         "textposition": "auto",
         "type": "bar",
         "width": 0.1,
         "x": [
          "What"
         ],
         "y": [
          4.130467706626647e-05
         ]
        },
        {
         "text": "waste",
         "textposition": "auto",
         "type": "bar",
         "width": 0.1,
         "x": [
          "What"
         ],
         "y": [
          4.130467706626647e-05
         ]
        },
        {
         "text": "farm",
         "textposition": "auto",
         "type": "bar",
         "width": 0.1,
         "x": [
          "What"
         ],
         "y": [
          2.753645137751098e-05
         ]
        },
        {
         "text": "wooden piece",
         "textposition": "auto",
         "type": "bar",
         "width": 0.1,
         "x": [
          "What"
         ],
         "y": [
          2.753645137751098e-05
         ]
        },
        {
         "text": "electric cable",
         "textposition": "auto",
         "type": "bar",
         "width": 0.1,
         "x": [
          "What"
         ],
         "y": [
          2.753645137751098e-05
         ]
        },
        {
         "text": "self",
         "textposition": "auto",
         "type": "bar",
         "width": 0.1,
         "x": [
          "What"
         ],
         "y": [
          2.753645137751098e-05
         ]
        },
        {
         "text": "people walk",
         "textposition": "auto",
         "type": "bar",
         "width": 0.1,
         "x": [
          "What"
         ],
         "y": [
          2.753645137751098e-05
         ]
        },
        {
         "text": "cistern",
         "textposition": "auto",
         "type": "bar",
         "width": 0.1,
         "x": [
          "What"
         ],
         "y": [
          2.753645137751098e-05
         ]
        },
        {
         "text": "moss",
         "textposition": "auto",
         "type": "bar",
         "width": 0.1,
         "x": [
          "What"
         ],
         "y": [
          2.753645137751098e-05
         ]
        },
        {
         "text": "tyre",
         "textposition": "auto",
         "type": "bar",
         "width": 0.1,
         "x": [
          "What"
         ],
         "y": [
          2.753645137751098e-05
         ]
        },
        {
         "text": "forest",
         "textposition": "auto",
         "type": "bar",
         "width": 0.1,
         "x": [
          "What"
         ],
         "y": [
          2.753645137751098e-05
         ]
        },
        {
         "text": "space",
         "textposition": "auto",
         "type": "bar",
         "width": 0.1,
         "x": [
          "What"
         ],
         "y": [
          2.753645137751098e-05
         ]
        },
        {
         "text": "People",
         "textposition": "auto",
         "type": "bar",
         "width": 0.1,
         "x": [
          "What"
         ],
         "y": [
          2.753645137751098e-05
         ]
        },
        {
         "text": "people sit",
         "textposition": "auto",
         "type": "bar",
         "width": 0.1,
         "x": [
          "What"
         ],
         "y": [
          1.376822568875549e-05
         ]
        },
        {
         "text": "boy",
         "textposition": "auto",
         "type": "bar",
         "width": 0.1,
         "x": [
          "What"
         ],
         "y": [
          1.376822568875549e-05
         ]
        },
        {
         "text": "opposite",
         "textposition": "auto",
         "type": "bar",
         "width": 0.1,
         "x": [
          "What"
         ],
         "y": [
          1.376822568875549e-05
         ]
        },
        {
         "text": "night",
         "textposition": "auto",
         "type": "bar",
         "width": 0.1,
         "x": [
          "What"
         ],
         "y": [
          1.376822568875549e-05
         ]
        },
        {
         "text": "bollard",
         "textposition": "auto",
         "type": "bar",
         "width": 0.1,
         "x": [
          "What"
         ],
         "y": [
          1.376822568875549e-05
         ]
        },
        {
         "text": "centre",
         "textposition": "auto",
         "type": "bar",
         "width": 0.1,
         "x": [
          "What"
         ],
         "y": [
          1.376822568875549e-05
         ]
        },
        {
         "text": "lot",
         "textposition": "auto",
         "type": "bar",
         "width": 0.1,
         "x": [
          "What"
         ],
         "y": [
          1.376822568875549e-05
         ]
        }
       ],
       "layout": {
        "barmode": "stack",
        "template": {
         "data": {
          "bar": [
           {
            "error_x": {
             "color": "#2a3f5f"
            },
            "error_y": {
             "color": "#2a3f5f"
            },
            "marker": {
             "line": {
              "color": "#E5ECF6",
              "width": 0.5
             },
             "pattern": {
              "fillmode": "overlay",
              "size": 10,
              "solidity": 0.2
             }
            },
            "type": "bar"
           }
          ],
          "barpolar": [
           {
            "marker": {
             "line": {
              "color": "#E5ECF6",
              "width": 0.5
             },
             "pattern": {
              "fillmode": "overlay",
              "size": 10,
              "solidity": 0.2
             }
            },
            "type": "barpolar"
           }
          ],
          "carpet": [
           {
            "aaxis": {
             "endlinecolor": "#2a3f5f",
             "gridcolor": "white",
             "linecolor": "white",
             "minorgridcolor": "white",
             "startlinecolor": "#2a3f5f"
            },
            "baxis": {
             "endlinecolor": "#2a3f5f",
             "gridcolor": "white",
             "linecolor": "white",
             "minorgridcolor": "white",
             "startlinecolor": "#2a3f5f"
            },
            "type": "carpet"
           }
          ],
          "choropleth": [
           {
            "colorbar": {
             "outlinewidth": 0,
             "ticks": ""
            },
            "type": "choropleth"
           }
          ],
          "contour": [
           {
            "colorbar": {
             "outlinewidth": 0,
             "ticks": ""
            },
            "colorscale": [
             [
              0,
              "#0d0887"
             ],
             [
              0.1111111111111111,
              "#46039f"
             ],
             [
              0.2222222222222222,
              "#7201a8"
             ],
             [
              0.3333333333333333,
              "#9c179e"
             ],
             [
              0.4444444444444444,
              "#bd3786"
             ],
             [
              0.5555555555555556,
              "#d8576b"
             ],
             [
              0.6666666666666666,
              "#ed7953"
             ],
             [
              0.7777777777777778,
              "#fb9f3a"
             ],
             [
              0.8888888888888888,
              "#fdca26"
             ],
             [
              1,
              "#f0f921"
             ]
            ],
            "type": "contour"
           }
          ],
          "contourcarpet": [
           {
            "colorbar": {
             "outlinewidth": 0,
             "ticks": ""
            },
            "type": "contourcarpet"
           }
          ],
          "heatmap": [
           {
            "colorbar": {
             "outlinewidth": 0,
             "ticks": ""
            },
            "colorscale": [
             [
              0,
              "#0d0887"
             ],
             [
              0.1111111111111111,
              "#46039f"
             ],
             [
              0.2222222222222222,
              "#7201a8"
             ],
             [
              0.3333333333333333,
              "#9c179e"
             ],
             [
              0.4444444444444444,
              "#bd3786"
             ],
             [
              0.5555555555555556,
              "#d8576b"
             ],
             [
              0.6666666666666666,
              "#ed7953"
             ],
             [
              0.7777777777777778,
              "#fb9f3a"
             ],
             [
              0.8888888888888888,
              "#fdca26"
             ],
             [
              1,
              "#f0f921"
             ]
            ],
            "type": "heatmap"
           }
          ],
          "heatmapgl": [
           {
            "colorbar": {
             "outlinewidth": 0,
             "ticks": ""
            },
            "colorscale": [
             [
              0,
              "#0d0887"
             ],
             [
              0.1111111111111111,
              "#46039f"
             ],
             [
              0.2222222222222222,
              "#7201a8"
             ],
             [
              0.3333333333333333,
              "#9c179e"
             ],
             [
              0.4444444444444444,
              "#bd3786"
             ],
             [
              0.5555555555555556,
              "#d8576b"
             ],
             [
              0.6666666666666666,
              "#ed7953"
             ],
             [
              0.7777777777777778,
              "#fb9f3a"
             ],
             [
              0.8888888888888888,
              "#fdca26"
             ],
             [
              1,
              "#f0f921"
             ]
            ],
            "type": "heatmapgl"
           }
          ],
          "histogram": [
           {
            "marker": {
             "pattern": {
              "fillmode": "overlay",
              "size": 10,
              "solidity": 0.2
             }
            },
            "type": "histogram"
           }
          ],
          "histogram2d": [
           {
            "colorbar": {
             "outlinewidth": 0,
             "ticks": ""
            },
            "colorscale": [
             [
              0,
              "#0d0887"
             ],
             [
              0.1111111111111111,
              "#46039f"
             ],
             [
              0.2222222222222222,
              "#7201a8"
             ],
             [
              0.3333333333333333,
              "#9c179e"
             ],
             [
              0.4444444444444444,
              "#bd3786"
             ],
             [
              0.5555555555555556,
              "#d8576b"
             ],
             [
              0.6666666666666666,
              "#ed7953"
             ],
             [
              0.7777777777777778,
              "#fb9f3a"
             ],
             [
              0.8888888888888888,
              "#fdca26"
             ],
             [
              1,
              "#f0f921"
             ]
            ],
            "type": "histogram2d"
           }
          ],
          "histogram2dcontour": [
           {
            "colorbar": {
             "outlinewidth": 0,
             "ticks": ""
            },
            "colorscale": [
             [
              0,
              "#0d0887"
             ],
             [
              0.1111111111111111,
              "#46039f"
             ],
             [
              0.2222222222222222,
              "#7201a8"
             ],
             [
              0.3333333333333333,
              "#9c179e"
             ],
             [
              0.4444444444444444,
              "#bd3786"
             ],
             [
              0.5555555555555556,
              "#d8576b"
             ],
             [
              0.6666666666666666,
              "#ed7953"
             ],
             [
              0.7777777777777778,
              "#fb9f3a"
             ],
             [
              0.8888888888888888,
              "#fdca26"
             ],
             [
              1,
              "#f0f921"
             ]
            ],
            "type": "histogram2dcontour"
           }
          ],
          "mesh3d": [
           {
            "colorbar": {
             "outlinewidth": 0,
             "ticks": ""
            },
            "type": "mesh3d"
           }
          ],
          "parcoords": [
           {
            "line": {
             "colorbar": {
              "outlinewidth": 0,
              "ticks": ""
             }
            },
            "type": "parcoords"
           }
          ],
          "pie": [
           {
            "automargin": true,
            "type": "pie"
           }
          ],
          "scatter": [
           {
            "marker": {
             "colorbar": {
              "outlinewidth": 0,
              "ticks": ""
             }
            },
            "type": "scatter"
           }
          ],
          "scatter3d": [
           {
            "line": {
             "colorbar": {
              "outlinewidth": 0,
              "ticks": ""
             }
            },
            "marker": {
             "colorbar": {
              "outlinewidth": 0,
              "ticks": ""
             }
            },
            "type": "scatter3d"
           }
          ],
          "scattercarpet": [
           {
            "marker": {
             "colorbar": {
              "outlinewidth": 0,
              "ticks": ""
             }
            },
            "type": "scattercarpet"
           }
          ],
          "scattergeo": [
           {
            "marker": {
             "colorbar": {
              "outlinewidth": 0,
              "ticks": ""
             }
            },
            "type": "scattergeo"
           }
          ],
          "scattergl": [
           {
            "marker": {
             "colorbar": {
              "outlinewidth": 0,
              "ticks": ""
             }
            },
            "type": "scattergl"
           }
          ],
          "scattermapbox": [
           {
            "marker": {
             "colorbar": {
              "outlinewidth": 0,
              "ticks": ""
             }
            },
            "type": "scattermapbox"
           }
          ],
          "scatterpolar": [
           {
            "marker": {
             "colorbar": {
              "outlinewidth": 0,
              "ticks": ""
             }
            },
            "type": "scatterpolar"
           }
          ],
          "scatterpolargl": [
           {
            "marker": {
             "colorbar": {
              "outlinewidth": 0,
              "ticks": ""
             }
            },
            "type": "scatterpolargl"
           }
          ],
          "scatterternary": [
           {
            "marker": {
             "colorbar": {
              "outlinewidth": 0,
              "ticks": ""
             }
            },
            "type": "scatterternary"
           }
          ],
          "surface": [
           {
            "colorbar": {
             "outlinewidth": 0,
             "ticks": ""
            },
            "colorscale": [
             [
              0,
              "#0d0887"
             ],
             [
              0.1111111111111111,
              "#46039f"
             ],
             [
              0.2222222222222222,
              "#7201a8"
             ],
             [
              0.3333333333333333,
              "#9c179e"
             ],
             [
              0.4444444444444444,
              "#bd3786"
             ],
             [
              0.5555555555555556,
              "#d8576b"
             ],
             [
              0.6666666666666666,
              "#ed7953"
             ],
             [
              0.7777777777777778,
              "#fb9f3a"
             ],
             [
              0.8888888888888888,
              "#fdca26"
             ],
             [
              1,
              "#f0f921"
             ]
            ],
            "type": "surface"
           }
          ],
          "table": [
           {
            "cells": {
             "fill": {
              "color": "#EBF0F8"
             },
             "line": {
              "color": "white"
             }
            },
            "header": {
             "fill": {
              "color": "#C8D4E3"
             },
             "line": {
              "color": "white"
             }
            },
            "type": "table"
           }
          ]
         },
         "layout": {
          "annotationdefaults": {
           "arrowcolor": "#2a3f5f",
           "arrowhead": 0,
           "arrowwidth": 1
          },
          "autotypenumbers": "strict",
          "coloraxis": {
           "colorbar": {
            "outlinewidth": 0,
            "ticks": ""
           }
          },
          "colorscale": {
           "diverging": [
            [
             0,
             "#8e0152"
            ],
            [
             0.1,
             "#c51b7d"
            ],
            [
             0.2,
             "#de77ae"
            ],
            [
             0.3,
             "#f1b6da"
            ],
            [
             0.4,
             "#fde0ef"
            ],
            [
             0.5,
             "#f7f7f7"
            ],
            [
             0.6,
             "#e6f5d0"
            ],
            [
             0.7,
             "#b8e186"
            ],
            [
             0.8,
             "#7fbc41"
            ],
            [
             0.9,
             "#4d9221"
            ],
            [
             1,
             "#276419"
            ]
           ],
           "sequential": [
            [
             0,
             "#0d0887"
            ],
            [
             0.1111111111111111,
             "#46039f"
            ],
            [
             0.2222222222222222,
             "#7201a8"
            ],
            [
             0.3333333333333333,
             "#9c179e"
            ],
            [
             0.4444444444444444,
             "#bd3786"
            ],
            [
             0.5555555555555556,
             "#d8576b"
            ],
            [
             0.6666666666666666,
             "#ed7953"
            ],
            [
             0.7777777777777778,
             "#fb9f3a"
            ],
            [
             0.8888888888888888,
             "#fdca26"
            ],
            [
             1,
             "#f0f921"
            ]
           ],
           "sequentialminus": [
            [
             0,
             "#0d0887"
            ],
            [
             0.1111111111111111,
             "#46039f"
            ],
            [
             0.2222222222222222,
             "#7201a8"
            ],
            [
             0.3333333333333333,
             "#9c179e"
            ],
            [
             0.4444444444444444,
             "#bd3786"
            ],
            [
             0.5555555555555556,
             "#d8576b"
            ],
            [
             0.6666666666666666,
             "#ed7953"
            ],
            [
             0.7777777777777778,
             "#fb9f3a"
            ],
            [
             0.8888888888888888,
             "#fdca26"
            ],
            [
             1,
             "#f0f921"
            ]
           ]
          },
          "colorway": [
           "#636efa",
           "#EF553B",
           "#00cc96",
           "#ab63fa",
           "#FFA15A",
           "#19d3f3",
           "#FF6692",
           "#B6E880",
           "#FF97FF",
           "#FECB52"
          ],
          "font": {
           "color": "#2a3f5f"
          },
          "geo": {
           "bgcolor": "white",
           "lakecolor": "white",
           "landcolor": "#E5ECF6",
           "showlakes": true,
           "showland": true,
           "subunitcolor": "white"
          },
          "hoverlabel": {
           "align": "left"
          },
          "hovermode": "closest",
          "mapbox": {
           "style": "light"
          },
          "paper_bgcolor": "white",
          "plot_bgcolor": "#E5ECF6",
          "polar": {
           "angularaxis": {
            "gridcolor": "white",
            "linecolor": "white",
            "ticks": ""
           },
           "bgcolor": "#E5ECF6",
           "radialaxis": {
            "gridcolor": "white",
            "linecolor": "white",
            "ticks": ""
           }
          },
          "scene": {
           "xaxis": {
            "backgroundcolor": "#E5ECF6",
            "gridcolor": "white",
            "gridwidth": 2,
            "linecolor": "white",
            "showbackground": true,
            "ticks": "",
            "zerolinecolor": "white"
           },
           "yaxis": {
            "backgroundcolor": "#E5ECF6",
            "gridcolor": "white",
            "gridwidth": 2,
            "linecolor": "white",
            "showbackground": true,
            "ticks": "",
            "zerolinecolor": "white"
           },
           "zaxis": {
            "backgroundcolor": "#E5ECF6",
            "gridcolor": "white",
            "gridwidth": 2,
            "linecolor": "white",
            "showbackground": true,
            "ticks": "",
            "zerolinecolor": "white"
           }
          },
          "shapedefaults": {
           "line": {
            "color": "#2a3f5f"
           }
          },
          "ternary": {
           "aaxis": {
            "gridcolor": "white",
            "linecolor": "white",
            "ticks": ""
           },
           "baxis": {
            "gridcolor": "white",
            "linecolor": "white",
            "ticks": ""
           },
           "bgcolor": "#E5ECF6",
           "caxis": {
            "gridcolor": "white",
            "linecolor": "white",
            "ticks": ""
           }
          },
          "title": {
           "x": 0.05
          },
          "xaxis": {
           "automargin": true,
           "gridcolor": "white",
           "linecolor": "white",
           "ticks": "",
           "title": {
            "standoff": 15
           },
           "zerolinecolor": "white",
           "zerolinewidth": 2
          },
          "yaxis": {
           "automargin": true,
           "gridcolor": "white",
           "linecolor": "white",
           "ticks": "",
           "title": {
            "standoff": 15
           },
           "zerolinecolor": "white",
           "zerolinewidth": 2
          }
         }
        }
       }
      },
      "text/html": [
       "<div>                            <div id=\"2d80d383-e210-4d9d-b5eb-decf48263aa9\" class=\"plotly-graph-div\" style=\"height:525px; width:100%;\"></div>            <script type=\"text/javascript\">                require([\"plotly\"], function(Plotly) {                    window.PLOTLYENV=window.PLOTLYENV || {};                                    if (document.getElementById(\"2d80d383-e210-4d9d-b5eb-decf48263aa9\")) {                    Plotly.newPlot(                        \"2d80d383-e210-4d9d-b5eb-decf48263aa9\",                        [{\"text\":\"sky\",\"textposition\":\"auto\",\"type\":\"bar\",\"width\":0.1,\"x\":[\"What\"],\"y\":[0.06140628657184949]},{\"text\":\"wall\",\"textposition\":\"auto\",\"type\":\"bar\",\"width\":0.1,\"x\":[\"What\"],\"y\":[0.03506767082926023]},{\"text\":\"tree\",\"textposition\":\"auto\",\"type\":\"bar\",\"width\":0.1,\"x\":[\"What\"],\"y\":[0.034792306315485126]},{\"text\":\"building\",\"textposition\":\"auto\",\"type\":\"bar\",\"width\":0.1,\"x\":[\"What\"],\"y\":[0.027206013960980848]},{\"text\":\"floor\",\"textposition\":\"auto\",\"type\":\"bar\",\"width\":0.1,\"x\":[\"What\"],\"y\":[0.02653137090223183]},{\"text\":\"table\",\"textposition\":\"auto\",\"type\":\"bar\",\"width\":0.1,\"x\":[\"What\"],\"y\":[0.024135699632388374]},{\"text\":\"frame\",\"textposition\":\"auto\",\"type\":\"bar\",\"width\":0.1,\"x\":[\"What\"],\"y\":[0.0235712023791494]},{\"text\":\"light\",\"textposition\":\"auto\",\"type\":\"bar\",\"width\":0.1,\"x\":[\"What\"],\"y\":[0.0235712023791494]},{\"text\":\"wooden\",\"textposition\":\"auto\",\"type\":\"bar\",\"width\":0.1,\"x\":[\"What\"],\"y\":[0.020831325467087058]},{\"text\":\"window\",\"textposition\":\"auto\",\"type\":\"bar\",\"width\":0.1,\"x\":[\"What\"],\"y\":[0.01944073467252275]},{\"text\":\"glass\",\"textposition\":\"auto\",\"type\":\"bar\",\"width\":0.1,\"x\":[\"What\"],\"y\":[0.018118985006402227]},{\"text\":\"vehicle\",\"textposition\":\"auto\",\"type\":\"bar\",\"width\":0.1,\"x\":[\"What\"],\"y\":[0.01700375872561303]},{\"text\":\"chair\",\"textposition\":\"auto\",\"type\":\"bar\",\"width\":0.1,\"x\":[\"What\"],\"y\":[0.016962454048546762]},{\"text\":\"road\",\"textposition\":\"auto\",\"type\":\"bar\",\"width\":0.1,\"x\":[\"What\"],\"y\":[0.01334141069240407]},{\"text\":\"white\",\"textposition\":\"auto\",\"type\":\"bar\",\"width\":0.1,\"x\":[\"What\"],\"y\":[0.013286337789649048]},{\"text\":\"grass\",\"textposition\":\"auto\",\"type\":\"bar\",\"width\":0.1,\"x\":[\"What\"],\"y\":[0.013258801338271536]},{\"text\":\"lamp\",\"textposition\":\"auto\",\"type\":\"bar\",\"width\":0.1,\"x\":[\"What\"],\"y\":[0.01273560876209883]},{\"text\":\"bed\",\"textposition\":\"auto\",\"type\":\"bar\",\"width\":0.1,\"x\":[\"What\"],\"y\":[0.01248778069970123]},{\"text\":\"plant\",\"textposition\":\"auto\",\"type\":\"bar\",\"width\":0.1,\"x\":[\"What\"],\"y\":[0.011950819897839766]},{\"text\":\"door\",\"textposition\":\"auto\",\"type\":\"bar\",\"width\":0.1,\"x\":[\"What\"],\"y\":[0.011758064738197188]},{\"text\":\"text\",\"textposition\":\"auto\",\"type\":\"bar\",\"width\":0.1,\"x\":[\"What\"],\"y\":[0.011730528286819678]},{\"text\":\"board\",\"textposition\":\"auto\",\"type\":\"bar\",\"width\":0.1,\"x\":[\"What\"],\"y\":[0.011427627321667057]},{\"text\":\"cloud\",\"textposition\":\"auto\",\"type\":\"bar\",\"width\":0.1,\"x\":[\"What\"],\"y\":[0.011331249741845769]},{\"text\":\"water\",\"textposition\":\"auto\",\"type\":\"bar\",\"width\":0.1,\"x\":[\"What\"],\"y\":[0.010546460877586705]},{\"text\":\"car\",\"textposition\":\"auto\",\"type\":\"bar\",\"width\":0.1,\"x\":[\"What\"],\"y\":[0.010353705717944129]},{\"text\":\"ceiling\",\"textposition\":\"auto\",\"type\":\"bar\",\"width\":0.1,\"x\":[\"What\"],\"y\":[0.010037036527102753]},{\"text\":\"pole\",\"textposition\":\"auto\",\"type\":\"bar\",\"width\":0.1,\"x\":[\"What\"],\"y\":[0.009899354270215197]},{\"text\":\"roof\",\"textposition\":\"auto\",\"type\":\"bar\",\"width\":0.1,\"x\":[\"What\"],\"y\":[0.00967906265919511]},{\"text\":\"curtain\",\"textposition\":\"auto\",\"type\":\"bar\",\"width\":0.1,\"x\":[\"What\"],\"y\":[0.009087028954578623]},{\"text\":\"people\",\"textposition\":\"auto\",\"type\":\"bar\",\"width\":0.1,\"x\":[\"What\"],\"y\":[0.009031956051823602]},{\"text\":\"blue\",\"textposition\":\"auto\",\"type\":\"bar\",\"width\":0.1,\"x\":[\"What\"],\"y\":[0.008660213958227204]},{\"text\":\"pillow\",\"textposition\":\"auto\",\"type\":\"bar\",\"width\":0.1,\"x\":[\"What\"],\"y\":[0.00815078960774325]},{\"text\":\"flower\",\"textposition\":\"auto\",\"type\":\"bar\",\"width\":0.1,\"x\":[\"What\"],\"y\":[0.007118172681086588]},{\"text\":\"green\",\"textposition\":\"auto\",\"type\":\"bar\",\"width\":0.1,\"x\":[\"What\"],\"y\":[0.006939185747132767]},{\"text\":\"ground\",\"textposition\":\"auto\",\"type\":\"bar\",\"width\":0.1,\"x\":[\"What\"],\"y\":[0.006195701559939971]},{\"text\":\"cupboard\",\"textposition\":\"auto\",\"type\":\"bar\",\"width\":0.1,\"x\":[\"What\"],\"y\":[0.006002946400297394]},{\"text\":\"house\",\"textposition\":\"auto\",\"type\":\"bar\",\"width\":0.1,\"x\":[\"What\"],\"y\":[0.005961641723231127]},{\"text\":\"metal\",\"textposition\":\"auto\",\"type\":\"bar\",\"width\":0.1,\"x\":[\"What\"],\"y\":[0.0059065688204761055]},{\"text\":\"black\",\"textposition\":\"auto\",\"type\":\"bar\",\"width\":0.1,\"x\":[\"What\"],\"y\":[0.0054935220498134405]},{\"text\":\"mirror\",\"textposition\":\"auto\",\"type\":\"bar\",\"width\":0.1,\"x\":[\"What\"],\"y\":[0.005438449147058419]},{\"text\":\"book\",\"textposition\":\"auto\",\"type\":\"bar\",\"width\":0.1,\"x\":[\"What\"],\"y\":[0.0051768528589720645]},{\"text\":\"sofa\",\"textposition\":\"auto\",\"type\":\"bar\",\"width\":0.1,\"x\":[\"What\"],\"y\":[0.004846415442441933]},{\"text\":\"mat\",\"textposition\":\"auto\",\"type\":\"bar\",\"width\":0.1,\"x\":[\"What\"],\"y\":[0.004750037862620644]},{\"text\":\"carpet\",\"textposition\":\"auto\",\"type\":\"bar\",\"width\":0.1,\"x\":[\"What\"],\"y\":[0.0046398920571106]},{\"text\":\"glass window\",\"textposition\":\"auto\",\"type\":\"bar\",\"width\":0.1,\"x\":[\"What\"],\"y\":[0.004226845286447936]},{\"text\":\"person\",\"textposition\":\"auto\",\"type\":\"bar\",\"width\":0.1,\"x\":[\"What\"],\"y\":[0.00421307706075918]},{\"text\":\"cloudy\",\"textposition\":\"auto\",\"type\":\"bar\",\"width\":0.1,\"x\":[\"What\"],\"y\":[0.003951480772672825]},{\"text\":\"light pole\",\"textposition\":\"auto\",\"type\":\"bar\",\"width\":0.1,\"x\":[\"What\"],\"y\":[0.0038275667414740264]},{\"text\":\"red\",\"textposition\":\"auto\",\"type\":\"bar\",\"width\":0.1,\"x\":[\"What\"],\"y\":[0.003800030290096515]},{\"text\":\"mountain\",\"textposition\":\"auto\",\"type\":\"bar\",\"width\":0.1,\"x\":[\"What\"],\"y\":[0.00378626206440776]},{\"text\":\"hill\",\"textposition\":\"auto\",\"type\":\"bar\",\"width\":0.1,\"x\":[\"What\"],\"y\":[0.0037724938387190044]},{\"text\":\"flower vase\",\"textposition\":\"auto\",\"type\":\"bar\",\"width\":0.1,\"x\":[\"What\"],\"y\":[0.0036072751304539385]},{\"text\":\"pillar\",\"textposition\":\"auto\",\"type\":\"bar\",\"width\":0.1,\"x\":[\"What\"],\"y\":[0.0035797386790764273]},{\"text\":\"bag\",\"textposition\":\"auto\",\"type\":\"bar\",\"width\":0.1,\"x\":[\"What\"],\"y\":[0.003538434002010161]},{\"text\":\"clothe\",\"textposition\":\"auto\",\"type\":\"bar\",\"width\":0.1,\"x\":[\"What\"],\"y\":[0.003400751745122606]},{\"text\":\"room\",\"textposition\":\"auto\",\"type\":\"bar\",\"width\":0.1,\"x\":[\"What\"],\"y\":[0.0033043741653013175]},{\"text\":\"chandelier\",\"textposition\":\"auto\",\"type\":\"bar\",\"width\":0.1,\"x\":[\"What\"],\"y\":[0.0032630694882350513]},{\"text\":\"vase\",\"textposition\":\"auto\",\"type\":\"bar\",\"width\":0.1,\"x\":[\"What\"],\"y\":[0.0031116190056587408]},{\"text\":\"flower pot\",\"textposition\":\"auto\",\"type\":\"bar\",\"width\":0.1,\"x\":[\"What\"],\"y\":[0.0030427778772149634]},{\"text\":\"poster\",\"textposition\":\"auto\",\"type\":\"bar\",\"width\":0.1,\"x\":[\"What\"],\"y\":[0.002863790943261142]},{\"text\":\"snow\",\"textposition\":\"auto\",\"type\":\"bar\",\"width\":0.1,\"x\":[\"What\"],\"y\":[0.002863790943261142]},{\"text\":\"tap\",\"textposition\":\"auto\",\"type\":\"bar\",\"width\":0.1,\"x\":[\"What\"],\"y\":[0.002836254491883631]},{\"text\":\"pot\",\"textposition\":\"auto\",\"type\":\"bar\",\"width\":0.1,\"x\":[\"What\"],\"y\":[0.00280871804050612]},{\"text\":\"bench\",\"textposition\":\"auto\",\"type\":\"bar\",\"width\":0.1,\"x\":[\"What\"],\"y\":[0.002753645137751098]},{\"text\":\"rock\",\"textposition\":\"auto\",\"type\":\"bar\",\"width\":0.1,\"x\":[\"What\"],\"y\":[0.0027123404606848316]},{\"text\":\"bottle\",\"textposition\":\"auto\",\"type\":\"bar\",\"width\":0.1,\"x\":[\"What\"],\"y\":[0.0026434993322410542]},{\"text\":\"railing\",\"textposition\":\"auto\",\"type\":\"bar\",\"width\":0.1,\"x\":[\"What\"],\"y\":[0.0025471217524197657]},{\"text\":\"photo\",\"textposition\":\"auto\",\"type\":\"bar\",\"width\":0.1,\"x\":[\"What\"],\"y\":[0.0025471217524197657]},{\"text\":\"brown\",\"textposition\":\"auto\",\"type\":\"bar\",\"width\":0.1,\"x\":[\"What\"],\"y\":[0.0025333535267310103]},{\"text\":\"fence\",\"textposition\":\"auto\",\"type\":\"bar\",\"width\":0.1,\"x\":[\"What\"],\"y\":[0.0025333535267310103]},{\"text\":\"cushion\",\"textposition\":\"auto\",\"type\":\"bar\",\"width\":0.1,\"x\":[\"What\"],\"y\":[0.0024369759469097217]},{\"text\":\"television\",\"textposition\":\"auto\",\"type\":\"bar\",\"width\":0.1,\"x\":[\"What\"],\"y\":[0.002409439495532211]},{\"text\":\"stand\",\"textposition\":\"auto\",\"type\":\"bar\",\"width\":0.1,\"x\":[\"What\"],\"y\":[0.002285525464333411]},{\"text\":\"fan\",\"textposition\":\"auto\",\"type\":\"bar\",\"width\":0.1,\"x\":[\"What\"],\"y\":[0.002285525464333411]},{\"text\":\"dining table\",\"textposition\":\"auto\",\"type\":\"bar\",\"width\":0.1,\"x\":[\"What\"],\"y\":[0.002285525464333411]},{\"text\":\"reflection\",\"textposition\":\"auto\",\"type\":\"bar\",\"width\":0.1,\"x\":[\"What\"],\"y\":[0.002216684335889634]},{\"text\":\"rack\",\"textposition\":\"auto\",\"type\":\"bar\",\"width\":0.1,\"x\":[\"What\"],\"y\":[0.002189147884512123]},{\"text\":\"painting\",\"textposition\":\"auto\",\"type\":\"bar\",\"width\":0.1,\"x\":[\"What\"],\"y\":[0.0021753796588233672]},{\"text\":\"paper\",\"textposition\":\"auto\",\"type\":\"bar\",\"width\":0.1,\"x\":[\"What\"],\"y\":[0.0021478432074458565]},{\"text\":\"surface\",\"textposition\":\"auto\",\"type\":\"bar\",\"width\":0.1,\"x\":[\"What\"],\"y\":[0.002134074981757101]},{\"text\":\"sink\",\"textposition\":\"auto\",\"type\":\"bar\",\"width\":0.1,\"x\":[\"What\"],\"y\":[0.0021203067560683453]},{\"text\":\"clear\",\"textposition\":\"auto\",\"type\":\"bar\",\"width\":0.1,\"x\":[\"What\"],\"y\":[0.00210653853037959]},{\"text\":\"couch\",\"textposition\":\"auto\",\"type\":\"bar\",\"width\":0.1,\"x\":[\"What\"],\"y\":[0.00210653853037959]},{\"text\":\"bicycle\",\"textposition\":\"auto\",\"type\":\"bar\",\"width\":0.1,\"x\":[\"What\"],\"y\":[0.00210653853037959]},{\"text\":\"rod\",\"textposition\":\"auto\",\"type\":\"bar\",\"width\":0.1,\"x\":[\"What\"],\"y\":[0.0020652338533133233]},{\"text\":\"yellow\",\"textposition\":\"auto\",\"type\":\"bar\",\"width\":0.1,\"x\":[\"What\"],\"y\":[0.002051465627624568]},{\"text\":\"electric\",\"textposition\":\"auto\",\"type\":\"bar\",\"width\":0.1,\"x\":[\"What\"],\"y\":[0.002051465627624568]},{\"text\":\"bridge\",\"textposition\":\"auto\",\"type\":\"bar\",\"width\":0.1,\"x\":[\"What\"],\"y\":[0.0019826244991807906]},{\"text\":\"sign board\",\"textposition\":\"auto\",\"type\":\"bar\",\"width\":0.1,\"x\":[\"What\"],\"y\":[0.0019826244991807906]},{\"text\":\"leave\",\"textposition\":\"auto\",\"type\":\"bar\",\"width\":0.1,\"x\":[\"What\"],\"y\":[0.0019826244991807906]},{\"text\":\"stone\",\"textposition\":\"auto\",\"type\":\"bar\",\"width\":0.1,\"x\":[\"What\"],\"y\":[0.0019826244991807906]},{\"text\":\"box\",\"textposition\":\"auto\",\"type\":\"bar\",\"width\":0.1,\"x\":[\"What\"],\"y\":[0.0019413198221145242]},{\"text\":\"clock\",\"textposition\":\"auto\",\"type\":\"bar\",\"width\":0.1,\"x\":[\"What\"],\"y\":[0.0019413198221145242]},{\"text\":\"hand\",\"textposition\":\"auto\",\"type\":\"bar\",\"width\":0.1,\"x\":[\"What\"],\"y\":[0.0019275515964257686]},{\"text\":\"boat\",\"textposition\":\"auto\",\"type\":\"bar\",\"width\":0.1,\"x\":[\"What\"],\"y\":[0.0019275515964257686]},{\"text\":\"cloudy sky\",\"textposition\":\"auto\",\"type\":\"bar\",\"width\":0.1,\"x\":[\"What\"],\"y\":[0.0019275515964257686]},{\"text\":\"towel\",\"textposition\":\"auto\",\"type\":\"bar\",\"width\":0.1,\"x\":[\"What\"],\"y\":[0.0019137833707370132]},{\"text\":\"platform\",\"textposition\":\"auto\",\"type\":\"bar\",\"width\":0.1,\"x\":[\"What\"],\"y\":[0.0019137833707370132]},{\"text\":\"food\",\"textposition\":\"auto\",\"type\":\"bar\",\"width\":0.1,\"x\":[\"What\"],\"y\":[0.0019000151450482576]},{\"text\":\"metal rod\",\"textposition\":\"auto\",\"type\":\"bar\",\"width\":0.1,\"x\":[\"What\"],\"y\":[0.0018449422422932356]},{\"text\":\"flag\",\"textposition\":\"auto\",\"type\":\"bar\",\"width\":0.1,\"x\":[\"What\"],\"y\":[0.0018311740166044802]},{\"text\":\"cloth\",\"textposition\":\"auto\",\"type\":\"bar\",\"width\":0.1,\"x\":[\"What\"],\"y\":[0.0018311740166044802]},{\"text\":\"iron\",\"textposition\":\"auto\",\"type\":\"bar\",\"width\":0.1,\"x\":[\"What\"],\"y\":[0.0018311740166044802]},{\"text\":\"shelf\",\"textposition\":\"auto\",\"type\":\"bar\",\"width\":0.1,\"x\":[\"What\"],\"y\":[0.0018036375652269693]},{\"text\":\"something\",\"textposition\":\"auto\",\"type\":\"bar\",\"width\":0.1,\"x\":[\"What\"],\"y\":[0.0018036375652269693]},{\"text\":\"stool\",\"textposition\":\"auto\",\"type\":\"bar\",\"width\":0.1,\"x\":[\"What\"],\"y\":[0.0016797235340281697]},{\"text\":\"small\",\"textposition\":\"auto\",\"type\":\"bar\",\"width\":0.1,\"x\":[\"What\"],\"y\":[0.0016659553083394143]},{\"text\":\"window blind\",\"textposition\":\"auto\",\"type\":\"bar\",\"width\":0.1,\"x\":[\"What\"],\"y\":[0.0016384188569619033]},{\"text\":\"green grass\",\"textposition\":\"auto\",\"type\":\"bar\",\"width\":0.1,\"x\":[\"What\"],\"y\":[0.0015833459542068814]},{\"text\":\"wire\",\"textposition\":\"auto\",\"type\":\"bar\",\"width\":0.1,\"x\":[\"What\"],\"y\":[0.0015558095028293704]},{\"text\":\"footpath\",\"textposition\":\"auto\",\"type\":\"bar\",\"width\":0.1,\"x\":[\"What\"],\"y\":[0.0015282730514518594]},{\"text\":\"screen\",\"textposition\":\"auto\",\"type\":\"bar\",\"width\":0.1,\"x\":[\"What\"],\"y\":[0.0015282730514518594]},{\"text\":\"path\",\"textposition\":\"auto\",\"type\":\"bar\",\"width\":0.1,\"x\":[\"What\"],\"y\":[0.001459431923008082]},{\"text\":\"toy\",\"textposition\":\"auto\",\"type\":\"bar\",\"width\":0.1,\"x\":[\"What\"],\"y\":[0.001459431923008082]},{\"text\":\"glass door\",\"textposition\":\"auto\",\"type\":\"bar\",\"width\":0.1,\"x\":[\"What\"],\"y\":[0.001431895471630571]},{\"text\":\"bathtub\",\"textposition\":\"auto\",\"type\":\"bar\",\"width\":0.1,\"x\":[\"What\"],\"y\":[0.001431895471630571]},{\"text\":\"basket\",\"textposition\":\"auto\",\"type\":\"bar\",\"width\":0.1,\"x\":[\"What\"],\"y\":[0.0014181272459418155]},{\"text\":\"area\",\"textposition\":\"auto\",\"type\":\"bar\",\"width\":0.1,\"x\":[\"What\"],\"y\":[0.00140435902025306]},{\"text\":\"stove\",\"textposition\":\"auto\",\"type\":\"bar\",\"width\":0.1,\"x\":[\"What\"],\"y\":[0.0013905907945643045]},{\"text\":\"sheet\",\"textposition\":\"auto\",\"type\":\"bar\",\"width\":0.1,\"x\":[\"What\"],\"y\":[0.0013905907945643045]},{\"text\":\"sand\",\"textposition\":\"auto\",\"type\":\"bar\",\"width\":0.1,\"x\":[\"What\"],\"y\":[0.0013630543431867935]},{\"text\":\"stair\",\"textposition\":\"auto\",\"type\":\"bar\",\"width\":0.1,\"x\":[\"What\"],\"y\":[0.0013630543431867935]},{\"text\":\"cabinet\",\"textposition\":\"auto\",\"type\":\"bar\",\"width\":0.1,\"x\":[\"What\"],\"y\":[0.0013355178918092825]},{\"text\":\"plate\",\"textposition\":\"auto\",\"type\":\"bar\",\"width\":0.1,\"x\":[\"What\"],\"y\":[0.0013217496661205271]},{\"text\":\"fruit\",\"textposition\":\"auto\",\"type\":\"bar\",\"width\":0.1,\"x\":[\"What\"],\"y\":[0.0013079814404317715]},{\"text\":\"pavement\",\"textposition\":\"auto\",\"type\":\"bar\",\"width\":0.1,\"x\":[\"What\"],\"y\":[0.0013079814404317715]},{\"text\":\"house plant\",\"textposition\":\"auto\",\"type\":\"bar\",\"width\":0.1,\"x\":[\"What\"],\"y\":[0.0013079814404317715]},{\"text\":\"wash basin\",\"textposition\":\"auto\",\"type\":\"bar\",\"width\":0.1,\"x\":[\"What\"],\"y\":[0.0012942132147430161]},{\"text\":\"blind\",\"textposition\":\"auto\",\"type\":\"bar\",\"width\":0.1,\"x\":[\"What\"],\"y\":[0.0012942132147430161]},{\"text\":\"seat\",\"textposition\":\"auto\",\"type\":\"bar\",\"width\":0.1,\"x\":[\"What\"],\"y\":[0.0012666767633655051]},{\"text\":\"machine\",\"textposition\":\"auto\",\"type\":\"bar\",\"width\":0.1,\"x\":[\"What\"],\"y\":[0.0012529085376767495]},{\"text\":\"desk\",\"textposition\":\"auto\",\"type\":\"bar\",\"width\":0.1,\"x\":[\"What\"],\"y\":[0.0012529085376767495]},{\"text\":\"watermark\",\"textposition\":\"auto\",\"type\":\"bar\",\"width\":0.1,\"x\":[\"What\"],\"y\":[0.0012391403119879942]},{\"text\":\"ball\",\"textposition\":\"auto\",\"type\":\"bar\",\"width\":0.1,\"x\":[\"What\"],\"y\":[0.0012253720862992386]},{\"text\":\"blanket\",\"textposition\":\"auto\",\"type\":\"bar\",\"width\":0.1,\"x\":[\"What\"],\"y\":[0.0012116038606104832]},{\"text\":\"inner\",\"textposition\":\"auto\",\"type\":\"bar\",\"width\":0.1,\"x\":[\"What\"],\"y\":[0.0011978356349217276]},{\"text\":\"candle\",\"textposition\":\"auto\",\"type\":\"bar\",\"width\":0.1,\"x\":[\"What\"],\"y\":[0.0011840674092329722]},{\"text\":\"statue\",\"textposition\":\"auto\",\"type\":\"bar\",\"width\":0.1,\"x\":[\"What\"],\"y\":[0.0011840674092329722]},{\"text\":\"dry\",\"textposition\":\"auto\",\"type\":\"bar\",\"width\":0.1,\"x\":[\"What\"],\"y\":[0.0011702991835442166]},{\"text\":\"blurry\",\"textposition\":\"auto\",\"type\":\"bar\",\"width\":0.1,\"x\":[\"What\"],\"y\":[0.0011565309578554612]},{\"text\":\"drawer\",\"textposition\":\"auto\",\"type\":\"bar\",\"width\":0.1,\"x\":[\"What\"],\"y\":[0.0011014580551004392]},{\"text\":\"bowl\",\"textposition\":\"auto\",\"type\":\"bar\",\"width\":0.1,\"x\":[\"What\"],\"y\":[0.0010876898294116836]},{\"text\":\"number\",\"textposition\":\"auto\",\"type\":\"bar\",\"width\":0.1,\"x\":[\"What\"],\"y\":[0.0010876898294116836]},{\"text\":\"potted plant\",\"textposition\":\"auto\",\"type\":\"bar\",\"width\":0.1,\"x\":[\"What\"],\"y\":[0.0010876898294116836]},{\"text\":\"blur\",\"textposition\":\"auto\",\"type\":\"bar\",\"width\":0.1,\"x\":[\"What\"],\"y\":[0.0010876898294116836]},{\"text\":\"tile\",\"textposition\":\"auto\",\"type\":\"bar\",\"width\":0.1,\"x\":[\"What\"],\"y\":[0.0010739216037229282]},{\"text\":\"stick\",\"textposition\":\"auto\",\"type\":\"bar\",\"width\":0.1,\"x\":[\"What\"],\"y\":[0.0010601533780341726]},{\"text\":\"houseplant\",\"textposition\":\"auto\",\"type\":\"bar\",\"width\":0.1,\"x\":[\"What\"],\"y\":[0.0010326169266566616]},{\"text\":\"hanger\",\"textposition\":\"auto\",\"type\":\"bar\",\"width\":0.1,\"x\":[\"What\"],\"y\":[0.0010050804752791509]},{\"text\":\"kitchen\",\"textposition\":\"auto\",\"type\":\"bar\",\"width\":0.1,\"x\":[\"What\"],\"y\":[0.0010050804752791509]},{\"text\":\"shed\",\"textposition\":\"auto\",\"type\":\"bar\",\"width\":0.1,\"x\":[\"What\"],\"y\":[0.0010050804752791509]},{\"text\":\"telephone\",\"textposition\":\"auto\",\"type\":\"bar\",\"width\":0.1,\"x\":[\"What\"],\"y\":[0.0010050804752791509]},{\"text\":\"toilet seat\",\"textposition\":\"auto\",\"type\":\"bar\",\"width\":0.1,\"x\":[\"What\"],\"y\":[0.0009913122495903953]},{\"text\":\"open\",\"textposition\":\"auto\",\"type\":\"bar\",\"width\":0.1,\"x\":[\"What\"],\"y\":[0.0009913122495903953]},{\"text\":\"brick\",\"textposition\":\"auto\",\"type\":\"bar\",\"width\":0.1,\"x\":[\"What\"],\"y\":[0.0009913122495903953]},{\"text\":\"decorative\",\"textposition\":\"auto\",\"type\":\"bar\",\"width\":0.1,\"x\":[\"What\"],\"y\":[0.00097754402390164]},{\"text\":\"plant pot\",\"textposition\":\"auto\",\"type\":\"bar\",\"width\":0.1,\"x\":[\"What\"],\"y\":[0.00097754402390164]},{\"text\":\"tower\",\"textposition\":\"auto\",\"type\":\"bar\",\"width\":0.1,\"x\":[\"What\"],\"y\":[0.00097754402390164]},{\"text\":\"big\",\"textposition\":\"auto\",\"type\":\"bar\",\"width\":0.1,\"x\":[\"What\"],\"y\":[0.00097754402390164]},{\"text\":\"tent\",\"textposition\":\"auto\",\"type\":\"bar\",\"width\":0.1,\"x\":[\"What\"],\"y\":[0.0009637757982128843]},{\"text\":\"ceiling light\",\"textposition\":\"auto\",\"type\":\"bar\",\"width\":0.1,\"x\":[\"What\"],\"y\":[0.0009637757982128843]},{\"text\":\"pipe\",\"textposition\":\"auto\",\"type\":\"bar\",\"width\":0.1,\"x\":[\"What\"],\"y\":[0.0009500075725241288]},{\"text\":\"refrigerator\",\"textposition\":\"auto\",\"type\":\"bar\",\"width\":0.1,\"x\":[\"What\"],\"y\":[0.0009224711211466178]},{\"text\":\"item\",\"textposition\":\"auto\",\"type\":\"bar\",\"width\":0.1,\"x\":[\"What\"],\"y\":[0.0009087028954578623]},{\"text\":\"plastic\",\"textposition\":\"auto\",\"type\":\"bar\",\"width\":0.1,\"x\":[\"What\"],\"y\":[0.0009087028954578623]},{\"text\":\"cap\",\"textposition\":\"auto\",\"type\":\"bar\",\"width\":0.1,\"x\":[\"What\"],\"y\":[0.0008949346697691068]},{\"text\":\"oven\",\"textposition\":\"auto\",\"type\":\"bar\",\"width\":0.1,\"x\":[\"What\"],\"y\":[0.0008949346697691068]},{\"text\":\"empty\",\"textposition\":\"auto\",\"type\":\"bar\",\"width\":0.1,\"x\":[\"What\"],\"y\":[0.0008949346697691068]},{\"text\":\"walkway\",\"textposition\":\"auto\",\"type\":\"bar\",\"width\":0.1,\"x\":[\"What\"],\"y\":[0.0008811664440803513]},{\"text\":\"pink\",\"textposition\":\"auto\",\"type\":\"bar\",\"width\":0.1,\"x\":[\"What\"],\"y\":[0.0008811664440803513]},{\"text\":\"ship\",\"textposition\":\"auto\",\"type\":\"bar\",\"width\":0.1,\"x\":[\"What\"],\"y\":[0.0008811664440803513]},{\"text\":\"animal\",\"textposition\":\"auto\",\"type\":\"bar\",\"width\":0.1,\"x\":[\"What\"],\"y\":[0.0008673982183915958]},{\"text\":\"dress\",\"textposition\":\"auto\",\"type\":\"bar\",\"width\":0.1,\"x\":[\"What\"],\"y\":[0.0008673982183915958]},{\"text\":\"banner\",\"textposition\":\"auto\",\"type\":\"bar\",\"width\":0.1,\"x\":[\"What\"],\"y\":[0.0008536299927028403]},{\"text\":\"fire\",\"textposition\":\"auto\",\"type\":\"bar\",\"width\":0.1,\"x\":[\"What\"],\"y\":[0.0008536299927028403]},{\"text\":\"electronic\",\"textposition\":\"auto\",\"type\":\"bar\",\"width\":0.1,\"x\":[\"What\"],\"y\":[0.0008536299927028403]},{\"text\":\"dustbin\",\"textposition\":\"auto\",\"type\":\"bar\",\"width\":0.1,\"x\":[\"What\"],\"y\":[0.0008398617670140849]},{\"text\":\"wood\",\"textposition\":\"auto\",\"type\":\"bar\",\"width\":0.1,\"x\":[\"What\"],\"y\":[0.0008398617670140849]},{\"text\":\"steel\",\"textposition\":\"auto\",\"type\":\"bar\",\"width\":0.1,\"x\":[\"What\"],\"y\":[0.0008260935413253294]},{\"text\":\"step\",\"textposition\":\"auto\",\"type\":\"bar\",\"width\":0.1,\"x\":[\"What\"],\"y\":[0.0008260935413253294]},{\"text\":\"different\",\"textposition\":\"auto\",\"type\":\"bar\",\"width\":0.1,\"x\":[\"What\"],\"y\":[0.0008123253156365739]},{\"text\":\"monitor\",\"textposition\":\"auto\",\"type\":\"bar\",\"width\":0.1,\"x\":[\"What\"],\"y\":[0.0008123253156365739]},{\"text\":\"cable\",\"textposition\":\"auto\",\"type\":\"bar\",\"width\":0.1,\"x\":[\"What\"],\"y\":[0.0007985570899478184]},{\"text\":\"dark\",\"textposition\":\"auto\",\"type\":\"bar\",\"width\":0.1,\"x\":[\"What\"],\"y\":[0.0007985570899478184]},{\"text\":\"staircase\",\"textposition\":\"auto\",\"type\":\"bar\",\"width\":0.1,\"x\":[\"What\"],\"y\":[0.0007985570899478184]},{\"text\":\"basin\",\"textposition\":\"auto\",\"type\":\"bar\",\"width\":0.1,\"x\":[\"What\"],\"y\":[0.0007847888642590629]},{\"text\":\"arch\",\"textposition\":\"auto\",\"type\":\"bar\",\"width\":0.1,\"x\":[\"What\"],\"y\":[0.0007710206385703074]},{\"text\":\"concrete\",\"textposition\":\"auto\",\"type\":\"bar\",\"width\":0.1,\"x\":[\"What\"],\"y\":[0.0007710206385703074]},{\"text\":\"micro oven\",\"textposition\":\"auto\",\"type\":\"bar\",\"width\":0.1,\"x\":[\"What\"],\"y\":[0.0007434841871927965]},{\"text\":\"tv\",\"textposition\":\"auto\",\"type\":\"bar\",\"width\":0.1,\"x\":[\"What\"],\"y\":[0.0007434841871927965]},{\"text\":\"computer\",\"textposition\":\"auto\",\"type\":\"bar\",\"width\":0.1,\"x\":[\"What\"],\"y\":[0.000729715961504041]},{\"text\":\"fireplace\",\"textposition\":\"auto\",\"type\":\"bar\",\"width\":0.1,\"x\":[\"What\"],\"y\":[0.000729715961504041]},{\"text\":\"toilet\",\"textposition\":\"auto\",\"type\":\"bar\",\"width\":0.1,\"x\":[\"What\"],\"y\":[0.000729715961504041]},{\"text\":\"electronic device\",\"textposition\":\"auto\",\"type\":\"bar\",\"width\":0.1,\"x\":[\"What\"],\"y\":[0.000729715961504041]},{\"text\":\"swimming pool\",\"textposition\":\"auto\",\"type\":\"bar\",\"width\":0.1,\"x\":[\"What\"],\"y\":[0.0007159477358152855]},{\"text\":\"light arrangement\",\"textposition\":\"auto\",\"type\":\"bar\",\"width\":0.1,\"x\":[\"What\"],\"y\":[0.0007159477358152855]},{\"text\":\"microwave\",\"textposition\":\"auto\",\"type\":\"bar\",\"width\":0.1,\"x\":[\"What\"],\"y\":[0.0007159477358152855]},{\"text\":\"land\",\"textposition\":\"auto\",\"type\":\"bar\",\"width\":0.1,\"x\":[\"What\"],\"y\":[0.0007159477358152855]},{\"text\":\"grey\",\"textposition\":\"auto\",\"type\":\"bar\",\"width\":0.1,\"x\":[\"What\"],\"y\":[0.00070217951012653]},{\"text\":\"microwave oven\",\"textposition\":\"auto\",\"type\":\"bar\",\"width\":0.1,\"x\":[\"What\"],\"y\":[0.00070217951012653]},{\"text\":\"dog\",\"textposition\":\"auto\",\"type\":\"bar\",\"width\":0.1,\"x\":[\"What\"],\"y\":[0.00070217951012653]},{\"text\":\"visible\",\"textposition\":\"auto\",\"type\":\"bar\",\"width\":0.1,\"x\":[\"What\"],\"y\":[0.00070217951012653]},{\"text\":\"traffic\",\"textposition\":\"auto\",\"type\":\"bar\",\"width\":0.1,\"x\":[\"What\"],\"y\":[0.0006884112844377745]},{\"text\":\"handle\",\"textposition\":\"auto\",\"type\":\"bar\",\"width\":0.1,\"x\":[\"What\"],\"y\":[0.000674643058749019]},{\"text\":\"lamp post\",\"textposition\":\"auto\",\"type\":\"bar\",\"width\":0.1,\"x\":[\"What\"],\"y\":[0.0006608748330602636]},{\"text\":\"cup\",\"textposition\":\"auto\",\"type\":\"bar\",\"width\":0.1,\"x\":[\"What\"],\"y\":[0.0006608748330602636]},{\"text\":\"sofa set\",\"textposition\":\"auto\",\"type\":\"bar\",\"width\":0.1,\"x\":[\"What\"],\"y\":[0.0006471066073715081]},{\"text\":\"body\",\"textposition\":\"auto\",\"type\":\"bar\",\"width\":0.1,\"x\":[\"What\"],\"y\":[0.0006471066073715081]},{\"text\":\"river\",\"textposition\":\"auto\",\"type\":\"bar\",\"width\":0.1,\"x\":[\"What\"],\"y\":[0.0006471066073715081]},{\"text\":\"container\",\"textposition\":\"auto\",\"type\":\"bar\",\"width\":0.1,\"x\":[\"What\"],\"y\":[0.0006333383816827526]},{\"text\":\"umbrella\",\"textposition\":\"auto\",\"type\":\"bar\",\"width\":0.1,\"x\":[\"What\"],\"y\":[0.0006333383816827526]},{\"text\":\"color\",\"textposition\":\"auto\",\"type\":\"bar\",\"width\":0.1,\"x\":[\"What\"],\"y\":[0.0006333383816827526]},{\"text\":\"snooker\",\"textposition\":\"auto\",\"type\":\"bar\",\"width\":0.1,\"x\":[\"What\"],\"y\":[0.0006195701559939971]},{\"text\":\"rope\",\"textposition\":\"auto\",\"type\":\"bar\",\"width\":0.1,\"x\":[\"What\"],\"y\":[0.0006195701559939971]},{\"text\":\"street light\",\"textposition\":\"auto\",\"type\":\"bar\",\"width\":0.1,\"x\":[\"What\"],\"y\":[0.0006058019303052416]},{\"text\":\"huge\",\"textposition\":\"auto\",\"type\":\"bar\",\"width\":0.1,\"x\":[\"What\"],\"y\":[0.0006058019303052416]},{\"text\":\"grassland\",\"textposition\":\"auto\",\"type\":\"bar\",\"width\":0.1,\"x\":[\"What\"],\"y\":[0.0006058019303052416]},{\"text\":\"laptop\",\"textposition\":\"auto\",\"type\":\"bar\",\"width\":0.1,\"x\":[\"What\"],\"y\":[0.0006058019303052416]},{\"text\":\"traffic light\",\"textposition\":\"auto\",\"type\":\"bar\",\"width\":0.1,\"x\":[\"What\"],\"y\":[0.0006058019303052416]},{\"text\":\"pool\",\"textposition\":\"auto\",\"type\":\"bar\",\"width\":0.1,\"x\":[\"What\"],\"y\":[0.0005920337046164861]},{\"text\":\"sculpture\",\"textposition\":\"auto\",\"type\":\"bar\",\"width\":0.1,\"x\":[\"What\"],\"y\":[0.0005920337046164861]},{\"text\":\"architecture\",\"textposition\":\"auto\",\"type\":\"bar\",\"width\":0.1,\"x\":[\"What\"],\"y\":[0.0005920337046164861]},{\"text\":\"train\",\"textposition\":\"auto\",\"type\":\"bar\",\"width\":0.1,\"x\":[\"What\"],\"y\":[0.0005920337046164861]},{\"text\":\"table lamp\",\"textposition\":\"auto\",\"type\":\"bar\",\"width\":0.1,\"x\":[\"What\"],\"y\":[0.0005920337046164861]},{\"text\":\"trunk\",\"textposition\":\"auto\",\"type\":\"bar\",\"width\":0.1,\"x\":[\"What\"],\"y\":[0.0005782654789277306]},{\"text\":\"net\",\"textposition\":\"auto\",\"type\":\"bar\",\"width\":0.1,\"x\":[\"What\"],\"y\":[0.0005782654789277306]},{\"text\":\"floor mat\",\"textposition\":\"auto\",\"type\":\"bar\",\"width\":0.1,\"x\":[\"What\"],\"y\":[0.0005782654789277306]},{\"text\":\"counter\",\"textposition\":\"auto\",\"type\":\"bar\",\"width\":0.1,\"x\":[\"What\"],\"y\":[0.0005782654789277306]},{\"text\":\"lamp light\",\"textposition\":\"auto\",\"type\":\"bar\",\"width\":0.1,\"x\":[\"What\"],\"y\":[0.0005644972532389751]},{\"text\":\"jar\",\"textposition\":\"auto\",\"type\":\"bar\",\"width\":0.1,\"x\":[\"What\"],\"y\":[0.0005644972532389751]},{\"text\":\"camera\",\"textposition\":\"auto\",\"type\":\"bar\",\"width\":0.1,\"x\":[\"What\"],\"y\":[0.0005644972532389751]},{\"text\":\"design\",\"textposition\":\"auto\",\"type\":\"bar\",\"width\":0.1,\"x\":[\"What\"],\"y\":[0.0005644972532389751]},{\"text\":\"shop\",\"textposition\":\"auto\",\"type\":\"bar\",\"width\":0.1,\"x\":[\"What\"],\"y\":[0.0005644972532389751]},{\"text\":\"greenery\",\"textposition\":\"auto\",\"type\":\"bar\",\"width\":0.1,\"x\":[\"What\"],\"y\":[0.0005507290275502196]},{\"text\":\"waterfall\",\"textposition\":\"auto\",\"type\":\"bar\",\"width\":0.1,\"x\":[\"What\"],\"y\":[0.0005507290275502196]},{\"text\":\"motor vehicle\",\"textposition\":\"auto\",\"type\":\"bar\",\"width\":0.1,\"x\":[\"What\"],\"y\":[0.0005369608018614641]},{\"text\":\"flush tank\",\"textposition\":\"auto\",\"type\":\"bar\",\"width\":0.1,\"x\":[\"What\"],\"y\":[0.0005369608018614641]},{\"text\":\"dry grass\",\"textposition\":\"auto\",\"type\":\"bar\",\"width\":0.1,\"x\":[\"What\"],\"y\":[0.0005231925761727086]},{\"text\":\"signal\",\"textposition\":\"auto\",\"type\":\"bar\",\"width\":0.1,\"x\":[\"What\"],\"y\":[0.0005231925761727086]},{\"text\":\"light lamp\",\"textposition\":\"auto\",\"type\":\"bar\",\"width\":0.1,\"x\":[\"What\"],\"y\":[0.0005231925761727086]},{\"text\":\"store\",\"textposition\":\"auto\",\"type\":\"bar\",\"width\":0.1,\"x\":[\"What\"],\"y\":[0.0005231925761727086]},{\"text\":\"bird\",\"textposition\":\"auto\",\"type\":\"bar\",\"width\":0.1,\"x\":[\"What\"],\"y\":[0.0005094243504839531]},{\"text\":\"gate\",\"textposition\":\"auto\",\"type\":\"bar\",\"width\":0.1,\"x\":[\"What\"],\"y\":[0.0005094243504839531]},{\"text\":\"airplane\",\"textposition\":\"auto\",\"type\":\"bar\",\"width\":0.1,\"x\":[\"What\"],\"y\":[0.0005094243504839531]},{\"text\":\"decor\",\"textposition\":\"auto\",\"type\":\"bar\",\"width\":0.1,\"x\":[\"What\"],\"y\":[0.0005094243504839531]},{\"text\":\"orange\",\"textposition\":\"auto\",\"type\":\"bar\",\"width\":0.1,\"x\":[\"What\"],\"y\":[0.0004956561247951976]},{\"text\":\"gas stove\",\"textposition\":\"auto\",\"type\":\"bar\",\"width\":0.1,\"x\":[\"What\"],\"y\":[0.0004956561247951976]},{\"text\":\"tray\",\"textposition\":\"auto\",\"type\":\"bar\",\"width\":0.1,\"x\":[\"What\"],\"y\":[0.0004956561247951976]},{\"text\":\"device\",\"textposition\":\"auto\",\"type\":\"bar\",\"width\":0.1,\"x\":[\"What\"],\"y\":[0.0004956561247951976]},{\"text\":\"helmet\",\"textposition\":\"auto\",\"type\":\"bar\",\"width\":0.1,\"x\":[\"What\"],\"y\":[0.00048188789910644215]},{\"text\":\"washroom\",\"textposition\":\"auto\",\"type\":\"bar\",\"width\":0.1,\"x\":[\"What\"],\"y\":[0.00048188789910644215]},{\"text\":\"fountain\",\"textposition\":\"auto\",\"type\":\"bar\",\"width\":0.1,\"x\":[\"What\"],\"y\":[0.00048188789910644215]},{\"text\":\"cardboard box\",\"textposition\":\"auto\",\"type\":\"bar\",\"width\":0.1,\"x\":[\"What\"],\"y\":[0.00048188789910644215]},{\"text\":\"bus\",\"textposition\":\"auto\",\"type\":\"bar\",\"width\":0.1,\"x\":[\"What\"],\"y\":[0.00048188789910644215]},{\"text\":\"grill\",\"textposition\":\"auto\",\"type\":\"bar\",\"width\":0.1,\"x\":[\"What\"],\"y\":[0.00048188789910644215]},{\"text\":\"washing machine\",\"textposition\":\"auto\",\"type\":\"bar\",\"width\":0.1,\"x\":[\"What\"],\"y\":[0.00046811967341768665]},{\"text\":\"bedroom\",\"textposition\":\"auto\",\"type\":\"bar\",\"width\":0.1,\"x\":[\"What\"],\"y\":[0.00046811967341768665]},{\"text\":\"pathway\",\"textposition\":\"auto\",\"type\":\"bar\",\"width\":0.1,\"x\":[\"What\"],\"y\":[0.00046811967341768665]},{\"text\":\"branch\",\"textposition\":\"auto\",\"type\":\"bar\",\"width\":0.1,\"x\":[\"What\"],\"y\":[0.00046811967341768665]},{\"text\":\"sign\",\"textposition\":\"auto\",\"type\":\"bar\",\"width\":0.1,\"x\":[\"What\"],\"y\":[0.00045435144772893116]},{\"text\":\"cardboard\",\"textposition\":\"auto\",\"type\":\"bar\",\"width\":0.1,\"x\":[\"What\"],\"y\":[0.00045435144772893116]},{\"text\":\"doll\",\"textposition\":\"auto\",\"type\":\"bar\",\"width\":0.1,\"x\":[\"What\"],\"y\":[0.00045435144772893116]},{\"text\":\"grassy land\",\"textposition\":\"auto\",\"type\":\"bar\",\"width\":0.1,\"x\":[\"What\"],\"y\":[0.00045435144772893116]},{\"text\":\"horse\",\"textposition\":\"auto\",\"type\":\"bar\",\"width\":0.1,\"x\":[\"What\"],\"y\":[0.00045435144772893116]},{\"text\":\"shirt\",\"textposition\":\"auto\",\"type\":\"bar\",\"width\":0.1,\"x\":[\"What\"],\"y\":[0.00044058322204017567]},{\"text\":\"group\",\"textposition\":\"auto\",\"type\":\"bar\",\"width\":0.1,\"x\":[\"What\"],\"y\":[0.00044058322204017567]},{\"text\":\"wash\",\"textposition\":\"auto\",\"type\":\"bar\",\"width\":0.1,\"x\":[\"What\"],\"y\":[0.00044058322204017567]},{\"text\":\"iron rod\",\"textposition\":\"auto\",\"type\":\"bar\",\"width\":0.1,\"x\":[\"What\"],\"y\":[0.00044058322204017567]},{\"text\":\"cover\",\"textposition\":\"auto\",\"type\":\"bar\",\"width\":0.1,\"x\":[\"What\"],\"y\":[0.0004268149963514202]},{\"text\":\"colorful\",\"textposition\":\"auto\",\"type\":\"bar\",\"width\":0.1,\"x\":[\"What\"],\"y\":[0.0004268149963514202]},{\"text\":\"washbasin\",\"textposition\":\"auto\",\"type\":\"bar\",\"width\":0.1,\"x\":[\"What\"],\"y\":[0.0004268149963514202]},{\"text\":\"pen\",\"textposition\":\"auto\",\"type\":\"bar\",\"width\":0.1,\"x\":[\"What\"],\"y\":[0.0004268149963514202]},{\"text\":\"air conditioner\",\"textposition\":\"auto\",\"type\":\"bar\",\"width\":0.1,\"x\":[\"What\"],\"y\":[0.0004268149963514202]},{\"text\":\"utensil\",\"textposition\":\"auto\",\"type\":\"bar\",\"width\":0.1,\"x\":[\"What\"],\"y\":[0.0004130467706626647]},{\"text\":\"gray\",\"textposition\":\"auto\",\"type\":\"bar\",\"width\":0.1,\"x\":[\"What\"],\"y\":[0.0004130467706626647]},{\"text\":\"wooden cabinet\",\"textposition\":\"auto\",\"type\":\"bar\",\"width\":0.1,\"x\":[\"What\"],\"y\":[0.0004130467706626647]},{\"text\":\"round\",\"textposition\":\"auto\",\"type\":\"bar\",\"width\":0.1,\"x\":[\"What\"],\"y\":[0.0004130467706626647]},{\"text\":\"fort\",\"textposition\":\"auto\",\"type\":\"bar\",\"width\":0.1,\"x\":[\"What\"],\"y\":[0.0003992785449739092]},{\"text\":\"wooden floor\",\"textposition\":\"auto\",\"type\":\"bar\",\"width\":0.1,\"x\":[\"What\"],\"y\":[0.0003992785449739092]},{\"text\":\"marble\",\"textposition\":\"auto\",\"type\":\"bar\",\"width\":0.1,\"x\":[\"What\"],\"y\":[0.0003992785449739092]},{\"text\":\"structure\",\"textposition\":\"auto\",\"type\":\"bar\",\"width\":0.1,\"x\":[\"What\"],\"y\":[0.0003992785449739092]},{\"text\":\"keyboard\",\"textposition\":\"auto\",\"type\":\"bar\",\"width\":0.1,\"x\":[\"What\"],\"y\":[0.0003992785449739092]},{\"text\":\"street\",\"textposition\":\"auto\",\"type\":\"bar\",\"width\":0.1,\"x\":[\"What\"],\"y\":[0.0003855103192851537]},{\"text\":\"blurred\",\"textposition\":\"auto\",\"type\":\"bar\",\"width\":0.1,\"x\":[\"What\"],\"y\":[0.0003855103192851537]},{\"text\":\"pole light\",\"textposition\":\"auto\",\"type\":\"bar\",\"width\":0.1,\"x\":[\"What\"],\"y\":[0.0003855103192851537]},{\"text\":\"clear sky\",\"textposition\":\"auto\",\"type\":\"bar\",\"width\":0.1,\"x\":[\"What\"],\"y\":[0.0003855103192851537]},{\"text\":\"chimney\",\"textposition\":\"auto\",\"type\":\"bar\",\"width\":0.1,\"x\":[\"What\"],\"y\":[0.0003855103192851537]},{\"text\":\"tissue roll\",\"textposition\":\"auto\",\"type\":\"bar\",\"width\":0.1,\"x\":[\"What\"],\"y\":[0.0003855103192851537]},{\"text\":\"back\",\"textposition\":\"auto\",\"type\":\"bar\",\"width\":0.1,\"x\":[\"What\"],\"y\":[0.0003855103192851537]},{\"text\":\"barrel\",\"textposition\":\"auto\",\"type\":\"bar\",\"width\":0.1,\"x\":[\"What\"],\"y\":[0.0003855103192851537]},{\"text\":\"bucket\",\"textposition\":\"auto\",\"type\":\"bar\",\"width\":0.1,\"x\":[\"What\"],\"y\":[0.00037174209359639826]},{\"text\":\"ladder\",\"textposition\":\"auto\",\"type\":\"bar\",\"width\":0.1,\"x\":[\"What\"],\"y\":[0.00037174209359639826]},{\"text\":\"hat\",\"textposition\":\"auto\",\"type\":\"bar\",\"width\":0.1,\"x\":[\"What\"],\"y\":[0.00037174209359639826]},{\"text\":\"picture\",\"textposition\":\"auto\",\"type\":\"bar\",\"width\":0.1,\"x\":[\"What\"],\"y\":[0.00037174209359639826]},{\"text\":\"traffic signal\",\"textposition\":\"auto\",\"type\":\"bar\",\"width\":0.1,\"x\":[\"What\"],\"y\":[0.00037174209359639826]},{\"text\":\"trolley\",\"textposition\":\"auto\",\"type\":\"bar\",\"width\":0.1,\"x\":[\"What\"],\"y\":[0.00035797386790764276]},{\"text\":\"mannequin\",\"textposition\":\"auto\",\"type\":\"bar\",\"width\":0.1,\"x\":[\"What\"],\"y\":[0.00035797386790764276]},{\"text\":\"traffic cone\",\"textposition\":\"auto\",\"type\":\"bar\",\"width\":0.1,\"x\":[\"What\"],\"y\":[0.00035797386790764276]},{\"text\":\"musical\",\"textposition\":\"auto\",\"type\":\"bar\",\"width\":0.1,\"x\":[\"What\"],\"y\":[0.00035797386790764276]},{\"text\":\"flooring\",\"textposition\":\"auto\",\"type\":\"bar\",\"width\":0.1,\"x\":[\"What\"],\"y\":[0.00035797386790764276]},{\"text\":\"commode\",\"textposition\":\"auto\",\"type\":\"bar\",\"width\":0.1,\"x\":[\"What\"],\"y\":[0.00035797386790764276]},{\"text\":\"bed sheet\",\"textposition\":\"auto\",\"type\":\"bar\",\"width\":0.1,\"x\":[\"What\"],\"y\":[0.00035797386790764276]},{\"text\":\"cream\",\"textposition\":\"auto\",\"type\":\"bar\",\"width\":0.1,\"x\":[\"What\"],\"y\":[0.00034420564221888727]},{\"text\":\"sofa chair\",\"textposition\":\"auto\",\"type\":\"bar\",\"width\":0.1,\"x\":[\"What\"],\"y\":[0.00034420564221888727]},{\"text\":\"flower bouquet\",\"textposition\":\"auto\",\"type\":\"bar\",\"width\":0.1,\"x\":[\"What\"],\"y\":[0.00034420564221888727]},{\"text\":\"shoe\",\"textposition\":\"auto\",\"type\":\"bar\",\"width\":0.1,\"x\":[\"What\"],\"y\":[0.00034420564221888727]},{\"text\":\"church\",\"textposition\":\"auto\",\"type\":\"bar\",\"width\":0.1,\"x\":[\"What\"],\"y\":[0.00034420564221888727]},{\"text\":\"wall painting\",\"textposition\":\"auto\",\"type\":\"bar\",\"width\":0.1,\"x\":[\"What\"],\"y\":[0.00034420564221888727]},{\"text\":\"kind\",\"textposition\":\"auto\",\"type\":\"bar\",\"width\":0.1,\"x\":[\"What\"],\"y\":[0.00034420564221888727]},{\"text\":\"flower plant\",\"textposition\":\"auto\",\"type\":\"bar\",\"width\":0.1,\"x\":[\"What\"],\"y\":[0.00034420564221888727]},{\"text\":\"wooden table\",\"textposition\":\"auto\",\"type\":\"bar\",\"width\":0.1,\"x\":[\"What\"],\"y\":[0.0003304374165301318]},{\"text\":\"fleet\",\"textposition\":\"auto\",\"type\":\"bar\",\"width\":0.1,\"x\":[\"What\"],\"y\":[0.0003304374165301318]},{\"text\":\"jacket\",\"textposition\":\"auto\",\"type\":\"bar\",\"width\":0.1,\"x\":[\"What\"],\"y\":[0.0003304374165301318]},{\"text\":\"right\",\"textposition\":\"auto\",\"type\":\"bar\",\"width\":0.1,\"x\":[\"What\"],\"y\":[0.0003304374165301318]},{\"text\":\"stall\",\"textposition\":\"auto\",\"type\":\"bar\",\"width\":0.1,\"x\":[\"What\"],\"y\":[0.0003304374165301318]},{\"text\":\"type\",\"textposition\":\"auto\",\"type\":\"bar\",\"width\":0.1,\"x\":[\"What\"],\"y\":[0.0003304374165301318]},{\"text\":\"human\",\"textposition\":\"auto\",\"type\":\"bar\",\"width\":0.1,\"x\":[\"What\"],\"y\":[0.0003304374165301318]},{\"text\":\"trash bin\",\"textposition\":\"auto\",\"type\":\"bar\",\"width\":0.1,\"x\":[\"What\"],\"y\":[0.0003304374165301318]},{\"text\":\"shelter\",\"textposition\":\"auto\",\"type\":\"bar\",\"width\":0.1,\"x\":[\"What\"],\"y\":[0.0003304374165301318]},{\"text\":\"tissue\",\"textposition\":\"auto\",\"type\":\"bar\",\"width\":0.1,\"x\":[\"What\"],\"y\":[0.0003304374165301318]},{\"text\":\"track\",\"textposition\":\"auto\",\"type\":\"bar\",\"width\":0.1,\"x\":[\"What\"],\"y\":[0.0003166691908413763]},{\"text\":\"garden\",\"textposition\":\"auto\",\"type\":\"bar\",\"width\":0.1,\"x\":[\"What\"],\"y\":[0.0003166691908413763]},{\"text\":\"footwear\",\"textposition\":\"auto\",\"type\":\"bar\",\"width\":0.1,\"x\":[\"What\"],\"y\":[0.0003166691908413763]},{\"text\":\"wooden house\",\"textposition\":\"auto\",\"type\":\"bar\",\"width\":0.1,\"x\":[\"What\"],\"y\":[0.0003166691908413763]},{\"text\":\"electrical\",\"textposition\":\"auto\",\"type\":\"bar\",\"width\":0.1,\"x\":[\"What\"],\"y\":[0.0003166691908413763]},{\"text\":\"bike\",\"textposition\":\"auto\",\"type\":\"bar\",\"width\":0.1,\"x\":[\"What\"],\"y\":[0.0003166691908413763]},{\"text\":\"bath tub\",\"textposition\":\"auto\",\"type\":\"bar\",\"width\":0.1,\"x\":[\"What\"],\"y\":[0.0003166691908413763]},{\"text\":\"ocean\",\"textposition\":\"auto\",\"type\":\"bar\",\"width\":0.1,\"x\":[\"What\"],\"y\":[0.0003166691908413763]},{\"text\":\"cabin\",\"textposition\":\"auto\",\"type\":\"bar\",\"width\":0.1,\"x\":[\"What\"],\"y\":[0.0003166691908413763]},{\"text\":\"pond\",\"textposition\":\"auto\",\"type\":\"bar\",\"width\":0.1,\"x\":[\"What\"],\"y\":[0.0003029009651526208]},{\"text\":\"aircraft\",\"textposition\":\"auto\",\"type\":\"bar\",\"width\":0.1,\"x\":[\"What\"],\"y\":[0.0003029009651526208]},{\"text\":\"tissue paper\",\"textposition\":\"auto\",\"type\":\"bar\",\"width\":0.1,\"x\":[\"What\"],\"y\":[0.0003029009651526208]},{\"text\":\"current pole\",\"textposition\":\"auto\",\"type\":\"bar\",\"width\":0.1,\"x\":[\"What\"],\"y\":[0.0003029009651526208]},{\"text\":\"shower\",\"textposition\":\"auto\",\"type\":\"bar\",\"width\":0.1,\"x\":[\"What\"],\"y\":[0.0003029009651526208]},{\"text\":\"mud\",\"textposition\":\"auto\",\"type\":\"bar\",\"width\":0.1,\"x\":[\"What\"],\"y\":[0.0003029009651526208]},{\"text\":\"speaker\",\"textposition\":\"auto\",\"type\":\"bar\",\"width\":0.1,\"x\":[\"What\"],\"y\":[0.0003029009651526208]},{\"text\":\"equipment\",\"textposition\":\"auto\",\"type\":\"bar\",\"width\":0.1,\"x\":[\"What\"],\"y\":[0.0003029009651526208]},{\"text\":\"wooden cupboard\",\"textposition\":\"auto\",\"type\":\"bar\",\"width\":0.1,\"x\":[\"What\"],\"y\":[0.0002891327394638653]},{\"text\":\"small plant\",\"textposition\":\"auto\",\"type\":\"bar\",\"width\":0.1,\"x\":[\"What\"],\"y\":[0.0002891327394638653]},{\"text\":\"crane\",\"textposition\":\"auto\",\"type\":\"bar\",\"width\":0.1,\"x\":[\"What\"],\"y\":[0.0002891327394638653]},{\"text\":\"air\",\"textposition\":\"auto\",\"type\":\"bar\",\"width\":0.1,\"x\":[\"What\"],\"y\":[0.0002891327394638653]},{\"text\":\"bush\",\"textposition\":\"auto\",\"type\":\"bar\",\"width\":0.1,\"x\":[\"What\"],\"y\":[0.0002891327394638653]},{\"text\":\"wine glass\",\"textposition\":\"auto\",\"type\":\"bar\",\"width\":0.1,\"x\":[\"What\"],\"y\":[0.0002891327394638653]},{\"text\":\"tub\",\"textposition\":\"auto\",\"type\":\"bar\",\"width\":0.1,\"x\":[\"What\"],\"y\":[0.0002891327394638653]},{\"text\":\"old\",\"textposition\":\"auto\",\"type\":\"bar\",\"width\":0.1,\"x\":[\"What\"],\"y\":[0.0002891327394638653]},{\"text\":\"gun\",\"textposition\":\"auto\",\"type\":\"bar\",\"width\":0.1,\"x\":[\"What\"],\"y\":[0.0002891327394638653]},{\"text\":\"low\",\"textposition\":\"auto\",\"type\":\"bar\",\"width\":0.1,\"x\":[\"What\"],\"y\":[0.0002891327394638653]},{\"text\":\"hut\",\"textposition\":\"auto\",\"type\":\"bar\",\"width\":0.1,\"x\":[\"What\"],\"y\":[0.0002891327394638653]},{\"text\":\"stage\",\"textposition\":\"auto\",\"type\":\"bar\",\"width\":0.1,\"x\":[\"What\"],\"y\":[0.0002891327394638653]},{\"text\":\"piano\",\"textposition\":\"auto\",\"type\":\"bar\",\"width\":0.1,\"x\":[\"What\"],\"y\":[0.0002891327394638653]},{\"text\":\"tank\",\"textposition\":\"auto\",\"type\":\"bar\",\"width\":0.1,\"x\":[\"What\"],\"y\":[0.0002891327394638653]},{\"text\":\"interior\",\"textposition\":\"auto\",\"type\":\"bar\",\"width\":0.1,\"x\":[\"What\"],\"y\":[0.0002891327394638653]},{\"text\":\"ceiling fan\",\"textposition\":\"auto\",\"type\":\"bar\",\"width\":0.1,\"x\":[\"What\"],\"y\":[0.0002891327394638653]},{\"text\":\"middle\",\"textposition\":\"auto\",\"type\":\"bar\",\"width\":0.1,\"x\":[\"What\"],\"y\":[0.0002753645137751098]},{\"text\":\"cycle\",\"textposition\":\"auto\",\"type\":\"bar\",\"width\":0.1,\"x\":[\"What\"],\"y\":[0.0002753645137751098]},{\"text\":\"window pane\",\"textposition\":\"auto\",\"type\":\"bar\",\"width\":0.1,\"x\":[\"What\"],\"y\":[0.0002753645137751098]},{\"text\":\"wardrobe\",\"textposition\":\"auto\",\"type\":\"bar\",\"width\":0.1,\"x\":[\"What\"],\"y\":[0.0002753645137751098]},{\"text\":\"shutter\",\"textposition\":\"auto\",\"type\":\"bar\",\"width\":0.1,\"x\":[\"What\"],\"y\":[0.0002753645137751098]},{\"text\":\"tunnel\",\"textposition\":\"auto\",\"type\":\"bar\",\"width\":0.1,\"x\":[\"What\"],\"y\":[0.0002753645137751098]},{\"text\":\"bouquet\",\"textposition\":\"auto\",\"type\":\"bar\",\"width\":0.1,\"x\":[\"What\"],\"y\":[0.0002753645137751098]},{\"text\":\"musical instrument\",\"textposition\":\"auto\",\"type\":\"bar\",\"width\":0.1,\"x\":[\"What\"],\"y\":[0.0002753645137751098]},{\"text\":\"bin\",\"textposition\":\"auto\",\"type\":\"bar\",\"width\":0.1,\"x\":[\"What\"],\"y\":[0.0002753645137751098]},{\"text\":\"fridge\",\"textposition\":\"auto\",\"type\":\"bar\",\"width\":0.1,\"x\":[\"What\"],\"y\":[0.0002753645137751098]},{\"text\":\"chain\",\"textposition\":\"auto\",\"type\":\"bar\",\"width\":0.1,\"x\":[\"What\"],\"y\":[0.0002753645137751098]},{\"text\":\"sun\",\"textposition\":\"auto\",\"type\":\"bar\",\"width\":0.1,\"x\":[\"What\"],\"y\":[0.0002753645137751098]},{\"text\":\"center\",\"textposition\":\"auto\",\"type\":\"bar\",\"width\":0.1,\"x\":[\"What\"],\"y\":[0.0002615962880863543]},{\"text\":\"lump\",\"textposition\":\"auto\",\"type\":\"bar\",\"width\":0.1,\"x\":[\"What\"],\"y\":[0.0002615962880863543]},{\"text\":\"dining\",\"textposition\":\"auto\",\"type\":\"bar\",\"width\":0.1,\"x\":[\"What\"],\"y\":[0.0002615962880863543]},{\"text\":\"wooden wall\",\"textposition\":\"auto\",\"type\":\"bar\",\"width\":0.1,\"x\":[\"What\"],\"y\":[0.0002615962880863543]},{\"text\":\"mouse\",\"textposition\":\"auto\",\"type\":\"bar\",\"width\":0.1,\"x\":[\"What\"],\"y\":[0.0002615962880863543]},{\"text\":\"electric light\",\"textposition\":\"auto\",\"type\":\"bar\",\"width\":0.1,\"x\":[\"What\"],\"y\":[0.0002615962880863543]},{\"text\":\"mesh\",\"textposition\":\"auto\",\"type\":\"bar\",\"width\":0.1,\"x\":[\"What\"],\"y\":[0.0002615962880863543]},{\"text\":\"shadow\",\"textposition\":\"auto\",\"type\":\"bar\",\"width\":0.1,\"x\":[\"What\"],\"y\":[0.0002615962880863543]},{\"text\":\"name\",\"textposition\":\"auto\",\"type\":\"bar\",\"width\":0.1,\"x\":[\"What\"],\"y\":[0.0002615962880863543]},{\"text\":\"guitar\",\"textposition\":\"auto\",\"type\":\"bar\",\"width\":0.1,\"x\":[\"What\"],\"y\":[0.0002615962880863543]},{\"text\":\"fencing\",\"textposition\":\"auto\",\"type\":\"bar\",\"width\":0.1,\"x\":[\"What\"],\"y\":[0.0002478280623975988]},{\"text\":\"sidewalk\",\"textposition\":\"auto\",\"type\":\"bar\",\"width\":0.1,\"x\":[\"What\"],\"y\":[0.0002478280623975988]},{\"text\":\"escalator\",\"textposition\":\"auto\",\"type\":\"bar\",\"width\":0.1,\"x\":[\"What\"],\"y\":[0.0002478280623975988]},{\"text\":\"hydrant\",\"textposition\":\"auto\",\"type\":\"bar\",\"width\":0.1,\"x\":[\"What\"],\"y\":[0.0002478280623975988]},{\"text\":\"bat\",\"textposition\":\"auto\",\"type\":\"bar\",\"width\":0.1,\"x\":[\"What\"],\"y\":[0.0002478280623975988]},{\"text\":\"street pole\",\"textposition\":\"auto\",\"type\":\"bar\",\"width\":0.1,\"x\":[\"What\"],\"y\":[0.0002478280623975988]},{\"text\":\"game\",\"textposition\":\"auto\",\"type\":\"bar\",\"width\":0.1,\"x\":[\"What\"],\"y\":[0.0002478280623975988]},{\"text\":\"spectacle\",\"textposition\":\"auto\",\"type\":\"bar\",\"width\":0.1,\"x\":[\"What\"],\"y\":[0.0002478280623975988]},{\"text\":\"stadium\",\"textposition\":\"auto\",\"type\":\"bar\",\"width\":0.1,\"x\":[\"What\"],\"y\":[0.0002478280623975988]},{\"text\":\"corridor\",\"textposition\":\"auto\",\"type\":\"bar\",\"width\":0.1,\"x\":[\"What\"],\"y\":[0.00023405983670884333]},{\"text\":\"brush\",\"textposition\":\"auto\",\"type\":\"bar\",\"width\":0.1,\"x\":[\"What\"],\"y\":[0.00023405983670884333]},{\"text\":\"vegetable\",\"textposition\":\"auto\",\"type\":\"bar\",\"width\":0.1,\"x\":[\"What\"],\"y\":[0.00023405983670884333]},{\"text\":\"wall hanging\",\"textposition\":\"auto\",\"type\":\"bar\",\"width\":0.1,\"x\":[\"What\"],\"y\":[0.00023405983670884333]},{\"text\":\"wooden flooring\",\"textposition\":\"auto\",\"type\":\"bar\",\"width\":0.1,\"x\":[\"What\"],\"y\":[0.00023405983670884333]},{\"text\":\"metal pole\",\"textposition\":\"auto\",\"type\":\"bar\",\"width\":0.1,\"x\":[\"What\"],\"y\":[0.00023405983670884333]},{\"text\":\"projector screen\",\"textposition\":\"auto\",\"type\":\"bar\",\"width\":0.1,\"x\":[\"What\"],\"y\":[0.00023405983670884333]},{\"text\":\"roll\",\"textposition\":\"auto\",\"type\":\"bar\",\"width\":0.1,\"x\":[\"What\"],\"y\":[0.00023405983670884333]},{\"text\":\"gaming machine\",\"textposition\":\"auto\",\"type\":\"bar\",\"width\":0.1,\"x\":[\"What\"],\"y\":[0.00023405983670884333]},{\"text\":\"water body\",\"textposition\":\"auto\",\"type\":\"bar\",\"width\":0.1,\"x\":[\"What\"],\"y\":[0.00023405983670884333]},{\"text\":\"electric pole\",\"textposition\":\"auto\",\"type\":\"bar\",\"width\":0.1,\"x\":[\"What\"],\"y\":[0.00023405983670884333]},{\"text\":\"rooftop\",\"textposition\":\"auto\",\"type\":\"bar\",\"width\":0.1,\"x\":[\"What\"],\"y\":[0.00023405983670884333]},{\"text\":\"grille\",\"textposition\":\"auto\",\"type\":\"bar\",\"width\":0.1,\"x\":[\"What\"],\"y\":[0.00023405983670884333]},{\"text\":\"dry leave\",\"textposition\":\"auto\",\"type\":\"bar\",\"width\":0.1,\"x\":[\"What\"],\"y\":[0.00023405983670884333]},{\"text\":\"cpu\",\"textposition\":\"auto\",\"type\":\"bar\",\"width\":0.1,\"x\":[\"What\"],\"y\":[0.00023405983670884333]},{\"text\":\"napkin\",\"textposition\":\"auto\",\"type\":\"bar\",\"width\":0.1,\"x\":[\"What\"],\"y\":[0.00023405983670884333]},{\"text\":\"date\",\"textposition\":\"auto\",\"type\":\"bar\",\"width\":0.1,\"x\":[\"What\"],\"y\":[0.00023405983670884333]},{\"text\":\"countertop\",\"textposition\":\"auto\",\"type\":\"bar\",\"width\":0.1,\"x\":[\"What\"],\"y\":[0.00022029161102008783]},{\"text\":\"field\",\"textposition\":\"auto\",\"type\":\"bar\",\"width\":0.1,\"x\":[\"What\"],\"y\":[0.00022029161102008783]},{\"text\":\"symbol\",\"textposition\":\"auto\",\"type\":\"bar\",\"width\":0.1,\"x\":[\"What\"],\"y\":[0.00022029161102008783]},{\"text\":\"image\",\"textposition\":\"auto\",\"type\":\"bar\",\"width\":0.1,\"x\":[\"What\"],\"y\":[0.00022029161102008783]},{\"text\":\"podium\",\"textposition\":\"auto\",\"type\":\"bar\",\"width\":0.1,\"x\":[\"What\"],\"y\":[0.00022029161102008783]},{\"text\":\"castle\",\"textposition\":\"auto\",\"type\":\"bar\",\"width\":0.1,\"x\":[\"What\"],\"y\":[0.00022029161102008783]},{\"text\":\"socket\",\"textposition\":\"auto\",\"type\":\"bar\",\"width\":0.1,\"x\":[\"What\"],\"y\":[0.00022029161102008783]},{\"text\":\"entrance\",\"textposition\":\"auto\",\"type\":\"bar\",\"width\":0.1,\"x\":[\"What\"],\"y\":[0.00022029161102008783]},{\"text\":\"wooden frame\",\"textposition\":\"auto\",\"type\":\"bar\",\"width\":0.1,\"x\":[\"What\"],\"y\":[0.00022029161102008783]},{\"text\":\"chandelier light\",\"textposition\":\"auto\",\"type\":\"bar\",\"width\":0.1,\"x\":[\"What\"],\"y\":[0.00022029161102008783]},{\"text\":\"holder\",\"textposition\":\"auto\",\"type\":\"bar\",\"width\":0.1,\"x\":[\"What\"],\"y\":[0.00022029161102008783]},{\"text\":\"word\",\"textposition\":\"auto\",\"type\":\"bar\",\"width\":0.1,\"x\":[\"What\"],\"y\":[0.00022029161102008783]},{\"text\":\"cot\",\"textposition\":\"auto\",\"type\":\"bar\",\"width\":0.1,\"x\":[\"What\"],\"y\":[0.00022029161102008783]},{\"text\":\"log\",\"textposition\":\"auto\",\"type\":\"bar\",\"width\":0.1,\"x\":[\"What\"],\"y\":[0.00022029161102008783]},{\"text\":\"projector\",\"textposition\":\"auto\",\"type\":\"bar\",\"width\":0.1,\"x\":[\"What\"],\"y\":[0.00020652338533133234]},{\"text\":\"tower building\",\"textposition\":\"auto\",\"type\":\"bar\",\"width\":0.1,\"x\":[\"What\"],\"y\":[0.00020652338533133234]},{\"text\":\"pixel\",\"textposition\":\"auto\",\"type\":\"bar\",\"width\":0.1,\"x\":[\"What\"],\"y\":[0.00020652338533133234]},{\"text\":\"block\",\"textposition\":\"auto\",\"type\":\"bar\",\"width\":0.1,\"x\":[\"What\"],\"y\":[0.00020652338533133234]},{\"text\":\"face\",\"textposition\":\"auto\",\"type\":\"bar\",\"width\":0.1,\"x\":[\"What\"],\"y\":[0.00020652338533133234]},{\"text\":\"knife\",\"textposition\":\"auto\",\"type\":\"bar\",\"width\":0.1,\"x\":[\"What\"],\"y\":[0.00020652338533133234]},{\"text\":\"maroon\",\"textposition\":\"auto\",\"type\":\"bar\",\"width\":0.1,\"x\":[\"What\"],\"y\":[0.00020652338533133234]},{\"text\":\"wooden rack\",\"textposition\":\"auto\",\"type\":\"bar\",\"width\":0.1,\"x\":[\"What\"],\"y\":[0.00020652338533133234]},{\"text\":\"man\",\"textposition\":\"auto\",\"type\":\"bar\",\"width\":0.1,\"x\":[\"What\"],\"y\":[0.00020652338533133234]},{\"text\":\"extinguisher\",\"textposition\":\"auto\",\"type\":\"bar\",\"width\":0.1,\"x\":[\"What\"],\"y\":[0.00020652338533133234]},{\"text\":\"sea\",\"textposition\":\"auto\",\"type\":\"bar\",\"width\":0.1,\"x\":[\"What\"],\"y\":[0.00020652338533133234]},{\"text\":\"signal light\",\"textposition\":\"auto\",\"type\":\"bar\",\"width\":0.1,\"x\":[\"What\"],\"y\":[0.00020652338533133234]},{\"text\":\"card\",\"textposition\":\"auto\",\"type\":\"bar\",\"width\":0.1,\"x\":[\"What\"],\"y\":[0.00020652338533133234]},{\"text\":\"balcony\",\"textposition\":\"auto\",\"type\":\"bar\",\"width\":0.1,\"x\":[\"What\"],\"y\":[0.00019275515964257685]},{\"text\":\"sit chair\",\"textposition\":\"auto\",\"type\":\"bar\",\"width\":0.1,\"x\":[\"What\"],\"y\":[0.00019275515964257685]},{\"text\":\"large\",\"textposition\":\"auto\",\"type\":\"bar\",\"width\":0.1,\"x\":[\"What\"],\"y\":[0.00019275515964257685]},{\"text\":\"railway track\",\"textposition\":\"auto\",\"type\":\"bar\",\"width\":0.1,\"x\":[\"What\"],\"y\":[0.00019275515964257685]},{\"text\":\"vessel\",\"textposition\":\"auto\",\"type\":\"bar\",\"width\":0.1,\"x\":[\"What\"],\"y\":[0.00019275515964257685]},{\"text\":\"wine bottle\",\"textposition\":\"auto\",\"type\":\"bar\",\"width\":0.1,\"x\":[\"What\"],\"y\":[0.00019275515964257685]},{\"text\":\"elephant\",\"textposition\":\"auto\",\"type\":\"bar\",\"width\":0.1,\"x\":[\"What\"],\"y\":[0.00019275515964257685]},{\"text\":\"cross\",\"textposition\":\"auto\",\"type\":\"bar\",\"width\":0.1,\"x\":[\"What\"],\"y\":[0.00019275515964257685]},{\"text\":\"signboard\",\"textposition\":\"auto\",\"type\":\"bar\",\"width\":0.1,\"x\":[\"What\"],\"y\":[0.00019275515964257685]},{\"text\":\"venetian\",\"textposition\":\"auto\",\"type\":\"bar\",\"width\":0.1,\"x\":[\"What\"],\"y\":[0.00019275515964257685]},{\"text\":\"bathroom\",\"textposition\":\"auto\",\"type\":\"bar\",\"width\":0.1,\"x\":[\"What\"],\"y\":[0.00019275515964257685]},{\"text\":\"furniture\",\"textposition\":\"auto\",\"type\":\"bar\",\"width\":0.1,\"x\":[\"What\"],\"y\":[0.00019275515964257685]},{\"text\":\"street lamp\",\"textposition\":\"auto\",\"type\":\"bar\",\"width\":0.1,\"x\":[\"What\"],\"y\":[0.00019275515964257685]},{\"text\":\"woman\",\"textposition\":\"auto\",\"type\":\"bar\",\"width\":0.1,\"x\":[\"What\"],\"y\":[0.00019275515964257685]},{\"text\":\"wheel\",\"textposition\":\"auto\",\"type\":\"bar\",\"width\":0.1,\"x\":[\"What\"],\"y\":[0.00019275515964257685]},{\"text\":\"hoarding\",\"textposition\":\"auto\",\"type\":\"bar\",\"width\":0.1,\"x\":[\"What\"],\"y\":[0.00019275515964257685]},{\"text\":\"city\",\"textposition\":\"auto\",\"type\":\"bar\",\"width\":0.1,\"x\":[\"What\"],\"y\":[0.00019275515964257685]},{\"text\":\"fish\",\"textposition\":\"auto\",\"type\":\"bar\",\"width\":0.1,\"x\":[\"What\"],\"y\":[0.00019275515964257685]},{\"text\":\"mobile\",\"textposition\":\"auto\",\"type\":\"bar\",\"width\":0.1,\"x\":[\"What\"],\"y\":[0.00019275515964257685]},{\"text\":\"switchboard\",\"textposition\":\"auto\",\"type\":\"bar\",\"width\":0.1,\"x\":[\"What\"],\"y\":[0.00019275515964257685]},{\"text\":\"lake\",\"textposition\":\"auto\",\"type\":\"bar\",\"width\":0.1,\"x\":[\"What\"],\"y\":[0.00019275515964257685]},{\"text\":\"corner\",\"textposition\":\"auto\",\"type\":\"bar\",\"width\":0.1,\"x\":[\"What\"],\"y\":[0.00019275515964257685]},{\"text\":\"railway\",\"textposition\":\"auto\",\"type\":\"bar\",\"width\":0.1,\"x\":[\"What\"],\"y\":[0.00017898693395382138]},{\"text\":\"western toilet\",\"textposition\":\"auto\",\"type\":\"bar\",\"width\":0.1,\"x\":[\"What\"],\"y\":[0.00017898693395382138]},{\"text\":\"smile\",\"textposition\":\"auto\",\"type\":\"bar\",\"width\":0.1,\"x\":[\"What\"],\"y\":[0.00017898693395382138]},{\"text\":\"metal frame\",\"textposition\":\"auto\",\"type\":\"bar\",\"width\":0.1,\"x\":[\"What\"],\"y\":[0.00017898693395382138]},{\"text\":\"carving\",\"textposition\":\"auto\",\"type\":\"bar\",\"width\":0.1,\"x\":[\"What\"],\"y\":[0.00017898693395382138]},{\"text\":\"snowy mountain\",\"textposition\":\"auto\",\"type\":\"bar\",\"width\":0.1,\"x\":[\"What\"],\"y\":[0.00017898693395382138]},{\"text\":\"fire extinguisher\",\"textposition\":\"auto\",\"type\":\"bar\",\"width\":0.1,\"x\":[\"What\"],\"y\":[0.00017898693395382138]},{\"text\":\"saucer\",\"textposition\":\"auto\",\"type\":\"bar\",\"width\":0.1,\"x\":[\"What\"],\"y\":[0.00017898693395382138]},{\"text\":\"file\",\"textposition\":\"auto\",\"type\":\"bar\",\"width\":0.1,\"x\":[\"What\"],\"y\":[0.00017898693395382138]},{\"text\":\"transparent\",\"textposition\":\"auto\",\"type\":\"bar\",\"width\":0.1,\"x\":[\"What\"],\"y\":[0.00017898693395382138]},{\"text\":\"hall\",\"textposition\":\"auto\",\"type\":\"bar\",\"width\":0.1,\"x\":[\"What\"],\"y\":[0.00017898693395382138]},{\"text\":\"logo\",\"textposition\":\"auto\",\"type\":\"bar\",\"width\":0.1,\"x\":[\"What\"],\"y\":[0.00017898693395382138]},{\"text\":\"tree trunk\",\"textposition\":\"auto\",\"type\":\"bar\",\"width\":0.1,\"x\":[\"What\"],\"y\":[0.00017898693395382138]},{\"text\":\"microphone\",\"textposition\":\"auto\",\"type\":\"bar\",\"width\":0.1,\"x\":[\"What\"],\"y\":[0.00017898693395382138]},{\"text\":\"auditorium\",\"textposition\":\"auto\",\"type\":\"bar\",\"width\":0.1,\"x\":[\"What\"],\"y\":[0.0001652187082650659]},{\"text\":\"garbage bin\",\"textposition\":\"auto\",\"type\":\"bar\",\"width\":0.1,\"x\":[\"What\"],\"y\":[0.0001652187082650659]},{\"text\":\"front\",\"textposition\":\"auto\",\"type\":\"bar\",\"width\":0.1,\"x\":[\"What\"],\"y\":[0.0001652187082650659]},{\"text\":\"antenna\",\"textposition\":\"auto\",\"type\":\"bar\",\"width\":0.1,\"x\":[\"What\"],\"y\":[0.0001652187082650659]},{\"text\":\"smoke\",\"textposition\":\"auto\",\"type\":\"bar\",\"width\":0.1,\"x\":[\"What\"],\"y\":[0.0001652187082650659]},{\"text\":\"lighthouse\",\"textposition\":\"auto\",\"type\":\"bar\",\"width\":0.1,\"x\":[\"What\"],\"y\":[0.0001652187082650659]},{\"text\":\"switch board\",\"textposition\":\"auto\",\"type\":\"bar\",\"width\":0.1,\"x\":[\"What\"],\"y\":[0.0001652187082650659]},{\"text\":\"plant vase\",\"textposition\":\"auto\",\"type\":\"bar\",\"width\":0.1,\"x\":[\"What\"],\"y\":[0.0001652187082650659]},{\"text\":\"kettle\",\"textposition\":\"auto\",\"type\":\"bar\",\"width\":0.1,\"x\":[\"What\"],\"y\":[0.0001652187082650659]},{\"text\":\"head\",\"textposition\":\"auto\",\"type\":\"bar\",\"width\":0.1,\"x\":[\"What\"],\"y\":[0.0001652187082650659]},{\"text\":\"colour\",\"textposition\":\"auto\",\"type\":\"bar\",\"width\":0.1,\"x\":[\"What\"],\"y\":[0.0001652187082650659]},{\"text\":\"gas\",\"textposition\":\"auto\",\"type\":\"bar\",\"width\":0.1,\"x\":[\"What\"],\"y\":[0.0001652187082650659]},{\"text\":\"child\",\"textposition\":\"auto\",\"type\":\"bar\",\"width\":0.1,\"x\":[\"What\"],\"y\":[0.0001652187082650659]},{\"text\":\"drink\",\"textposition\":\"auto\",\"type\":\"bar\",\"width\":0.1,\"x\":[\"What\"],\"y\":[0.0001652187082650659]},{\"text\":\"restaurant\",\"textposition\":\"auto\",\"type\":\"bar\",\"width\":0.1,\"x\":[\"What\"],\"y\":[0.0001652187082650659]},{\"text\":\"candle stand\",\"textposition\":\"auto\",\"type\":\"bar\",\"width\":0.1,\"x\":[\"What\"],\"y\":[0.0001652187082650659]},{\"text\":\"plane\",\"textposition\":\"auto\",\"type\":\"bar\",\"width\":0.1,\"x\":[\"What\"],\"y\":[0.0001652187082650659]},{\"text\":\"display\",\"textposition\":\"auto\",\"type\":\"bar\",\"width\":0.1,\"x\":[\"What\"],\"y\":[0.0001652187082650659]},{\"text\":\"switch\",\"textposition\":\"auto\",\"type\":\"bar\",\"width\":0.1,\"x\":[\"What\"],\"y\":[0.0001652187082650659]},{\"text\":\"toilet paper\",\"textposition\":\"auto\",\"type\":\"bar\",\"width\":0.1,\"x\":[\"What\"],\"y\":[0.0001514504825763104]},{\"text\":\"garbage\",\"textposition\":\"auto\",\"type\":\"bar\",\"width\":0.1,\"x\":[\"What\"],\"y\":[0.0001514504825763104]},{\"text\":\"skyscraper\",\"textposition\":\"auto\",\"type\":\"bar\",\"width\":0.1,\"x\":[\"What\"],\"y\":[0.0001514504825763104]},{\"text\":\"aeroplane\",\"textposition\":\"auto\",\"type\":\"bar\",\"width\":0.1,\"x\":[\"What\"],\"y\":[0.0001514504825763104]},{\"text\":\"barricade\",\"textposition\":\"auto\",\"type\":\"bar\",\"width\":0.1,\"x\":[\"What\"],\"y\":[0.0001514504825763104]},{\"text\":\"kid\",\"textposition\":\"auto\",\"type\":\"bar\",\"width\":0.1,\"x\":[\"What\"],\"y\":[0.0001514504825763104]},{\"text\":\"cradle\",\"textposition\":\"auto\",\"type\":\"bar\",\"width\":0.1,\"x\":[\"What\"],\"y\":[0.0001514504825763104]},{\"text\":\"lamb\",\"textposition\":\"auto\",\"type\":\"bar\",\"width\":0.1,\"x\":[\"What\"],\"y\":[0.0001514504825763104]},{\"text\":\"headset\",\"textposition\":\"auto\",\"type\":\"bar\",\"width\":0.1,\"x\":[\"What\"],\"y\":[0.0001514504825763104]},{\"text\":\"bookshelf\",\"textposition\":\"auto\",\"type\":\"bar\",\"width\":0.1,\"x\":[\"What\"],\"y\":[0.0001514504825763104]},{\"text\":\"liquid\",\"textposition\":\"auto\",\"type\":\"bar\",\"width\":0.1,\"x\":[\"What\"],\"y\":[0.0001514504825763104]},{\"text\":\"bath\",\"textposition\":\"auto\",\"type\":\"bar\",\"width\":0.1,\"x\":[\"What\"],\"y\":[0.0001514504825763104]},{\"text\":\"inflatable\",\"textposition\":\"auto\",\"type\":\"bar\",\"width\":0.1,\"x\":[\"What\"],\"y\":[0.0001514504825763104]},{\"text\":\"indoor\",\"textposition\":\"auto\",\"type\":\"bar\",\"width\":0.1,\"x\":[\"What\"],\"y\":[0.0001514504825763104]},{\"text\":\"dry tree\",\"textposition\":\"auto\",\"type\":\"bar\",\"width\":0.1,\"x\":[\"What\"],\"y\":[0.0001514504825763104]},{\"text\":\"big building\",\"textposition\":\"auto\",\"type\":\"bar\",\"width\":0.1,\"x\":[\"What\"],\"y\":[0.0001514504825763104]},{\"text\":\"depiction\",\"textposition\":\"auto\",\"type\":\"bar\",\"width\":0.1,\"x\":[\"What\"],\"y\":[0.0001514504825763104]},{\"text\":\"cave\",\"textposition\":\"auto\",\"type\":\"bar\",\"width\":0.1,\"x\":[\"What\"],\"y\":[0.0001514504825763104]},{\"text\":\"glass jar\",\"textposition\":\"auto\",\"type\":\"bar\",\"width\":0.1,\"x\":[\"What\"],\"y\":[0.0001514504825763104]},{\"text\":\"cone\",\"textposition\":\"auto\",\"type\":\"bar\",\"width\":0.1,\"x\":[\"What\"],\"y\":[0.0001514504825763104]},{\"text\":\"barrier pole\",\"textposition\":\"auto\",\"type\":\"bar\",\"width\":0.1,\"x\":[\"What\"],\"y\":[0.0001514504825763104]},{\"text\":\"hen\",\"textposition\":\"auto\",\"type\":\"bar\",\"width\":0.1,\"x\":[\"What\"],\"y\":[0.0001514504825763104]},{\"text\":\"wooden door\",\"textposition\":\"auto\",\"type\":\"bar\",\"width\":0.1,\"x\":[\"What\"],\"y\":[0.0001514504825763104]},{\"text\":\"cow\",\"textposition\":\"auto\",\"type\":\"bar\",\"width\":0.1,\"x\":[\"What\"],\"y\":[0.0001514504825763104]},{\"text\":\"goggle\",\"textposition\":\"auto\",\"type\":\"bar\",\"width\":0.1,\"x\":[\"What\"],\"y\":[0.0001514504825763104]},{\"text\":\"tree branch\",\"textposition\":\"auto\",\"type\":\"bar\",\"width\":0.1,\"x\":[\"What\"],\"y\":[0.0001376822568875549]},{\"text\":\"glove\",\"textposition\":\"auto\",\"type\":\"bar\",\"width\":0.1,\"x\":[\"What\"],\"y\":[0.0001376822568875549]},{\"text\":\"cart\",\"textposition\":\"auto\",\"type\":\"bar\",\"width\":0.1,\"x\":[\"What\"],\"y\":[0.0001376822568875549]},{\"text\":\"cup board\",\"textposition\":\"auto\",\"type\":\"bar\",\"width\":0.1,\"x\":[\"What\"],\"y\":[0.0001376822568875549]},{\"text\":\"full\",\"textposition\":\"auto\",\"type\":\"bar\",\"width\":0.1,\"x\":[\"What\"],\"y\":[0.0001376822568875549]},{\"text\":\"line\",\"textposition\":\"auto\",\"type\":\"bar\",\"width\":0.1,\"x\":[\"What\"],\"y\":[0.0001376822568875549]},{\"text\":\"soil\",\"textposition\":\"auto\",\"type\":\"bar\",\"width\":0.1,\"x\":[\"What\"],\"y\":[0.0001376822568875549]},{\"text\":\"wine\",\"textposition\":\"auto\",\"type\":\"bar\",\"width\":0.1,\"x\":[\"What\"],\"y\":[0.0001376822568875549]},{\"text\":\"tin\",\"textposition\":\"auto\",\"type\":\"bar\",\"width\":0.1,\"x\":[\"What\"],\"y\":[0.0001376822568875549]},{\"text\":\"cat\",\"textposition\":\"auto\",\"type\":\"bar\",\"width\":0.1,\"x\":[\"What\"],\"y\":[0.0001376822568875549]},{\"text\":\"shrub\",\"textposition\":\"auto\",\"type\":\"bar\",\"width\":0.1,\"x\":[\"What\"],\"y\":[0.0001376822568875549]},{\"text\":\"crowd\",\"textposition\":\"auto\",\"type\":\"bar\",\"width\":0.1,\"x\":[\"What\"],\"y\":[0.0001376822568875549]},{\"text\":\"packet\",\"textposition\":\"auto\",\"type\":\"bar\",\"width\":0.1,\"x\":[\"What\"],\"y\":[0.0001376822568875549]},{\"text\":\"art\",\"textposition\":\"auto\",\"type\":\"bar\",\"width\":0.1,\"x\":[\"What\"],\"y\":[0.0001376822568875549]},{\"text\":\"stroller\",\"textposition\":\"auto\",\"type\":\"bar\",\"width\":0.1,\"x\":[\"What\"],\"y\":[0.0001376822568875549]},{\"text\":\"bowling\",\"textposition\":\"auto\",\"type\":\"bar\",\"width\":0.1,\"x\":[\"What\"],\"y\":[0.0001376822568875549]},{\"text\":\"spec\",\"textposition\":\"auto\",\"type\":\"bar\",\"width\":0.1,\"x\":[\"What\"],\"y\":[0.0001376822568875549]},{\"text\":\"snooker table\",\"textposition\":\"auto\",\"type\":\"bar\",\"width\":0.1,\"x\":[\"What\"],\"y\":[0.0001376822568875549]},{\"text\":\"beach\",\"textposition\":\"auto\",\"type\":\"bar\",\"width\":0.1,\"x\":[\"What\"],\"y\":[0.0001376822568875549]},{\"text\":\"ceramic\",\"textposition\":\"auto\",\"type\":\"bar\",\"width\":0.1,\"x\":[\"What\"],\"y\":[0.0001376822568875549]},{\"text\":\"planet\",\"textposition\":\"auto\",\"type\":\"bar\",\"width\":0.1,\"x\":[\"What\"],\"y\":[0.0001376822568875549]},{\"text\":\"photograph\",\"textposition\":\"auto\",\"type\":\"bar\",\"width\":0.1,\"x\":[\"What\"],\"y\":[0.0001376822568875549]},{\"text\":\"dome\",\"textposition\":\"auto\",\"type\":\"bar\",\"width\":0.1,\"x\":[\"What\"],\"y\":[0.0001376822568875549]},{\"text\":\"carton box\",\"textposition\":\"auto\",\"type\":\"bar\",\"width\":0.1,\"x\":[\"What\"],\"y\":[0.0001376822568875549]},{\"text\":\"silver\",\"textposition\":\"auto\",\"type\":\"bar\",\"width\":0.1,\"x\":[\"What\"],\"y\":[0.0001239140311987994]},{\"text\":\"golf\",\"textposition\":\"auto\",\"type\":\"bar\",\"width\":0.1,\"x\":[\"What\"],\"y\":[0.0001239140311987994]},{\"text\":\"mattress\",\"textposition\":\"auto\",\"type\":\"bar\",\"width\":0.1,\"x\":[\"What\"],\"y\":[0.0001239140311987994]},{\"text\":\"cake\",\"textposition\":\"auto\",\"type\":\"bar\",\"width\":0.1,\"x\":[\"What\"],\"y\":[0.0001239140311987994]},{\"text\":\"button\",\"textposition\":\"auto\",\"type\":\"bar\",\"width\":0.1,\"x\":[\"What\"],\"y\":[0.0001239140311987994]},{\"text\":\"way\",\"textposition\":\"auto\",\"type\":\"bar\",\"width\":0.1,\"x\":[\"What\"],\"y\":[0.0001239140311987994]},{\"text\":\"arrangement\",\"textposition\":\"auto\",\"type\":\"bar\",\"width\":0.1,\"x\":[\"What\"],\"y\":[0.0001239140311987994]},{\"text\":\"brick wall\",\"textposition\":\"auto\",\"type\":\"bar\",\"width\":0.1,\"x\":[\"What\"],\"y\":[0.0001239140311987994]},{\"text\":\"beautiful\",\"textposition\":\"auto\",\"type\":\"bar\",\"width\":0.1,\"x\":[\"What\"],\"y\":[0.0001239140311987994]},{\"text\":\"bulb\",\"textposition\":\"auto\",\"type\":\"bar\",\"width\":0.1,\"x\":[\"What\"],\"y\":[0.0001239140311987994]},{\"text\":\"meter\",\"textposition\":\"auto\",\"type\":\"bar\",\"width\":0.1,\"x\":[\"What\"],\"y\":[0.0001239140311987994]},{\"text\":\"directional board\",\"textposition\":\"auto\",\"type\":\"bar\",\"width\":0.1,\"x\":[\"What\"],\"y\":[0.0001239140311987994]},{\"text\":\"remote\",\"textposition\":\"auto\",\"type\":\"bar\",\"width\":0.1,\"x\":[\"What\"],\"y\":[0.0001239140311987994]},{\"text\":\"bed lamp\",\"textposition\":\"auto\",\"type\":\"bar\",\"width\":0.1,\"x\":[\"What\"],\"y\":[0.0001239140311987994]},{\"text\":\"balloon\",\"textposition\":\"auto\",\"type\":\"bar\",\"width\":0.1,\"x\":[\"What\"],\"y\":[0.0001239140311987994]},{\"text\":\"baby bed\",\"textposition\":\"auto\",\"type\":\"bar\",\"width\":0.1,\"x\":[\"What\"],\"y\":[0.0001239140311987994]},{\"text\":\"cylinder\",\"textposition\":\"auto\",\"type\":\"bar\",\"width\":0.1,\"x\":[\"What\"],\"y\":[0.0001239140311987994]},{\"text\":\"aquarium\",\"textposition\":\"auto\",\"type\":\"bar\",\"width\":0.1,\"x\":[\"What\"],\"y\":[0.0001239140311987994]},{\"text\":\"chess\",\"textposition\":\"auto\",\"type\":\"bar\",\"width\":0.1,\"x\":[\"What\"],\"y\":[0.0001239140311987994]},{\"text\":\"monument\",\"textposition\":\"auto\",\"type\":\"bar\",\"width\":0.1,\"x\":[\"What\"],\"y\":[0.0001239140311987994]},{\"text\":\"iceberg\",\"textposition\":\"auto\",\"type\":\"bar\",\"width\":0.1,\"x\":[\"What\"],\"y\":[0.0001239140311987994]},{\"text\":\"water fountain\",\"textposition\":\"auto\",\"type\":\"bar\",\"width\":0.1,\"x\":[\"What\"],\"y\":[0.0001239140311987994]},{\"text\":\"display board\",\"textposition\":\"auto\",\"type\":\"bar\",\"width\":0.1,\"x\":[\"What\"],\"y\":[0.0001239140311987994]},{\"text\":\"stained glass\",\"textposition\":\"auto\",\"type\":\"bar\",\"width\":0.1,\"x\":[\"What\"],\"y\":[0.0001239140311987994]},{\"text\":\"present\",\"textposition\":\"auto\",\"type\":\"bar\",\"width\":0.1,\"x\":[\"What\"],\"y\":[0.0001239140311987994]},{\"text\":\"sound box\",\"textposition\":\"auto\",\"type\":\"bar\",\"width\":0.1,\"x\":[\"What\"],\"y\":[0.00011014580551004392]},{\"text\":\"paper roll\",\"textposition\":\"auto\",\"type\":\"bar\",\"width\":0.1,\"x\":[\"What\"],\"y\":[0.00011014580551004392]},{\"text\":\"runway\",\"textposition\":\"auto\",\"type\":\"bar\",\"width\":0.1,\"x\":[\"What\"],\"y\":[0.00011014580551004392]},{\"text\":\"pant\",\"textposition\":\"auto\",\"type\":\"bar\",\"width\":0.1,\"x\":[\"What\"],\"y\":[0.00011014580551004392]},{\"text\":\"flag pole\",\"textposition\":\"auto\",\"type\":\"bar\",\"width\":0.1,\"x\":[\"What\"],\"y\":[0.00011014580551004392]},{\"text\":\"star\",\"textposition\":\"auto\",\"type\":\"bar\",\"width\":0.1,\"x\":[\"What\"],\"y\":[0.00011014580551004392]},{\"text\":\"instrument\",\"textposition\":\"auto\",\"type\":\"bar\",\"width\":0.1,\"x\":[\"What\"],\"y\":[0.00011014580551004392]},{\"text\":\"pool table\",\"textposition\":\"auto\",\"type\":\"bar\",\"width\":0.1,\"x\":[\"What\"],\"y\":[0.00011014580551004392]},{\"text\":\"tennis\",\"textposition\":\"auto\",\"type\":\"bar\",\"width\":0.1,\"x\":[\"What\"],\"y\":[0.00011014580551004392]},{\"text\":\"flush\",\"textposition\":\"auto\",\"type\":\"bar\",\"width\":0.1,\"x\":[\"What\"],\"y\":[0.00011014580551004392]},{\"text\":\"crop\",\"textposition\":\"auto\",\"type\":\"bar\",\"width\":0.1,\"x\":[\"What\"],\"y\":[0.00011014580551004392]},{\"text\":\"petrol\",\"textposition\":\"auto\",\"type\":\"bar\",\"width\":0.1,\"x\":[\"What\"],\"y\":[0.00011014580551004392]},{\"text\":\"doormat\",\"textposition\":\"auto\",\"type\":\"bar\",\"width\":0.1,\"x\":[\"What\"],\"y\":[0.00011014580551004392]},{\"text\":\"motorbike\",\"textposition\":\"auto\",\"type\":\"bar\",\"width\":0.1,\"x\":[\"What\"],\"y\":[0.00011014580551004392]},{\"text\":\"mic\",\"textposition\":\"auto\",\"type\":\"bar\",\"width\":0.1,\"x\":[\"What\"],\"y\":[0.00011014580551004392]},{\"text\":\"library\",\"textposition\":\"auto\",\"type\":\"bar\",\"width\":0.1,\"x\":[\"What\"],\"y\":[0.00011014580551004392]},{\"text\":\"wooden platform\",\"textposition\":\"auto\",\"type\":\"bar\",\"width\":0.1,\"x\":[\"What\"],\"y\":[0.00011014580551004392]},{\"text\":\"door mat\",\"textposition\":\"auto\",\"type\":\"bar\",\"width\":0.1,\"x\":[\"What\"],\"y\":[0.00011014580551004392]},{\"text\":\"panel\",\"textposition\":\"auto\",\"type\":\"bar\",\"width\":0.1,\"x\":[\"What\"],\"y\":[0.00011014580551004392]},{\"text\":\"jug\",\"textposition\":\"auto\",\"type\":\"bar\",\"width\":0.1,\"x\":[\"What\"],\"y\":[0.00011014580551004392]},{\"text\":\"costume\",\"textposition\":\"auto\",\"type\":\"bar\",\"width\":0.1,\"x\":[\"What\"],\"y\":[0.00011014580551004392]},{\"text\":\"canal\",\"textposition\":\"auto\",\"type\":\"bar\",\"width\":0.1,\"x\":[\"What\"],\"y\":[0.00011014580551004392]},{\"text\":\"wall clock\",\"textposition\":\"auto\",\"type\":\"bar\",\"width\":0.1,\"x\":[\"What\"],\"y\":[0.00011014580551004392]},{\"text\":\"crockery\",\"textposition\":\"auto\",\"type\":\"bar\",\"width\":0.1,\"x\":[\"What\"],\"y\":[0.00011014580551004392]},{\"text\":\"water bottle\",\"textposition\":\"auto\",\"type\":\"bar\",\"width\":0.1,\"x\":[\"What\"],\"y\":[0.00011014580551004392]},{\"text\":\"glass bottle\",\"textposition\":\"auto\",\"type\":\"bar\",\"width\":0.1,\"x\":[\"What\"],\"y\":[0.00011014580551004392]},{\"text\":\"iron railing\",\"textposition\":\"auto\",\"type\":\"bar\",\"width\":0.1,\"x\":[\"What\"],\"y\":[0.00011014580551004392]},{\"text\":\"television screen\",\"textposition\":\"auto\",\"type\":\"bar\",\"width\":0.1,\"x\":[\"What\"],\"y\":[0.00011014580551004392]},{\"text\":\"cross symbol\",\"textposition\":\"auto\",\"type\":\"bar\",\"width\":0.1,\"x\":[\"What\"],\"y\":[0.00011014580551004392]},{\"text\":\"windmill\",\"textposition\":\"auto\",\"type\":\"bar\",\"width\":0.1,\"x\":[\"What\"],\"y\":[0.00011014580551004392]},{\"text\":\"lift\",\"textposition\":\"auto\",\"type\":\"bar\",\"width\":0.1,\"x\":[\"What\"],\"y\":[9.637757982128842e-05]},{\"text\":\"wooden bench\",\"textposition\":\"auto\",\"type\":\"bar\",\"width\":0.1,\"x\":[\"What\"],\"y\":[9.637757982128842e-05]},{\"text\":\"meat\",\"textposition\":\"auto\",\"type\":\"bar\",\"width\":0.1,\"x\":[\"What\"],\"y\":[9.637757982128842e-05]},{\"text\":\"counter table\",\"textposition\":\"auto\",\"type\":\"bar\",\"width\":0.1,\"x\":[\"What\"],\"y\":[9.637757982128842e-05]},{\"text\":\"glass tumbler\",\"textposition\":\"auto\",\"type\":\"bar\",\"width\":0.1,\"x\":[\"What\"],\"y\":[9.637757982128842e-05]},{\"text\":\"board game\",\"textposition\":\"auto\",\"type\":\"bar\",\"width\":0.1,\"x\":[\"What\"],\"y\":[9.637757982128842e-05]},{\"text\":\"pane\",\"textposition\":\"auto\",\"type\":\"bar\",\"width\":0.1,\"x\":[\"What\"],\"y\":[9.637757982128842e-05]},{\"text\":\"label\",\"textposition\":\"auto\",\"type\":\"bar\",\"width\":0.1,\"x\":[\"What\"],\"y\":[9.637757982128842e-05]},{\"text\":\"baby\",\"textposition\":\"auto\",\"type\":\"bar\",\"width\":0.1,\"x\":[\"What\"],\"y\":[9.637757982128842e-05]},{\"text\":\"wooden drawer\",\"textposition\":\"auto\",\"type\":\"bar\",\"width\":0.1,\"x\":[\"What\"],\"y\":[9.637757982128842e-05]},{\"text\":\"paint\",\"textposition\":\"auto\",\"type\":\"bar\",\"width\":0.1,\"x\":[\"What\"],\"y\":[9.637757982128842e-05]},{\"text\":\"iron grille\",\"textposition\":\"auto\",\"type\":\"bar\",\"width\":0.1,\"x\":[\"What\"],\"y\":[9.637757982128842e-05]},{\"text\":\"ring\",\"textposition\":\"auto\",\"type\":\"bar\",\"width\":0.1,\"x\":[\"What\"],\"y\":[9.637757982128842e-05]},{\"text\":\"helicopter\",\"textposition\":\"auto\",\"type\":\"bar\",\"width\":0.1,\"x\":[\"What\"],\"y\":[9.637757982128842e-05]},{\"text\":\"metal rack\",\"textposition\":\"auto\",\"type\":\"bar\",\"width\":0.1,\"x\":[\"What\"],\"y\":[9.637757982128842e-05]},{\"text\":\"table fan\",\"textposition\":\"auto\",\"type\":\"bar\",\"width\":0.1,\"x\":[\"What\"],\"y\":[9.637757982128842e-05]},{\"text\":\"hanging\",\"textposition\":\"auto\",\"type\":\"bar\",\"width\":0.1,\"x\":[\"What\"],\"y\":[9.637757982128842e-05]},{\"text\":\"white wall\",\"textposition\":\"auto\",\"type\":\"bar\",\"width\":0.1,\"x\":[\"What\"],\"y\":[9.637757982128842e-05]},{\"text\":\"stem\",\"textposition\":\"auto\",\"type\":\"bar\",\"width\":0.1,\"x\":[\"What\"],\"y\":[9.637757982128842e-05]},{\"text\":\"toilet bowl\",\"textposition\":\"auto\",\"type\":\"bar\",\"width\":0.1,\"x\":[\"What\"],\"y\":[9.637757982128842e-05]},{\"text\":\"showpiece\",\"textposition\":\"auto\",\"type\":\"bar\",\"width\":0.1,\"x\":[\"What\"],\"y\":[9.637757982128842e-05]},{\"text\":\"pair\",\"textposition\":\"auto\",\"type\":\"bar\",\"width\":0.1,\"x\":[\"What\"],\"y\":[9.637757982128842e-05]},{\"text\":\"wooden pole\",\"textposition\":\"auto\",\"type\":\"bar\",\"width\":0.1,\"x\":[\"What\"],\"y\":[9.637757982128842e-05]},{\"text\":\"scooter\",\"textposition\":\"auto\",\"type\":\"bar\",\"width\":0.1,\"x\":[\"What\"],\"y\":[9.637757982128842e-05]},{\"text\":\"tall building\",\"textposition\":\"auto\",\"type\":\"bar\",\"width\":0.1,\"x\":[\"What\"],\"y\":[9.637757982128842e-05]},{\"text\":\"book rack\",\"textposition\":\"auto\",\"type\":\"bar\",\"width\":0.1,\"x\":[\"What\"],\"y\":[8.260935413253294e-05]},{\"text\":\"dishwasher\",\"textposition\":\"auto\",\"type\":\"bar\",\"width\":0.1,\"x\":[\"What\"],\"y\":[8.260935413253294e-05]},{\"text\":\"flush toilet\",\"textposition\":\"auto\",\"type\":\"bar\",\"width\":0.1,\"x\":[\"What\"],\"y\":[8.260935413253294e-05]},{\"text\":\"painting frame\",\"textposition\":\"auto\",\"type\":\"bar\",\"width\":0.1,\"x\":[\"What\"],\"y\":[8.260935413253294e-05]},{\"text\":\"dry stem\",\"textposition\":\"auto\",\"type\":\"bar\",\"width\":0.1,\"x\":[\"What\"],\"y\":[8.260935413253294e-05]},{\"text\":\"teapoy\",\"textposition\":\"auto\",\"type\":\"bar\",\"width\":0.1,\"x\":[\"What\"],\"y\":[8.260935413253294e-05]},{\"text\":\"water tap\",\"textposition\":\"auto\",\"type\":\"bar\",\"width\":0.1,\"x\":[\"What\"],\"y\":[8.260935413253294e-05]},{\"text\":\"wooden board\",\"textposition\":\"auto\",\"type\":\"bar\",\"width\":0.1,\"x\":[\"What\"],\"y\":[8.260935413253294e-05]},{\"text\":\"factory\",\"textposition\":\"auto\",\"type\":\"bar\",\"width\":0.1,\"x\":[\"What\"],\"y\":[8.260935413253294e-05]},{\"text\":\"conference room\",\"textposition\":\"auto\",\"type\":\"bar\",\"width\":0.1,\"x\":[\"What\"],\"y\":[8.260935413253294e-05]},{\"text\":\"kitchen cabinet\",\"textposition\":\"auto\",\"type\":\"bar\",\"width\":0.1,\"x\":[\"What\"],\"y\":[8.260935413253294e-05]},{\"text\":\"airport\",\"textposition\":\"auto\",\"type\":\"bar\",\"width\":0.1,\"x\":[\"What\"],\"y\":[8.260935413253294e-05]},{\"text\":\"advertisement\",\"textposition\":\"auto\",\"type\":\"bar\",\"width\":0.1,\"x\":[\"What\"],\"y\":[8.260935413253294e-05]},{\"text\":\"safety cone\",\"textposition\":\"auto\",\"type\":\"bar\",\"width\":0.1,\"x\":[\"What\"],\"y\":[8.260935413253294e-05]},{\"text\":\"shade\",\"textposition\":\"auto\",\"type\":\"bar\",\"width\":0.1,\"x\":[\"What\"],\"y\":[8.260935413253294e-05]},{\"text\":\"bed room\",\"textposition\":\"auto\",\"type\":\"bar\",\"width\":0.1,\"x\":[\"What\"],\"y\":[8.260935413253294e-05]},{\"text\":\"designer\",\"textposition\":\"auto\",\"type\":\"bar\",\"width\":0.1,\"x\":[\"What\"],\"y\":[8.260935413253294e-05]},{\"text\":\"speaker box\",\"textposition\":\"auto\",\"type\":\"bar\",\"width\":0.1,\"x\":[\"What\"],\"y\":[8.260935413253294e-05]},{\"text\":\"creeper\",\"textposition\":\"auto\",\"type\":\"bar\",\"width\":0.1,\"x\":[\"What\"],\"y\":[8.260935413253294e-05]},{\"text\":\"boundary wall\",\"textposition\":\"auto\",\"type\":\"bar\",\"width\":0.1,\"x\":[\"What\"],\"y\":[8.260935413253294e-05]},{\"text\":\"graveyard\",\"textposition\":\"auto\",\"type\":\"bar\",\"width\":0.1,\"x\":[\"What\"],\"y\":[8.260935413253294e-05]},{\"text\":\"dolphin\",\"textposition\":\"auto\",\"type\":\"bar\",\"width\":0.1,\"x\":[\"What\"],\"y\":[8.260935413253294e-05]},{\"text\":\"ancient\",\"textposition\":\"auto\",\"type\":\"bar\",\"width\":0.1,\"x\":[\"What\"],\"y\":[8.260935413253294e-05]},{\"text\":\"coffee table\",\"textposition\":\"auto\",\"type\":\"bar\",\"width\":0.1,\"x\":[\"What\"],\"y\":[8.260935413253294e-05]},{\"text\":\"white colour\",\"textposition\":\"auto\",\"type\":\"bar\",\"width\":0.1,\"x\":[\"What\"],\"y\":[8.260935413253294e-05]},{\"text\":\"piece\",\"textposition\":\"auto\",\"type\":\"bar\",\"width\":0.1,\"x\":[\"What\"],\"y\":[8.260935413253294e-05]},{\"text\":\"duck\",\"textposition\":\"auto\",\"type\":\"bar\",\"width\":0.1,\"x\":[\"What\"],\"y\":[8.260935413253294e-05]},{\"text\":\"gym equipment\",\"textposition\":\"auto\",\"type\":\"bar\",\"width\":0.1,\"x\":[\"What\"],\"y\":[8.260935413253294e-05]},{\"text\":\"rug\",\"textposition\":\"auto\",\"type\":\"bar\",\"width\":0.1,\"x\":[\"What\"],\"y\":[8.260935413253294e-05]},{\"text\":\"clay\",\"textposition\":\"auto\",\"type\":\"bar\",\"width\":0.1,\"x\":[\"What\"],\"y\":[6.884112844377745e-05]},{\"text\":\"cage\",\"textposition\":\"auto\",\"type\":\"bar\",\"width\":0.1,\"x\":[\"What\"],\"y\":[6.884112844377745e-05]},{\"text\":\"painting board\",\"textposition\":\"auto\",\"type\":\"bar\",\"width\":0.1,\"x\":[\"What\"],\"y\":[6.884112844377745e-05]},{\"text\":\"stair railing\",\"textposition\":\"auto\",\"type\":\"bar\",\"width\":0.1,\"x\":[\"What\"],\"y\":[6.884112844377745e-05]},{\"text\":\"tape\",\"textposition\":\"auto\",\"type\":\"bar\",\"width\":0.1,\"x\":[\"What\"],\"y\":[6.884112844377745e-05]},{\"text\":\"park\",\"textposition\":\"auto\",\"type\":\"bar\",\"width\":0.1,\"x\":[\"What\"],\"y\":[6.884112844377745e-05]},{\"text\":\"wave\",\"textposition\":\"auto\",\"type\":\"bar\",\"width\":0.1,\"x\":[\"What\"],\"y\":[6.884112844377745e-05]},{\"text\":\"glass shelf\",\"textposition\":\"auto\",\"type\":\"bar\",\"width\":0.1,\"x\":[\"What\"],\"y\":[6.884112844377745e-05]},{\"text\":\"handrail\",\"textposition\":\"auto\",\"type\":\"bar\",\"width\":0.1,\"x\":[\"What\"],\"y\":[6.884112844377745e-05]},{\"text\":\"kitchen platform\",\"textposition\":\"auto\",\"type\":\"bar\",\"width\":0.1,\"x\":[\"What\"],\"y\":[6.884112844377745e-05]},{\"text\":\"shampoo bottle\",\"textposition\":\"auto\",\"type\":\"bar\",\"width\":0.1,\"x\":[\"What\"],\"y\":[6.884112844377745e-05]},{\"text\":\"exhaust fan\",\"textposition\":\"auto\",\"type\":\"bar\",\"width\":0.1,\"x\":[\"What\"],\"y\":[6.884112844377745e-05]},{\"text\":\"ramp\",\"textposition\":\"auto\",\"type\":\"bar\",\"width\":0.1,\"x\":[\"What\"],\"y\":[6.884112844377745e-05]},{\"text\":\"dish antenna\",\"textposition\":\"auto\",\"type\":\"bar\",\"width\":0.1,\"x\":[\"What\"],\"y\":[6.884112844377745e-05]},{\"text\":\"leg\",\"textposition\":\"auto\",\"type\":\"bar\",\"width\":0.1,\"x\":[\"What\"],\"y\":[6.884112844377745e-05]},{\"text\":\"newspaper\",\"textposition\":\"auto\",\"type\":\"bar\",\"width\":0.1,\"x\":[\"What\"],\"y\":[6.884112844377745e-05]},{\"text\":\"restroom\",\"textposition\":\"auto\",\"type\":\"bar\",\"width\":0.1,\"x\":[\"What\"],\"y\":[6.884112844377745e-05]},{\"text\":\"various\",\"textposition\":\"auto\",\"type\":\"bar\",\"width\":0.1,\"x\":[\"What\"],\"y\":[6.884112844377745e-05]},{\"text\":\"card box\",\"textposition\":\"auto\",\"type\":\"bar\",\"width\":0.1,\"x\":[\"What\"],\"y\":[6.884112844377745e-05]},{\"text\":\"table tennis\",\"textposition\":\"auto\",\"type\":\"bar\",\"width\":0.1,\"x\":[\"What\"],\"y\":[6.884112844377745e-05]},{\"text\":\"bell\",\"textposition\":\"auto\",\"type\":\"bar\",\"width\":0.1,\"x\":[\"What\"],\"y\":[6.884112844377745e-05]},{\"text\":\"playground\",\"textposition\":\"auto\",\"type\":\"bar\",\"width\":0.1,\"x\":[\"What\"],\"y\":[6.884112844377745e-05]},{\"text\":\"platter\",\"textposition\":\"auto\",\"type\":\"bar\",\"width\":0.1,\"x\":[\"What\"],\"y\":[6.884112844377745e-05]},{\"text\":\"pedestrian\",\"textposition\":\"auto\",\"type\":\"bar\",\"width\":0.1,\"x\":[\"What\"],\"y\":[6.884112844377745e-05]},{\"text\":\"model\",\"textposition\":\"auto\",\"type\":\"bar\",\"width\":0.1,\"x\":[\"What\"],\"y\":[6.884112844377745e-05]},{\"text\":\"belt\",\"textposition\":\"auto\",\"type\":\"bar\",\"width\":0.1,\"x\":[\"What\"],\"y\":[6.884112844377745e-05]},{\"text\":\"chest\",\"textposition\":\"auto\",\"type\":\"bar\",\"width\":0.1,\"x\":[\"What\"],\"y\":[6.884112844377745e-05]},{\"text\":\"steering\",\"textposition\":\"auto\",\"type\":\"bar\",\"width\":0.1,\"x\":[\"What\"],\"y\":[6.884112844377745e-05]},{\"text\":\"metal railing\",\"textposition\":\"auto\",\"type\":\"bar\",\"width\":0.1,\"x\":[\"What\"],\"y\":[6.884112844377745e-05]},{\"text\":\"bunk bed\",\"textposition\":\"auto\",\"type\":\"bar\",\"width\":0.1,\"x\":[\"What\"],\"y\":[6.884112844377745e-05]},{\"text\":\"court\",\"textposition\":\"auto\",\"type\":\"bar\",\"width\":0.1,\"x\":[\"What\"],\"y\":[6.884112844377745e-05]},{\"text\":\"kitchen room\",\"textposition\":\"auto\",\"type\":\"bar\",\"width\":0.1,\"x\":[\"What\"],\"y\":[6.884112844377745e-05]},{\"text\":\"aerial\",\"textposition\":\"auto\",\"type\":\"bar\",\"width\":0.1,\"x\":[\"What\"],\"y\":[6.884112844377745e-05]},{\"text\":\"scenery\",\"textposition\":\"auto\",\"type\":\"bar\",\"width\":0.1,\"x\":[\"What\"],\"y\":[5.507290275502196e-05]},{\"text\":\"swing\",\"textposition\":\"auto\",\"type\":\"bar\",\"width\":0.1,\"x\":[\"What\"],\"y\":[5.507290275502196e-05]},{\"text\":\"light house\",\"textposition\":\"auto\",\"type\":\"bar\",\"width\":0.1,\"x\":[\"What\"],\"y\":[5.507290275502196e-05]},{\"text\":\"windshield\",\"textposition\":\"auto\",\"type\":\"bar\",\"width\":0.1,\"x\":[\"What\"],\"y\":[5.507290275502196e-05]},{\"text\":\"magazine\",\"textposition\":\"auto\",\"type\":\"bar\",\"width\":0.1,\"x\":[\"What\"],\"y\":[5.507290275502196e-05]},{\"text\":\"theater\",\"textposition\":\"auto\",\"type\":\"bar\",\"width\":0.1,\"x\":[\"What\"],\"y\":[5.507290275502196e-05]},{\"text\":\"mall\",\"textposition\":\"auto\",\"type\":\"bar\",\"width\":0.1,\"x\":[\"What\"],\"y\":[5.507290275502196e-05]},{\"text\":\"scrap\",\"textposition\":\"auto\",\"type\":\"bar\",\"width\":0.1,\"x\":[\"What\"],\"y\":[5.507290275502196e-05]},{\"text\":\"scarf\",\"textposition\":\"auto\",\"type\":\"bar\",\"width\":0.1,\"x\":[\"What\"],\"y\":[5.507290275502196e-05]},{\"text\":\"direction\",\"textposition\":\"auto\",\"type\":\"bar\",\"width\":0.1,\"x\":[\"What\"],\"y\":[5.507290275502196e-05]},{\"text\":\"picket fence\",\"textposition\":\"auto\",\"type\":\"bar\",\"width\":0.1,\"x\":[\"What\"],\"y\":[5.507290275502196e-05]},{\"text\":\"stuff\",\"textposition\":\"auto\",\"type\":\"bar\",\"width\":0.1,\"x\":[\"What\"],\"y\":[5.507290275502196e-05]},{\"text\":\"elevator\",\"textposition\":\"auto\",\"type\":\"bar\",\"width\":0.1,\"x\":[\"What\"],\"y\":[5.507290275502196e-05]},{\"text\":\"teapot\",\"textposition\":\"auto\",\"type\":\"bar\",\"width\":0.1,\"x\":[\"What\"],\"y\":[5.507290275502196e-05]},{\"text\":\"shower room\",\"textposition\":\"auto\",\"type\":\"bar\",\"width\":0.1,\"x\":[\"What\"],\"y\":[5.507290275502196e-05]},{\"text\":\"parking\",\"textposition\":\"auto\",\"type\":\"bar\",\"width\":0.1,\"x\":[\"What\"],\"y\":[5.507290275502196e-05]},{\"text\":\"draw\",\"textposition\":\"auto\",\"type\":\"bar\",\"width\":0.1,\"x\":[\"What\"],\"y\":[5.507290275502196e-05]},{\"text\":\"closet\",\"textposition\":\"auto\",\"type\":\"bar\",\"width\":0.1,\"x\":[\"What\"],\"y\":[5.507290275502196e-05]},{\"text\":\"water surface\",\"textposition\":\"auto\",\"type\":\"bar\",\"width\":0.1,\"x\":[\"What\"],\"y\":[5.507290275502196e-05]},{\"text\":\"bedside table\",\"textposition\":\"auto\",\"type\":\"bar\",\"width\":0.1,\"x\":[\"What\"],\"y\":[5.507290275502196e-05]},{\"text\":\"dais\",\"textposition\":\"auto\",\"type\":\"bar\",\"width\":0.1,\"x\":[\"What\"],\"y\":[5.507290275502196e-05]},{\"text\":\"induction\",\"textposition\":\"auto\",\"type\":\"bar\",\"width\":0.1,\"x\":[\"What\"],\"y\":[5.507290275502196e-05]},{\"text\":\"hand railing\",\"textposition\":\"auto\",\"type\":\"bar\",\"width\":0.1,\"x\":[\"What\"],\"y\":[5.507290275502196e-05]},{\"text\":\"fire place\",\"textposition\":\"auto\",\"type\":\"bar\",\"width\":0.1,\"x\":[\"What\"],\"y\":[5.507290275502196e-05]},{\"text\":\"dust bin\",\"textposition\":\"auto\",\"type\":\"bar\",\"width\":0.1,\"x\":[\"What\"],\"y\":[5.507290275502196e-05]},{\"text\":\"luggage bag\",\"textposition\":\"auto\",\"type\":\"bar\",\"width\":0.1,\"x\":[\"What\"],\"y\":[5.507290275502196e-05]},{\"text\":\"people stand\",\"textposition\":\"auto\",\"type\":\"bar\",\"width\":0.1,\"x\":[\"What\"],\"y\":[5.507290275502196e-05]},{\"text\":\"pen holder\",\"textposition\":\"auto\",\"type\":\"bar\",\"width\":0.1,\"x\":[\"What\"],\"y\":[5.507290275502196e-05]},{\"text\":\"blackboard\",\"textposition\":\"auto\",\"type\":\"bar\",\"width\":0.1,\"x\":[\"What\"],\"y\":[5.507290275502196e-05]},{\"text\":\"fork\",\"textposition\":\"auto\",\"type\":\"bar\",\"width\":0.1,\"x\":[\"What\"],\"y\":[5.507290275502196e-05]},{\"text\":\"slope\",\"textposition\":\"auto\",\"type\":\"bar\",\"width\":0.1,\"x\":[\"What\"],\"y\":[5.507290275502196e-05]},{\"text\":\"left\",\"textposition\":\"auto\",\"type\":\"bar\",\"width\":0.1,\"x\":[\"What\"],\"y\":[5.507290275502196e-05]},{\"text\":\"fire hydrant\",\"textposition\":\"auto\",\"type\":\"bar\",\"width\":0.1,\"x\":[\"What\"],\"y\":[5.507290275502196e-05]},{\"text\":\"drum\",\"textposition\":\"auto\",\"type\":\"bar\",\"width\":0.1,\"x\":[\"What\"],\"y\":[5.507290275502196e-05]},{\"text\":\"chess board\",\"textposition\":\"auto\",\"type\":\"bar\",\"width\":0.1,\"x\":[\"What\"],\"y\":[5.507290275502196e-05]},{\"text\":\"machinery\",\"textposition\":\"auto\",\"type\":\"bar\",\"width\":0.1,\"x\":[\"What\"],\"y\":[4.130467706626647e-05]},{\"text\":\"indoor stadium\",\"textposition\":\"auto\",\"type\":\"bar\",\"width\":0.1,\"x\":[\"What\"],\"y\":[4.130467706626647e-05]},{\"text\":\"ribbon\",\"textposition\":\"auto\",\"type\":\"bar\",\"width\":0.1,\"x\":[\"What\"],\"y\":[4.130467706626647e-05]},{\"text\":\"lid\",\"textposition\":\"auto\",\"type\":\"bar\",\"width\":0.1,\"x\":[\"What\"],\"y\":[4.130467706626647e-05]},{\"text\":\"sea shore\",\"textposition\":\"auto\",\"type\":\"bar\",\"width\":0.1,\"x\":[\"What\"],\"y\":[4.130467706626647e-05]},{\"text\":\"roofing\",\"textposition\":\"auto\",\"type\":\"bar\",\"width\":0.1,\"x\":[\"What\"],\"y\":[4.130467706626647e-05]},{\"text\":\"flight\",\"textposition\":\"auto\",\"type\":\"bar\",\"width\":0.1,\"x\":[\"What\"],\"y\":[4.130467706626647e-05]},{\"text\":\"suitcase\",\"textposition\":\"auto\",\"type\":\"bar\",\"width\":0.1,\"x\":[\"What\"],\"y\":[4.130467706626647e-05]},{\"text\":\"girl\",\"textposition\":\"auto\",\"type\":\"bar\",\"width\":0.1,\"x\":[\"What\"],\"y\":[4.130467706626647e-05]},{\"text\":\"quilt\",\"textposition\":\"auto\",\"type\":\"bar\",\"width\":0.1,\"x\":[\"What\"],\"y\":[4.130467706626647e-05]},{\"text\":\"waste\",\"textposition\":\"auto\",\"type\":\"bar\",\"width\":0.1,\"x\":[\"What\"],\"y\":[4.130467706626647e-05]},{\"text\":\"farm\",\"textposition\":\"auto\",\"type\":\"bar\",\"width\":0.1,\"x\":[\"What\"],\"y\":[2.753645137751098e-05]},{\"text\":\"wooden piece\",\"textposition\":\"auto\",\"type\":\"bar\",\"width\":0.1,\"x\":[\"What\"],\"y\":[2.753645137751098e-05]},{\"text\":\"electric cable\",\"textposition\":\"auto\",\"type\":\"bar\",\"width\":0.1,\"x\":[\"What\"],\"y\":[2.753645137751098e-05]},{\"text\":\"self\",\"textposition\":\"auto\",\"type\":\"bar\",\"width\":0.1,\"x\":[\"What\"],\"y\":[2.753645137751098e-05]},{\"text\":\"people walk\",\"textposition\":\"auto\",\"type\":\"bar\",\"width\":0.1,\"x\":[\"What\"],\"y\":[2.753645137751098e-05]},{\"text\":\"cistern\",\"textposition\":\"auto\",\"type\":\"bar\",\"width\":0.1,\"x\":[\"What\"],\"y\":[2.753645137751098e-05]},{\"text\":\"moss\",\"textposition\":\"auto\",\"type\":\"bar\",\"width\":0.1,\"x\":[\"What\"],\"y\":[2.753645137751098e-05]},{\"text\":\"tyre\",\"textposition\":\"auto\",\"type\":\"bar\",\"width\":0.1,\"x\":[\"What\"],\"y\":[2.753645137751098e-05]},{\"text\":\"forest\",\"textposition\":\"auto\",\"type\":\"bar\",\"width\":0.1,\"x\":[\"What\"],\"y\":[2.753645137751098e-05]},{\"text\":\"space\",\"textposition\":\"auto\",\"type\":\"bar\",\"width\":0.1,\"x\":[\"What\"],\"y\":[2.753645137751098e-05]},{\"text\":\"People\",\"textposition\":\"auto\",\"type\":\"bar\",\"width\":0.1,\"x\":[\"What\"],\"y\":[2.753645137751098e-05]},{\"text\":\"people sit\",\"textposition\":\"auto\",\"type\":\"bar\",\"width\":0.1,\"x\":[\"What\"],\"y\":[1.376822568875549e-05]},{\"text\":\"boy\",\"textposition\":\"auto\",\"type\":\"bar\",\"width\":0.1,\"x\":[\"What\"],\"y\":[1.376822568875549e-05]},{\"text\":\"opposite\",\"textposition\":\"auto\",\"type\":\"bar\",\"width\":0.1,\"x\":[\"What\"],\"y\":[1.376822568875549e-05]},{\"text\":\"night\",\"textposition\":\"auto\",\"type\":\"bar\",\"width\":0.1,\"x\":[\"What\"],\"y\":[1.376822568875549e-05]},{\"text\":\"bollard\",\"textposition\":\"auto\",\"type\":\"bar\",\"width\":0.1,\"x\":[\"What\"],\"y\":[1.376822568875549e-05]},{\"text\":\"centre\",\"textposition\":\"auto\",\"type\":\"bar\",\"width\":0.1,\"x\":[\"What\"],\"y\":[1.376822568875549e-05]},{\"text\":\"lot\",\"textposition\":\"auto\",\"type\":\"bar\",\"width\":0.1,\"x\":[\"What\"],\"y\":[1.376822568875549e-05]}],                        {\"barmode\":\"stack\",\"template\":{\"data\":{\"bar\":[{\"error_x\":{\"color\":\"#2a3f5f\"},\"error_y\":{\"color\":\"#2a3f5f\"},\"marker\":{\"line\":{\"color\":\"#E5ECF6\",\"width\":0.5},\"pattern\":{\"fillmode\":\"overlay\",\"size\":10,\"solidity\":0.2}},\"type\":\"bar\"}],\"barpolar\":[{\"marker\":{\"line\":{\"color\":\"#E5ECF6\",\"width\":0.5},\"pattern\":{\"fillmode\":\"overlay\",\"size\":10,\"solidity\":0.2}},\"type\":\"barpolar\"}],\"carpet\":[{\"aaxis\":{\"endlinecolor\":\"#2a3f5f\",\"gridcolor\":\"white\",\"linecolor\":\"white\",\"minorgridcolor\":\"white\",\"startlinecolor\":\"#2a3f5f\"},\"baxis\":{\"endlinecolor\":\"#2a3f5f\",\"gridcolor\":\"white\",\"linecolor\":\"white\",\"minorgridcolor\":\"white\",\"startlinecolor\":\"#2a3f5f\"},\"type\":\"carpet\"}],\"choropleth\":[{\"colorbar\":{\"outlinewidth\":0,\"ticks\":\"\"},\"type\":\"choropleth\"}],\"contour\":[{\"colorbar\":{\"outlinewidth\":0,\"ticks\":\"\"},\"colorscale\":[[0.0,\"#0d0887\"],[0.1111111111111111,\"#46039f\"],[0.2222222222222222,\"#7201a8\"],[0.3333333333333333,\"#9c179e\"],[0.4444444444444444,\"#bd3786\"],[0.5555555555555556,\"#d8576b\"],[0.6666666666666666,\"#ed7953\"],[0.7777777777777778,\"#fb9f3a\"],[0.8888888888888888,\"#fdca26\"],[1.0,\"#f0f921\"]],\"type\":\"contour\"}],\"contourcarpet\":[{\"colorbar\":{\"outlinewidth\":0,\"ticks\":\"\"},\"type\":\"contourcarpet\"}],\"heatmap\":[{\"colorbar\":{\"outlinewidth\":0,\"ticks\":\"\"},\"colorscale\":[[0.0,\"#0d0887\"],[0.1111111111111111,\"#46039f\"],[0.2222222222222222,\"#7201a8\"],[0.3333333333333333,\"#9c179e\"],[0.4444444444444444,\"#bd3786\"],[0.5555555555555556,\"#d8576b\"],[0.6666666666666666,\"#ed7953\"],[0.7777777777777778,\"#fb9f3a\"],[0.8888888888888888,\"#fdca26\"],[1.0,\"#f0f921\"]],\"type\":\"heatmap\"}],\"heatmapgl\":[{\"colorbar\":{\"outlinewidth\":0,\"ticks\":\"\"},\"colorscale\":[[0.0,\"#0d0887\"],[0.1111111111111111,\"#46039f\"],[0.2222222222222222,\"#7201a8\"],[0.3333333333333333,\"#9c179e\"],[0.4444444444444444,\"#bd3786\"],[0.5555555555555556,\"#d8576b\"],[0.6666666666666666,\"#ed7953\"],[0.7777777777777778,\"#fb9f3a\"],[0.8888888888888888,\"#fdca26\"],[1.0,\"#f0f921\"]],\"type\":\"heatmapgl\"}],\"histogram\":[{\"marker\":{\"pattern\":{\"fillmode\":\"overlay\",\"size\":10,\"solidity\":0.2}},\"type\":\"histogram\"}],\"histogram2d\":[{\"colorbar\":{\"outlinewidth\":0,\"ticks\":\"\"},\"colorscale\":[[0.0,\"#0d0887\"],[0.1111111111111111,\"#46039f\"],[0.2222222222222222,\"#7201a8\"],[0.3333333333333333,\"#9c179e\"],[0.4444444444444444,\"#bd3786\"],[0.5555555555555556,\"#d8576b\"],[0.6666666666666666,\"#ed7953\"],[0.7777777777777778,\"#fb9f3a\"],[0.8888888888888888,\"#fdca26\"],[1.0,\"#f0f921\"]],\"type\":\"histogram2d\"}],\"histogram2dcontour\":[{\"colorbar\":{\"outlinewidth\":0,\"ticks\":\"\"},\"colorscale\":[[0.0,\"#0d0887\"],[0.1111111111111111,\"#46039f\"],[0.2222222222222222,\"#7201a8\"],[0.3333333333333333,\"#9c179e\"],[0.4444444444444444,\"#bd3786\"],[0.5555555555555556,\"#d8576b\"],[0.6666666666666666,\"#ed7953\"],[0.7777777777777778,\"#fb9f3a\"],[0.8888888888888888,\"#fdca26\"],[1.0,\"#f0f921\"]],\"type\":\"histogram2dcontour\"}],\"mesh3d\":[{\"colorbar\":{\"outlinewidth\":0,\"ticks\":\"\"},\"type\":\"mesh3d\"}],\"parcoords\":[{\"line\":{\"colorbar\":{\"outlinewidth\":0,\"ticks\":\"\"}},\"type\":\"parcoords\"}],\"pie\":[{\"automargin\":true,\"type\":\"pie\"}],\"scatter\":[{\"marker\":{\"colorbar\":{\"outlinewidth\":0,\"ticks\":\"\"}},\"type\":\"scatter\"}],\"scatter3d\":[{\"line\":{\"colorbar\":{\"outlinewidth\":0,\"ticks\":\"\"}},\"marker\":{\"colorbar\":{\"outlinewidth\":0,\"ticks\":\"\"}},\"type\":\"scatter3d\"}],\"scattercarpet\":[{\"marker\":{\"colorbar\":{\"outlinewidth\":0,\"ticks\":\"\"}},\"type\":\"scattercarpet\"}],\"scattergeo\":[{\"marker\":{\"colorbar\":{\"outlinewidth\":0,\"ticks\":\"\"}},\"type\":\"scattergeo\"}],\"scattergl\":[{\"marker\":{\"colorbar\":{\"outlinewidth\":0,\"ticks\":\"\"}},\"type\":\"scattergl\"}],\"scattermapbox\":[{\"marker\":{\"colorbar\":{\"outlinewidth\":0,\"ticks\":\"\"}},\"type\":\"scattermapbox\"}],\"scatterpolar\":[{\"marker\":{\"colorbar\":{\"outlinewidth\":0,\"ticks\":\"\"}},\"type\":\"scatterpolar\"}],\"scatterpolargl\":[{\"marker\":{\"colorbar\":{\"outlinewidth\":0,\"ticks\":\"\"}},\"type\":\"scatterpolargl\"}],\"scatterternary\":[{\"marker\":{\"colorbar\":{\"outlinewidth\":0,\"ticks\":\"\"}},\"type\":\"scatterternary\"}],\"surface\":[{\"colorbar\":{\"outlinewidth\":0,\"ticks\":\"\"},\"colorscale\":[[0.0,\"#0d0887\"],[0.1111111111111111,\"#46039f\"],[0.2222222222222222,\"#7201a8\"],[0.3333333333333333,\"#9c179e\"],[0.4444444444444444,\"#bd3786\"],[0.5555555555555556,\"#d8576b\"],[0.6666666666666666,\"#ed7953\"],[0.7777777777777778,\"#fb9f3a\"],[0.8888888888888888,\"#fdca26\"],[1.0,\"#f0f921\"]],\"type\":\"surface\"}],\"table\":[{\"cells\":{\"fill\":{\"color\":\"#EBF0F8\"},\"line\":{\"color\":\"white\"}},\"header\":{\"fill\":{\"color\":\"#C8D4E3\"},\"line\":{\"color\":\"white\"}},\"type\":\"table\"}]},\"layout\":{\"annotationdefaults\":{\"arrowcolor\":\"#2a3f5f\",\"arrowhead\":0,\"arrowwidth\":1},\"autotypenumbers\":\"strict\",\"coloraxis\":{\"colorbar\":{\"outlinewidth\":0,\"ticks\":\"\"}},\"colorscale\":{\"diverging\":[[0,\"#8e0152\"],[0.1,\"#c51b7d\"],[0.2,\"#de77ae\"],[0.3,\"#f1b6da\"],[0.4,\"#fde0ef\"],[0.5,\"#f7f7f7\"],[0.6,\"#e6f5d0\"],[0.7,\"#b8e186\"],[0.8,\"#7fbc41\"],[0.9,\"#4d9221\"],[1,\"#276419\"]],\"sequential\":[[0.0,\"#0d0887\"],[0.1111111111111111,\"#46039f\"],[0.2222222222222222,\"#7201a8\"],[0.3333333333333333,\"#9c179e\"],[0.4444444444444444,\"#bd3786\"],[0.5555555555555556,\"#d8576b\"],[0.6666666666666666,\"#ed7953\"],[0.7777777777777778,\"#fb9f3a\"],[0.8888888888888888,\"#fdca26\"],[1.0,\"#f0f921\"]],\"sequentialminus\":[[0.0,\"#0d0887\"],[0.1111111111111111,\"#46039f\"],[0.2222222222222222,\"#7201a8\"],[0.3333333333333333,\"#9c179e\"],[0.4444444444444444,\"#bd3786\"],[0.5555555555555556,\"#d8576b\"],[0.6666666666666666,\"#ed7953\"],[0.7777777777777778,\"#fb9f3a\"],[0.8888888888888888,\"#fdca26\"],[1.0,\"#f0f921\"]]},\"colorway\":[\"#636efa\",\"#EF553B\",\"#00cc96\",\"#ab63fa\",\"#FFA15A\",\"#19d3f3\",\"#FF6692\",\"#B6E880\",\"#FF97FF\",\"#FECB52\"],\"font\":{\"color\":\"#2a3f5f\"},\"geo\":{\"bgcolor\":\"white\",\"lakecolor\":\"white\",\"landcolor\":\"#E5ECF6\",\"showlakes\":true,\"showland\":true,\"subunitcolor\":\"white\"},\"hoverlabel\":{\"align\":\"left\"},\"hovermode\":\"closest\",\"mapbox\":{\"style\":\"light\"},\"paper_bgcolor\":\"white\",\"plot_bgcolor\":\"#E5ECF6\",\"polar\":{\"angularaxis\":{\"gridcolor\":\"white\",\"linecolor\":\"white\",\"ticks\":\"\"},\"bgcolor\":\"#E5ECF6\",\"radialaxis\":{\"gridcolor\":\"white\",\"linecolor\":\"white\",\"ticks\":\"\"}},\"scene\":{\"xaxis\":{\"backgroundcolor\":\"#E5ECF6\",\"gridcolor\":\"white\",\"gridwidth\":2,\"linecolor\":\"white\",\"showbackground\":true,\"ticks\":\"\",\"zerolinecolor\":\"white\"},\"yaxis\":{\"backgroundcolor\":\"#E5ECF6\",\"gridcolor\":\"white\",\"gridwidth\":2,\"linecolor\":\"white\",\"showbackground\":true,\"ticks\":\"\",\"zerolinecolor\":\"white\"},\"zaxis\":{\"backgroundcolor\":\"#E5ECF6\",\"gridcolor\":\"white\",\"gridwidth\":2,\"linecolor\":\"white\",\"showbackground\":true,\"ticks\":\"\",\"zerolinecolor\":\"white\"}},\"shapedefaults\":{\"line\":{\"color\":\"#2a3f5f\"}},\"ternary\":{\"aaxis\":{\"gridcolor\":\"white\",\"linecolor\":\"white\",\"ticks\":\"\"},\"baxis\":{\"gridcolor\":\"white\",\"linecolor\":\"white\",\"ticks\":\"\"},\"bgcolor\":\"#E5ECF6\",\"caxis\":{\"gridcolor\":\"white\",\"linecolor\":\"white\",\"ticks\":\"\"}},\"title\":{\"x\":0.05},\"xaxis\":{\"automargin\":true,\"gridcolor\":\"white\",\"linecolor\":\"white\",\"ticks\":\"\",\"title\":{\"standoff\":15},\"zerolinecolor\":\"white\",\"zerolinewidth\":2},\"yaxis\":{\"automargin\":true,\"gridcolor\":\"white\",\"linecolor\":\"white\",\"ticks\":\"\",\"title\":{\"standoff\":15},\"zerolinecolor\":\"white\",\"zerolinewidth\":2}}}},                        {\"responsive\": true}                    ).then(function(){\n",
       "                            \n",
       "var gd = document.getElementById('2d80d383-e210-4d9d-b5eb-decf48263aa9');\n",
       "var x = new MutationObserver(function (mutations, observer) {{\n",
       "        var display = window.getComputedStyle(gd).display;\n",
       "        if (!display || display === 'none') {{\n",
       "            console.log([gd, 'removed!']);\n",
       "            Plotly.purge(gd);\n",
       "            observer.disconnect();\n",
       "        }}\n",
       "}});\n",
       "\n",
       "// Listen for the removal of the full notebook cells\n",
       "var notebookContainer = gd.closest('#notebook-container');\n",
       "if (notebookContainer) {{\n",
       "    x.observe(notebookContainer, {childList: true});\n",
       "}}\n",
       "\n",
       "// Listen for the clearing of the current output cell\n",
       "var outputEl = gd.closest('.output');\n",
       "if (outputEl) {{\n",
       "    x.observe(outputEl, {childList: true});\n",
       "}}\n",
       "\n",
       "                        })                };                });            </script>        </div>"
      ]
     },
     "metadata": {},
     "output_type": "display_data"
    }
   ],
   "source": [
    "draw_qa_bar('What')"
   ]
  },
  {
   "cell_type": "code",
   "execution_count": 63,
   "metadata": {},
   "outputs": [
    {
     "data": {
      "application/vnd.plotly.v1+json": {
       "config": {
        "plotlyServerURL": "https://plot.ly"
       },
       "data": [
        {
         "text": "yes",
         "textposition": "auto",
         "type": "bar",
         "width": 0.1,
         "x": [
          "Is"
         ],
         "y": [
          0.5225402613187481
         ]
        },
        {
         "text": "no",
         "textposition": "auto",
         "type": "bar",
         "width": 0.1,
         "x": [
          "Is"
         ],
         "y": [
          0.4749680948040109
         ]
        },
        {
         "text": "visible",
         "textposition": "auto",
         "type": "bar",
         "width": 0.1,
         "x": [
          "Is"
         ],
         "y": [
          0.0013005165603160135
         ]
        },
        {
         "text": "blurry",
         "textposition": "auto",
         "type": "bar",
         "width": 0.1,
         "x": [
          "Is"
         ],
         "y": [
          0.0003160133697964145
         ]
        },
        {
         "text": "little",
         "textposition": "auto",
         "type": "bar",
         "width": 0.1,
         "x": [
          "Is"
         ],
         "y": [
          0.0003160133697964145
         ]
        },
        {
         "text": "bit",
         "textposition": "auto",
         "type": "bar",
         "width": 0.1,
         "x": [
          "Is"
         ],
         "y": [
          0.00024308720753570342
         ]
        },
        {
         "text": "clear",
         "textposition": "auto",
         "type": "bar",
         "width": 0.1,
         "x": [
          "Is"
         ],
         "y": [
          0.00013369796414463688
         ]
        },
        {
         "text": "small",
         "textposition": "auto",
         "type": "bar",
         "width": 0.1,
         "x": [
          "Is"
         ],
         "y": [
          8.50805226374962e-05
         ]
        },
        {
         "text": "full",
         "textposition": "auto",
         "type": "bar",
         "width": 0.1,
         "x": [
          "Is"
         ],
         "y": [
          4.861744150714069e-05
         ]
        },
        {
         "text": "blur",
         "textposition": "auto",
         "type": "bar",
         "width": 0.1,
         "x": [
          "Is"
         ],
         "y": [
          1.2154360376785172e-05
         ]
        },
        {
         "text": "dark",
         "textposition": "auto",
         "type": "bar",
         "width": 0.1,
         "x": [
          "Is"
         ],
         "y": [
          1.2154360376785172e-05
         ]
        },
        {
         "text": "present",
         "textposition": "auto",
         "type": "bar",
         "width": 0.1,
         "x": [
          "Is"
         ],
         "y": [
          1.2154360376785172e-05
         ]
        },
        {
         "text": "open",
         "textposition": "auto",
         "type": "bar",
         "width": 0.1,
         "x": [
          "Is"
         ],
         "y": [
          1.2154360376785172e-05
         ]
        }
       ],
       "layout": {
        "barmode": "stack",
        "template": {
         "data": {
          "bar": [
           {
            "error_x": {
             "color": "#2a3f5f"
            },
            "error_y": {
             "color": "#2a3f5f"
            },
            "marker": {
             "line": {
              "color": "#E5ECF6",
              "width": 0.5
             },
             "pattern": {
              "fillmode": "overlay",
              "size": 10,
              "solidity": 0.2
             }
            },
            "type": "bar"
           }
          ],
          "barpolar": [
           {
            "marker": {
             "line": {
              "color": "#E5ECF6",
              "width": 0.5
             },
             "pattern": {
              "fillmode": "overlay",
              "size": 10,
              "solidity": 0.2
             }
            },
            "type": "barpolar"
           }
          ],
          "carpet": [
           {
            "aaxis": {
             "endlinecolor": "#2a3f5f",
             "gridcolor": "white",
             "linecolor": "white",
             "minorgridcolor": "white",
             "startlinecolor": "#2a3f5f"
            },
            "baxis": {
             "endlinecolor": "#2a3f5f",
             "gridcolor": "white",
             "linecolor": "white",
             "minorgridcolor": "white",
             "startlinecolor": "#2a3f5f"
            },
            "type": "carpet"
           }
          ],
          "choropleth": [
           {
            "colorbar": {
             "outlinewidth": 0,
             "ticks": ""
            },
            "type": "choropleth"
           }
          ],
          "contour": [
           {
            "colorbar": {
             "outlinewidth": 0,
             "ticks": ""
            },
            "colorscale": [
             [
              0,
              "#0d0887"
             ],
             [
              0.1111111111111111,
              "#46039f"
             ],
             [
              0.2222222222222222,
              "#7201a8"
             ],
             [
              0.3333333333333333,
              "#9c179e"
             ],
             [
              0.4444444444444444,
              "#bd3786"
             ],
             [
              0.5555555555555556,
              "#d8576b"
             ],
             [
              0.6666666666666666,
              "#ed7953"
             ],
             [
              0.7777777777777778,
              "#fb9f3a"
             ],
             [
              0.8888888888888888,
              "#fdca26"
             ],
             [
              1,
              "#f0f921"
             ]
            ],
            "type": "contour"
           }
          ],
          "contourcarpet": [
           {
            "colorbar": {
             "outlinewidth": 0,
             "ticks": ""
            },
            "type": "contourcarpet"
           }
          ],
          "heatmap": [
           {
            "colorbar": {
             "outlinewidth": 0,
             "ticks": ""
            },
            "colorscale": [
             [
              0,
              "#0d0887"
             ],
             [
              0.1111111111111111,
              "#46039f"
             ],
             [
              0.2222222222222222,
              "#7201a8"
             ],
             [
              0.3333333333333333,
              "#9c179e"
             ],
             [
              0.4444444444444444,
              "#bd3786"
             ],
             [
              0.5555555555555556,
              "#d8576b"
             ],
             [
              0.6666666666666666,
              "#ed7953"
             ],
             [
              0.7777777777777778,
              "#fb9f3a"
             ],
             [
              0.8888888888888888,
              "#fdca26"
             ],
             [
              1,
              "#f0f921"
             ]
            ],
            "type": "heatmap"
           }
          ],
          "heatmapgl": [
           {
            "colorbar": {
             "outlinewidth": 0,
             "ticks": ""
            },
            "colorscale": [
             [
              0,
              "#0d0887"
             ],
             [
              0.1111111111111111,
              "#46039f"
             ],
             [
              0.2222222222222222,
              "#7201a8"
             ],
             [
              0.3333333333333333,
              "#9c179e"
             ],
             [
              0.4444444444444444,
              "#bd3786"
             ],
             [
              0.5555555555555556,
              "#d8576b"
             ],
             [
              0.6666666666666666,
              "#ed7953"
             ],
             [
              0.7777777777777778,
              "#fb9f3a"
             ],
             [
              0.8888888888888888,
              "#fdca26"
             ],
             [
              1,
              "#f0f921"
             ]
            ],
            "type": "heatmapgl"
           }
          ],
          "histogram": [
           {
            "marker": {
             "pattern": {
              "fillmode": "overlay",
              "size": 10,
              "solidity": 0.2
             }
            },
            "type": "histogram"
           }
          ],
          "histogram2d": [
           {
            "colorbar": {
             "outlinewidth": 0,
             "ticks": ""
            },
            "colorscale": [
             [
              0,
              "#0d0887"
             ],
             [
              0.1111111111111111,
              "#46039f"
             ],
             [
              0.2222222222222222,
              "#7201a8"
             ],
             [
              0.3333333333333333,
              "#9c179e"
             ],
             [
              0.4444444444444444,
              "#bd3786"
             ],
             [
              0.5555555555555556,
              "#d8576b"
             ],
             [
              0.6666666666666666,
              "#ed7953"
             ],
             [
              0.7777777777777778,
              "#fb9f3a"
             ],
             [
              0.8888888888888888,
              "#fdca26"
             ],
             [
              1,
              "#f0f921"
             ]
            ],
            "type": "histogram2d"
           }
          ],
          "histogram2dcontour": [
           {
            "colorbar": {
             "outlinewidth": 0,
             "ticks": ""
            },
            "colorscale": [
             [
              0,
              "#0d0887"
             ],
             [
              0.1111111111111111,
              "#46039f"
             ],
             [
              0.2222222222222222,
              "#7201a8"
             ],
             [
              0.3333333333333333,
              "#9c179e"
             ],
             [
              0.4444444444444444,
              "#bd3786"
             ],
             [
              0.5555555555555556,
              "#d8576b"
             ],
             [
              0.6666666666666666,
              "#ed7953"
             ],
             [
              0.7777777777777778,
              "#fb9f3a"
             ],
             [
              0.8888888888888888,
              "#fdca26"
             ],
             [
              1,
              "#f0f921"
             ]
            ],
            "type": "histogram2dcontour"
           }
          ],
          "mesh3d": [
           {
            "colorbar": {
             "outlinewidth": 0,
             "ticks": ""
            },
            "type": "mesh3d"
           }
          ],
          "parcoords": [
           {
            "line": {
             "colorbar": {
              "outlinewidth": 0,
              "ticks": ""
             }
            },
            "type": "parcoords"
           }
          ],
          "pie": [
           {
            "automargin": true,
            "type": "pie"
           }
          ],
          "scatter": [
           {
            "marker": {
             "colorbar": {
              "outlinewidth": 0,
              "ticks": ""
             }
            },
            "type": "scatter"
           }
          ],
          "scatter3d": [
           {
            "line": {
             "colorbar": {
              "outlinewidth": 0,
              "ticks": ""
             }
            },
            "marker": {
             "colorbar": {
              "outlinewidth": 0,
              "ticks": ""
             }
            },
            "type": "scatter3d"
           }
          ],
          "scattercarpet": [
           {
            "marker": {
             "colorbar": {
              "outlinewidth": 0,
              "ticks": ""
             }
            },
            "type": "scattercarpet"
           }
          ],
          "scattergeo": [
           {
            "marker": {
             "colorbar": {
              "outlinewidth": 0,
              "ticks": ""
             }
            },
            "type": "scattergeo"
           }
          ],
          "scattergl": [
           {
            "marker": {
             "colorbar": {
              "outlinewidth": 0,
              "ticks": ""
             }
            },
            "type": "scattergl"
           }
          ],
          "scattermapbox": [
           {
            "marker": {
             "colorbar": {
              "outlinewidth": 0,
              "ticks": ""
             }
            },
            "type": "scattermapbox"
           }
          ],
          "scatterpolar": [
           {
            "marker": {
             "colorbar": {
              "outlinewidth": 0,
              "ticks": ""
             }
            },
            "type": "scatterpolar"
           }
          ],
          "scatterpolargl": [
           {
            "marker": {
             "colorbar": {
              "outlinewidth": 0,
              "ticks": ""
             }
            },
            "type": "scatterpolargl"
           }
          ],
          "scatterternary": [
           {
            "marker": {
             "colorbar": {
              "outlinewidth": 0,
              "ticks": ""
             }
            },
            "type": "scatterternary"
           }
          ],
          "surface": [
           {
            "colorbar": {
             "outlinewidth": 0,
             "ticks": ""
            },
            "colorscale": [
             [
              0,
              "#0d0887"
             ],
             [
              0.1111111111111111,
              "#46039f"
             ],
             [
              0.2222222222222222,
              "#7201a8"
             ],
             [
              0.3333333333333333,
              "#9c179e"
             ],
             [
              0.4444444444444444,
              "#bd3786"
             ],
             [
              0.5555555555555556,
              "#d8576b"
             ],
             [
              0.6666666666666666,
              "#ed7953"
             ],
             [
              0.7777777777777778,
              "#fb9f3a"
             ],
             [
              0.8888888888888888,
              "#fdca26"
             ],
             [
              1,
              "#f0f921"
             ]
            ],
            "type": "surface"
           }
          ],
          "table": [
           {
            "cells": {
             "fill": {
              "color": "#EBF0F8"
             },
             "line": {
              "color": "white"
             }
            },
            "header": {
             "fill": {
              "color": "#C8D4E3"
             },
             "line": {
              "color": "white"
             }
            },
            "type": "table"
           }
          ]
         },
         "layout": {
          "annotationdefaults": {
           "arrowcolor": "#2a3f5f",
           "arrowhead": 0,
           "arrowwidth": 1
          },
          "autotypenumbers": "strict",
          "coloraxis": {
           "colorbar": {
            "outlinewidth": 0,
            "ticks": ""
           }
          },
          "colorscale": {
           "diverging": [
            [
             0,
             "#8e0152"
            ],
            [
             0.1,
             "#c51b7d"
            ],
            [
             0.2,
             "#de77ae"
            ],
            [
             0.3,
             "#f1b6da"
            ],
            [
             0.4,
             "#fde0ef"
            ],
            [
             0.5,
             "#f7f7f7"
            ],
            [
             0.6,
             "#e6f5d0"
            ],
            [
             0.7,
             "#b8e186"
            ],
            [
             0.8,
             "#7fbc41"
            ],
            [
             0.9,
             "#4d9221"
            ],
            [
             1,
             "#276419"
            ]
           ],
           "sequential": [
            [
             0,
             "#0d0887"
            ],
            [
             0.1111111111111111,
             "#46039f"
            ],
            [
             0.2222222222222222,
             "#7201a8"
            ],
            [
             0.3333333333333333,
             "#9c179e"
            ],
            [
             0.4444444444444444,
             "#bd3786"
            ],
            [
             0.5555555555555556,
             "#d8576b"
            ],
            [
             0.6666666666666666,
             "#ed7953"
            ],
            [
             0.7777777777777778,
             "#fb9f3a"
            ],
            [
             0.8888888888888888,
             "#fdca26"
            ],
            [
             1,
             "#f0f921"
            ]
           ],
           "sequentialminus": [
            [
             0,
             "#0d0887"
            ],
            [
             0.1111111111111111,
             "#46039f"
            ],
            [
             0.2222222222222222,
             "#7201a8"
            ],
            [
             0.3333333333333333,
             "#9c179e"
            ],
            [
             0.4444444444444444,
             "#bd3786"
            ],
            [
             0.5555555555555556,
             "#d8576b"
            ],
            [
             0.6666666666666666,
             "#ed7953"
            ],
            [
             0.7777777777777778,
             "#fb9f3a"
            ],
            [
             0.8888888888888888,
             "#fdca26"
            ],
            [
             1,
             "#f0f921"
            ]
           ]
          },
          "colorway": [
           "#636efa",
           "#EF553B",
           "#00cc96",
           "#ab63fa",
           "#FFA15A",
           "#19d3f3",
           "#FF6692",
           "#B6E880",
           "#FF97FF",
           "#FECB52"
          ],
          "font": {
           "color": "#2a3f5f"
          },
          "geo": {
           "bgcolor": "white",
           "lakecolor": "white",
           "landcolor": "#E5ECF6",
           "showlakes": true,
           "showland": true,
           "subunitcolor": "white"
          },
          "hoverlabel": {
           "align": "left"
          },
          "hovermode": "closest",
          "mapbox": {
           "style": "light"
          },
          "paper_bgcolor": "white",
          "plot_bgcolor": "#E5ECF6",
          "polar": {
           "angularaxis": {
            "gridcolor": "white",
            "linecolor": "white",
            "ticks": ""
           },
           "bgcolor": "#E5ECF6",
           "radialaxis": {
            "gridcolor": "white",
            "linecolor": "white",
            "ticks": ""
           }
          },
          "scene": {
           "xaxis": {
            "backgroundcolor": "#E5ECF6",
            "gridcolor": "white",
            "gridwidth": 2,
            "linecolor": "white",
            "showbackground": true,
            "ticks": "",
            "zerolinecolor": "white"
           },
           "yaxis": {
            "backgroundcolor": "#E5ECF6",
            "gridcolor": "white",
            "gridwidth": 2,
            "linecolor": "white",
            "showbackground": true,
            "ticks": "",
            "zerolinecolor": "white"
           },
           "zaxis": {
            "backgroundcolor": "#E5ECF6",
            "gridcolor": "white",
            "gridwidth": 2,
            "linecolor": "white",
            "showbackground": true,
            "ticks": "",
            "zerolinecolor": "white"
           }
          },
          "shapedefaults": {
           "line": {
            "color": "#2a3f5f"
           }
          },
          "ternary": {
           "aaxis": {
            "gridcolor": "white",
            "linecolor": "white",
            "ticks": ""
           },
           "baxis": {
            "gridcolor": "white",
            "linecolor": "white",
            "ticks": ""
           },
           "bgcolor": "#E5ECF6",
           "caxis": {
            "gridcolor": "white",
            "linecolor": "white",
            "ticks": ""
           }
          },
          "title": {
           "x": 0.05
          },
          "xaxis": {
           "automargin": true,
           "gridcolor": "white",
           "linecolor": "white",
           "ticks": "",
           "title": {
            "standoff": 15
           },
           "zerolinecolor": "white",
           "zerolinewidth": 2
          },
          "yaxis": {
           "automargin": true,
           "gridcolor": "white",
           "linecolor": "white",
           "ticks": "",
           "title": {
            "standoff": 15
           },
           "zerolinecolor": "white",
           "zerolinewidth": 2
          }
         }
        }
       }
      },
      "text/html": [
       "<div>                            <div id=\"4b780065-7073-44b9-a252-5d267a977426\" class=\"plotly-graph-div\" style=\"height:525px; width:100%;\"></div>            <script type=\"text/javascript\">                require([\"plotly\"], function(Plotly) {                    window.PLOTLYENV=window.PLOTLYENV || {};                                    if (document.getElementById(\"4b780065-7073-44b9-a252-5d267a977426\")) {                    Plotly.newPlot(                        \"4b780065-7073-44b9-a252-5d267a977426\",                        [{\"text\":\"yes\",\"textposition\":\"auto\",\"type\":\"bar\",\"width\":0.1,\"x\":[\"Is\"],\"y\":[0.5225402613187481]},{\"text\":\"no\",\"textposition\":\"auto\",\"type\":\"bar\",\"width\":0.1,\"x\":[\"Is\"],\"y\":[0.4749680948040109]},{\"text\":\"visible\",\"textposition\":\"auto\",\"type\":\"bar\",\"width\":0.1,\"x\":[\"Is\"],\"y\":[0.0013005165603160135]},{\"text\":\"blurry\",\"textposition\":\"auto\",\"type\":\"bar\",\"width\":0.1,\"x\":[\"Is\"],\"y\":[0.0003160133697964145]},{\"text\":\"little\",\"textposition\":\"auto\",\"type\":\"bar\",\"width\":0.1,\"x\":[\"Is\"],\"y\":[0.0003160133697964145]},{\"text\":\"bit\",\"textposition\":\"auto\",\"type\":\"bar\",\"width\":0.1,\"x\":[\"Is\"],\"y\":[0.00024308720753570342]},{\"text\":\"clear\",\"textposition\":\"auto\",\"type\":\"bar\",\"width\":0.1,\"x\":[\"Is\"],\"y\":[0.00013369796414463688]},{\"text\":\"small\",\"textposition\":\"auto\",\"type\":\"bar\",\"width\":0.1,\"x\":[\"Is\"],\"y\":[8.50805226374962e-05]},{\"text\":\"full\",\"textposition\":\"auto\",\"type\":\"bar\",\"width\":0.1,\"x\":[\"Is\"],\"y\":[4.861744150714069e-05]},{\"text\":\"blur\",\"textposition\":\"auto\",\"type\":\"bar\",\"width\":0.1,\"x\":[\"Is\"],\"y\":[1.2154360376785172e-05]},{\"text\":\"dark\",\"textposition\":\"auto\",\"type\":\"bar\",\"width\":0.1,\"x\":[\"Is\"],\"y\":[1.2154360376785172e-05]},{\"text\":\"present\",\"textposition\":\"auto\",\"type\":\"bar\",\"width\":0.1,\"x\":[\"Is\"],\"y\":[1.2154360376785172e-05]},{\"text\":\"open\",\"textposition\":\"auto\",\"type\":\"bar\",\"width\":0.1,\"x\":[\"Is\"],\"y\":[1.2154360376785172e-05]}],                        {\"barmode\":\"stack\",\"template\":{\"data\":{\"bar\":[{\"error_x\":{\"color\":\"#2a3f5f\"},\"error_y\":{\"color\":\"#2a3f5f\"},\"marker\":{\"line\":{\"color\":\"#E5ECF6\",\"width\":0.5},\"pattern\":{\"fillmode\":\"overlay\",\"size\":10,\"solidity\":0.2}},\"type\":\"bar\"}],\"barpolar\":[{\"marker\":{\"line\":{\"color\":\"#E5ECF6\",\"width\":0.5},\"pattern\":{\"fillmode\":\"overlay\",\"size\":10,\"solidity\":0.2}},\"type\":\"barpolar\"}],\"carpet\":[{\"aaxis\":{\"endlinecolor\":\"#2a3f5f\",\"gridcolor\":\"white\",\"linecolor\":\"white\",\"minorgridcolor\":\"white\",\"startlinecolor\":\"#2a3f5f\"},\"baxis\":{\"endlinecolor\":\"#2a3f5f\",\"gridcolor\":\"white\",\"linecolor\":\"white\",\"minorgridcolor\":\"white\",\"startlinecolor\":\"#2a3f5f\"},\"type\":\"carpet\"}],\"choropleth\":[{\"colorbar\":{\"outlinewidth\":0,\"ticks\":\"\"},\"type\":\"choropleth\"}],\"contour\":[{\"colorbar\":{\"outlinewidth\":0,\"ticks\":\"\"},\"colorscale\":[[0.0,\"#0d0887\"],[0.1111111111111111,\"#46039f\"],[0.2222222222222222,\"#7201a8\"],[0.3333333333333333,\"#9c179e\"],[0.4444444444444444,\"#bd3786\"],[0.5555555555555556,\"#d8576b\"],[0.6666666666666666,\"#ed7953\"],[0.7777777777777778,\"#fb9f3a\"],[0.8888888888888888,\"#fdca26\"],[1.0,\"#f0f921\"]],\"type\":\"contour\"}],\"contourcarpet\":[{\"colorbar\":{\"outlinewidth\":0,\"ticks\":\"\"},\"type\":\"contourcarpet\"}],\"heatmap\":[{\"colorbar\":{\"outlinewidth\":0,\"ticks\":\"\"},\"colorscale\":[[0.0,\"#0d0887\"],[0.1111111111111111,\"#46039f\"],[0.2222222222222222,\"#7201a8\"],[0.3333333333333333,\"#9c179e\"],[0.4444444444444444,\"#bd3786\"],[0.5555555555555556,\"#d8576b\"],[0.6666666666666666,\"#ed7953\"],[0.7777777777777778,\"#fb9f3a\"],[0.8888888888888888,\"#fdca26\"],[1.0,\"#f0f921\"]],\"type\":\"heatmap\"}],\"heatmapgl\":[{\"colorbar\":{\"outlinewidth\":0,\"ticks\":\"\"},\"colorscale\":[[0.0,\"#0d0887\"],[0.1111111111111111,\"#46039f\"],[0.2222222222222222,\"#7201a8\"],[0.3333333333333333,\"#9c179e\"],[0.4444444444444444,\"#bd3786\"],[0.5555555555555556,\"#d8576b\"],[0.6666666666666666,\"#ed7953\"],[0.7777777777777778,\"#fb9f3a\"],[0.8888888888888888,\"#fdca26\"],[1.0,\"#f0f921\"]],\"type\":\"heatmapgl\"}],\"histogram\":[{\"marker\":{\"pattern\":{\"fillmode\":\"overlay\",\"size\":10,\"solidity\":0.2}},\"type\":\"histogram\"}],\"histogram2d\":[{\"colorbar\":{\"outlinewidth\":0,\"ticks\":\"\"},\"colorscale\":[[0.0,\"#0d0887\"],[0.1111111111111111,\"#46039f\"],[0.2222222222222222,\"#7201a8\"],[0.3333333333333333,\"#9c179e\"],[0.4444444444444444,\"#bd3786\"],[0.5555555555555556,\"#d8576b\"],[0.6666666666666666,\"#ed7953\"],[0.7777777777777778,\"#fb9f3a\"],[0.8888888888888888,\"#fdca26\"],[1.0,\"#f0f921\"]],\"type\":\"histogram2d\"}],\"histogram2dcontour\":[{\"colorbar\":{\"outlinewidth\":0,\"ticks\":\"\"},\"colorscale\":[[0.0,\"#0d0887\"],[0.1111111111111111,\"#46039f\"],[0.2222222222222222,\"#7201a8\"],[0.3333333333333333,\"#9c179e\"],[0.4444444444444444,\"#bd3786\"],[0.5555555555555556,\"#d8576b\"],[0.6666666666666666,\"#ed7953\"],[0.7777777777777778,\"#fb9f3a\"],[0.8888888888888888,\"#fdca26\"],[1.0,\"#f0f921\"]],\"type\":\"histogram2dcontour\"}],\"mesh3d\":[{\"colorbar\":{\"outlinewidth\":0,\"ticks\":\"\"},\"type\":\"mesh3d\"}],\"parcoords\":[{\"line\":{\"colorbar\":{\"outlinewidth\":0,\"ticks\":\"\"}},\"type\":\"parcoords\"}],\"pie\":[{\"automargin\":true,\"type\":\"pie\"}],\"scatter\":[{\"marker\":{\"colorbar\":{\"outlinewidth\":0,\"ticks\":\"\"}},\"type\":\"scatter\"}],\"scatter3d\":[{\"line\":{\"colorbar\":{\"outlinewidth\":0,\"ticks\":\"\"}},\"marker\":{\"colorbar\":{\"outlinewidth\":0,\"ticks\":\"\"}},\"type\":\"scatter3d\"}],\"scattercarpet\":[{\"marker\":{\"colorbar\":{\"outlinewidth\":0,\"ticks\":\"\"}},\"type\":\"scattercarpet\"}],\"scattergeo\":[{\"marker\":{\"colorbar\":{\"outlinewidth\":0,\"ticks\":\"\"}},\"type\":\"scattergeo\"}],\"scattergl\":[{\"marker\":{\"colorbar\":{\"outlinewidth\":0,\"ticks\":\"\"}},\"type\":\"scattergl\"}],\"scattermapbox\":[{\"marker\":{\"colorbar\":{\"outlinewidth\":0,\"ticks\":\"\"}},\"type\":\"scattermapbox\"}],\"scatterpolar\":[{\"marker\":{\"colorbar\":{\"outlinewidth\":0,\"ticks\":\"\"}},\"type\":\"scatterpolar\"}],\"scatterpolargl\":[{\"marker\":{\"colorbar\":{\"outlinewidth\":0,\"ticks\":\"\"}},\"type\":\"scatterpolargl\"}],\"scatterternary\":[{\"marker\":{\"colorbar\":{\"outlinewidth\":0,\"ticks\":\"\"}},\"type\":\"scatterternary\"}],\"surface\":[{\"colorbar\":{\"outlinewidth\":0,\"ticks\":\"\"},\"colorscale\":[[0.0,\"#0d0887\"],[0.1111111111111111,\"#46039f\"],[0.2222222222222222,\"#7201a8\"],[0.3333333333333333,\"#9c179e\"],[0.4444444444444444,\"#bd3786\"],[0.5555555555555556,\"#d8576b\"],[0.6666666666666666,\"#ed7953\"],[0.7777777777777778,\"#fb9f3a\"],[0.8888888888888888,\"#fdca26\"],[1.0,\"#f0f921\"]],\"type\":\"surface\"}],\"table\":[{\"cells\":{\"fill\":{\"color\":\"#EBF0F8\"},\"line\":{\"color\":\"white\"}},\"header\":{\"fill\":{\"color\":\"#C8D4E3\"},\"line\":{\"color\":\"white\"}},\"type\":\"table\"}]},\"layout\":{\"annotationdefaults\":{\"arrowcolor\":\"#2a3f5f\",\"arrowhead\":0,\"arrowwidth\":1},\"autotypenumbers\":\"strict\",\"coloraxis\":{\"colorbar\":{\"outlinewidth\":0,\"ticks\":\"\"}},\"colorscale\":{\"diverging\":[[0,\"#8e0152\"],[0.1,\"#c51b7d\"],[0.2,\"#de77ae\"],[0.3,\"#f1b6da\"],[0.4,\"#fde0ef\"],[0.5,\"#f7f7f7\"],[0.6,\"#e6f5d0\"],[0.7,\"#b8e186\"],[0.8,\"#7fbc41\"],[0.9,\"#4d9221\"],[1,\"#276419\"]],\"sequential\":[[0.0,\"#0d0887\"],[0.1111111111111111,\"#46039f\"],[0.2222222222222222,\"#7201a8\"],[0.3333333333333333,\"#9c179e\"],[0.4444444444444444,\"#bd3786\"],[0.5555555555555556,\"#d8576b\"],[0.6666666666666666,\"#ed7953\"],[0.7777777777777778,\"#fb9f3a\"],[0.8888888888888888,\"#fdca26\"],[1.0,\"#f0f921\"]],\"sequentialminus\":[[0.0,\"#0d0887\"],[0.1111111111111111,\"#46039f\"],[0.2222222222222222,\"#7201a8\"],[0.3333333333333333,\"#9c179e\"],[0.4444444444444444,\"#bd3786\"],[0.5555555555555556,\"#d8576b\"],[0.6666666666666666,\"#ed7953\"],[0.7777777777777778,\"#fb9f3a\"],[0.8888888888888888,\"#fdca26\"],[1.0,\"#f0f921\"]]},\"colorway\":[\"#636efa\",\"#EF553B\",\"#00cc96\",\"#ab63fa\",\"#FFA15A\",\"#19d3f3\",\"#FF6692\",\"#B6E880\",\"#FF97FF\",\"#FECB52\"],\"font\":{\"color\":\"#2a3f5f\"},\"geo\":{\"bgcolor\":\"white\",\"lakecolor\":\"white\",\"landcolor\":\"#E5ECF6\",\"showlakes\":true,\"showland\":true,\"subunitcolor\":\"white\"},\"hoverlabel\":{\"align\":\"left\"},\"hovermode\":\"closest\",\"mapbox\":{\"style\":\"light\"},\"paper_bgcolor\":\"white\",\"plot_bgcolor\":\"#E5ECF6\",\"polar\":{\"angularaxis\":{\"gridcolor\":\"white\",\"linecolor\":\"white\",\"ticks\":\"\"},\"bgcolor\":\"#E5ECF6\",\"radialaxis\":{\"gridcolor\":\"white\",\"linecolor\":\"white\",\"ticks\":\"\"}},\"scene\":{\"xaxis\":{\"backgroundcolor\":\"#E5ECF6\",\"gridcolor\":\"white\",\"gridwidth\":2,\"linecolor\":\"white\",\"showbackground\":true,\"ticks\":\"\",\"zerolinecolor\":\"white\"},\"yaxis\":{\"backgroundcolor\":\"#E5ECF6\",\"gridcolor\":\"white\",\"gridwidth\":2,\"linecolor\":\"white\",\"showbackground\":true,\"ticks\":\"\",\"zerolinecolor\":\"white\"},\"zaxis\":{\"backgroundcolor\":\"#E5ECF6\",\"gridcolor\":\"white\",\"gridwidth\":2,\"linecolor\":\"white\",\"showbackground\":true,\"ticks\":\"\",\"zerolinecolor\":\"white\"}},\"shapedefaults\":{\"line\":{\"color\":\"#2a3f5f\"}},\"ternary\":{\"aaxis\":{\"gridcolor\":\"white\",\"linecolor\":\"white\",\"ticks\":\"\"},\"baxis\":{\"gridcolor\":\"white\",\"linecolor\":\"white\",\"ticks\":\"\"},\"bgcolor\":\"#E5ECF6\",\"caxis\":{\"gridcolor\":\"white\",\"linecolor\":\"white\",\"ticks\":\"\"}},\"title\":{\"x\":0.05},\"xaxis\":{\"automargin\":true,\"gridcolor\":\"white\",\"linecolor\":\"white\",\"ticks\":\"\",\"title\":{\"standoff\":15},\"zerolinecolor\":\"white\",\"zerolinewidth\":2},\"yaxis\":{\"automargin\":true,\"gridcolor\":\"white\",\"linecolor\":\"white\",\"ticks\":\"\",\"title\":{\"standoff\":15},\"zerolinecolor\":\"white\",\"zerolinewidth\":2}}}},                        {\"responsive\": true}                    ).then(function(){\n",
       "                            \n",
       "var gd = document.getElementById('4b780065-7073-44b9-a252-5d267a977426');\n",
       "var x = new MutationObserver(function (mutations, observer) {{\n",
       "        var display = window.getComputedStyle(gd).display;\n",
       "        if (!display || display === 'none') {{\n",
       "            console.log([gd, 'removed!']);\n",
       "            Plotly.purge(gd);\n",
       "            observer.disconnect();\n",
       "        }}\n",
       "}});\n",
       "\n",
       "// Listen for the removal of the full notebook cells\n",
       "var notebookContainer = gd.closest('#notebook-container');\n",
       "if (notebookContainer) {{\n",
       "    x.observe(notebookContainer, {childList: true});\n",
       "}}\n",
       "\n",
       "// Listen for the clearing of the current output cell\n",
       "var outputEl = gd.closest('.output');\n",
       "if (outputEl) {{\n",
       "    x.observe(outputEl, {childList: true});\n",
       "}}\n",
       "\n",
       "                        })                };                });            </script>        </div>"
      ]
     },
     "metadata": {},
     "output_type": "display_data"
    }
   ],
   "source": [
    "draw_qa_bar('Is')"
   ]
  },
  {
   "cell_type": "code",
   "execution_count": 64,
   "metadata": {},
   "outputs": [
    {
     "data": {
      "application/vnd.plotly.v1+json": {
       "config": {
        "plotlyServerURL": "https://plot.ly"
       },
       "data": [
        {
         "text": "wall",
         "textposition": "auto",
         "type": "bar",
         "width": 0.1,
         "x": [
          "On what"
         ],
         "y": [
          0.27536656891495603
         ]
        },
        {
         "text": "road",
         "textposition": "auto",
         "type": "bar",
         "width": 0.1,
         "x": [
          "On what"
         ],
         "y": [
          0.1126099706744868
         ]
        },
        {
         "text": "front",
         "textposition": "auto",
         "type": "bar",
         "width": 0.1,
         "x": [
          "On what"
         ],
         "y": [
          0.0970674486803519
         ]
        },
        {
         "text": "floor",
         "textposition": "auto",
         "type": "bar",
         "width": 0.1,
         "x": [
          "On what"
         ],
         "y": [
          0.08944281524926687
         ]
        },
        {
         "text": "ground",
         "textposition": "auto",
         "type": "bar",
         "width": 0.1,
         "x": [
          "On what"
         ],
         "y": [
          0.07126099706744868
         ]
        },
        {
         "text": "right",
         "textposition": "auto",
         "type": "bar",
         "width": 0.1,
         "x": [
          "On what"
         ],
         "y": [
          0.0624633431085044
         ]
        },
        {
         "text": "ceiling",
         "textposition": "auto",
         "type": "bar",
         "width": 0.1,
         "x": [
          "On what"
         ],
         "y": [
          0.035483870967741936
         ]
        },
        {
         "text": "table",
         "textposition": "auto",
         "type": "bar",
         "width": 0.1,
         "x": [
          "On what"
         ],
         "y": [
          0.03519061583577713
         ]
        },
        {
         "text": "roof",
         "textposition": "auto",
         "type": "bar",
         "width": 0.1,
         "x": [
          "On what"
         ],
         "y": [
          0.02258064516129032
         ]
        },
        {
         "text": "back",
         "textposition": "auto",
         "type": "bar",
         "width": 0.1,
         "x": [
          "On what"
         ],
         "y": [
          0.017595307917888565
         ]
        },
        {
         "text": "surface",
         "textposition": "auto",
         "type": "bar",
         "width": 0.1,
         "x": [
          "On what"
         ],
         "y": [
          0.01436950146627566
         ]
        },
        {
         "text": "backside",
         "textposition": "auto",
         "type": "bar",
         "width": 0.1,
         "x": [
          "On what"
         ],
         "y": [
          0.011143695014662757
         ]
        },
        {
         "text": "rooftop",
         "textposition": "auto",
         "type": "bar",
         "width": 0.1,
         "x": [
          "On what"
         ],
         "y": [
          0.007331378299120235
         ]
        },
        {
         "text": "stand",
         "textposition": "auto",
         "type": "bar",
         "width": 0.1,
         "x": [
          "On what"
         ],
         "y": [
          0.0064516129032258064
         ]
        },
        {
         "text": "counter",
         "textposition": "auto",
         "type": "bar",
         "width": 0.1,
         "x": [
          "On what"
         ],
         "y": [
          0.0064516129032258064
         ]
        },
        {
         "text": "platform",
         "textposition": "auto",
         "type": "bar",
         "width": 0.1,
         "x": [
          "On what"
         ],
         "y": [
          0.0061583577712609975
         ]
        },
        {
         "text": "pavement",
         "textposition": "auto",
         "type": "bar",
         "width": 0.1,
         "x": [
          "On what"
         ],
         "y": [
          0.005571847507331379
         ]
        },
        {
         "text": "board",
         "textposition": "auto",
         "type": "bar",
         "width": 0.1,
         "x": [
          "On what"
         ],
         "y": [
          0.005278592375366569
         ]
        },
        {
         "text": "footpath",
         "textposition": "auto",
         "type": "bar",
         "width": 0.1,
         "x": [
          "On what"
         ],
         "y": [
          0.00498533724340176
         ]
        },
        {
         "text": "hanger",
         "textposition": "auto",
         "type": "bar",
         "width": 0.1,
         "x": [
          "On what"
         ],
         "y": [
          0.00498533724340176
         ]
        },
        {
         "text": "side",
         "textposition": "auto",
         "type": "bar",
         "width": 0.1,
         "x": [
          "On what"
         ],
         "y": [
          0.004398826979472141
         ]
        },
        {
         "text": "bed",
         "textposition": "auto",
         "type": "bar",
         "width": 0.1,
         "x": [
          "On what"
         ],
         "y": [
          0.003812316715542522
         ]
        },
        {
         "text": "grass",
         "textposition": "auto",
         "type": "bar",
         "width": 0.1,
         "x": [
          "On what"
         ],
         "y": [
          0.003812316715542522
         ]
        },
        {
         "text": "hand",
         "textposition": "auto",
         "type": "bar",
         "width": 0.1,
         "x": [
          "On what"
         ],
         "y": [
          0.0035190615835777126
         ]
        },
        {
         "text": "street",
         "textposition": "auto",
         "type": "bar",
         "width": 0.1,
         "x": [
          "On what"
         ],
         "y": [
          0.0035190615835777126
         ]
        },
        {
         "text": "desk",
         "textposition": "auto",
         "type": "bar",
         "width": 0.1,
         "x": [
          "On what"
         ],
         "y": [
          0.0035190615835777126
         ]
        },
        {
         "text": "mountain",
         "textposition": "auto",
         "type": "bar",
         "width": 0.1,
         "x": [
          "On what"
         ],
         "y": [
          0.002932551319648094
         ]
        },
        {
         "text": "water",
         "textposition": "auto",
         "type": "bar",
         "width": 0.1,
         "x": [
          "On what"
         ],
         "y": [
          0.0026392961876832845
         ]
        },
        {
         "text": "counter table",
         "textposition": "auto",
         "type": "bar",
         "width": 0.1,
         "x": [
          "On what"
         ],
         "y": [
          0.0026392961876832845
         ]
        },
        {
         "text": "carpet",
         "textposition": "auto",
         "type": "bar",
         "width": 0.1,
         "x": [
          "On what"
         ],
         "y": [
          0.002346041055718475
         ]
        },
        {
         "text": "shelf",
         "textposition": "auto",
         "type": "bar",
         "width": 0.1,
         "x": [
          "On what"
         ],
         "y": [
          0.002346041055718475
         ]
        },
        {
         "text": "cupboard",
         "textposition": "auto",
         "type": "bar",
         "width": 0.1,
         "x": [
          "On what"
         ],
         "y": [
          0.0020527859237536657
         ]
        },
        {
         "text": "countertop",
         "textposition": "auto",
         "type": "bar",
         "width": 0.1,
         "x": [
          "On what"
         ],
         "y": [
          0.0020527859237536657
         ]
        },
        {
         "text": "path",
         "textposition": "auto",
         "type": "bar",
         "width": 0.1,
         "x": [
          "On what"
         ],
         "y": [
          0.0017595307917888563
         ]
        },
        {
         "text": "sofa",
         "textposition": "auto",
         "type": "bar",
         "width": 0.1,
         "x": [
          "On what"
         ],
         "y": [
          0.0017595307917888563
         ]
        },
        {
         "text": "door",
         "textposition": "auto",
         "type": "bar",
         "width": 0.1,
         "x": [
          "On what"
         ],
         "y": [
          0.0017595307917888563
         ]
        },
        {
         "text": "dining table",
         "textposition": "auto",
         "type": "bar",
         "width": 0.1,
         "x": [
          "On what"
         ],
         "y": [
          0.001466275659824047
         ]
        },
        {
         "text": "sidewalk",
         "textposition": "auto",
         "type": "bar",
         "width": 0.1,
         "x": [
          "On what"
         ],
         "y": [
          0.001466275659824047
         ]
        },
        {
         "text": "cabinet",
         "textposition": "auto",
         "type": "bar",
         "width": 0.1,
         "x": [
          "On what"
         ],
         "y": [
          0.001466275659824047
         ]
        },
        {
         "text": "sea shore",
         "textposition": "auto",
         "type": "bar",
         "width": 0.1,
         "x": [
          "On what"
         ],
         "y": [
          0.001466275659824047
         ]
        },
        {
         "text": "head",
         "textposition": "auto",
         "type": "bar",
         "width": 0.1,
         "x": [
          "On what"
         ],
         "y": [
          0.001466275659824047
         ]
        },
        {
         "text": "rack",
         "textposition": "auto",
         "type": "bar",
         "width": 0.1,
         "x": [
          "On what"
         ],
         "y": [
          0.001466275659824047
         ]
        },
        {
         "text": "hill",
         "textposition": "auto",
         "type": "bar",
         "width": 0.1,
         "x": [
          "On what"
         ],
         "y": [
          0.001466275659824047
         ]
        },
        {
         "text": "white wall",
         "textposition": "auto",
         "type": "bar",
         "width": 0.1,
         "x": [
          "On what"
         ],
         "y": [
          0.001466275659824047
         ]
        },
        {
         "text": "kitchen platform",
         "textposition": "auto",
         "type": "bar",
         "width": 0.1,
         "x": [
          "On what"
         ],
         "y": [
          0.001466275659824047
         ]
        },
        {
         "text": "track",
         "textposition": "auto",
         "type": "bar",
         "width": 0.1,
         "x": [
          "On what"
         ],
         "y": [
          0.0011730205278592375
         ]
        },
        {
         "text": "stair",
         "textposition": "auto",
         "type": "bar",
         "width": 0.1,
         "x": [
          "On what"
         ],
         "y": [
          0.0011730205278592375
         ]
        },
        {
         "text": "glass",
         "textposition": "auto",
         "type": "bar",
         "width": 0.1,
         "x": [
          "On what"
         ],
         "y": [
          0.0011730205278592375
         ]
        },
        {
         "text": "seat",
         "textposition": "auto",
         "type": "bar",
         "width": 0.1,
         "x": [
          "On what"
         ],
         "y": [
          0.0011730205278592375
         ]
        },
        {
         "text": "bedside table",
         "textposition": "auto",
         "type": "bar",
         "width": 0.1,
         "x": [
          "On what"
         ],
         "y": [
          0.0011730205278592375
         ]
        },
        {
         "text": "snow",
         "textposition": "auto",
         "type": "bar",
         "width": 0.1,
         "x": [
          "On what"
         ],
         "y": [
          0.0011730205278592375
         ]
        },
        {
         "text": "leave",
         "textposition": "auto",
         "type": "bar",
         "width": 0.1,
         "x": [
          "On what"
         ],
         "y": [
          0.0011730205278592375
         ]
        },
        {
         "text": "pole",
         "textposition": "auto",
         "type": "bar",
         "width": 0.1,
         "x": [
          "On what"
         ],
         "y": [
          0.0011730205278592375
         ]
        },
        {
         "text": "stool",
         "textposition": "auto",
         "type": "bar",
         "width": 0.1,
         "x": [
          "On what"
         ],
         "y": [
          0.0011730205278592375
         ]
        },
        {
         "text": "paper",
         "textposition": "auto",
         "type": "bar",
         "width": 0.1,
         "x": [
          "On what"
         ],
         "y": [
          0.0011730205278592375
         ]
        },
        {
         "text": "wooden platform",
         "textposition": "auto",
         "type": "bar",
         "width": 0.1,
         "x": [
          "On what"
         ],
         "y": [
          0.0008797653958944282
         ]
        },
        {
         "text": "grassy land",
         "textposition": "auto",
         "type": "bar",
         "width": 0.1,
         "x": [
          "On what"
         ],
         "y": [
          0.0008797653958944282
         ]
        },
        {
         "text": "wooden table",
         "textposition": "auto",
         "type": "bar",
         "width": 0.1,
         "x": [
          "On what"
         ],
         "y": [
          0.0008797653958944282
         ]
        },
        {
         "text": "stove",
         "textposition": "auto",
         "type": "bar",
         "width": 0.1,
         "x": [
          "On what"
         ],
         "y": [
          0.0008797653958944282
         ]
        },
        {
         "text": "screen",
         "textposition": "auto",
         "type": "bar",
         "width": 0.1,
         "x": [
          "On what"
         ],
         "y": [
          0.0008797653958944282
         ]
        },
        {
         "text": "mirror",
         "textposition": "auto",
         "type": "bar",
         "width": 0.1,
         "x": [
          "On what"
         ],
         "y": [
          0.0008797653958944282
         ]
        },
        {
         "text": "street light",
         "textposition": "auto",
         "type": "bar",
         "width": 0.1,
         "x": [
          "On what"
         ],
         "y": [
          0.0008797653958944282
         ]
        },
        {
         "text": "runway",
         "textposition": "auto",
         "type": "bar",
         "width": 0.1,
         "x": [
          "On what"
         ],
         "y": [
          0.0008797653958944282
         ]
        },
        {
         "text": "kitchen",
         "textposition": "auto",
         "type": "bar",
         "width": 0.1,
         "x": [
          "On what"
         ],
         "y": [
          0.0008797653958944282
         ]
        },
        {
         "text": "street pole",
         "textposition": "auto",
         "type": "bar",
         "width": 0.1,
         "x": [
          "On what"
         ],
         "y": [
          0.0008797653958944282
         ]
        },
        {
         "text": "wooden floor",
         "textposition": "auto",
         "type": "bar",
         "width": 0.1,
         "x": [
          "On what"
         ],
         "y": [
          0.0005865102639296188
         ]
        },
        {
         "text": "chair",
         "textposition": "auto",
         "type": "bar",
         "width": 0.1,
         "x": [
          "On what"
         ],
         "y": [
          0.0005865102639296188
         ]
        },
        {
         "text": "rod",
         "textposition": "auto",
         "type": "bar",
         "width": 0.1,
         "x": [
          "On what"
         ],
         "y": [
          0.0005865102639296188
         ]
        },
        {
         "text": "tile",
         "textposition": "auto",
         "type": "bar",
         "width": 0.1,
         "x": [
          "On what"
         ],
         "y": [
          0.0005865102639296188
         ]
        },
        {
         "text": "tv",
         "textposition": "auto",
         "type": "bar",
         "width": 0.1,
         "x": [
          "On what"
         ],
         "y": [
          0.0005865102639296188
         ]
        },
        {
         "text": "rock",
         "textposition": "auto",
         "type": "bar",
         "width": 0.1,
         "x": [
          "On what"
         ],
         "y": [
          0.0005865102639296188
         ]
        },
        {
         "text": "floor mat",
         "textposition": "auto",
         "type": "bar",
         "width": 0.1,
         "x": [
          "On what"
         ],
         "y": [
          0.0005865102639296188
         ]
        },
        {
         "text": "stage",
         "textposition": "auto",
         "type": "bar",
         "width": 0.1,
         "x": [
          "On what"
         ],
         "y": [
          0.0005865102639296188
         ]
        },
        {
         "text": "bench",
         "textposition": "auto",
         "type": "bar",
         "width": 0.1,
         "x": [
          "On what"
         ],
         "y": [
          0.0005865102639296188
         ]
        },
        {
         "text": "white",
         "textposition": "auto",
         "type": "bar",
         "width": 0.1,
         "x": [
          "On what"
         ],
         "y": [
          0.0005865102639296188
         ]
        },
        {
         "text": "snooker table",
         "textposition": "auto",
         "type": "bar",
         "width": 0.1,
         "x": [
          "On what"
         ],
         "y": [
          0.0005865102639296188
         ]
        },
        {
         "text": "poster",
         "textposition": "auto",
         "type": "bar",
         "width": 0.1,
         "x": [
          "On what"
         ],
         "y": [
          0.0005865102639296188
         ]
        },
        {
         "text": "washbasin",
         "textposition": "auto",
         "type": "bar",
         "width": 0.1,
         "x": [
          "On what"
         ],
         "y": [
          0.0005865102639296188
         ]
        },
        {
         "text": "slope",
         "textposition": "auto",
         "type": "bar",
         "width": 0.1,
         "x": [
          "On what"
         ],
         "y": [
          0.0005865102639296188
         ]
        },
        {
         "text": "marble",
         "textposition": "auto",
         "type": "bar",
         "width": 0.1,
         "x": [
          "On what"
         ],
         "y": [
          0.0005865102639296188
         ]
        },
        {
         "text": "wooden",
         "textposition": "auto",
         "type": "bar",
         "width": 0.1,
         "x": [
          "On what"
         ],
         "y": [
          0.0005865102639296188
         ]
        },
        {
         "text": "flooring",
         "textposition": "auto",
         "type": "bar",
         "width": 0.1,
         "x": [
          "On what"
         ],
         "y": [
          0.0005865102639296188
         ]
        },
        {
         "text": "pillar",
         "textposition": "auto",
         "type": "bar",
         "width": 0.1,
         "x": [
          "On what"
         ],
         "y": [
          0.0005865102639296188
         ]
        },
        {
         "text": "gas stove",
         "textposition": "auto",
         "type": "bar",
         "width": 0.1,
         "x": [
          "On what"
         ],
         "y": [
          0.0005865102639296188
         ]
        },
        {
         "text": "banner",
         "textposition": "auto",
         "type": "bar",
         "width": 0.1,
         "x": [
          "On what"
         ],
         "y": [
          0.0005865102639296188
         ]
        },
        {
         "text": "dais",
         "textposition": "auto",
         "type": "bar",
         "width": 0.1,
         "x": [
          "On what"
         ],
         "y": [
          0.0005865102639296188
         ]
        },
        {
         "text": "railway track",
         "textposition": "auto",
         "type": "bar",
         "width": 0.1,
         "x": [
          "On what"
         ],
         "y": [
          0.0002932551319648094
         ]
        },
        {
         "text": "mannequin",
         "textposition": "auto",
         "type": "bar",
         "width": 0.1,
         "x": [
          "On what"
         ],
         "y": [
          0.0002932551319648094
         ]
        },
        {
         "text": "gray",
         "textposition": "auto",
         "type": "bar",
         "width": 0.1,
         "x": [
          "On what"
         ],
         "y": [
          0.0002932551319648094
         ]
        },
        {
         "text": "wall painting",
         "textposition": "auto",
         "type": "bar",
         "width": 0.1,
         "x": [
          "On what"
         ],
         "y": [
          0.0002932551319648094
         ]
        },
        {
         "text": "green",
         "textposition": "auto",
         "type": "bar",
         "width": 0.1,
         "x": [
          "On what"
         ],
         "y": [
          0.0002932551319648094
         ]
        },
        {
         "text": "tree",
         "textposition": "auto",
         "type": "bar",
         "width": 0.1,
         "x": [
          "On what"
         ],
         "y": [
          0.0002932551319648094
         ]
        },
        {
         "text": "horse",
         "textposition": "auto",
         "type": "bar",
         "width": 0.1,
         "x": [
          "On what"
         ],
         "y": [
          0.0002932551319648094
         ]
        },
        {
         "text": "street lamp",
         "textposition": "auto",
         "type": "bar",
         "width": 0.1,
         "x": [
          "On what"
         ],
         "y": [
          0.0002932551319648094
         ]
        },
        {
         "text": "corner",
         "textposition": "auto",
         "type": "bar",
         "width": 0.1,
         "x": [
          "On what"
         ],
         "y": [
          0.0002932551319648094
         ]
        },
        {
         "text": "bathtub",
         "textposition": "auto",
         "type": "bar",
         "width": 0.1,
         "x": [
          "On what"
         ],
         "y": [
          0.0002932551319648094
         ]
        },
        {
         "text": "cushion",
         "textposition": "auto",
         "type": "bar",
         "width": 0.1,
         "x": [
          "On what"
         ],
         "y": [
          0.0002932551319648094
         ]
        },
        {
         "text": "stem",
         "textposition": "auto",
         "type": "bar",
         "width": 0.1,
         "x": [
          "On what"
         ],
         "y": [
          0.0002932551319648094
         ]
        },
        {
         "text": "left",
         "textposition": "auto",
         "type": "bar",
         "width": 0.1,
         "x": [
          "On what"
         ],
         "y": [
          0.0002932551319648094
         ]
        },
        {
         "text": "brick wall",
         "textposition": "auto",
         "type": "bar",
         "width": 0.1,
         "x": [
          "On what"
         ],
         "y": [
          0.0002932551319648094
         ]
        },
        {
         "text": "opposite",
         "textposition": "auto",
         "type": "bar",
         "width": 0.1,
         "x": [
          "On what"
         ],
         "y": [
          0.0002932551319648094
         ]
        },
        {
         "text": "table fan",
         "textposition": "auto",
         "type": "bar",
         "width": 0.1,
         "x": [
          "On what"
         ],
         "y": [
          0.0002932551319648094
         ]
        },
        {
         "text": "field",
         "textposition": "auto",
         "type": "bar",
         "width": 0.1,
         "x": [
          "On what"
         ],
         "y": [
          0.0002932551319648094
         ]
        },
        {
         "text": "chimney",
         "textposition": "auto",
         "type": "bar",
         "width": 0.1,
         "x": [
          "On what"
         ],
         "y": [
          0.0002932551319648094
         ]
        },
        {
         "text": "fridge",
         "textposition": "auto",
         "type": "bar",
         "width": 0.1,
         "x": [
          "On what"
         ],
         "y": [
          0.0002932551319648094
         ]
        },
        {
         "text": "cloth",
         "textposition": "auto",
         "type": "bar",
         "width": 0.1,
         "x": [
          "On what"
         ],
         "y": [
          0.0002932551319648094
         ]
        },
        {
         "text": "bowl",
         "textposition": "auto",
         "type": "bar",
         "width": 0.1,
         "x": [
          "On what"
         ],
         "y": [
          0.0002932551319648094
         ]
        },
        {
         "text": "walkway",
         "textposition": "auto",
         "type": "bar",
         "width": 0.1,
         "x": [
          "On what"
         ],
         "y": [
          0.0002932551319648094
         ]
        },
        {
         "text": "dry grass",
         "textposition": "auto",
         "type": "bar",
         "width": 0.1,
         "x": [
          "On what"
         ],
         "y": [
          0.0002932551319648094
         ]
        },
        {
         "text": "vehicle",
         "textposition": "auto",
         "type": "bar",
         "width": 0.1,
         "x": [
          "On what"
         ],
         "y": [
          0.0002932551319648094
         ]
        },
        {
         "text": "glass shelf",
         "textposition": "auto",
         "type": "bar",
         "width": 0.1,
         "x": [
          "On what"
         ],
         "y": [
          0.0002932551319648094
         ]
        },
        {
         "text": "mat",
         "textposition": "auto",
         "type": "bar",
         "width": 0.1,
         "x": [
          "On what"
         ],
         "y": [
          0.0002932551319648094
         ]
        },
        {
         "text": "fireplace",
         "textposition": "auto",
         "type": "bar",
         "width": 0.1,
         "x": [
          "On what"
         ],
         "y": [
          0.0002932551319648094
         ]
        },
        {
         "text": "wooden flooring",
         "textposition": "auto",
         "type": "bar",
         "width": 0.1,
         "x": [
          "On what"
         ],
         "y": [
          0.0002932551319648094
         ]
        },
        {
         "text": "metal",
         "textposition": "auto",
         "type": "bar",
         "width": 0.1,
         "x": [
          "On what"
         ],
         "y": [
          0.0002932551319648094
         ]
        },
        {
         "text": "sand",
         "textposition": "auto",
         "type": "bar",
         "width": 0.1,
         "x": [
          "On what"
         ],
         "y": [
          0.0002932551319648094
         ]
        },
        {
         "text": "wooden cupboard",
         "textposition": "auto",
         "type": "bar",
         "width": 0.1,
         "x": [
          "On what"
         ],
         "y": [
          0.0002932551319648094
         ]
        },
        {
         "text": "wooden cabinet",
         "textposition": "auto",
         "type": "bar",
         "width": 0.1,
         "x": [
          "On what"
         ],
         "y": [
          0.0002932551319648094
         ]
        },
        {
         "text": "brown",
         "textposition": "auto",
         "type": "bar",
         "width": 0.1,
         "x": [
          "On what"
         ],
         "y": [
          0.0002932551319648094
         ]
        },
        {
         "text": "railway",
         "textposition": "auto",
         "type": "bar",
         "width": 0.1,
         "x": [
          "On what"
         ],
         "y": [
          0.0002932551319648094
         ]
        },
        {
         "text": "microwave oven",
         "textposition": "auto",
         "type": "bar",
         "width": 0.1,
         "x": [
          "On what"
         ],
         "y": [
          0.0002932551319648094
         ]
        },
        {
         "text": "parking",
         "textposition": "auto",
         "type": "bar",
         "width": 0.1,
         "x": [
          "On what"
         ],
         "y": [
          0.0002932551319648094
         ]
        },
        {
         "text": "cycle",
         "textposition": "auto",
         "type": "bar",
         "width": 0.1,
         "x": [
          "On what"
         ],
         "y": [
          0.0002932551319648094
         ]
        },
        {
         "text": "sign",
         "textposition": "auto",
         "type": "bar",
         "width": 0.1,
         "x": [
          "On what"
         ],
         "y": [
          0.0002932551319648094
         ]
        },
        {
         "text": "tray",
         "textposition": "auto",
         "type": "bar",
         "width": 0.1,
         "x": [
          "On what"
         ],
         "y": [
          0.0002932551319648094
         ]
        },
        {
         "text": "metal rack",
         "textposition": "auto",
         "type": "bar",
         "width": 0.1,
         "x": [
          "On what"
         ],
         "y": [
          0.0002932551319648094
         ]
        },
        {
         "text": "blackboard",
         "textposition": "auto",
         "type": "bar",
         "width": 0.1,
         "x": [
          "On what"
         ],
         "y": [
          0.0002932551319648094
         ]
        },
        {
         "text": "block",
         "textposition": "auto",
         "type": "bar",
         "width": 0.1,
         "x": [
          "On what"
         ],
         "y": [
          0.0002932551319648094
         ]
        },
        {
         "text": "car",
         "textposition": "auto",
         "type": "bar",
         "width": 0.1,
         "x": [
          "On what"
         ],
         "y": [
          0.0002932551319648094
         ]
        },
        {
         "text": "flight",
         "textposition": "auto",
         "type": "bar",
         "width": 0.1,
         "x": [
          "On what"
         ],
         "y": [
          0.0002932551319648094
         ]
        },
        {
         "text": "step",
         "textposition": "auto",
         "type": "bar",
         "width": 0.1,
         "x": [
          "On what"
         ],
         "y": [
          0.0002932551319648094
         ]
        },
        {
         "text": "window",
         "textposition": "auto",
         "type": "bar",
         "width": 0.1,
         "x": [
          "On what"
         ],
         "y": [
          0.0002932551319648094
         ]
        },
        {
         "text": "land",
         "textposition": "auto",
         "type": "bar",
         "width": 0.1,
         "x": [
          "On what"
         ],
         "y": [
          0.0002932551319648094
         ]
        },
        {
         "text": "staircase",
         "textposition": "auto",
         "type": "bar",
         "width": 0.1,
         "x": [
          "On what"
         ],
         "y": [
          0.0002932551319648094
         ]
        },
        {
         "text": "wooden wall",
         "textposition": "auto",
         "type": "bar",
         "width": 0.1,
         "x": [
          "On what"
         ],
         "y": [
          0.0002932551319648094
         ]
        },
        {
         "text": "sofa set",
         "textposition": "auto",
         "type": "bar",
         "width": 0.1,
         "x": [
          "On what"
         ],
         "y": [
          0.0002932551319648094
         ]
        },
        {
         "text": "stone",
         "textposition": "auto",
         "type": "bar",
         "width": 0.1,
         "x": [
          "On what"
         ],
         "y": [
          0.0002932551319648094
         ]
        },
        {
         "text": "ball",
         "textposition": "auto",
         "type": "bar",
         "width": 0.1,
         "x": [
          "On what"
         ],
         "y": [
          0.0002932551319648094
         ]
        },
        {
         "text": "escalator",
         "textposition": "auto",
         "type": "bar",
         "width": 0.1,
         "x": [
          "On what"
         ],
         "y": [
          0.0002932551319648094
         ]
        },
        {
         "text": "pathway",
         "textposition": "auto",
         "type": "bar",
         "width": 0.1,
         "x": [
          "On what"
         ],
         "y": [
          0.0002932551319648094
         ]
        },
        {
         "text": "display board",
         "textposition": "auto",
         "type": "bar",
         "width": 0.1,
         "x": [
          "On what"
         ],
         "y": [
          0.0002932551319648094
         ]
        },
        {
         "text": "river",
         "textposition": "auto",
         "type": "bar",
         "width": 0.1,
         "x": [
          "On what"
         ],
         "y": [
          0.0002932551319648094
         ]
        },
        {
         "text": "green grass",
         "textposition": "auto",
         "type": "bar",
         "width": 0.1,
         "x": [
          "On what"
         ],
         "y": [
          0.0002932551319648094
         ]
        },
        {
         "text": "wooden board",
         "textposition": "auto",
         "type": "bar",
         "width": 0.1,
         "x": [
          "On what"
         ],
         "y": [
          0.0002932551319648094
         ]
        },
        {
         "text": "towel",
         "textposition": "auto",
         "type": "bar",
         "width": 0.1,
         "x": [
          "On what"
         ],
         "y": [
          0.0002932551319648094
         ]
        }
       ],
       "layout": {
        "barmode": "stack",
        "template": {
         "data": {
          "bar": [
           {
            "error_x": {
             "color": "#2a3f5f"
            },
            "error_y": {
             "color": "#2a3f5f"
            },
            "marker": {
             "line": {
              "color": "#E5ECF6",
              "width": 0.5
             },
             "pattern": {
              "fillmode": "overlay",
              "size": 10,
              "solidity": 0.2
             }
            },
            "type": "bar"
           }
          ],
          "barpolar": [
           {
            "marker": {
             "line": {
              "color": "#E5ECF6",
              "width": 0.5
             },
             "pattern": {
              "fillmode": "overlay",
              "size": 10,
              "solidity": 0.2
             }
            },
            "type": "barpolar"
           }
          ],
          "carpet": [
           {
            "aaxis": {
             "endlinecolor": "#2a3f5f",
             "gridcolor": "white",
             "linecolor": "white",
             "minorgridcolor": "white",
             "startlinecolor": "#2a3f5f"
            },
            "baxis": {
             "endlinecolor": "#2a3f5f",
             "gridcolor": "white",
             "linecolor": "white",
             "minorgridcolor": "white",
             "startlinecolor": "#2a3f5f"
            },
            "type": "carpet"
           }
          ],
          "choropleth": [
           {
            "colorbar": {
             "outlinewidth": 0,
             "ticks": ""
            },
            "type": "choropleth"
           }
          ],
          "contour": [
           {
            "colorbar": {
             "outlinewidth": 0,
             "ticks": ""
            },
            "colorscale": [
             [
              0,
              "#0d0887"
             ],
             [
              0.1111111111111111,
              "#46039f"
             ],
             [
              0.2222222222222222,
              "#7201a8"
             ],
             [
              0.3333333333333333,
              "#9c179e"
             ],
             [
              0.4444444444444444,
              "#bd3786"
             ],
             [
              0.5555555555555556,
              "#d8576b"
             ],
             [
              0.6666666666666666,
              "#ed7953"
             ],
             [
              0.7777777777777778,
              "#fb9f3a"
             ],
             [
              0.8888888888888888,
              "#fdca26"
             ],
             [
              1,
              "#f0f921"
             ]
            ],
            "type": "contour"
           }
          ],
          "contourcarpet": [
           {
            "colorbar": {
             "outlinewidth": 0,
             "ticks": ""
            },
            "type": "contourcarpet"
           }
          ],
          "heatmap": [
           {
            "colorbar": {
             "outlinewidth": 0,
             "ticks": ""
            },
            "colorscale": [
             [
              0,
              "#0d0887"
             ],
             [
              0.1111111111111111,
              "#46039f"
             ],
             [
              0.2222222222222222,
              "#7201a8"
             ],
             [
              0.3333333333333333,
              "#9c179e"
             ],
             [
              0.4444444444444444,
              "#bd3786"
             ],
             [
              0.5555555555555556,
              "#d8576b"
             ],
             [
              0.6666666666666666,
              "#ed7953"
             ],
             [
              0.7777777777777778,
              "#fb9f3a"
             ],
             [
              0.8888888888888888,
              "#fdca26"
             ],
             [
              1,
              "#f0f921"
             ]
            ],
            "type": "heatmap"
           }
          ],
          "heatmapgl": [
           {
            "colorbar": {
             "outlinewidth": 0,
             "ticks": ""
            },
            "colorscale": [
             [
              0,
              "#0d0887"
             ],
             [
              0.1111111111111111,
              "#46039f"
             ],
             [
              0.2222222222222222,
              "#7201a8"
             ],
             [
              0.3333333333333333,
              "#9c179e"
             ],
             [
              0.4444444444444444,
              "#bd3786"
             ],
             [
              0.5555555555555556,
              "#d8576b"
             ],
             [
              0.6666666666666666,
              "#ed7953"
             ],
             [
              0.7777777777777778,
              "#fb9f3a"
             ],
             [
              0.8888888888888888,
              "#fdca26"
             ],
             [
              1,
              "#f0f921"
             ]
            ],
            "type": "heatmapgl"
           }
          ],
          "histogram": [
           {
            "marker": {
             "pattern": {
              "fillmode": "overlay",
              "size": 10,
              "solidity": 0.2
             }
            },
            "type": "histogram"
           }
          ],
          "histogram2d": [
           {
            "colorbar": {
             "outlinewidth": 0,
             "ticks": ""
            },
            "colorscale": [
             [
              0,
              "#0d0887"
             ],
             [
              0.1111111111111111,
              "#46039f"
             ],
             [
              0.2222222222222222,
              "#7201a8"
             ],
             [
              0.3333333333333333,
              "#9c179e"
             ],
             [
              0.4444444444444444,
              "#bd3786"
             ],
             [
              0.5555555555555556,
              "#d8576b"
             ],
             [
              0.6666666666666666,
              "#ed7953"
             ],
             [
              0.7777777777777778,
              "#fb9f3a"
             ],
             [
              0.8888888888888888,
              "#fdca26"
             ],
             [
              1,
              "#f0f921"
             ]
            ],
            "type": "histogram2d"
           }
          ],
          "histogram2dcontour": [
           {
            "colorbar": {
             "outlinewidth": 0,
             "ticks": ""
            },
            "colorscale": [
             [
              0,
              "#0d0887"
             ],
             [
              0.1111111111111111,
              "#46039f"
             ],
             [
              0.2222222222222222,
              "#7201a8"
             ],
             [
              0.3333333333333333,
              "#9c179e"
             ],
             [
              0.4444444444444444,
              "#bd3786"
             ],
             [
              0.5555555555555556,
              "#d8576b"
             ],
             [
              0.6666666666666666,
              "#ed7953"
             ],
             [
              0.7777777777777778,
              "#fb9f3a"
             ],
             [
              0.8888888888888888,
              "#fdca26"
             ],
             [
              1,
              "#f0f921"
             ]
            ],
            "type": "histogram2dcontour"
           }
          ],
          "mesh3d": [
           {
            "colorbar": {
             "outlinewidth": 0,
             "ticks": ""
            },
            "type": "mesh3d"
           }
          ],
          "parcoords": [
           {
            "line": {
             "colorbar": {
              "outlinewidth": 0,
              "ticks": ""
             }
            },
            "type": "parcoords"
           }
          ],
          "pie": [
           {
            "automargin": true,
            "type": "pie"
           }
          ],
          "scatter": [
           {
            "marker": {
             "colorbar": {
              "outlinewidth": 0,
              "ticks": ""
             }
            },
            "type": "scatter"
           }
          ],
          "scatter3d": [
           {
            "line": {
             "colorbar": {
              "outlinewidth": 0,
              "ticks": ""
             }
            },
            "marker": {
             "colorbar": {
              "outlinewidth": 0,
              "ticks": ""
             }
            },
            "type": "scatter3d"
           }
          ],
          "scattercarpet": [
           {
            "marker": {
             "colorbar": {
              "outlinewidth": 0,
              "ticks": ""
             }
            },
            "type": "scattercarpet"
           }
          ],
          "scattergeo": [
           {
            "marker": {
             "colorbar": {
              "outlinewidth": 0,
              "ticks": ""
             }
            },
            "type": "scattergeo"
           }
          ],
          "scattergl": [
           {
            "marker": {
             "colorbar": {
              "outlinewidth": 0,
              "ticks": ""
             }
            },
            "type": "scattergl"
           }
          ],
          "scattermapbox": [
           {
            "marker": {
             "colorbar": {
              "outlinewidth": 0,
              "ticks": ""
             }
            },
            "type": "scattermapbox"
           }
          ],
          "scatterpolar": [
           {
            "marker": {
             "colorbar": {
              "outlinewidth": 0,
              "ticks": ""
             }
            },
            "type": "scatterpolar"
           }
          ],
          "scatterpolargl": [
           {
            "marker": {
             "colorbar": {
              "outlinewidth": 0,
              "ticks": ""
             }
            },
            "type": "scatterpolargl"
           }
          ],
          "scatterternary": [
           {
            "marker": {
             "colorbar": {
              "outlinewidth": 0,
              "ticks": ""
             }
            },
            "type": "scatterternary"
           }
          ],
          "surface": [
           {
            "colorbar": {
             "outlinewidth": 0,
             "ticks": ""
            },
            "colorscale": [
             [
              0,
              "#0d0887"
             ],
             [
              0.1111111111111111,
              "#46039f"
             ],
             [
              0.2222222222222222,
              "#7201a8"
             ],
             [
              0.3333333333333333,
              "#9c179e"
             ],
             [
              0.4444444444444444,
              "#bd3786"
             ],
             [
              0.5555555555555556,
              "#d8576b"
             ],
             [
              0.6666666666666666,
              "#ed7953"
             ],
             [
              0.7777777777777778,
              "#fb9f3a"
             ],
             [
              0.8888888888888888,
              "#fdca26"
             ],
             [
              1,
              "#f0f921"
             ]
            ],
            "type": "surface"
           }
          ],
          "table": [
           {
            "cells": {
             "fill": {
              "color": "#EBF0F8"
             },
             "line": {
              "color": "white"
             }
            },
            "header": {
             "fill": {
              "color": "#C8D4E3"
             },
             "line": {
              "color": "white"
             }
            },
            "type": "table"
           }
          ]
         },
         "layout": {
          "annotationdefaults": {
           "arrowcolor": "#2a3f5f",
           "arrowhead": 0,
           "arrowwidth": 1
          },
          "autotypenumbers": "strict",
          "coloraxis": {
           "colorbar": {
            "outlinewidth": 0,
            "ticks": ""
           }
          },
          "colorscale": {
           "diverging": [
            [
             0,
             "#8e0152"
            ],
            [
             0.1,
             "#c51b7d"
            ],
            [
             0.2,
             "#de77ae"
            ],
            [
             0.3,
             "#f1b6da"
            ],
            [
             0.4,
             "#fde0ef"
            ],
            [
             0.5,
             "#f7f7f7"
            ],
            [
             0.6,
             "#e6f5d0"
            ],
            [
             0.7,
             "#b8e186"
            ],
            [
             0.8,
             "#7fbc41"
            ],
            [
             0.9,
             "#4d9221"
            ],
            [
             1,
             "#276419"
            ]
           ],
           "sequential": [
            [
             0,
             "#0d0887"
            ],
            [
             0.1111111111111111,
             "#46039f"
            ],
            [
             0.2222222222222222,
             "#7201a8"
            ],
            [
             0.3333333333333333,
             "#9c179e"
            ],
            [
             0.4444444444444444,
             "#bd3786"
            ],
            [
             0.5555555555555556,
             "#d8576b"
            ],
            [
             0.6666666666666666,
             "#ed7953"
            ],
            [
             0.7777777777777778,
             "#fb9f3a"
            ],
            [
             0.8888888888888888,
             "#fdca26"
            ],
            [
             1,
             "#f0f921"
            ]
           ],
           "sequentialminus": [
            [
             0,
             "#0d0887"
            ],
            [
             0.1111111111111111,
             "#46039f"
            ],
            [
             0.2222222222222222,
             "#7201a8"
            ],
            [
             0.3333333333333333,
             "#9c179e"
            ],
            [
             0.4444444444444444,
             "#bd3786"
            ],
            [
             0.5555555555555556,
             "#d8576b"
            ],
            [
             0.6666666666666666,
             "#ed7953"
            ],
            [
             0.7777777777777778,
             "#fb9f3a"
            ],
            [
             0.8888888888888888,
             "#fdca26"
            ],
            [
             1,
             "#f0f921"
            ]
           ]
          },
          "colorway": [
           "#636efa",
           "#EF553B",
           "#00cc96",
           "#ab63fa",
           "#FFA15A",
           "#19d3f3",
           "#FF6692",
           "#B6E880",
           "#FF97FF",
           "#FECB52"
          ],
          "font": {
           "color": "#2a3f5f"
          },
          "geo": {
           "bgcolor": "white",
           "lakecolor": "white",
           "landcolor": "#E5ECF6",
           "showlakes": true,
           "showland": true,
           "subunitcolor": "white"
          },
          "hoverlabel": {
           "align": "left"
          },
          "hovermode": "closest",
          "mapbox": {
           "style": "light"
          },
          "paper_bgcolor": "white",
          "plot_bgcolor": "#E5ECF6",
          "polar": {
           "angularaxis": {
            "gridcolor": "white",
            "linecolor": "white",
            "ticks": ""
           },
           "bgcolor": "#E5ECF6",
           "radialaxis": {
            "gridcolor": "white",
            "linecolor": "white",
            "ticks": ""
           }
          },
          "scene": {
           "xaxis": {
            "backgroundcolor": "#E5ECF6",
            "gridcolor": "white",
            "gridwidth": 2,
            "linecolor": "white",
            "showbackground": true,
            "ticks": "",
            "zerolinecolor": "white"
           },
           "yaxis": {
            "backgroundcolor": "#E5ECF6",
            "gridcolor": "white",
            "gridwidth": 2,
            "linecolor": "white",
            "showbackground": true,
            "ticks": "",
            "zerolinecolor": "white"
           },
           "zaxis": {
            "backgroundcolor": "#E5ECF6",
            "gridcolor": "white",
            "gridwidth": 2,
            "linecolor": "white",
            "showbackground": true,
            "ticks": "",
            "zerolinecolor": "white"
           }
          },
          "shapedefaults": {
           "line": {
            "color": "#2a3f5f"
           }
          },
          "ternary": {
           "aaxis": {
            "gridcolor": "white",
            "linecolor": "white",
            "ticks": ""
           },
           "baxis": {
            "gridcolor": "white",
            "linecolor": "white",
            "ticks": ""
           },
           "bgcolor": "#E5ECF6",
           "caxis": {
            "gridcolor": "white",
            "linecolor": "white",
            "ticks": ""
           }
          },
          "title": {
           "x": 0.05
          },
          "xaxis": {
           "automargin": true,
           "gridcolor": "white",
           "linecolor": "white",
           "ticks": "",
           "title": {
            "standoff": 15
           },
           "zerolinecolor": "white",
           "zerolinewidth": 2
          },
          "yaxis": {
           "automargin": true,
           "gridcolor": "white",
           "linecolor": "white",
           "ticks": "",
           "title": {
            "standoff": 15
           },
           "zerolinecolor": "white",
           "zerolinewidth": 2
          }
         }
        }
       }
      },
      "text/html": [
       "<div>                            <div id=\"8853e038-1992-4dba-bf8c-d137d258fdb3\" class=\"plotly-graph-div\" style=\"height:525px; width:100%;\"></div>            <script type=\"text/javascript\">                require([\"plotly\"], function(Plotly) {                    window.PLOTLYENV=window.PLOTLYENV || {};                                    if (document.getElementById(\"8853e038-1992-4dba-bf8c-d137d258fdb3\")) {                    Plotly.newPlot(                        \"8853e038-1992-4dba-bf8c-d137d258fdb3\",                        [{\"text\":\"wall\",\"textposition\":\"auto\",\"type\":\"bar\",\"width\":0.1,\"x\":[\"On what\"],\"y\":[0.27536656891495603]},{\"text\":\"road\",\"textposition\":\"auto\",\"type\":\"bar\",\"width\":0.1,\"x\":[\"On what\"],\"y\":[0.1126099706744868]},{\"text\":\"front\",\"textposition\":\"auto\",\"type\":\"bar\",\"width\":0.1,\"x\":[\"On what\"],\"y\":[0.0970674486803519]},{\"text\":\"floor\",\"textposition\":\"auto\",\"type\":\"bar\",\"width\":0.1,\"x\":[\"On what\"],\"y\":[0.08944281524926687]},{\"text\":\"ground\",\"textposition\":\"auto\",\"type\":\"bar\",\"width\":0.1,\"x\":[\"On what\"],\"y\":[0.07126099706744868]},{\"text\":\"right\",\"textposition\":\"auto\",\"type\":\"bar\",\"width\":0.1,\"x\":[\"On what\"],\"y\":[0.0624633431085044]},{\"text\":\"ceiling\",\"textposition\":\"auto\",\"type\":\"bar\",\"width\":0.1,\"x\":[\"On what\"],\"y\":[0.035483870967741936]},{\"text\":\"table\",\"textposition\":\"auto\",\"type\":\"bar\",\"width\":0.1,\"x\":[\"On what\"],\"y\":[0.03519061583577713]},{\"text\":\"roof\",\"textposition\":\"auto\",\"type\":\"bar\",\"width\":0.1,\"x\":[\"On what\"],\"y\":[0.02258064516129032]},{\"text\":\"back\",\"textposition\":\"auto\",\"type\":\"bar\",\"width\":0.1,\"x\":[\"On what\"],\"y\":[0.017595307917888565]},{\"text\":\"surface\",\"textposition\":\"auto\",\"type\":\"bar\",\"width\":0.1,\"x\":[\"On what\"],\"y\":[0.01436950146627566]},{\"text\":\"backside\",\"textposition\":\"auto\",\"type\":\"bar\",\"width\":0.1,\"x\":[\"On what\"],\"y\":[0.011143695014662757]},{\"text\":\"rooftop\",\"textposition\":\"auto\",\"type\":\"bar\",\"width\":0.1,\"x\":[\"On what\"],\"y\":[0.007331378299120235]},{\"text\":\"stand\",\"textposition\":\"auto\",\"type\":\"bar\",\"width\":0.1,\"x\":[\"On what\"],\"y\":[0.0064516129032258064]},{\"text\":\"counter\",\"textposition\":\"auto\",\"type\":\"bar\",\"width\":0.1,\"x\":[\"On what\"],\"y\":[0.0064516129032258064]},{\"text\":\"platform\",\"textposition\":\"auto\",\"type\":\"bar\",\"width\":0.1,\"x\":[\"On what\"],\"y\":[0.0061583577712609975]},{\"text\":\"pavement\",\"textposition\":\"auto\",\"type\":\"bar\",\"width\":0.1,\"x\":[\"On what\"],\"y\":[0.005571847507331379]},{\"text\":\"board\",\"textposition\":\"auto\",\"type\":\"bar\",\"width\":0.1,\"x\":[\"On what\"],\"y\":[0.005278592375366569]},{\"text\":\"footpath\",\"textposition\":\"auto\",\"type\":\"bar\",\"width\":0.1,\"x\":[\"On what\"],\"y\":[0.00498533724340176]},{\"text\":\"hanger\",\"textposition\":\"auto\",\"type\":\"bar\",\"width\":0.1,\"x\":[\"On what\"],\"y\":[0.00498533724340176]},{\"text\":\"side\",\"textposition\":\"auto\",\"type\":\"bar\",\"width\":0.1,\"x\":[\"On what\"],\"y\":[0.004398826979472141]},{\"text\":\"bed\",\"textposition\":\"auto\",\"type\":\"bar\",\"width\":0.1,\"x\":[\"On what\"],\"y\":[0.003812316715542522]},{\"text\":\"grass\",\"textposition\":\"auto\",\"type\":\"bar\",\"width\":0.1,\"x\":[\"On what\"],\"y\":[0.003812316715542522]},{\"text\":\"hand\",\"textposition\":\"auto\",\"type\":\"bar\",\"width\":0.1,\"x\":[\"On what\"],\"y\":[0.0035190615835777126]},{\"text\":\"street\",\"textposition\":\"auto\",\"type\":\"bar\",\"width\":0.1,\"x\":[\"On what\"],\"y\":[0.0035190615835777126]},{\"text\":\"desk\",\"textposition\":\"auto\",\"type\":\"bar\",\"width\":0.1,\"x\":[\"On what\"],\"y\":[0.0035190615835777126]},{\"text\":\"mountain\",\"textposition\":\"auto\",\"type\":\"bar\",\"width\":0.1,\"x\":[\"On what\"],\"y\":[0.002932551319648094]},{\"text\":\"water\",\"textposition\":\"auto\",\"type\":\"bar\",\"width\":0.1,\"x\":[\"On what\"],\"y\":[0.0026392961876832845]},{\"text\":\"counter table\",\"textposition\":\"auto\",\"type\":\"bar\",\"width\":0.1,\"x\":[\"On what\"],\"y\":[0.0026392961876832845]},{\"text\":\"carpet\",\"textposition\":\"auto\",\"type\":\"bar\",\"width\":0.1,\"x\":[\"On what\"],\"y\":[0.002346041055718475]},{\"text\":\"shelf\",\"textposition\":\"auto\",\"type\":\"bar\",\"width\":0.1,\"x\":[\"On what\"],\"y\":[0.002346041055718475]},{\"text\":\"cupboard\",\"textposition\":\"auto\",\"type\":\"bar\",\"width\":0.1,\"x\":[\"On what\"],\"y\":[0.0020527859237536657]},{\"text\":\"countertop\",\"textposition\":\"auto\",\"type\":\"bar\",\"width\":0.1,\"x\":[\"On what\"],\"y\":[0.0020527859237536657]},{\"text\":\"path\",\"textposition\":\"auto\",\"type\":\"bar\",\"width\":0.1,\"x\":[\"On what\"],\"y\":[0.0017595307917888563]},{\"text\":\"sofa\",\"textposition\":\"auto\",\"type\":\"bar\",\"width\":0.1,\"x\":[\"On what\"],\"y\":[0.0017595307917888563]},{\"text\":\"door\",\"textposition\":\"auto\",\"type\":\"bar\",\"width\":0.1,\"x\":[\"On what\"],\"y\":[0.0017595307917888563]},{\"text\":\"dining table\",\"textposition\":\"auto\",\"type\":\"bar\",\"width\":0.1,\"x\":[\"On what\"],\"y\":[0.001466275659824047]},{\"text\":\"sidewalk\",\"textposition\":\"auto\",\"type\":\"bar\",\"width\":0.1,\"x\":[\"On what\"],\"y\":[0.001466275659824047]},{\"text\":\"cabinet\",\"textposition\":\"auto\",\"type\":\"bar\",\"width\":0.1,\"x\":[\"On what\"],\"y\":[0.001466275659824047]},{\"text\":\"sea shore\",\"textposition\":\"auto\",\"type\":\"bar\",\"width\":0.1,\"x\":[\"On what\"],\"y\":[0.001466275659824047]},{\"text\":\"head\",\"textposition\":\"auto\",\"type\":\"bar\",\"width\":0.1,\"x\":[\"On what\"],\"y\":[0.001466275659824047]},{\"text\":\"rack\",\"textposition\":\"auto\",\"type\":\"bar\",\"width\":0.1,\"x\":[\"On what\"],\"y\":[0.001466275659824047]},{\"text\":\"hill\",\"textposition\":\"auto\",\"type\":\"bar\",\"width\":0.1,\"x\":[\"On what\"],\"y\":[0.001466275659824047]},{\"text\":\"white wall\",\"textposition\":\"auto\",\"type\":\"bar\",\"width\":0.1,\"x\":[\"On what\"],\"y\":[0.001466275659824047]},{\"text\":\"kitchen platform\",\"textposition\":\"auto\",\"type\":\"bar\",\"width\":0.1,\"x\":[\"On what\"],\"y\":[0.001466275659824047]},{\"text\":\"track\",\"textposition\":\"auto\",\"type\":\"bar\",\"width\":0.1,\"x\":[\"On what\"],\"y\":[0.0011730205278592375]},{\"text\":\"stair\",\"textposition\":\"auto\",\"type\":\"bar\",\"width\":0.1,\"x\":[\"On what\"],\"y\":[0.0011730205278592375]},{\"text\":\"glass\",\"textposition\":\"auto\",\"type\":\"bar\",\"width\":0.1,\"x\":[\"On what\"],\"y\":[0.0011730205278592375]},{\"text\":\"seat\",\"textposition\":\"auto\",\"type\":\"bar\",\"width\":0.1,\"x\":[\"On what\"],\"y\":[0.0011730205278592375]},{\"text\":\"bedside table\",\"textposition\":\"auto\",\"type\":\"bar\",\"width\":0.1,\"x\":[\"On what\"],\"y\":[0.0011730205278592375]},{\"text\":\"snow\",\"textposition\":\"auto\",\"type\":\"bar\",\"width\":0.1,\"x\":[\"On what\"],\"y\":[0.0011730205278592375]},{\"text\":\"leave\",\"textposition\":\"auto\",\"type\":\"bar\",\"width\":0.1,\"x\":[\"On what\"],\"y\":[0.0011730205278592375]},{\"text\":\"pole\",\"textposition\":\"auto\",\"type\":\"bar\",\"width\":0.1,\"x\":[\"On what\"],\"y\":[0.0011730205278592375]},{\"text\":\"stool\",\"textposition\":\"auto\",\"type\":\"bar\",\"width\":0.1,\"x\":[\"On what\"],\"y\":[0.0011730205278592375]},{\"text\":\"paper\",\"textposition\":\"auto\",\"type\":\"bar\",\"width\":0.1,\"x\":[\"On what\"],\"y\":[0.0011730205278592375]},{\"text\":\"wooden platform\",\"textposition\":\"auto\",\"type\":\"bar\",\"width\":0.1,\"x\":[\"On what\"],\"y\":[0.0008797653958944282]},{\"text\":\"grassy land\",\"textposition\":\"auto\",\"type\":\"bar\",\"width\":0.1,\"x\":[\"On what\"],\"y\":[0.0008797653958944282]},{\"text\":\"wooden table\",\"textposition\":\"auto\",\"type\":\"bar\",\"width\":0.1,\"x\":[\"On what\"],\"y\":[0.0008797653958944282]},{\"text\":\"stove\",\"textposition\":\"auto\",\"type\":\"bar\",\"width\":0.1,\"x\":[\"On what\"],\"y\":[0.0008797653958944282]},{\"text\":\"screen\",\"textposition\":\"auto\",\"type\":\"bar\",\"width\":0.1,\"x\":[\"On what\"],\"y\":[0.0008797653958944282]},{\"text\":\"mirror\",\"textposition\":\"auto\",\"type\":\"bar\",\"width\":0.1,\"x\":[\"On what\"],\"y\":[0.0008797653958944282]},{\"text\":\"street light\",\"textposition\":\"auto\",\"type\":\"bar\",\"width\":0.1,\"x\":[\"On what\"],\"y\":[0.0008797653958944282]},{\"text\":\"runway\",\"textposition\":\"auto\",\"type\":\"bar\",\"width\":0.1,\"x\":[\"On what\"],\"y\":[0.0008797653958944282]},{\"text\":\"kitchen\",\"textposition\":\"auto\",\"type\":\"bar\",\"width\":0.1,\"x\":[\"On what\"],\"y\":[0.0008797653958944282]},{\"text\":\"street pole\",\"textposition\":\"auto\",\"type\":\"bar\",\"width\":0.1,\"x\":[\"On what\"],\"y\":[0.0008797653958944282]},{\"text\":\"wooden floor\",\"textposition\":\"auto\",\"type\":\"bar\",\"width\":0.1,\"x\":[\"On what\"],\"y\":[0.0005865102639296188]},{\"text\":\"chair\",\"textposition\":\"auto\",\"type\":\"bar\",\"width\":0.1,\"x\":[\"On what\"],\"y\":[0.0005865102639296188]},{\"text\":\"rod\",\"textposition\":\"auto\",\"type\":\"bar\",\"width\":0.1,\"x\":[\"On what\"],\"y\":[0.0005865102639296188]},{\"text\":\"tile\",\"textposition\":\"auto\",\"type\":\"bar\",\"width\":0.1,\"x\":[\"On what\"],\"y\":[0.0005865102639296188]},{\"text\":\"tv\",\"textposition\":\"auto\",\"type\":\"bar\",\"width\":0.1,\"x\":[\"On what\"],\"y\":[0.0005865102639296188]},{\"text\":\"rock\",\"textposition\":\"auto\",\"type\":\"bar\",\"width\":0.1,\"x\":[\"On what\"],\"y\":[0.0005865102639296188]},{\"text\":\"floor mat\",\"textposition\":\"auto\",\"type\":\"bar\",\"width\":0.1,\"x\":[\"On what\"],\"y\":[0.0005865102639296188]},{\"text\":\"stage\",\"textposition\":\"auto\",\"type\":\"bar\",\"width\":0.1,\"x\":[\"On what\"],\"y\":[0.0005865102639296188]},{\"text\":\"bench\",\"textposition\":\"auto\",\"type\":\"bar\",\"width\":0.1,\"x\":[\"On what\"],\"y\":[0.0005865102639296188]},{\"text\":\"white\",\"textposition\":\"auto\",\"type\":\"bar\",\"width\":0.1,\"x\":[\"On what\"],\"y\":[0.0005865102639296188]},{\"text\":\"snooker table\",\"textposition\":\"auto\",\"type\":\"bar\",\"width\":0.1,\"x\":[\"On what\"],\"y\":[0.0005865102639296188]},{\"text\":\"poster\",\"textposition\":\"auto\",\"type\":\"bar\",\"width\":0.1,\"x\":[\"On what\"],\"y\":[0.0005865102639296188]},{\"text\":\"washbasin\",\"textposition\":\"auto\",\"type\":\"bar\",\"width\":0.1,\"x\":[\"On what\"],\"y\":[0.0005865102639296188]},{\"text\":\"slope\",\"textposition\":\"auto\",\"type\":\"bar\",\"width\":0.1,\"x\":[\"On what\"],\"y\":[0.0005865102639296188]},{\"text\":\"marble\",\"textposition\":\"auto\",\"type\":\"bar\",\"width\":0.1,\"x\":[\"On what\"],\"y\":[0.0005865102639296188]},{\"text\":\"wooden\",\"textposition\":\"auto\",\"type\":\"bar\",\"width\":0.1,\"x\":[\"On what\"],\"y\":[0.0005865102639296188]},{\"text\":\"flooring\",\"textposition\":\"auto\",\"type\":\"bar\",\"width\":0.1,\"x\":[\"On what\"],\"y\":[0.0005865102639296188]},{\"text\":\"pillar\",\"textposition\":\"auto\",\"type\":\"bar\",\"width\":0.1,\"x\":[\"On what\"],\"y\":[0.0005865102639296188]},{\"text\":\"gas stove\",\"textposition\":\"auto\",\"type\":\"bar\",\"width\":0.1,\"x\":[\"On what\"],\"y\":[0.0005865102639296188]},{\"text\":\"banner\",\"textposition\":\"auto\",\"type\":\"bar\",\"width\":0.1,\"x\":[\"On what\"],\"y\":[0.0005865102639296188]},{\"text\":\"dais\",\"textposition\":\"auto\",\"type\":\"bar\",\"width\":0.1,\"x\":[\"On what\"],\"y\":[0.0005865102639296188]},{\"text\":\"railway track\",\"textposition\":\"auto\",\"type\":\"bar\",\"width\":0.1,\"x\":[\"On what\"],\"y\":[0.0002932551319648094]},{\"text\":\"mannequin\",\"textposition\":\"auto\",\"type\":\"bar\",\"width\":0.1,\"x\":[\"On what\"],\"y\":[0.0002932551319648094]},{\"text\":\"gray\",\"textposition\":\"auto\",\"type\":\"bar\",\"width\":0.1,\"x\":[\"On what\"],\"y\":[0.0002932551319648094]},{\"text\":\"wall painting\",\"textposition\":\"auto\",\"type\":\"bar\",\"width\":0.1,\"x\":[\"On what\"],\"y\":[0.0002932551319648094]},{\"text\":\"green\",\"textposition\":\"auto\",\"type\":\"bar\",\"width\":0.1,\"x\":[\"On what\"],\"y\":[0.0002932551319648094]},{\"text\":\"tree\",\"textposition\":\"auto\",\"type\":\"bar\",\"width\":0.1,\"x\":[\"On what\"],\"y\":[0.0002932551319648094]},{\"text\":\"horse\",\"textposition\":\"auto\",\"type\":\"bar\",\"width\":0.1,\"x\":[\"On what\"],\"y\":[0.0002932551319648094]},{\"text\":\"street lamp\",\"textposition\":\"auto\",\"type\":\"bar\",\"width\":0.1,\"x\":[\"On what\"],\"y\":[0.0002932551319648094]},{\"text\":\"corner\",\"textposition\":\"auto\",\"type\":\"bar\",\"width\":0.1,\"x\":[\"On what\"],\"y\":[0.0002932551319648094]},{\"text\":\"bathtub\",\"textposition\":\"auto\",\"type\":\"bar\",\"width\":0.1,\"x\":[\"On what\"],\"y\":[0.0002932551319648094]},{\"text\":\"cushion\",\"textposition\":\"auto\",\"type\":\"bar\",\"width\":0.1,\"x\":[\"On what\"],\"y\":[0.0002932551319648094]},{\"text\":\"stem\",\"textposition\":\"auto\",\"type\":\"bar\",\"width\":0.1,\"x\":[\"On what\"],\"y\":[0.0002932551319648094]},{\"text\":\"left\",\"textposition\":\"auto\",\"type\":\"bar\",\"width\":0.1,\"x\":[\"On what\"],\"y\":[0.0002932551319648094]},{\"text\":\"brick wall\",\"textposition\":\"auto\",\"type\":\"bar\",\"width\":0.1,\"x\":[\"On what\"],\"y\":[0.0002932551319648094]},{\"text\":\"opposite\",\"textposition\":\"auto\",\"type\":\"bar\",\"width\":0.1,\"x\":[\"On what\"],\"y\":[0.0002932551319648094]},{\"text\":\"table fan\",\"textposition\":\"auto\",\"type\":\"bar\",\"width\":0.1,\"x\":[\"On what\"],\"y\":[0.0002932551319648094]},{\"text\":\"field\",\"textposition\":\"auto\",\"type\":\"bar\",\"width\":0.1,\"x\":[\"On what\"],\"y\":[0.0002932551319648094]},{\"text\":\"chimney\",\"textposition\":\"auto\",\"type\":\"bar\",\"width\":0.1,\"x\":[\"On what\"],\"y\":[0.0002932551319648094]},{\"text\":\"fridge\",\"textposition\":\"auto\",\"type\":\"bar\",\"width\":0.1,\"x\":[\"On what\"],\"y\":[0.0002932551319648094]},{\"text\":\"cloth\",\"textposition\":\"auto\",\"type\":\"bar\",\"width\":0.1,\"x\":[\"On what\"],\"y\":[0.0002932551319648094]},{\"text\":\"bowl\",\"textposition\":\"auto\",\"type\":\"bar\",\"width\":0.1,\"x\":[\"On what\"],\"y\":[0.0002932551319648094]},{\"text\":\"walkway\",\"textposition\":\"auto\",\"type\":\"bar\",\"width\":0.1,\"x\":[\"On what\"],\"y\":[0.0002932551319648094]},{\"text\":\"dry grass\",\"textposition\":\"auto\",\"type\":\"bar\",\"width\":0.1,\"x\":[\"On what\"],\"y\":[0.0002932551319648094]},{\"text\":\"vehicle\",\"textposition\":\"auto\",\"type\":\"bar\",\"width\":0.1,\"x\":[\"On what\"],\"y\":[0.0002932551319648094]},{\"text\":\"glass shelf\",\"textposition\":\"auto\",\"type\":\"bar\",\"width\":0.1,\"x\":[\"On what\"],\"y\":[0.0002932551319648094]},{\"text\":\"mat\",\"textposition\":\"auto\",\"type\":\"bar\",\"width\":0.1,\"x\":[\"On what\"],\"y\":[0.0002932551319648094]},{\"text\":\"fireplace\",\"textposition\":\"auto\",\"type\":\"bar\",\"width\":0.1,\"x\":[\"On what\"],\"y\":[0.0002932551319648094]},{\"text\":\"wooden flooring\",\"textposition\":\"auto\",\"type\":\"bar\",\"width\":0.1,\"x\":[\"On what\"],\"y\":[0.0002932551319648094]},{\"text\":\"metal\",\"textposition\":\"auto\",\"type\":\"bar\",\"width\":0.1,\"x\":[\"On what\"],\"y\":[0.0002932551319648094]},{\"text\":\"sand\",\"textposition\":\"auto\",\"type\":\"bar\",\"width\":0.1,\"x\":[\"On what\"],\"y\":[0.0002932551319648094]},{\"text\":\"wooden cupboard\",\"textposition\":\"auto\",\"type\":\"bar\",\"width\":0.1,\"x\":[\"On what\"],\"y\":[0.0002932551319648094]},{\"text\":\"wooden cabinet\",\"textposition\":\"auto\",\"type\":\"bar\",\"width\":0.1,\"x\":[\"On what\"],\"y\":[0.0002932551319648094]},{\"text\":\"brown\",\"textposition\":\"auto\",\"type\":\"bar\",\"width\":0.1,\"x\":[\"On what\"],\"y\":[0.0002932551319648094]},{\"text\":\"railway\",\"textposition\":\"auto\",\"type\":\"bar\",\"width\":0.1,\"x\":[\"On what\"],\"y\":[0.0002932551319648094]},{\"text\":\"microwave oven\",\"textposition\":\"auto\",\"type\":\"bar\",\"width\":0.1,\"x\":[\"On what\"],\"y\":[0.0002932551319648094]},{\"text\":\"parking\",\"textposition\":\"auto\",\"type\":\"bar\",\"width\":0.1,\"x\":[\"On what\"],\"y\":[0.0002932551319648094]},{\"text\":\"cycle\",\"textposition\":\"auto\",\"type\":\"bar\",\"width\":0.1,\"x\":[\"On what\"],\"y\":[0.0002932551319648094]},{\"text\":\"sign\",\"textposition\":\"auto\",\"type\":\"bar\",\"width\":0.1,\"x\":[\"On what\"],\"y\":[0.0002932551319648094]},{\"text\":\"tray\",\"textposition\":\"auto\",\"type\":\"bar\",\"width\":0.1,\"x\":[\"On what\"],\"y\":[0.0002932551319648094]},{\"text\":\"metal rack\",\"textposition\":\"auto\",\"type\":\"bar\",\"width\":0.1,\"x\":[\"On what\"],\"y\":[0.0002932551319648094]},{\"text\":\"blackboard\",\"textposition\":\"auto\",\"type\":\"bar\",\"width\":0.1,\"x\":[\"On what\"],\"y\":[0.0002932551319648094]},{\"text\":\"block\",\"textposition\":\"auto\",\"type\":\"bar\",\"width\":0.1,\"x\":[\"On what\"],\"y\":[0.0002932551319648094]},{\"text\":\"car\",\"textposition\":\"auto\",\"type\":\"bar\",\"width\":0.1,\"x\":[\"On what\"],\"y\":[0.0002932551319648094]},{\"text\":\"flight\",\"textposition\":\"auto\",\"type\":\"bar\",\"width\":0.1,\"x\":[\"On what\"],\"y\":[0.0002932551319648094]},{\"text\":\"step\",\"textposition\":\"auto\",\"type\":\"bar\",\"width\":0.1,\"x\":[\"On what\"],\"y\":[0.0002932551319648094]},{\"text\":\"window\",\"textposition\":\"auto\",\"type\":\"bar\",\"width\":0.1,\"x\":[\"On what\"],\"y\":[0.0002932551319648094]},{\"text\":\"land\",\"textposition\":\"auto\",\"type\":\"bar\",\"width\":0.1,\"x\":[\"On what\"],\"y\":[0.0002932551319648094]},{\"text\":\"staircase\",\"textposition\":\"auto\",\"type\":\"bar\",\"width\":0.1,\"x\":[\"On what\"],\"y\":[0.0002932551319648094]},{\"text\":\"wooden wall\",\"textposition\":\"auto\",\"type\":\"bar\",\"width\":0.1,\"x\":[\"On what\"],\"y\":[0.0002932551319648094]},{\"text\":\"sofa set\",\"textposition\":\"auto\",\"type\":\"bar\",\"width\":0.1,\"x\":[\"On what\"],\"y\":[0.0002932551319648094]},{\"text\":\"stone\",\"textposition\":\"auto\",\"type\":\"bar\",\"width\":0.1,\"x\":[\"On what\"],\"y\":[0.0002932551319648094]},{\"text\":\"ball\",\"textposition\":\"auto\",\"type\":\"bar\",\"width\":0.1,\"x\":[\"On what\"],\"y\":[0.0002932551319648094]},{\"text\":\"escalator\",\"textposition\":\"auto\",\"type\":\"bar\",\"width\":0.1,\"x\":[\"On what\"],\"y\":[0.0002932551319648094]},{\"text\":\"pathway\",\"textposition\":\"auto\",\"type\":\"bar\",\"width\":0.1,\"x\":[\"On what\"],\"y\":[0.0002932551319648094]},{\"text\":\"display board\",\"textposition\":\"auto\",\"type\":\"bar\",\"width\":0.1,\"x\":[\"On what\"],\"y\":[0.0002932551319648094]},{\"text\":\"river\",\"textposition\":\"auto\",\"type\":\"bar\",\"width\":0.1,\"x\":[\"On what\"],\"y\":[0.0002932551319648094]},{\"text\":\"green grass\",\"textposition\":\"auto\",\"type\":\"bar\",\"width\":0.1,\"x\":[\"On what\"],\"y\":[0.0002932551319648094]},{\"text\":\"wooden board\",\"textposition\":\"auto\",\"type\":\"bar\",\"width\":0.1,\"x\":[\"On what\"],\"y\":[0.0002932551319648094]},{\"text\":\"towel\",\"textposition\":\"auto\",\"type\":\"bar\",\"width\":0.1,\"x\":[\"On what\"],\"y\":[0.0002932551319648094]}],                        {\"barmode\":\"stack\",\"template\":{\"data\":{\"bar\":[{\"error_x\":{\"color\":\"#2a3f5f\"},\"error_y\":{\"color\":\"#2a3f5f\"},\"marker\":{\"line\":{\"color\":\"#E5ECF6\",\"width\":0.5},\"pattern\":{\"fillmode\":\"overlay\",\"size\":10,\"solidity\":0.2}},\"type\":\"bar\"}],\"barpolar\":[{\"marker\":{\"line\":{\"color\":\"#E5ECF6\",\"width\":0.5},\"pattern\":{\"fillmode\":\"overlay\",\"size\":10,\"solidity\":0.2}},\"type\":\"barpolar\"}],\"carpet\":[{\"aaxis\":{\"endlinecolor\":\"#2a3f5f\",\"gridcolor\":\"white\",\"linecolor\":\"white\",\"minorgridcolor\":\"white\",\"startlinecolor\":\"#2a3f5f\"},\"baxis\":{\"endlinecolor\":\"#2a3f5f\",\"gridcolor\":\"white\",\"linecolor\":\"white\",\"minorgridcolor\":\"white\",\"startlinecolor\":\"#2a3f5f\"},\"type\":\"carpet\"}],\"choropleth\":[{\"colorbar\":{\"outlinewidth\":0,\"ticks\":\"\"},\"type\":\"choropleth\"}],\"contour\":[{\"colorbar\":{\"outlinewidth\":0,\"ticks\":\"\"},\"colorscale\":[[0.0,\"#0d0887\"],[0.1111111111111111,\"#46039f\"],[0.2222222222222222,\"#7201a8\"],[0.3333333333333333,\"#9c179e\"],[0.4444444444444444,\"#bd3786\"],[0.5555555555555556,\"#d8576b\"],[0.6666666666666666,\"#ed7953\"],[0.7777777777777778,\"#fb9f3a\"],[0.8888888888888888,\"#fdca26\"],[1.0,\"#f0f921\"]],\"type\":\"contour\"}],\"contourcarpet\":[{\"colorbar\":{\"outlinewidth\":0,\"ticks\":\"\"},\"type\":\"contourcarpet\"}],\"heatmap\":[{\"colorbar\":{\"outlinewidth\":0,\"ticks\":\"\"},\"colorscale\":[[0.0,\"#0d0887\"],[0.1111111111111111,\"#46039f\"],[0.2222222222222222,\"#7201a8\"],[0.3333333333333333,\"#9c179e\"],[0.4444444444444444,\"#bd3786\"],[0.5555555555555556,\"#d8576b\"],[0.6666666666666666,\"#ed7953\"],[0.7777777777777778,\"#fb9f3a\"],[0.8888888888888888,\"#fdca26\"],[1.0,\"#f0f921\"]],\"type\":\"heatmap\"}],\"heatmapgl\":[{\"colorbar\":{\"outlinewidth\":0,\"ticks\":\"\"},\"colorscale\":[[0.0,\"#0d0887\"],[0.1111111111111111,\"#46039f\"],[0.2222222222222222,\"#7201a8\"],[0.3333333333333333,\"#9c179e\"],[0.4444444444444444,\"#bd3786\"],[0.5555555555555556,\"#d8576b\"],[0.6666666666666666,\"#ed7953\"],[0.7777777777777778,\"#fb9f3a\"],[0.8888888888888888,\"#fdca26\"],[1.0,\"#f0f921\"]],\"type\":\"heatmapgl\"}],\"histogram\":[{\"marker\":{\"pattern\":{\"fillmode\":\"overlay\",\"size\":10,\"solidity\":0.2}},\"type\":\"histogram\"}],\"histogram2d\":[{\"colorbar\":{\"outlinewidth\":0,\"ticks\":\"\"},\"colorscale\":[[0.0,\"#0d0887\"],[0.1111111111111111,\"#46039f\"],[0.2222222222222222,\"#7201a8\"],[0.3333333333333333,\"#9c179e\"],[0.4444444444444444,\"#bd3786\"],[0.5555555555555556,\"#d8576b\"],[0.6666666666666666,\"#ed7953\"],[0.7777777777777778,\"#fb9f3a\"],[0.8888888888888888,\"#fdca26\"],[1.0,\"#f0f921\"]],\"type\":\"histogram2d\"}],\"histogram2dcontour\":[{\"colorbar\":{\"outlinewidth\":0,\"ticks\":\"\"},\"colorscale\":[[0.0,\"#0d0887\"],[0.1111111111111111,\"#46039f\"],[0.2222222222222222,\"#7201a8\"],[0.3333333333333333,\"#9c179e\"],[0.4444444444444444,\"#bd3786\"],[0.5555555555555556,\"#d8576b\"],[0.6666666666666666,\"#ed7953\"],[0.7777777777777778,\"#fb9f3a\"],[0.8888888888888888,\"#fdca26\"],[1.0,\"#f0f921\"]],\"type\":\"histogram2dcontour\"}],\"mesh3d\":[{\"colorbar\":{\"outlinewidth\":0,\"ticks\":\"\"},\"type\":\"mesh3d\"}],\"parcoords\":[{\"line\":{\"colorbar\":{\"outlinewidth\":0,\"ticks\":\"\"}},\"type\":\"parcoords\"}],\"pie\":[{\"automargin\":true,\"type\":\"pie\"}],\"scatter\":[{\"marker\":{\"colorbar\":{\"outlinewidth\":0,\"ticks\":\"\"}},\"type\":\"scatter\"}],\"scatter3d\":[{\"line\":{\"colorbar\":{\"outlinewidth\":0,\"ticks\":\"\"}},\"marker\":{\"colorbar\":{\"outlinewidth\":0,\"ticks\":\"\"}},\"type\":\"scatter3d\"}],\"scattercarpet\":[{\"marker\":{\"colorbar\":{\"outlinewidth\":0,\"ticks\":\"\"}},\"type\":\"scattercarpet\"}],\"scattergeo\":[{\"marker\":{\"colorbar\":{\"outlinewidth\":0,\"ticks\":\"\"}},\"type\":\"scattergeo\"}],\"scattergl\":[{\"marker\":{\"colorbar\":{\"outlinewidth\":0,\"ticks\":\"\"}},\"type\":\"scattergl\"}],\"scattermapbox\":[{\"marker\":{\"colorbar\":{\"outlinewidth\":0,\"ticks\":\"\"}},\"type\":\"scattermapbox\"}],\"scatterpolar\":[{\"marker\":{\"colorbar\":{\"outlinewidth\":0,\"ticks\":\"\"}},\"type\":\"scatterpolar\"}],\"scatterpolargl\":[{\"marker\":{\"colorbar\":{\"outlinewidth\":0,\"ticks\":\"\"}},\"type\":\"scatterpolargl\"}],\"scatterternary\":[{\"marker\":{\"colorbar\":{\"outlinewidth\":0,\"ticks\":\"\"}},\"type\":\"scatterternary\"}],\"surface\":[{\"colorbar\":{\"outlinewidth\":0,\"ticks\":\"\"},\"colorscale\":[[0.0,\"#0d0887\"],[0.1111111111111111,\"#46039f\"],[0.2222222222222222,\"#7201a8\"],[0.3333333333333333,\"#9c179e\"],[0.4444444444444444,\"#bd3786\"],[0.5555555555555556,\"#d8576b\"],[0.6666666666666666,\"#ed7953\"],[0.7777777777777778,\"#fb9f3a\"],[0.8888888888888888,\"#fdca26\"],[1.0,\"#f0f921\"]],\"type\":\"surface\"}],\"table\":[{\"cells\":{\"fill\":{\"color\":\"#EBF0F8\"},\"line\":{\"color\":\"white\"}},\"header\":{\"fill\":{\"color\":\"#C8D4E3\"},\"line\":{\"color\":\"white\"}},\"type\":\"table\"}]},\"layout\":{\"annotationdefaults\":{\"arrowcolor\":\"#2a3f5f\",\"arrowhead\":0,\"arrowwidth\":1},\"autotypenumbers\":\"strict\",\"coloraxis\":{\"colorbar\":{\"outlinewidth\":0,\"ticks\":\"\"}},\"colorscale\":{\"diverging\":[[0,\"#8e0152\"],[0.1,\"#c51b7d\"],[0.2,\"#de77ae\"],[0.3,\"#f1b6da\"],[0.4,\"#fde0ef\"],[0.5,\"#f7f7f7\"],[0.6,\"#e6f5d0\"],[0.7,\"#b8e186\"],[0.8,\"#7fbc41\"],[0.9,\"#4d9221\"],[1,\"#276419\"]],\"sequential\":[[0.0,\"#0d0887\"],[0.1111111111111111,\"#46039f\"],[0.2222222222222222,\"#7201a8\"],[0.3333333333333333,\"#9c179e\"],[0.4444444444444444,\"#bd3786\"],[0.5555555555555556,\"#d8576b\"],[0.6666666666666666,\"#ed7953\"],[0.7777777777777778,\"#fb9f3a\"],[0.8888888888888888,\"#fdca26\"],[1.0,\"#f0f921\"]],\"sequentialminus\":[[0.0,\"#0d0887\"],[0.1111111111111111,\"#46039f\"],[0.2222222222222222,\"#7201a8\"],[0.3333333333333333,\"#9c179e\"],[0.4444444444444444,\"#bd3786\"],[0.5555555555555556,\"#d8576b\"],[0.6666666666666666,\"#ed7953\"],[0.7777777777777778,\"#fb9f3a\"],[0.8888888888888888,\"#fdca26\"],[1.0,\"#f0f921\"]]},\"colorway\":[\"#636efa\",\"#EF553B\",\"#00cc96\",\"#ab63fa\",\"#FFA15A\",\"#19d3f3\",\"#FF6692\",\"#B6E880\",\"#FF97FF\",\"#FECB52\"],\"font\":{\"color\":\"#2a3f5f\"},\"geo\":{\"bgcolor\":\"white\",\"lakecolor\":\"white\",\"landcolor\":\"#E5ECF6\",\"showlakes\":true,\"showland\":true,\"subunitcolor\":\"white\"},\"hoverlabel\":{\"align\":\"left\"},\"hovermode\":\"closest\",\"mapbox\":{\"style\":\"light\"},\"paper_bgcolor\":\"white\",\"plot_bgcolor\":\"#E5ECF6\",\"polar\":{\"angularaxis\":{\"gridcolor\":\"white\",\"linecolor\":\"white\",\"ticks\":\"\"},\"bgcolor\":\"#E5ECF6\",\"radialaxis\":{\"gridcolor\":\"white\",\"linecolor\":\"white\",\"ticks\":\"\"}},\"scene\":{\"xaxis\":{\"backgroundcolor\":\"#E5ECF6\",\"gridcolor\":\"white\",\"gridwidth\":2,\"linecolor\":\"white\",\"showbackground\":true,\"ticks\":\"\",\"zerolinecolor\":\"white\"},\"yaxis\":{\"backgroundcolor\":\"#E5ECF6\",\"gridcolor\":\"white\",\"gridwidth\":2,\"linecolor\":\"white\",\"showbackground\":true,\"ticks\":\"\",\"zerolinecolor\":\"white\"},\"zaxis\":{\"backgroundcolor\":\"#E5ECF6\",\"gridcolor\":\"white\",\"gridwidth\":2,\"linecolor\":\"white\",\"showbackground\":true,\"ticks\":\"\",\"zerolinecolor\":\"white\"}},\"shapedefaults\":{\"line\":{\"color\":\"#2a3f5f\"}},\"ternary\":{\"aaxis\":{\"gridcolor\":\"white\",\"linecolor\":\"white\",\"ticks\":\"\"},\"baxis\":{\"gridcolor\":\"white\",\"linecolor\":\"white\",\"ticks\":\"\"},\"bgcolor\":\"#E5ECF6\",\"caxis\":{\"gridcolor\":\"white\",\"linecolor\":\"white\",\"ticks\":\"\"}},\"title\":{\"x\":0.05},\"xaxis\":{\"automargin\":true,\"gridcolor\":\"white\",\"linecolor\":\"white\",\"ticks\":\"\",\"title\":{\"standoff\":15},\"zerolinecolor\":\"white\",\"zerolinewidth\":2},\"yaxis\":{\"automargin\":true,\"gridcolor\":\"white\",\"linecolor\":\"white\",\"ticks\":\"\",\"title\":{\"standoff\":15},\"zerolinecolor\":\"white\",\"zerolinewidth\":2}}}},                        {\"responsive\": true}                    ).then(function(){\n",
       "                            \n",
       "var gd = document.getElementById('8853e038-1992-4dba-bf8c-d137d258fdb3');\n",
       "var x = new MutationObserver(function (mutations, observer) {{\n",
       "        var display = window.getComputedStyle(gd).display;\n",
       "        if (!display || display === 'none') {{\n",
       "            console.log([gd, 'removed!']);\n",
       "            Plotly.purge(gd);\n",
       "            observer.disconnect();\n",
       "        }}\n",
       "}});\n",
       "\n",
       "// Listen for the removal of the full notebook cells\n",
       "var notebookContainer = gd.closest('#notebook-container');\n",
       "if (notebookContainer) {{\n",
       "    x.observe(notebookContainer, {childList: true});\n",
       "}}\n",
       "\n",
       "// Listen for the clearing of the current output cell\n",
       "var outputEl = gd.closest('.output');\n",
       "if (outputEl) {{\n",
       "    x.observe(outputEl, {childList: true});\n",
       "}}\n",
       "\n",
       "                        })                };                });            </script>        </div>"
      ]
     },
     "metadata": {},
     "output_type": "display_data"
    }
   ],
   "source": [
    "draw_qa_bar('On what')"
   ]
  },
  {
   "cell_type": "code",
   "execution_count": 65,
   "metadata": {},
   "outputs": [
    {
     "data": {
      "application/vnd.plotly.v1+json": {
       "config": {
        "plotlyServerURL": "https://plot.ly"
       },
       "data": [
        {
         "text": "wooden",
         "textposition": "auto",
         "type": "bar",
         "width": 0.1,
         "x": [
          "What kind"
         ],
         "y": [
          0.23983530622748328
         ]
        },
        {
         "text": "glass",
         "textposition": "auto",
         "type": "bar",
         "width": 0.1,
         "x": [
          "What kind"
         ],
         "y": [
          0.1152856407617087
         ]
        },
        {
         "text": "metal",
         "textposition": "auto",
         "type": "bar",
         "width": 0.1,
         "x": [
          "What kind"
         ],
         "y": [
          0.05301080802882141
         ]
        },
        {
         "text": "light pole",
         "textposition": "auto",
         "type": "bar",
         "width": 0.1,
         "x": [
          "What kind"
         ],
         "y": [
          0.04374678332475553
         ]
        },
        {
         "text": "dry",
         "textposition": "auto",
         "type": "bar",
         "width": 0.1,
         "x": [
          "What kind"
         ],
         "y": [
          0.018528049408131755
         ]
        },
        {
         "text": "blur",
         "textposition": "auto",
         "type": "bar",
         "width": 0.1,
         "x": [
          "What kind"
         ],
         "y": [
          0.016984045290787442
         ]
        },
        {
         "text": "cloud",
         "textposition": "auto",
         "type": "bar",
         "width": 0.1,
         "x": [
          "What kind"
         ],
         "y": [
          0.016469377251672673
         ]
        },
        {
         "text": "chair",
         "textposition": "auto",
         "type": "bar",
         "width": 0.1,
         "x": [
          "What kind"
         ],
         "y": [
          0.016212043232115284
         ]
        },
        {
         "text": "open",
         "textposition": "auto",
         "type": "bar",
         "width": 0.1,
         "x": [
          "What kind"
         ],
         "y": [
          0.01544004117344313
         ]
        },
        {
         "text": "iron",
         "textposition": "auto",
         "type": "bar",
         "width": 0.1,
         "x": [
          "What kind"
         ],
         "y": [
          0.014668039114770973
         ]
        },
        {
         "text": "light",
         "textposition": "auto",
         "type": "bar",
         "width": 0.1,
         "x": [
          "What kind"
         ],
         "y": [
          0.013638703036541432
         ]
        },
        {
         "text": "empty",
         "textposition": "auto",
         "type": "bar",
         "width": 0.1,
         "x": [
          "What kind"
         ],
         "y": [
          0.013381369016984045
         ]
        },
        {
         "text": "cloudy",
         "textposition": "auto",
         "type": "bar",
         "width": 0.1,
         "x": [
          "What kind"
         ],
         "y": [
          0.011580030880082347
         ]
        },
        {
         "text": "frame",
         "textposition": "auto",
         "type": "bar",
         "width": 0.1,
         "x": [
          "What kind"
         ],
         "y": [
          0.01080802882141019
         ]
        },
        {
         "text": "glass window",
         "textposition": "auto",
         "type": "bar",
         "width": 0.1,
         "x": [
          "What kind"
         ],
         "y": [
          0.010036026762738034
         ]
        },
        {
         "text": "clear",
         "textposition": "auto",
         "type": "bar",
         "width": 0.1,
         "x": [
          "What kind"
         ],
         "y": [
          0.009264024704065878
         ]
        },
        {
         "text": "plastic",
         "textposition": "auto",
         "type": "bar",
         "width": 0.1,
         "x": [
          "What kind"
         ],
         "y": [
          0.009006690684508493
         ]
        },
        {
         "text": "metal rod",
         "textposition": "auto",
         "type": "bar",
         "width": 0.1,
         "x": [
          "What kind"
         ],
         "y": [
          0.009006690684508493
         ]
        },
        {
         "text": "decorative",
         "textposition": "auto",
         "type": "bar",
         "width": 0.1,
         "x": [
          "What kind"
         ],
         "y": [
          0.008492022645393721
         ]
        },
        {
         "text": "steel",
         "textposition": "auto",
         "type": "bar",
         "width": 0.1,
         "x": [
          "What kind"
         ],
         "y": [
          0.008492022645393721
         ]
        },
        {
         "text": "carpet",
         "textposition": "auto",
         "type": "bar",
         "width": 0.1,
         "x": [
          "What kind"
         ],
         "y": [
          0.007720020586721565
         ]
        },
        {
         "text": "potted plant",
         "textposition": "auto",
         "type": "bar",
         "width": 0.1,
         "x": [
          "What kind"
         ],
         "y": [
          0.007205352547606794
         ]
        },
        {
         "text": "blurry",
         "textposition": "auto",
         "type": "bar",
         "width": 0.1,
         "x": [
          "What kind"
         ],
         "y": [
          0.007205352547606794
         ]
        },
        {
         "text": "blurred",
         "textposition": "auto",
         "type": "bar",
         "width": 0.1,
         "x": [
          "What kind"
         ],
         "y": [
          0.006948018528049408
         ]
        },
        {
         "text": "light arrangement",
         "textposition": "auto",
         "type": "bar",
         "width": 0.1,
         "x": [
          "What kind"
         ],
         "y": [
          0.006433350488934638
         ]
        },
        {
         "text": "light lamp",
         "textposition": "auto",
         "type": "bar",
         "width": 0.1,
         "x": [
          "What kind"
         ],
         "y": [
          0.006433350488934638
         ]
        },
        {
         "text": "kind",
         "textposition": "auto",
         "type": "bar",
         "width": 0.1,
         "x": [
          "What kind"
         ],
         "y": [
          0.006433350488934638
         ]
        },
        {
         "text": "fire",
         "textposition": "auto",
         "type": "bar",
         "width": 0.1,
         "x": [
          "What kind"
         ],
         "y": [
          0.006176016469377252
         ]
        },
        {
         "text": "colorful",
         "textposition": "auto",
         "type": "bar",
         "width": 0.1,
         "x": [
          "What kind"
         ],
         "y": [
          0.005918682449819866
         ]
        },
        {
         "text": "group",
         "textposition": "auto",
         "type": "bar",
         "width": 0.1,
         "x": [
          "What kind"
         ],
         "y": [
          0.005661348430262481
         ]
        },
        {
         "text": "paper",
         "textposition": "auto",
         "type": "bar",
         "width": 0.1,
         "x": [
          "What kind"
         ],
         "y": [
          0.005661348430262481
         ]
        },
        {
         "text": "electronic",
         "textposition": "auto",
         "type": "bar",
         "width": 0.1,
         "x": [
          "What kind"
         ],
         "y": [
          0.0051466803911477095
         ]
        },
        {
         "text": "grass",
         "textposition": "auto",
         "type": "bar",
         "width": 0.1,
         "x": [
          "What kind"
         ],
         "y": [
          0.0051466803911477095
         ]
        },
        {
         "text": "blind",
         "textposition": "auto",
         "type": "bar",
         "width": 0.1,
         "x": [
          "What kind"
         ],
         "y": [
          0.004889346371590325
         ]
        },
        {
         "text": "ceiling light",
         "textposition": "auto",
         "type": "bar",
         "width": 0.1,
         "x": [
          "What kind"
         ],
         "y": [
          0.004632012352032939
         ]
        },
        {
         "text": "cloudy sky",
         "textposition": "auto",
         "type": "bar",
         "width": 0.1,
         "x": [
          "What kind"
         ],
         "y": [
          0.004374678332475553
         ]
        },
        {
         "text": "gas stove",
         "textposition": "auto",
         "type": "bar",
         "width": 0.1,
         "x": [
          "What kind"
         ],
         "y": [
          0.004374678332475553
         ]
        },
        {
         "text": "small plant",
         "textposition": "auto",
         "type": "bar",
         "width": 0.1,
         "x": [
          "What kind"
         ],
         "y": [
          0.004117344312918168
         ]
        },
        {
         "text": "traffic light",
         "textposition": "auto",
         "type": "bar",
         "width": 0.1,
         "x": [
          "What kind"
         ],
         "y": [
          0.004117344312918168
         ]
        },
        {
         "text": "clear sky",
         "textposition": "auto",
         "type": "bar",
         "width": 0.1,
         "x": [
          "What kind"
         ],
         "y": [
          0.004117344312918168
         ]
        },
        {
         "text": "stick",
         "textposition": "auto",
         "type": "bar",
         "width": 0.1,
         "x": [
          "What kind"
         ],
         "y": [
          0.0038600102933607824
         ]
        },
        {
         "text": "rock",
         "textposition": "auto",
         "type": "bar",
         "width": 0.1,
         "x": [
          "What kind"
         ],
         "y": [
          0.0038600102933607824
         ]
        },
        {
         "text": "different",
         "textposition": "auto",
         "type": "bar",
         "width": 0.1,
         "x": [
          "What kind"
         ],
         "y": [
          0.0038600102933607824
         ]
        },
        {
         "text": "water",
         "textposition": "auto",
         "type": "bar",
         "width": 0.1,
         "x": [
          "What kind"
         ],
         "y": [
          0.003602676273803397
         ]
        },
        {
         "text": "concrete",
         "textposition": "auto",
         "type": "bar",
         "width": 0.1,
         "x": [
          "What kind"
         ],
         "y": [
          0.003602676273803397
         ]
        },
        {
         "text": "human",
         "textposition": "auto",
         "type": "bar",
         "width": 0.1,
         "x": [
          "What kind"
         ],
         "y": [
          0.003602676273803397
         ]
        },
        {
         "text": "air conditioner",
         "textposition": "auto",
         "type": "bar",
         "width": 0.1,
         "x": [
          "What kind"
         ],
         "y": [
          0.003602676273803397
         ]
        },
        {
         "text": "tree",
         "textposition": "auto",
         "type": "bar",
         "width": 0.1,
         "x": [
          "What kind"
         ],
         "y": [
          0.0033453422542460112
         ]
        },
        {
         "text": "transparent",
         "textposition": "auto",
         "type": "bar",
         "width": 0.1,
         "x": [
          "What kind"
         ],
         "y": [
          0.003088008234688626
         ]
        },
        {
         "text": "big",
         "textposition": "auto",
         "type": "bar",
         "width": 0.1,
         "x": [
          "What kind"
         ],
         "y": [
          0.0028306742151312406
         ]
        },
        {
         "text": "electronic device",
         "textposition": "auto",
         "type": "bar",
         "width": 0.1,
         "x": [
          "What kind"
         ],
         "y": [
          0.0028306742151312406
         ]
        },
        {
         "text": "board",
         "textposition": "auto",
         "type": "bar",
         "width": 0.1,
         "x": [
          "What kind"
         ],
         "y": [
          0.0028306742151312406
         ]
        },
        {
         "text": "snowy mountain",
         "textposition": "auto",
         "type": "bar",
         "width": 0.1,
         "x": [
          "What kind"
         ],
         "y": [
          0.0028306742151312406
         ]
        },
        {
         "text": "wooden cabinet",
         "textposition": "auto",
         "type": "bar",
         "width": 0.1,
         "x": [
          "What kind"
         ],
         "y": [
          0.0025733401955738548
         ]
        },
        {
         "text": "traffic",
         "textposition": "auto",
         "type": "bar",
         "width": 0.1,
         "x": [
          "What kind"
         ],
         "y": [
          0.0025733401955738548
         ]
        },
        {
         "text": "microwave oven",
         "textposition": "auto",
         "type": "bar",
         "width": 0.1,
         "x": [
          "What kind"
         ],
         "y": [
          0.0025733401955738548
         ]
        },
        {
         "text": "mountain",
         "textposition": "auto",
         "type": "bar",
         "width": 0.1,
         "x": [
          "What kind"
         ],
         "y": [
          0.0025733401955738548
         ]
        },
        {
         "text": "pole",
         "textposition": "auto",
         "type": "bar",
         "width": 0.1,
         "x": [
          "What kind"
         ],
         "y": [
          0.0025733401955738548
         ]
        },
        {
         "text": "window blind",
         "textposition": "auto",
         "type": "bar",
         "width": 0.1,
         "x": [
          "What kind"
         ],
         "y": [
          0.0023160061760164694
         ]
        },
        {
         "text": "wire",
         "textposition": "auto",
         "type": "bar",
         "width": 0.1,
         "x": [
          "What kind"
         ],
         "y": [
          0.0023160061760164694
         ]
        },
        {
         "text": "washing machine",
         "textposition": "auto",
         "type": "bar",
         "width": 0.1,
         "x": [
          "What kind"
         ],
         "y": [
          0.0023160061760164694
         ]
        },
        {
         "text": "dry grass",
         "textposition": "auto",
         "type": "bar",
         "width": 0.1,
         "x": [
          "What kind"
         ],
         "y": [
          0.0023160061760164694
         ]
        },
        {
         "text": "tissue paper",
         "textposition": "auto",
         "type": "bar",
         "width": 0.1,
         "x": [
          "What kind"
         ],
         "y": [
          0.002058672156459084
         ]
        },
        {
         "text": "floor mat",
         "textposition": "auto",
         "type": "bar",
         "width": 0.1,
         "x": [
          "What kind"
         ],
         "y": [
          0.002058672156459084
         ]
        },
        {
         "text": "curtain",
         "textposition": "auto",
         "type": "bar",
         "width": 0.1,
         "x": [
          "What kind"
         ],
         "y": [
          0.002058672156459084
         ]
        },
        {
         "text": "wooden rack",
         "textposition": "auto",
         "type": "bar",
         "width": 0.1,
         "x": [
          "What kind"
         ],
         "y": [
          0.002058672156459084
         ]
        },
        {
         "text": "toy",
         "textposition": "auto",
         "type": "bar",
         "width": 0.1,
         "x": [
          "What kind"
         ],
         "y": [
          0.002058672156459084
         ]
        },
        {
         "text": "metal frame",
         "textposition": "auto",
         "type": "bar",
         "width": 0.1,
         "x": [
          "What kind"
         ],
         "y": [
          0.002058672156459084
         ]
        },
        {
         "text": "grill",
         "textposition": "auto",
         "type": "bar",
         "width": 0.1,
         "x": [
          "What kind"
         ],
         "y": [
          0.002058672156459084
         ]
        },
        {
         "text": "dark",
         "textposition": "auto",
         "type": "bar",
         "width": 0.1,
         "x": [
          "What kind"
         ],
         "y": [
          0.002058672156459084
         ]
        },
        {
         "text": "sand",
         "textposition": "auto",
         "type": "bar",
         "width": 0.1,
         "x": [
          "What kind"
         ],
         "y": [
          0.002058672156459084
         ]
        },
        {
         "text": "pillar",
         "textposition": "auto",
         "type": "bar",
         "width": 0.1,
         "x": [
          "What kind"
         ],
         "y": [
          0.002058672156459084
         ]
        },
        {
         "text": "tile",
         "textposition": "auto",
         "type": "bar",
         "width": 0.1,
         "x": [
          "What kind"
         ],
         "y": [
          0.002058672156459084
         ]
        },
        {
         "text": "rod",
         "textposition": "auto",
         "type": "bar",
         "width": 0.1,
         "x": [
          "What kind"
         ],
         "y": [
          0.0018013381369016985
         ]
        },
        {
         "text": "car",
         "textposition": "auto",
         "type": "bar",
         "width": 0.1,
         "x": [
          "What kind"
         ],
         "y": [
          0.0018013381369016985
         ]
        },
        {
         "text": "color",
         "textposition": "auto",
         "type": "bar",
         "width": 0.1,
         "x": [
          "What kind"
         ],
         "y": [
          0.0018013381369016985
         ]
        },
        {
         "text": "full",
         "textposition": "auto",
         "type": "bar",
         "width": 0.1,
         "x": [
          "What kind"
         ],
         "y": [
          0.0018013381369016985
         ]
        },
        {
         "text": "sound box",
         "textposition": "auto",
         "type": "bar",
         "width": 0.1,
         "x": [
          "What kind"
         ],
         "y": [
          0.0018013381369016985
         ]
        },
        {
         "text": "stone",
         "textposition": "auto",
         "type": "bar",
         "width": 0.1,
         "x": [
          "What kind"
         ],
         "y": [
          0.0018013381369016985
         ]
        },
        {
         "text": "green",
         "textposition": "auto",
         "type": "bar",
         "width": 0.1,
         "x": [
          "What kind"
         ],
         "y": [
          0.0018013381369016985
         ]
        },
        {
         "text": "leave",
         "textposition": "auto",
         "type": "bar",
         "width": 0.1,
         "x": [
          "What kind"
         ],
         "y": [
          0.0018013381369016985
         ]
        },
        {
         "text": "musical",
         "textposition": "auto",
         "type": "bar",
         "width": 0.1,
         "x": [
          "What kind"
         ],
         "y": [
          0.0018013381369016985
         ]
        },
        {
         "text": "small",
         "textposition": "auto",
         "type": "bar",
         "width": 0.1,
         "x": [
          "What kind"
         ],
         "y": [
          0.0018013381369016985
         ]
        },
        {
         "text": "horse",
         "textposition": "auto",
         "type": "bar",
         "width": 0.1,
         "x": [
          "What kind"
         ],
         "y": [
          0.001544004117344313
         ]
        },
        {
         "text": "tissue roll",
         "textposition": "auto",
         "type": "bar",
         "width": 0.1,
         "x": [
          "What kind"
         ],
         "y": [
          0.001544004117344313
         ]
        },
        {
         "text": "glass door",
         "textposition": "auto",
         "type": "bar",
         "width": 0.1,
         "x": [
          "What kind"
         ],
         "y": [
          0.001544004117344313
         ]
        },
        {
         "text": "glass jar",
         "textposition": "auto",
         "type": "bar",
         "width": 0.1,
         "x": [
          "What kind"
         ],
         "y": [
          0.001544004117344313
         ]
        },
        {
         "text": "wooden frame",
         "textposition": "auto",
         "type": "bar",
         "width": 0.1,
         "x": [
          "What kind"
         ],
         "y": [
          0.001544004117344313
         ]
        },
        {
         "text": "beautiful",
         "textposition": "auto",
         "type": "bar",
         "width": 0.1,
         "x": [
          "What kind"
         ],
         "y": [
          0.001544004117344313
         ]
        },
        {
         "text": "vegetable",
         "textposition": "auto",
         "type": "bar",
         "width": 0.1,
         "x": [
          "What kind"
         ],
         "y": [
          0.001544004117344313
         ]
        },
        {
         "text": "wood",
         "textposition": "auto",
         "type": "bar",
         "width": 0.1,
         "x": [
          "What kind"
         ],
         "y": [
          0.001544004117344313
         ]
        },
        {
         "text": "glass bottle",
         "textposition": "auto",
         "type": "bar",
         "width": 0.1,
         "x": [
          "What kind"
         ],
         "y": [
          0.001544004117344313
         ]
        },
        {
         "text": "cardboard",
         "textposition": "auto",
         "type": "bar",
         "width": 0.1,
         "x": [
          "What kind"
         ],
         "y": [
          0.001544004117344313
         ]
        },
        {
         "text": "cardboard box",
         "textposition": "auto",
         "type": "bar",
         "width": 0.1,
         "x": [
          "What kind"
         ],
         "y": [
          0.001544004117344313
         ]
        },
        {
         "text": "liquid",
         "textposition": "auto",
         "type": "bar",
         "width": 0.1,
         "x": [
          "What kind"
         ],
         "y": [
          0.001544004117344313
         ]
        },
        {
         "text": "white colour",
         "textposition": "auto",
         "type": "bar",
         "width": 0.1,
         "x": [
          "What kind"
         ],
         "y": [
          0.0012866700977869274
         ]
        },
        {
         "text": "big building",
         "textposition": "auto",
         "type": "bar",
         "width": 0.1,
         "x": [
          "What kind"
         ],
         "y": [
          0.0012866700977869274
         ]
        },
        {
         "text": "tissue",
         "textposition": "auto",
         "type": "bar",
         "width": 0.1,
         "x": [
          "What kind"
         ],
         "y": [
          0.0012866700977869274
         ]
        },
        {
         "text": "air",
         "textposition": "auto",
         "type": "bar",
         "width": 0.1,
         "x": [
          "What kind"
         ],
         "y": [
          0.0012866700977869274
         ]
        },
        {
         "text": "signal",
         "textposition": "auto",
         "type": "bar",
         "width": 0.1,
         "x": [
          "What kind"
         ],
         "y": [
          0.0012866700977869274
         ]
        },
        {
         "text": "ball",
         "textposition": "auto",
         "type": "bar",
         "width": 0.1,
         "x": [
          "What kind"
         ],
         "y": [
          0.0012866700977869274
         ]
        },
        {
         "text": "mobile",
         "textposition": "auto",
         "type": "bar",
         "width": 0.1,
         "x": [
          "What kind"
         ],
         "y": [
          0.0012866700977869274
         ]
        },
        {
         "text": "iron grille",
         "textposition": "auto",
         "type": "bar",
         "width": 0.1,
         "x": [
          "What kind"
         ],
         "y": [
          0.0012866700977869274
         ]
        },
        {
         "text": "traffic signal",
         "textposition": "auto",
         "type": "bar",
         "width": 0.1,
         "x": [
          "What kind"
         ],
         "y": [
          0.0012866700977869274
         ]
        },
        {
         "text": "snow",
         "textposition": "auto",
         "type": "bar",
         "width": 0.1,
         "x": [
          "What kind"
         ],
         "y": [
          0.0012866700977869274
         ]
        },
        {
         "text": "gas",
         "textposition": "auto",
         "type": "bar",
         "width": 0.1,
         "x": [
          "What kind"
         ],
         "y": [
          0.0012866700977869274
         ]
        },
        {
         "text": "vehicle",
         "textposition": "auto",
         "type": "bar",
         "width": 0.1,
         "x": [
          "What kind"
         ],
         "y": [
          0.0012866700977869274
         ]
        },
        {
         "text": "metal rack",
         "textposition": "auto",
         "type": "bar",
         "width": 0.1,
         "x": [
          "What kind"
         ],
         "y": [
          0.0012866700977869274
         ]
        },
        {
         "text": "glass shelf",
         "textposition": "auto",
         "type": "bar",
         "width": 0.1,
         "x": [
          "What kind"
         ],
         "y": [
          0.0012866700977869274
         ]
        },
        {
         "text": "electrical",
         "textposition": "auto",
         "type": "bar",
         "width": 0.1,
         "x": [
          "What kind"
         ],
         "y": [
          0.0012866700977869274
         ]
        },
        {
         "text": "paper roll",
         "textposition": "auto",
         "type": "bar",
         "width": 0.1,
         "x": [
          "What kind"
         ],
         "y": [
          0.0012866700977869274
         ]
        },
        {
         "text": "dry stem",
         "textposition": "auto",
         "type": "bar",
         "width": 0.1,
         "x": [
          "What kind"
         ],
         "y": [
          0.0012866700977869274
         ]
        },
        {
         "text": "mesh",
         "textposition": "auto",
         "type": "bar",
         "width": 0.1,
         "x": [
          "What kind"
         ],
         "y": [
          0.0012866700977869274
         ]
        },
        {
         "text": "wall",
         "textposition": "auto",
         "type": "bar",
         "width": 0.1,
         "x": [
          "What kind"
         ],
         "y": [
          0.0012866700977869274
         ]
        },
        {
         "text": "pillow",
         "textposition": "auto",
         "type": "bar",
         "width": 0.1,
         "x": [
          "What kind"
         ],
         "y": [
          0.0012866700977869274
         ]
        },
        {
         "text": "animal",
         "textposition": "auto",
         "type": "bar",
         "width": 0.1,
         "x": [
          "What kind"
         ],
         "y": [
          0.001029336078229542
         ]
        },
        {
         "text": "candle",
         "textposition": "auto",
         "type": "bar",
         "width": 0.1,
         "x": [
          "What kind"
         ],
         "y": [
          0.001029336078229542
         ]
        },
        {
         "text": "mud",
         "textposition": "auto",
         "type": "bar",
         "width": 0.1,
         "x": [
          "What kind"
         ],
         "y": [
          0.001029336078229542
         ]
        },
        {
         "text": "water bottle",
         "textposition": "auto",
         "type": "bar",
         "width": 0.1,
         "x": [
          "What kind"
         ],
         "y": [
          0.001029336078229542
         ]
        },
        {
         "text": "green grass",
         "textposition": "auto",
         "type": "bar",
         "width": 0.1,
         "x": [
          "What kind"
         ],
         "y": [
          0.001029336078229542
         ]
        },
        {
         "text": "fence",
         "textposition": "auto",
         "type": "bar",
         "width": 0.1,
         "x": [
          "What kind"
         ],
         "y": [
          0.001029336078229542
         ]
        },
        {
         "text": "table",
         "textposition": "auto",
         "type": "bar",
         "width": 0.1,
         "x": [
          "What kind"
         ],
         "y": [
          0.001029336078229542
         ]
        },
        {
         "text": "pair",
         "textposition": "auto",
         "type": "bar",
         "width": 0.1,
         "x": [
          "What kind"
         ],
         "y": [
          0.001029336078229542
         ]
        },
        {
         "text": "iron rod",
         "textposition": "auto",
         "type": "bar",
         "width": 0.1,
         "x": [
          "What kind"
         ],
         "y": [
          0.001029336078229542
         ]
        },
        {
         "text": "toilet paper",
         "textposition": "auto",
         "type": "bar",
         "width": 0.1,
         "x": [
          "What kind"
         ],
         "y": [
          0.001029336078229542
         ]
        },
        {
         "text": "tall building",
         "textposition": "auto",
         "type": "bar",
         "width": 0.1,
         "x": [
          "What kind"
         ],
         "y": [
          0.001029336078229542
         ]
        },
        {
         "text": "type",
         "textposition": "auto",
         "type": "bar",
         "width": 0.1,
         "x": [
          "What kind"
         ],
         "y": [
          0.001029336078229542
         ]
        },
        {
         "text": "wooden house",
         "textposition": "auto",
         "type": "bar",
         "width": 0.1,
         "x": [
          "What kind"
         ],
         "y": [
          0.001029336078229542
         ]
        },
        {
         "text": "dry leave",
         "textposition": "auto",
         "type": "bar",
         "width": 0.1,
         "x": [
          "What kind"
         ],
         "y": [
          0.001029336078229542
         ]
        },
        {
         "text": "net",
         "textposition": "auto",
         "type": "bar",
         "width": 0.1,
         "x": [
          "What kind"
         ],
         "y": [
          0.001029336078229542
         ]
        },
        {
         "text": "branch",
         "textposition": "auto",
         "type": "bar",
         "width": 0.1,
         "x": [
          "What kind"
         ],
         "y": [
          0.001029336078229542
         ]
        },
        {
         "text": "dog",
         "textposition": "auto",
         "type": "bar",
         "width": 0.1,
         "x": [
          "What kind"
         ],
         "y": [
          0.001029336078229542
         ]
        },
        {
         "text": "bench",
         "textposition": "auto",
         "type": "bar",
         "width": 0.1,
         "x": [
          "What kind"
         ],
         "y": [
          0.001029336078229542
         ]
        },
        {
         "text": "wash basin",
         "textposition": "auto",
         "type": "bar",
         "width": 0.1,
         "x": [
          "What kind"
         ],
         "y": [
          0.001029336078229542
         ]
        },
        {
         "text": "boundary wall",
         "textposition": "auto",
         "type": "bar",
         "width": 0.1,
         "x": [
          "What kind"
         ],
         "y": [
          0.001029336078229542
         ]
        },
        {
         "text": "design",
         "textposition": "auto",
         "type": "bar",
         "width": 0.1,
         "x": [
          "What kind"
         ],
         "y": [
          0.001029336078229542
         ]
        },
        {
         "text": "hand",
         "textposition": "auto",
         "type": "bar",
         "width": 0.1,
         "x": [
          "What kind"
         ],
         "y": [
          0.001029336078229542
         ]
        },
        {
         "text": "swimming pool",
         "textposition": "auto",
         "type": "bar",
         "width": 0.1,
         "x": [
          "What kind"
         ],
         "y": [
          0.0007720020586721565
         ]
        },
        {
         "text": "bicycle",
         "textposition": "auto",
         "type": "bar",
         "width": 0.1,
         "x": [
          "What kind"
         ],
         "y": [
          0.0007720020586721565
         ]
        },
        {
         "text": "elephant",
         "textposition": "auto",
         "type": "bar",
         "width": 0.1,
         "x": [
          "What kind"
         ],
         "y": [
          0.0007720020586721565
         ]
        },
        {
         "text": "painting frame",
         "textposition": "auto",
         "type": "bar",
         "width": 0.1,
         "x": [
          "What kind"
         ],
         "y": [
          0.0007720020586721565
         ]
        },
        {
         "text": "plant",
         "textposition": "auto",
         "type": "bar",
         "width": 0.1,
         "x": [
          "What kind"
         ],
         "y": [
          0.0007720020586721565
         ]
        },
        {
         "text": "lamp",
         "textposition": "auto",
         "type": "bar",
         "width": 0.1,
         "x": [
          "What kind"
         ],
         "y": [
          0.0007720020586721565
         ]
        },
        {
         "text": "dust bin",
         "textposition": "auto",
         "type": "bar",
         "width": 0.1,
         "x": [
          "What kind"
         ],
         "y": [
          0.0007720020586721565
         ]
        },
        {
         "text": "shampoo bottle",
         "textposition": "auto",
         "type": "bar",
         "width": 0.1,
         "x": [
          "What kind"
         ],
         "y": [
          0.0007720020586721565
         ]
        },
        {
         "text": "microwave",
         "textposition": "auto",
         "type": "bar",
         "width": 0.1,
         "x": [
          "What kind"
         ],
         "y": [
          0.0007720020586721565
         ]
        },
        {
         "text": "wooden platform",
         "textposition": "auto",
         "type": "bar",
         "width": 0.1,
         "x": [
          "What kind"
         ],
         "y": [
          0.0007720020586721565
         ]
        },
        {
         "text": "trunk",
         "textposition": "auto",
         "type": "bar",
         "width": 0.1,
         "x": [
          "What kind"
         ],
         "y": [
          0.0007720020586721565
         ]
        },
        {
         "text": "fire place",
         "textposition": "auto",
         "type": "bar",
         "width": 0.1,
         "x": [
          "What kind"
         ],
         "y": [
          0.0007720020586721565
         ]
        },
        {
         "text": "cpu",
         "textposition": "auto",
         "type": "bar",
         "width": 0.1,
         "x": [
          "What kind"
         ],
         "y": [
          0.0007720020586721565
         ]
        },
        {
         "text": "dry tree",
         "textposition": "auto",
         "type": "bar",
         "width": 0.1,
         "x": [
          "What kind"
         ],
         "y": [
          0.0007720020586721565
         ]
        },
        {
         "text": "inner",
         "textposition": "auto",
         "type": "bar",
         "width": 0.1,
         "x": [
          "What kind"
         ],
         "y": [
          0.0007720020586721565
         ]
        },
        {
         "text": "flower pot",
         "textposition": "auto",
         "type": "bar",
         "width": 0.1,
         "x": [
          "What kind"
         ],
         "y": [
          0.0007720020586721565
         ]
        },
        {
         "text": "marble",
         "textposition": "auto",
         "type": "bar",
         "width": 0.1,
         "x": [
          "What kind"
         ],
         "y": [
          0.0007720020586721565
         ]
        },
        {
         "text": "huge",
         "textposition": "auto",
         "type": "bar",
         "width": 0.1,
         "x": [
          "What kind"
         ],
         "y": [
          0.0007720020586721565
         ]
        },
        {
         "text": "pot",
         "textposition": "auto",
         "type": "bar",
         "width": 0.1,
         "x": [
          "What kind"
         ],
         "y": [
          0.0007720020586721565
         ]
        },
        {
         "text": "clothe",
         "textposition": "auto",
         "type": "bar",
         "width": 0.1,
         "x": [
          "What kind"
         ],
         "y": [
          0.0007720020586721565
         ]
        },
        {
         "text": "kitchen",
         "textposition": "auto",
         "type": "bar",
         "width": 0.1,
         "x": [
          "What kind"
         ],
         "y": [
          0.0007720020586721565
         ]
        },
        {
         "text": "hand railing",
         "textposition": "auto",
         "type": "bar",
         "width": 0.1,
         "x": [
          "What kind"
         ],
         "y": [
          0.0007720020586721565
         ]
        },
        {
         "text": "lamp light",
         "textposition": "auto",
         "type": "bar",
         "width": 0.1,
         "x": [
          "What kind"
         ],
         "y": [
          0.0007720020586721565
         ]
        },
        {
         "text": "cloth",
         "textposition": "auto",
         "type": "bar",
         "width": 0.1,
         "x": [
          "What kind"
         ],
         "y": [
          0.0007720020586721565
         ]
        },
        {
         "text": "wooden table",
         "textposition": "auto",
         "type": "bar",
         "width": 0.1,
         "x": [
          "What kind"
         ],
         "y": [
          0.0007720020586721565
         ]
        },
        {
         "text": "mirror",
         "textposition": "auto",
         "type": "bar",
         "width": 0.1,
         "x": [
          "What kind"
         ],
         "y": [
          0.0007720020586721565
         ]
        },
        {
         "text": "glass tumbler",
         "textposition": "auto",
         "type": "bar",
         "width": 0.1,
         "x": [
          "What kind"
         ],
         "y": [
          0.0007720020586721565
         ]
        },
        {
         "text": "floor",
         "textposition": "auto",
         "type": "bar",
         "width": 0.1,
         "x": [
          "What kind"
         ],
         "y": [
          0.0007720020586721565
         ]
        },
        {
         "text": "cushion",
         "textposition": "auto",
         "type": "bar",
         "width": 0.1,
         "x": [
          "What kind"
         ],
         "y": [
          0.0007720020586721565
         ]
        },
        {
         "text": "candle stand",
         "textposition": "auto",
         "type": "bar",
         "width": 0.1,
         "x": [
          "What kind"
         ],
         "y": [
          0.0007720020586721565
         ]
        },
        {
         "text": "cupboard",
         "textposition": "auto",
         "type": "bar",
         "width": 0.1,
         "x": [
          "What kind"
         ],
         "y": [
          0.000514668039114771
         ]
        },
        {
         "text": "electric",
         "textposition": "auto",
         "type": "bar",
         "width": 0.1,
         "x": [
          "What kind"
         ],
         "y": [
          0.000514668039114771
         ]
        },
        {
         "text": "bed sheet",
         "textposition": "auto",
         "type": "bar",
         "width": 0.1,
         "x": [
          "What kind"
         ],
         "y": [
          0.000514668039114771
         ]
        },
        {
         "text": "flower",
         "textposition": "auto",
         "type": "bar",
         "width": 0.1,
         "x": [
          "What kind"
         ],
         "y": [
          0.000514668039114771
         ]
        },
        {
         "text": "reflection",
         "textposition": "auto",
         "type": "bar",
         "width": 0.1,
         "x": [
          "What kind"
         ],
         "y": [
          0.000514668039114771
         ]
        },
        {
         "text": "person",
         "textposition": "auto",
         "type": "bar",
         "width": 0.1,
         "x": [
          "What kind"
         ],
         "y": [
          0.000514668039114771
         ]
        },
        {
         "text": "child",
         "textposition": "auto",
         "type": "bar",
         "width": 0.1,
         "x": [
          "What kind"
         ],
         "y": [
          0.000514668039114771
         ]
        },
        {
         "text": "signal light",
         "textposition": "auto",
         "type": "bar",
         "width": 0.1,
         "x": [
          "What kind"
         ],
         "y": [
          0.000514668039114771
         ]
        },
        {
         "text": "fire extinguisher",
         "textposition": "auto",
         "type": "bar",
         "width": 0.1,
         "x": [
          "What kind"
         ],
         "y": [
          0.000514668039114771
         ]
        },
        {
         "text": "fish",
         "textposition": "auto",
         "type": "bar",
         "width": 0.1,
         "x": [
          "What kind"
         ],
         "y": [
          0.000514668039114771
         ]
        },
        {
         "text": "brick",
         "textposition": "auto",
         "type": "bar",
         "width": 0.1,
         "x": [
          "What kind"
         ],
         "y": [
          0.000514668039114771
         ]
        },
        {
         "text": "hill",
         "textposition": "auto",
         "type": "bar",
         "width": 0.1,
         "x": [
          "What kind"
         ],
         "y": [
          0.000514668039114771
         ]
        },
        {
         "text": "sun",
         "textposition": "auto",
         "type": "bar",
         "width": 0.1,
         "x": [
          "What kind"
         ],
         "y": [
          0.000514668039114771
         ]
        },
        {
         "text": "wooden cupboard",
         "textposition": "auto",
         "type": "bar",
         "width": 0.1,
         "x": [
          "What kind"
         ],
         "y": [
          0.000514668039114771
         ]
        },
        {
         "text": "wooden board",
         "textposition": "auto",
         "type": "bar",
         "width": 0.1,
         "x": [
          "What kind"
         ],
         "y": [
          0.000514668039114771
         ]
        },
        {
         "text": "rack",
         "textposition": "auto",
         "type": "bar",
         "width": 0.1,
         "x": [
          "What kind"
         ],
         "y": [
          0.000514668039114771
         ]
        },
        {
         "text": "door mat",
         "textposition": "auto",
         "type": "bar",
         "width": 0.1,
         "x": [
          "What kind"
         ],
         "y": [
          0.000514668039114771
         ]
        },
        {
         "text": "display board",
         "textposition": "auto",
         "type": "bar",
         "width": 0.1,
         "x": [
          "What kind"
         ],
         "y": [
          0.000514668039114771
         ]
        },
        {
         "text": "rope",
         "textposition": "auto",
         "type": "bar",
         "width": 0.1,
         "x": [
          "What kind"
         ],
         "y": [
          0.000514668039114771
         ]
        },
        {
         "text": "box",
         "textposition": "auto",
         "type": "bar",
         "width": 0.1,
         "x": [
          "What kind"
         ],
         "y": [
          0.000514668039114771
         ]
        },
        {
         "text": "ceramic",
         "textposition": "auto",
         "type": "bar",
         "width": 0.1,
         "x": [
          "What kind"
         ],
         "y": [
          0.000514668039114771
         ]
        },
        {
         "text": "cup board",
         "textposition": "auto",
         "type": "bar",
         "width": 0.1,
         "x": [
          "What kind"
         ],
         "y": [
          0.000514668039114771
         ]
        },
        {
         "text": "drink",
         "textposition": "auto",
         "type": "bar",
         "width": 0.1,
         "x": [
          "What kind"
         ],
         "y": [
          0.000514668039114771
         ]
        },
        {
         "text": "sea shore",
         "textposition": "auto",
         "type": "bar",
         "width": 0.1,
         "x": [
          "What kind"
         ],
         "y": [
          0.000514668039114771
         ]
        },
        {
         "text": "wooden pole",
         "textposition": "auto",
         "type": "bar",
         "width": 0.1,
         "x": [
          "What kind"
         ],
         "y": [
          0.000514668039114771
         ]
        },
        {
         "text": "crowd",
         "textposition": "auto",
         "type": "bar",
         "width": 0.1,
         "x": [
          "What kind"
         ],
         "y": [
          0.000514668039114771
         ]
        },
        {
         "text": "holder",
         "textposition": "auto",
         "type": "bar",
         "width": 0.1,
         "x": [
          "What kind"
         ],
         "y": [
          0.000514668039114771
         ]
        },
        {
         "text": "kid",
         "textposition": "auto",
         "type": "bar",
         "width": 0.1,
         "x": [
          "What kind"
         ],
         "y": [
          0.000514668039114771
         ]
        },
        {
         "text": "gaming machine",
         "textposition": "auto",
         "type": "bar",
         "width": 0.1,
         "x": [
          "What kind"
         ],
         "y": [
          0.000514668039114771
         ]
        },
        {
         "text": "staircase",
         "textposition": "auto",
         "type": "bar",
         "width": 0.1,
         "x": [
          "What kind"
         ],
         "y": [
          0.000514668039114771
         ]
        },
        {
         "text": "grassy land",
         "textposition": "auto",
         "type": "bar",
         "width": 0.1,
         "x": [
          "What kind"
         ],
         "y": [
          0.000514668039114771
         ]
        },
        {
         "text": "flower vase",
         "textposition": "auto",
         "type": "bar",
         "width": 0.1,
         "x": [
          "What kind"
         ],
         "y": [
          0.000514668039114771
         ]
        },
        {
         "text": "designer",
         "textposition": "auto",
         "type": "bar",
         "width": 0.1,
         "x": [
          "What kind"
         ],
         "y": [
          0.0002573340195573855
         ]
        },
        {
         "text": "sea",
         "textposition": "auto",
         "type": "bar",
         "width": 0.1,
         "x": [
          "What kind"
         ],
         "y": [
          0.0002573340195573855
         ]
        },
        {
         "text": "shadow",
         "textposition": "auto",
         "type": "bar",
         "width": 0.1,
         "x": [
          "What kind"
         ],
         "y": [
          0.0002573340195573855
         ]
        },
        {
         "text": "packet",
         "textposition": "auto",
         "type": "bar",
         "width": 0.1,
         "x": [
          "What kind"
         ],
         "y": [
          0.0002573340195573855
         ]
        },
        {
         "text": "counter",
         "textposition": "auto",
         "type": "bar",
         "width": 0.1,
         "x": [
          "What kind"
         ],
         "y": [
          0.0002573340195573855
         ]
        },
        {
         "text": "roll",
         "textposition": "auto",
         "type": "bar",
         "width": 0.1,
         "x": [
          "What kind"
         ],
         "y": [
          0.0002573340195573855
         ]
        },
        {
         "text": "roofing",
         "textposition": "auto",
         "type": "bar",
         "width": 0.1,
         "x": [
          "What kind"
         ],
         "y": [
          0.0002573340195573855
         ]
        },
        {
         "text": "toilet seat",
         "textposition": "auto",
         "type": "bar",
         "width": 0.1,
         "x": [
          "What kind"
         ],
         "y": [
          0.0002573340195573855
         ]
        },
        {
         "text": "water fountain",
         "textposition": "auto",
         "type": "bar",
         "width": 0.1,
         "x": [
          "What kind"
         ],
         "y": [
          0.0002573340195573855
         ]
        },
        {
         "text": "stained glass",
         "textposition": "auto",
         "type": "bar",
         "width": 0.1,
         "x": [
          "What kind"
         ],
         "y": [
          0.0002573340195573855
         ]
        },
        {
         "text": "aquarium",
         "textposition": "auto",
         "type": "bar",
         "width": 0.1,
         "x": [
          "What kind"
         ],
         "y": [
          0.0002573340195573855
         ]
        },
        {
         "text": "lake",
         "textposition": "auto",
         "type": "bar",
         "width": 0.1,
         "x": [
          "What kind"
         ],
         "y": [
          0.0002573340195573855
         ]
        },
        {
         "text": "wheel",
         "textposition": "auto",
         "type": "bar",
         "width": 0.1,
         "x": [
          "What kind"
         ],
         "y": [
          0.0002573340195573855
         ]
        },
        {
         "text": "scrap",
         "textposition": "auto",
         "type": "bar",
         "width": 0.1,
         "x": [
          "What kind"
         ],
         "y": [
          0.0002573340195573855
         ]
        },
        {
         "text": "round",
         "textposition": "auto",
         "type": "bar",
         "width": 0.1,
         "x": [
          "What kind"
         ],
         "y": [
          0.0002573340195573855
         ]
        },
        {
         "text": "seat",
         "textposition": "auto",
         "type": "bar",
         "width": 0.1,
         "x": [
          "What kind"
         ],
         "y": [
          0.0002573340195573855
         ]
        },
        {
         "text": "equipment",
         "textposition": "auto",
         "type": "bar",
         "width": 0.1,
         "x": [
          "What kind"
         ],
         "y": [
          0.0002573340195573855
         ]
        },
        {
         "text": "wine bottle",
         "textposition": "auto",
         "type": "bar",
         "width": 0.1,
         "x": [
          "What kind"
         ],
         "y": [
          0.0002573340195573855
         ]
        },
        {
         "text": "television",
         "textposition": "auto",
         "type": "bar",
         "width": 0.1,
         "x": [
          "What kind"
         ],
         "y": [
          0.0002573340195573855
         ]
        },
        {
         "text": "plate",
         "textposition": "auto",
         "type": "bar",
         "width": 0.1,
         "x": [
          "What kind"
         ],
         "y": [
          0.0002573340195573855
         ]
        },
        {
         "text": "depiction",
         "textposition": "auto",
         "type": "bar",
         "width": 0.1,
         "x": [
          "What kind"
         ],
         "y": [
          0.0002573340195573855
         ]
        },
        {
         "text": "camera",
         "textposition": "auto",
         "type": "bar",
         "width": 0.1,
         "x": [
          "What kind"
         ],
         "y": [
          0.0002573340195573855
         ]
        },
        {
         "text": "speaker box",
         "textposition": "auto",
         "type": "bar",
         "width": 0.1,
         "x": [
          "What kind"
         ],
         "y": [
          0.0002573340195573855
         ]
        },
        {
         "text": "mic",
         "textposition": "auto",
         "type": "bar",
         "width": 0.1,
         "x": [
          "What kind"
         ],
         "y": [
          0.0002573340195573855
         ]
        },
        {
         "text": "pipe",
         "textposition": "auto",
         "type": "bar",
         "width": 0.1,
         "x": [
          "What kind"
         ],
         "y": [
          0.0002573340195573855
         ]
        },
        {
         "text": "water tap",
         "textposition": "auto",
         "type": "bar",
         "width": 0.1,
         "x": [
          "What kind"
         ],
         "y": [
          0.0002573340195573855
         ]
        },
        {
         "text": "colour",
         "textposition": "auto",
         "type": "bar",
         "width": 0.1,
         "x": [
          "What kind"
         ],
         "y": [
          0.0002573340195573855
         ]
        },
        {
         "text": "railway track",
         "textposition": "auto",
         "type": "bar",
         "width": 0.1,
         "x": [
          "What kind"
         ],
         "y": [
          0.0002573340195573855
         ]
        },
        {
         "text": "photo",
         "textposition": "auto",
         "type": "bar",
         "width": 0.1,
         "x": [
          "What kind"
         ],
         "y": [
          0.0002573340195573855
         ]
        },
        {
         "text": "sofa",
         "textposition": "auto",
         "type": "bar",
         "width": 0.1,
         "x": [
          "What kind"
         ],
         "y": [
          0.0002573340195573855
         ]
        },
        {
         "text": "log",
         "textposition": "auto",
         "type": "bar",
         "width": 0.1,
         "x": [
          "What kind"
         ],
         "y": [
          0.0002573340195573855
         ]
        },
        {
         "text": "plane",
         "textposition": "auto",
         "type": "bar",
         "width": 0.1,
         "x": [
          "What kind"
         ],
         "y": [
          0.0002573340195573855
         ]
        },
        {
         "text": "luggage bag",
         "textposition": "auto",
         "type": "bar",
         "width": 0.1,
         "x": [
          "What kind"
         ],
         "y": [
          0.0002573340195573855
         ]
        },
        {
         "text": "light house",
         "textposition": "auto",
         "type": "bar",
         "width": 0.1,
         "x": [
          "What kind"
         ],
         "y": [
          0.0002573340195573855
         ]
        },
        {
         "text": "vase",
         "textposition": "auto",
         "type": "bar",
         "width": 0.1,
         "x": [
          "What kind"
         ],
         "y": [
          0.0002573340195573855
         ]
        },
        {
         "text": "motorbike",
         "textposition": "auto",
         "type": "bar",
         "width": 0.1,
         "x": [
          "What kind"
         ],
         "y": [
          0.0002573340195573855
         ]
        },
        {
         "text": "architecture",
         "textposition": "auto",
         "type": "bar",
         "width": 0.1,
         "x": [
          "What kind"
         ],
         "y": [
          0.0002573340195573855
         ]
        },
        {
         "text": "restaurant",
         "textposition": "auto",
         "type": "bar",
         "width": 0.1,
         "x": [
          "What kind"
         ],
         "y": [
          0.0002573340195573855
         ]
        },
        {
         "text": "bag",
         "textposition": "auto",
         "type": "bar",
         "width": 0.1,
         "x": [
          "What kind"
         ],
         "y": [
          0.0002573340195573855
         ]
        },
        {
         "text": "projector screen",
         "textposition": "auto",
         "type": "bar",
         "width": 0.1,
         "x": [
          "What kind"
         ],
         "y": [
          0.0002573340195573855
         ]
        },
        {
         "text": "dustbin",
         "textposition": "auto",
         "type": "bar",
         "width": 0.1,
         "x": [
          "What kind"
         ],
         "y": [
          0.0002573340195573855
         ]
        },
        {
         "text": "ceiling fan",
         "textposition": "auto",
         "type": "bar",
         "width": 0.1,
         "x": [
          "What kind"
         ],
         "y": [
          0.0002573340195573855
         ]
        },
        {
         "text": "book rack",
         "textposition": "auto",
         "type": "bar",
         "width": 0.1,
         "x": [
          "What kind"
         ],
         "y": [
          0.0002573340195573855
         ]
        },
        {
         "text": "metal pole",
         "textposition": "auto",
         "type": "bar",
         "width": 0.1,
         "x": [
          "What kind"
         ],
         "y": [
          0.0002573340195573855
         ]
        },
        {
         "text": "fan",
         "textposition": "auto",
         "type": "bar",
         "width": 0.1,
         "x": [
          "What kind"
         ],
         "y": [
          0.0002573340195573855
         ]
        },
        {
         "text": "tree trunk",
         "textposition": "auto",
         "type": "bar",
         "width": 0.1,
         "x": [
          "What kind"
         ],
         "y": [
          0.0002573340195573855
         ]
        },
        {
         "text": "screen",
         "textposition": "auto",
         "type": "bar",
         "width": 0.1,
         "x": [
          "What kind"
         ],
         "y": [
          0.0002573340195573855
         ]
        },
        {
         "text": "switch board",
         "textposition": "auto",
         "type": "bar",
         "width": 0.1,
         "x": [
          "What kind"
         ],
         "y": [
          0.0002573340195573855
         ]
        },
        {
         "text": "hen",
         "textposition": "auto",
         "type": "bar",
         "width": 0.1,
         "x": [
          "What kind"
         ],
         "y": [
          0.0002573340195573855
         ]
        },
        {
         "text": "text",
         "textposition": "auto",
         "type": "bar",
         "width": 0.1,
         "x": [
          "What kind"
         ],
         "y": [
          0.0002573340195573855
         ]
        },
        {
         "text": "land",
         "textposition": "auto",
         "type": "bar",
         "width": 0.1,
         "x": [
          "What kind"
         ],
         "y": [
          0.0002573340195573855
         ]
        },
        {
         "text": "aerial",
         "textposition": "auto",
         "type": "bar",
         "width": 0.1,
         "x": [
          "What kind"
         ],
         "y": [
          0.0002573340195573855
         ]
        },
        {
         "text": "grille",
         "textposition": "auto",
         "type": "bar",
         "width": 0.1,
         "x": [
          "What kind"
         ],
         "y": [
          0.0002573340195573855
         ]
        },
        {
         "text": "room",
         "textposition": "auto",
         "type": "bar",
         "width": 0.1,
         "x": [
          "What kind"
         ],
         "y": [
          0.0002573340195573855
         ]
        },
        {
         "text": "sign board",
         "textposition": "auto",
         "type": "bar",
         "width": 0.1,
         "x": [
          "What kind"
         ],
         "y": [
          0.0002573340195573855
         ]
        },
        {
         "text": "wall clock",
         "textposition": "auto",
         "type": "bar",
         "width": 0.1,
         "x": [
          "What kind"
         ],
         "y": [
          0.0002573340195573855
         ]
        },
        {
         "text": "platform",
         "textposition": "auto",
         "type": "bar",
         "width": 0.1,
         "x": [
          "What kind"
         ],
         "y": [
          0.0002573340195573855
         ]
        },
        {
         "text": "dolphin",
         "textposition": "auto",
         "type": "bar",
         "width": 0.1,
         "x": [
          "What kind"
         ],
         "y": [
          0.0002573340195573855
         ]
        },
        {
         "text": "lamp post",
         "textposition": "auto",
         "type": "bar",
         "width": 0.1,
         "x": [
          "What kind"
         ],
         "y": [
          0.0002573340195573855
         ]
        },
        {
         "text": "flag",
         "textposition": "auto",
         "type": "bar",
         "width": 0.1,
         "x": [
          "What kind"
         ],
         "y": [
          0.0002573340195573855
         ]
        },
        {
         "text": "indoor",
         "textposition": "auto",
         "type": "bar",
         "width": 0.1,
         "x": [
          "What kind"
         ],
         "y": [
          0.0002573340195573855
         ]
        },
        {
         "text": "stool",
         "textposition": "auto",
         "type": "bar",
         "width": 0.1,
         "x": [
          "What kind"
         ],
         "y": [
          0.0002573340195573855
         ]
        },
        {
         "text": "wooden floor",
         "textposition": "auto",
         "type": "bar",
         "width": 0.1,
         "x": [
          "What kind"
         ],
         "y": [
          0.0002573340195573855
         ]
        },
        {
         "text": "door",
         "textposition": "auto",
         "type": "bar",
         "width": 0.1,
         "x": [
          "What kind"
         ],
         "y": [
          0.0002573340195573855
         ]
        },
        {
         "text": "bike",
         "textposition": "auto",
         "type": "bar",
         "width": 0.1,
         "x": [
          "What kind"
         ],
         "y": [
          0.0002573340195573855
         ]
        },
        {
         "text": "current pole",
         "textposition": "auto",
         "type": "bar",
         "width": 0.1,
         "x": [
          "What kind"
         ],
         "y": [
          0.0002573340195573855
         ]
        },
        {
         "text": "bowl",
         "textposition": "auto",
         "type": "bar",
         "width": 0.1,
         "x": [
          "What kind"
         ],
         "y": [
          0.0002573340195573855
         ]
        },
        {
         "text": "cup",
         "textposition": "auto",
         "type": "bar",
         "width": 0.1,
         "x": [
          "What kind"
         ],
         "y": [
          0.0002573340195573855
         ]
        },
        {
         "text": "exhaust fan",
         "textposition": "auto",
         "type": "bar",
         "width": 0.1,
         "x": [
          "What kind"
         ],
         "y": [
          0.0002573340195573855
         ]
        },
        {
         "text": "bird",
         "textposition": "auto",
         "type": "bar",
         "width": 0.1,
         "x": [
          "What kind"
         ],
         "y": [
          0.0002573340195573855
         ]
        },
        {
         "text": "lump",
         "textposition": "auto",
         "type": "bar",
         "width": 0.1,
         "x": [
          "What kind"
         ],
         "y": [
          0.0002573340195573855
         ]
        },
        {
         "text": "petrol",
         "textposition": "auto",
         "type": "bar",
         "width": 0.1,
         "x": [
          "What kind"
         ],
         "y": [
          0.0002573340195573855
         ]
        },
        {
         "text": "street light",
         "textposition": "auto",
         "type": "bar",
         "width": 0.1,
         "x": [
          "What kind"
         ],
         "y": [
          0.0002573340195573855
         ]
        },
        {
         "text": "people",
         "textposition": "auto",
         "type": "bar",
         "width": 0.1,
         "x": [
          "What kind"
         ],
         "y": [
          0.0002573340195573855
         ]
        },
        {
         "text": "computer",
         "textposition": "auto",
         "type": "bar",
         "width": 0.1,
         "x": [
          "What kind"
         ],
         "y": [
          0.0002573340195573855
         ]
        },
        {
         "text": "extinguisher",
         "textposition": "auto",
         "type": "bar",
         "width": 0.1,
         "x": [
          "What kind"
         ],
         "y": [
          0.0002573340195573855
         ]
        },
        {
         "text": "old",
         "textposition": "auto",
         "type": "bar",
         "width": 0.1,
         "x": [
          "What kind"
         ],
         "y": [
          0.0002573340195573855
         ]
        },
        {
         "text": "wooden bench",
         "textposition": "auto",
         "type": "bar",
         "width": 0.1,
         "x": [
          "What kind"
         ],
         "y": [
          0.0002573340195573855
         ]
        },
        {
         "text": "dishwasher",
         "textposition": "auto",
         "type": "bar",
         "width": 0.1,
         "x": [
          "What kind"
         ],
         "y": [
          0.0002573340195573855
         ]
        }
       ],
       "layout": {
        "barmode": "stack",
        "template": {
         "data": {
          "bar": [
           {
            "error_x": {
             "color": "#2a3f5f"
            },
            "error_y": {
             "color": "#2a3f5f"
            },
            "marker": {
             "line": {
              "color": "#E5ECF6",
              "width": 0.5
             },
             "pattern": {
              "fillmode": "overlay",
              "size": 10,
              "solidity": 0.2
             }
            },
            "type": "bar"
           }
          ],
          "barpolar": [
           {
            "marker": {
             "line": {
              "color": "#E5ECF6",
              "width": 0.5
             },
             "pattern": {
              "fillmode": "overlay",
              "size": 10,
              "solidity": 0.2
             }
            },
            "type": "barpolar"
           }
          ],
          "carpet": [
           {
            "aaxis": {
             "endlinecolor": "#2a3f5f",
             "gridcolor": "white",
             "linecolor": "white",
             "minorgridcolor": "white",
             "startlinecolor": "#2a3f5f"
            },
            "baxis": {
             "endlinecolor": "#2a3f5f",
             "gridcolor": "white",
             "linecolor": "white",
             "minorgridcolor": "white",
             "startlinecolor": "#2a3f5f"
            },
            "type": "carpet"
           }
          ],
          "choropleth": [
           {
            "colorbar": {
             "outlinewidth": 0,
             "ticks": ""
            },
            "type": "choropleth"
           }
          ],
          "contour": [
           {
            "colorbar": {
             "outlinewidth": 0,
             "ticks": ""
            },
            "colorscale": [
             [
              0,
              "#0d0887"
             ],
             [
              0.1111111111111111,
              "#46039f"
             ],
             [
              0.2222222222222222,
              "#7201a8"
             ],
             [
              0.3333333333333333,
              "#9c179e"
             ],
             [
              0.4444444444444444,
              "#bd3786"
             ],
             [
              0.5555555555555556,
              "#d8576b"
             ],
             [
              0.6666666666666666,
              "#ed7953"
             ],
             [
              0.7777777777777778,
              "#fb9f3a"
             ],
             [
              0.8888888888888888,
              "#fdca26"
             ],
             [
              1,
              "#f0f921"
             ]
            ],
            "type": "contour"
           }
          ],
          "contourcarpet": [
           {
            "colorbar": {
             "outlinewidth": 0,
             "ticks": ""
            },
            "type": "contourcarpet"
           }
          ],
          "heatmap": [
           {
            "colorbar": {
             "outlinewidth": 0,
             "ticks": ""
            },
            "colorscale": [
             [
              0,
              "#0d0887"
             ],
             [
              0.1111111111111111,
              "#46039f"
             ],
             [
              0.2222222222222222,
              "#7201a8"
             ],
             [
              0.3333333333333333,
              "#9c179e"
             ],
             [
              0.4444444444444444,
              "#bd3786"
             ],
             [
              0.5555555555555556,
              "#d8576b"
             ],
             [
              0.6666666666666666,
              "#ed7953"
             ],
             [
              0.7777777777777778,
              "#fb9f3a"
             ],
             [
              0.8888888888888888,
              "#fdca26"
             ],
             [
              1,
              "#f0f921"
             ]
            ],
            "type": "heatmap"
           }
          ],
          "heatmapgl": [
           {
            "colorbar": {
             "outlinewidth": 0,
             "ticks": ""
            },
            "colorscale": [
             [
              0,
              "#0d0887"
             ],
             [
              0.1111111111111111,
              "#46039f"
             ],
             [
              0.2222222222222222,
              "#7201a8"
             ],
             [
              0.3333333333333333,
              "#9c179e"
             ],
             [
              0.4444444444444444,
              "#bd3786"
             ],
             [
              0.5555555555555556,
              "#d8576b"
             ],
             [
              0.6666666666666666,
              "#ed7953"
             ],
             [
              0.7777777777777778,
              "#fb9f3a"
             ],
             [
              0.8888888888888888,
              "#fdca26"
             ],
             [
              1,
              "#f0f921"
             ]
            ],
            "type": "heatmapgl"
           }
          ],
          "histogram": [
           {
            "marker": {
             "pattern": {
              "fillmode": "overlay",
              "size": 10,
              "solidity": 0.2
             }
            },
            "type": "histogram"
           }
          ],
          "histogram2d": [
           {
            "colorbar": {
             "outlinewidth": 0,
             "ticks": ""
            },
            "colorscale": [
             [
              0,
              "#0d0887"
             ],
             [
              0.1111111111111111,
              "#46039f"
             ],
             [
              0.2222222222222222,
              "#7201a8"
             ],
             [
              0.3333333333333333,
              "#9c179e"
             ],
             [
              0.4444444444444444,
              "#bd3786"
             ],
             [
              0.5555555555555556,
              "#d8576b"
             ],
             [
              0.6666666666666666,
              "#ed7953"
             ],
             [
              0.7777777777777778,
              "#fb9f3a"
             ],
             [
              0.8888888888888888,
              "#fdca26"
             ],
             [
              1,
              "#f0f921"
             ]
            ],
            "type": "histogram2d"
           }
          ],
          "histogram2dcontour": [
           {
            "colorbar": {
             "outlinewidth": 0,
             "ticks": ""
            },
            "colorscale": [
             [
              0,
              "#0d0887"
             ],
             [
              0.1111111111111111,
              "#46039f"
             ],
             [
              0.2222222222222222,
              "#7201a8"
             ],
             [
              0.3333333333333333,
              "#9c179e"
             ],
             [
              0.4444444444444444,
              "#bd3786"
             ],
             [
              0.5555555555555556,
              "#d8576b"
             ],
             [
              0.6666666666666666,
              "#ed7953"
             ],
             [
              0.7777777777777778,
              "#fb9f3a"
             ],
             [
              0.8888888888888888,
              "#fdca26"
             ],
             [
              1,
              "#f0f921"
             ]
            ],
            "type": "histogram2dcontour"
           }
          ],
          "mesh3d": [
           {
            "colorbar": {
             "outlinewidth": 0,
             "ticks": ""
            },
            "type": "mesh3d"
           }
          ],
          "parcoords": [
           {
            "line": {
             "colorbar": {
              "outlinewidth": 0,
              "ticks": ""
             }
            },
            "type": "parcoords"
           }
          ],
          "pie": [
           {
            "automargin": true,
            "type": "pie"
           }
          ],
          "scatter": [
           {
            "marker": {
             "colorbar": {
              "outlinewidth": 0,
              "ticks": ""
             }
            },
            "type": "scatter"
           }
          ],
          "scatter3d": [
           {
            "line": {
             "colorbar": {
              "outlinewidth": 0,
              "ticks": ""
             }
            },
            "marker": {
             "colorbar": {
              "outlinewidth": 0,
              "ticks": ""
             }
            },
            "type": "scatter3d"
           }
          ],
          "scattercarpet": [
           {
            "marker": {
             "colorbar": {
              "outlinewidth": 0,
              "ticks": ""
             }
            },
            "type": "scattercarpet"
           }
          ],
          "scattergeo": [
           {
            "marker": {
             "colorbar": {
              "outlinewidth": 0,
              "ticks": ""
             }
            },
            "type": "scattergeo"
           }
          ],
          "scattergl": [
           {
            "marker": {
             "colorbar": {
              "outlinewidth": 0,
              "ticks": ""
             }
            },
            "type": "scattergl"
           }
          ],
          "scattermapbox": [
           {
            "marker": {
             "colorbar": {
              "outlinewidth": 0,
              "ticks": ""
             }
            },
            "type": "scattermapbox"
           }
          ],
          "scatterpolar": [
           {
            "marker": {
             "colorbar": {
              "outlinewidth": 0,
              "ticks": ""
             }
            },
            "type": "scatterpolar"
           }
          ],
          "scatterpolargl": [
           {
            "marker": {
             "colorbar": {
              "outlinewidth": 0,
              "ticks": ""
             }
            },
            "type": "scatterpolargl"
           }
          ],
          "scatterternary": [
           {
            "marker": {
             "colorbar": {
              "outlinewidth": 0,
              "ticks": ""
             }
            },
            "type": "scatterternary"
           }
          ],
          "surface": [
           {
            "colorbar": {
             "outlinewidth": 0,
             "ticks": ""
            },
            "colorscale": [
             [
              0,
              "#0d0887"
             ],
             [
              0.1111111111111111,
              "#46039f"
             ],
             [
              0.2222222222222222,
              "#7201a8"
             ],
             [
              0.3333333333333333,
              "#9c179e"
             ],
             [
              0.4444444444444444,
              "#bd3786"
             ],
             [
              0.5555555555555556,
              "#d8576b"
             ],
             [
              0.6666666666666666,
              "#ed7953"
             ],
             [
              0.7777777777777778,
              "#fb9f3a"
             ],
             [
              0.8888888888888888,
              "#fdca26"
             ],
             [
              1,
              "#f0f921"
             ]
            ],
            "type": "surface"
           }
          ],
          "table": [
           {
            "cells": {
             "fill": {
              "color": "#EBF0F8"
             },
             "line": {
              "color": "white"
             }
            },
            "header": {
             "fill": {
              "color": "#C8D4E3"
             },
             "line": {
              "color": "white"
             }
            },
            "type": "table"
           }
          ]
         },
         "layout": {
          "annotationdefaults": {
           "arrowcolor": "#2a3f5f",
           "arrowhead": 0,
           "arrowwidth": 1
          },
          "autotypenumbers": "strict",
          "coloraxis": {
           "colorbar": {
            "outlinewidth": 0,
            "ticks": ""
           }
          },
          "colorscale": {
           "diverging": [
            [
             0,
             "#8e0152"
            ],
            [
             0.1,
             "#c51b7d"
            ],
            [
             0.2,
             "#de77ae"
            ],
            [
             0.3,
             "#f1b6da"
            ],
            [
             0.4,
             "#fde0ef"
            ],
            [
             0.5,
             "#f7f7f7"
            ],
            [
             0.6,
             "#e6f5d0"
            ],
            [
             0.7,
             "#b8e186"
            ],
            [
             0.8,
             "#7fbc41"
            ],
            [
             0.9,
             "#4d9221"
            ],
            [
             1,
             "#276419"
            ]
           ],
           "sequential": [
            [
             0,
             "#0d0887"
            ],
            [
             0.1111111111111111,
             "#46039f"
            ],
            [
             0.2222222222222222,
             "#7201a8"
            ],
            [
             0.3333333333333333,
             "#9c179e"
            ],
            [
             0.4444444444444444,
             "#bd3786"
            ],
            [
             0.5555555555555556,
             "#d8576b"
            ],
            [
             0.6666666666666666,
             "#ed7953"
            ],
            [
             0.7777777777777778,
             "#fb9f3a"
            ],
            [
             0.8888888888888888,
             "#fdca26"
            ],
            [
             1,
             "#f0f921"
            ]
           ],
           "sequentialminus": [
            [
             0,
             "#0d0887"
            ],
            [
             0.1111111111111111,
             "#46039f"
            ],
            [
             0.2222222222222222,
             "#7201a8"
            ],
            [
             0.3333333333333333,
             "#9c179e"
            ],
            [
             0.4444444444444444,
             "#bd3786"
            ],
            [
             0.5555555555555556,
             "#d8576b"
            ],
            [
             0.6666666666666666,
             "#ed7953"
            ],
            [
             0.7777777777777778,
             "#fb9f3a"
            ],
            [
             0.8888888888888888,
             "#fdca26"
            ],
            [
             1,
             "#f0f921"
            ]
           ]
          },
          "colorway": [
           "#636efa",
           "#EF553B",
           "#00cc96",
           "#ab63fa",
           "#FFA15A",
           "#19d3f3",
           "#FF6692",
           "#B6E880",
           "#FF97FF",
           "#FECB52"
          ],
          "font": {
           "color": "#2a3f5f"
          },
          "geo": {
           "bgcolor": "white",
           "lakecolor": "white",
           "landcolor": "#E5ECF6",
           "showlakes": true,
           "showland": true,
           "subunitcolor": "white"
          },
          "hoverlabel": {
           "align": "left"
          },
          "hovermode": "closest",
          "mapbox": {
           "style": "light"
          },
          "paper_bgcolor": "white",
          "plot_bgcolor": "#E5ECF6",
          "polar": {
           "angularaxis": {
            "gridcolor": "white",
            "linecolor": "white",
            "ticks": ""
           },
           "bgcolor": "#E5ECF6",
           "radialaxis": {
            "gridcolor": "white",
            "linecolor": "white",
            "ticks": ""
           }
          },
          "scene": {
           "xaxis": {
            "backgroundcolor": "#E5ECF6",
            "gridcolor": "white",
            "gridwidth": 2,
            "linecolor": "white",
            "showbackground": true,
            "ticks": "",
            "zerolinecolor": "white"
           },
           "yaxis": {
            "backgroundcolor": "#E5ECF6",
            "gridcolor": "white",
            "gridwidth": 2,
            "linecolor": "white",
            "showbackground": true,
            "ticks": "",
            "zerolinecolor": "white"
           },
           "zaxis": {
            "backgroundcolor": "#E5ECF6",
            "gridcolor": "white",
            "gridwidth": 2,
            "linecolor": "white",
            "showbackground": true,
            "ticks": "",
            "zerolinecolor": "white"
           }
          },
          "shapedefaults": {
           "line": {
            "color": "#2a3f5f"
           }
          },
          "ternary": {
           "aaxis": {
            "gridcolor": "white",
            "linecolor": "white",
            "ticks": ""
           },
           "baxis": {
            "gridcolor": "white",
            "linecolor": "white",
            "ticks": ""
           },
           "bgcolor": "#E5ECF6",
           "caxis": {
            "gridcolor": "white",
            "linecolor": "white",
            "ticks": ""
           }
          },
          "title": {
           "x": 0.05
          },
          "xaxis": {
           "automargin": true,
           "gridcolor": "white",
           "linecolor": "white",
           "ticks": "",
           "title": {
            "standoff": 15
           },
           "zerolinecolor": "white",
           "zerolinewidth": 2
          },
          "yaxis": {
           "automargin": true,
           "gridcolor": "white",
           "linecolor": "white",
           "ticks": "",
           "title": {
            "standoff": 15
           },
           "zerolinecolor": "white",
           "zerolinewidth": 2
          }
         }
        }
       }
      },
      "text/html": [
       "<div>                            <div id=\"5b046c5c-4918-45fd-b2fa-e43d406b4006\" class=\"plotly-graph-div\" style=\"height:525px; width:100%;\"></div>            <script type=\"text/javascript\">                require([\"plotly\"], function(Plotly) {                    window.PLOTLYENV=window.PLOTLYENV || {};                                    if (document.getElementById(\"5b046c5c-4918-45fd-b2fa-e43d406b4006\")) {                    Plotly.newPlot(                        \"5b046c5c-4918-45fd-b2fa-e43d406b4006\",                        [{\"text\":\"wooden\",\"textposition\":\"auto\",\"type\":\"bar\",\"width\":0.1,\"x\":[\"What kind\"],\"y\":[0.23983530622748328]},{\"text\":\"glass\",\"textposition\":\"auto\",\"type\":\"bar\",\"width\":0.1,\"x\":[\"What kind\"],\"y\":[0.1152856407617087]},{\"text\":\"metal\",\"textposition\":\"auto\",\"type\":\"bar\",\"width\":0.1,\"x\":[\"What kind\"],\"y\":[0.05301080802882141]},{\"text\":\"light pole\",\"textposition\":\"auto\",\"type\":\"bar\",\"width\":0.1,\"x\":[\"What kind\"],\"y\":[0.04374678332475553]},{\"text\":\"dry\",\"textposition\":\"auto\",\"type\":\"bar\",\"width\":0.1,\"x\":[\"What kind\"],\"y\":[0.018528049408131755]},{\"text\":\"blur\",\"textposition\":\"auto\",\"type\":\"bar\",\"width\":0.1,\"x\":[\"What kind\"],\"y\":[0.016984045290787442]},{\"text\":\"cloud\",\"textposition\":\"auto\",\"type\":\"bar\",\"width\":0.1,\"x\":[\"What kind\"],\"y\":[0.016469377251672673]},{\"text\":\"chair\",\"textposition\":\"auto\",\"type\":\"bar\",\"width\":0.1,\"x\":[\"What kind\"],\"y\":[0.016212043232115284]},{\"text\":\"open\",\"textposition\":\"auto\",\"type\":\"bar\",\"width\":0.1,\"x\":[\"What kind\"],\"y\":[0.01544004117344313]},{\"text\":\"iron\",\"textposition\":\"auto\",\"type\":\"bar\",\"width\":0.1,\"x\":[\"What kind\"],\"y\":[0.014668039114770973]},{\"text\":\"light\",\"textposition\":\"auto\",\"type\":\"bar\",\"width\":0.1,\"x\":[\"What kind\"],\"y\":[0.013638703036541432]},{\"text\":\"empty\",\"textposition\":\"auto\",\"type\":\"bar\",\"width\":0.1,\"x\":[\"What kind\"],\"y\":[0.013381369016984045]},{\"text\":\"cloudy\",\"textposition\":\"auto\",\"type\":\"bar\",\"width\":0.1,\"x\":[\"What kind\"],\"y\":[0.011580030880082347]},{\"text\":\"frame\",\"textposition\":\"auto\",\"type\":\"bar\",\"width\":0.1,\"x\":[\"What kind\"],\"y\":[0.01080802882141019]},{\"text\":\"glass window\",\"textposition\":\"auto\",\"type\":\"bar\",\"width\":0.1,\"x\":[\"What kind\"],\"y\":[0.010036026762738034]},{\"text\":\"clear\",\"textposition\":\"auto\",\"type\":\"bar\",\"width\":0.1,\"x\":[\"What kind\"],\"y\":[0.009264024704065878]},{\"text\":\"plastic\",\"textposition\":\"auto\",\"type\":\"bar\",\"width\":0.1,\"x\":[\"What kind\"],\"y\":[0.009006690684508493]},{\"text\":\"metal rod\",\"textposition\":\"auto\",\"type\":\"bar\",\"width\":0.1,\"x\":[\"What kind\"],\"y\":[0.009006690684508493]},{\"text\":\"decorative\",\"textposition\":\"auto\",\"type\":\"bar\",\"width\":0.1,\"x\":[\"What kind\"],\"y\":[0.008492022645393721]},{\"text\":\"steel\",\"textposition\":\"auto\",\"type\":\"bar\",\"width\":0.1,\"x\":[\"What kind\"],\"y\":[0.008492022645393721]},{\"text\":\"carpet\",\"textposition\":\"auto\",\"type\":\"bar\",\"width\":0.1,\"x\":[\"What kind\"],\"y\":[0.007720020586721565]},{\"text\":\"potted plant\",\"textposition\":\"auto\",\"type\":\"bar\",\"width\":0.1,\"x\":[\"What kind\"],\"y\":[0.007205352547606794]},{\"text\":\"blurry\",\"textposition\":\"auto\",\"type\":\"bar\",\"width\":0.1,\"x\":[\"What kind\"],\"y\":[0.007205352547606794]},{\"text\":\"blurred\",\"textposition\":\"auto\",\"type\":\"bar\",\"width\":0.1,\"x\":[\"What kind\"],\"y\":[0.006948018528049408]},{\"text\":\"light arrangement\",\"textposition\":\"auto\",\"type\":\"bar\",\"width\":0.1,\"x\":[\"What kind\"],\"y\":[0.006433350488934638]},{\"text\":\"light lamp\",\"textposition\":\"auto\",\"type\":\"bar\",\"width\":0.1,\"x\":[\"What kind\"],\"y\":[0.006433350488934638]},{\"text\":\"kind\",\"textposition\":\"auto\",\"type\":\"bar\",\"width\":0.1,\"x\":[\"What kind\"],\"y\":[0.006433350488934638]},{\"text\":\"fire\",\"textposition\":\"auto\",\"type\":\"bar\",\"width\":0.1,\"x\":[\"What kind\"],\"y\":[0.006176016469377252]},{\"text\":\"colorful\",\"textposition\":\"auto\",\"type\":\"bar\",\"width\":0.1,\"x\":[\"What kind\"],\"y\":[0.005918682449819866]},{\"text\":\"group\",\"textposition\":\"auto\",\"type\":\"bar\",\"width\":0.1,\"x\":[\"What kind\"],\"y\":[0.005661348430262481]},{\"text\":\"paper\",\"textposition\":\"auto\",\"type\":\"bar\",\"width\":0.1,\"x\":[\"What kind\"],\"y\":[0.005661348430262481]},{\"text\":\"electronic\",\"textposition\":\"auto\",\"type\":\"bar\",\"width\":0.1,\"x\":[\"What kind\"],\"y\":[0.0051466803911477095]},{\"text\":\"grass\",\"textposition\":\"auto\",\"type\":\"bar\",\"width\":0.1,\"x\":[\"What kind\"],\"y\":[0.0051466803911477095]},{\"text\":\"blind\",\"textposition\":\"auto\",\"type\":\"bar\",\"width\":0.1,\"x\":[\"What kind\"],\"y\":[0.004889346371590325]},{\"text\":\"ceiling light\",\"textposition\":\"auto\",\"type\":\"bar\",\"width\":0.1,\"x\":[\"What kind\"],\"y\":[0.004632012352032939]},{\"text\":\"cloudy sky\",\"textposition\":\"auto\",\"type\":\"bar\",\"width\":0.1,\"x\":[\"What kind\"],\"y\":[0.004374678332475553]},{\"text\":\"gas stove\",\"textposition\":\"auto\",\"type\":\"bar\",\"width\":0.1,\"x\":[\"What kind\"],\"y\":[0.004374678332475553]},{\"text\":\"small plant\",\"textposition\":\"auto\",\"type\":\"bar\",\"width\":0.1,\"x\":[\"What kind\"],\"y\":[0.004117344312918168]},{\"text\":\"traffic light\",\"textposition\":\"auto\",\"type\":\"bar\",\"width\":0.1,\"x\":[\"What kind\"],\"y\":[0.004117344312918168]},{\"text\":\"clear sky\",\"textposition\":\"auto\",\"type\":\"bar\",\"width\":0.1,\"x\":[\"What kind\"],\"y\":[0.004117344312918168]},{\"text\":\"stick\",\"textposition\":\"auto\",\"type\":\"bar\",\"width\":0.1,\"x\":[\"What kind\"],\"y\":[0.0038600102933607824]},{\"text\":\"rock\",\"textposition\":\"auto\",\"type\":\"bar\",\"width\":0.1,\"x\":[\"What kind\"],\"y\":[0.0038600102933607824]},{\"text\":\"different\",\"textposition\":\"auto\",\"type\":\"bar\",\"width\":0.1,\"x\":[\"What kind\"],\"y\":[0.0038600102933607824]},{\"text\":\"water\",\"textposition\":\"auto\",\"type\":\"bar\",\"width\":0.1,\"x\":[\"What kind\"],\"y\":[0.003602676273803397]},{\"text\":\"concrete\",\"textposition\":\"auto\",\"type\":\"bar\",\"width\":0.1,\"x\":[\"What kind\"],\"y\":[0.003602676273803397]},{\"text\":\"human\",\"textposition\":\"auto\",\"type\":\"bar\",\"width\":0.1,\"x\":[\"What kind\"],\"y\":[0.003602676273803397]},{\"text\":\"air conditioner\",\"textposition\":\"auto\",\"type\":\"bar\",\"width\":0.1,\"x\":[\"What kind\"],\"y\":[0.003602676273803397]},{\"text\":\"tree\",\"textposition\":\"auto\",\"type\":\"bar\",\"width\":0.1,\"x\":[\"What kind\"],\"y\":[0.0033453422542460112]},{\"text\":\"transparent\",\"textposition\":\"auto\",\"type\":\"bar\",\"width\":0.1,\"x\":[\"What kind\"],\"y\":[0.003088008234688626]},{\"text\":\"big\",\"textposition\":\"auto\",\"type\":\"bar\",\"width\":0.1,\"x\":[\"What kind\"],\"y\":[0.0028306742151312406]},{\"text\":\"electronic device\",\"textposition\":\"auto\",\"type\":\"bar\",\"width\":0.1,\"x\":[\"What kind\"],\"y\":[0.0028306742151312406]},{\"text\":\"board\",\"textposition\":\"auto\",\"type\":\"bar\",\"width\":0.1,\"x\":[\"What kind\"],\"y\":[0.0028306742151312406]},{\"text\":\"snowy mountain\",\"textposition\":\"auto\",\"type\":\"bar\",\"width\":0.1,\"x\":[\"What kind\"],\"y\":[0.0028306742151312406]},{\"text\":\"wooden cabinet\",\"textposition\":\"auto\",\"type\":\"bar\",\"width\":0.1,\"x\":[\"What kind\"],\"y\":[0.0025733401955738548]},{\"text\":\"traffic\",\"textposition\":\"auto\",\"type\":\"bar\",\"width\":0.1,\"x\":[\"What kind\"],\"y\":[0.0025733401955738548]},{\"text\":\"microwave oven\",\"textposition\":\"auto\",\"type\":\"bar\",\"width\":0.1,\"x\":[\"What kind\"],\"y\":[0.0025733401955738548]},{\"text\":\"mountain\",\"textposition\":\"auto\",\"type\":\"bar\",\"width\":0.1,\"x\":[\"What kind\"],\"y\":[0.0025733401955738548]},{\"text\":\"pole\",\"textposition\":\"auto\",\"type\":\"bar\",\"width\":0.1,\"x\":[\"What kind\"],\"y\":[0.0025733401955738548]},{\"text\":\"window blind\",\"textposition\":\"auto\",\"type\":\"bar\",\"width\":0.1,\"x\":[\"What kind\"],\"y\":[0.0023160061760164694]},{\"text\":\"wire\",\"textposition\":\"auto\",\"type\":\"bar\",\"width\":0.1,\"x\":[\"What kind\"],\"y\":[0.0023160061760164694]},{\"text\":\"washing machine\",\"textposition\":\"auto\",\"type\":\"bar\",\"width\":0.1,\"x\":[\"What kind\"],\"y\":[0.0023160061760164694]},{\"text\":\"dry grass\",\"textposition\":\"auto\",\"type\":\"bar\",\"width\":0.1,\"x\":[\"What kind\"],\"y\":[0.0023160061760164694]},{\"text\":\"tissue paper\",\"textposition\":\"auto\",\"type\":\"bar\",\"width\":0.1,\"x\":[\"What kind\"],\"y\":[0.002058672156459084]},{\"text\":\"floor mat\",\"textposition\":\"auto\",\"type\":\"bar\",\"width\":0.1,\"x\":[\"What kind\"],\"y\":[0.002058672156459084]},{\"text\":\"curtain\",\"textposition\":\"auto\",\"type\":\"bar\",\"width\":0.1,\"x\":[\"What kind\"],\"y\":[0.002058672156459084]},{\"text\":\"wooden rack\",\"textposition\":\"auto\",\"type\":\"bar\",\"width\":0.1,\"x\":[\"What kind\"],\"y\":[0.002058672156459084]},{\"text\":\"toy\",\"textposition\":\"auto\",\"type\":\"bar\",\"width\":0.1,\"x\":[\"What kind\"],\"y\":[0.002058672156459084]},{\"text\":\"metal frame\",\"textposition\":\"auto\",\"type\":\"bar\",\"width\":0.1,\"x\":[\"What kind\"],\"y\":[0.002058672156459084]},{\"text\":\"grill\",\"textposition\":\"auto\",\"type\":\"bar\",\"width\":0.1,\"x\":[\"What kind\"],\"y\":[0.002058672156459084]},{\"text\":\"dark\",\"textposition\":\"auto\",\"type\":\"bar\",\"width\":0.1,\"x\":[\"What kind\"],\"y\":[0.002058672156459084]},{\"text\":\"sand\",\"textposition\":\"auto\",\"type\":\"bar\",\"width\":0.1,\"x\":[\"What kind\"],\"y\":[0.002058672156459084]},{\"text\":\"pillar\",\"textposition\":\"auto\",\"type\":\"bar\",\"width\":0.1,\"x\":[\"What kind\"],\"y\":[0.002058672156459084]},{\"text\":\"tile\",\"textposition\":\"auto\",\"type\":\"bar\",\"width\":0.1,\"x\":[\"What kind\"],\"y\":[0.002058672156459084]},{\"text\":\"rod\",\"textposition\":\"auto\",\"type\":\"bar\",\"width\":0.1,\"x\":[\"What kind\"],\"y\":[0.0018013381369016985]},{\"text\":\"car\",\"textposition\":\"auto\",\"type\":\"bar\",\"width\":0.1,\"x\":[\"What kind\"],\"y\":[0.0018013381369016985]},{\"text\":\"color\",\"textposition\":\"auto\",\"type\":\"bar\",\"width\":0.1,\"x\":[\"What kind\"],\"y\":[0.0018013381369016985]},{\"text\":\"full\",\"textposition\":\"auto\",\"type\":\"bar\",\"width\":0.1,\"x\":[\"What kind\"],\"y\":[0.0018013381369016985]},{\"text\":\"sound box\",\"textposition\":\"auto\",\"type\":\"bar\",\"width\":0.1,\"x\":[\"What kind\"],\"y\":[0.0018013381369016985]},{\"text\":\"stone\",\"textposition\":\"auto\",\"type\":\"bar\",\"width\":0.1,\"x\":[\"What kind\"],\"y\":[0.0018013381369016985]},{\"text\":\"green\",\"textposition\":\"auto\",\"type\":\"bar\",\"width\":0.1,\"x\":[\"What kind\"],\"y\":[0.0018013381369016985]},{\"text\":\"leave\",\"textposition\":\"auto\",\"type\":\"bar\",\"width\":0.1,\"x\":[\"What kind\"],\"y\":[0.0018013381369016985]},{\"text\":\"musical\",\"textposition\":\"auto\",\"type\":\"bar\",\"width\":0.1,\"x\":[\"What kind\"],\"y\":[0.0018013381369016985]},{\"text\":\"small\",\"textposition\":\"auto\",\"type\":\"bar\",\"width\":0.1,\"x\":[\"What kind\"],\"y\":[0.0018013381369016985]},{\"text\":\"horse\",\"textposition\":\"auto\",\"type\":\"bar\",\"width\":0.1,\"x\":[\"What kind\"],\"y\":[0.001544004117344313]},{\"text\":\"tissue roll\",\"textposition\":\"auto\",\"type\":\"bar\",\"width\":0.1,\"x\":[\"What kind\"],\"y\":[0.001544004117344313]},{\"text\":\"glass door\",\"textposition\":\"auto\",\"type\":\"bar\",\"width\":0.1,\"x\":[\"What kind\"],\"y\":[0.001544004117344313]},{\"text\":\"glass jar\",\"textposition\":\"auto\",\"type\":\"bar\",\"width\":0.1,\"x\":[\"What kind\"],\"y\":[0.001544004117344313]},{\"text\":\"wooden frame\",\"textposition\":\"auto\",\"type\":\"bar\",\"width\":0.1,\"x\":[\"What kind\"],\"y\":[0.001544004117344313]},{\"text\":\"beautiful\",\"textposition\":\"auto\",\"type\":\"bar\",\"width\":0.1,\"x\":[\"What kind\"],\"y\":[0.001544004117344313]},{\"text\":\"vegetable\",\"textposition\":\"auto\",\"type\":\"bar\",\"width\":0.1,\"x\":[\"What kind\"],\"y\":[0.001544004117344313]},{\"text\":\"wood\",\"textposition\":\"auto\",\"type\":\"bar\",\"width\":0.1,\"x\":[\"What kind\"],\"y\":[0.001544004117344313]},{\"text\":\"glass bottle\",\"textposition\":\"auto\",\"type\":\"bar\",\"width\":0.1,\"x\":[\"What kind\"],\"y\":[0.001544004117344313]},{\"text\":\"cardboard\",\"textposition\":\"auto\",\"type\":\"bar\",\"width\":0.1,\"x\":[\"What kind\"],\"y\":[0.001544004117344313]},{\"text\":\"cardboard box\",\"textposition\":\"auto\",\"type\":\"bar\",\"width\":0.1,\"x\":[\"What kind\"],\"y\":[0.001544004117344313]},{\"text\":\"liquid\",\"textposition\":\"auto\",\"type\":\"bar\",\"width\":0.1,\"x\":[\"What kind\"],\"y\":[0.001544004117344313]},{\"text\":\"white colour\",\"textposition\":\"auto\",\"type\":\"bar\",\"width\":0.1,\"x\":[\"What kind\"],\"y\":[0.0012866700977869274]},{\"text\":\"big building\",\"textposition\":\"auto\",\"type\":\"bar\",\"width\":0.1,\"x\":[\"What kind\"],\"y\":[0.0012866700977869274]},{\"text\":\"tissue\",\"textposition\":\"auto\",\"type\":\"bar\",\"width\":0.1,\"x\":[\"What kind\"],\"y\":[0.0012866700977869274]},{\"text\":\"air\",\"textposition\":\"auto\",\"type\":\"bar\",\"width\":0.1,\"x\":[\"What kind\"],\"y\":[0.0012866700977869274]},{\"text\":\"signal\",\"textposition\":\"auto\",\"type\":\"bar\",\"width\":0.1,\"x\":[\"What kind\"],\"y\":[0.0012866700977869274]},{\"text\":\"ball\",\"textposition\":\"auto\",\"type\":\"bar\",\"width\":0.1,\"x\":[\"What kind\"],\"y\":[0.0012866700977869274]},{\"text\":\"mobile\",\"textposition\":\"auto\",\"type\":\"bar\",\"width\":0.1,\"x\":[\"What kind\"],\"y\":[0.0012866700977869274]},{\"text\":\"iron grille\",\"textposition\":\"auto\",\"type\":\"bar\",\"width\":0.1,\"x\":[\"What kind\"],\"y\":[0.0012866700977869274]},{\"text\":\"traffic signal\",\"textposition\":\"auto\",\"type\":\"bar\",\"width\":0.1,\"x\":[\"What kind\"],\"y\":[0.0012866700977869274]},{\"text\":\"snow\",\"textposition\":\"auto\",\"type\":\"bar\",\"width\":0.1,\"x\":[\"What kind\"],\"y\":[0.0012866700977869274]},{\"text\":\"gas\",\"textposition\":\"auto\",\"type\":\"bar\",\"width\":0.1,\"x\":[\"What kind\"],\"y\":[0.0012866700977869274]},{\"text\":\"vehicle\",\"textposition\":\"auto\",\"type\":\"bar\",\"width\":0.1,\"x\":[\"What kind\"],\"y\":[0.0012866700977869274]},{\"text\":\"metal rack\",\"textposition\":\"auto\",\"type\":\"bar\",\"width\":0.1,\"x\":[\"What kind\"],\"y\":[0.0012866700977869274]},{\"text\":\"glass shelf\",\"textposition\":\"auto\",\"type\":\"bar\",\"width\":0.1,\"x\":[\"What kind\"],\"y\":[0.0012866700977869274]},{\"text\":\"electrical\",\"textposition\":\"auto\",\"type\":\"bar\",\"width\":0.1,\"x\":[\"What kind\"],\"y\":[0.0012866700977869274]},{\"text\":\"paper roll\",\"textposition\":\"auto\",\"type\":\"bar\",\"width\":0.1,\"x\":[\"What kind\"],\"y\":[0.0012866700977869274]},{\"text\":\"dry stem\",\"textposition\":\"auto\",\"type\":\"bar\",\"width\":0.1,\"x\":[\"What kind\"],\"y\":[0.0012866700977869274]},{\"text\":\"mesh\",\"textposition\":\"auto\",\"type\":\"bar\",\"width\":0.1,\"x\":[\"What kind\"],\"y\":[0.0012866700977869274]},{\"text\":\"wall\",\"textposition\":\"auto\",\"type\":\"bar\",\"width\":0.1,\"x\":[\"What kind\"],\"y\":[0.0012866700977869274]},{\"text\":\"pillow\",\"textposition\":\"auto\",\"type\":\"bar\",\"width\":0.1,\"x\":[\"What kind\"],\"y\":[0.0012866700977869274]},{\"text\":\"animal\",\"textposition\":\"auto\",\"type\":\"bar\",\"width\":0.1,\"x\":[\"What kind\"],\"y\":[0.001029336078229542]},{\"text\":\"candle\",\"textposition\":\"auto\",\"type\":\"bar\",\"width\":0.1,\"x\":[\"What kind\"],\"y\":[0.001029336078229542]},{\"text\":\"mud\",\"textposition\":\"auto\",\"type\":\"bar\",\"width\":0.1,\"x\":[\"What kind\"],\"y\":[0.001029336078229542]},{\"text\":\"water bottle\",\"textposition\":\"auto\",\"type\":\"bar\",\"width\":0.1,\"x\":[\"What kind\"],\"y\":[0.001029336078229542]},{\"text\":\"green grass\",\"textposition\":\"auto\",\"type\":\"bar\",\"width\":0.1,\"x\":[\"What kind\"],\"y\":[0.001029336078229542]},{\"text\":\"fence\",\"textposition\":\"auto\",\"type\":\"bar\",\"width\":0.1,\"x\":[\"What kind\"],\"y\":[0.001029336078229542]},{\"text\":\"table\",\"textposition\":\"auto\",\"type\":\"bar\",\"width\":0.1,\"x\":[\"What kind\"],\"y\":[0.001029336078229542]},{\"text\":\"pair\",\"textposition\":\"auto\",\"type\":\"bar\",\"width\":0.1,\"x\":[\"What kind\"],\"y\":[0.001029336078229542]},{\"text\":\"iron rod\",\"textposition\":\"auto\",\"type\":\"bar\",\"width\":0.1,\"x\":[\"What kind\"],\"y\":[0.001029336078229542]},{\"text\":\"toilet paper\",\"textposition\":\"auto\",\"type\":\"bar\",\"width\":0.1,\"x\":[\"What kind\"],\"y\":[0.001029336078229542]},{\"text\":\"tall building\",\"textposition\":\"auto\",\"type\":\"bar\",\"width\":0.1,\"x\":[\"What kind\"],\"y\":[0.001029336078229542]},{\"text\":\"type\",\"textposition\":\"auto\",\"type\":\"bar\",\"width\":0.1,\"x\":[\"What kind\"],\"y\":[0.001029336078229542]},{\"text\":\"wooden house\",\"textposition\":\"auto\",\"type\":\"bar\",\"width\":0.1,\"x\":[\"What kind\"],\"y\":[0.001029336078229542]},{\"text\":\"dry leave\",\"textposition\":\"auto\",\"type\":\"bar\",\"width\":0.1,\"x\":[\"What kind\"],\"y\":[0.001029336078229542]},{\"text\":\"net\",\"textposition\":\"auto\",\"type\":\"bar\",\"width\":0.1,\"x\":[\"What kind\"],\"y\":[0.001029336078229542]},{\"text\":\"branch\",\"textposition\":\"auto\",\"type\":\"bar\",\"width\":0.1,\"x\":[\"What kind\"],\"y\":[0.001029336078229542]},{\"text\":\"dog\",\"textposition\":\"auto\",\"type\":\"bar\",\"width\":0.1,\"x\":[\"What kind\"],\"y\":[0.001029336078229542]},{\"text\":\"bench\",\"textposition\":\"auto\",\"type\":\"bar\",\"width\":0.1,\"x\":[\"What kind\"],\"y\":[0.001029336078229542]},{\"text\":\"wash basin\",\"textposition\":\"auto\",\"type\":\"bar\",\"width\":0.1,\"x\":[\"What kind\"],\"y\":[0.001029336078229542]},{\"text\":\"boundary wall\",\"textposition\":\"auto\",\"type\":\"bar\",\"width\":0.1,\"x\":[\"What kind\"],\"y\":[0.001029336078229542]},{\"text\":\"design\",\"textposition\":\"auto\",\"type\":\"bar\",\"width\":0.1,\"x\":[\"What kind\"],\"y\":[0.001029336078229542]},{\"text\":\"hand\",\"textposition\":\"auto\",\"type\":\"bar\",\"width\":0.1,\"x\":[\"What kind\"],\"y\":[0.001029336078229542]},{\"text\":\"swimming pool\",\"textposition\":\"auto\",\"type\":\"bar\",\"width\":0.1,\"x\":[\"What kind\"],\"y\":[0.0007720020586721565]},{\"text\":\"bicycle\",\"textposition\":\"auto\",\"type\":\"bar\",\"width\":0.1,\"x\":[\"What kind\"],\"y\":[0.0007720020586721565]},{\"text\":\"elephant\",\"textposition\":\"auto\",\"type\":\"bar\",\"width\":0.1,\"x\":[\"What kind\"],\"y\":[0.0007720020586721565]},{\"text\":\"painting frame\",\"textposition\":\"auto\",\"type\":\"bar\",\"width\":0.1,\"x\":[\"What kind\"],\"y\":[0.0007720020586721565]},{\"text\":\"plant\",\"textposition\":\"auto\",\"type\":\"bar\",\"width\":0.1,\"x\":[\"What kind\"],\"y\":[0.0007720020586721565]},{\"text\":\"lamp\",\"textposition\":\"auto\",\"type\":\"bar\",\"width\":0.1,\"x\":[\"What kind\"],\"y\":[0.0007720020586721565]},{\"text\":\"dust bin\",\"textposition\":\"auto\",\"type\":\"bar\",\"width\":0.1,\"x\":[\"What kind\"],\"y\":[0.0007720020586721565]},{\"text\":\"shampoo bottle\",\"textposition\":\"auto\",\"type\":\"bar\",\"width\":0.1,\"x\":[\"What kind\"],\"y\":[0.0007720020586721565]},{\"text\":\"microwave\",\"textposition\":\"auto\",\"type\":\"bar\",\"width\":0.1,\"x\":[\"What kind\"],\"y\":[0.0007720020586721565]},{\"text\":\"wooden platform\",\"textposition\":\"auto\",\"type\":\"bar\",\"width\":0.1,\"x\":[\"What kind\"],\"y\":[0.0007720020586721565]},{\"text\":\"trunk\",\"textposition\":\"auto\",\"type\":\"bar\",\"width\":0.1,\"x\":[\"What kind\"],\"y\":[0.0007720020586721565]},{\"text\":\"fire place\",\"textposition\":\"auto\",\"type\":\"bar\",\"width\":0.1,\"x\":[\"What kind\"],\"y\":[0.0007720020586721565]},{\"text\":\"cpu\",\"textposition\":\"auto\",\"type\":\"bar\",\"width\":0.1,\"x\":[\"What kind\"],\"y\":[0.0007720020586721565]},{\"text\":\"dry tree\",\"textposition\":\"auto\",\"type\":\"bar\",\"width\":0.1,\"x\":[\"What kind\"],\"y\":[0.0007720020586721565]},{\"text\":\"inner\",\"textposition\":\"auto\",\"type\":\"bar\",\"width\":0.1,\"x\":[\"What kind\"],\"y\":[0.0007720020586721565]},{\"text\":\"flower pot\",\"textposition\":\"auto\",\"type\":\"bar\",\"width\":0.1,\"x\":[\"What kind\"],\"y\":[0.0007720020586721565]},{\"text\":\"marble\",\"textposition\":\"auto\",\"type\":\"bar\",\"width\":0.1,\"x\":[\"What kind\"],\"y\":[0.0007720020586721565]},{\"text\":\"huge\",\"textposition\":\"auto\",\"type\":\"bar\",\"width\":0.1,\"x\":[\"What kind\"],\"y\":[0.0007720020586721565]},{\"text\":\"pot\",\"textposition\":\"auto\",\"type\":\"bar\",\"width\":0.1,\"x\":[\"What kind\"],\"y\":[0.0007720020586721565]},{\"text\":\"clothe\",\"textposition\":\"auto\",\"type\":\"bar\",\"width\":0.1,\"x\":[\"What kind\"],\"y\":[0.0007720020586721565]},{\"text\":\"kitchen\",\"textposition\":\"auto\",\"type\":\"bar\",\"width\":0.1,\"x\":[\"What kind\"],\"y\":[0.0007720020586721565]},{\"text\":\"hand railing\",\"textposition\":\"auto\",\"type\":\"bar\",\"width\":0.1,\"x\":[\"What kind\"],\"y\":[0.0007720020586721565]},{\"text\":\"lamp light\",\"textposition\":\"auto\",\"type\":\"bar\",\"width\":0.1,\"x\":[\"What kind\"],\"y\":[0.0007720020586721565]},{\"text\":\"cloth\",\"textposition\":\"auto\",\"type\":\"bar\",\"width\":0.1,\"x\":[\"What kind\"],\"y\":[0.0007720020586721565]},{\"text\":\"wooden table\",\"textposition\":\"auto\",\"type\":\"bar\",\"width\":0.1,\"x\":[\"What kind\"],\"y\":[0.0007720020586721565]},{\"text\":\"mirror\",\"textposition\":\"auto\",\"type\":\"bar\",\"width\":0.1,\"x\":[\"What kind\"],\"y\":[0.0007720020586721565]},{\"text\":\"glass tumbler\",\"textposition\":\"auto\",\"type\":\"bar\",\"width\":0.1,\"x\":[\"What kind\"],\"y\":[0.0007720020586721565]},{\"text\":\"floor\",\"textposition\":\"auto\",\"type\":\"bar\",\"width\":0.1,\"x\":[\"What kind\"],\"y\":[0.0007720020586721565]},{\"text\":\"cushion\",\"textposition\":\"auto\",\"type\":\"bar\",\"width\":0.1,\"x\":[\"What kind\"],\"y\":[0.0007720020586721565]},{\"text\":\"candle stand\",\"textposition\":\"auto\",\"type\":\"bar\",\"width\":0.1,\"x\":[\"What kind\"],\"y\":[0.0007720020586721565]},{\"text\":\"cupboard\",\"textposition\":\"auto\",\"type\":\"bar\",\"width\":0.1,\"x\":[\"What kind\"],\"y\":[0.000514668039114771]},{\"text\":\"electric\",\"textposition\":\"auto\",\"type\":\"bar\",\"width\":0.1,\"x\":[\"What kind\"],\"y\":[0.000514668039114771]},{\"text\":\"bed sheet\",\"textposition\":\"auto\",\"type\":\"bar\",\"width\":0.1,\"x\":[\"What kind\"],\"y\":[0.000514668039114771]},{\"text\":\"flower\",\"textposition\":\"auto\",\"type\":\"bar\",\"width\":0.1,\"x\":[\"What kind\"],\"y\":[0.000514668039114771]},{\"text\":\"reflection\",\"textposition\":\"auto\",\"type\":\"bar\",\"width\":0.1,\"x\":[\"What kind\"],\"y\":[0.000514668039114771]},{\"text\":\"person\",\"textposition\":\"auto\",\"type\":\"bar\",\"width\":0.1,\"x\":[\"What kind\"],\"y\":[0.000514668039114771]},{\"text\":\"child\",\"textposition\":\"auto\",\"type\":\"bar\",\"width\":0.1,\"x\":[\"What kind\"],\"y\":[0.000514668039114771]},{\"text\":\"signal light\",\"textposition\":\"auto\",\"type\":\"bar\",\"width\":0.1,\"x\":[\"What kind\"],\"y\":[0.000514668039114771]},{\"text\":\"fire extinguisher\",\"textposition\":\"auto\",\"type\":\"bar\",\"width\":0.1,\"x\":[\"What kind\"],\"y\":[0.000514668039114771]},{\"text\":\"fish\",\"textposition\":\"auto\",\"type\":\"bar\",\"width\":0.1,\"x\":[\"What kind\"],\"y\":[0.000514668039114771]},{\"text\":\"brick\",\"textposition\":\"auto\",\"type\":\"bar\",\"width\":0.1,\"x\":[\"What kind\"],\"y\":[0.000514668039114771]},{\"text\":\"hill\",\"textposition\":\"auto\",\"type\":\"bar\",\"width\":0.1,\"x\":[\"What kind\"],\"y\":[0.000514668039114771]},{\"text\":\"sun\",\"textposition\":\"auto\",\"type\":\"bar\",\"width\":0.1,\"x\":[\"What kind\"],\"y\":[0.000514668039114771]},{\"text\":\"wooden cupboard\",\"textposition\":\"auto\",\"type\":\"bar\",\"width\":0.1,\"x\":[\"What kind\"],\"y\":[0.000514668039114771]},{\"text\":\"wooden board\",\"textposition\":\"auto\",\"type\":\"bar\",\"width\":0.1,\"x\":[\"What kind\"],\"y\":[0.000514668039114771]},{\"text\":\"rack\",\"textposition\":\"auto\",\"type\":\"bar\",\"width\":0.1,\"x\":[\"What kind\"],\"y\":[0.000514668039114771]},{\"text\":\"door mat\",\"textposition\":\"auto\",\"type\":\"bar\",\"width\":0.1,\"x\":[\"What kind\"],\"y\":[0.000514668039114771]},{\"text\":\"display board\",\"textposition\":\"auto\",\"type\":\"bar\",\"width\":0.1,\"x\":[\"What kind\"],\"y\":[0.000514668039114771]},{\"text\":\"rope\",\"textposition\":\"auto\",\"type\":\"bar\",\"width\":0.1,\"x\":[\"What kind\"],\"y\":[0.000514668039114771]},{\"text\":\"box\",\"textposition\":\"auto\",\"type\":\"bar\",\"width\":0.1,\"x\":[\"What kind\"],\"y\":[0.000514668039114771]},{\"text\":\"ceramic\",\"textposition\":\"auto\",\"type\":\"bar\",\"width\":0.1,\"x\":[\"What kind\"],\"y\":[0.000514668039114771]},{\"text\":\"cup board\",\"textposition\":\"auto\",\"type\":\"bar\",\"width\":0.1,\"x\":[\"What kind\"],\"y\":[0.000514668039114771]},{\"text\":\"drink\",\"textposition\":\"auto\",\"type\":\"bar\",\"width\":0.1,\"x\":[\"What kind\"],\"y\":[0.000514668039114771]},{\"text\":\"sea shore\",\"textposition\":\"auto\",\"type\":\"bar\",\"width\":0.1,\"x\":[\"What kind\"],\"y\":[0.000514668039114771]},{\"text\":\"wooden pole\",\"textposition\":\"auto\",\"type\":\"bar\",\"width\":0.1,\"x\":[\"What kind\"],\"y\":[0.000514668039114771]},{\"text\":\"crowd\",\"textposition\":\"auto\",\"type\":\"bar\",\"width\":0.1,\"x\":[\"What kind\"],\"y\":[0.000514668039114771]},{\"text\":\"holder\",\"textposition\":\"auto\",\"type\":\"bar\",\"width\":0.1,\"x\":[\"What kind\"],\"y\":[0.000514668039114771]},{\"text\":\"kid\",\"textposition\":\"auto\",\"type\":\"bar\",\"width\":0.1,\"x\":[\"What kind\"],\"y\":[0.000514668039114771]},{\"text\":\"gaming machine\",\"textposition\":\"auto\",\"type\":\"bar\",\"width\":0.1,\"x\":[\"What kind\"],\"y\":[0.000514668039114771]},{\"text\":\"staircase\",\"textposition\":\"auto\",\"type\":\"bar\",\"width\":0.1,\"x\":[\"What kind\"],\"y\":[0.000514668039114771]},{\"text\":\"grassy land\",\"textposition\":\"auto\",\"type\":\"bar\",\"width\":0.1,\"x\":[\"What kind\"],\"y\":[0.000514668039114771]},{\"text\":\"flower vase\",\"textposition\":\"auto\",\"type\":\"bar\",\"width\":0.1,\"x\":[\"What kind\"],\"y\":[0.000514668039114771]},{\"text\":\"designer\",\"textposition\":\"auto\",\"type\":\"bar\",\"width\":0.1,\"x\":[\"What kind\"],\"y\":[0.0002573340195573855]},{\"text\":\"sea\",\"textposition\":\"auto\",\"type\":\"bar\",\"width\":0.1,\"x\":[\"What kind\"],\"y\":[0.0002573340195573855]},{\"text\":\"shadow\",\"textposition\":\"auto\",\"type\":\"bar\",\"width\":0.1,\"x\":[\"What kind\"],\"y\":[0.0002573340195573855]},{\"text\":\"packet\",\"textposition\":\"auto\",\"type\":\"bar\",\"width\":0.1,\"x\":[\"What kind\"],\"y\":[0.0002573340195573855]},{\"text\":\"counter\",\"textposition\":\"auto\",\"type\":\"bar\",\"width\":0.1,\"x\":[\"What kind\"],\"y\":[0.0002573340195573855]},{\"text\":\"roll\",\"textposition\":\"auto\",\"type\":\"bar\",\"width\":0.1,\"x\":[\"What kind\"],\"y\":[0.0002573340195573855]},{\"text\":\"roofing\",\"textposition\":\"auto\",\"type\":\"bar\",\"width\":0.1,\"x\":[\"What kind\"],\"y\":[0.0002573340195573855]},{\"text\":\"toilet seat\",\"textposition\":\"auto\",\"type\":\"bar\",\"width\":0.1,\"x\":[\"What kind\"],\"y\":[0.0002573340195573855]},{\"text\":\"water fountain\",\"textposition\":\"auto\",\"type\":\"bar\",\"width\":0.1,\"x\":[\"What kind\"],\"y\":[0.0002573340195573855]},{\"text\":\"stained glass\",\"textposition\":\"auto\",\"type\":\"bar\",\"width\":0.1,\"x\":[\"What kind\"],\"y\":[0.0002573340195573855]},{\"text\":\"aquarium\",\"textposition\":\"auto\",\"type\":\"bar\",\"width\":0.1,\"x\":[\"What kind\"],\"y\":[0.0002573340195573855]},{\"text\":\"lake\",\"textposition\":\"auto\",\"type\":\"bar\",\"width\":0.1,\"x\":[\"What kind\"],\"y\":[0.0002573340195573855]},{\"text\":\"wheel\",\"textposition\":\"auto\",\"type\":\"bar\",\"width\":0.1,\"x\":[\"What kind\"],\"y\":[0.0002573340195573855]},{\"text\":\"scrap\",\"textposition\":\"auto\",\"type\":\"bar\",\"width\":0.1,\"x\":[\"What kind\"],\"y\":[0.0002573340195573855]},{\"text\":\"round\",\"textposition\":\"auto\",\"type\":\"bar\",\"width\":0.1,\"x\":[\"What kind\"],\"y\":[0.0002573340195573855]},{\"text\":\"seat\",\"textposition\":\"auto\",\"type\":\"bar\",\"width\":0.1,\"x\":[\"What kind\"],\"y\":[0.0002573340195573855]},{\"text\":\"equipment\",\"textposition\":\"auto\",\"type\":\"bar\",\"width\":0.1,\"x\":[\"What kind\"],\"y\":[0.0002573340195573855]},{\"text\":\"wine bottle\",\"textposition\":\"auto\",\"type\":\"bar\",\"width\":0.1,\"x\":[\"What kind\"],\"y\":[0.0002573340195573855]},{\"text\":\"television\",\"textposition\":\"auto\",\"type\":\"bar\",\"width\":0.1,\"x\":[\"What kind\"],\"y\":[0.0002573340195573855]},{\"text\":\"plate\",\"textposition\":\"auto\",\"type\":\"bar\",\"width\":0.1,\"x\":[\"What kind\"],\"y\":[0.0002573340195573855]},{\"text\":\"depiction\",\"textposition\":\"auto\",\"type\":\"bar\",\"width\":0.1,\"x\":[\"What kind\"],\"y\":[0.0002573340195573855]},{\"text\":\"camera\",\"textposition\":\"auto\",\"type\":\"bar\",\"width\":0.1,\"x\":[\"What kind\"],\"y\":[0.0002573340195573855]},{\"text\":\"speaker box\",\"textposition\":\"auto\",\"type\":\"bar\",\"width\":0.1,\"x\":[\"What kind\"],\"y\":[0.0002573340195573855]},{\"text\":\"mic\",\"textposition\":\"auto\",\"type\":\"bar\",\"width\":0.1,\"x\":[\"What kind\"],\"y\":[0.0002573340195573855]},{\"text\":\"pipe\",\"textposition\":\"auto\",\"type\":\"bar\",\"width\":0.1,\"x\":[\"What kind\"],\"y\":[0.0002573340195573855]},{\"text\":\"water tap\",\"textposition\":\"auto\",\"type\":\"bar\",\"width\":0.1,\"x\":[\"What kind\"],\"y\":[0.0002573340195573855]},{\"text\":\"colour\",\"textposition\":\"auto\",\"type\":\"bar\",\"width\":0.1,\"x\":[\"What kind\"],\"y\":[0.0002573340195573855]},{\"text\":\"railway track\",\"textposition\":\"auto\",\"type\":\"bar\",\"width\":0.1,\"x\":[\"What kind\"],\"y\":[0.0002573340195573855]},{\"text\":\"photo\",\"textposition\":\"auto\",\"type\":\"bar\",\"width\":0.1,\"x\":[\"What kind\"],\"y\":[0.0002573340195573855]},{\"text\":\"sofa\",\"textposition\":\"auto\",\"type\":\"bar\",\"width\":0.1,\"x\":[\"What kind\"],\"y\":[0.0002573340195573855]},{\"text\":\"log\",\"textposition\":\"auto\",\"type\":\"bar\",\"width\":0.1,\"x\":[\"What kind\"],\"y\":[0.0002573340195573855]},{\"text\":\"plane\",\"textposition\":\"auto\",\"type\":\"bar\",\"width\":0.1,\"x\":[\"What kind\"],\"y\":[0.0002573340195573855]},{\"text\":\"luggage bag\",\"textposition\":\"auto\",\"type\":\"bar\",\"width\":0.1,\"x\":[\"What kind\"],\"y\":[0.0002573340195573855]},{\"text\":\"light house\",\"textposition\":\"auto\",\"type\":\"bar\",\"width\":0.1,\"x\":[\"What kind\"],\"y\":[0.0002573340195573855]},{\"text\":\"vase\",\"textposition\":\"auto\",\"type\":\"bar\",\"width\":0.1,\"x\":[\"What kind\"],\"y\":[0.0002573340195573855]},{\"text\":\"motorbike\",\"textposition\":\"auto\",\"type\":\"bar\",\"width\":0.1,\"x\":[\"What kind\"],\"y\":[0.0002573340195573855]},{\"text\":\"architecture\",\"textposition\":\"auto\",\"type\":\"bar\",\"width\":0.1,\"x\":[\"What kind\"],\"y\":[0.0002573340195573855]},{\"text\":\"restaurant\",\"textposition\":\"auto\",\"type\":\"bar\",\"width\":0.1,\"x\":[\"What kind\"],\"y\":[0.0002573340195573855]},{\"text\":\"bag\",\"textposition\":\"auto\",\"type\":\"bar\",\"width\":0.1,\"x\":[\"What kind\"],\"y\":[0.0002573340195573855]},{\"text\":\"projector screen\",\"textposition\":\"auto\",\"type\":\"bar\",\"width\":0.1,\"x\":[\"What kind\"],\"y\":[0.0002573340195573855]},{\"text\":\"dustbin\",\"textposition\":\"auto\",\"type\":\"bar\",\"width\":0.1,\"x\":[\"What kind\"],\"y\":[0.0002573340195573855]},{\"text\":\"ceiling fan\",\"textposition\":\"auto\",\"type\":\"bar\",\"width\":0.1,\"x\":[\"What kind\"],\"y\":[0.0002573340195573855]},{\"text\":\"book rack\",\"textposition\":\"auto\",\"type\":\"bar\",\"width\":0.1,\"x\":[\"What kind\"],\"y\":[0.0002573340195573855]},{\"text\":\"metal pole\",\"textposition\":\"auto\",\"type\":\"bar\",\"width\":0.1,\"x\":[\"What kind\"],\"y\":[0.0002573340195573855]},{\"text\":\"fan\",\"textposition\":\"auto\",\"type\":\"bar\",\"width\":0.1,\"x\":[\"What kind\"],\"y\":[0.0002573340195573855]},{\"text\":\"tree trunk\",\"textposition\":\"auto\",\"type\":\"bar\",\"width\":0.1,\"x\":[\"What kind\"],\"y\":[0.0002573340195573855]},{\"text\":\"screen\",\"textposition\":\"auto\",\"type\":\"bar\",\"width\":0.1,\"x\":[\"What kind\"],\"y\":[0.0002573340195573855]},{\"text\":\"switch board\",\"textposition\":\"auto\",\"type\":\"bar\",\"width\":0.1,\"x\":[\"What kind\"],\"y\":[0.0002573340195573855]},{\"text\":\"hen\",\"textposition\":\"auto\",\"type\":\"bar\",\"width\":0.1,\"x\":[\"What kind\"],\"y\":[0.0002573340195573855]},{\"text\":\"text\",\"textposition\":\"auto\",\"type\":\"bar\",\"width\":0.1,\"x\":[\"What kind\"],\"y\":[0.0002573340195573855]},{\"text\":\"land\",\"textposition\":\"auto\",\"type\":\"bar\",\"width\":0.1,\"x\":[\"What kind\"],\"y\":[0.0002573340195573855]},{\"text\":\"aerial\",\"textposition\":\"auto\",\"type\":\"bar\",\"width\":0.1,\"x\":[\"What kind\"],\"y\":[0.0002573340195573855]},{\"text\":\"grille\",\"textposition\":\"auto\",\"type\":\"bar\",\"width\":0.1,\"x\":[\"What kind\"],\"y\":[0.0002573340195573855]},{\"text\":\"room\",\"textposition\":\"auto\",\"type\":\"bar\",\"width\":0.1,\"x\":[\"What kind\"],\"y\":[0.0002573340195573855]},{\"text\":\"sign board\",\"textposition\":\"auto\",\"type\":\"bar\",\"width\":0.1,\"x\":[\"What kind\"],\"y\":[0.0002573340195573855]},{\"text\":\"wall clock\",\"textposition\":\"auto\",\"type\":\"bar\",\"width\":0.1,\"x\":[\"What kind\"],\"y\":[0.0002573340195573855]},{\"text\":\"platform\",\"textposition\":\"auto\",\"type\":\"bar\",\"width\":0.1,\"x\":[\"What kind\"],\"y\":[0.0002573340195573855]},{\"text\":\"dolphin\",\"textposition\":\"auto\",\"type\":\"bar\",\"width\":0.1,\"x\":[\"What kind\"],\"y\":[0.0002573340195573855]},{\"text\":\"lamp post\",\"textposition\":\"auto\",\"type\":\"bar\",\"width\":0.1,\"x\":[\"What kind\"],\"y\":[0.0002573340195573855]},{\"text\":\"flag\",\"textposition\":\"auto\",\"type\":\"bar\",\"width\":0.1,\"x\":[\"What kind\"],\"y\":[0.0002573340195573855]},{\"text\":\"indoor\",\"textposition\":\"auto\",\"type\":\"bar\",\"width\":0.1,\"x\":[\"What kind\"],\"y\":[0.0002573340195573855]},{\"text\":\"stool\",\"textposition\":\"auto\",\"type\":\"bar\",\"width\":0.1,\"x\":[\"What kind\"],\"y\":[0.0002573340195573855]},{\"text\":\"wooden floor\",\"textposition\":\"auto\",\"type\":\"bar\",\"width\":0.1,\"x\":[\"What kind\"],\"y\":[0.0002573340195573855]},{\"text\":\"door\",\"textposition\":\"auto\",\"type\":\"bar\",\"width\":0.1,\"x\":[\"What kind\"],\"y\":[0.0002573340195573855]},{\"text\":\"bike\",\"textposition\":\"auto\",\"type\":\"bar\",\"width\":0.1,\"x\":[\"What kind\"],\"y\":[0.0002573340195573855]},{\"text\":\"current pole\",\"textposition\":\"auto\",\"type\":\"bar\",\"width\":0.1,\"x\":[\"What kind\"],\"y\":[0.0002573340195573855]},{\"text\":\"bowl\",\"textposition\":\"auto\",\"type\":\"bar\",\"width\":0.1,\"x\":[\"What kind\"],\"y\":[0.0002573340195573855]},{\"text\":\"cup\",\"textposition\":\"auto\",\"type\":\"bar\",\"width\":0.1,\"x\":[\"What kind\"],\"y\":[0.0002573340195573855]},{\"text\":\"exhaust fan\",\"textposition\":\"auto\",\"type\":\"bar\",\"width\":0.1,\"x\":[\"What kind\"],\"y\":[0.0002573340195573855]},{\"text\":\"bird\",\"textposition\":\"auto\",\"type\":\"bar\",\"width\":0.1,\"x\":[\"What kind\"],\"y\":[0.0002573340195573855]},{\"text\":\"lump\",\"textposition\":\"auto\",\"type\":\"bar\",\"width\":0.1,\"x\":[\"What kind\"],\"y\":[0.0002573340195573855]},{\"text\":\"petrol\",\"textposition\":\"auto\",\"type\":\"bar\",\"width\":0.1,\"x\":[\"What kind\"],\"y\":[0.0002573340195573855]},{\"text\":\"street light\",\"textposition\":\"auto\",\"type\":\"bar\",\"width\":0.1,\"x\":[\"What kind\"],\"y\":[0.0002573340195573855]},{\"text\":\"people\",\"textposition\":\"auto\",\"type\":\"bar\",\"width\":0.1,\"x\":[\"What kind\"],\"y\":[0.0002573340195573855]},{\"text\":\"computer\",\"textposition\":\"auto\",\"type\":\"bar\",\"width\":0.1,\"x\":[\"What kind\"],\"y\":[0.0002573340195573855]},{\"text\":\"extinguisher\",\"textposition\":\"auto\",\"type\":\"bar\",\"width\":0.1,\"x\":[\"What kind\"],\"y\":[0.0002573340195573855]},{\"text\":\"old\",\"textposition\":\"auto\",\"type\":\"bar\",\"width\":0.1,\"x\":[\"What kind\"],\"y\":[0.0002573340195573855]},{\"text\":\"wooden bench\",\"textposition\":\"auto\",\"type\":\"bar\",\"width\":0.1,\"x\":[\"What kind\"],\"y\":[0.0002573340195573855]},{\"text\":\"dishwasher\",\"textposition\":\"auto\",\"type\":\"bar\",\"width\":0.1,\"x\":[\"What kind\"],\"y\":[0.0002573340195573855]}],                        {\"barmode\":\"stack\",\"template\":{\"data\":{\"bar\":[{\"error_x\":{\"color\":\"#2a3f5f\"},\"error_y\":{\"color\":\"#2a3f5f\"},\"marker\":{\"line\":{\"color\":\"#E5ECF6\",\"width\":0.5},\"pattern\":{\"fillmode\":\"overlay\",\"size\":10,\"solidity\":0.2}},\"type\":\"bar\"}],\"barpolar\":[{\"marker\":{\"line\":{\"color\":\"#E5ECF6\",\"width\":0.5},\"pattern\":{\"fillmode\":\"overlay\",\"size\":10,\"solidity\":0.2}},\"type\":\"barpolar\"}],\"carpet\":[{\"aaxis\":{\"endlinecolor\":\"#2a3f5f\",\"gridcolor\":\"white\",\"linecolor\":\"white\",\"minorgridcolor\":\"white\",\"startlinecolor\":\"#2a3f5f\"},\"baxis\":{\"endlinecolor\":\"#2a3f5f\",\"gridcolor\":\"white\",\"linecolor\":\"white\",\"minorgridcolor\":\"white\",\"startlinecolor\":\"#2a3f5f\"},\"type\":\"carpet\"}],\"choropleth\":[{\"colorbar\":{\"outlinewidth\":0,\"ticks\":\"\"},\"type\":\"choropleth\"}],\"contour\":[{\"colorbar\":{\"outlinewidth\":0,\"ticks\":\"\"},\"colorscale\":[[0.0,\"#0d0887\"],[0.1111111111111111,\"#46039f\"],[0.2222222222222222,\"#7201a8\"],[0.3333333333333333,\"#9c179e\"],[0.4444444444444444,\"#bd3786\"],[0.5555555555555556,\"#d8576b\"],[0.6666666666666666,\"#ed7953\"],[0.7777777777777778,\"#fb9f3a\"],[0.8888888888888888,\"#fdca26\"],[1.0,\"#f0f921\"]],\"type\":\"contour\"}],\"contourcarpet\":[{\"colorbar\":{\"outlinewidth\":0,\"ticks\":\"\"},\"type\":\"contourcarpet\"}],\"heatmap\":[{\"colorbar\":{\"outlinewidth\":0,\"ticks\":\"\"},\"colorscale\":[[0.0,\"#0d0887\"],[0.1111111111111111,\"#46039f\"],[0.2222222222222222,\"#7201a8\"],[0.3333333333333333,\"#9c179e\"],[0.4444444444444444,\"#bd3786\"],[0.5555555555555556,\"#d8576b\"],[0.6666666666666666,\"#ed7953\"],[0.7777777777777778,\"#fb9f3a\"],[0.8888888888888888,\"#fdca26\"],[1.0,\"#f0f921\"]],\"type\":\"heatmap\"}],\"heatmapgl\":[{\"colorbar\":{\"outlinewidth\":0,\"ticks\":\"\"},\"colorscale\":[[0.0,\"#0d0887\"],[0.1111111111111111,\"#46039f\"],[0.2222222222222222,\"#7201a8\"],[0.3333333333333333,\"#9c179e\"],[0.4444444444444444,\"#bd3786\"],[0.5555555555555556,\"#d8576b\"],[0.6666666666666666,\"#ed7953\"],[0.7777777777777778,\"#fb9f3a\"],[0.8888888888888888,\"#fdca26\"],[1.0,\"#f0f921\"]],\"type\":\"heatmapgl\"}],\"histogram\":[{\"marker\":{\"pattern\":{\"fillmode\":\"overlay\",\"size\":10,\"solidity\":0.2}},\"type\":\"histogram\"}],\"histogram2d\":[{\"colorbar\":{\"outlinewidth\":0,\"ticks\":\"\"},\"colorscale\":[[0.0,\"#0d0887\"],[0.1111111111111111,\"#46039f\"],[0.2222222222222222,\"#7201a8\"],[0.3333333333333333,\"#9c179e\"],[0.4444444444444444,\"#bd3786\"],[0.5555555555555556,\"#d8576b\"],[0.6666666666666666,\"#ed7953\"],[0.7777777777777778,\"#fb9f3a\"],[0.8888888888888888,\"#fdca26\"],[1.0,\"#f0f921\"]],\"type\":\"histogram2d\"}],\"histogram2dcontour\":[{\"colorbar\":{\"outlinewidth\":0,\"ticks\":\"\"},\"colorscale\":[[0.0,\"#0d0887\"],[0.1111111111111111,\"#46039f\"],[0.2222222222222222,\"#7201a8\"],[0.3333333333333333,\"#9c179e\"],[0.4444444444444444,\"#bd3786\"],[0.5555555555555556,\"#d8576b\"],[0.6666666666666666,\"#ed7953\"],[0.7777777777777778,\"#fb9f3a\"],[0.8888888888888888,\"#fdca26\"],[1.0,\"#f0f921\"]],\"type\":\"histogram2dcontour\"}],\"mesh3d\":[{\"colorbar\":{\"outlinewidth\":0,\"ticks\":\"\"},\"type\":\"mesh3d\"}],\"parcoords\":[{\"line\":{\"colorbar\":{\"outlinewidth\":0,\"ticks\":\"\"}},\"type\":\"parcoords\"}],\"pie\":[{\"automargin\":true,\"type\":\"pie\"}],\"scatter\":[{\"marker\":{\"colorbar\":{\"outlinewidth\":0,\"ticks\":\"\"}},\"type\":\"scatter\"}],\"scatter3d\":[{\"line\":{\"colorbar\":{\"outlinewidth\":0,\"ticks\":\"\"}},\"marker\":{\"colorbar\":{\"outlinewidth\":0,\"ticks\":\"\"}},\"type\":\"scatter3d\"}],\"scattercarpet\":[{\"marker\":{\"colorbar\":{\"outlinewidth\":0,\"ticks\":\"\"}},\"type\":\"scattercarpet\"}],\"scattergeo\":[{\"marker\":{\"colorbar\":{\"outlinewidth\":0,\"ticks\":\"\"}},\"type\":\"scattergeo\"}],\"scattergl\":[{\"marker\":{\"colorbar\":{\"outlinewidth\":0,\"ticks\":\"\"}},\"type\":\"scattergl\"}],\"scattermapbox\":[{\"marker\":{\"colorbar\":{\"outlinewidth\":0,\"ticks\":\"\"}},\"type\":\"scattermapbox\"}],\"scatterpolar\":[{\"marker\":{\"colorbar\":{\"outlinewidth\":0,\"ticks\":\"\"}},\"type\":\"scatterpolar\"}],\"scatterpolargl\":[{\"marker\":{\"colorbar\":{\"outlinewidth\":0,\"ticks\":\"\"}},\"type\":\"scatterpolargl\"}],\"scatterternary\":[{\"marker\":{\"colorbar\":{\"outlinewidth\":0,\"ticks\":\"\"}},\"type\":\"scatterternary\"}],\"surface\":[{\"colorbar\":{\"outlinewidth\":0,\"ticks\":\"\"},\"colorscale\":[[0.0,\"#0d0887\"],[0.1111111111111111,\"#46039f\"],[0.2222222222222222,\"#7201a8\"],[0.3333333333333333,\"#9c179e\"],[0.4444444444444444,\"#bd3786\"],[0.5555555555555556,\"#d8576b\"],[0.6666666666666666,\"#ed7953\"],[0.7777777777777778,\"#fb9f3a\"],[0.8888888888888888,\"#fdca26\"],[1.0,\"#f0f921\"]],\"type\":\"surface\"}],\"table\":[{\"cells\":{\"fill\":{\"color\":\"#EBF0F8\"},\"line\":{\"color\":\"white\"}},\"header\":{\"fill\":{\"color\":\"#C8D4E3\"},\"line\":{\"color\":\"white\"}},\"type\":\"table\"}]},\"layout\":{\"annotationdefaults\":{\"arrowcolor\":\"#2a3f5f\",\"arrowhead\":0,\"arrowwidth\":1},\"autotypenumbers\":\"strict\",\"coloraxis\":{\"colorbar\":{\"outlinewidth\":0,\"ticks\":\"\"}},\"colorscale\":{\"diverging\":[[0,\"#8e0152\"],[0.1,\"#c51b7d\"],[0.2,\"#de77ae\"],[0.3,\"#f1b6da\"],[0.4,\"#fde0ef\"],[0.5,\"#f7f7f7\"],[0.6,\"#e6f5d0\"],[0.7,\"#b8e186\"],[0.8,\"#7fbc41\"],[0.9,\"#4d9221\"],[1,\"#276419\"]],\"sequential\":[[0.0,\"#0d0887\"],[0.1111111111111111,\"#46039f\"],[0.2222222222222222,\"#7201a8\"],[0.3333333333333333,\"#9c179e\"],[0.4444444444444444,\"#bd3786\"],[0.5555555555555556,\"#d8576b\"],[0.6666666666666666,\"#ed7953\"],[0.7777777777777778,\"#fb9f3a\"],[0.8888888888888888,\"#fdca26\"],[1.0,\"#f0f921\"]],\"sequentialminus\":[[0.0,\"#0d0887\"],[0.1111111111111111,\"#46039f\"],[0.2222222222222222,\"#7201a8\"],[0.3333333333333333,\"#9c179e\"],[0.4444444444444444,\"#bd3786\"],[0.5555555555555556,\"#d8576b\"],[0.6666666666666666,\"#ed7953\"],[0.7777777777777778,\"#fb9f3a\"],[0.8888888888888888,\"#fdca26\"],[1.0,\"#f0f921\"]]},\"colorway\":[\"#636efa\",\"#EF553B\",\"#00cc96\",\"#ab63fa\",\"#FFA15A\",\"#19d3f3\",\"#FF6692\",\"#B6E880\",\"#FF97FF\",\"#FECB52\"],\"font\":{\"color\":\"#2a3f5f\"},\"geo\":{\"bgcolor\":\"white\",\"lakecolor\":\"white\",\"landcolor\":\"#E5ECF6\",\"showlakes\":true,\"showland\":true,\"subunitcolor\":\"white\"},\"hoverlabel\":{\"align\":\"left\"},\"hovermode\":\"closest\",\"mapbox\":{\"style\":\"light\"},\"paper_bgcolor\":\"white\",\"plot_bgcolor\":\"#E5ECF6\",\"polar\":{\"angularaxis\":{\"gridcolor\":\"white\",\"linecolor\":\"white\",\"ticks\":\"\"},\"bgcolor\":\"#E5ECF6\",\"radialaxis\":{\"gridcolor\":\"white\",\"linecolor\":\"white\",\"ticks\":\"\"}},\"scene\":{\"xaxis\":{\"backgroundcolor\":\"#E5ECF6\",\"gridcolor\":\"white\",\"gridwidth\":2,\"linecolor\":\"white\",\"showbackground\":true,\"ticks\":\"\",\"zerolinecolor\":\"white\"},\"yaxis\":{\"backgroundcolor\":\"#E5ECF6\",\"gridcolor\":\"white\",\"gridwidth\":2,\"linecolor\":\"white\",\"showbackground\":true,\"ticks\":\"\",\"zerolinecolor\":\"white\"},\"zaxis\":{\"backgroundcolor\":\"#E5ECF6\",\"gridcolor\":\"white\",\"gridwidth\":2,\"linecolor\":\"white\",\"showbackground\":true,\"ticks\":\"\",\"zerolinecolor\":\"white\"}},\"shapedefaults\":{\"line\":{\"color\":\"#2a3f5f\"}},\"ternary\":{\"aaxis\":{\"gridcolor\":\"white\",\"linecolor\":\"white\",\"ticks\":\"\"},\"baxis\":{\"gridcolor\":\"white\",\"linecolor\":\"white\",\"ticks\":\"\"},\"bgcolor\":\"#E5ECF6\",\"caxis\":{\"gridcolor\":\"white\",\"linecolor\":\"white\",\"ticks\":\"\"}},\"title\":{\"x\":0.05},\"xaxis\":{\"automargin\":true,\"gridcolor\":\"white\",\"linecolor\":\"white\",\"ticks\":\"\",\"title\":{\"standoff\":15},\"zerolinecolor\":\"white\",\"zerolinewidth\":2},\"yaxis\":{\"automargin\":true,\"gridcolor\":\"white\",\"linecolor\":\"white\",\"ticks\":\"\",\"title\":{\"standoff\":15},\"zerolinecolor\":\"white\",\"zerolinewidth\":2}}}},                        {\"responsive\": true}                    ).then(function(){\n",
       "                            \n",
       "var gd = document.getElementById('5b046c5c-4918-45fd-b2fa-e43d406b4006');\n",
       "var x = new MutationObserver(function (mutations, observer) {{\n",
       "        var display = window.getComputedStyle(gd).display;\n",
       "        if (!display || display === 'none') {{\n",
       "            console.log([gd, 'removed!']);\n",
       "            Plotly.purge(gd);\n",
       "            observer.disconnect();\n",
       "        }}\n",
       "}});\n",
       "\n",
       "// Listen for the removal of the full notebook cells\n",
       "var notebookContainer = gd.closest('#notebook-container');\n",
       "if (notebookContainer) {{\n",
       "    x.observe(notebookContainer, {childList: true});\n",
       "}}\n",
       "\n",
       "// Listen for the clearing of the current output cell\n",
       "var outputEl = gd.closest('.output');\n",
       "if (outputEl) {{\n",
       "    x.observe(outputEl, {childList: true});\n",
       "}}\n",
       "\n",
       "                        })                };                });            </script>        </div>"
      ]
     },
     "metadata": {},
     "output_type": "display_data"
    }
   ],
   "source": [
    "draw_qa_bar('What kind')"
   ]
  },
  {
   "cell_type": "code",
   "execution_count": 66,
   "metadata": {},
   "outputs": [
    {
     "data": {
      "application/vnd.plotly.v1+json": {
       "config": {
        "plotlyServerURL": "https://plot.ly"
       },
       "data": [
        {
         "text": "tennis",
         "textposition": "auto",
         "type": "bar",
         "width": 0.1,
         "x": [
          "What sport"
         ],
         "y": [
          0.3684210526315789
         ]
        },
        {
         "text": "golf",
         "textposition": "auto",
         "type": "bar",
         "width": 0.1,
         "x": [
          "What sport"
         ],
         "y": [
          0.2631578947368421
         ]
        },
        {
         "text": "bowling",
         "textposition": "auto",
         "type": "bar",
         "width": 0.1,
         "x": [
          "What sport"
         ],
         "y": [
          0.21052631578947367
         ]
        },
        {
         "text": "table tennis",
         "textposition": "auto",
         "type": "bar",
         "width": 0.1,
         "x": [
          "What sport"
         ],
         "y": [
          0.10526315789473684
         ]
        },
        {
         "text": "snooker",
         "textposition": "auto",
         "type": "bar",
         "width": 0.1,
         "x": [
          "What sport"
         ],
         "y": [
          0.05263157894736842
         ]
        }
       ],
       "layout": {
        "barmode": "stack",
        "template": {
         "data": {
          "bar": [
           {
            "error_x": {
             "color": "#2a3f5f"
            },
            "error_y": {
             "color": "#2a3f5f"
            },
            "marker": {
             "line": {
              "color": "#E5ECF6",
              "width": 0.5
             },
             "pattern": {
              "fillmode": "overlay",
              "size": 10,
              "solidity": 0.2
             }
            },
            "type": "bar"
           }
          ],
          "barpolar": [
           {
            "marker": {
             "line": {
              "color": "#E5ECF6",
              "width": 0.5
             },
             "pattern": {
              "fillmode": "overlay",
              "size": 10,
              "solidity": 0.2
             }
            },
            "type": "barpolar"
           }
          ],
          "carpet": [
           {
            "aaxis": {
             "endlinecolor": "#2a3f5f",
             "gridcolor": "white",
             "linecolor": "white",
             "minorgridcolor": "white",
             "startlinecolor": "#2a3f5f"
            },
            "baxis": {
             "endlinecolor": "#2a3f5f",
             "gridcolor": "white",
             "linecolor": "white",
             "minorgridcolor": "white",
             "startlinecolor": "#2a3f5f"
            },
            "type": "carpet"
           }
          ],
          "choropleth": [
           {
            "colorbar": {
             "outlinewidth": 0,
             "ticks": ""
            },
            "type": "choropleth"
           }
          ],
          "contour": [
           {
            "colorbar": {
             "outlinewidth": 0,
             "ticks": ""
            },
            "colorscale": [
             [
              0,
              "#0d0887"
             ],
             [
              0.1111111111111111,
              "#46039f"
             ],
             [
              0.2222222222222222,
              "#7201a8"
             ],
             [
              0.3333333333333333,
              "#9c179e"
             ],
             [
              0.4444444444444444,
              "#bd3786"
             ],
             [
              0.5555555555555556,
              "#d8576b"
             ],
             [
              0.6666666666666666,
              "#ed7953"
             ],
             [
              0.7777777777777778,
              "#fb9f3a"
             ],
             [
              0.8888888888888888,
              "#fdca26"
             ],
             [
              1,
              "#f0f921"
             ]
            ],
            "type": "contour"
           }
          ],
          "contourcarpet": [
           {
            "colorbar": {
             "outlinewidth": 0,
             "ticks": ""
            },
            "type": "contourcarpet"
           }
          ],
          "heatmap": [
           {
            "colorbar": {
             "outlinewidth": 0,
             "ticks": ""
            },
            "colorscale": [
             [
              0,
              "#0d0887"
             ],
             [
              0.1111111111111111,
              "#46039f"
             ],
             [
              0.2222222222222222,
              "#7201a8"
             ],
             [
              0.3333333333333333,
              "#9c179e"
             ],
             [
              0.4444444444444444,
              "#bd3786"
             ],
             [
              0.5555555555555556,
              "#d8576b"
             ],
             [
              0.6666666666666666,
              "#ed7953"
             ],
             [
              0.7777777777777778,
              "#fb9f3a"
             ],
             [
              0.8888888888888888,
              "#fdca26"
             ],
             [
              1,
              "#f0f921"
             ]
            ],
            "type": "heatmap"
           }
          ],
          "heatmapgl": [
           {
            "colorbar": {
             "outlinewidth": 0,
             "ticks": ""
            },
            "colorscale": [
             [
              0,
              "#0d0887"
             ],
             [
              0.1111111111111111,
              "#46039f"
             ],
             [
              0.2222222222222222,
              "#7201a8"
             ],
             [
              0.3333333333333333,
              "#9c179e"
             ],
             [
              0.4444444444444444,
              "#bd3786"
             ],
             [
              0.5555555555555556,
              "#d8576b"
             ],
             [
              0.6666666666666666,
              "#ed7953"
             ],
             [
              0.7777777777777778,
              "#fb9f3a"
             ],
             [
              0.8888888888888888,
              "#fdca26"
             ],
             [
              1,
              "#f0f921"
             ]
            ],
            "type": "heatmapgl"
           }
          ],
          "histogram": [
           {
            "marker": {
             "pattern": {
              "fillmode": "overlay",
              "size": 10,
              "solidity": 0.2
             }
            },
            "type": "histogram"
           }
          ],
          "histogram2d": [
           {
            "colorbar": {
             "outlinewidth": 0,
             "ticks": ""
            },
            "colorscale": [
             [
              0,
              "#0d0887"
             ],
             [
              0.1111111111111111,
              "#46039f"
             ],
             [
              0.2222222222222222,
              "#7201a8"
             ],
             [
              0.3333333333333333,
              "#9c179e"
             ],
             [
              0.4444444444444444,
              "#bd3786"
             ],
             [
              0.5555555555555556,
              "#d8576b"
             ],
             [
              0.6666666666666666,
              "#ed7953"
             ],
             [
              0.7777777777777778,
              "#fb9f3a"
             ],
             [
              0.8888888888888888,
              "#fdca26"
             ],
             [
              1,
              "#f0f921"
             ]
            ],
            "type": "histogram2d"
           }
          ],
          "histogram2dcontour": [
           {
            "colorbar": {
             "outlinewidth": 0,
             "ticks": ""
            },
            "colorscale": [
             [
              0,
              "#0d0887"
             ],
             [
              0.1111111111111111,
              "#46039f"
             ],
             [
              0.2222222222222222,
              "#7201a8"
             ],
             [
              0.3333333333333333,
              "#9c179e"
             ],
             [
              0.4444444444444444,
              "#bd3786"
             ],
             [
              0.5555555555555556,
              "#d8576b"
             ],
             [
              0.6666666666666666,
              "#ed7953"
             ],
             [
              0.7777777777777778,
              "#fb9f3a"
             ],
             [
              0.8888888888888888,
              "#fdca26"
             ],
             [
              1,
              "#f0f921"
             ]
            ],
            "type": "histogram2dcontour"
           }
          ],
          "mesh3d": [
           {
            "colorbar": {
             "outlinewidth": 0,
             "ticks": ""
            },
            "type": "mesh3d"
           }
          ],
          "parcoords": [
           {
            "line": {
             "colorbar": {
              "outlinewidth": 0,
              "ticks": ""
             }
            },
            "type": "parcoords"
           }
          ],
          "pie": [
           {
            "automargin": true,
            "type": "pie"
           }
          ],
          "scatter": [
           {
            "marker": {
             "colorbar": {
              "outlinewidth": 0,
              "ticks": ""
             }
            },
            "type": "scatter"
           }
          ],
          "scatter3d": [
           {
            "line": {
             "colorbar": {
              "outlinewidth": 0,
              "ticks": ""
             }
            },
            "marker": {
             "colorbar": {
              "outlinewidth": 0,
              "ticks": ""
             }
            },
            "type": "scatter3d"
           }
          ],
          "scattercarpet": [
           {
            "marker": {
             "colorbar": {
              "outlinewidth": 0,
              "ticks": ""
             }
            },
            "type": "scattercarpet"
           }
          ],
          "scattergeo": [
           {
            "marker": {
             "colorbar": {
              "outlinewidth": 0,
              "ticks": ""
             }
            },
            "type": "scattergeo"
           }
          ],
          "scattergl": [
           {
            "marker": {
             "colorbar": {
              "outlinewidth": 0,
              "ticks": ""
             }
            },
            "type": "scattergl"
           }
          ],
          "scattermapbox": [
           {
            "marker": {
             "colorbar": {
              "outlinewidth": 0,
              "ticks": ""
             }
            },
            "type": "scattermapbox"
           }
          ],
          "scatterpolar": [
           {
            "marker": {
             "colorbar": {
              "outlinewidth": 0,
              "ticks": ""
             }
            },
            "type": "scatterpolar"
           }
          ],
          "scatterpolargl": [
           {
            "marker": {
             "colorbar": {
              "outlinewidth": 0,
              "ticks": ""
             }
            },
            "type": "scatterpolargl"
           }
          ],
          "scatterternary": [
           {
            "marker": {
             "colorbar": {
              "outlinewidth": 0,
              "ticks": ""
             }
            },
            "type": "scatterternary"
           }
          ],
          "surface": [
           {
            "colorbar": {
             "outlinewidth": 0,
             "ticks": ""
            },
            "colorscale": [
             [
              0,
              "#0d0887"
             ],
             [
              0.1111111111111111,
              "#46039f"
             ],
             [
              0.2222222222222222,
              "#7201a8"
             ],
             [
              0.3333333333333333,
              "#9c179e"
             ],
             [
              0.4444444444444444,
              "#bd3786"
             ],
             [
              0.5555555555555556,
              "#d8576b"
             ],
             [
              0.6666666666666666,
              "#ed7953"
             ],
             [
              0.7777777777777778,
              "#fb9f3a"
             ],
             [
              0.8888888888888888,
              "#fdca26"
             ],
             [
              1,
              "#f0f921"
             ]
            ],
            "type": "surface"
           }
          ],
          "table": [
           {
            "cells": {
             "fill": {
              "color": "#EBF0F8"
             },
             "line": {
              "color": "white"
             }
            },
            "header": {
             "fill": {
              "color": "#C8D4E3"
             },
             "line": {
              "color": "white"
             }
            },
            "type": "table"
           }
          ]
         },
         "layout": {
          "annotationdefaults": {
           "arrowcolor": "#2a3f5f",
           "arrowhead": 0,
           "arrowwidth": 1
          },
          "autotypenumbers": "strict",
          "coloraxis": {
           "colorbar": {
            "outlinewidth": 0,
            "ticks": ""
           }
          },
          "colorscale": {
           "diverging": [
            [
             0,
             "#8e0152"
            ],
            [
             0.1,
             "#c51b7d"
            ],
            [
             0.2,
             "#de77ae"
            ],
            [
             0.3,
             "#f1b6da"
            ],
            [
             0.4,
             "#fde0ef"
            ],
            [
             0.5,
             "#f7f7f7"
            ],
            [
             0.6,
             "#e6f5d0"
            ],
            [
             0.7,
             "#b8e186"
            ],
            [
             0.8,
             "#7fbc41"
            ],
            [
             0.9,
             "#4d9221"
            ],
            [
             1,
             "#276419"
            ]
           ],
           "sequential": [
            [
             0,
             "#0d0887"
            ],
            [
             0.1111111111111111,
             "#46039f"
            ],
            [
             0.2222222222222222,
             "#7201a8"
            ],
            [
             0.3333333333333333,
             "#9c179e"
            ],
            [
             0.4444444444444444,
             "#bd3786"
            ],
            [
             0.5555555555555556,
             "#d8576b"
            ],
            [
             0.6666666666666666,
             "#ed7953"
            ],
            [
             0.7777777777777778,
             "#fb9f3a"
            ],
            [
             0.8888888888888888,
             "#fdca26"
            ],
            [
             1,
             "#f0f921"
            ]
           ],
           "sequentialminus": [
            [
             0,
             "#0d0887"
            ],
            [
             0.1111111111111111,
             "#46039f"
            ],
            [
             0.2222222222222222,
             "#7201a8"
            ],
            [
             0.3333333333333333,
             "#9c179e"
            ],
            [
             0.4444444444444444,
             "#bd3786"
            ],
            [
             0.5555555555555556,
             "#d8576b"
            ],
            [
             0.6666666666666666,
             "#ed7953"
            ],
            [
             0.7777777777777778,
             "#fb9f3a"
            ],
            [
             0.8888888888888888,
             "#fdca26"
            ],
            [
             1,
             "#f0f921"
            ]
           ]
          },
          "colorway": [
           "#636efa",
           "#EF553B",
           "#00cc96",
           "#ab63fa",
           "#FFA15A",
           "#19d3f3",
           "#FF6692",
           "#B6E880",
           "#FF97FF",
           "#FECB52"
          ],
          "font": {
           "color": "#2a3f5f"
          },
          "geo": {
           "bgcolor": "white",
           "lakecolor": "white",
           "landcolor": "#E5ECF6",
           "showlakes": true,
           "showland": true,
           "subunitcolor": "white"
          },
          "hoverlabel": {
           "align": "left"
          },
          "hovermode": "closest",
          "mapbox": {
           "style": "light"
          },
          "paper_bgcolor": "white",
          "plot_bgcolor": "#E5ECF6",
          "polar": {
           "angularaxis": {
            "gridcolor": "white",
            "linecolor": "white",
            "ticks": ""
           },
           "bgcolor": "#E5ECF6",
           "radialaxis": {
            "gridcolor": "white",
            "linecolor": "white",
            "ticks": ""
           }
          },
          "scene": {
           "xaxis": {
            "backgroundcolor": "#E5ECF6",
            "gridcolor": "white",
            "gridwidth": 2,
            "linecolor": "white",
            "showbackground": true,
            "ticks": "",
            "zerolinecolor": "white"
           },
           "yaxis": {
            "backgroundcolor": "#E5ECF6",
            "gridcolor": "white",
            "gridwidth": 2,
            "linecolor": "white",
            "showbackground": true,
            "ticks": "",
            "zerolinecolor": "white"
           },
           "zaxis": {
            "backgroundcolor": "#E5ECF6",
            "gridcolor": "white",
            "gridwidth": 2,
            "linecolor": "white",
            "showbackground": true,
            "ticks": "",
            "zerolinecolor": "white"
           }
          },
          "shapedefaults": {
           "line": {
            "color": "#2a3f5f"
           }
          },
          "ternary": {
           "aaxis": {
            "gridcolor": "white",
            "linecolor": "white",
            "ticks": ""
           },
           "baxis": {
            "gridcolor": "white",
            "linecolor": "white",
            "ticks": ""
           },
           "bgcolor": "#E5ECF6",
           "caxis": {
            "gridcolor": "white",
            "linecolor": "white",
            "ticks": ""
           }
          },
          "title": {
           "x": 0.05
          },
          "xaxis": {
           "automargin": true,
           "gridcolor": "white",
           "linecolor": "white",
           "ticks": "",
           "title": {
            "standoff": 15
           },
           "zerolinecolor": "white",
           "zerolinewidth": 2
          },
          "yaxis": {
           "automargin": true,
           "gridcolor": "white",
           "linecolor": "white",
           "ticks": "",
           "title": {
            "standoff": 15
           },
           "zerolinecolor": "white",
           "zerolinewidth": 2
          }
         }
        }
       }
      },
      "text/html": [
       "<div>                            <div id=\"f44be72b-ccc1-446f-8338-8f0de562063f\" class=\"plotly-graph-div\" style=\"height:525px; width:100%;\"></div>            <script type=\"text/javascript\">                require([\"plotly\"], function(Plotly) {                    window.PLOTLYENV=window.PLOTLYENV || {};                                    if (document.getElementById(\"f44be72b-ccc1-446f-8338-8f0de562063f\")) {                    Plotly.newPlot(                        \"f44be72b-ccc1-446f-8338-8f0de562063f\",                        [{\"text\":\"tennis\",\"textposition\":\"auto\",\"type\":\"bar\",\"width\":0.1,\"x\":[\"What sport\"],\"y\":[0.3684210526315789]},{\"text\":\"golf\",\"textposition\":\"auto\",\"type\":\"bar\",\"width\":0.1,\"x\":[\"What sport\"],\"y\":[0.2631578947368421]},{\"text\":\"bowling\",\"textposition\":\"auto\",\"type\":\"bar\",\"width\":0.1,\"x\":[\"What sport\"],\"y\":[0.21052631578947367]},{\"text\":\"table tennis\",\"textposition\":\"auto\",\"type\":\"bar\",\"width\":0.1,\"x\":[\"What sport\"],\"y\":[0.10526315789473684]},{\"text\":\"snooker\",\"textposition\":\"auto\",\"type\":\"bar\",\"width\":0.1,\"x\":[\"What sport\"],\"y\":[0.05263157894736842]}],                        {\"barmode\":\"stack\",\"template\":{\"data\":{\"bar\":[{\"error_x\":{\"color\":\"#2a3f5f\"},\"error_y\":{\"color\":\"#2a3f5f\"},\"marker\":{\"line\":{\"color\":\"#E5ECF6\",\"width\":0.5},\"pattern\":{\"fillmode\":\"overlay\",\"size\":10,\"solidity\":0.2}},\"type\":\"bar\"}],\"barpolar\":[{\"marker\":{\"line\":{\"color\":\"#E5ECF6\",\"width\":0.5},\"pattern\":{\"fillmode\":\"overlay\",\"size\":10,\"solidity\":0.2}},\"type\":\"barpolar\"}],\"carpet\":[{\"aaxis\":{\"endlinecolor\":\"#2a3f5f\",\"gridcolor\":\"white\",\"linecolor\":\"white\",\"minorgridcolor\":\"white\",\"startlinecolor\":\"#2a3f5f\"},\"baxis\":{\"endlinecolor\":\"#2a3f5f\",\"gridcolor\":\"white\",\"linecolor\":\"white\",\"minorgridcolor\":\"white\",\"startlinecolor\":\"#2a3f5f\"},\"type\":\"carpet\"}],\"choropleth\":[{\"colorbar\":{\"outlinewidth\":0,\"ticks\":\"\"},\"type\":\"choropleth\"}],\"contour\":[{\"colorbar\":{\"outlinewidth\":0,\"ticks\":\"\"},\"colorscale\":[[0.0,\"#0d0887\"],[0.1111111111111111,\"#46039f\"],[0.2222222222222222,\"#7201a8\"],[0.3333333333333333,\"#9c179e\"],[0.4444444444444444,\"#bd3786\"],[0.5555555555555556,\"#d8576b\"],[0.6666666666666666,\"#ed7953\"],[0.7777777777777778,\"#fb9f3a\"],[0.8888888888888888,\"#fdca26\"],[1.0,\"#f0f921\"]],\"type\":\"contour\"}],\"contourcarpet\":[{\"colorbar\":{\"outlinewidth\":0,\"ticks\":\"\"},\"type\":\"contourcarpet\"}],\"heatmap\":[{\"colorbar\":{\"outlinewidth\":0,\"ticks\":\"\"},\"colorscale\":[[0.0,\"#0d0887\"],[0.1111111111111111,\"#46039f\"],[0.2222222222222222,\"#7201a8\"],[0.3333333333333333,\"#9c179e\"],[0.4444444444444444,\"#bd3786\"],[0.5555555555555556,\"#d8576b\"],[0.6666666666666666,\"#ed7953\"],[0.7777777777777778,\"#fb9f3a\"],[0.8888888888888888,\"#fdca26\"],[1.0,\"#f0f921\"]],\"type\":\"heatmap\"}],\"heatmapgl\":[{\"colorbar\":{\"outlinewidth\":0,\"ticks\":\"\"},\"colorscale\":[[0.0,\"#0d0887\"],[0.1111111111111111,\"#46039f\"],[0.2222222222222222,\"#7201a8\"],[0.3333333333333333,\"#9c179e\"],[0.4444444444444444,\"#bd3786\"],[0.5555555555555556,\"#d8576b\"],[0.6666666666666666,\"#ed7953\"],[0.7777777777777778,\"#fb9f3a\"],[0.8888888888888888,\"#fdca26\"],[1.0,\"#f0f921\"]],\"type\":\"heatmapgl\"}],\"histogram\":[{\"marker\":{\"pattern\":{\"fillmode\":\"overlay\",\"size\":10,\"solidity\":0.2}},\"type\":\"histogram\"}],\"histogram2d\":[{\"colorbar\":{\"outlinewidth\":0,\"ticks\":\"\"},\"colorscale\":[[0.0,\"#0d0887\"],[0.1111111111111111,\"#46039f\"],[0.2222222222222222,\"#7201a8\"],[0.3333333333333333,\"#9c179e\"],[0.4444444444444444,\"#bd3786\"],[0.5555555555555556,\"#d8576b\"],[0.6666666666666666,\"#ed7953\"],[0.7777777777777778,\"#fb9f3a\"],[0.8888888888888888,\"#fdca26\"],[1.0,\"#f0f921\"]],\"type\":\"histogram2d\"}],\"histogram2dcontour\":[{\"colorbar\":{\"outlinewidth\":0,\"ticks\":\"\"},\"colorscale\":[[0.0,\"#0d0887\"],[0.1111111111111111,\"#46039f\"],[0.2222222222222222,\"#7201a8\"],[0.3333333333333333,\"#9c179e\"],[0.4444444444444444,\"#bd3786\"],[0.5555555555555556,\"#d8576b\"],[0.6666666666666666,\"#ed7953\"],[0.7777777777777778,\"#fb9f3a\"],[0.8888888888888888,\"#fdca26\"],[1.0,\"#f0f921\"]],\"type\":\"histogram2dcontour\"}],\"mesh3d\":[{\"colorbar\":{\"outlinewidth\":0,\"ticks\":\"\"},\"type\":\"mesh3d\"}],\"parcoords\":[{\"line\":{\"colorbar\":{\"outlinewidth\":0,\"ticks\":\"\"}},\"type\":\"parcoords\"}],\"pie\":[{\"automargin\":true,\"type\":\"pie\"}],\"scatter\":[{\"marker\":{\"colorbar\":{\"outlinewidth\":0,\"ticks\":\"\"}},\"type\":\"scatter\"}],\"scatter3d\":[{\"line\":{\"colorbar\":{\"outlinewidth\":0,\"ticks\":\"\"}},\"marker\":{\"colorbar\":{\"outlinewidth\":0,\"ticks\":\"\"}},\"type\":\"scatter3d\"}],\"scattercarpet\":[{\"marker\":{\"colorbar\":{\"outlinewidth\":0,\"ticks\":\"\"}},\"type\":\"scattercarpet\"}],\"scattergeo\":[{\"marker\":{\"colorbar\":{\"outlinewidth\":0,\"ticks\":\"\"}},\"type\":\"scattergeo\"}],\"scattergl\":[{\"marker\":{\"colorbar\":{\"outlinewidth\":0,\"ticks\":\"\"}},\"type\":\"scattergl\"}],\"scattermapbox\":[{\"marker\":{\"colorbar\":{\"outlinewidth\":0,\"ticks\":\"\"}},\"type\":\"scattermapbox\"}],\"scatterpolar\":[{\"marker\":{\"colorbar\":{\"outlinewidth\":0,\"ticks\":\"\"}},\"type\":\"scatterpolar\"}],\"scatterpolargl\":[{\"marker\":{\"colorbar\":{\"outlinewidth\":0,\"ticks\":\"\"}},\"type\":\"scatterpolargl\"}],\"scatterternary\":[{\"marker\":{\"colorbar\":{\"outlinewidth\":0,\"ticks\":\"\"}},\"type\":\"scatterternary\"}],\"surface\":[{\"colorbar\":{\"outlinewidth\":0,\"ticks\":\"\"},\"colorscale\":[[0.0,\"#0d0887\"],[0.1111111111111111,\"#46039f\"],[0.2222222222222222,\"#7201a8\"],[0.3333333333333333,\"#9c179e\"],[0.4444444444444444,\"#bd3786\"],[0.5555555555555556,\"#d8576b\"],[0.6666666666666666,\"#ed7953\"],[0.7777777777777778,\"#fb9f3a\"],[0.8888888888888888,\"#fdca26\"],[1.0,\"#f0f921\"]],\"type\":\"surface\"}],\"table\":[{\"cells\":{\"fill\":{\"color\":\"#EBF0F8\"},\"line\":{\"color\":\"white\"}},\"header\":{\"fill\":{\"color\":\"#C8D4E3\"},\"line\":{\"color\":\"white\"}},\"type\":\"table\"}]},\"layout\":{\"annotationdefaults\":{\"arrowcolor\":\"#2a3f5f\",\"arrowhead\":0,\"arrowwidth\":1},\"autotypenumbers\":\"strict\",\"coloraxis\":{\"colorbar\":{\"outlinewidth\":0,\"ticks\":\"\"}},\"colorscale\":{\"diverging\":[[0,\"#8e0152\"],[0.1,\"#c51b7d\"],[0.2,\"#de77ae\"],[0.3,\"#f1b6da\"],[0.4,\"#fde0ef\"],[0.5,\"#f7f7f7\"],[0.6,\"#e6f5d0\"],[0.7,\"#b8e186\"],[0.8,\"#7fbc41\"],[0.9,\"#4d9221\"],[1,\"#276419\"]],\"sequential\":[[0.0,\"#0d0887\"],[0.1111111111111111,\"#46039f\"],[0.2222222222222222,\"#7201a8\"],[0.3333333333333333,\"#9c179e\"],[0.4444444444444444,\"#bd3786\"],[0.5555555555555556,\"#d8576b\"],[0.6666666666666666,\"#ed7953\"],[0.7777777777777778,\"#fb9f3a\"],[0.8888888888888888,\"#fdca26\"],[1.0,\"#f0f921\"]],\"sequentialminus\":[[0.0,\"#0d0887\"],[0.1111111111111111,\"#46039f\"],[0.2222222222222222,\"#7201a8\"],[0.3333333333333333,\"#9c179e\"],[0.4444444444444444,\"#bd3786\"],[0.5555555555555556,\"#d8576b\"],[0.6666666666666666,\"#ed7953\"],[0.7777777777777778,\"#fb9f3a\"],[0.8888888888888888,\"#fdca26\"],[1.0,\"#f0f921\"]]},\"colorway\":[\"#636efa\",\"#EF553B\",\"#00cc96\",\"#ab63fa\",\"#FFA15A\",\"#19d3f3\",\"#FF6692\",\"#B6E880\",\"#FF97FF\",\"#FECB52\"],\"font\":{\"color\":\"#2a3f5f\"},\"geo\":{\"bgcolor\":\"white\",\"lakecolor\":\"white\",\"landcolor\":\"#E5ECF6\",\"showlakes\":true,\"showland\":true,\"subunitcolor\":\"white\"},\"hoverlabel\":{\"align\":\"left\"},\"hovermode\":\"closest\",\"mapbox\":{\"style\":\"light\"},\"paper_bgcolor\":\"white\",\"plot_bgcolor\":\"#E5ECF6\",\"polar\":{\"angularaxis\":{\"gridcolor\":\"white\",\"linecolor\":\"white\",\"ticks\":\"\"},\"bgcolor\":\"#E5ECF6\",\"radialaxis\":{\"gridcolor\":\"white\",\"linecolor\":\"white\",\"ticks\":\"\"}},\"scene\":{\"xaxis\":{\"backgroundcolor\":\"#E5ECF6\",\"gridcolor\":\"white\",\"gridwidth\":2,\"linecolor\":\"white\",\"showbackground\":true,\"ticks\":\"\",\"zerolinecolor\":\"white\"},\"yaxis\":{\"backgroundcolor\":\"#E5ECF6\",\"gridcolor\":\"white\",\"gridwidth\":2,\"linecolor\":\"white\",\"showbackground\":true,\"ticks\":\"\",\"zerolinecolor\":\"white\"},\"zaxis\":{\"backgroundcolor\":\"#E5ECF6\",\"gridcolor\":\"white\",\"gridwidth\":2,\"linecolor\":\"white\",\"showbackground\":true,\"ticks\":\"\",\"zerolinecolor\":\"white\"}},\"shapedefaults\":{\"line\":{\"color\":\"#2a3f5f\"}},\"ternary\":{\"aaxis\":{\"gridcolor\":\"white\",\"linecolor\":\"white\",\"ticks\":\"\"},\"baxis\":{\"gridcolor\":\"white\",\"linecolor\":\"white\",\"ticks\":\"\"},\"bgcolor\":\"#E5ECF6\",\"caxis\":{\"gridcolor\":\"white\",\"linecolor\":\"white\",\"ticks\":\"\"}},\"title\":{\"x\":0.05},\"xaxis\":{\"automargin\":true,\"gridcolor\":\"white\",\"linecolor\":\"white\",\"ticks\":\"\",\"title\":{\"standoff\":15},\"zerolinecolor\":\"white\",\"zerolinewidth\":2},\"yaxis\":{\"automargin\":true,\"gridcolor\":\"white\",\"linecolor\":\"white\",\"ticks\":\"\",\"title\":{\"standoff\":15},\"zerolinecolor\":\"white\",\"zerolinewidth\":2}}}},                        {\"responsive\": true}                    ).then(function(){\n",
       "                            \n",
       "var gd = document.getElementById('f44be72b-ccc1-446f-8338-8f0de562063f');\n",
       "var x = new MutationObserver(function (mutations, observer) {{\n",
       "        var display = window.getComputedStyle(gd).display;\n",
       "        if (!display || display === 'none') {{\n",
       "            console.log([gd, 'removed!']);\n",
       "            Plotly.purge(gd);\n",
       "            observer.disconnect();\n",
       "        }}\n",
       "}});\n",
       "\n",
       "// Listen for the removal of the full notebook cells\n",
       "var notebookContainer = gd.closest('#notebook-container');\n",
       "if (notebookContainer) {{\n",
       "    x.observe(notebookContainer, {childList: true});\n",
       "}}\n",
       "\n",
       "// Listen for the clearing of the current output cell\n",
       "var outputEl = gd.closest('.output');\n",
       "if (outputEl) {{\n",
       "    x.observe(outputEl, {childList: true});\n",
       "}}\n",
       "\n",
       "                        })                };                });            </script>        </div>"
      ]
     },
     "metadata": {},
     "output_type": "display_data"
    }
   ],
   "source": [
    "draw_qa_bar('What sport')"
   ]
  },
  {
   "cell_type": "code",
   "execution_count": 71,
   "metadata": {},
   "outputs": [
    {
     "data": {
      "application/vnd.plotly.v1+json": {
       "config": {
        "plotlyServerURL": "https://plot.ly"
       },
       "data": [
        {
         "text": "right",
         "textposition": "auto",
         "type": "bar",
         "width": 0.1,
         "x": [
          "What side"
         ],
         "y": [
          0.45454545454545453
         ]
        },
        {
         "text": "back",
         "textposition": "auto",
         "type": "bar",
         "width": 0.1,
         "x": [
          "What side"
         ],
         "y": [
          0.25
         ]
        },
        {
         "text": "front",
         "textposition": "auto",
         "type": "bar",
         "width": 0.1,
         "x": [
          "What side"
         ],
         "y": [
          0.1590909090909091
         ]
        },
        {
         "text": "left",
         "textposition": "auto",
         "type": "bar",
         "width": 0.1,
         "x": [
          "What side"
         ],
         "y": [
          0.06818181818181818
         ]
        },
        {
         "text": "head",
         "textposition": "auto",
         "type": "bar",
         "width": 0.1,
         "x": [
          "What side"
         ],
         "y": [
          0.022727272727272728
         ]
        },
        {
         "text": "road",
         "textposition": "auto",
         "type": "bar",
         "width": 0.1,
         "x": [
          "What side"
         ],
         "y": [
          0.022727272727272728
         ]
        },
        {
         "text": "opposite",
         "textposition": "auto",
         "type": "bar",
         "width": 0.1,
         "x": [
          "What side"
         ],
         "y": [
          0.022727272727272728
         ]
        }
       ],
       "layout": {
        "barmode": "stack",
        "template": {
         "data": {
          "bar": [
           {
            "error_x": {
             "color": "#2a3f5f"
            },
            "error_y": {
             "color": "#2a3f5f"
            },
            "marker": {
             "line": {
              "color": "#E5ECF6",
              "width": 0.5
             },
             "pattern": {
              "fillmode": "overlay",
              "size": 10,
              "solidity": 0.2
             }
            },
            "type": "bar"
           }
          ],
          "barpolar": [
           {
            "marker": {
             "line": {
              "color": "#E5ECF6",
              "width": 0.5
             },
             "pattern": {
              "fillmode": "overlay",
              "size": 10,
              "solidity": 0.2
             }
            },
            "type": "barpolar"
           }
          ],
          "carpet": [
           {
            "aaxis": {
             "endlinecolor": "#2a3f5f",
             "gridcolor": "white",
             "linecolor": "white",
             "minorgridcolor": "white",
             "startlinecolor": "#2a3f5f"
            },
            "baxis": {
             "endlinecolor": "#2a3f5f",
             "gridcolor": "white",
             "linecolor": "white",
             "minorgridcolor": "white",
             "startlinecolor": "#2a3f5f"
            },
            "type": "carpet"
           }
          ],
          "choropleth": [
           {
            "colorbar": {
             "outlinewidth": 0,
             "ticks": ""
            },
            "type": "choropleth"
           }
          ],
          "contour": [
           {
            "colorbar": {
             "outlinewidth": 0,
             "ticks": ""
            },
            "colorscale": [
             [
              0,
              "#0d0887"
             ],
             [
              0.1111111111111111,
              "#46039f"
             ],
             [
              0.2222222222222222,
              "#7201a8"
             ],
             [
              0.3333333333333333,
              "#9c179e"
             ],
             [
              0.4444444444444444,
              "#bd3786"
             ],
             [
              0.5555555555555556,
              "#d8576b"
             ],
             [
              0.6666666666666666,
              "#ed7953"
             ],
             [
              0.7777777777777778,
              "#fb9f3a"
             ],
             [
              0.8888888888888888,
              "#fdca26"
             ],
             [
              1,
              "#f0f921"
             ]
            ],
            "type": "contour"
           }
          ],
          "contourcarpet": [
           {
            "colorbar": {
             "outlinewidth": 0,
             "ticks": ""
            },
            "type": "contourcarpet"
           }
          ],
          "heatmap": [
           {
            "colorbar": {
             "outlinewidth": 0,
             "ticks": ""
            },
            "colorscale": [
             [
              0,
              "#0d0887"
             ],
             [
              0.1111111111111111,
              "#46039f"
             ],
             [
              0.2222222222222222,
              "#7201a8"
             ],
             [
              0.3333333333333333,
              "#9c179e"
             ],
             [
              0.4444444444444444,
              "#bd3786"
             ],
             [
              0.5555555555555556,
              "#d8576b"
             ],
             [
              0.6666666666666666,
              "#ed7953"
             ],
             [
              0.7777777777777778,
              "#fb9f3a"
             ],
             [
              0.8888888888888888,
              "#fdca26"
             ],
             [
              1,
              "#f0f921"
             ]
            ],
            "type": "heatmap"
           }
          ],
          "heatmapgl": [
           {
            "colorbar": {
             "outlinewidth": 0,
             "ticks": ""
            },
            "colorscale": [
             [
              0,
              "#0d0887"
             ],
             [
              0.1111111111111111,
              "#46039f"
             ],
             [
              0.2222222222222222,
              "#7201a8"
             ],
             [
              0.3333333333333333,
              "#9c179e"
             ],
             [
              0.4444444444444444,
              "#bd3786"
             ],
             [
              0.5555555555555556,
              "#d8576b"
             ],
             [
              0.6666666666666666,
              "#ed7953"
             ],
             [
              0.7777777777777778,
              "#fb9f3a"
             ],
             [
              0.8888888888888888,
              "#fdca26"
             ],
             [
              1,
              "#f0f921"
             ]
            ],
            "type": "heatmapgl"
           }
          ],
          "histogram": [
           {
            "marker": {
             "pattern": {
              "fillmode": "overlay",
              "size": 10,
              "solidity": 0.2
             }
            },
            "type": "histogram"
           }
          ],
          "histogram2d": [
           {
            "colorbar": {
             "outlinewidth": 0,
             "ticks": ""
            },
            "colorscale": [
             [
              0,
              "#0d0887"
             ],
             [
              0.1111111111111111,
              "#46039f"
             ],
             [
              0.2222222222222222,
              "#7201a8"
             ],
             [
              0.3333333333333333,
              "#9c179e"
             ],
             [
              0.4444444444444444,
              "#bd3786"
             ],
             [
              0.5555555555555556,
              "#d8576b"
             ],
             [
              0.6666666666666666,
              "#ed7953"
             ],
             [
              0.7777777777777778,
              "#fb9f3a"
             ],
             [
              0.8888888888888888,
              "#fdca26"
             ],
             [
              1,
              "#f0f921"
             ]
            ],
            "type": "histogram2d"
           }
          ],
          "histogram2dcontour": [
           {
            "colorbar": {
             "outlinewidth": 0,
             "ticks": ""
            },
            "colorscale": [
             [
              0,
              "#0d0887"
             ],
             [
              0.1111111111111111,
              "#46039f"
             ],
             [
              0.2222222222222222,
              "#7201a8"
             ],
             [
              0.3333333333333333,
              "#9c179e"
             ],
             [
              0.4444444444444444,
              "#bd3786"
             ],
             [
              0.5555555555555556,
              "#d8576b"
             ],
             [
              0.6666666666666666,
              "#ed7953"
             ],
             [
              0.7777777777777778,
              "#fb9f3a"
             ],
             [
              0.8888888888888888,
              "#fdca26"
             ],
             [
              1,
              "#f0f921"
             ]
            ],
            "type": "histogram2dcontour"
           }
          ],
          "mesh3d": [
           {
            "colorbar": {
             "outlinewidth": 0,
             "ticks": ""
            },
            "type": "mesh3d"
           }
          ],
          "parcoords": [
           {
            "line": {
             "colorbar": {
              "outlinewidth": 0,
              "ticks": ""
             }
            },
            "type": "parcoords"
           }
          ],
          "pie": [
           {
            "automargin": true,
            "type": "pie"
           }
          ],
          "scatter": [
           {
            "marker": {
             "colorbar": {
              "outlinewidth": 0,
              "ticks": ""
             }
            },
            "type": "scatter"
           }
          ],
          "scatter3d": [
           {
            "line": {
             "colorbar": {
              "outlinewidth": 0,
              "ticks": ""
             }
            },
            "marker": {
             "colorbar": {
              "outlinewidth": 0,
              "ticks": ""
             }
            },
            "type": "scatter3d"
           }
          ],
          "scattercarpet": [
           {
            "marker": {
             "colorbar": {
              "outlinewidth": 0,
              "ticks": ""
             }
            },
            "type": "scattercarpet"
           }
          ],
          "scattergeo": [
           {
            "marker": {
             "colorbar": {
              "outlinewidth": 0,
              "ticks": ""
             }
            },
            "type": "scattergeo"
           }
          ],
          "scattergl": [
           {
            "marker": {
             "colorbar": {
              "outlinewidth": 0,
              "ticks": ""
             }
            },
            "type": "scattergl"
           }
          ],
          "scattermapbox": [
           {
            "marker": {
             "colorbar": {
              "outlinewidth": 0,
              "ticks": ""
             }
            },
            "type": "scattermapbox"
           }
          ],
          "scatterpolar": [
           {
            "marker": {
             "colorbar": {
              "outlinewidth": 0,
              "ticks": ""
             }
            },
            "type": "scatterpolar"
           }
          ],
          "scatterpolargl": [
           {
            "marker": {
             "colorbar": {
              "outlinewidth": 0,
              "ticks": ""
             }
            },
            "type": "scatterpolargl"
           }
          ],
          "scatterternary": [
           {
            "marker": {
             "colorbar": {
              "outlinewidth": 0,
              "ticks": ""
             }
            },
            "type": "scatterternary"
           }
          ],
          "surface": [
           {
            "colorbar": {
             "outlinewidth": 0,
             "ticks": ""
            },
            "colorscale": [
             [
              0,
              "#0d0887"
             ],
             [
              0.1111111111111111,
              "#46039f"
             ],
             [
              0.2222222222222222,
              "#7201a8"
             ],
             [
              0.3333333333333333,
              "#9c179e"
             ],
             [
              0.4444444444444444,
              "#bd3786"
             ],
             [
              0.5555555555555556,
              "#d8576b"
             ],
             [
              0.6666666666666666,
              "#ed7953"
             ],
             [
              0.7777777777777778,
              "#fb9f3a"
             ],
             [
              0.8888888888888888,
              "#fdca26"
             ],
             [
              1,
              "#f0f921"
             ]
            ],
            "type": "surface"
           }
          ],
          "table": [
           {
            "cells": {
             "fill": {
              "color": "#EBF0F8"
             },
             "line": {
              "color": "white"
             }
            },
            "header": {
             "fill": {
              "color": "#C8D4E3"
             },
             "line": {
              "color": "white"
             }
            },
            "type": "table"
           }
          ]
         },
         "layout": {
          "annotationdefaults": {
           "arrowcolor": "#2a3f5f",
           "arrowhead": 0,
           "arrowwidth": 1
          },
          "autotypenumbers": "strict",
          "coloraxis": {
           "colorbar": {
            "outlinewidth": 0,
            "ticks": ""
           }
          },
          "colorscale": {
           "diverging": [
            [
             0,
             "#8e0152"
            ],
            [
             0.1,
             "#c51b7d"
            ],
            [
             0.2,
             "#de77ae"
            ],
            [
             0.3,
             "#f1b6da"
            ],
            [
             0.4,
             "#fde0ef"
            ],
            [
             0.5,
             "#f7f7f7"
            ],
            [
             0.6,
             "#e6f5d0"
            ],
            [
             0.7,
             "#b8e186"
            ],
            [
             0.8,
             "#7fbc41"
            ],
            [
             0.9,
             "#4d9221"
            ],
            [
             1,
             "#276419"
            ]
           ],
           "sequential": [
            [
             0,
             "#0d0887"
            ],
            [
             0.1111111111111111,
             "#46039f"
            ],
            [
             0.2222222222222222,
             "#7201a8"
            ],
            [
             0.3333333333333333,
             "#9c179e"
            ],
            [
             0.4444444444444444,
             "#bd3786"
            ],
            [
             0.5555555555555556,
             "#d8576b"
            ],
            [
             0.6666666666666666,
             "#ed7953"
            ],
            [
             0.7777777777777778,
             "#fb9f3a"
            ],
            [
             0.8888888888888888,
             "#fdca26"
            ],
            [
             1,
             "#f0f921"
            ]
           ],
           "sequentialminus": [
            [
             0,
             "#0d0887"
            ],
            [
             0.1111111111111111,
             "#46039f"
            ],
            [
             0.2222222222222222,
             "#7201a8"
            ],
            [
             0.3333333333333333,
             "#9c179e"
            ],
            [
             0.4444444444444444,
             "#bd3786"
            ],
            [
             0.5555555555555556,
             "#d8576b"
            ],
            [
             0.6666666666666666,
             "#ed7953"
            ],
            [
             0.7777777777777778,
             "#fb9f3a"
            ],
            [
             0.8888888888888888,
             "#fdca26"
            ],
            [
             1,
             "#f0f921"
            ]
           ]
          },
          "colorway": [
           "#636efa",
           "#EF553B",
           "#00cc96",
           "#ab63fa",
           "#FFA15A",
           "#19d3f3",
           "#FF6692",
           "#B6E880",
           "#FF97FF",
           "#FECB52"
          ],
          "font": {
           "color": "#2a3f5f"
          },
          "geo": {
           "bgcolor": "white",
           "lakecolor": "white",
           "landcolor": "#E5ECF6",
           "showlakes": true,
           "showland": true,
           "subunitcolor": "white"
          },
          "hoverlabel": {
           "align": "left"
          },
          "hovermode": "closest",
          "mapbox": {
           "style": "light"
          },
          "paper_bgcolor": "white",
          "plot_bgcolor": "#E5ECF6",
          "polar": {
           "angularaxis": {
            "gridcolor": "white",
            "linecolor": "white",
            "ticks": ""
           },
           "bgcolor": "#E5ECF6",
           "radialaxis": {
            "gridcolor": "white",
            "linecolor": "white",
            "ticks": ""
           }
          },
          "scene": {
           "xaxis": {
            "backgroundcolor": "#E5ECF6",
            "gridcolor": "white",
            "gridwidth": 2,
            "linecolor": "white",
            "showbackground": true,
            "ticks": "",
            "zerolinecolor": "white"
           },
           "yaxis": {
            "backgroundcolor": "#E5ECF6",
            "gridcolor": "white",
            "gridwidth": 2,
            "linecolor": "white",
            "showbackground": true,
            "ticks": "",
            "zerolinecolor": "white"
           },
           "zaxis": {
            "backgroundcolor": "#E5ECF6",
            "gridcolor": "white",
            "gridwidth": 2,
            "linecolor": "white",
            "showbackground": true,
            "ticks": "",
            "zerolinecolor": "white"
           }
          },
          "shapedefaults": {
           "line": {
            "color": "#2a3f5f"
           }
          },
          "ternary": {
           "aaxis": {
            "gridcolor": "white",
            "linecolor": "white",
            "ticks": ""
           },
           "baxis": {
            "gridcolor": "white",
            "linecolor": "white",
            "ticks": ""
           },
           "bgcolor": "#E5ECF6",
           "caxis": {
            "gridcolor": "white",
            "linecolor": "white",
            "ticks": ""
           }
          },
          "title": {
           "x": 0.05
          },
          "xaxis": {
           "automargin": true,
           "gridcolor": "white",
           "linecolor": "white",
           "ticks": "",
           "title": {
            "standoff": 15
           },
           "zerolinecolor": "white",
           "zerolinewidth": 2
          },
          "yaxis": {
           "automargin": true,
           "gridcolor": "white",
           "linecolor": "white",
           "ticks": "",
           "title": {
            "standoff": 15
           },
           "zerolinecolor": "white",
           "zerolinewidth": 2
          }
         }
        }
       }
      },
      "text/html": [
       "<div>                            <div id=\"618e82be-87a3-482f-8613-1c3f243ae538\" class=\"plotly-graph-div\" style=\"height:525px; width:100%;\"></div>            <script type=\"text/javascript\">                require([\"plotly\"], function(Plotly) {                    window.PLOTLYENV=window.PLOTLYENV || {};                                    if (document.getElementById(\"618e82be-87a3-482f-8613-1c3f243ae538\")) {                    Plotly.newPlot(                        \"618e82be-87a3-482f-8613-1c3f243ae538\",                        [{\"text\":\"right\",\"textposition\":\"auto\",\"type\":\"bar\",\"width\":0.1,\"x\":[\"What side\"],\"y\":[0.45454545454545453]},{\"text\":\"back\",\"textposition\":\"auto\",\"type\":\"bar\",\"width\":0.1,\"x\":[\"What side\"],\"y\":[0.25]},{\"text\":\"front\",\"textposition\":\"auto\",\"type\":\"bar\",\"width\":0.1,\"x\":[\"What side\"],\"y\":[0.1590909090909091]},{\"text\":\"left\",\"textposition\":\"auto\",\"type\":\"bar\",\"width\":0.1,\"x\":[\"What side\"],\"y\":[0.06818181818181818]},{\"text\":\"head\",\"textposition\":\"auto\",\"type\":\"bar\",\"width\":0.1,\"x\":[\"What side\"],\"y\":[0.022727272727272728]},{\"text\":\"road\",\"textposition\":\"auto\",\"type\":\"bar\",\"width\":0.1,\"x\":[\"What side\"],\"y\":[0.022727272727272728]},{\"text\":\"opposite\",\"textposition\":\"auto\",\"type\":\"bar\",\"width\":0.1,\"x\":[\"What side\"],\"y\":[0.022727272727272728]}],                        {\"barmode\":\"stack\",\"template\":{\"data\":{\"bar\":[{\"error_x\":{\"color\":\"#2a3f5f\"},\"error_y\":{\"color\":\"#2a3f5f\"},\"marker\":{\"line\":{\"color\":\"#E5ECF6\",\"width\":0.5},\"pattern\":{\"fillmode\":\"overlay\",\"size\":10,\"solidity\":0.2}},\"type\":\"bar\"}],\"barpolar\":[{\"marker\":{\"line\":{\"color\":\"#E5ECF6\",\"width\":0.5},\"pattern\":{\"fillmode\":\"overlay\",\"size\":10,\"solidity\":0.2}},\"type\":\"barpolar\"}],\"carpet\":[{\"aaxis\":{\"endlinecolor\":\"#2a3f5f\",\"gridcolor\":\"white\",\"linecolor\":\"white\",\"minorgridcolor\":\"white\",\"startlinecolor\":\"#2a3f5f\"},\"baxis\":{\"endlinecolor\":\"#2a3f5f\",\"gridcolor\":\"white\",\"linecolor\":\"white\",\"minorgridcolor\":\"white\",\"startlinecolor\":\"#2a3f5f\"},\"type\":\"carpet\"}],\"choropleth\":[{\"colorbar\":{\"outlinewidth\":0,\"ticks\":\"\"},\"type\":\"choropleth\"}],\"contour\":[{\"colorbar\":{\"outlinewidth\":0,\"ticks\":\"\"},\"colorscale\":[[0.0,\"#0d0887\"],[0.1111111111111111,\"#46039f\"],[0.2222222222222222,\"#7201a8\"],[0.3333333333333333,\"#9c179e\"],[0.4444444444444444,\"#bd3786\"],[0.5555555555555556,\"#d8576b\"],[0.6666666666666666,\"#ed7953\"],[0.7777777777777778,\"#fb9f3a\"],[0.8888888888888888,\"#fdca26\"],[1.0,\"#f0f921\"]],\"type\":\"contour\"}],\"contourcarpet\":[{\"colorbar\":{\"outlinewidth\":0,\"ticks\":\"\"},\"type\":\"contourcarpet\"}],\"heatmap\":[{\"colorbar\":{\"outlinewidth\":0,\"ticks\":\"\"},\"colorscale\":[[0.0,\"#0d0887\"],[0.1111111111111111,\"#46039f\"],[0.2222222222222222,\"#7201a8\"],[0.3333333333333333,\"#9c179e\"],[0.4444444444444444,\"#bd3786\"],[0.5555555555555556,\"#d8576b\"],[0.6666666666666666,\"#ed7953\"],[0.7777777777777778,\"#fb9f3a\"],[0.8888888888888888,\"#fdca26\"],[1.0,\"#f0f921\"]],\"type\":\"heatmap\"}],\"heatmapgl\":[{\"colorbar\":{\"outlinewidth\":0,\"ticks\":\"\"},\"colorscale\":[[0.0,\"#0d0887\"],[0.1111111111111111,\"#46039f\"],[0.2222222222222222,\"#7201a8\"],[0.3333333333333333,\"#9c179e\"],[0.4444444444444444,\"#bd3786\"],[0.5555555555555556,\"#d8576b\"],[0.6666666666666666,\"#ed7953\"],[0.7777777777777778,\"#fb9f3a\"],[0.8888888888888888,\"#fdca26\"],[1.0,\"#f0f921\"]],\"type\":\"heatmapgl\"}],\"histogram\":[{\"marker\":{\"pattern\":{\"fillmode\":\"overlay\",\"size\":10,\"solidity\":0.2}},\"type\":\"histogram\"}],\"histogram2d\":[{\"colorbar\":{\"outlinewidth\":0,\"ticks\":\"\"},\"colorscale\":[[0.0,\"#0d0887\"],[0.1111111111111111,\"#46039f\"],[0.2222222222222222,\"#7201a8\"],[0.3333333333333333,\"#9c179e\"],[0.4444444444444444,\"#bd3786\"],[0.5555555555555556,\"#d8576b\"],[0.6666666666666666,\"#ed7953\"],[0.7777777777777778,\"#fb9f3a\"],[0.8888888888888888,\"#fdca26\"],[1.0,\"#f0f921\"]],\"type\":\"histogram2d\"}],\"histogram2dcontour\":[{\"colorbar\":{\"outlinewidth\":0,\"ticks\":\"\"},\"colorscale\":[[0.0,\"#0d0887\"],[0.1111111111111111,\"#46039f\"],[0.2222222222222222,\"#7201a8\"],[0.3333333333333333,\"#9c179e\"],[0.4444444444444444,\"#bd3786\"],[0.5555555555555556,\"#d8576b\"],[0.6666666666666666,\"#ed7953\"],[0.7777777777777778,\"#fb9f3a\"],[0.8888888888888888,\"#fdca26\"],[1.0,\"#f0f921\"]],\"type\":\"histogram2dcontour\"}],\"mesh3d\":[{\"colorbar\":{\"outlinewidth\":0,\"ticks\":\"\"},\"type\":\"mesh3d\"}],\"parcoords\":[{\"line\":{\"colorbar\":{\"outlinewidth\":0,\"ticks\":\"\"}},\"type\":\"parcoords\"}],\"pie\":[{\"automargin\":true,\"type\":\"pie\"}],\"scatter\":[{\"marker\":{\"colorbar\":{\"outlinewidth\":0,\"ticks\":\"\"}},\"type\":\"scatter\"}],\"scatter3d\":[{\"line\":{\"colorbar\":{\"outlinewidth\":0,\"ticks\":\"\"}},\"marker\":{\"colorbar\":{\"outlinewidth\":0,\"ticks\":\"\"}},\"type\":\"scatter3d\"}],\"scattercarpet\":[{\"marker\":{\"colorbar\":{\"outlinewidth\":0,\"ticks\":\"\"}},\"type\":\"scattercarpet\"}],\"scattergeo\":[{\"marker\":{\"colorbar\":{\"outlinewidth\":0,\"ticks\":\"\"}},\"type\":\"scattergeo\"}],\"scattergl\":[{\"marker\":{\"colorbar\":{\"outlinewidth\":0,\"ticks\":\"\"}},\"type\":\"scattergl\"}],\"scattermapbox\":[{\"marker\":{\"colorbar\":{\"outlinewidth\":0,\"ticks\":\"\"}},\"type\":\"scattermapbox\"}],\"scatterpolar\":[{\"marker\":{\"colorbar\":{\"outlinewidth\":0,\"ticks\":\"\"}},\"type\":\"scatterpolar\"}],\"scatterpolargl\":[{\"marker\":{\"colorbar\":{\"outlinewidth\":0,\"ticks\":\"\"}},\"type\":\"scatterpolargl\"}],\"scatterternary\":[{\"marker\":{\"colorbar\":{\"outlinewidth\":0,\"ticks\":\"\"}},\"type\":\"scatterternary\"}],\"surface\":[{\"colorbar\":{\"outlinewidth\":0,\"ticks\":\"\"},\"colorscale\":[[0.0,\"#0d0887\"],[0.1111111111111111,\"#46039f\"],[0.2222222222222222,\"#7201a8\"],[0.3333333333333333,\"#9c179e\"],[0.4444444444444444,\"#bd3786\"],[0.5555555555555556,\"#d8576b\"],[0.6666666666666666,\"#ed7953\"],[0.7777777777777778,\"#fb9f3a\"],[0.8888888888888888,\"#fdca26\"],[1.0,\"#f0f921\"]],\"type\":\"surface\"}],\"table\":[{\"cells\":{\"fill\":{\"color\":\"#EBF0F8\"},\"line\":{\"color\":\"white\"}},\"header\":{\"fill\":{\"color\":\"#C8D4E3\"},\"line\":{\"color\":\"white\"}},\"type\":\"table\"}]},\"layout\":{\"annotationdefaults\":{\"arrowcolor\":\"#2a3f5f\",\"arrowhead\":0,\"arrowwidth\":1},\"autotypenumbers\":\"strict\",\"coloraxis\":{\"colorbar\":{\"outlinewidth\":0,\"ticks\":\"\"}},\"colorscale\":{\"diverging\":[[0,\"#8e0152\"],[0.1,\"#c51b7d\"],[0.2,\"#de77ae\"],[0.3,\"#f1b6da\"],[0.4,\"#fde0ef\"],[0.5,\"#f7f7f7\"],[0.6,\"#e6f5d0\"],[0.7,\"#b8e186\"],[0.8,\"#7fbc41\"],[0.9,\"#4d9221\"],[1,\"#276419\"]],\"sequential\":[[0.0,\"#0d0887\"],[0.1111111111111111,\"#46039f\"],[0.2222222222222222,\"#7201a8\"],[0.3333333333333333,\"#9c179e\"],[0.4444444444444444,\"#bd3786\"],[0.5555555555555556,\"#d8576b\"],[0.6666666666666666,\"#ed7953\"],[0.7777777777777778,\"#fb9f3a\"],[0.8888888888888888,\"#fdca26\"],[1.0,\"#f0f921\"]],\"sequentialminus\":[[0.0,\"#0d0887\"],[0.1111111111111111,\"#46039f\"],[0.2222222222222222,\"#7201a8\"],[0.3333333333333333,\"#9c179e\"],[0.4444444444444444,\"#bd3786\"],[0.5555555555555556,\"#d8576b\"],[0.6666666666666666,\"#ed7953\"],[0.7777777777777778,\"#fb9f3a\"],[0.8888888888888888,\"#fdca26\"],[1.0,\"#f0f921\"]]},\"colorway\":[\"#636efa\",\"#EF553B\",\"#00cc96\",\"#ab63fa\",\"#FFA15A\",\"#19d3f3\",\"#FF6692\",\"#B6E880\",\"#FF97FF\",\"#FECB52\"],\"font\":{\"color\":\"#2a3f5f\"},\"geo\":{\"bgcolor\":\"white\",\"lakecolor\":\"white\",\"landcolor\":\"#E5ECF6\",\"showlakes\":true,\"showland\":true,\"subunitcolor\":\"white\"},\"hoverlabel\":{\"align\":\"left\"},\"hovermode\":\"closest\",\"mapbox\":{\"style\":\"light\"},\"paper_bgcolor\":\"white\",\"plot_bgcolor\":\"#E5ECF6\",\"polar\":{\"angularaxis\":{\"gridcolor\":\"white\",\"linecolor\":\"white\",\"ticks\":\"\"},\"bgcolor\":\"#E5ECF6\",\"radialaxis\":{\"gridcolor\":\"white\",\"linecolor\":\"white\",\"ticks\":\"\"}},\"scene\":{\"xaxis\":{\"backgroundcolor\":\"#E5ECF6\",\"gridcolor\":\"white\",\"gridwidth\":2,\"linecolor\":\"white\",\"showbackground\":true,\"ticks\":\"\",\"zerolinecolor\":\"white\"},\"yaxis\":{\"backgroundcolor\":\"#E5ECF6\",\"gridcolor\":\"white\",\"gridwidth\":2,\"linecolor\":\"white\",\"showbackground\":true,\"ticks\":\"\",\"zerolinecolor\":\"white\"},\"zaxis\":{\"backgroundcolor\":\"#E5ECF6\",\"gridcolor\":\"white\",\"gridwidth\":2,\"linecolor\":\"white\",\"showbackground\":true,\"ticks\":\"\",\"zerolinecolor\":\"white\"}},\"shapedefaults\":{\"line\":{\"color\":\"#2a3f5f\"}},\"ternary\":{\"aaxis\":{\"gridcolor\":\"white\",\"linecolor\":\"white\",\"ticks\":\"\"},\"baxis\":{\"gridcolor\":\"white\",\"linecolor\":\"white\",\"ticks\":\"\"},\"bgcolor\":\"#E5ECF6\",\"caxis\":{\"gridcolor\":\"white\",\"linecolor\":\"white\",\"ticks\":\"\"}},\"title\":{\"x\":0.05},\"xaxis\":{\"automargin\":true,\"gridcolor\":\"white\",\"linecolor\":\"white\",\"ticks\":\"\",\"title\":{\"standoff\":15},\"zerolinecolor\":\"white\",\"zerolinewidth\":2},\"yaxis\":{\"automargin\":true,\"gridcolor\":\"white\",\"linecolor\":\"white\",\"ticks\":\"\",\"title\":{\"standoff\":15},\"zerolinecolor\":\"white\",\"zerolinewidth\":2}}}},                        {\"responsive\": true}                    ).then(function(){\n",
       "                            \n",
       "var gd = document.getElementById('618e82be-87a3-482f-8613-1c3f243ae538');\n",
       "var x = new MutationObserver(function (mutations, observer) {{\n",
       "        var display = window.getComputedStyle(gd).display;\n",
       "        if (!display || display === 'none') {{\n",
       "            console.log([gd, 'removed!']);\n",
       "            Plotly.purge(gd);\n",
       "            observer.disconnect();\n",
       "        }}\n",
       "}});\n",
       "\n",
       "// Listen for the removal of the full notebook cells\n",
       "var notebookContainer = gd.closest('#notebook-container');\n",
       "if (notebookContainer) {{\n",
       "    x.observe(notebookContainer, {childList: true});\n",
       "}}\n",
       "\n",
       "// Listen for the clearing of the current output cell\n",
       "var outputEl = gd.closest('.output');\n",
       "if (outputEl) {{\n",
       "    x.observe(outputEl, {childList: true});\n",
       "}}\n",
       "\n",
       "                        })                };                });            </script>        </div>"
      ]
     },
     "metadata": {},
     "output_type": "display_data"
    }
   ],
   "source": [
    "draw_qa_bar('What side')"
   ]
  },
  {
   "cell_type": "code",
   "execution_count": 72,
   "metadata": {},
   "outputs": [
    {
     "data": {
      "application/vnd.plotly.v1+json": {
       "config": {
        "plotlyServerURL": "https://plot.ly"
       },
       "data": [
        {
         "text": "dog",
         "textposition": "auto",
         "type": "bar",
         "width": 0.1,
         "x": [
          "What animal"
         ],
         "y": [
          0.313953488372093
         ]
        },
        {
         "text": "horse",
         "textposition": "auto",
         "type": "bar",
         "width": 0.1,
         "x": [
          "What animal"
         ],
         "y": [
          0.1511627906976744
         ]
        },
        {
         "text": "lamb",
         "textposition": "auto",
         "type": "bar",
         "width": 0.1,
         "x": [
          "What animal"
         ],
         "y": [
          0.12790697674418605
         ]
        },
        {
         "text": "cow",
         "textposition": "auto",
         "type": "bar",
         "width": 0.1,
         "x": [
          "What animal"
         ],
         "y": [
          0.09302325581395349
         ]
        },
        {
         "text": "hen",
         "textposition": "auto",
         "type": "bar",
         "width": 0.1,
         "x": [
          "What animal"
         ],
         "y": [
          0.06976744186046512
         ]
        },
        {
         "text": "elephant",
         "textposition": "auto",
         "type": "bar",
         "width": 0.1,
         "x": [
          "What animal"
         ],
         "y": [
          0.05813953488372093
         ]
        },
        {
         "text": "bat",
         "textposition": "auto",
         "type": "bar",
         "width": 0.1,
         "x": [
          "What animal"
         ],
         "y": [
          0.05813953488372093
         ]
        },
        {
         "text": "cat",
         "textposition": "auto",
         "type": "bar",
         "width": 0.1,
         "x": [
          "What animal"
         ],
         "y": [
          0.046511627906976744
         ]
        },
        {
         "text": "duck",
         "textposition": "auto",
         "type": "bar",
         "width": 0.1,
         "x": [
          "What animal"
         ],
         "y": [
          0.03488372093023256
         ]
        },
        {
         "text": "dolphin",
         "textposition": "auto",
         "type": "bar",
         "width": 0.1,
         "x": [
          "What animal"
         ],
         "y": [
          0.023255813953488372
         ]
        },
        {
         "text": "bird",
         "textposition": "auto",
         "type": "bar",
         "width": 0.1,
         "x": [
          "What animal"
         ],
         "y": [
          0.011627906976744186
         ]
        },
        {
         "text": "human",
         "textposition": "auto",
         "type": "bar",
         "width": 0.1,
         "x": [
          "What animal"
         ],
         "y": [
          0.011627906976744186
         ]
        }
       ],
       "layout": {
        "barmode": "stack",
        "template": {
         "data": {
          "bar": [
           {
            "error_x": {
             "color": "#2a3f5f"
            },
            "error_y": {
             "color": "#2a3f5f"
            },
            "marker": {
             "line": {
              "color": "#E5ECF6",
              "width": 0.5
             },
             "pattern": {
              "fillmode": "overlay",
              "size": 10,
              "solidity": 0.2
             }
            },
            "type": "bar"
           }
          ],
          "barpolar": [
           {
            "marker": {
             "line": {
              "color": "#E5ECF6",
              "width": 0.5
             },
             "pattern": {
              "fillmode": "overlay",
              "size": 10,
              "solidity": 0.2
             }
            },
            "type": "barpolar"
           }
          ],
          "carpet": [
           {
            "aaxis": {
             "endlinecolor": "#2a3f5f",
             "gridcolor": "white",
             "linecolor": "white",
             "minorgridcolor": "white",
             "startlinecolor": "#2a3f5f"
            },
            "baxis": {
             "endlinecolor": "#2a3f5f",
             "gridcolor": "white",
             "linecolor": "white",
             "minorgridcolor": "white",
             "startlinecolor": "#2a3f5f"
            },
            "type": "carpet"
           }
          ],
          "choropleth": [
           {
            "colorbar": {
             "outlinewidth": 0,
             "ticks": ""
            },
            "type": "choropleth"
           }
          ],
          "contour": [
           {
            "colorbar": {
             "outlinewidth": 0,
             "ticks": ""
            },
            "colorscale": [
             [
              0,
              "#0d0887"
             ],
             [
              0.1111111111111111,
              "#46039f"
             ],
             [
              0.2222222222222222,
              "#7201a8"
             ],
             [
              0.3333333333333333,
              "#9c179e"
             ],
             [
              0.4444444444444444,
              "#bd3786"
             ],
             [
              0.5555555555555556,
              "#d8576b"
             ],
             [
              0.6666666666666666,
              "#ed7953"
             ],
             [
              0.7777777777777778,
              "#fb9f3a"
             ],
             [
              0.8888888888888888,
              "#fdca26"
             ],
             [
              1,
              "#f0f921"
             ]
            ],
            "type": "contour"
           }
          ],
          "contourcarpet": [
           {
            "colorbar": {
             "outlinewidth": 0,
             "ticks": ""
            },
            "type": "contourcarpet"
           }
          ],
          "heatmap": [
           {
            "colorbar": {
             "outlinewidth": 0,
             "ticks": ""
            },
            "colorscale": [
             [
              0,
              "#0d0887"
             ],
             [
              0.1111111111111111,
              "#46039f"
             ],
             [
              0.2222222222222222,
              "#7201a8"
             ],
             [
              0.3333333333333333,
              "#9c179e"
             ],
             [
              0.4444444444444444,
              "#bd3786"
             ],
             [
              0.5555555555555556,
              "#d8576b"
             ],
             [
              0.6666666666666666,
              "#ed7953"
             ],
             [
              0.7777777777777778,
              "#fb9f3a"
             ],
             [
              0.8888888888888888,
              "#fdca26"
             ],
             [
              1,
              "#f0f921"
             ]
            ],
            "type": "heatmap"
           }
          ],
          "heatmapgl": [
           {
            "colorbar": {
             "outlinewidth": 0,
             "ticks": ""
            },
            "colorscale": [
             [
              0,
              "#0d0887"
             ],
             [
              0.1111111111111111,
              "#46039f"
             ],
             [
              0.2222222222222222,
              "#7201a8"
             ],
             [
              0.3333333333333333,
              "#9c179e"
             ],
             [
              0.4444444444444444,
              "#bd3786"
             ],
             [
              0.5555555555555556,
              "#d8576b"
             ],
             [
              0.6666666666666666,
              "#ed7953"
             ],
             [
              0.7777777777777778,
              "#fb9f3a"
             ],
             [
              0.8888888888888888,
              "#fdca26"
             ],
             [
              1,
              "#f0f921"
             ]
            ],
            "type": "heatmapgl"
           }
          ],
          "histogram": [
           {
            "marker": {
             "pattern": {
              "fillmode": "overlay",
              "size": 10,
              "solidity": 0.2
             }
            },
            "type": "histogram"
           }
          ],
          "histogram2d": [
           {
            "colorbar": {
             "outlinewidth": 0,
             "ticks": ""
            },
            "colorscale": [
             [
              0,
              "#0d0887"
             ],
             [
              0.1111111111111111,
              "#46039f"
             ],
             [
              0.2222222222222222,
              "#7201a8"
             ],
             [
              0.3333333333333333,
              "#9c179e"
             ],
             [
              0.4444444444444444,
              "#bd3786"
             ],
             [
              0.5555555555555556,
              "#d8576b"
             ],
             [
              0.6666666666666666,
              "#ed7953"
             ],
             [
              0.7777777777777778,
              "#fb9f3a"
             ],
             [
              0.8888888888888888,
              "#fdca26"
             ],
             [
              1,
              "#f0f921"
             ]
            ],
            "type": "histogram2d"
           }
          ],
          "histogram2dcontour": [
           {
            "colorbar": {
             "outlinewidth": 0,
             "ticks": ""
            },
            "colorscale": [
             [
              0,
              "#0d0887"
             ],
             [
              0.1111111111111111,
              "#46039f"
             ],
             [
              0.2222222222222222,
              "#7201a8"
             ],
             [
              0.3333333333333333,
              "#9c179e"
             ],
             [
              0.4444444444444444,
              "#bd3786"
             ],
             [
              0.5555555555555556,
              "#d8576b"
             ],
             [
              0.6666666666666666,
              "#ed7953"
             ],
             [
              0.7777777777777778,
              "#fb9f3a"
             ],
             [
              0.8888888888888888,
              "#fdca26"
             ],
             [
              1,
              "#f0f921"
             ]
            ],
            "type": "histogram2dcontour"
           }
          ],
          "mesh3d": [
           {
            "colorbar": {
             "outlinewidth": 0,
             "ticks": ""
            },
            "type": "mesh3d"
           }
          ],
          "parcoords": [
           {
            "line": {
             "colorbar": {
              "outlinewidth": 0,
              "ticks": ""
             }
            },
            "type": "parcoords"
           }
          ],
          "pie": [
           {
            "automargin": true,
            "type": "pie"
           }
          ],
          "scatter": [
           {
            "marker": {
             "colorbar": {
              "outlinewidth": 0,
              "ticks": ""
             }
            },
            "type": "scatter"
           }
          ],
          "scatter3d": [
           {
            "line": {
             "colorbar": {
              "outlinewidth": 0,
              "ticks": ""
             }
            },
            "marker": {
             "colorbar": {
              "outlinewidth": 0,
              "ticks": ""
             }
            },
            "type": "scatter3d"
           }
          ],
          "scattercarpet": [
           {
            "marker": {
             "colorbar": {
              "outlinewidth": 0,
              "ticks": ""
             }
            },
            "type": "scattercarpet"
           }
          ],
          "scattergeo": [
           {
            "marker": {
             "colorbar": {
              "outlinewidth": 0,
              "ticks": ""
             }
            },
            "type": "scattergeo"
           }
          ],
          "scattergl": [
           {
            "marker": {
             "colorbar": {
              "outlinewidth": 0,
              "ticks": ""
             }
            },
            "type": "scattergl"
           }
          ],
          "scattermapbox": [
           {
            "marker": {
             "colorbar": {
              "outlinewidth": 0,
              "ticks": ""
             }
            },
            "type": "scattermapbox"
           }
          ],
          "scatterpolar": [
           {
            "marker": {
             "colorbar": {
              "outlinewidth": 0,
              "ticks": ""
             }
            },
            "type": "scatterpolar"
           }
          ],
          "scatterpolargl": [
           {
            "marker": {
             "colorbar": {
              "outlinewidth": 0,
              "ticks": ""
             }
            },
            "type": "scatterpolargl"
           }
          ],
          "scatterternary": [
           {
            "marker": {
             "colorbar": {
              "outlinewidth": 0,
              "ticks": ""
             }
            },
            "type": "scatterternary"
           }
          ],
          "surface": [
           {
            "colorbar": {
             "outlinewidth": 0,
             "ticks": ""
            },
            "colorscale": [
             [
              0,
              "#0d0887"
             ],
             [
              0.1111111111111111,
              "#46039f"
             ],
             [
              0.2222222222222222,
              "#7201a8"
             ],
             [
              0.3333333333333333,
              "#9c179e"
             ],
             [
              0.4444444444444444,
              "#bd3786"
             ],
             [
              0.5555555555555556,
              "#d8576b"
             ],
             [
              0.6666666666666666,
              "#ed7953"
             ],
             [
              0.7777777777777778,
              "#fb9f3a"
             ],
             [
              0.8888888888888888,
              "#fdca26"
             ],
             [
              1,
              "#f0f921"
             ]
            ],
            "type": "surface"
           }
          ],
          "table": [
           {
            "cells": {
             "fill": {
              "color": "#EBF0F8"
             },
             "line": {
              "color": "white"
             }
            },
            "header": {
             "fill": {
              "color": "#C8D4E3"
             },
             "line": {
              "color": "white"
             }
            },
            "type": "table"
           }
          ]
         },
         "layout": {
          "annotationdefaults": {
           "arrowcolor": "#2a3f5f",
           "arrowhead": 0,
           "arrowwidth": 1
          },
          "autotypenumbers": "strict",
          "coloraxis": {
           "colorbar": {
            "outlinewidth": 0,
            "ticks": ""
           }
          },
          "colorscale": {
           "diverging": [
            [
             0,
             "#8e0152"
            ],
            [
             0.1,
             "#c51b7d"
            ],
            [
             0.2,
             "#de77ae"
            ],
            [
             0.3,
             "#f1b6da"
            ],
            [
             0.4,
             "#fde0ef"
            ],
            [
             0.5,
             "#f7f7f7"
            ],
            [
             0.6,
             "#e6f5d0"
            ],
            [
             0.7,
             "#b8e186"
            ],
            [
             0.8,
             "#7fbc41"
            ],
            [
             0.9,
             "#4d9221"
            ],
            [
             1,
             "#276419"
            ]
           ],
           "sequential": [
            [
             0,
             "#0d0887"
            ],
            [
             0.1111111111111111,
             "#46039f"
            ],
            [
             0.2222222222222222,
             "#7201a8"
            ],
            [
             0.3333333333333333,
             "#9c179e"
            ],
            [
             0.4444444444444444,
             "#bd3786"
            ],
            [
             0.5555555555555556,
             "#d8576b"
            ],
            [
             0.6666666666666666,
             "#ed7953"
            ],
            [
             0.7777777777777778,
             "#fb9f3a"
            ],
            [
             0.8888888888888888,
             "#fdca26"
            ],
            [
             1,
             "#f0f921"
            ]
           ],
           "sequentialminus": [
            [
             0,
             "#0d0887"
            ],
            [
             0.1111111111111111,
             "#46039f"
            ],
            [
             0.2222222222222222,
             "#7201a8"
            ],
            [
             0.3333333333333333,
             "#9c179e"
            ],
            [
             0.4444444444444444,
             "#bd3786"
            ],
            [
             0.5555555555555556,
             "#d8576b"
            ],
            [
             0.6666666666666666,
             "#ed7953"
            ],
            [
             0.7777777777777778,
             "#fb9f3a"
            ],
            [
             0.8888888888888888,
             "#fdca26"
            ],
            [
             1,
             "#f0f921"
            ]
           ]
          },
          "colorway": [
           "#636efa",
           "#EF553B",
           "#00cc96",
           "#ab63fa",
           "#FFA15A",
           "#19d3f3",
           "#FF6692",
           "#B6E880",
           "#FF97FF",
           "#FECB52"
          ],
          "font": {
           "color": "#2a3f5f"
          },
          "geo": {
           "bgcolor": "white",
           "lakecolor": "white",
           "landcolor": "#E5ECF6",
           "showlakes": true,
           "showland": true,
           "subunitcolor": "white"
          },
          "hoverlabel": {
           "align": "left"
          },
          "hovermode": "closest",
          "mapbox": {
           "style": "light"
          },
          "paper_bgcolor": "white",
          "plot_bgcolor": "#E5ECF6",
          "polar": {
           "angularaxis": {
            "gridcolor": "white",
            "linecolor": "white",
            "ticks": ""
           },
           "bgcolor": "#E5ECF6",
           "radialaxis": {
            "gridcolor": "white",
            "linecolor": "white",
            "ticks": ""
           }
          },
          "scene": {
           "xaxis": {
            "backgroundcolor": "#E5ECF6",
            "gridcolor": "white",
            "gridwidth": 2,
            "linecolor": "white",
            "showbackground": true,
            "ticks": "",
            "zerolinecolor": "white"
           },
           "yaxis": {
            "backgroundcolor": "#E5ECF6",
            "gridcolor": "white",
            "gridwidth": 2,
            "linecolor": "white",
            "showbackground": true,
            "ticks": "",
            "zerolinecolor": "white"
           },
           "zaxis": {
            "backgroundcolor": "#E5ECF6",
            "gridcolor": "white",
            "gridwidth": 2,
            "linecolor": "white",
            "showbackground": true,
            "ticks": "",
            "zerolinecolor": "white"
           }
          },
          "shapedefaults": {
           "line": {
            "color": "#2a3f5f"
           }
          },
          "ternary": {
           "aaxis": {
            "gridcolor": "white",
            "linecolor": "white",
            "ticks": ""
           },
           "baxis": {
            "gridcolor": "white",
            "linecolor": "white",
            "ticks": ""
           },
           "bgcolor": "#E5ECF6",
           "caxis": {
            "gridcolor": "white",
            "linecolor": "white",
            "ticks": ""
           }
          },
          "title": {
           "x": 0.05
          },
          "xaxis": {
           "automargin": true,
           "gridcolor": "white",
           "linecolor": "white",
           "ticks": "",
           "title": {
            "standoff": 15
           },
           "zerolinecolor": "white",
           "zerolinewidth": 2
          },
          "yaxis": {
           "automargin": true,
           "gridcolor": "white",
           "linecolor": "white",
           "ticks": "",
           "title": {
            "standoff": 15
           },
           "zerolinecolor": "white",
           "zerolinewidth": 2
          }
         }
        }
       }
      },
      "text/html": [
       "<div>                            <div id=\"6518fdda-8249-4f6a-80b2-74bb8db2f4d8\" class=\"plotly-graph-div\" style=\"height:525px; width:100%;\"></div>            <script type=\"text/javascript\">                require([\"plotly\"], function(Plotly) {                    window.PLOTLYENV=window.PLOTLYENV || {};                                    if (document.getElementById(\"6518fdda-8249-4f6a-80b2-74bb8db2f4d8\")) {                    Plotly.newPlot(                        \"6518fdda-8249-4f6a-80b2-74bb8db2f4d8\",                        [{\"text\":\"dog\",\"textposition\":\"auto\",\"type\":\"bar\",\"width\":0.1,\"x\":[\"What animal\"],\"y\":[0.313953488372093]},{\"text\":\"horse\",\"textposition\":\"auto\",\"type\":\"bar\",\"width\":0.1,\"x\":[\"What animal\"],\"y\":[0.1511627906976744]},{\"text\":\"lamb\",\"textposition\":\"auto\",\"type\":\"bar\",\"width\":0.1,\"x\":[\"What animal\"],\"y\":[0.12790697674418605]},{\"text\":\"cow\",\"textposition\":\"auto\",\"type\":\"bar\",\"width\":0.1,\"x\":[\"What animal\"],\"y\":[0.09302325581395349]},{\"text\":\"hen\",\"textposition\":\"auto\",\"type\":\"bar\",\"width\":0.1,\"x\":[\"What animal\"],\"y\":[0.06976744186046512]},{\"text\":\"elephant\",\"textposition\":\"auto\",\"type\":\"bar\",\"width\":0.1,\"x\":[\"What animal\"],\"y\":[0.05813953488372093]},{\"text\":\"bat\",\"textposition\":\"auto\",\"type\":\"bar\",\"width\":0.1,\"x\":[\"What animal\"],\"y\":[0.05813953488372093]},{\"text\":\"cat\",\"textposition\":\"auto\",\"type\":\"bar\",\"width\":0.1,\"x\":[\"What animal\"],\"y\":[0.046511627906976744]},{\"text\":\"duck\",\"textposition\":\"auto\",\"type\":\"bar\",\"width\":0.1,\"x\":[\"What animal\"],\"y\":[0.03488372093023256]},{\"text\":\"dolphin\",\"textposition\":\"auto\",\"type\":\"bar\",\"width\":0.1,\"x\":[\"What animal\"],\"y\":[0.023255813953488372]},{\"text\":\"bird\",\"textposition\":\"auto\",\"type\":\"bar\",\"width\":0.1,\"x\":[\"What animal\"],\"y\":[0.011627906976744186]},{\"text\":\"human\",\"textposition\":\"auto\",\"type\":\"bar\",\"width\":0.1,\"x\":[\"What animal\"],\"y\":[0.011627906976744186]}],                        {\"barmode\":\"stack\",\"template\":{\"data\":{\"bar\":[{\"error_x\":{\"color\":\"#2a3f5f\"},\"error_y\":{\"color\":\"#2a3f5f\"},\"marker\":{\"line\":{\"color\":\"#E5ECF6\",\"width\":0.5},\"pattern\":{\"fillmode\":\"overlay\",\"size\":10,\"solidity\":0.2}},\"type\":\"bar\"}],\"barpolar\":[{\"marker\":{\"line\":{\"color\":\"#E5ECF6\",\"width\":0.5},\"pattern\":{\"fillmode\":\"overlay\",\"size\":10,\"solidity\":0.2}},\"type\":\"barpolar\"}],\"carpet\":[{\"aaxis\":{\"endlinecolor\":\"#2a3f5f\",\"gridcolor\":\"white\",\"linecolor\":\"white\",\"minorgridcolor\":\"white\",\"startlinecolor\":\"#2a3f5f\"},\"baxis\":{\"endlinecolor\":\"#2a3f5f\",\"gridcolor\":\"white\",\"linecolor\":\"white\",\"minorgridcolor\":\"white\",\"startlinecolor\":\"#2a3f5f\"},\"type\":\"carpet\"}],\"choropleth\":[{\"colorbar\":{\"outlinewidth\":0,\"ticks\":\"\"},\"type\":\"choropleth\"}],\"contour\":[{\"colorbar\":{\"outlinewidth\":0,\"ticks\":\"\"},\"colorscale\":[[0.0,\"#0d0887\"],[0.1111111111111111,\"#46039f\"],[0.2222222222222222,\"#7201a8\"],[0.3333333333333333,\"#9c179e\"],[0.4444444444444444,\"#bd3786\"],[0.5555555555555556,\"#d8576b\"],[0.6666666666666666,\"#ed7953\"],[0.7777777777777778,\"#fb9f3a\"],[0.8888888888888888,\"#fdca26\"],[1.0,\"#f0f921\"]],\"type\":\"contour\"}],\"contourcarpet\":[{\"colorbar\":{\"outlinewidth\":0,\"ticks\":\"\"},\"type\":\"contourcarpet\"}],\"heatmap\":[{\"colorbar\":{\"outlinewidth\":0,\"ticks\":\"\"},\"colorscale\":[[0.0,\"#0d0887\"],[0.1111111111111111,\"#46039f\"],[0.2222222222222222,\"#7201a8\"],[0.3333333333333333,\"#9c179e\"],[0.4444444444444444,\"#bd3786\"],[0.5555555555555556,\"#d8576b\"],[0.6666666666666666,\"#ed7953\"],[0.7777777777777778,\"#fb9f3a\"],[0.8888888888888888,\"#fdca26\"],[1.0,\"#f0f921\"]],\"type\":\"heatmap\"}],\"heatmapgl\":[{\"colorbar\":{\"outlinewidth\":0,\"ticks\":\"\"},\"colorscale\":[[0.0,\"#0d0887\"],[0.1111111111111111,\"#46039f\"],[0.2222222222222222,\"#7201a8\"],[0.3333333333333333,\"#9c179e\"],[0.4444444444444444,\"#bd3786\"],[0.5555555555555556,\"#d8576b\"],[0.6666666666666666,\"#ed7953\"],[0.7777777777777778,\"#fb9f3a\"],[0.8888888888888888,\"#fdca26\"],[1.0,\"#f0f921\"]],\"type\":\"heatmapgl\"}],\"histogram\":[{\"marker\":{\"pattern\":{\"fillmode\":\"overlay\",\"size\":10,\"solidity\":0.2}},\"type\":\"histogram\"}],\"histogram2d\":[{\"colorbar\":{\"outlinewidth\":0,\"ticks\":\"\"},\"colorscale\":[[0.0,\"#0d0887\"],[0.1111111111111111,\"#46039f\"],[0.2222222222222222,\"#7201a8\"],[0.3333333333333333,\"#9c179e\"],[0.4444444444444444,\"#bd3786\"],[0.5555555555555556,\"#d8576b\"],[0.6666666666666666,\"#ed7953\"],[0.7777777777777778,\"#fb9f3a\"],[0.8888888888888888,\"#fdca26\"],[1.0,\"#f0f921\"]],\"type\":\"histogram2d\"}],\"histogram2dcontour\":[{\"colorbar\":{\"outlinewidth\":0,\"ticks\":\"\"},\"colorscale\":[[0.0,\"#0d0887\"],[0.1111111111111111,\"#46039f\"],[0.2222222222222222,\"#7201a8\"],[0.3333333333333333,\"#9c179e\"],[0.4444444444444444,\"#bd3786\"],[0.5555555555555556,\"#d8576b\"],[0.6666666666666666,\"#ed7953\"],[0.7777777777777778,\"#fb9f3a\"],[0.8888888888888888,\"#fdca26\"],[1.0,\"#f0f921\"]],\"type\":\"histogram2dcontour\"}],\"mesh3d\":[{\"colorbar\":{\"outlinewidth\":0,\"ticks\":\"\"},\"type\":\"mesh3d\"}],\"parcoords\":[{\"line\":{\"colorbar\":{\"outlinewidth\":0,\"ticks\":\"\"}},\"type\":\"parcoords\"}],\"pie\":[{\"automargin\":true,\"type\":\"pie\"}],\"scatter\":[{\"marker\":{\"colorbar\":{\"outlinewidth\":0,\"ticks\":\"\"}},\"type\":\"scatter\"}],\"scatter3d\":[{\"line\":{\"colorbar\":{\"outlinewidth\":0,\"ticks\":\"\"}},\"marker\":{\"colorbar\":{\"outlinewidth\":0,\"ticks\":\"\"}},\"type\":\"scatter3d\"}],\"scattercarpet\":[{\"marker\":{\"colorbar\":{\"outlinewidth\":0,\"ticks\":\"\"}},\"type\":\"scattercarpet\"}],\"scattergeo\":[{\"marker\":{\"colorbar\":{\"outlinewidth\":0,\"ticks\":\"\"}},\"type\":\"scattergeo\"}],\"scattergl\":[{\"marker\":{\"colorbar\":{\"outlinewidth\":0,\"ticks\":\"\"}},\"type\":\"scattergl\"}],\"scattermapbox\":[{\"marker\":{\"colorbar\":{\"outlinewidth\":0,\"ticks\":\"\"}},\"type\":\"scattermapbox\"}],\"scatterpolar\":[{\"marker\":{\"colorbar\":{\"outlinewidth\":0,\"ticks\":\"\"}},\"type\":\"scatterpolar\"}],\"scatterpolargl\":[{\"marker\":{\"colorbar\":{\"outlinewidth\":0,\"ticks\":\"\"}},\"type\":\"scatterpolargl\"}],\"scatterternary\":[{\"marker\":{\"colorbar\":{\"outlinewidth\":0,\"ticks\":\"\"}},\"type\":\"scatterternary\"}],\"surface\":[{\"colorbar\":{\"outlinewidth\":0,\"ticks\":\"\"},\"colorscale\":[[0.0,\"#0d0887\"],[0.1111111111111111,\"#46039f\"],[0.2222222222222222,\"#7201a8\"],[0.3333333333333333,\"#9c179e\"],[0.4444444444444444,\"#bd3786\"],[0.5555555555555556,\"#d8576b\"],[0.6666666666666666,\"#ed7953\"],[0.7777777777777778,\"#fb9f3a\"],[0.8888888888888888,\"#fdca26\"],[1.0,\"#f0f921\"]],\"type\":\"surface\"}],\"table\":[{\"cells\":{\"fill\":{\"color\":\"#EBF0F8\"},\"line\":{\"color\":\"white\"}},\"header\":{\"fill\":{\"color\":\"#C8D4E3\"},\"line\":{\"color\":\"white\"}},\"type\":\"table\"}]},\"layout\":{\"annotationdefaults\":{\"arrowcolor\":\"#2a3f5f\",\"arrowhead\":0,\"arrowwidth\":1},\"autotypenumbers\":\"strict\",\"coloraxis\":{\"colorbar\":{\"outlinewidth\":0,\"ticks\":\"\"}},\"colorscale\":{\"diverging\":[[0,\"#8e0152\"],[0.1,\"#c51b7d\"],[0.2,\"#de77ae\"],[0.3,\"#f1b6da\"],[0.4,\"#fde0ef\"],[0.5,\"#f7f7f7\"],[0.6,\"#e6f5d0\"],[0.7,\"#b8e186\"],[0.8,\"#7fbc41\"],[0.9,\"#4d9221\"],[1,\"#276419\"]],\"sequential\":[[0.0,\"#0d0887\"],[0.1111111111111111,\"#46039f\"],[0.2222222222222222,\"#7201a8\"],[0.3333333333333333,\"#9c179e\"],[0.4444444444444444,\"#bd3786\"],[0.5555555555555556,\"#d8576b\"],[0.6666666666666666,\"#ed7953\"],[0.7777777777777778,\"#fb9f3a\"],[0.8888888888888888,\"#fdca26\"],[1.0,\"#f0f921\"]],\"sequentialminus\":[[0.0,\"#0d0887\"],[0.1111111111111111,\"#46039f\"],[0.2222222222222222,\"#7201a8\"],[0.3333333333333333,\"#9c179e\"],[0.4444444444444444,\"#bd3786\"],[0.5555555555555556,\"#d8576b\"],[0.6666666666666666,\"#ed7953\"],[0.7777777777777778,\"#fb9f3a\"],[0.8888888888888888,\"#fdca26\"],[1.0,\"#f0f921\"]]},\"colorway\":[\"#636efa\",\"#EF553B\",\"#00cc96\",\"#ab63fa\",\"#FFA15A\",\"#19d3f3\",\"#FF6692\",\"#B6E880\",\"#FF97FF\",\"#FECB52\"],\"font\":{\"color\":\"#2a3f5f\"},\"geo\":{\"bgcolor\":\"white\",\"lakecolor\":\"white\",\"landcolor\":\"#E5ECF6\",\"showlakes\":true,\"showland\":true,\"subunitcolor\":\"white\"},\"hoverlabel\":{\"align\":\"left\"},\"hovermode\":\"closest\",\"mapbox\":{\"style\":\"light\"},\"paper_bgcolor\":\"white\",\"plot_bgcolor\":\"#E5ECF6\",\"polar\":{\"angularaxis\":{\"gridcolor\":\"white\",\"linecolor\":\"white\",\"ticks\":\"\"},\"bgcolor\":\"#E5ECF6\",\"radialaxis\":{\"gridcolor\":\"white\",\"linecolor\":\"white\",\"ticks\":\"\"}},\"scene\":{\"xaxis\":{\"backgroundcolor\":\"#E5ECF6\",\"gridcolor\":\"white\",\"gridwidth\":2,\"linecolor\":\"white\",\"showbackground\":true,\"ticks\":\"\",\"zerolinecolor\":\"white\"},\"yaxis\":{\"backgroundcolor\":\"#E5ECF6\",\"gridcolor\":\"white\",\"gridwidth\":2,\"linecolor\":\"white\",\"showbackground\":true,\"ticks\":\"\",\"zerolinecolor\":\"white\"},\"zaxis\":{\"backgroundcolor\":\"#E5ECF6\",\"gridcolor\":\"white\",\"gridwidth\":2,\"linecolor\":\"white\",\"showbackground\":true,\"ticks\":\"\",\"zerolinecolor\":\"white\"}},\"shapedefaults\":{\"line\":{\"color\":\"#2a3f5f\"}},\"ternary\":{\"aaxis\":{\"gridcolor\":\"white\",\"linecolor\":\"white\",\"ticks\":\"\"},\"baxis\":{\"gridcolor\":\"white\",\"linecolor\":\"white\",\"ticks\":\"\"},\"bgcolor\":\"#E5ECF6\",\"caxis\":{\"gridcolor\":\"white\",\"linecolor\":\"white\",\"ticks\":\"\"}},\"title\":{\"x\":0.05},\"xaxis\":{\"automargin\":true,\"gridcolor\":\"white\",\"linecolor\":\"white\",\"ticks\":\"\",\"title\":{\"standoff\":15},\"zerolinecolor\":\"white\",\"zerolinewidth\":2},\"yaxis\":{\"automargin\":true,\"gridcolor\":\"white\",\"linecolor\":\"white\",\"ticks\":\"\",\"title\":{\"standoff\":15},\"zerolinecolor\":\"white\",\"zerolinewidth\":2}}}},                        {\"responsive\": true}                    ).then(function(){\n",
       "                            \n",
       "var gd = document.getElementById('6518fdda-8249-4f6a-80b2-74bb8db2f4d8');\n",
       "var x = new MutationObserver(function (mutations, observer) {{\n",
       "        var display = window.getComputedStyle(gd).display;\n",
       "        if (!display || display === 'none') {{\n",
       "            console.log([gd, 'removed!']);\n",
       "            Plotly.purge(gd);\n",
       "            observer.disconnect();\n",
       "        }}\n",
       "}});\n",
       "\n",
       "// Listen for the removal of the full notebook cells\n",
       "var notebookContainer = gd.closest('#notebook-container');\n",
       "if (notebookContainer) {{\n",
       "    x.observe(notebookContainer, {childList: true});\n",
       "}}\n",
       "\n",
       "// Listen for the clearing of the current output cell\n",
       "var outputEl = gd.closest('.output');\n",
       "if (outputEl) {{\n",
       "    x.observe(outputEl, {childList: true});\n",
       "}}\n",
       "\n",
       "                        })                };                });            </script>        </div>"
      ]
     },
     "metadata": {},
     "output_type": "display_data"
    }
   ],
   "source": [
    "draw_qa_bar('What animal')"
   ]
  },
  {
   "cell_type": "code",
   "execution_count": 77,
   "metadata": {},
   "outputs": [
    {
     "data": {
      "application/vnd.plotly.v1+json": {
       "config": {
        "plotlyServerURL": "https://plot.ly"
       },
       "data": [
        {
         "text": "row",
         "textposition": "auto",
         "type": "bar",
         "width": 0.1,
         "x": [
          "How are"
         ],
         "y": [
          0.45454545454545453
         ]
        },
        {
         "text": "different",
         "textposition": "auto",
         "type": "bar",
         "width": 0.1,
         "x": [
          "How are"
         ],
         "y": [
          0.2727272727272727
         ]
        },
        {
         "text": "rack",
         "textposition": "auto",
         "type": "bar",
         "width": 0.1,
         "x": [
          "How are"
         ],
         "y": [
          0.09090909090909091
         ]
        },
        {
         "text": "way",
         "textposition": "auto",
         "type": "bar",
         "width": 0.1,
         "x": [
          "How are"
         ],
         "y": [
          0.09090909090909091
         ]
        },
        {
         "text": "step",
         "textposition": "auto",
         "type": "bar",
         "width": 0.1,
         "x": [
          "How are"
         ],
         "y": [
          0.09090909090909091
         ]
        }
       ],
       "layout": {
        "barmode": "stack",
        "template": {
         "data": {
          "bar": [
           {
            "error_x": {
             "color": "#2a3f5f"
            },
            "error_y": {
             "color": "#2a3f5f"
            },
            "marker": {
             "line": {
              "color": "#E5ECF6",
              "width": 0.5
             },
             "pattern": {
              "fillmode": "overlay",
              "size": 10,
              "solidity": 0.2
             }
            },
            "type": "bar"
           }
          ],
          "barpolar": [
           {
            "marker": {
             "line": {
              "color": "#E5ECF6",
              "width": 0.5
             },
             "pattern": {
              "fillmode": "overlay",
              "size": 10,
              "solidity": 0.2
             }
            },
            "type": "barpolar"
           }
          ],
          "carpet": [
           {
            "aaxis": {
             "endlinecolor": "#2a3f5f",
             "gridcolor": "white",
             "linecolor": "white",
             "minorgridcolor": "white",
             "startlinecolor": "#2a3f5f"
            },
            "baxis": {
             "endlinecolor": "#2a3f5f",
             "gridcolor": "white",
             "linecolor": "white",
             "minorgridcolor": "white",
             "startlinecolor": "#2a3f5f"
            },
            "type": "carpet"
           }
          ],
          "choropleth": [
           {
            "colorbar": {
             "outlinewidth": 0,
             "ticks": ""
            },
            "type": "choropleth"
           }
          ],
          "contour": [
           {
            "colorbar": {
             "outlinewidth": 0,
             "ticks": ""
            },
            "colorscale": [
             [
              0,
              "#0d0887"
             ],
             [
              0.1111111111111111,
              "#46039f"
             ],
             [
              0.2222222222222222,
              "#7201a8"
             ],
             [
              0.3333333333333333,
              "#9c179e"
             ],
             [
              0.4444444444444444,
              "#bd3786"
             ],
             [
              0.5555555555555556,
              "#d8576b"
             ],
             [
              0.6666666666666666,
              "#ed7953"
             ],
             [
              0.7777777777777778,
              "#fb9f3a"
             ],
             [
              0.8888888888888888,
              "#fdca26"
             ],
             [
              1,
              "#f0f921"
             ]
            ],
            "type": "contour"
           }
          ],
          "contourcarpet": [
           {
            "colorbar": {
             "outlinewidth": 0,
             "ticks": ""
            },
            "type": "contourcarpet"
           }
          ],
          "heatmap": [
           {
            "colorbar": {
             "outlinewidth": 0,
             "ticks": ""
            },
            "colorscale": [
             [
              0,
              "#0d0887"
             ],
             [
              0.1111111111111111,
              "#46039f"
             ],
             [
              0.2222222222222222,
              "#7201a8"
             ],
             [
              0.3333333333333333,
              "#9c179e"
             ],
             [
              0.4444444444444444,
              "#bd3786"
             ],
             [
              0.5555555555555556,
              "#d8576b"
             ],
             [
              0.6666666666666666,
              "#ed7953"
             ],
             [
              0.7777777777777778,
              "#fb9f3a"
             ],
             [
              0.8888888888888888,
              "#fdca26"
             ],
             [
              1,
              "#f0f921"
             ]
            ],
            "type": "heatmap"
           }
          ],
          "heatmapgl": [
           {
            "colorbar": {
             "outlinewidth": 0,
             "ticks": ""
            },
            "colorscale": [
             [
              0,
              "#0d0887"
             ],
             [
              0.1111111111111111,
              "#46039f"
             ],
             [
              0.2222222222222222,
              "#7201a8"
             ],
             [
              0.3333333333333333,
              "#9c179e"
             ],
             [
              0.4444444444444444,
              "#bd3786"
             ],
             [
              0.5555555555555556,
              "#d8576b"
             ],
             [
              0.6666666666666666,
              "#ed7953"
             ],
             [
              0.7777777777777778,
              "#fb9f3a"
             ],
             [
              0.8888888888888888,
              "#fdca26"
             ],
             [
              1,
              "#f0f921"
             ]
            ],
            "type": "heatmapgl"
           }
          ],
          "histogram": [
           {
            "marker": {
             "pattern": {
              "fillmode": "overlay",
              "size": 10,
              "solidity": 0.2
             }
            },
            "type": "histogram"
           }
          ],
          "histogram2d": [
           {
            "colorbar": {
             "outlinewidth": 0,
             "ticks": ""
            },
            "colorscale": [
             [
              0,
              "#0d0887"
             ],
             [
              0.1111111111111111,
              "#46039f"
             ],
             [
              0.2222222222222222,
              "#7201a8"
             ],
             [
              0.3333333333333333,
              "#9c179e"
             ],
             [
              0.4444444444444444,
              "#bd3786"
             ],
             [
              0.5555555555555556,
              "#d8576b"
             ],
             [
              0.6666666666666666,
              "#ed7953"
             ],
             [
              0.7777777777777778,
              "#fb9f3a"
             ],
             [
              0.8888888888888888,
              "#fdca26"
             ],
             [
              1,
              "#f0f921"
             ]
            ],
            "type": "histogram2d"
           }
          ],
          "histogram2dcontour": [
           {
            "colorbar": {
             "outlinewidth": 0,
             "ticks": ""
            },
            "colorscale": [
             [
              0,
              "#0d0887"
             ],
             [
              0.1111111111111111,
              "#46039f"
             ],
             [
              0.2222222222222222,
              "#7201a8"
             ],
             [
              0.3333333333333333,
              "#9c179e"
             ],
             [
              0.4444444444444444,
              "#bd3786"
             ],
             [
              0.5555555555555556,
              "#d8576b"
             ],
             [
              0.6666666666666666,
              "#ed7953"
             ],
             [
              0.7777777777777778,
              "#fb9f3a"
             ],
             [
              0.8888888888888888,
              "#fdca26"
             ],
             [
              1,
              "#f0f921"
             ]
            ],
            "type": "histogram2dcontour"
           }
          ],
          "mesh3d": [
           {
            "colorbar": {
             "outlinewidth": 0,
             "ticks": ""
            },
            "type": "mesh3d"
           }
          ],
          "parcoords": [
           {
            "line": {
             "colorbar": {
              "outlinewidth": 0,
              "ticks": ""
             }
            },
            "type": "parcoords"
           }
          ],
          "pie": [
           {
            "automargin": true,
            "type": "pie"
           }
          ],
          "scatter": [
           {
            "marker": {
             "colorbar": {
              "outlinewidth": 0,
              "ticks": ""
             }
            },
            "type": "scatter"
           }
          ],
          "scatter3d": [
           {
            "line": {
             "colorbar": {
              "outlinewidth": 0,
              "ticks": ""
             }
            },
            "marker": {
             "colorbar": {
              "outlinewidth": 0,
              "ticks": ""
             }
            },
            "type": "scatter3d"
           }
          ],
          "scattercarpet": [
           {
            "marker": {
             "colorbar": {
              "outlinewidth": 0,
              "ticks": ""
             }
            },
            "type": "scattercarpet"
           }
          ],
          "scattergeo": [
           {
            "marker": {
             "colorbar": {
              "outlinewidth": 0,
              "ticks": ""
             }
            },
            "type": "scattergeo"
           }
          ],
          "scattergl": [
           {
            "marker": {
             "colorbar": {
              "outlinewidth": 0,
              "ticks": ""
             }
            },
            "type": "scattergl"
           }
          ],
          "scattermapbox": [
           {
            "marker": {
             "colorbar": {
              "outlinewidth": 0,
              "ticks": ""
             }
            },
            "type": "scattermapbox"
           }
          ],
          "scatterpolar": [
           {
            "marker": {
             "colorbar": {
              "outlinewidth": 0,
              "ticks": ""
             }
            },
            "type": "scatterpolar"
           }
          ],
          "scatterpolargl": [
           {
            "marker": {
             "colorbar": {
              "outlinewidth": 0,
              "ticks": ""
             }
            },
            "type": "scatterpolargl"
           }
          ],
          "scatterternary": [
           {
            "marker": {
             "colorbar": {
              "outlinewidth": 0,
              "ticks": ""
             }
            },
            "type": "scatterternary"
           }
          ],
          "surface": [
           {
            "colorbar": {
             "outlinewidth": 0,
             "ticks": ""
            },
            "colorscale": [
             [
              0,
              "#0d0887"
             ],
             [
              0.1111111111111111,
              "#46039f"
             ],
             [
              0.2222222222222222,
              "#7201a8"
             ],
             [
              0.3333333333333333,
              "#9c179e"
             ],
             [
              0.4444444444444444,
              "#bd3786"
             ],
             [
              0.5555555555555556,
              "#d8576b"
             ],
             [
              0.6666666666666666,
              "#ed7953"
             ],
             [
              0.7777777777777778,
              "#fb9f3a"
             ],
             [
              0.8888888888888888,
              "#fdca26"
             ],
             [
              1,
              "#f0f921"
             ]
            ],
            "type": "surface"
           }
          ],
          "table": [
           {
            "cells": {
             "fill": {
              "color": "#EBF0F8"
             },
             "line": {
              "color": "white"
             }
            },
            "header": {
             "fill": {
              "color": "#C8D4E3"
             },
             "line": {
              "color": "white"
             }
            },
            "type": "table"
           }
          ]
         },
         "layout": {
          "annotationdefaults": {
           "arrowcolor": "#2a3f5f",
           "arrowhead": 0,
           "arrowwidth": 1
          },
          "autotypenumbers": "strict",
          "coloraxis": {
           "colorbar": {
            "outlinewidth": 0,
            "ticks": ""
           }
          },
          "colorscale": {
           "diverging": [
            [
             0,
             "#8e0152"
            ],
            [
             0.1,
             "#c51b7d"
            ],
            [
             0.2,
             "#de77ae"
            ],
            [
             0.3,
             "#f1b6da"
            ],
            [
             0.4,
             "#fde0ef"
            ],
            [
             0.5,
             "#f7f7f7"
            ],
            [
             0.6,
             "#e6f5d0"
            ],
            [
             0.7,
             "#b8e186"
            ],
            [
             0.8,
             "#7fbc41"
            ],
            [
             0.9,
             "#4d9221"
            ],
            [
             1,
             "#276419"
            ]
           ],
           "sequential": [
            [
             0,
             "#0d0887"
            ],
            [
             0.1111111111111111,
             "#46039f"
            ],
            [
             0.2222222222222222,
             "#7201a8"
            ],
            [
             0.3333333333333333,
             "#9c179e"
            ],
            [
             0.4444444444444444,
             "#bd3786"
            ],
            [
             0.5555555555555556,
             "#d8576b"
            ],
            [
             0.6666666666666666,
             "#ed7953"
            ],
            [
             0.7777777777777778,
             "#fb9f3a"
            ],
            [
             0.8888888888888888,
             "#fdca26"
            ],
            [
             1,
             "#f0f921"
            ]
           ],
           "sequentialminus": [
            [
             0,
             "#0d0887"
            ],
            [
             0.1111111111111111,
             "#46039f"
            ],
            [
             0.2222222222222222,
             "#7201a8"
            ],
            [
             0.3333333333333333,
             "#9c179e"
            ],
            [
             0.4444444444444444,
             "#bd3786"
            ],
            [
             0.5555555555555556,
             "#d8576b"
            ],
            [
             0.6666666666666666,
             "#ed7953"
            ],
            [
             0.7777777777777778,
             "#fb9f3a"
            ],
            [
             0.8888888888888888,
             "#fdca26"
            ],
            [
             1,
             "#f0f921"
            ]
           ]
          },
          "colorway": [
           "#636efa",
           "#EF553B",
           "#00cc96",
           "#ab63fa",
           "#FFA15A",
           "#19d3f3",
           "#FF6692",
           "#B6E880",
           "#FF97FF",
           "#FECB52"
          ],
          "font": {
           "color": "#2a3f5f"
          },
          "geo": {
           "bgcolor": "white",
           "lakecolor": "white",
           "landcolor": "#E5ECF6",
           "showlakes": true,
           "showland": true,
           "subunitcolor": "white"
          },
          "hoverlabel": {
           "align": "left"
          },
          "hovermode": "closest",
          "mapbox": {
           "style": "light"
          },
          "paper_bgcolor": "white",
          "plot_bgcolor": "#E5ECF6",
          "polar": {
           "angularaxis": {
            "gridcolor": "white",
            "linecolor": "white",
            "ticks": ""
           },
           "bgcolor": "#E5ECF6",
           "radialaxis": {
            "gridcolor": "white",
            "linecolor": "white",
            "ticks": ""
           }
          },
          "scene": {
           "xaxis": {
            "backgroundcolor": "#E5ECF6",
            "gridcolor": "white",
            "gridwidth": 2,
            "linecolor": "white",
            "showbackground": true,
            "ticks": "",
            "zerolinecolor": "white"
           },
           "yaxis": {
            "backgroundcolor": "#E5ECF6",
            "gridcolor": "white",
            "gridwidth": 2,
            "linecolor": "white",
            "showbackground": true,
            "ticks": "",
            "zerolinecolor": "white"
           },
           "zaxis": {
            "backgroundcolor": "#E5ECF6",
            "gridcolor": "white",
            "gridwidth": 2,
            "linecolor": "white",
            "showbackground": true,
            "ticks": "",
            "zerolinecolor": "white"
           }
          },
          "shapedefaults": {
           "line": {
            "color": "#2a3f5f"
           }
          },
          "ternary": {
           "aaxis": {
            "gridcolor": "white",
            "linecolor": "white",
            "ticks": ""
           },
           "baxis": {
            "gridcolor": "white",
            "linecolor": "white",
            "ticks": ""
           },
           "bgcolor": "#E5ECF6",
           "caxis": {
            "gridcolor": "white",
            "linecolor": "white",
            "ticks": ""
           }
          },
          "title": {
           "x": 0.05
          },
          "xaxis": {
           "automargin": true,
           "gridcolor": "white",
           "linecolor": "white",
           "ticks": "",
           "title": {
            "standoff": 15
           },
           "zerolinecolor": "white",
           "zerolinewidth": 2
          },
          "yaxis": {
           "automargin": true,
           "gridcolor": "white",
           "linecolor": "white",
           "ticks": "",
           "title": {
            "standoff": 15
           },
           "zerolinecolor": "white",
           "zerolinewidth": 2
          }
         }
        }
       }
      },
      "text/html": [
       "<div>                            <div id=\"07febea2-2718-4a3e-80d3-b1ff2374a57d\" class=\"plotly-graph-div\" style=\"height:525px; width:100%;\"></div>            <script type=\"text/javascript\">                require([\"plotly\"], function(Plotly) {                    window.PLOTLYENV=window.PLOTLYENV || {};                                    if (document.getElementById(\"07febea2-2718-4a3e-80d3-b1ff2374a57d\")) {                    Plotly.newPlot(                        \"07febea2-2718-4a3e-80d3-b1ff2374a57d\",                        [{\"text\":\"row\",\"textposition\":\"auto\",\"type\":\"bar\",\"width\":0.1,\"x\":[\"How are\"],\"y\":[0.45454545454545453]},{\"text\":\"different\",\"textposition\":\"auto\",\"type\":\"bar\",\"width\":0.1,\"x\":[\"How are\"],\"y\":[0.2727272727272727]},{\"text\":\"rack\",\"textposition\":\"auto\",\"type\":\"bar\",\"width\":0.1,\"x\":[\"How are\"],\"y\":[0.09090909090909091]},{\"text\":\"way\",\"textposition\":\"auto\",\"type\":\"bar\",\"width\":0.1,\"x\":[\"How are\"],\"y\":[0.09090909090909091]},{\"text\":\"step\",\"textposition\":\"auto\",\"type\":\"bar\",\"width\":0.1,\"x\":[\"How are\"],\"y\":[0.09090909090909091]}],                        {\"barmode\":\"stack\",\"template\":{\"data\":{\"bar\":[{\"error_x\":{\"color\":\"#2a3f5f\"},\"error_y\":{\"color\":\"#2a3f5f\"},\"marker\":{\"line\":{\"color\":\"#E5ECF6\",\"width\":0.5},\"pattern\":{\"fillmode\":\"overlay\",\"size\":10,\"solidity\":0.2}},\"type\":\"bar\"}],\"barpolar\":[{\"marker\":{\"line\":{\"color\":\"#E5ECF6\",\"width\":0.5},\"pattern\":{\"fillmode\":\"overlay\",\"size\":10,\"solidity\":0.2}},\"type\":\"barpolar\"}],\"carpet\":[{\"aaxis\":{\"endlinecolor\":\"#2a3f5f\",\"gridcolor\":\"white\",\"linecolor\":\"white\",\"minorgridcolor\":\"white\",\"startlinecolor\":\"#2a3f5f\"},\"baxis\":{\"endlinecolor\":\"#2a3f5f\",\"gridcolor\":\"white\",\"linecolor\":\"white\",\"minorgridcolor\":\"white\",\"startlinecolor\":\"#2a3f5f\"},\"type\":\"carpet\"}],\"choropleth\":[{\"colorbar\":{\"outlinewidth\":0,\"ticks\":\"\"},\"type\":\"choropleth\"}],\"contour\":[{\"colorbar\":{\"outlinewidth\":0,\"ticks\":\"\"},\"colorscale\":[[0.0,\"#0d0887\"],[0.1111111111111111,\"#46039f\"],[0.2222222222222222,\"#7201a8\"],[0.3333333333333333,\"#9c179e\"],[0.4444444444444444,\"#bd3786\"],[0.5555555555555556,\"#d8576b\"],[0.6666666666666666,\"#ed7953\"],[0.7777777777777778,\"#fb9f3a\"],[0.8888888888888888,\"#fdca26\"],[1.0,\"#f0f921\"]],\"type\":\"contour\"}],\"contourcarpet\":[{\"colorbar\":{\"outlinewidth\":0,\"ticks\":\"\"},\"type\":\"contourcarpet\"}],\"heatmap\":[{\"colorbar\":{\"outlinewidth\":0,\"ticks\":\"\"},\"colorscale\":[[0.0,\"#0d0887\"],[0.1111111111111111,\"#46039f\"],[0.2222222222222222,\"#7201a8\"],[0.3333333333333333,\"#9c179e\"],[0.4444444444444444,\"#bd3786\"],[0.5555555555555556,\"#d8576b\"],[0.6666666666666666,\"#ed7953\"],[0.7777777777777778,\"#fb9f3a\"],[0.8888888888888888,\"#fdca26\"],[1.0,\"#f0f921\"]],\"type\":\"heatmap\"}],\"heatmapgl\":[{\"colorbar\":{\"outlinewidth\":0,\"ticks\":\"\"},\"colorscale\":[[0.0,\"#0d0887\"],[0.1111111111111111,\"#46039f\"],[0.2222222222222222,\"#7201a8\"],[0.3333333333333333,\"#9c179e\"],[0.4444444444444444,\"#bd3786\"],[0.5555555555555556,\"#d8576b\"],[0.6666666666666666,\"#ed7953\"],[0.7777777777777778,\"#fb9f3a\"],[0.8888888888888888,\"#fdca26\"],[1.0,\"#f0f921\"]],\"type\":\"heatmapgl\"}],\"histogram\":[{\"marker\":{\"pattern\":{\"fillmode\":\"overlay\",\"size\":10,\"solidity\":0.2}},\"type\":\"histogram\"}],\"histogram2d\":[{\"colorbar\":{\"outlinewidth\":0,\"ticks\":\"\"},\"colorscale\":[[0.0,\"#0d0887\"],[0.1111111111111111,\"#46039f\"],[0.2222222222222222,\"#7201a8\"],[0.3333333333333333,\"#9c179e\"],[0.4444444444444444,\"#bd3786\"],[0.5555555555555556,\"#d8576b\"],[0.6666666666666666,\"#ed7953\"],[0.7777777777777778,\"#fb9f3a\"],[0.8888888888888888,\"#fdca26\"],[1.0,\"#f0f921\"]],\"type\":\"histogram2d\"}],\"histogram2dcontour\":[{\"colorbar\":{\"outlinewidth\":0,\"ticks\":\"\"},\"colorscale\":[[0.0,\"#0d0887\"],[0.1111111111111111,\"#46039f\"],[0.2222222222222222,\"#7201a8\"],[0.3333333333333333,\"#9c179e\"],[0.4444444444444444,\"#bd3786\"],[0.5555555555555556,\"#d8576b\"],[0.6666666666666666,\"#ed7953\"],[0.7777777777777778,\"#fb9f3a\"],[0.8888888888888888,\"#fdca26\"],[1.0,\"#f0f921\"]],\"type\":\"histogram2dcontour\"}],\"mesh3d\":[{\"colorbar\":{\"outlinewidth\":0,\"ticks\":\"\"},\"type\":\"mesh3d\"}],\"parcoords\":[{\"line\":{\"colorbar\":{\"outlinewidth\":0,\"ticks\":\"\"}},\"type\":\"parcoords\"}],\"pie\":[{\"automargin\":true,\"type\":\"pie\"}],\"scatter\":[{\"marker\":{\"colorbar\":{\"outlinewidth\":0,\"ticks\":\"\"}},\"type\":\"scatter\"}],\"scatter3d\":[{\"line\":{\"colorbar\":{\"outlinewidth\":0,\"ticks\":\"\"}},\"marker\":{\"colorbar\":{\"outlinewidth\":0,\"ticks\":\"\"}},\"type\":\"scatter3d\"}],\"scattercarpet\":[{\"marker\":{\"colorbar\":{\"outlinewidth\":0,\"ticks\":\"\"}},\"type\":\"scattercarpet\"}],\"scattergeo\":[{\"marker\":{\"colorbar\":{\"outlinewidth\":0,\"ticks\":\"\"}},\"type\":\"scattergeo\"}],\"scattergl\":[{\"marker\":{\"colorbar\":{\"outlinewidth\":0,\"ticks\":\"\"}},\"type\":\"scattergl\"}],\"scattermapbox\":[{\"marker\":{\"colorbar\":{\"outlinewidth\":0,\"ticks\":\"\"}},\"type\":\"scattermapbox\"}],\"scatterpolar\":[{\"marker\":{\"colorbar\":{\"outlinewidth\":0,\"ticks\":\"\"}},\"type\":\"scatterpolar\"}],\"scatterpolargl\":[{\"marker\":{\"colorbar\":{\"outlinewidth\":0,\"ticks\":\"\"}},\"type\":\"scatterpolargl\"}],\"scatterternary\":[{\"marker\":{\"colorbar\":{\"outlinewidth\":0,\"ticks\":\"\"}},\"type\":\"scatterternary\"}],\"surface\":[{\"colorbar\":{\"outlinewidth\":0,\"ticks\":\"\"},\"colorscale\":[[0.0,\"#0d0887\"],[0.1111111111111111,\"#46039f\"],[0.2222222222222222,\"#7201a8\"],[0.3333333333333333,\"#9c179e\"],[0.4444444444444444,\"#bd3786\"],[0.5555555555555556,\"#d8576b\"],[0.6666666666666666,\"#ed7953\"],[0.7777777777777778,\"#fb9f3a\"],[0.8888888888888888,\"#fdca26\"],[1.0,\"#f0f921\"]],\"type\":\"surface\"}],\"table\":[{\"cells\":{\"fill\":{\"color\":\"#EBF0F8\"},\"line\":{\"color\":\"white\"}},\"header\":{\"fill\":{\"color\":\"#C8D4E3\"},\"line\":{\"color\":\"white\"}},\"type\":\"table\"}]},\"layout\":{\"annotationdefaults\":{\"arrowcolor\":\"#2a3f5f\",\"arrowhead\":0,\"arrowwidth\":1},\"autotypenumbers\":\"strict\",\"coloraxis\":{\"colorbar\":{\"outlinewidth\":0,\"ticks\":\"\"}},\"colorscale\":{\"diverging\":[[0,\"#8e0152\"],[0.1,\"#c51b7d\"],[0.2,\"#de77ae\"],[0.3,\"#f1b6da\"],[0.4,\"#fde0ef\"],[0.5,\"#f7f7f7\"],[0.6,\"#e6f5d0\"],[0.7,\"#b8e186\"],[0.8,\"#7fbc41\"],[0.9,\"#4d9221\"],[1,\"#276419\"]],\"sequential\":[[0.0,\"#0d0887\"],[0.1111111111111111,\"#46039f\"],[0.2222222222222222,\"#7201a8\"],[0.3333333333333333,\"#9c179e\"],[0.4444444444444444,\"#bd3786\"],[0.5555555555555556,\"#d8576b\"],[0.6666666666666666,\"#ed7953\"],[0.7777777777777778,\"#fb9f3a\"],[0.8888888888888888,\"#fdca26\"],[1.0,\"#f0f921\"]],\"sequentialminus\":[[0.0,\"#0d0887\"],[0.1111111111111111,\"#46039f\"],[0.2222222222222222,\"#7201a8\"],[0.3333333333333333,\"#9c179e\"],[0.4444444444444444,\"#bd3786\"],[0.5555555555555556,\"#d8576b\"],[0.6666666666666666,\"#ed7953\"],[0.7777777777777778,\"#fb9f3a\"],[0.8888888888888888,\"#fdca26\"],[1.0,\"#f0f921\"]]},\"colorway\":[\"#636efa\",\"#EF553B\",\"#00cc96\",\"#ab63fa\",\"#FFA15A\",\"#19d3f3\",\"#FF6692\",\"#B6E880\",\"#FF97FF\",\"#FECB52\"],\"font\":{\"color\":\"#2a3f5f\"},\"geo\":{\"bgcolor\":\"white\",\"lakecolor\":\"white\",\"landcolor\":\"#E5ECF6\",\"showlakes\":true,\"showland\":true,\"subunitcolor\":\"white\"},\"hoverlabel\":{\"align\":\"left\"},\"hovermode\":\"closest\",\"mapbox\":{\"style\":\"light\"},\"paper_bgcolor\":\"white\",\"plot_bgcolor\":\"#E5ECF6\",\"polar\":{\"angularaxis\":{\"gridcolor\":\"white\",\"linecolor\":\"white\",\"ticks\":\"\"},\"bgcolor\":\"#E5ECF6\",\"radialaxis\":{\"gridcolor\":\"white\",\"linecolor\":\"white\",\"ticks\":\"\"}},\"scene\":{\"xaxis\":{\"backgroundcolor\":\"#E5ECF6\",\"gridcolor\":\"white\",\"gridwidth\":2,\"linecolor\":\"white\",\"showbackground\":true,\"ticks\":\"\",\"zerolinecolor\":\"white\"},\"yaxis\":{\"backgroundcolor\":\"#E5ECF6\",\"gridcolor\":\"white\",\"gridwidth\":2,\"linecolor\":\"white\",\"showbackground\":true,\"ticks\":\"\",\"zerolinecolor\":\"white\"},\"zaxis\":{\"backgroundcolor\":\"#E5ECF6\",\"gridcolor\":\"white\",\"gridwidth\":2,\"linecolor\":\"white\",\"showbackground\":true,\"ticks\":\"\",\"zerolinecolor\":\"white\"}},\"shapedefaults\":{\"line\":{\"color\":\"#2a3f5f\"}},\"ternary\":{\"aaxis\":{\"gridcolor\":\"white\",\"linecolor\":\"white\",\"ticks\":\"\"},\"baxis\":{\"gridcolor\":\"white\",\"linecolor\":\"white\",\"ticks\":\"\"},\"bgcolor\":\"#E5ECF6\",\"caxis\":{\"gridcolor\":\"white\",\"linecolor\":\"white\",\"ticks\":\"\"}},\"title\":{\"x\":0.05},\"xaxis\":{\"automargin\":true,\"gridcolor\":\"white\",\"linecolor\":\"white\",\"ticks\":\"\",\"title\":{\"standoff\":15},\"zerolinecolor\":\"white\",\"zerolinewidth\":2},\"yaxis\":{\"automargin\":true,\"gridcolor\":\"white\",\"linecolor\":\"white\",\"ticks\":\"\",\"title\":{\"standoff\":15},\"zerolinecolor\":\"white\",\"zerolinewidth\":2}}}},                        {\"responsive\": true}                    ).then(function(){\n",
       "                            \n",
       "var gd = document.getElementById('07febea2-2718-4a3e-80d3-b1ff2374a57d');\n",
       "var x = new MutationObserver(function (mutations, observer) {{\n",
       "        var display = window.getComputedStyle(gd).display;\n",
       "        if (!display || display === 'none') {{\n",
       "            console.log([gd, 'removed!']);\n",
       "            Plotly.purge(gd);\n",
       "            observer.disconnect();\n",
       "        }}\n",
       "}});\n",
       "\n",
       "// Listen for the removal of the full notebook cells\n",
       "var notebookContainer = gd.closest('#notebook-container');\n",
       "if (notebookContainer) {{\n",
       "    x.observe(notebookContainer, {childList: true});\n",
       "}}\n",
       "\n",
       "// Listen for the clearing of the current output cell\n",
       "var outputEl = gd.closest('.output');\n",
       "if (outputEl) {{\n",
       "    x.observe(outputEl, {childList: true});\n",
       "}}\n",
       "\n",
       "                        })                };                });            </script>        </div>"
      ]
     },
     "metadata": {},
     "output_type": "display_data"
    }
   ],
   "source": [
    "draw_qa_bar('How are')"
   ]
  },
  {
   "cell_type": "code",
   "execution_count": 84,
   "metadata": {},
   "outputs": [
    {
     "data": {
      "application/vnd.plotly.v1+json": {
       "config": {
        "plotlyServerURL": "https://plot.ly"
       },
       "data": [
        {
         "text": "right",
         "textposition": "auto",
         "type": "bar",
         "width": 0.1,
         "x": [
          "On which"
         ],
         "y": [
          0.9252753795772551
         ]
        },
        {
         "text": "hand",
         "textposition": "auto",
         "type": "bar",
         "width": 0.1,
         "x": [
          "On which"
         ],
         "y": [
          0.027984519202143496
         ]
        },
        {
         "text": "front",
         "textposition": "auto",
         "type": "bar",
         "width": 0.1,
         "x": [
          "On which"
         ],
         "y": [
          0.01220601369455195
         ]
        },
        {
         "text": "side",
         "textposition": "auto",
         "type": "bar",
         "width": 0.1,
         "x": [
          "On which"
         ],
         "y": [
          0.006251860672819291
         ]
        },
        {
         "text": "left",
         "textposition": "auto",
         "type": "bar",
         "width": 0.1,
         "x": [
          "On which"
         ],
         "y": [
          0.005358737719559393
         ]
        },
        {
         "text": "back",
         "textposition": "auto",
         "type": "bar",
         "width": 0.1,
         "x": [
          "On which"
         ],
         "y": [
          0.003870199464126228
         ]
        },
        {
         "text": "road",
         "textposition": "auto",
         "type": "bar",
         "width": 0.1,
         "x": [
          "On which"
         ],
         "y": [
          0.0026793688597796963
         ]
        },
        {
         "text": "corner",
         "textposition": "auto",
         "type": "bar",
         "width": 0.1,
         "x": [
          "On which"
         ],
         "y": [
          0.0020839535576064306
         ]
        },
        {
         "text": "opposite",
         "textposition": "auto",
         "type": "bar",
         "width": 0.1,
         "x": [
          "On which"
         ],
         "y": [
          0.0020839535576064306
         ]
        },
        {
         "text": "leave",
         "textposition": "auto",
         "type": "bar",
         "width": 0.1,
         "x": [
          "On which"
         ],
         "y": [
          0.0014885382554331646
         ]
        },
        {
         "text": "table",
         "textposition": "auto",
         "type": "bar",
         "width": 0.1,
         "x": [
          "On which"
         ],
         "y": [
          0.0011908306043465317
         ]
        },
        {
         "text": "dining table",
         "textposition": "auto",
         "type": "bar",
         "width": 0.1,
         "x": [
          "On which"
         ],
         "y": [
          0.0008931229532598987
         ]
        },
        {
         "text": "bed",
         "textposition": "auto",
         "type": "bar",
         "width": 0.1,
         "x": [
          "On which"
         ],
         "y": [
          0.0008931229532598987
         ]
        },
        {
         "text": "mountain",
         "textposition": "auto",
         "type": "bar",
         "width": 0.1,
         "x": [
          "On which"
         ],
         "y": [
          0.0005954153021732659
         ]
        },
        {
         "text": "pillar",
         "textposition": "auto",
         "type": "bar",
         "width": 0.1,
         "x": [
          "On which"
         ],
         "y": [
          0.0005954153021732659
         ]
        },
        {
         "text": "ground",
         "textposition": "auto",
         "type": "bar",
         "width": 0.1,
         "x": [
          "On which"
         ],
         "y": [
          0.0005954153021732659
         ]
        },
        {
         "text": "wall",
         "textposition": "auto",
         "type": "bar",
         "width": 0.1,
         "x": [
          "On which"
         ],
         "y": [
          0.0005954153021732659
         ]
        },
        {
         "text": "roof",
         "textposition": "auto",
         "type": "bar",
         "width": 0.1,
         "x": [
          "On which"
         ],
         "y": [
          0.00029770765108663293
         ]
        },
        {
         "text": "car",
         "textposition": "auto",
         "type": "bar",
         "width": 0.1,
         "x": [
          "On which"
         ],
         "y": [
          0.00029770765108663293
         ]
        },
        {
         "text": "railway track",
         "textposition": "auto",
         "type": "bar",
         "width": 0.1,
         "x": [
          "On which"
         ],
         "y": [
          0.00029770765108663293
         ]
        },
        {
         "text": "desk",
         "textposition": "auto",
         "type": "bar",
         "width": 0.1,
         "x": [
          "On which"
         ],
         "y": [
          0.00029770765108663293
         ]
        },
        {
         "text": "cup",
         "textposition": "auto",
         "type": "bar",
         "width": 0.1,
         "x": [
          "On which"
         ],
         "y": [
          0.00029770765108663293
         ]
        },
        {
         "text": "stair",
         "textposition": "auto",
         "type": "bar",
         "width": 0.1,
         "x": [
          "On which"
         ],
         "y": [
          0.00029770765108663293
         ]
        },
        {
         "text": "countertop",
         "textposition": "auto",
         "type": "bar",
         "width": 0.1,
         "x": [
          "On which"
         ],
         "y": [
          0.00029770765108663293
         ]
        },
        {
         "text": "frame",
         "textposition": "auto",
         "type": "bar",
         "width": 0.1,
         "x": [
          "On which"
         ],
         "y": [
          0.00029770765108663293
         ]
        },
        {
         "text": "chair",
         "textposition": "auto",
         "type": "bar",
         "width": 0.1,
         "x": [
          "On which"
         ],
         "y": [
          0.00029770765108663293
         ]
        },
        {
         "text": "window",
         "textposition": "auto",
         "type": "bar",
         "width": 0.1,
         "x": [
          "On which"
         ],
         "y": [
          0.00029770765108663293
         ]
        },
        {
         "text": "washbasin",
         "textposition": "auto",
         "type": "bar",
         "width": 0.1,
         "x": [
          "On which"
         ],
         "y": [
          0.00029770765108663293
         ]
        },
        {
         "text": "street",
         "textposition": "auto",
         "type": "bar",
         "width": 0.1,
         "x": [
          "On which"
         ],
         "y": [
          0.00029770765108663293
         ]
        },
        {
         "text": "elevator",
         "textposition": "auto",
         "type": "bar",
         "width": 0.1,
         "x": [
          "On which"
         ],
         "y": [
          0.00029770765108663293
         ]
        },
        {
         "text": "vase",
         "textposition": "auto",
         "type": "bar",
         "width": 0.1,
         "x": [
          "On which"
         ],
         "y": [
          0.00029770765108663293
         ]
        },
        {
         "text": "way",
         "textposition": "auto",
         "type": "bar",
         "width": 0.1,
         "x": [
          "On which"
         ],
         "y": [
          0.00029770765108663293
         ]
        },
        {
         "text": "stand",
         "textposition": "auto",
         "type": "bar",
         "width": 0.1,
         "x": [
          "On which"
         ],
         "y": [
          0.00029770765108663293
         ]
        },
        {
         "text": "stool",
         "textposition": "auto",
         "type": "bar",
         "width": 0.1,
         "x": [
          "On which"
         ],
         "y": [
          0.00029770765108663293
         ]
        },
        {
         "text": "middle",
         "textposition": "auto",
         "type": "bar",
         "width": 0.1,
         "x": [
          "On which"
         ],
         "y": [
          0.00029770765108663293
         ]
        }
       ],
       "layout": {
        "barmode": "stack",
        "template": {
         "data": {
          "bar": [
           {
            "error_x": {
             "color": "#2a3f5f"
            },
            "error_y": {
             "color": "#2a3f5f"
            },
            "marker": {
             "line": {
              "color": "#E5ECF6",
              "width": 0.5
             },
             "pattern": {
              "fillmode": "overlay",
              "size": 10,
              "solidity": 0.2
             }
            },
            "type": "bar"
           }
          ],
          "barpolar": [
           {
            "marker": {
             "line": {
              "color": "#E5ECF6",
              "width": 0.5
             },
             "pattern": {
              "fillmode": "overlay",
              "size": 10,
              "solidity": 0.2
             }
            },
            "type": "barpolar"
           }
          ],
          "carpet": [
           {
            "aaxis": {
             "endlinecolor": "#2a3f5f",
             "gridcolor": "white",
             "linecolor": "white",
             "minorgridcolor": "white",
             "startlinecolor": "#2a3f5f"
            },
            "baxis": {
             "endlinecolor": "#2a3f5f",
             "gridcolor": "white",
             "linecolor": "white",
             "minorgridcolor": "white",
             "startlinecolor": "#2a3f5f"
            },
            "type": "carpet"
           }
          ],
          "choropleth": [
           {
            "colorbar": {
             "outlinewidth": 0,
             "ticks": ""
            },
            "type": "choropleth"
           }
          ],
          "contour": [
           {
            "colorbar": {
             "outlinewidth": 0,
             "ticks": ""
            },
            "colorscale": [
             [
              0,
              "#0d0887"
             ],
             [
              0.1111111111111111,
              "#46039f"
             ],
             [
              0.2222222222222222,
              "#7201a8"
             ],
             [
              0.3333333333333333,
              "#9c179e"
             ],
             [
              0.4444444444444444,
              "#bd3786"
             ],
             [
              0.5555555555555556,
              "#d8576b"
             ],
             [
              0.6666666666666666,
              "#ed7953"
             ],
             [
              0.7777777777777778,
              "#fb9f3a"
             ],
             [
              0.8888888888888888,
              "#fdca26"
             ],
             [
              1,
              "#f0f921"
             ]
            ],
            "type": "contour"
           }
          ],
          "contourcarpet": [
           {
            "colorbar": {
             "outlinewidth": 0,
             "ticks": ""
            },
            "type": "contourcarpet"
           }
          ],
          "heatmap": [
           {
            "colorbar": {
             "outlinewidth": 0,
             "ticks": ""
            },
            "colorscale": [
             [
              0,
              "#0d0887"
             ],
             [
              0.1111111111111111,
              "#46039f"
             ],
             [
              0.2222222222222222,
              "#7201a8"
             ],
             [
              0.3333333333333333,
              "#9c179e"
             ],
             [
              0.4444444444444444,
              "#bd3786"
             ],
             [
              0.5555555555555556,
              "#d8576b"
             ],
             [
              0.6666666666666666,
              "#ed7953"
             ],
             [
              0.7777777777777778,
              "#fb9f3a"
             ],
             [
              0.8888888888888888,
              "#fdca26"
             ],
             [
              1,
              "#f0f921"
             ]
            ],
            "type": "heatmap"
           }
          ],
          "heatmapgl": [
           {
            "colorbar": {
             "outlinewidth": 0,
             "ticks": ""
            },
            "colorscale": [
             [
              0,
              "#0d0887"
             ],
             [
              0.1111111111111111,
              "#46039f"
             ],
             [
              0.2222222222222222,
              "#7201a8"
             ],
             [
              0.3333333333333333,
              "#9c179e"
             ],
             [
              0.4444444444444444,
              "#bd3786"
             ],
             [
              0.5555555555555556,
              "#d8576b"
             ],
             [
              0.6666666666666666,
              "#ed7953"
             ],
             [
              0.7777777777777778,
              "#fb9f3a"
             ],
             [
              0.8888888888888888,
              "#fdca26"
             ],
             [
              1,
              "#f0f921"
             ]
            ],
            "type": "heatmapgl"
           }
          ],
          "histogram": [
           {
            "marker": {
             "pattern": {
              "fillmode": "overlay",
              "size": 10,
              "solidity": 0.2
             }
            },
            "type": "histogram"
           }
          ],
          "histogram2d": [
           {
            "colorbar": {
             "outlinewidth": 0,
             "ticks": ""
            },
            "colorscale": [
             [
              0,
              "#0d0887"
             ],
             [
              0.1111111111111111,
              "#46039f"
             ],
             [
              0.2222222222222222,
              "#7201a8"
             ],
             [
              0.3333333333333333,
              "#9c179e"
             ],
             [
              0.4444444444444444,
              "#bd3786"
             ],
             [
              0.5555555555555556,
              "#d8576b"
             ],
             [
              0.6666666666666666,
              "#ed7953"
             ],
             [
              0.7777777777777778,
              "#fb9f3a"
             ],
             [
              0.8888888888888888,
              "#fdca26"
             ],
             [
              1,
              "#f0f921"
             ]
            ],
            "type": "histogram2d"
           }
          ],
          "histogram2dcontour": [
           {
            "colorbar": {
             "outlinewidth": 0,
             "ticks": ""
            },
            "colorscale": [
             [
              0,
              "#0d0887"
             ],
             [
              0.1111111111111111,
              "#46039f"
             ],
             [
              0.2222222222222222,
              "#7201a8"
             ],
             [
              0.3333333333333333,
              "#9c179e"
             ],
             [
              0.4444444444444444,
              "#bd3786"
             ],
             [
              0.5555555555555556,
              "#d8576b"
             ],
             [
              0.6666666666666666,
              "#ed7953"
             ],
             [
              0.7777777777777778,
              "#fb9f3a"
             ],
             [
              0.8888888888888888,
              "#fdca26"
             ],
             [
              1,
              "#f0f921"
             ]
            ],
            "type": "histogram2dcontour"
           }
          ],
          "mesh3d": [
           {
            "colorbar": {
             "outlinewidth": 0,
             "ticks": ""
            },
            "type": "mesh3d"
           }
          ],
          "parcoords": [
           {
            "line": {
             "colorbar": {
              "outlinewidth": 0,
              "ticks": ""
             }
            },
            "type": "parcoords"
           }
          ],
          "pie": [
           {
            "automargin": true,
            "type": "pie"
           }
          ],
          "scatter": [
           {
            "marker": {
             "colorbar": {
              "outlinewidth": 0,
              "ticks": ""
             }
            },
            "type": "scatter"
           }
          ],
          "scatter3d": [
           {
            "line": {
             "colorbar": {
              "outlinewidth": 0,
              "ticks": ""
             }
            },
            "marker": {
             "colorbar": {
              "outlinewidth": 0,
              "ticks": ""
             }
            },
            "type": "scatter3d"
           }
          ],
          "scattercarpet": [
           {
            "marker": {
             "colorbar": {
              "outlinewidth": 0,
              "ticks": ""
             }
            },
            "type": "scattercarpet"
           }
          ],
          "scattergeo": [
           {
            "marker": {
             "colorbar": {
              "outlinewidth": 0,
              "ticks": ""
             }
            },
            "type": "scattergeo"
           }
          ],
          "scattergl": [
           {
            "marker": {
             "colorbar": {
              "outlinewidth": 0,
              "ticks": ""
             }
            },
            "type": "scattergl"
           }
          ],
          "scattermapbox": [
           {
            "marker": {
             "colorbar": {
              "outlinewidth": 0,
              "ticks": ""
             }
            },
            "type": "scattermapbox"
           }
          ],
          "scatterpolar": [
           {
            "marker": {
             "colorbar": {
              "outlinewidth": 0,
              "ticks": ""
             }
            },
            "type": "scatterpolar"
           }
          ],
          "scatterpolargl": [
           {
            "marker": {
             "colorbar": {
              "outlinewidth": 0,
              "ticks": ""
             }
            },
            "type": "scatterpolargl"
           }
          ],
          "scatterternary": [
           {
            "marker": {
             "colorbar": {
              "outlinewidth": 0,
              "ticks": ""
             }
            },
            "type": "scatterternary"
           }
          ],
          "surface": [
           {
            "colorbar": {
             "outlinewidth": 0,
             "ticks": ""
            },
            "colorscale": [
             [
              0,
              "#0d0887"
             ],
             [
              0.1111111111111111,
              "#46039f"
             ],
             [
              0.2222222222222222,
              "#7201a8"
             ],
             [
              0.3333333333333333,
              "#9c179e"
             ],
             [
              0.4444444444444444,
              "#bd3786"
             ],
             [
              0.5555555555555556,
              "#d8576b"
             ],
             [
              0.6666666666666666,
              "#ed7953"
             ],
             [
              0.7777777777777778,
              "#fb9f3a"
             ],
             [
              0.8888888888888888,
              "#fdca26"
             ],
             [
              1,
              "#f0f921"
             ]
            ],
            "type": "surface"
           }
          ],
          "table": [
           {
            "cells": {
             "fill": {
              "color": "#EBF0F8"
             },
             "line": {
              "color": "white"
             }
            },
            "header": {
             "fill": {
              "color": "#C8D4E3"
             },
             "line": {
              "color": "white"
             }
            },
            "type": "table"
           }
          ]
         },
         "layout": {
          "annotationdefaults": {
           "arrowcolor": "#2a3f5f",
           "arrowhead": 0,
           "arrowwidth": 1
          },
          "autotypenumbers": "strict",
          "coloraxis": {
           "colorbar": {
            "outlinewidth": 0,
            "ticks": ""
           }
          },
          "colorscale": {
           "diverging": [
            [
             0,
             "#8e0152"
            ],
            [
             0.1,
             "#c51b7d"
            ],
            [
             0.2,
             "#de77ae"
            ],
            [
             0.3,
             "#f1b6da"
            ],
            [
             0.4,
             "#fde0ef"
            ],
            [
             0.5,
             "#f7f7f7"
            ],
            [
             0.6,
             "#e6f5d0"
            ],
            [
             0.7,
             "#b8e186"
            ],
            [
             0.8,
             "#7fbc41"
            ],
            [
             0.9,
             "#4d9221"
            ],
            [
             1,
             "#276419"
            ]
           ],
           "sequential": [
            [
             0,
             "#0d0887"
            ],
            [
             0.1111111111111111,
             "#46039f"
            ],
            [
             0.2222222222222222,
             "#7201a8"
            ],
            [
             0.3333333333333333,
             "#9c179e"
            ],
            [
             0.4444444444444444,
             "#bd3786"
            ],
            [
             0.5555555555555556,
             "#d8576b"
            ],
            [
             0.6666666666666666,
             "#ed7953"
            ],
            [
             0.7777777777777778,
             "#fb9f3a"
            ],
            [
             0.8888888888888888,
             "#fdca26"
            ],
            [
             1,
             "#f0f921"
            ]
           ],
           "sequentialminus": [
            [
             0,
             "#0d0887"
            ],
            [
             0.1111111111111111,
             "#46039f"
            ],
            [
             0.2222222222222222,
             "#7201a8"
            ],
            [
             0.3333333333333333,
             "#9c179e"
            ],
            [
             0.4444444444444444,
             "#bd3786"
            ],
            [
             0.5555555555555556,
             "#d8576b"
            ],
            [
             0.6666666666666666,
             "#ed7953"
            ],
            [
             0.7777777777777778,
             "#fb9f3a"
            ],
            [
             0.8888888888888888,
             "#fdca26"
            ],
            [
             1,
             "#f0f921"
            ]
           ]
          },
          "colorway": [
           "#636efa",
           "#EF553B",
           "#00cc96",
           "#ab63fa",
           "#FFA15A",
           "#19d3f3",
           "#FF6692",
           "#B6E880",
           "#FF97FF",
           "#FECB52"
          ],
          "font": {
           "color": "#2a3f5f"
          },
          "geo": {
           "bgcolor": "white",
           "lakecolor": "white",
           "landcolor": "#E5ECF6",
           "showlakes": true,
           "showland": true,
           "subunitcolor": "white"
          },
          "hoverlabel": {
           "align": "left"
          },
          "hovermode": "closest",
          "mapbox": {
           "style": "light"
          },
          "paper_bgcolor": "white",
          "plot_bgcolor": "#E5ECF6",
          "polar": {
           "angularaxis": {
            "gridcolor": "white",
            "linecolor": "white",
            "ticks": ""
           },
           "bgcolor": "#E5ECF6",
           "radialaxis": {
            "gridcolor": "white",
            "linecolor": "white",
            "ticks": ""
           }
          },
          "scene": {
           "xaxis": {
            "backgroundcolor": "#E5ECF6",
            "gridcolor": "white",
            "gridwidth": 2,
            "linecolor": "white",
            "showbackground": true,
            "ticks": "",
            "zerolinecolor": "white"
           },
           "yaxis": {
            "backgroundcolor": "#E5ECF6",
            "gridcolor": "white",
            "gridwidth": 2,
            "linecolor": "white",
            "showbackground": true,
            "ticks": "",
            "zerolinecolor": "white"
           },
           "zaxis": {
            "backgroundcolor": "#E5ECF6",
            "gridcolor": "white",
            "gridwidth": 2,
            "linecolor": "white",
            "showbackground": true,
            "ticks": "",
            "zerolinecolor": "white"
           }
          },
          "shapedefaults": {
           "line": {
            "color": "#2a3f5f"
           }
          },
          "ternary": {
           "aaxis": {
            "gridcolor": "white",
            "linecolor": "white",
            "ticks": ""
           },
           "baxis": {
            "gridcolor": "white",
            "linecolor": "white",
            "ticks": ""
           },
           "bgcolor": "#E5ECF6",
           "caxis": {
            "gridcolor": "white",
            "linecolor": "white",
            "ticks": ""
           }
          },
          "title": {
           "x": 0.05
          },
          "xaxis": {
           "automargin": true,
           "gridcolor": "white",
           "linecolor": "white",
           "ticks": "",
           "title": {
            "standoff": 15
           },
           "zerolinecolor": "white",
           "zerolinewidth": 2
          },
          "yaxis": {
           "automargin": true,
           "gridcolor": "white",
           "linecolor": "white",
           "ticks": "",
           "title": {
            "standoff": 15
           },
           "zerolinecolor": "white",
           "zerolinewidth": 2
          }
         }
        }
       }
      },
      "text/html": [
       "<div>                            <div id=\"df4dcf63-4de9-486e-a38e-e97385852b7b\" class=\"plotly-graph-div\" style=\"height:525px; width:100%;\"></div>            <script type=\"text/javascript\">                require([\"plotly\"], function(Plotly) {                    window.PLOTLYENV=window.PLOTLYENV || {};                                    if (document.getElementById(\"df4dcf63-4de9-486e-a38e-e97385852b7b\")) {                    Plotly.newPlot(                        \"df4dcf63-4de9-486e-a38e-e97385852b7b\",                        [{\"text\":\"right\",\"textposition\":\"auto\",\"type\":\"bar\",\"width\":0.1,\"x\":[\"On which\"],\"y\":[0.9252753795772551]},{\"text\":\"hand\",\"textposition\":\"auto\",\"type\":\"bar\",\"width\":0.1,\"x\":[\"On which\"],\"y\":[0.027984519202143496]},{\"text\":\"front\",\"textposition\":\"auto\",\"type\":\"bar\",\"width\":0.1,\"x\":[\"On which\"],\"y\":[0.01220601369455195]},{\"text\":\"side\",\"textposition\":\"auto\",\"type\":\"bar\",\"width\":0.1,\"x\":[\"On which\"],\"y\":[0.006251860672819291]},{\"text\":\"left\",\"textposition\":\"auto\",\"type\":\"bar\",\"width\":0.1,\"x\":[\"On which\"],\"y\":[0.005358737719559393]},{\"text\":\"back\",\"textposition\":\"auto\",\"type\":\"bar\",\"width\":0.1,\"x\":[\"On which\"],\"y\":[0.003870199464126228]},{\"text\":\"road\",\"textposition\":\"auto\",\"type\":\"bar\",\"width\":0.1,\"x\":[\"On which\"],\"y\":[0.0026793688597796963]},{\"text\":\"corner\",\"textposition\":\"auto\",\"type\":\"bar\",\"width\":0.1,\"x\":[\"On which\"],\"y\":[0.0020839535576064306]},{\"text\":\"opposite\",\"textposition\":\"auto\",\"type\":\"bar\",\"width\":0.1,\"x\":[\"On which\"],\"y\":[0.0020839535576064306]},{\"text\":\"leave\",\"textposition\":\"auto\",\"type\":\"bar\",\"width\":0.1,\"x\":[\"On which\"],\"y\":[0.0014885382554331646]},{\"text\":\"table\",\"textposition\":\"auto\",\"type\":\"bar\",\"width\":0.1,\"x\":[\"On which\"],\"y\":[0.0011908306043465317]},{\"text\":\"dining table\",\"textposition\":\"auto\",\"type\":\"bar\",\"width\":0.1,\"x\":[\"On which\"],\"y\":[0.0008931229532598987]},{\"text\":\"bed\",\"textposition\":\"auto\",\"type\":\"bar\",\"width\":0.1,\"x\":[\"On which\"],\"y\":[0.0008931229532598987]},{\"text\":\"mountain\",\"textposition\":\"auto\",\"type\":\"bar\",\"width\":0.1,\"x\":[\"On which\"],\"y\":[0.0005954153021732659]},{\"text\":\"pillar\",\"textposition\":\"auto\",\"type\":\"bar\",\"width\":0.1,\"x\":[\"On which\"],\"y\":[0.0005954153021732659]},{\"text\":\"ground\",\"textposition\":\"auto\",\"type\":\"bar\",\"width\":0.1,\"x\":[\"On which\"],\"y\":[0.0005954153021732659]},{\"text\":\"wall\",\"textposition\":\"auto\",\"type\":\"bar\",\"width\":0.1,\"x\":[\"On which\"],\"y\":[0.0005954153021732659]},{\"text\":\"roof\",\"textposition\":\"auto\",\"type\":\"bar\",\"width\":0.1,\"x\":[\"On which\"],\"y\":[0.00029770765108663293]},{\"text\":\"car\",\"textposition\":\"auto\",\"type\":\"bar\",\"width\":0.1,\"x\":[\"On which\"],\"y\":[0.00029770765108663293]},{\"text\":\"railway track\",\"textposition\":\"auto\",\"type\":\"bar\",\"width\":0.1,\"x\":[\"On which\"],\"y\":[0.00029770765108663293]},{\"text\":\"desk\",\"textposition\":\"auto\",\"type\":\"bar\",\"width\":0.1,\"x\":[\"On which\"],\"y\":[0.00029770765108663293]},{\"text\":\"cup\",\"textposition\":\"auto\",\"type\":\"bar\",\"width\":0.1,\"x\":[\"On which\"],\"y\":[0.00029770765108663293]},{\"text\":\"stair\",\"textposition\":\"auto\",\"type\":\"bar\",\"width\":0.1,\"x\":[\"On which\"],\"y\":[0.00029770765108663293]},{\"text\":\"countertop\",\"textposition\":\"auto\",\"type\":\"bar\",\"width\":0.1,\"x\":[\"On which\"],\"y\":[0.00029770765108663293]},{\"text\":\"frame\",\"textposition\":\"auto\",\"type\":\"bar\",\"width\":0.1,\"x\":[\"On which\"],\"y\":[0.00029770765108663293]},{\"text\":\"chair\",\"textposition\":\"auto\",\"type\":\"bar\",\"width\":0.1,\"x\":[\"On which\"],\"y\":[0.00029770765108663293]},{\"text\":\"window\",\"textposition\":\"auto\",\"type\":\"bar\",\"width\":0.1,\"x\":[\"On which\"],\"y\":[0.00029770765108663293]},{\"text\":\"washbasin\",\"textposition\":\"auto\",\"type\":\"bar\",\"width\":0.1,\"x\":[\"On which\"],\"y\":[0.00029770765108663293]},{\"text\":\"street\",\"textposition\":\"auto\",\"type\":\"bar\",\"width\":0.1,\"x\":[\"On which\"],\"y\":[0.00029770765108663293]},{\"text\":\"elevator\",\"textposition\":\"auto\",\"type\":\"bar\",\"width\":0.1,\"x\":[\"On which\"],\"y\":[0.00029770765108663293]},{\"text\":\"vase\",\"textposition\":\"auto\",\"type\":\"bar\",\"width\":0.1,\"x\":[\"On which\"],\"y\":[0.00029770765108663293]},{\"text\":\"way\",\"textposition\":\"auto\",\"type\":\"bar\",\"width\":0.1,\"x\":[\"On which\"],\"y\":[0.00029770765108663293]},{\"text\":\"stand\",\"textposition\":\"auto\",\"type\":\"bar\",\"width\":0.1,\"x\":[\"On which\"],\"y\":[0.00029770765108663293]},{\"text\":\"stool\",\"textposition\":\"auto\",\"type\":\"bar\",\"width\":0.1,\"x\":[\"On which\"],\"y\":[0.00029770765108663293]},{\"text\":\"middle\",\"textposition\":\"auto\",\"type\":\"bar\",\"width\":0.1,\"x\":[\"On which\"],\"y\":[0.00029770765108663293]}],                        {\"barmode\":\"stack\",\"template\":{\"data\":{\"bar\":[{\"error_x\":{\"color\":\"#2a3f5f\"},\"error_y\":{\"color\":\"#2a3f5f\"},\"marker\":{\"line\":{\"color\":\"#E5ECF6\",\"width\":0.5},\"pattern\":{\"fillmode\":\"overlay\",\"size\":10,\"solidity\":0.2}},\"type\":\"bar\"}],\"barpolar\":[{\"marker\":{\"line\":{\"color\":\"#E5ECF6\",\"width\":0.5},\"pattern\":{\"fillmode\":\"overlay\",\"size\":10,\"solidity\":0.2}},\"type\":\"barpolar\"}],\"carpet\":[{\"aaxis\":{\"endlinecolor\":\"#2a3f5f\",\"gridcolor\":\"white\",\"linecolor\":\"white\",\"minorgridcolor\":\"white\",\"startlinecolor\":\"#2a3f5f\"},\"baxis\":{\"endlinecolor\":\"#2a3f5f\",\"gridcolor\":\"white\",\"linecolor\":\"white\",\"minorgridcolor\":\"white\",\"startlinecolor\":\"#2a3f5f\"},\"type\":\"carpet\"}],\"choropleth\":[{\"colorbar\":{\"outlinewidth\":0,\"ticks\":\"\"},\"type\":\"choropleth\"}],\"contour\":[{\"colorbar\":{\"outlinewidth\":0,\"ticks\":\"\"},\"colorscale\":[[0.0,\"#0d0887\"],[0.1111111111111111,\"#46039f\"],[0.2222222222222222,\"#7201a8\"],[0.3333333333333333,\"#9c179e\"],[0.4444444444444444,\"#bd3786\"],[0.5555555555555556,\"#d8576b\"],[0.6666666666666666,\"#ed7953\"],[0.7777777777777778,\"#fb9f3a\"],[0.8888888888888888,\"#fdca26\"],[1.0,\"#f0f921\"]],\"type\":\"contour\"}],\"contourcarpet\":[{\"colorbar\":{\"outlinewidth\":0,\"ticks\":\"\"},\"type\":\"contourcarpet\"}],\"heatmap\":[{\"colorbar\":{\"outlinewidth\":0,\"ticks\":\"\"},\"colorscale\":[[0.0,\"#0d0887\"],[0.1111111111111111,\"#46039f\"],[0.2222222222222222,\"#7201a8\"],[0.3333333333333333,\"#9c179e\"],[0.4444444444444444,\"#bd3786\"],[0.5555555555555556,\"#d8576b\"],[0.6666666666666666,\"#ed7953\"],[0.7777777777777778,\"#fb9f3a\"],[0.8888888888888888,\"#fdca26\"],[1.0,\"#f0f921\"]],\"type\":\"heatmap\"}],\"heatmapgl\":[{\"colorbar\":{\"outlinewidth\":0,\"ticks\":\"\"},\"colorscale\":[[0.0,\"#0d0887\"],[0.1111111111111111,\"#46039f\"],[0.2222222222222222,\"#7201a8\"],[0.3333333333333333,\"#9c179e\"],[0.4444444444444444,\"#bd3786\"],[0.5555555555555556,\"#d8576b\"],[0.6666666666666666,\"#ed7953\"],[0.7777777777777778,\"#fb9f3a\"],[0.8888888888888888,\"#fdca26\"],[1.0,\"#f0f921\"]],\"type\":\"heatmapgl\"}],\"histogram\":[{\"marker\":{\"pattern\":{\"fillmode\":\"overlay\",\"size\":10,\"solidity\":0.2}},\"type\":\"histogram\"}],\"histogram2d\":[{\"colorbar\":{\"outlinewidth\":0,\"ticks\":\"\"},\"colorscale\":[[0.0,\"#0d0887\"],[0.1111111111111111,\"#46039f\"],[0.2222222222222222,\"#7201a8\"],[0.3333333333333333,\"#9c179e\"],[0.4444444444444444,\"#bd3786\"],[0.5555555555555556,\"#d8576b\"],[0.6666666666666666,\"#ed7953\"],[0.7777777777777778,\"#fb9f3a\"],[0.8888888888888888,\"#fdca26\"],[1.0,\"#f0f921\"]],\"type\":\"histogram2d\"}],\"histogram2dcontour\":[{\"colorbar\":{\"outlinewidth\":0,\"ticks\":\"\"},\"colorscale\":[[0.0,\"#0d0887\"],[0.1111111111111111,\"#46039f\"],[0.2222222222222222,\"#7201a8\"],[0.3333333333333333,\"#9c179e\"],[0.4444444444444444,\"#bd3786\"],[0.5555555555555556,\"#d8576b\"],[0.6666666666666666,\"#ed7953\"],[0.7777777777777778,\"#fb9f3a\"],[0.8888888888888888,\"#fdca26\"],[1.0,\"#f0f921\"]],\"type\":\"histogram2dcontour\"}],\"mesh3d\":[{\"colorbar\":{\"outlinewidth\":0,\"ticks\":\"\"},\"type\":\"mesh3d\"}],\"parcoords\":[{\"line\":{\"colorbar\":{\"outlinewidth\":0,\"ticks\":\"\"}},\"type\":\"parcoords\"}],\"pie\":[{\"automargin\":true,\"type\":\"pie\"}],\"scatter\":[{\"marker\":{\"colorbar\":{\"outlinewidth\":0,\"ticks\":\"\"}},\"type\":\"scatter\"}],\"scatter3d\":[{\"line\":{\"colorbar\":{\"outlinewidth\":0,\"ticks\":\"\"}},\"marker\":{\"colorbar\":{\"outlinewidth\":0,\"ticks\":\"\"}},\"type\":\"scatter3d\"}],\"scattercarpet\":[{\"marker\":{\"colorbar\":{\"outlinewidth\":0,\"ticks\":\"\"}},\"type\":\"scattercarpet\"}],\"scattergeo\":[{\"marker\":{\"colorbar\":{\"outlinewidth\":0,\"ticks\":\"\"}},\"type\":\"scattergeo\"}],\"scattergl\":[{\"marker\":{\"colorbar\":{\"outlinewidth\":0,\"ticks\":\"\"}},\"type\":\"scattergl\"}],\"scattermapbox\":[{\"marker\":{\"colorbar\":{\"outlinewidth\":0,\"ticks\":\"\"}},\"type\":\"scattermapbox\"}],\"scatterpolar\":[{\"marker\":{\"colorbar\":{\"outlinewidth\":0,\"ticks\":\"\"}},\"type\":\"scatterpolar\"}],\"scatterpolargl\":[{\"marker\":{\"colorbar\":{\"outlinewidth\":0,\"ticks\":\"\"}},\"type\":\"scatterpolargl\"}],\"scatterternary\":[{\"marker\":{\"colorbar\":{\"outlinewidth\":0,\"ticks\":\"\"}},\"type\":\"scatterternary\"}],\"surface\":[{\"colorbar\":{\"outlinewidth\":0,\"ticks\":\"\"},\"colorscale\":[[0.0,\"#0d0887\"],[0.1111111111111111,\"#46039f\"],[0.2222222222222222,\"#7201a8\"],[0.3333333333333333,\"#9c179e\"],[0.4444444444444444,\"#bd3786\"],[0.5555555555555556,\"#d8576b\"],[0.6666666666666666,\"#ed7953\"],[0.7777777777777778,\"#fb9f3a\"],[0.8888888888888888,\"#fdca26\"],[1.0,\"#f0f921\"]],\"type\":\"surface\"}],\"table\":[{\"cells\":{\"fill\":{\"color\":\"#EBF0F8\"},\"line\":{\"color\":\"white\"}},\"header\":{\"fill\":{\"color\":\"#C8D4E3\"},\"line\":{\"color\":\"white\"}},\"type\":\"table\"}]},\"layout\":{\"annotationdefaults\":{\"arrowcolor\":\"#2a3f5f\",\"arrowhead\":0,\"arrowwidth\":1},\"autotypenumbers\":\"strict\",\"coloraxis\":{\"colorbar\":{\"outlinewidth\":0,\"ticks\":\"\"}},\"colorscale\":{\"diverging\":[[0,\"#8e0152\"],[0.1,\"#c51b7d\"],[0.2,\"#de77ae\"],[0.3,\"#f1b6da\"],[0.4,\"#fde0ef\"],[0.5,\"#f7f7f7\"],[0.6,\"#e6f5d0\"],[0.7,\"#b8e186\"],[0.8,\"#7fbc41\"],[0.9,\"#4d9221\"],[1,\"#276419\"]],\"sequential\":[[0.0,\"#0d0887\"],[0.1111111111111111,\"#46039f\"],[0.2222222222222222,\"#7201a8\"],[0.3333333333333333,\"#9c179e\"],[0.4444444444444444,\"#bd3786\"],[0.5555555555555556,\"#d8576b\"],[0.6666666666666666,\"#ed7953\"],[0.7777777777777778,\"#fb9f3a\"],[0.8888888888888888,\"#fdca26\"],[1.0,\"#f0f921\"]],\"sequentialminus\":[[0.0,\"#0d0887\"],[0.1111111111111111,\"#46039f\"],[0.2222222222222222,\"#7201a8\"],[0.3333333333333333,\"#9c179e\"],[0.4444444444444444,\"#bd3786\"],[0.5555555555555556,\"#d8576b\"],[0.6666666666666666,\"#ed7953\"],[0.7777777777777778,\"#fb9f3a\"],[0.8888888888888888,\"#fdca26\"],[1.0,\"#f0f921\"]]},\"colorway\":[\"#636efa\",\"#EF553B\",\"#00cc96\",\"#ab63fa\",\"#FFA15A\",\"#19d3f3\",\"#FF6692\",\"#B6E880\",\"#FF97FF\",\"#FECB52\"],\"font\":{\"color\":\"#2a3f5f\"},\"geo\":{\"bgcolor\":\"white\",\"lakecolor\":\"white\",\"landcolor\":\"#E5ECF6\",\"showlakes\":true,\"showland\":true,\"subunitcolor\":\"white\"},\"hoverlabel\":{\"align\":\"left\"},\"hovermode\":\"closest\",\"mapbox\":{\"style\":\"light\"},\"paper_bgcolor\":\"white\",\"plot_bgcolor\":\"#E5ECF6\",\"polar\":{\"angularaxis\":{\"gridcolor\":\"white\",\"linecolor\":\"white\",\"ticks\":\"\"},\"bgcolor\":\"#E5ECF6\",\"radialaxis\":{\"gridcolor\":\"white\",\"linecolor\":\"white\",\"ticks\":\"\"}},\"scene\":{\"xaxis\":{\"backgroundcolor\":\"#E5ECF6\",\"gridcolor\":\"white\",\"gridwidth\":2,\"linecolor\":\"white\",\"showbackground\":true,\"ticks\":\"\",\"zerolinecolor\":\"white\"},\"yaxis\":{\"backgroundcolor\":\"#E5ECF6\",\"gridcolor\":\"white\",\"gridwidth\":2,\"linecolor\":\"white\",\"showbackground\":true,\"ticks\":\"\",\"zerolinecolor\":\"white\"},\"zaxis\":{\"backgroundcolor\":\"#E5ECF6\",\"gridcolor\":\"white\",\"gridwidth\":2,\"linecolor\":\"white\",\"showbackground\":true,\"ticks\":\"\",\"zerolinecolor\":\"white\"}},\"shapedefaults\":{\"line\":{\"color\":\"#2a3f5f\"}},\"ternary\":{\"aaxis\":{\"gridcolor\":\"white\",\"linecolor\":\"white\",\"ticks\":\"\"},\"baxis\":{\"gridcolor\":\"white\",\"linecolor\":\"white\",\"ticks\":\"\"},\"bgcolor\":\"#E5ECF6\",\"caxis\":{\"gridcolor\":\"white\",\"linecolor\":\"white\",\"ticks\":\"\"}},\"title\":{\"x\":0.05},\"xaxis\":{\"automargin\":true,\"gridcolor\":\"white\",\"linecolor\":\"white\",\"ticks\":\"\",\"title\":{\"standoff\":15},\"zerolinecolor\":\"white\",\"zerolinewidth\":2},\"yaxis\":{\"automargin\":true,\"gridcolor\":\"white\",\"linecolor\":\"white\",\"ticks\":\"\",\"title\":{\"standoff\":15},\"zerolinecolor\":\"white\",\"zerolinewidth\":2}}}},                        {\"responsive\": true}                    ).then(function(){\n",
       "                            \n",
       "var gd = document.getElementById('df4dcf63-4de9-486e-a38e-e97385852b7b');\n",
       "var x = new MutationObserver(function (mutations, observer) {{\n",
       "        var display = window.getComputedStyle(gd).display;\n",
       "        if (!display || display === 'none') {{\n",
       "            console.log([gd, 'removed!']);\n",
       "            Plotly.purge(gd);\n",
       "            observer.disconnect();\n",
       "        }}\n",
       "}});\n",
       "\n",
       "// Listen for the removal of the full notebook cells\n",
       "var notebookContainer = gd.closest('#notebook-container');\n",
       "if (notebookContainer) {{\n",
       "    x.observe(notebookContainer, {childList: true});\n",
       "}}\n",
       "\n",
       "// Listen for the clearing of the current output cell\n",
       "var outputEl = gd.closest('.output');\n",
       "if (outputEl) {{\n",
       "    x.observe(outputEl, {childList: true});\n",
       "}}\n",
       "\n",
       "                        })                };                });            </script>        </div>"
      ]
     },
     "metadata": {},
     "output_type": "display_data"
    }
   ],
   "source": [
    "draw_qa_bar('On which')"
   ]
  },
  {
   "cell_type": "code",
   "execution_count": null,
   "metadata": {},
   "outputs": [],
   "source": []
  }
 ],
 "metadata": {
  "kernelspec": {
   "display_name": "Python 3",
   "language": "python",
   "name": "python3"
  },
  "language_info": {
   "codemirror_mode": {
    "name": "ipython",
    "version": 3
   },
   "file_extension": ".py",
   "mimetype": "text/x-python",
   "name": "python",
   "nbconvert_exporter": "python",
   "pygments_lexer": "ipython3",
   "version": "3.7.3"
  }
 },
 "nbformat": 4,
 "nbformat_minor": 5
}
