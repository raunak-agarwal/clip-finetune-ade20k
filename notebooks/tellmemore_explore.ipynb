{
 "cells": [
  {
   "cell_type": "code",
   "execution_count": 7,
   "metadata": {},
   "outputs": [],
   "source": [
    "import pandas as pd\n",
    "import nltk\n",
    "from nltk.tokenize import wordpunct_tokenize\n",
    "import numpy as np\n",
    "\n",
    "df = pd.read_csv('./tellmemore/sequences.csv', delimiter='\\t')"
   ]
  },
  {
   "cell_type": "code",
   "execution_count": 12,
   "metadata": {},
   "outputs": [],
   "source": [
    "df.head()\n",
    "df['caption'] = df['d1'] + ' ' + df['d2'] + ' ' + df['d3'] + ' ' + df['d4'] + ' ' + df['d5']"
   ]
  },
  {
   "cell_type": "code",
   "execution_count": 13,
   "metadata": {},
   "outputs": [
    {
     "data": {
      "text/plain": [
       "0       There is four chair red laquer dining set show...\n",
       "1       basement water heater green tile cinder block ...\n",
       "2       A child's bedroom. With a desk. A large stuffe...\n",
       "3       There is a child's table set on the right. The...\n",
       "4       This is a bedroom There are clothes on hangers...\n",
       "5       It is a formal dining room with a lot of decor...\n",
       "6       This room has a very busy hanging on the wall....\n",
       "7       You are in a bathroom and can see the sink, tu...\n",
       "8       This is a small bedroom. The bed has a red and...\n",
       "9       It's a picture of a contemporary white bathroo...\n",
       "10      People sleep here. The bed is medium sized and...\n",
       "11      bed room pink bed spread red curtains towels o...\n",
       "12      There is a hallway with stairs. There is a blu...\n",
       "13      On the left of the image there's a green leafy...\n",
       "14      It is an image of a large spacious bathroom Th...\n",
       "15      The image is a narrow galley style kitchen wit...\n",
       "16      An entryway with a staircase and grand piano. ...\n",
       "17      This is a picture of an alley kitchen. There i...\n",
       "18      A small bathroom with gold trim around the sho...\n",
       "19      This is a really small kitchen There is a smal...\n",
       "20      This is a bedroom in mainly white There is a d...\n",
       "21      It is an office with 3 monitors. Those monitor...\n",
       "22      I am looking at what appears to be a dining se...\n",
       "23      there is a pantry in the kitchen there is a wh...\n",
       "24      There is a room with empty cages in it. There ...\n",
       "25      This is a bedroom. There is a plain, wood bed ...\n",
       "26      Mostly this room is a bed. There is a lamp on ...\n",
       "27      There is a table to the bottom right. There is...\n",
       "28      This is a kitchen dining room combination. The...\n",
       "29      This is a nursery room There is a small blue r...\n",
       "                              ...                        \n",
       "5672    This is a bedroom with white walls and trim Th...\n",
       "5673    This is a bedroom with white walls and a woman...\n",
       "5674    There is a large bed with white covers in this...\n",
       "5675    There are yelllow/ gold walls there is a chand...\n",
       "5676    A purple dining room! The walls are lilac with...\n",
       "5677    A bright white bedroom with two twin white bed...\n",
       "5678    The room is kind of plain It has a blue bed sp...\n",
       "5679    The room has wooden walls. The door is wooden ...\n",
       "5680    wow that room is spacious It has a lot of wind...\n",
       "5681    A mostly white kitchen with a black faced whit...\n",
       "5682    This is a small bedroom with light green walls...\n",
       "5683    A bedroom with a high ceiling and two single b...\n",
       "5684    This is a close up of a bed. The bed has a wic...\n",
       "5685    This appears to be a church with large stained...\n",
       "5686    This is medium sized bedroom with dark peachy ...\n",
       "5687    This is a bedroom area with a tray ceiling. Th...\n",
       "5688    This is a bedroom with light yellow colored wa...\n",
       "5689    This is a bedroom with a beige accent wall. Th...\n",
       "5690    This is a corner in a childs room. The wall is...\n",
       "5691    This is a white bedroom with a tall ceiling. T...\n",
       "5692    It's an all white room with 2 twin beds. There...\n",
       "5693    There is a large bed in the back right corner ...\n",
       "5694    This is a bedroom with beige painted walls. Th...\n",
       "5695    An upstairs storage area with a rocking horse ...\n",
       "5696    This looks to be a formal living area in a hom...\n",
       "5697    This is a white bedroom with white walls and w...\n",
       "5698    This looks like a family room in a lodge. Ther...\n",
       "5699    This is a modern looking bedroom with a platfo...\n",
       "5700    This is a bedroom area with yellow walls and a...\n",
       "5701    This is a bedroom with wood accent furniture. ...\n",
       "Name: caption, Length: 5702, dtype: object"
      ]
     },
     "execution_count": 13,
     "metadata": {},
     "output_type": "execute_result"
    }
   ],
   "source": [
    "df['caption']"
   ]
  },
  {
   "cell_type": "code",
   "execution_count": 14,
   "metadata": {},
   "outputs": [
    {
     "name": "stdout",
     "output_type": "stream",
     "text": [
      "Total tokens:  303452\n",
      "Total unique tokens:  5447\n",
      "Avg. no. of tokens:  53.218519817607856\n",
      "Avg. no. of characters:  247.2898982813048\n"
     ]
    }
   ],
   "source": [
    "lines = df.caption.to_list()\n",
    "\n",
    "tokens = []\n",
    "tokens.extend([w.lower() for line in lines for w in wordpunct_tokenize(line)])\n",
    "print(\"Total tokens: \", len(tokens))\n",
    "print(\"Total unique tokens: \", len(set(tokens))) #Total unique tokens\n",
    "\n",
    "print(\"Avg. no. of tokens: \", \\\n",
    "      np.mean([len(wordpunct_tokenize(i)) for i in lines])) #Average number of tokens in the training set\n",
    "\n",
    "print(\"Avg. no. of characters: \",\\\n",
    "      np.mean([len(i) for i in lines])) #Average sequence length\n"
   ]
  },
  {
   "cell_type": "code",
   "execution_count": null,
   "metadata": {},
   "outputs": [],
   "source": []
  }
 ],
 "metadata": {
  "kernelspec": {
   "display_name": "Python 3",
   "language": "python",
   "name": "python3"
  },
  "language_info": {
   "codemirror_mode": {
    "name": "ipython",
    "version": 3
   },
   "file_extension": ".py",
   "mimetype": "text/x-python",
   "name": "python",
   "nbconvert_exporter": "python",
   "pygments_lexer": "ipython3",
   "version": "3.7.3"
  }
 },
 "nbformat": 4,
 "nbformat_minor": 5
}
